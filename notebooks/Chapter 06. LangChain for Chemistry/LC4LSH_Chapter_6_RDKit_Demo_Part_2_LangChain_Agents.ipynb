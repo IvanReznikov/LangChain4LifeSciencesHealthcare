{
 "cells": [
  {
   "cell_type": "markdown",
   "id": "8fd820e5",
   "metadata": {
    "id": "8fd820e5"
   },
   "source": [
    "## Code to Chapter 6 of LangChain for Life Science and Healthcare book, by Dr. Ivan Reznikov\n",
    "\n",
    "[![Open In Colab](https://colab.research.google.com/assets/colab-badge.svg)](https://colab.research.google.com/drive/1CIIZ4cGrO7hX1tvby3K-nr4A5qUMaO7P?usp=sharing)\n",
    "\n",
    "## Building a Langchain App with RDKit Integrations\n",
    "This notebook demonstrates how to build intelligent chemical analysis applications by combining:\n",
    "- **LangChain**: Framework for developing applications with language models\n",
    "- **RDKit**: Open-source cheminformatics toolkit for molecular analysis\n",
    "- **OpenAI GPT Models**: For natural language understanding and reasoning\n",
    "\n",
    "### Learning Objectives\n",
    "- Compare different LLM approaches (vanilla vs augmented with tools)\n",
    "- Understand how to create custom LangChain tools\n",
    "- Learn to build retrieval-augmented generation (RAG) systems\n",
    "- Explore agent architectures for scientific applications\n",
    "\n",
    "We will address the following queries using RDKit:\n",
    "\n",
    "1. **Determining Molecular Formula**: We start by examining the provided SMILES notation and use RDKit to calculate its molecular formula. The question at hand is, \"What is the formula of this compound?\"\n",
    "\n",
    "2. **Calculate Molecular Weight**: We'll need to calculate the exact molecular weight of the molecule.\n",
    "\n",
    "3. **Generating a 2D Representation**: RDKit allows us to visualize chemical structures in two dimensions. We will employ RDKit to create a 2D representation of the given SMILES notation and complete the query, \"Can you draw a 2D representation of this compound?\"\n",
    "\n",
    "4. **Creating a 3D Visualization**: Taking it a step further, we utilize RDKit to generate a 3D representation of the molecule described by the SMILES notation. We will answer the query, \"Can you provide a 3D visualization of this compound?\""
   ]
  },
  {
   "cell_type": "markdown",
   "source": [
    "### Approaches:\n",
    "- **Traditional Approach**: General LLM + Chemical Tools (ChemCrow, Cactus)\n",
    "- **Specialized Approach**: Chemistry-Trained LLM (LLM4Chem)\n",
    "\n",
    "To accomplish these tasks, we will employ various techniques and resources:\n",
    "\n",
    "- **Strategies 1a & 1b: `ChemCrow` and `Cactus` Libraries**: We'll make use of the ChemCrow library, a Generative AI cheminformatics python package.\n",
    "\n",
    "- **Strategy 1c: `LlaSMol-Llama2-7B` Large Language Model**: We'll make use of the specialized chemistry Large Language Model.\n",
    "\n",
    "- [**Strategy 2: LLM (GPT3.5 + GPT4o) Integration**](#strategy_2): We will leverage the capabilities of GPT3.5 and GPT-4o, a state-of-the-art language models, to answer the questions and display results.\n",
    "\n",
    "- [**Strategy 3: LCEL Chain (GPT3.5 + GPT4o) Integration**](#strategy_3): We will leverage using LangChain chains, including prompting.\n",
    "\n",
    "- [**Strategy 4: Langchain + Custom Function Development**](#strategy_4): We will develop our own custom functions, dedicated to complete the queries of our interest.\n",
    "\n",
    "- [**Strategy 5: Langchain + RDKit Documentation**](#strategy_5): We will explore Langchain agents to generate and run code snippets based on extracted RDKit documentation.\n",
    "\n",
    "By the end of this notebook, we aim to have a fully functional Langchain application with RDKit integrations that can answer chemical-related queries with ease.\n",
    "\n",
    "***Disclaimer:** Notebook results may vary slightly with each execution.*"
   ],
   "metadata": {
    "id": "kdiXyqfhzavA"
   },
   "id": "kdiXyqfhzavA"
  },
  {
   "cell_type": "markdown",
   "source": [
    "## Installing Required Packages\n",
    "\n",
    "First, we install all necessary dependencies. Note the specific version pinning\n",
    "to ensure reproducibility across different environments.\n",
    "\n",
    "### Package Explanations:\n",
    "- **rdkit**: Core cheminformatics library for molecular analysis\n",
    "- **langchain**: Main framework for building LLM applications  \n",
    "- **langchain_openai**: OpenAI integration for LangChain\n",
    "- **py3Dmol**: 3D molecular visualization in Jupyter notebooks\n",
    "- **faiss-cpu**: Vector similarity search for RAG implementation"
   ],
   "metadata": {
    "id": "flOzJD3celqK"
   },
   "id": "flOzJD3celqK"
  },
  {
   "cell_type": "code",
   "execution_count": null,
   "id": "1d665b3a",
   "metadata": {
    "colab": {
     "base_uri": "https://localhost:8080/"
    },
    "id": "1d665b3a",
    "outputId": "9cf28590-0c7c-45fa-9e6e-40e79362f714",
    "executionInfo": {
     "status": "ok",
     "timestamp": 1753014860122,
     "user_tz": -240,
     "elapsed": 35927,
     "user": {
      "displayName": "Ivan Reznikov",
      "userId": "03906939862966425294"
     }
    }
   },
   "outputs": [
    {
     "output_type": "stream",
     "name": "stdout",
     "text": [
      "\u001b[2K     \u001b[90m\u2501\u2501\u2501\u2501\u2501\u2501\u2501\u2501\u2501\u2501\u2501\u2501\u2501\u2501\u2501\u2501\u2501\u2501\u2501\u2501\u2501\u2501\u2501\u2501\u2501\u2501\u2501\u2501\u2501\u2501\u2501\u2501\u2501\u2501\u2501\u2501\u2501\u2501\u2501\u2501\u001b[0m \u001b[32m61.0/61.0 kB\u001b[0m \u001b[31m4.0 MB/s\u001b[0m eta \u001b[36m0:00:00\u001b[0m\n",
      "\u001b[2K   \u001b[90m\u2501\u2501\u2501\u2501\u2501\u2501\u2501\u2501\u2501\u2501\u2501\u2501\u2501\u2501\u2501\u2501\u2501\u2501\u2501\u2501\u2501\u2501\u2501\u2501\u2501\u2501\u2501\u2501\u2501\u2501\u2501\u2501\u2501\u2501\u2501\u2501\u2501\u2501\u2501\u2501\u001b[0m \u001b[32m18.3/18.3 MB\u001b[0m \u001b[31m40.7 MB/s\u001b[0m eta \u001b[36m0:00:00\u001b[0m\n",
      "\u001b[?25h\u001b[31mERROR: pip's dependency resolver does not currently take into account all the packages that are installed. This behaviour is the source of the following dependency conflicts.\n",
      "opencv-python-headless 4.12.0.88 requires numpy<2.3.0,>=2; python_version >= \"3.9\", but you have numpy 1.26.4 which is incompatible.\n",
      "thinc 8.3.6 requires numpy<3.0.0,>=2.0.0, but you have numpy 1.26.4 which is incompatible.\u001b[0m\u001b[31m\n",
      "\u001b[2K   \u001b[90m\u2501\u2501\u2501\u2501\u2501\u2501\u2501\u2501\u2501\u2501\u2501\u2501\u2501\u2501\u2501\u2501\u2501\u2501\u2501\u2501\u2501\u2501\u2501\u2501\u2501\u2501\u2501\u2501\u2501\u2501\u2501\u2501\u2501\u2501\u2501\u2501\u2501\u2501\u2501\u2501\u001b[0m \u001b[32m34.9/34.9 MB\u001b[0m \u001b[31m52.4 MB/s\u001b[0m eta \u001b[36m0:00:00\u001b[0m\n",
      "\u001b[2K   \u001b[90m\u2501\u2501\u2501\u2501\u2501\u2501\u2501\u2501\u2501\u2501\u2501\u2501\u2501\u2501\u2501\u2501\u2501\u2501\u2501\u2501\u2501\u2501\u2501\u2501\u2501\u2501\u2501\u2501\u2501\u2501\u2501\u2501\u2501\u2501\u2501\u2501\u2501\u2501\u2501\u2501\u001b[0m \u001b[32m70.6/70.6 kB\u001b[0m \u001b[31m5.0 MB/s\u001b[0m eta \u001b[36m0:00:00\u001b[0m\n",
      "\u001b[2K   \u001b[90m\u2501\u2501\u2501\u2501\u2501\u2501\u2501\u2501\u2501\u2501\u2501\u2501\u2501\u2501\u2501\u2501\u2501\u2501\u2501\u2501\u2501\u2501\u2501\u2501\u2501\u2501\u2501\u2501\u2501\u2501\u2501\u2501\u2501\u2501\u2501\u2501\u2501\u2501\u2501\u2501\u001b[0m \u001b[32m209.2/209.2 kB\u001b[0m \u001b[31m13.7 MB/s\u001b[0m eta \u001b[36m0:00:00\u001b[0m\n",
      "\u001b[2K   \u001b[90m\u2501\u2501\u2501\u2501\u2501\u2501\u2501\u2501\u2501\u2501\u2501\u2501\u2501\u2501\u2501\u2501\u2501\u2501\u2501\u2501\u2501\u2501\u2501\u2501\u2501\u2501\u2501\u2501\u2501\u2501\u2501\u2501\u2501\u2501\u2501\u2501\u2501\u2501\u2501\u2501\u001b[0m \u001b[32m2.5/2.5 MB\u001b[0m \u001b[31m88.3 MB/s\u001b[0m eta \u001b[36m0:00:00\u001b[0m\n",
      "\u001b[2K   \u001b[90m\u2501\u2501\u2501\u2501\u2501\u2501\u2501\u2501\u2501\u2501\u2501\u2501\u2501\u2501\u2501\u2501\u2501\u2501\u2501\u2501\u2501\u2501\u2501\u2501\u2501\u2501\u2501\u2501\u2501\u2501\u2501\u2501\u2501\u2501\u2501\u2501\u2501\u2501\u2501\u2501\u001b[0m \u001b[32m31.3/31.3 MB\u001b[0m \u001b[31m23.8 MB/s\u001b[0m eta \u001b[36m0:00:00\u001b[0m\n",
      "\u001b[2K   \u001b[90m\u2501\u2501\u2501\u2501\u2501\u2501\u2501\u2501\u2501\u2501\u2501\u2501\u2501\u2501\u2501\u2501\u2501\u2501\u2501\u2501\u2501\u2501\u2501\u2501\u2501\u2501\u2501\u2501\u2501\u2501\u2501\u2501\u2501\u2501\u2501\u2501\u2501\u2501\u2501\u2501\u001b[0m \u001b[32m65.5/65.5 kB\u001b[0m \u001b[31m5.2 MB/s\u001b[0m eta \u001b[36m0:00:00\u001b[0m\n",
      "\u001b[2K   \u001b[90m\u2501\u2501\u2501\u2501\u2501\u2501\u2501\u2501\u2501\u2501\u2501\u2501\u2501\u2501\u2501\u2501\u2501\u2501\u2501\u2501\u2501\u2501\u2501\u2501\u2501\u2501\u2501\u2501\u2501\u2501\u2501\u2501\u2501\u2501\u2501\u2501\u2501\u2501\u2501\u2501\u001b[0m \u001b[32m45.2/45.2 kB\u001b[0m \u001b[31m3.1 MB/s\u001b[0m eta \u001b[36m0:00:00\u001b[0m\n",
      "\u001b[2K   \u001b[90m\u2501\u2501\u2501\u2501\u2501\u2501\u2501\u2501\u2501\u2501\u2501\u2501\u2501\u2501\u2501\u2501\u2501\u2501\u2501\u2501\u2501\u2501\u2501\u2501\u2501\u2501\u2501\u2501\u2501\u2501\u2501\u2501\u2501\u2501\u2501\u2501\u2501\u2501\u2501\u2501\u001b[0m \u001b[32m50.9/50.9 kB\u001b[0m \u001b[31m3.8 MB/s\u001b[0m eta \u001b[36m0:00:00\u001b[0m\n",
      "\u001b[?25h\u001b[31mERROR: pip's dependency resolver does not currently take into account all the packages that are installed. This behaviour is the source of the following dependency conflicts.\n",
      "thinc 8.3.6 requires numpy<3.0.0,>=2.0.0, but you have numpy 1.26.4 which is incompatible.\u001b[0m\u001b[31m\n",
      "\u001b[0m"
     ]
    }
   ],
   "source": [
    "!pip install -q numpy==1.26.4\n",
    "!pip install -q rdkit==2023.9.6 langchain langchain_openai langchainhub langchain_experimental langchain_community langsmith py3Dmol faiss-cpu"
   ]
  },
  {
   "cell_type": "code",
   "execution_count": null,
   "id": "2fDIJM7jGyTe",
   "metadata": {
    "colab": {
     "base_uri": "https://localhost:8080/"
    },
    "id": "2fDIJM7jGyTe",
    "outputId": "b3a31c37-a0ef-4caf-e49c-6d16d82c00d5",
    "executionInfo": {
     "status": "ok",
     "timestamp": 1753014861836,
     "user_tz": -240,
     "elapsed": 1718,
     "user": {
      "displayName": "Ivan Reznikov",
      "userId": "03906939862966425294"
     }
    }
   },
   "outputs": [
    {
     "output_type": "stream",
     "name": "stdout",
     "text": [
      "faiss-cpu==1.11.0.post1\n",
      "google-ai-generativelanguage==0.6.15\n",
      "google-cloud-language==2.17.2\n",
      "langchain==0.3.26\n",
      "langchain-community==0.3.27\n",
      "langchain-core==0.3.69\n",
      "langchain-experimental==0.3.4\n",
      "langchain-openai==0.3.28\n",
      "langchain-text-splitters==0.3.8\n",
      "langchainhub==0.1.21\n",
      "langcodes==3.5.0\n",
      "langsmith==0.4.6\n",
      "language_data==1.3.0\n",
      "libclang==18.1.1\n",
      "numpy==1.26.4\n",
      "openai==1.96.1\n",
      "rdkit==2023.9.6\n"
     ]
    }
   ],
   "source": [
    "!pip freeze | grep \"lang\\|openai\\|rdkit\\|faiss\\|numpy\""
   ]
  },
  {
   "cell_type": "code",
   "execution_count": null,
   "id": "88a80030",
   "metadata": {
    "id": "88a80030"
   },
   "outputs": [],
   "source": [
    "import logging\n",
    "\n",
    "logging.getLogger().setLevel(logging.CRITICAL)"
   ]
  },
  {
   "cell_type": "code",
   "execution_count": null,
   "id": "jleQIByksq7d",
   "metadata": {
    "id": "jleQIByksq7d"
   },
   "outputs": [],
   "source": [
    "from google.colab import userdata\n",
    "import os\n",
    "# Set OpenAI API key from Google Colab's user environment or default\n",
    "def set_api_keys(default_openai_key: str = \"YOUR_API_KEY\", default_tavily_key: str = \"YOUR_API_KEY\") -> None:\n",
    "    \"\"\"Set the OpenAI API key from Google Colab's user environment or use a default value.\"\"\"\n",
    "\n",
    "    os.environ[\"OPENAI_API_KEY\"] = userdata.get(\"LC4LS_OPENAI_API_KEY\") or default_openai_key\n",
    "\n",
    "set_api_keys()\n",
    "os.environ[\"LANGCHAIN_TRACING_V2\"]=\"true\"\n",
    "os.environ[\"LANGCHAIN_PROJECT\"]=\"lc4ls-ch6-chemical-queries\"\n",
    "os.environ[\"LANGCHAIN_API_KEY\"] = userdata.get(\"LANGCHAIN_API_KEY\")"
   ]
  },
  {
   "cell_type": "markdown",
   "source": [
    "## OpenAI Handler Class\n",
    "\n",
    "This utility class simplifies working with different OpenAI models and provides\n",
    "consistent configuration across our experiments."
   ],
   "metadata": {
    "id": "iBRaeBErezqF"
   },
   "id": "iBRaeBErezqF"
  },
  {
   "cell_type": "code",
   "execution_count": null,
   "id": "115968f5",
   "metadata": {
    "id": "115968f5"
   },
   "outputs": [],
   "source": [
    "import os\n",
    "from langchain_openai.chat_models import ChatOpenAI\n",
    "from langchain_openai.embeddings import OpenAIEmbeddings\n",
    "from langchain_community.vectorstores import FAISS\n",
    "from langchain_core.documents import Document\n",
    "from langchain_core.prompts import PromptTemplate, ChatPromptTemplate\n",
    "from langchain_core.tracers.stdout import ConsoleCallbackHandler\n",
    "\n",
    "class OpenAIHandler:\n",
    "    \"\"\"\n",
    "    Centralized handler for OpenAI model interactions with consistent configuration.\n",
    "\n",
    "    This class encapsulates all OpenAI-related setup and provides methods for:\n",
    "    - Chat model initialization with different configurations\n",
    "    - Embedding model setup for vector operations\n",
    "    - LCEL chain creation for structured prompting\n",
    "    \"\"\"\n",
    "\n",
    "    def __init__(\n",
    "        self,\n",
    "        api_key=None,\n",
    "        model=\"gpt-3.5-turbo\",\n",
    "        embedding_model=\"text-embedding-3-large\",\n",
    "        verbose=True,\n",
    "        temperature=0,\n",
    "        callback=False,\n",
    "    ):\n",
    "        \"\"\"\n",
    "        Initialize OpenAI handler with specified configuration.\n",
    "\n",
    "        Args:\n",
    "            api_key: OpenAI API key (uses environment variable if None)\n",
    "            model: Chat model to use (e.g., 'gpt-3.5-turbo', 'gpt-4o-mini')\n",
    "            embedding_model: Model for generating embeddings\n",
    "            verbose: Whether to enable verbose logging\n",
    "            temperature: Sampling temperature (0 = deterministic, 1 = creative)\n",
    "            callback: Whether to enable console callback for debugging\n",
    "        \"\"\"\n",
    "        self.api_key = api_key or os.getenv(\"OPENAI_API_KEY\")\n",
    "        self.model_name = model\n",
    "        self.embedding_model = embedding_model\n",
    "        self.verbose = verbose\n",
    "        self.temperature = temperature\n",
    "        self.callback = callback\n",
    "        self.model = self._initialize_chat_openai()\n",
    "\n",
    "    def _initialize_chat_openai(self):\n",
    "        \"\"\"\n",
    "        Initialize ChatOpenAI instance with appropriate configuration.\n",
    "\n",
    "        Returns:\n",
    "            ChatOpenAI: Configured chat model instance\n",
    "        \"\"\"\n",
    "        # Enable console callbacks for debugging if requested\n",
    "        if self.callback:\n",
    "            return ChatOpenAI(\n",
    "                temperature=self.temperature,\n",
    "                openai_api_key=self.api_key,\n",
    "                verbose=self.verbose,\n",
    "                model=self.model_name,\n",
    "            ).with_config({\"callbacks\": [ConsoleCallbackHandler()]})\n",
    "\n",
    "        # Special handling for o3-mini model which requires temperature=1\n",
    "        if self.model_name == \"o3-mini\":\n",
    "            self.temperature = 1\n",
    "\n",
    "        return ChatOpenAI(\n",
    "            temperature=self.temperature,\n",
    "            openai_api_key=self.api_key,\n",
    "            verbose=self.verbose,\n",
    "            model=self.model_name,\n",
    "        )\n",
    "\n",
    "    def initialize_openai_embeddings(self):\n",
    "        \"\"\"\n",
    "        Create OpenAI embeddings instance for vector operations.\n",
    "\n",
    "        Returns:\n",
    "            OpenAIEmbeddings: Configured embeddings model\n",
    "        \"\"\"\n",
    "        return OpenAIEmbeddings(model=self.embedding_model, openai_api_key=self.api_key)\n",
    "\n",
    "    def run_lcel_chain(self, template=None):\n",
    "        \"\"\"\n",
    "        Create an LCEL (LangChain Expression Language) chain with custom template.\n",
    "\n",
    "        Args:\n",
    "            template: Custom prompt template (uses default chemistry template if None)\n",
    "\n",
    "        Returns:\n",
    "            Chain: Configured LCEL chain ready for execution\n",
    "        \"\"\"\n",
    "        # Default template optimized for chemistry questions\n",
    "        template = (\n",
    "            template\n",
    "            or \"\"\"\n",
    "            You are a world-class specialist in chemistry.\n",
    "            Return only the final answer. Think step by step.\n",
    "            Question: {question}\n",
    "            Answer: Let's think step by step.\n",
    "        \"\"\"\n",
    "        )\n",
    "        prompt = ChatPromptTemplate.from_template(template)\n",
    "        chain = prompt | self.model  # LCEL syntax for chaining prompt and model\n",
    "        return chain\n",
    "\n",
    "def create_vector_db(data, embeddings):\n",
    "    \"\"\"\n",
    "    Create a FAISS vector database from documents for similarity search.\n",
    "\n",
    "    This function is essential for RAG (Retrieval-Augmented Generation) systems,\n",
    "    allowing us to find relevant documentation based on semantic similarity.\n",
    "\n",
    "    Args:\n",
    "        data (list): List of Document objects to index\n",
    "        embeddings: Embeddings model for vectorization\n",
    "\n",
    "    Returns:\n",
    "        FAISS: Vector database ready for similarity search\n",
    "    \"\"\"\n",
    "    return FAISS.from_documents(data, embeddings)"
   ]
  },
  {
   "cell_type": "markdown",
   "source": [
    "## Test Compound and Query Setup\n",
    "\n",
    "### Target Molecule: Aspirin\n",
    "We'll use aspirin (acetylsalicylic acid) as our test compound:\n",
    "- **SMILES notation**: `CC(=O)OC1=CC=CC=C1C(=O)O`\n",
    "- **Common name**: Aspirin\n",
    "- **IUPAC name**: 2-(acetyloxy)benzoic acid\n",
    "- **Molecular formula**: C\u2089H\u2088O\u2084\n",
    "- **Molecular weight**: 180.16 g/mol\n",
    "\n",
    "### Why This Compound?\n",
    "Aspirin is an excellent test case because:\n",
    "1. It's a well-known pharmaceutical compound\n",
    "2. Has a moderate complexity suitable for testing\n",
    "3. Contains multiple functional groups (ester, carboxylic acid, aromatic ring)\n",
    "4. Results can be easily verified against known databases"
   ],
   "metadata": {
    "id": "_z9dwXuZi839"
   },
   "id": "_z9dwXuZi839"
  },
  {
   "cell_type": "code",
   "execution_count": null,
   "id": "5a7db0a6",
   "metadata": {
    "id": "5a7db0a6"
   },
   "outputs": [],
   "source": [
    "# Queries\n",
    "smiles = \"CC(=O)OC1=CC=CC=C1C(=O)O\"\n",
    "query_1 = f\"What is the formula of {smiles}?\"\n",
    "query_2 = f\"What is the molecular mass of {smiles}\"\n",
    "query_3 = f\"Draw 2D representation of {smiles}?\"\n",
    "query_4 = f\"Draw 3D representation of {smiles}?\""
   ]
  },
  {
   "cell_type": "markdown",
   "source": [
    "Expected Results:\n",
    "- **Molecular Formula**: C\u2089H\u2088O\u2084\n",
    "- **Molecular Weight**: ~180.16 g/mol\n",
    "- **Structure**: Contains acetyl ester and carboxylic acid functional groups"
   ],
   "metadata": {
    "id": "9PepuyqJi8FE"
   },
   "id": "9PepuyqJi8FE"
  },
  {
   "cell_type": "code",
   "execution_count": null,
   "id": "2W4od6K7xz82",
   "metadata": {
    "id": "2W4od6K7xz82"
   },
   "outputs": [],
   "source": [
    "results = {f\"query_{q+1}\": {} for q in range(4)}"
   ]
  },
  {
   "cell_type": "markdown",
   "id": "e503b6cf",
   "metadata": {
    "id": "e503b6cf"
   },
   "source": [
    "### Reference:\n",
    "![image.png](data:image/png;base64,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)\n",
    "\n",
    "For verification purposes, you can check the compound details at:\n",
    "[PubChem Entry for Aspirin](https://pubchem.ncbi.nlm.nih.gov/#query=CC(%3DO)OC1%3DCC%3DCC%3DC1C(%3DO)O)\n"
   ]
  },
  {
   "cell_type": "markdown",
   "id": "d1b23d95",
   "metadata": {
    "id": "d1b23d95"
   },
   "source": [
    "## Strategy 2: Vanilla LLM Approach (GPT-3.5-turbo + GPT-4o-mini)<a class=\"anchor\" id=\"strategy_2\"></a>\n",
    "\n",
    "Let's start by testing how well different LLMs can handle chemistry questions\n",
    "without any specialized tools or knowledge. This establishes our baseline.\n",
    "\n",
    "### Why This Usually Fails:\n",
    "- LLMs are trained on text, not molecular calculations\n",
    "- No access to cheminformatics libraries\n",
    "- Can't perform precise numerical calculations\n",
    "- Can't generate actual visualizations"
   ]
  },
  {
   "cell_type": "code",
   "execution_count": null,
   "id": "tjYjVHGgsafJ",
   "metadata": {
    "id": "tjYjVHGgsafJ"
   },
   "outputs": [],
   "source": [
    "# Specifying LLM\n",
    "model = \"gpt-3.5-turbo\"\n",
    "openai_handler = OpenAIHandler(model=model, verbose=True)"
   ]
  },
  {
   "cell_type": "markdown",
   "id": "24fcb960",
   "metadata": {
    "id": "24fcb960"
   },
   "source": [
    "For illustration purposes, we'll set `verbose=True`. For usage purposes, you may set `verbose` as `False`"
   ]
  },
  {
   "cell_type": "code",
   "execution_count": null,
   "id": "6p2X5eJtsv29",
   "metadata": {
    "colab": {
     "base_uri": "https://localhost:8080/",
     "height": 36
    },
    "id": "6p2X5eJtsv29",
    "outputId": "15e20703-fde4-4ed4-fb74-be42f0e8d422",
    "executionInfo": {
     "status": "ok",
     "timestamp": 1753014869394,
     "user_tz": -240,
     "elapsed": 692,
     "user": {
      "displayName": "Ivan Reznikov",
      "userId": "03906939862966425294"
     }
    }
   },
   "outputs": [
    {
     "output_type": "execute_result",
     "data": {
      "text/plain": [
       "'The formula of CC(=O)OC1=CC=CC=C1C(=O)O is C12H10O4.'"
      ],
      "application/vnd.google.colaboratory.intrinsic+json": {
       "type": "string"
      }
     },
     "metadata": {},
     "execution_count": 9
    }
   ],
   "source": [
    "results[\"query_1\"][\"llm_only_a\"] = openai_handler.model.invoke(query_1).content\n",
    "results[\"query_1\"][\"llm_only_a\"]"
   ]
  },
  {
   "cell_type": "code",
   "execution_count": null,
   "id": "jqVmgSDlvCXp",
   "metadata": {
    "colab": {
     "base_uri": "https://localhost:8080/",
     "height": 36
    },
    "id": "jqVmgSDlvCXp",
    "outputId": "56c716a5-5ce3-4452-cb9b-06b887239ed9",
    "executionInfo": {
     "status": "ok",
     "timestamp": 1753014870137,
     "user_tz": -240,
     "elapsed": 739,
     "user": {
      "displayName": "Ivan Reznikov",
      "userId": "03906939862966425294"
     }
    }
   },
   "outputs": [
    {
     "output_type": "execute_result",
     "data": {
      "text/plain": [
       "'The molecular mass of CC(=O)OC1=CC=CC=C1C(=O)O is 180.16 g/mol.'"
      ],
      "application/vnd.google.colaboratory.intrinsic+json": {
       "type": "string"
      }
     },
     "metadata": {},
     "execution_count": 10
    }
   ],
   "source": [
    "results[\"query_2\"][\"llm_only_a\"] = openai_handler.model.invoke(query_2).content\n",
    "results[\"query_2\"][\"llm_only_a\"]"
   ]
  },
  {
   "cell_type": "code",
   "execution_count": null,
   "id": "Purcoc3yvCcK",
   "metadata": {
    "colab": {
     "base_uri": "https://localhost:8080/",
     "height": 70
    },
    "id": "Purcoc3yvCcK",
    "outputId": "b16aac3d-74cc-4a36-9299-f997e7a72cec",
    "executionInfo": {
     "status": "ok",
     "timestamp": 1753014871732,
     "user_tz": -240,
     "elapsed": 1590,
     "user": {
      "displayName": "Ivan Reznikov",
      "userId": "03906939862966425294"
     }
    }
   },
   "outputs": [
    {
     "output_type": "execute_result",
     "data": {
      "text/plain": [
       "\"I'm sorry, I cannot draw chemical structures. However, I can describe the structure to you. The 2D representation of CC(=O)OC1=CC=CC=C1C(=O)O is a molecule with two carbon atoms connected by a double bond, one of which is also connected to an oxygen atom with a double bond. The carbon atom on the right is connected to an oxygen atom and a carbon atom with a double bond, which is in turn connected to a benzene ring. The benzene ring has alternating single and double bonds between carbon atoms.\""
      ],
      "application/vnd.google.colaboratory.intrinsic+json": {
       "type": "string"
      }
     },
     "metadata": {},
     "execution_count": 11
    }
   ],
   "source": [
    "results[\"query_3\"][\"llm_only_a\"] = openai_handler.model.invoke(query_3).content\n",
    "results[\"query_3\"][\"llm_only_a\"]"
   ]
  },
  {
   "cell_type": "code",
   "execution_count": null,
   "id": "Pc9xsjWHvCfW",
   "metadata": {
    "colab": {
     "base_uri": "https://localhost:8080/",
     "height": 88
    },
    "id": "Pc9xsjWHvCfW",
    "outputId": "bed9d25c-3094-4cbc-edb1-218c5f5d9782",
    "executionInfo": {
     "status": "ok",
     "timestamp": 1753014873947,
     "user_tz": -240,
     "elapsed": 2217,
     "user": {
      "displayName": "Ivan Reznikov",
      "userId": "03906939862966425294"
     }
    }
   },
   "outputs": [
    {
     "output_type": "execute_result",
     "data": {
      "text/plain": [
       "\"I'm sorry, I am not able to draw images. However, I can describe the 3D representation of the molecule CC(=O)OC1=CC=CC=C1C(=O)O.\\n\\nIn the 3D representation, the molecule would have a central carbon atom bonded to two oxygen atoms on either side. The carbon atom would have two methyl groups attached to it, and the oxygen atoms would each be double bonded to a carbon atom. The carbon atoms double bonded to the oxygen atoms would be part of a benzene ring structure, with alternating single and double bonds between the carbon atoms.\\n\\nOverall, the molecule would have a linear shape with the benzene ring structure extending outwards from the central carbon atom.\""
      ],
      "application/vnd.google.colaboratory.intrinsic+json": {
       "type": "string"
      }
     },
     "metadata": {},
     "execution_count": 12
    }
   ],
   "source": [
    "results[\"query_4\"][\"llm_only_a\"] = openai_handler.model.invoke(query_4).content\n",
    "results[\"query_4\"][\"llm_only_a\"]"
   ]
  },
  {
   "cell_type": "code",
   "execution_count": null,
   "id": "AjIFYAJrvSlk",
   "metadata": {
    "id": "AjIFYAJrvSlk"
   },
   "outputs": [],
   "source": [
    "# Specifying LLM\n",
    "model = \"gpt-4o-mini\"\n",
    "openai_handler = OpenAIHandler(model=model, verbose=True)"
   ]
  },
  {
   "cell_type": "code",
   "execution_count": null,
   "id": "e8rUCXHLvSll",
   "metadata": {
    "colab": {
     "base_uri": "https://localhost:8080/",
     "height": 105
    },
    "id": "e8rUCXHLvSll",
    "outputId": "9bbbf8f8-0825-4db0-e297-be04ff7adbde",
    "executionInfo": {
     "status": "ok",
     "timestamp": 1753014878014,
     "user_tz": -240,
     "elapsed": 4039,
     "user": {
      "displayName": "Ivan Reznikov",
      "userId": "03906939862966425294"
     }
    }
   },
   "outputs": [
    {
     "output_type": "execute_result",
     "data": {
      "text/plain": [
       "\"The compound you provided, CC(=O)OC1=CC=CC=C1C(=O)O, can be broken down into its components to determine its molecular formula.\\n\\n1. **CC(=O)** indicates an acetyl group (C2H3O).\\n2. **OC1=CC=CC=C1** indicates a phenyl ring (C6H5) with an ether linkage to the acetyl group.\\n3. **C(=O)O** indicates a carboxylic acid group (COOH).\\n\\nNow, let's combine these components:\\n\\n- The acetyl group contributes: C2H3O\\n- The phenyl ring contributes: C6H5\\n- The carboxylic acid contributes: C1H1O2\\n\\nNow, let's add them up:\\n\\n- Carbon (C): 2 (from acetyl) + 6 (from phenyl) + 1 (from carboxylic acid) = 9\\n- Hydrogen (H): 3 (from acetyl) + 5 (from phenyl) + 1 (from carboxylic acid) = 9\\n- Oxygen (O): 1 (from acetyl) + 1 (from ether) + 2 (from carboxylic acid) = 4\\n\\nThus, the molecular formula for the compound CC(=O)OC1=CC=CC=C1C(=O)O is **C9H10O4**.\""
      ],
      "application/vnd.google.colaboratory.intrinsic+json": {
       "type": "string"
      }
     },
     "metadata": {},
     "execution_count": 14
    }
   ],
   "source": [
    "results[\"query_1\"][\"llm_only_b\"] = openai_handler.model.invoke(query_1).content\n",
    "results[\"query_1\"][\"llm_only_b\"]"
   ]
  },
  {
   "cell_type": "code",
   "execution_count": null,
   "id": "41lggL7EvSll",
   "metadata": {
    "colab": {
     "base_uri": "https://localhost:8080/",
     "height": 122
    },
    "id": "41lggL7EvSll",
    "outputId": "1c71a7b7-e66b-4b8f-93e1-e0f451fe15e9",
    "executionInfo": {
     "status": "ok",
     "timestamp": 1753014884325,
     "user_tz": -240,
     "elapsed": 6308,
     "user": {
      "displayName": "Ivan Reznikov",
      "userId": "03906939862966425294"
     }
    }
   },
   "outputs": [
    {
     "output_type": "execute_result",
     "data": {
      "text/plain": [
       "'To calculate the molecular mass of the compound CC(=O)OC1=CC=CC=C1C(=O)O, we first need to identify the molecular formula by breaking down the structure.\\n\\n1. **Identify the components**:\\n   - The compound has an acetyl group (CC(=O)O) and a phenolic structure (C1=CC=CC=C1) with a carboxylic acid (C(=O)O) attached.\\n\\n2. **Count the atoms**:\\n   - From the structure, we can deduce the following:\\n     - Carbon (C): 10\\n     - Hydrogen (H): 10\\n     - Oxygen (O): 4\\n\\n3. **Calculate the molecular mass**:\\n   - The atomic masses are approximately:\\n     - Carbon (C): 12.01 g/mol\\n     - Hydrogen (H): 1.008 g/mol\\n     - Oxygen (O): 16.00 g/mol\\n\\n   Now, we can calculate the total mass:\\n   \\\\[\\n   \\\\text{Molecular mass} = (10 \\\\times 12.01) + (10 \\\\times 1.008) + (4 \\\\times 16.00)\\n   \\\\]\\n   \\\\[\\n   = 120.1 + 10.08 + 64.00\\n   \\\\]\\n   \\\\[\\n   = 194.18 \\\\text{ g/mol}\\n   \\\\]\\n\\nTherefore, the molecular mass of CC(=O)OC1=CC=CC=C1C(=O)O is approximately **194.18 g/mol**.'"
      ],
      "application/vnd.google.colaboratory.intrinsic+json": {
       "type": "string"
      }
     },
     "metadata": {},
     "execution_count": 15
    }
   ],
   "source": [
    "results[\"query_2\"][\"llm_only_b\"] = openai_handler.model.invoke(query_2).content\n",
    "results[\"query_2\"][\"llm_only_b\"]"
   ]
  },
  {
   "cell_type": "code",
   "execution_count": null,
   "id": "WkIcnvU9vSll",
   "metadata": {
    "colab": {
     "base_uri": "https://localhost:8080/",
     "height": 123
    },
    "id": "WkIcnvU9vSll",
    "outputId": "db662868-d56a-452d-b1a8-7975d7d36333",
    "executionInfo": {
     "status": "ok",
     "timestamp": 1753014887698,
     "user_tz": -240,
     "elapsed": 3370,
     "user": {
      "displayName": "Ivan Reznikov",
      "userId": "03906939862966425294"
     }
    }
   },
   "outputs": [
    {
     "output_type": "execute_result",
     "data": {
      "text/plain": [
       "\"I can't draw directly, but I can help you visualize the structure of the compound CC(=O)OC1=CC=CC=C1C(=O)O.\\n\\nThis compound can be broken down as follows:\\n\\n1. **CC(=O)**: This part represents an acetyl group (CH3CO-).\\n2. **O**: This indicates that the acetyl group is connected to an oxygen atom, suggesting an ester or ether linkage.\\n3. **C1=CC=CC=C1**: This indicates a cyclic structure, specifically a benzene ring (a six-membered carbon ring with alternating double bonds).\\n4. **C(=O)O**: This part indicates a carboxylic acid group (-COOH) attached to the benzene ring.\\n\\nPutting it all together, the structure can be visualized as follows:\\n\\n- Start with a benzene ring.\\n- Attach a carboxylic acid group (-COOH) to one of the carbons on the ring.\\n- Attach an acetyl group (CH3CO-) via an oxygen atom to another carbon on the benzene ring.\\n\\nIf you want to draw it out, you can start with a hexagon for the benzene ring, add alternating double bonds, and then add the functional groups as described. You can use chemical drawing software or online tools to create a more precise representation.\""
      ],
      "application/vnd.google.colaboratory.intrinsic+json": {
       "type": "string"
      }
     },
     "metadata": {},
     "execution_count": 16
    }
   ],
   "source": [
    "results[\"query_3\"][\"llm_only_b\"] = openai_handler.model.invoke(query_3).content\n",
    "results[\"query_3\"][\"llm_only_b\"]"
   ]
  },
  {
   "cell_type": "code",
   "execution_count": null,
   "id": "mChvjRxAvSlm",
   "metadata": {
    "colab": {
     "base_uri": "https://localhost:8080/",
     "height": 123
    },
    "id": "mChvjRxAvSlm",
    "outputId": "055e788e-cfb7-48da-c3c3-8f2c29220ea2",
    "executionInfo": {
     "status": "ok",
     "timestamp": 1753014892233,
     "user_tz": -240,
     "elapsed": 4527,
     "user": {
      "displayName": "Ivan Reznikov",
      "userId": "03906939862966425294"
     }
    }
   },
   "outputs": [
    {
     "output_type": "execute_result",
     "data": {
      "text/plain": [
       "\"I can't create visual images directly, but I can help you visualize the 3D structure of the compound with the molecular formula CC(=O)OC1=CC=CC=C1C(=O)O, which is an ester derivative of a phenolic compound.\\n\\nHere's a step-by-step description of how to visualize it:\\n\\n1. **Identify the Components**:\\n   - The compound has an acetyl group (CC(=O)O) attached to a phenolic ring (C1=CC=CC=C1).\\n   - There is also a carboxylic acid group (C(=O)O) attached to the phenolic ring.\\n\\n2. **Structure Breakdown**:\\n   - The acetyl group (CH3CO-) is connected to an oxygen atom (O) which is then connected to the phenolic ring.\\n   - The phenolic ring consists of six carbon atoms arranged in a cyclic structure with alternating double bonds (aromatic).\\n   - The carboxylic acid group (-COOH) is attached to one of the carbon atoms in the phenolic ring.\\n\\n3. **3D Representation**:\\n   - Start with the phenolic ring as a hexagonal structure with alternating double bonds.\\n   - Attach the acetyl group to one of the carbon atoms in the ring via an oxygen atom (this forms an ester bond).\\n   - Attach the carboxylic acid group to another carbon atom in the ring.\\n\\n4. **Using Molecular Visualization Software**:\\n   - You can use software like ChemDraw, Jmol, or online tools like PubChem to create a 3D model.\\n   - Input the molecular formula or the SMILES notation (CC(=O)OC1=CC=CC=C1C(=O)O) to generate the 3D structure.\\n\\nIf you need further assistance with specific software or tools, feel free to ask!\""
      ],
      "application/vnd.google.colaboratory.intrinsic+json": {
       "type": "string"
      }
     },
     "metadata": {},
     "execution_count": 17
    }
   ],
   "source": [
    "results[\"query_4\"][\"llm_only_b\"] = openai_handler.model.invoke(query_4).content\n",
    "results[\"query_4\"][\"llm_only_b\"]"
   ]
  },
  {
   "cell_type": "code",
   "execution_count": null,
   "metadata": {
    "id": "BidlpnEdo92k"
   },
   "outputs": [],
   "source": [
    "# Specifying LLM\n",
    "model = \"o3-mini\"\n",
    "openai_handler = OpenAIHandler(model=model, verbose=True)"
   ],
   "id": "BidlpnEdo92k"
  },
  {
   "cell_type": "code",
   "execution_count": null,
   "metadata": {
    "colab": {
     "base_uri": "https://localhost:8080/",
     "height": 70
    },
    "outputId": "239e489a-7970-4d60-b800-5557bac98da9",
    "executionInfo": {
     "status": "ok",
     "timestamp": 1753014900779,
     "user_tz": -240,
     "elapsed": 8530,
     "user": {
      "displayName": "Ivan Reznikov",
      "userId": "03906939862966425294"
     }
    },
    "id": "4t9ViDGxo92l"
   },
   "outputs": [
    {
     "output_type": "execute_result",
     "data": {
      "text/plain": [
       "'The SMILES string CC(=O)OC1=CC=CC=C1C(=O)O represents acetylsalicylic acid, commonly known as aspirin. Its molecular formula is C9H8O4. \\n\\nTo break it down:\\n\u2022 The \"CC(=O)O\" part corresponds to an acetoxy group (CH3COO\u2013).\\n\u2022 The \"C1=CC=CC=C1\" represents a benzene ring.\\n\u2022 The \"C(=O)O\" attached to the benzene ring is a carboxylic acid group.\\n\\nSo, overall, the molecule is 2\u2011acetoxybenzoic acid (aspirin) with the formula C9H8O4.'"
      ],
      "application/vnd.google.colaboratory.intrinsic+json": {
       "type": "string"
      }
     },
     "metadata": {},
     "execution_count": 19
    }
   ],
   "source": [
    "results[\"query_1\"][\"llm_only_c\"] = openai_handler.model.invoke(query_1).content\n",
    "results[\"query_1\"][\"llm_only_c\"]"
   ],
   "id": "4t9ViDGxo92l"
  },
  {
   "cell_type": "code",
   "execution_count": null,
   "metadata": {
    "colab": {
     "base_uri": "https://localhost:8080/",
     "height": 105
    },
    "outputId": "5e9658f3-21cd-45e4-f972-1019f18fa3b4",
    "executionInfo": {
     "status": "ok",
     "timestamp": 1753014909414,
     "user_tz": -240,
     "elapsed": 8634,
     "user": {
      "displayName": "Ivan Reznikov",
      "userId": "03906939862966425294"
     }
    },
    "id": "HXCajsG4o92m"
   },
   "outputs": [
    {
     "output_type": "execute_result",
     "data": {
      "text/plain": [
       "'Let\\'s analyze the SMILES string step by step:\\n\\nSMILES: CC(=O)OC1=CC=CC=C1C(=O)O\\n\\n1. The fragment \"CC(=O)O\" represents an acetyl group attached via an oxygen (\u2013OCOCH\u2083).  \\n2. \"C1=CC=CC=C1\" represents a benzene ring (6 carbons).  \\n3. \"C(=O)O\" is a carboxylic acid group (\u2013COOH).  \\n\\nPutting these together, the molecule is acetylsalicylic acid (aspirin) with the formula:  \\n\\u2003\\u2003C\u2089H\u2088O\u2084\\n\\nNow, calculating the molecular mass using approximate atomic weights:  \\n\\u2003\u2022 Carbon (C): 12.01 g/mol  \\n\\u2003\u2022 Hydrogen (H): 1.008 g/mol  \\n\\u2003\u2022 Oxygen (O): 16.00 g/mol\\n\\nCalculating each element\u2019s contribution:\\n\\n\u2022 Carbons: 9 \u00d7 12.01 = 108.09 g/mol  \\n\u2022 Hydrogens: 8 \u00d7 1.008 = 8.06 g/mol  \\n\u2022 Oxygens: 4 \u00d7 16.00 = 64.00 g/mol\\n\\nAdd them up:  \\n\\u2003108.09 + 8.06 + 64.00 = 180.15 g/mol\\n\\nThus, the molecular mass of CC(=O)OC1=CC=CC=C1C(=O)O is approximately 180.15 g/mol.'"
      ],
      "application/vnd.google.colaboratory.intrinsic+json": {
       "type": "string"
      }
     },
     "metadata": {},
     "execution_count": 20
    }
   ],
   "source": [
    "results[\"query_2\"][\"llm_only_c\"] = openai_handler.model.invoke(query_2).content\n",
    "results[\"query_2\"][\"llm_only_c\"]"
   ],
   "id": "HXCajsG4o92m"
  },
  {
   "cell_type": "code",
   "execution_count": null,
   "metadata": {
    "colab": {
     "base_uri": "https://localhost:8080/",
     "height": 123
    },
    "outputId": "d99f5387-e0d0-41cd-d0af-c19cda651c9f",
    "executionInfo": {
     "status": "ok",
     "timestamp": 1753014927258,
     "user_tz": -240,
     "elapsed": 17840,
     "user": {
      "displayName": "Ivan Reznikov",
      "userId": "03906939862966425294"
     }
    },
    "id": "xkz90ogMo92n"
   },
   "outputs": [
    {
     "output_type": "execute_result",
     "data": {
      "text/plain": [
       "'Below is one way to depict the 2D skeletal structure of CC(=O)OC1=CC=CC=C1C(=O)O (aspirin or acetylsalicylic acid). In this diagram, the benzene ring is shown as a hexagon with two substituents attached at adjacent (ortho) positions. One substituent is an ester group (\u2013O\u2013C(=O)CH3) and the other is a carboxylic acid (\u2013C(=O)OH).\\n\\nHere\u2019s an ASCII \u201cline\u2010drawing\u201d version:\\n\\n             O\\n             ||\\n         CH3\u2013C\u2013O\\n               \\\\\\n                \\\\\\n     (2)          \\\\\\n          \u2022\u2013\u2013\u2013\u2013\u2013\u2013\u2022\u2013\u2013\u2013\u2013\u2013\u2013\u2022        \u2190 Benzene ring (\u2022 are the C\u2013atoms)\\n         /         \\\\        \\\\\\n (COOH)\u2500\u2022           \u2022         \u2022\\n         \\\\         /         /\\n          \u2022\u2013\u2013\u2013\u2013\u2013\u2013\u2022\u2013\u2013\u2013\u2013\u2013\u2013\u2022\\n               /\\n              /\\n  \\nIn the diagram above:\\n1. The left-hand substituent \u201cCH3\u2013C(=O)\u2013O\u2013\u201d is attached to one carbon of the benzene ring.\\n2. The \u201cCOOH\u201d group is attached to the neighboring carbon.\\n3. The benzene ring is drawn as a hexagon with its six carbon atoms (represented by the \u201c\u2022\u201d) and alternating double bonds implied by the skeletal representation.\\n\\nA slightly more \u201clinear\u201d depiction with numbering (assigning the carbon that bears the O\u2013acetyl group as C1 and the adjacent carbon with COOH as C2) is given below:\\n\\n           O\\n           ||\\n     CH3\u2013C\u2013O\\n           |\\n         (C1) \\n          /   \\\\\\n         /     \\\\\\n      (C6)     (C2)\u2013C(=O)OH\\n         |         |\\n      (C5)       (C3)\\n         \\\\        /\\n          \\\\     /\\n          (C4)\\n              \\nNotes:\\n\u2022 In skeletal structures, the actual double bonds in the benzene ring are usually delocalized (often drawn as a circle in the center of the hexagon) but here we show it with implied alternating double bonds.\\n\u2022 The \u201cO\u2013C(=O)CH3\u201d group is the acetyl (ester) group, while \u201cC(=O)OH\u201d is the carboxylic acid.\\n\u2022 This molecule is commonly known as aspirin (acetylsalicylic acid).\\n\\nYou can also find many hand\u2010drawn versions online, but this ASCII depiction should give you the idea of the 2D connectivity of the molecule.'"
      ],
      "application/vnd.google.colaboratory.intrinsic+json": {
       "type": "string"
      }
     },
     "metadata": {},
     "execution_count": 21
    }
   ],
   "source": [
    "results[\"query_3\"][\"llm_only_c\"] = openai_handler.model.invoke(query_3).content\n",
    "results[\"query_3\"][\"llm_only_c\"]"
   ],
   "id": "xkz90ogMo92n"
  },
  {
   "cell_type": "code",
   "execution_count": null,
   "metadata": {
    "colab": {
     "base_uri": "https://localhost:8080/",
     "height": 123
    },
    "outputId": "d6a824d7-2ff6-45d7-8030-2e96f9911507",
    "executionInfo": {
     "status": "ok",
     "timestamp": 1753014945615,
     "user_tz": -240,
     "elapsed": 18362,
     "user": {
      "displayName": "Ivan Reznikov",
      "userId": "03906939862966425294"
     }
    },
    "id": "tpUWtMdLo92n"
   },
   "outputs": [
    {
     "output_type": "execute_result",
     "data": {
      "text/plain": [
       "'Below is one way to \u201cdraw\u201d a 3D representation of the molecule with the SMILES\\n\\n\\u2003\\u2003CC(=O)OC1=CC=CC=C1C(=O)O\\n\\n(which is the structure of acetylsalicylic acid, commonly known as aspirin) using an ASCII \u201cwire\u2010frame\u201d style. Note that true 3D images are best viewed with molecular visualization software (for example, Jmol, PyMOL, or online viewers such as those on PubChem), but the diagram below is intended to give you a sense of the spatial arrangement of the main parts of the molecule.\\n\\nRemember that in aspirin:\\n\\u2003\u2022 The central benzene ring is essentially planar.\\n\\u2003\u2022 One substituent is a carboxylic acid group (\u2013C(=O)OH) attached directly to the ring.\\n\\u2003\u2022 The other substituent is an acetoxy group (\u2013O\u2013C(=O)CH3) attached via an oxygen; this group may be rotated out of the plane of the benzene ring.\\n\\nHere\u2019s one ASCII \u201csketch\u201d that tries to indicate relative 3D orientations:\\n\\n             CH3\\n              |\\n              C=O\\n              |\\n        (Acetyl group)\\n                \\\\\\n                 O\\n                  \\\\\\n                   \\\\\\n         [Out\u2010of\u2010plane twist]\\n                      \\\\\\n                       Attachment\\n                         (\u2013O\u2013)\\n                            \\\\\\n                             \u2022\\n                           /   \\\\\\n         (Benzene ring: nearly planar)  \\n                           \\\\   /\\n                            \u2022  \\n                   \u2022      /     \\\\      \u2022\\n                   \u2022     \u2022       \u2022     \u2022   \u2190 (Carbon atoms of the benzene ring)\\n                    \\\\   /         \\\\   /\\n                     \u2022\u2022            \u2022\u2022\\n                      \\\\            /\\n                       \u2022    \u2022    \u2022\\n                         \\\\  |  /\\n             (Carboxylic acid group)\\n                          C=O\\n                           |\\n                           OH\\n\\nExplanation of the sketch:\\n1. The benzene \u201cring\u201d is drawn as a roughly hexagonal loop (the \u201c\u2022\u201d atoms are the carbons). It is drawn in a plane.\\n2. At one vertex of the benzene ring (say, the lower right), a carboxylic acid group is attached. That group is shown at the bottom right with a C=O double bond and an \u2013OH.\\n3. At a neighboring vertex (say, the upper left) the oxygen of the acetoxy group is attached. From that oxygen a C(=O)CH3 branch is drawn. To hint that this acetoxy group might be rotated relative to the benzene plane, the branch is shown \u201ccoming out\u201d (or \u201cgoing in\u201d) relative to the plane.\\n4. The \u201cO\u2013C(=O)CH3\u201d unit (the acetyl group bonded through O) is drawn with its own C=O and CH3 group.\\n   \\nKeep in mind that the above drawing is very schematic. In a true 3D ball\u2010and\u2010stick representation you would see something like:\\n\\n\\u2003\u2022 A flat benzene ring.\\n\\u2003\u2022 A \u2013COOH group lying in (or nearly in) that ring plane.\\n\\u2003\u2022 An \u2013OCOCH3 group that is rotated relative to that plane (so that the acetyl carbonyl and methyl group are \u201cabove\u201d or \u201cbelow\u201d the ring).\\n\\nIf you want to visualize the molecule interactively, you might try one of these steps:\\n\\u20031. Copy the SMILES string \u201cCC(=O)OC1=CC=CC=C1C(=O)O.\u201d\\n\\u20032. Paste it into an online viewer (for example, see PubChem\u2019s \u201c3D Conformer\u201d tool or use Jmol).\\n\\u20033. Rotate the model to appreciate its 3D structure.\\n\\nI hope this ASCII 3D sketch and explanation gives you a better idea of how aspirin is arranged in three dimensions!'"
      ],
      "application/vnd.google.colaboratory.intrinsic+json": {
       "type": "string"
      }
     },
     "metadata": {},
     "execution_count": 22
    }
   ],
   "source": [
    "results[\"query_4\"][\"llm_only_c\"] = openai_handler.model.invoke(query_4).content\n",
    "results[\"query_4\"][\"llm_only_c\"]"
   ],
   "id": "tpUWtMdLo92n"
  },
  {
   "cell_type": "markdown",
   "source": [
    "### Key Observations from Vanilla LLM Tests:\n",
    "\n",
    "As expected, the vanilla LLM approaches show significant limitations:\n",
    "\n",
    "1. **Incorrect Calculations**: Molecular formulas and weights are often wrong\n",
    "2. **No Visual Output**: Cannot generate actual molecular visualizations  \n",
    "3. **Inconsistent Results**: Different models give different (often incorrect) answers\n",
    "4. **Limited Chemistry Knowledge**: LLMs lack access to computational chemistry tools\n",
    "\n",
    "This demonstrates why we need to augment LLMs with specialized tools for scientific applications.\n"
   ],
   "metadata": {
    "id": "uK1biBEcjqkX"
   },
   "id": "uK1biBEcjqkX"
  },
  {
   "cell_type": "markdown",
   "id": "qV1aPHaqvZtu",
   "metadata": {
    "id": "qV1aPHaqvZtu"
   },
   "source": [
    "## Strategy 3: LCEL Chains with Structured Prompting (GPT-3.5-turbo + GPT-4o-mini) <a class=\"anchor\" id=\"strategy_3\"></a>\n",
    "\n",
    "LCEL (LangChain Expression Language) allows us to create more structured\n",
    "interactions with LLMs using better prompting techniques.\n",
    "\n",
    "### Key Improvements:\n",
    "- Structured prompts with role definitions\n",
    "- Step-by-step reasoning encouragement  \n",
    "- Consistent formatting across queries"
   ]
  },
  {
   "cell_type": "code",
   "execution_count": null,
   "id": "830292d1",
   "metadata": {
    "id": "830292d1"
   },
   "outputs": [],
   "source": [
    "# Specifying LLM\n",
    "model = \"gpt-3.5-turbo\"\n",
    "openai_handler = OpenAIHandler(model=model, verbose=True)"
   ]
  },
  {
   "cell_type": "code",
   "execution_count": null,
   "id": "2cbb1921",
   "metadata": {
    "id": "2cbb1921"
   },
   "outputs": [],
   "source": [
    "lcel_chain = openai_handler.run_lcel_chain()"
   ]
  },
  {
   "cell_type": "code",
   "execution_count": null,
   "id": "148e8c88",
   "metadata": {
    "colab": {
     "base_uri": "https://localhost:8080/"
    },
    "id": "148e8c88",
    "outputId": "1a0e9a55-a066-4ef8-d019-1572bd1de5ad",
    "executionInfo": {
     "status": "ok",
     "timestamp": 1753014947313,
     "user_tz": -240,
     "elapsed": 1684,
     "user": {
      "displayName": "Ivan Reznikov",
      "userId": "03906939862966425294"
     }
    }
   },
   "outputs": [
    {
     "output_type": "execute_result",
     "data": {
      "text/plain": [
       "AIMessage(content='Step 1: Break down the given formula into individual elements and their respective counts:\\n- C: 10\\n- O: 2\\n\\nStep 2: Determine the connectivity of the atoms based on the given formula:\\n- CC(=O)OC1=CC=CC=C1C(=O)O\\n\\nStep 3: Simplify the connectivity to determine the structural formula:\\n- C10H8O2\\n\\nStep 4: Write the final answer in the standard chemical formula format:\\n- The formula of CC(=O)OC1=CC=CC=C1C(=O)O is C10H8O2.', additional_kwargs={'refusal': None}, response_metadata={'token_usage': {'completion_tokens': 134, 'prompt_tokens': 69, 'total_tokens': 203, 'completion_tokens_details': {'accepted_prediction_tokens': 0, 'audio_tokens': 0, 'reasoning_tokens': 0, 'rejected_prediction_tokens': 0}, 'prompt_tokens_details': {'audio_tokens': 0, 'cached_tokens': 0}}, 'model_name': 'gpt-3.5-turbo-0125', 'system_fingerprint': None, 'id': 'chatcmpl-BvNYYcjK5WNjL7ucWoIzgzMR6MFG8', 'service_tier': 'default', 'finish_reason': 'stop', 'logprobs': None}, id='run--18f265bb-334a-4693-99bd-19ed59f526a8-0', usage_metadata={'input_tokens': 69, 'output_tokens': 134, 'total_tokens': 203, 'input_token_details': {'audio': 0, 'cache_read': 0}, 'output_token_details': {'audio': 0, 'reasoning': 0}})"
      ]
     },
     "metadata": {},
     "execution_count": 25
    }
   ],
   "source": [
    "results[\"query_1\"][\"chain_a\"] = lcel_chain.invoke({\"question\": query_1})\n",
    "results[\"query_1\"][\"chain_a\"]"
   ]
  },
  {
   "cell_type": "code",
   "execution_count": null,
   "id": "dbf8290a",
   "metadata": {
    "colab": {
     "base_uri": "https://localhost:8080/"
    },
    "id": "dbf8290a",
    "outputId": "1172f479-dc1a-4cd3-df95-5a60410a0d9f",
    "executionInfo": {
     "status": "ok",
     "timestamp": 1753014949507,
     "user_tz": -240,
     "elapsed": 2190,
     "user": {
      "displayName": "Ivan Reznikov",
      "userId": "03906939862966425294"
     }
    }
   },
   "outputs": [
    {
     "output_type": "execute_result",
     "data": {
      "text/plain": [
       "AIMessage(content='Step 1: Calculate the molecular mass of each element in the compound:\\n- Carbon (C): 12.01 g/mol\\n- Oxygen (O): 16.00 g/mol\\n- Hydrogen (H): 1.01 g/mol\\n\\nStep 2: Count the number of each element in the compound:\\n- C: 9\\n- O: 3\\n- H: 8\\n\\nStep 3: Calculate the total molecular mass by multiplying the number of each element by its atomic mass and adding them all together:\\n(9 x 12.01) + (3 x 16.00) + (8 x 1.01) = 108.09 + 48.00 + 8.08 = 164.17 g/mol\\n\\nFinal Answer: The molecular mass of CC(=O)OC1=CC=CC=C1C(=O)O is 164.17 g/mol.', additional_kwargs={'refusal': None}, response_metadata={'token_usage': {'completion_tokens': 193, 'prompt_tokens': 70, 'total_tokens': 263, 'completion_tokens_details': {'accepted_prediction_tokens': 0, 'audio_tokens': 0, 'reasoning_tokens': 0, 'rejected_prediction_tokens': 0}, 'prompt_tokens_details': {'audio_tokens': 0, 'cached_tokens': 0}}, 'model_name': 'gpt-3.5-turbo-0125', 'system_fingerprint': None, 'id': 'chatcmpl-BvNYaLoufw7JTgCzdbjmgqNGq7B23', 'service_tier': 'default', 'finish_reason': 'stop', 'logprobs': None}, id='run--dde52319-afdb-4dd2-b533-0d5e3d27de30-0', usage_metadata={'input_tokens': 70, 'output_tokens': 193, 'total_tokens': 263, 'input_token_details': {'audio': 0, 'cache_read': 0}, 'output_token_details': {'audio': 0, 'reasoning': 0}})"
      ]
     },
     "metadata": {},
     "execution_count": 26
    }
   ],
   "source": [
    "results[\"query_2\"][\"chain_a\"] = lcel_chain.invoke({\"question\": query_2})\n",
    "results[\"query_2\"][\"chain_a\"]"
   ]
  },
  {
   "cell_type": "code",
   "execution_count": null,
   "id": "230c6291",
   "metadata": {
    "colab": {
     "base_uri": "https://localhost:8080/"
    },
    "id": "230c6291",
    "outputId": "0210b7c9-1595-419c-8750-66d2f36b23df",
    "executionInfo": {
     "status": "ok",
     "timestamp": 1753014951690,
     "user_tz": -240,
     "elapsed": 2188,
     "user": {
      "displayName": "Ivan Reznikov",
      "userId": "03906939862966425294"
     }
    }
   },
   "outputs": [
    {
     "output_type": "execute_result",
     "data": {
      "text/plain": [
       "AIMessage(content='1. Start by drawing the carbon atoms in the molecule. There are 10 carbon atoms in total.\\n2. Next, add the oxygen atoms. There are 3 oxygen atoms in the molecule.\\n3. Then, add the double bonds between the carbon and oxygen atoms to represent the carbonyl groups.\\n4. Finally, connect the atoms with single bonds according to the given structure: CC(=O)OC1=CC=CC=C1C(=O)O.\\n\\nThe final 2D representation of CC(=O)OC1=CC=CC=C1C(=O)O is:\\n\\n   O=C-C-C=C-C=C-C=C1-C=CC=C1-C(=O)-O', additional_kwargs={'refusal': None}, response_metadata={'token_usage': {'completion_tokens': 148, 'prompt_tokens': 70, 'total_tokens': 218, 'completion_tokens_details': {'accepted_prediction_tokens': 0, 'audio_tokens': 0, 'reasoning_tokens': 0, 'rejected_prediction_tokens': 0}, 'prompt_tokens_details': {'audio_tokens': 0, 'cached_tokens': 0}}, 'model_name': 'gpt-3.5-turbo-0125', 'system_fingerprint': None, 'id': 'chatcmpl-BvNYcWD9gFTRqFzDRlnLmrAUehVlL', 'service_tier': 'default', 'finish_reason': 'stop', 'logprobs': None}, id='run--a0bc4083-98b0-4749-8a12-55b2f4a2f1b9-0', usage_metadata={'input_tokens': 70, 'output_tokens': 148, 'total_tokens': 218, 'input_token_details': {'audio': 0, 'cache_read': 0}, 'output_token_details': {'audio': 0, 'reasoning': 0}})"
      ]
     },
     "metadata": {},
     "execution_count": 27
    }
   ],
   "source": [
    "results[\"query_3\"][\"chain_a\"] = lcel_chain.invoke({\"question\": query_3})\n",
    "results[\"query_3\"][\"chain_a\"]"
   ]
  },
  {
   "cell_type": "code",
   "execution_count": null,
   "id": "6a7af46d",
   "metadata": {
    "colab": {
     "base_uri": "https://localhost:8080/"
    },
    "id": "6a7af46d",
    "outputId": "a7ec5d69-1c54-4266-eedb-73549ca1b426",
    "executionInfo": {
     "status": "ok",
     "timestamp": 1753014953854,
     "user_tz": -240,
     "elapsed": 2157,
     "user": {
      "displayName": "Ivan Reznikov",
      "userId": "03906939862966425294"
     }
    }
   },
   "outputs": [
    {
     "output_type": "execute_result",
     "data": {
      "text/plain": [
       "AIMessage(content='1. Start by drawing the basic structure of the molecule: a benzene ring (C6H5) with a carboxylic acid group (COOH) attached to one side.\\n2. Next, add a double bond between one of the carbon atoms in the benzene ring and an oxygen atom, representing the carbonyl group (C=O).\\n3. Then, add an ester group (OC) attached to the other side of the benzene ring, replacing one of the hydrogen atoms.\\n4. Finally, add a second benzene ring connected to the ester group through a double bond, completing the structure of the molecule.\\n\\nThe final 3D representation of CC(=O)OC1=CC=CC=C1C(=O)O is a complex structure with two benzene rings connected by a carbonyl group and an ester group.', additional_kwargs={'refusal': None}, response_metadata={'token_usage': {'completion_tokens': 180, 'prompt_tokens': 70, 'total_tokens': 250, 'completion_tokens_details': {'accepted_prediction_tokens': 0, 'audio_tokens': 0, 'reasoning_tokens': 0, 'rejected_prediction_tokens': 0}, 'prompt_tokens_details': {'audio_tokens': 0, 'cached_tokens': 0}}, 'model_name': 'gpt-3.5-turbo-0125', 'system_fingerprint': None, 'id': 'chatcmpl-BvNYerS4Hvc0gm7psPGGmdcqNHzyL', 'service_tier': 'default', 'finish_reason': 'stop', 'logprobs': None}, id='run--e3011293-9482-464a-a6f6-58bb9b7e2d51-0', usage_metadata={'input_tokens': 70, 'output_tokens': 180, 'total_tokens': 250, 'input_token_details': {'audio': 0, 'cache_read': 0}, 'output_token_details': {'audio': 0, 'reasoning': 0}})"
      ]
     },
     "metadata": {},
     "execution_count": 28
    }
   ],
   "source": [
    "results[\"query_4\"][\"chain_a\"] = lcel_chain.invoke({\"question\": query_4})\n",
    "results[\"query_4\"][\"chain_a\"]"
   ]
  },
  {
   "cell_type": "code",
   "execution_count": null,
   "id": "Sz8HO5tfyxaQ",
   "metadata": {
    "id": "Sz8HO5tfyxaQ"
   },
   "outputs": [],
   "source": [
    "# Specifying LLM\n",
    "model = \"gpt-4o-mini\"\n",
    "openai_handler = OpenAIHandler(model=model, verbose=True)"
   ]
  },
  {
   "cell_type": "code",
   "execution_count": null,
   "id": "72tePBYdtXgC",
   "metadata": {
    "id": "72tePBYdtXgC"
   },
   "outputs": [],
   "source": [
    "lcel_chain = openai_handler.run_lcel_chain()"
   ]
  },
  {
   "cell_type": "code",
   "execution_count": null,
   "id": "iSl7LxTAtXgD",
   "metadata": {
    "colab": {
     "base_uri": "https://localhost:8080/"
    },
    "id": "iSl7LxTAtXgD",
    "outputId": "5c54b222-1c91-4646-903d-7e56802cd861",
    "executionInfo": {
     "status": "ok",
     "timestamp": 1753014954435,
     "user_tz": -240,
     "elapsed": 552,
     "user": {
      "displayName": "Ivan Reznikov",
      "userId": "03906939862966425294"
     }
    }
   },
   "outputs": [
    {
     "output_type": "execute_result",
     "data": {
      "text/plain": [
       "AIMessage(content='The formula of CC(=O)OC1=CC=CC=C1C(=O)O is C10H10O4.', additional_kwargs={'refusal': None}, response_metadata={'token_usage': {'completion_tokens': 30, 'prompt_tokens': 68, 'total_tokens': 98, 'completion_tokens_details': {'accepted_prediction_tokens': 0, 'audio_tokens': 0, 'reasoning_tokens': 0, 'rejected_prediction_tokens': 0}, 'prompt_tokens_details': {'audio_tokens': 0, 'cached_tokens': 0}}, 'model_name': 'gpt-4o-mini-2024-07-18', 'system_fingerprint': None, 'id': 'chatcmpl-BvNYgxV2g8xtkoI6qeSUQXGduyNvp', 'service_tier': 'default', 'finish_reason': 'stop', 'logprobs': None}, id='run--8edd65b1-bec4-4450-827e-c02bbb4e802e-0', usage_metadata={'input_tokens': 68, 'output_tokens': 30, 'total_tokens': 98, 'input_token_details': {'audio': 0, 'cache_read': 0}, 'output_token_details': {'audio': 0, 'reasoning': 0}})"
      ]
     },
     "metadata": {},
     "execution_count": 31
    }
   ],
   "source": [
    "results[\"query_1\"][\"chain_b\"] = lcel_chain.invoke({\"question\": query_1})\n",
    "results[\"query_1\"][\"chain_b\"]"
   ]
  },
  {
   "cell_type": "code",
   "execution_count": null,
   "id": "UvPaLcZ1tXgE",
   "metadata": {
    "colab": {
     "base_uri": "https://localhost:8080/"
    },
    "id": "UvPaLcZ1tXgE",
    "outputId": "bb0f2eeb-7d68-4e31-9202-1ca37cd0c9c3",
    "executionInfo": {
     "status": "ok",
     "timestamp": 1753014959051,
     "user_tz": -240,
     "elapsed": 4615,
     "user": {
      "displayName": "Ivan Reznikov",
      "userId": "03906939862966425294"
     }
    }
   },
   "outputs": [
    {
     "output_type": "execute_result",
     "data": {
      "text/plain": [
       "AIMessage(content='To calculate the molecular mass of CC(=O)OC1=CC=CC=C1C(=O)O, we will break down the molecule into its constituent atoms and their respective counts.\\n\\n1. **Identify the structure**: The molecule can be broken down as follows:\\n   - CC(=O) indicates an acetyl group (C2H3O).\\n   - OC1=CC=CC=C1 indicates a phenyl ring (C6H5) with an ether linkage (O).\\n   - C(=O)O indicates a carboxylic acid group (COOH).\\n\\n2. **Count the atoms**:\\n   - From CC(=O): 2 Carbon (C) and 3 Hydrogen (H) and 1 Oxygen (O).\\n   - From OC1=CC=CC=C1: 6 Carbon (C) and 5 Hydrogen (H) and 1 Oxygen (O).\\n   - From C(=O)O: 1 Carbon (C) and 2 Oxygen (O) and 1 Hydrogen (H).\\n\\n3. **Total counts**:\\n   - Total Carbon (C): 2 + 6 + 1 = 9\\n   - Total Hydrogen (H): 3 + 5 + 1 = 9\\n   - Total Oxygen (O): 1 + 1 + 2 = 4\\n\\n4. **Calculate the molecular mass**:\\n   - Carbon (C): 12.01 g/mol \u00d7 9 = 108.09 g/mol\\n   - Hydrogen (H): 1.008 g/mol \u00d7 9 = 9.072 g/mol\\n   - Oxygen (O): 16.00 g/mol \u00d7 4 = 64.00 g/mol\\n\\n5. **Sum the masses**:\\n   - Total molecular mass = 108.09 g/mol + 9.072 g/mol + 64.00 g/mol = 181.162 g/mol\\n\\nFinal Answer: 181.16 g/mol', additional_kwargs={'refusal': None}, response_metadata={'token_usage': {'completion_tokens': 416, 'prompt_tokens': 69, 'total_tokens': 485, 'completion_tokens_details': {'accepted_prediction_tokens': 0, 'audio_tokens': 0, 'reasoning_tokens': 0, 'rejected_prediction_tokens': 0}, 'prompt_tokens_details': {'audio_tokens': 0, 'cached_tokens': 0}}, 'model_name': 'gpt-4o-mini-2024-07-18', 'system_fingerprint': None, 'id': 'chatcmpl-BvNYhYYnqwDcPjzqVsZYloQ4GcRI5', 'service_tier': 'default', 'finish_reason': 'stop', 'logprobs': None}, id='run--fcce09ca-da9c-4297-8ca5-c7b448a8502b-0', usage_metadata={'input_tokens': 69, 'output_tokens': 416, 'total_tokens': 485, 'input_token_details': {'audio': 0, 'cache_read': 0}, 'output_token_details': {'audio': 0, 'reasoning': 0}})"
      ]
     },
     "metadata": {},
     "execution_count": 32
    }
   ],
   "source": [
    "results[\"query_2\"][\"chain_b\"] = lcel_chain.invoke({\"question\": query_2})\n",
    "results[\"query_2\"][\"chain_b\"]"
   ]
  },
  {
   "cell_type": "code",
   "execution_count": null,
   "id": "cxllXMs7tXgF",
   "metadata": {
    "colab": {
     "base_uri": "https://localhost:8080/"
    },
    "id": "cxllXMs7tXgF",
    "outputId": "783f5124-08ad-42e5-801f-e6f919b21e92",
    "executionInfo": {
     "status": "ok",
     "timestamp": 1753014961663,
     "user_tz": -240,
     "elapsed": 2604,
     "user": {
      "displayName": "Ivan Reznikov",
      "userId": "03906939862966425294"
     }
    }
   },
   "outputs": [
    {
     "output_type": "execute_result",
     "data": {
      "text/plain": [
       "AIMessage(content='The 2D representation of the compound CC(=O)OC1=CC=CC=C1C(=O)O is as follows:\\n\\n```\\n       O\\n       ||\\n   C - C - O - C1\\n       |     /  \\\\\\n       C   C    C\\n       |   |    |\\n       C - C - C\\n       |     |\\n       O     O\\n       ||\\n       O\\n```\\n\\nThis structure represents the acetyl group (CC(=O)), an ester linkage (OC), a phenyl ring (C1=CC=CC=C1), and a carboxylic acid group (C(=O)O).', additional_kwargs={'refusal': None}, response_metadata={'token_usage': {'completion_tokens': 139, 'prompt_tokens': 69, 'total_tokens': 208, 'completion_tokens_details': {'accepted_prediction_tokens': 0, 'audio_tokens': 0, 'reasoning_tokens': 0, 'rejected_prediction_tokens': 0}, 'prompt_tokens_details': {'audio_tokens': 0, 'cached_tokens': 0}}, 'model_name': 'gpt-4o-mini-2024-07-18', 'system_fingerprint': None, 'id': 'chatcmpl-BvNYlxyyKw3u4Den3r2Qi079lWKeU', 'service_tier': 'default', 'finish_reason': 'stop', 'logprobs': None}, id='run--d84d93bc-aed9-454d-9830-0ebb15095da7-0', usage_metadata={'input_tokens': 69, 'output_tokens': 139, 'total_tokens': 208, 'input_token_details': {'audio': 0, 'cache_read': 0}, 'output_token_details': {'audio': 0, 'reasoning': 0}})"
      ]
     },
     "metadata": {},
     "execution_count": 33
    }
   ],
   "source": [
    "results[\"query_3\"][\"chain_b\"] = lcel_chain.invoke({\"question\": query_3})\n",
    "results[\"query_3\"][\"chain_b\"]"
   ]
  },
  {
   "cell_type": "code",
   "execution_count": null,
   "id": "-AN645ThtXgG",
   "metadata": {
    "colab": {
     "base_uri": "https://localhost:8080/"
    },
    "id": "-AN645ThtXgG",
    "outputId": "0039a309-18bf-40cb-d9fe-8f5df9690d08",
    "executionInfo": {
     "status": "ok",
     "timestamp": 1753014966191,
     "user_tz": -240,
     "elapsed": 4525,
     "user": {
      "displayName": "Ivan Reznikov",
      "userId": "03906939862966425294"
     }
    }
   },
   "outputs": [
    {
     "output_type": "execute_result",
     "data": {
      "text/plain": [
       "AIMessage(content=\"I'm unable to draw 3D representations directly, but I can guide you on how to visualize the structure of CC(=O)OC1=CC=CC=C1C(=O)O.\\n\\n1. **Identify the components**: The compound has an ester functional group (CC(=O)O) and a carboxylic acid (C(=O)O) attached to a phenyl ring (C1=CC=CC=C1).\\n\\n2. **Construct the backbone**: Start with the phenyl ring, which consists of six carbon atoms arranged in a cyclic structure with alternating double bonds.\\n\\n3. **Add substituents**: Attach the ester group (CC(=O)O) to one of the carbon atoms on the phenyl ring. The carbon chain (CC) will be connected to the carbonyl (C=O) of the ester.\\n\\n4. **Add the carboxylic acid**: Attach the carboxylic acid (C(=O)O) to another carbon on the phenyl ring.\\n\\n5. **Visualize in 3D**: Use molecular visualization software (like ChemDraw, Jmol, or PyMOL) to create a 3D model by inputting the molecular formula or drawing the structure.\\n\\nThis will give you a 3D representation of the compound.\", additional_kwargs={'refusal': None}, response_metadata={'token_usage': {'completion_tokens': 277, 'prompt_tokens': 69, 'total_tokens': 346, 'completion_tokens_details': {'accepted_prediction_tokens': 0, 'audio_tokens': 0, 'reasoning_tokens': 0, 'rejected_prediction_tokens': 0}, 'prompt_tokens_details': {'audio_tokens': 0, 'cached_tokens': 0}}, 'model_name': 'gpt-4o-mini-2024-07-18', 'system_fingerprint': None, 'id': 'chatcmpl-BvNYooihkeoqlXKSZSpR0X1LGBEsG', 'service_tier': 'default', 'finish_reason': 'stop', 'logprobs': None}, id='run--0b83e6a6-b6b4-46ac-a3b8-240a75d174bc-0', usage_metadata={'input_tokens': 69, 'output_tokens': 277, 'total_tokens': 346, 'input_token_details': {'audio': 0, 'cache_read': 0}, 'output_token_details': {'audio': 0, 'reasoning': 0}})"
      ]
     },
     "metadata": {},
     "execution_count": 34
    }
   ],
   "source": [
    "results[\"query_4\"][\"chain_b\"] = lcel_chain.invoke({\"question\": query_4})\n",
    "results[\"query_4\"][\"chain_b\"]"
   ]
  },
  {
   "cell_type": "markdown",
   "id": "51f703b2",
   "metadata": {
    "id": "51f703b2"
   },
   "source": [
    "-----------\n",
    "As one may notice, all three results are wrong. The formula is incorrect, the image of the molecule isn't displayed and the description of how to draw the molecule is wrong as well. Language models are great at generating tokens, but not as great with numbers and science."
   ]
  },
  {
   "cell_type": "markdown",
   "id": "f3f29153",
   "metadata": {
    "id": "f3f29153"
   },
   "source": [
    "## Strategy 4: LangChain Agents with Custom RDKit Tools <a class=\"anchor\" id=\"strategy_4\"></a>\n",
    "\n",
    "Now we implement the core solution: custom tools that wrap RDKit functionality\n",
    "and intelligent agents that can decide when to use each tool.\n",
    "\n",
    "### Architecture Overview:\n",
    "1. **Custom Tools**: Wrap RDKit functions as LangChain tools\n",
    "2. **Agent**: Uses LLM reasoning to select appropriate tools\n",
    "3. **Execution**: Tools perform actual chemical calculations and visualizations"
   ]
  },
  {
   "cell_type": "code",
   "execution_count": null,
   "id": "12f75386",
   "metadata": {
    "id": "12f75386"
   },
   "outputs": [],
   "source": [
    "from rdkit.Chem.rdMolDescriptors import CalcMolFormula\n",
    "from rdkit.Chem.Descriptors import ExactMolWt\n",
    "from rdkit.Chem import Draw, MolFromSmiles, MolToMolBlock, AddHs, AllChem\n",
    "import py3Dmol"
   ]
  },
  {
   "cell_type": "code",
   "execution_count": null,
   "id": "e933deff",
   "metadata": {
    "id": "e933deff"
   },
   "outputs": [],
   "source": [
    "# Specifying LLM\n",
    "model = \"gpt-4o-mini\"\n",
    "openai_handler = OpenAIHandler(model=model, verbose=True, callback=False)"
   ]
  },
  {
   "cell_type": "markdown",
   "source": [
    "### Core RDKit Utility Functions\n",
    "\n",
    "These functions handle the basic RDKit operations that our tools will use."
   ],
   "metadata": {
    "id": "ckNiLUdJj3YZ"
   },
   "id": "ckNiLUdJj3YZ"
  },
  {
   "cell_type": "code",
   "execution_count": null,
   "id": "f64ac239",
   "metadata": {
    "id": "f64ac239"
   },
   "outputs": [],
   "source": [
    "def draw3D(m, p=None, randomSeed=0xF00D, width=400, height=400):\n",
    "    \"\"\"\n",
    "    Generates a 3D visualization of the molecule using py3Dmol.\n",
    "\n",
    "    Args:\n",
    "        m (rdkit.Chem.Mol): RDKit molecule object.\n",
    "        p (py3Dmol.view, optional): Existing py3Dmol view object. If None, a new view will be created.\n",
    "        randomSeed (int, optional): Random seed for molecule embedding.\n",
    "        width (int, optional): Width of the visualization window.\n",
    "        height (int, optional): Height of the visualization window.\n",
    "\n",
    "    Returns:\n",
    "        py3Dmol.view: The py3Dmol view object containing the visualization.\n",
    "    \"\"\"\n",
    "    mb = AddHs(m)\n",
    "    AllChem.EmbedMolecule(mb, randomSeed=randomSeed)\n",
    "    mb = MolToMolBlock(mb)\n",
    "    if p is None:\n",
    "        p = py3Dmol.view(width=width, height=height)\n",
    "    p.removeAllModels()\n",
    "    p.addModel(mb, \"sdf\")\n",
    "    p.setStyle({\"stick\": {}})\n",
    "    p.zoomTo()\n",
    "    return p.show()\n",
    "\n",
    "\n",
    "def get_mol(text):\n",
    "    \"\"\"\n",
    "    Converts a SMILES string to an RDKit molecule object.\n",
    "\n",
    "    Args:\n",
    "        text (str): SMILES string.\n",
    "\n",
    "    Returns:\n",
    "        rdkit.Chem.Mol: RDKit molecule object, or None if conversion fails.\n",
    "    \"\"\"\n",
    "    return MolFromSmiles(text)\n",
    "\n",
    "\n",
    "def return_formula(smiles):\n",
    "    \"\"\"\n",
    "    Returns the molecular formula for a given SMILES string.\n",
    "\n",
    "    Args:\n",
    "        smiles (str): SMILES string.\n",
    "\n",
    "    Returns:\n",
    "        str: Molecular formula.\n",
    "    \"\"\"\n",
    "    mol = get_mol(smiles)\n",
    "    if mol:\n",
    "        return CalcMolFormula(mol)\n",
    "    return True\n",
    "\n",
    "\n",
    "def return_2D(smiles):\n",
    "    \"\"\"\n",
    "    Generates a 2D representation of the molecule.\n",
    "\n",
    "    Args:\n",
    "        smiles (str): SMILES string.\n",
    "\n",
    "    Returns:\n",
    "        PIL.Image.Image: 2D depiction as a PIL image, or None if conversion fails.\n",
    "    \"\"\"\n",
    "    mol = get_mol(smiles)\n",
    "    if mol:\n",
    "        return display(Draw.MolToImage(mol))\n",
    "    return True\n",
    "\n",
    "\n",
    "def return_3D(smiles, **kwargs):\n",
    "    \"\"\"\n",
    "    Generates a 3D representation of the molecule using py3Dmol.\n",
    "\n",
    "    Args:\n",
    "        smiles (str): SMILES string.\n",
    "        **kwargs: Additional keyword arguments to pass to the drawit function.\n",
    "\n",
    "    Returns:\n",
    "        py3Dmol.view: The py3Dmol view object containing the 3D visualization.\n",
    "    \"\"\"\n",
    "    mol = get_mol(smiles)\n",
    "    if mol:\n",
    "        return draw3D(mol, **kwargs)\n",
    "    return True"
   ]
  },
  {
   "cell_type": "markdown",
   "id": "e388b8f4",
   "metadata": {
    "id": "e388b8f4"
   },
   "source": [
    "Let's test out if our custom written functions works correctly:"
   ]
  },
  {
   "cell_type": "code",
   "execution_count": null,
   "id": "07c08b74",
   "metadata": {
    "colab": {
     "base_uri": "https://localhost:8080/",
     "height": 36
    },
    "id": "07c08b74",
    "outputId": "1e884f5d-b30a-4187-b10c-1eae94886ce1",
    "executionInfo": {
     "status": "ok",
     "timestamp": 1753014966549,
     "user_tz": -240,
     "elapsed": 50,
     "user": {
      "displayName": "Ivan Reznikov",
      "userId": "03906939862966425294"
     }
    }
   },
   "outputs": [
    {
     "output_type": "execute_result",
     "data": {
      "text/plain": [
       "'C9H8O4'"
      ],
      "application/vnd.google.colaboratory.intrinsic+json": {
       "type": "string"
      }
     },
     "metadata": {},
     "execution_count": 38
    }
   ],
   "source": [
    "return_formula(smiles)"
   ]
  },
  {
   "cell_type": "code",
   "execution_count": null,
   "id": "ead2671e",
   "metadata": {
    "colab": {
     "base_uri": "https://localhost:8080/",
     "height": 317
    },
    "id": "ead2671e",
    "outputId": "8c4e4175-e5eb-48c3-8df8-002bb666d0e6",
    "executionInfo": {
     "status": "ok",
     "timestamp": 1753014966780,
     "user_tz": -240,
     "elapsed": 229,
     "user": {
      "displayName": "Ivan Reznikov",
      "userId": "03906939862966425294"
     }
    }
   },
   "outputs": [
    {
     "output_type": "display_data",
     "data": {
      "text/plain": [
       "<PIL.PngImagePlugin.PngImageFile image mode=RGB size=300x300>"
      ],
      "image/png": "[encoded data removed]",
      "image/jpeg": "[encoded data removed]"
     },
     "metadata": {}
    }
   ],
   "source": [
    "return_2D(smiles)"
   ]
  },
  {
   "cell_type": "markdown",
   "id": "b6e9c0d7",
   "metadata": {
    "id": "b6e9c0d7"
   },
   "source": [
    "Seems to work correcty. Now it's time to develop the langchain part, that will understand what functions to call."
   ]
  },
  {
   "cell_type": "markdown",
   "source": [
    "### Creating LangChain Tools\n",
    "\n",
    "Now we wrap our RDKit functions as LangChain tools that agents can use.\n",
    "Each tool needs a clear name and description so the agent knows when to use it."
   ],
   "metadata": {
    "id": "wbdF7TAWj9a6"
   },
   "id": "wbdF7TAWj9a6"
  },
  {
   "cell_type": "code",
   "execution_count": null,
   "id": "5368d198",
   "metadata": {
    "id": "5368d198"
   },
   "outputs": [],
   "source": [
    "from langchain.tools import Tool, BaseTool\n",
    "from langchain.agents import AgentExecutor, create_react_agent\n",
    "from langchain import hub"
   ]
  },
  {
   "cell_type": "markdown",
   "id": "a12bad04",
   "metadata": {
    "id": "a12bad04"
   },
   "source": [
    "Currently there are 2 convenient ways to design Langchain tools:\n",
    "\n",
    "1. Defining tool through class:\n",
    "\n",
    "```\n",
    "class ReturnFormula(BaseTool):\n",
    "    name = \"return_formula\"\n",
    "    description = \"Return empirical chemical formula of a given smiles\"\n",
    "\n",
    "    def _run(self, smiles: str):\n",
    "        return return_formula(smiles)\n",
    "```\n",
    "\n",
    "2. Using Tool.from_function method:\n",
    "\n",
    "```\n",
    "return_formula_tool = Tool.from_function(\n",
    "    func=return_formula, name=\"return_formula\", description=\"Return empirical chemical formula of a given smiles\")\n",
    "```\n",
    "\n",
    "Both way contain the `name` and `description` - important field for the app to understand when is it necessary to call thesefunctions. The logic of a tool is comparable with python functions: it may vary from calling a single line to incorporating specific logic (for example ReturnMolecularWeight below)."
   ]
  },
  {
   "cell_type": "code",
   "execution_count": null,
   "id": "3cf09862",
   "metadata": {
    "id": "3cf09862"
   },
   "outputs": [],
   "source": [
    "class ReturnFormula(BaseTool):\n",
    "    name: str = \"return_formula\"\n",
    "    description: str = \"Return empirical chemical formula of a given smiles\"\n",
    "\n",
    "    def _run(self, smiles: str):\n",
    "        return return_formula(smiles)\n",
    "\n",
    "\n",
    "class ReturnMolecularWeight(BaseTool):\n",
    "    name: str = \"return_molecular_weight\"\n",
    "    description: str = \"Return molecular mass of a given molecule\"\n",
    "\n",
    "    def _run(self, smiles: str):\n",
    "        molecule = get_mol(smiles)\n",
    "        mass = ExactMolWt(molecule)\n",
    "        return mass\n",
    "\n",
    "\n",
    "class Return2DMolecule(BaseTool):\n",
    "    name: str = \"return_2d_molecule\"\n",
    "    description: str = \"Return 2D flat representation of a given molecule\"\n",
    "\n",
    "    def _run(self, smiles: str):\n",
    "        return return_2D(smiles)\n",
    "\n",
    "\n",
    "class Return3DMolecule(BaseTool):\n",
    "    name: str = \"return_3d_molecule\"\n",
    "    description: str = \"Return 3D rotatable representation of a given molecule\"\n",
    "\n",
    "    def _run(self, smiles: str):\n",
    "        return return_3D(smiles)\n",
    "\n",
    "\n",
    "# Initialize tools\n",
    "tools = [\n",
    "    ReturnFormula(),\n",
    "    ReturnMolecularWeight(),\n",
    "    Return2DMolecule(),\n",
    "    Return3DMolecule(),\n",
    "]"
   ]
  },
  {
   "cell_type": "markdown",
   "source": [
    "### Creating the ReAct Agent\n",
    "\n",
    "ReAct (Reasoning + Acting) agents follow a thought process:\n",
    "1. **Thought**: Analyze the question  \n",
    "2. **Action**: Choose appropriate tool\n",
    "3. **Action Input**: Provide tool parameters\n",
    "4. **Observation**: Review tool output\n",
    "5. **Final Answer**: Provide conclusion\n",
    "\n",
    "This creates transparent, interpretable AI reasoning."
   ],
   "metadata": {
    "id": "BurgzKP4kDjI"
   },
   "id": "BurgzKP4kDjI"
  },
  {
   "cell_type": "code",
   "source": [
    "template = \"\"\"Answer the following questions as best you can. You have access to the following tools:\n",
    "\n",
    "{tools}\n",
    "\n",
    "Use the following format:\n",
    "\n",
    "Question: the input question you must answer\n",
    "Thought: you should always think about what to do\n",
    "Action: the action to take, should be one of [{tool_names}]\n",
    "Action Input: the input to the action\n",
    "Observation: the result of the action\n",
    "... (this Thought/Action/Action Input/Observation can repeat N times)\n",
    "Thought: I now know the final answer\n",
    "Final Answer: the final answer to the original input question\n",
    "\n",
    "If the tool returns True - assume the tool completed its task\n",
    "As soon as you finish the task - exit the chain.\n",
    "\n",
    "Begin!\n",
    "\n",
    "Question: {input}\n",
    "Thought:{agent_scratchpad}\"\"\"\n",
    "\n",
    "prompt = PromptTemplate.from_template(template)\n",
    "\n",
    "agent = create_react_agent(openai_handler.model, tools, prompt)\n",
    "agent_executor = AgentExecutor(agent=agent, tools=tools, verbose=True)"
   ],
   "metadata": {
    "id": "PvSl9ynskJ8I"
   },
   "id": "PvSl9ynskJ8I",
   "execution_count": null,
   "outputs": []
  },
  {
   "cell_type": "markdown",
   "source": [
    "### Testing Custom Agent on All Queries\n",
    "\n",
    "Now let's see how our custom agent performs compared to vanilla LLMs."
   ],
   "metadata": {
    "id": "6_vC_11MkNgK"
   },
   "id": "6_vC_11MkNgK"
  },
  {
   "cell_type": "code",
   "execution_count": null,
   "id": "00c947e9",
   "metadata": {
    "colab": {
     "base_uri": "https://localhost:8080/"
    },
    "id": "00c947e9",
    "outputId": "7228f226-d3b6-4326-bdd7-d186570a5625",
    "executionInfo": {
     "status": "ok",
     "timestamp": 1753014969956,
     "user_tz": -240,
     "elapsed": 2580,
     "user": {
      "displayName": "Ivan Reznikov",
      "userId": "03906939862966425294"
     }
    }
   },
   "outputs": [
    {
     "output_type": "stream",
     "name": "stdout",
     "text": [
      "\n",
      "\n",
      "\u001b[1m> Entering new AgentExecutor chain...\u001b[0m\n",
      "\u001b[32;1m\u001b[1;3mTo find the empirical chemical formula of the given SMILES CC(=O)OC1=CC=CC=C1C(=O)O, I will use the appropriate tool to return the formula.\n",
      "\n",
      "Action: return_formula  \n",
      "Action Input: CC(=O)OC1=CC=CC=C1C(=O)O  \u001b[0m\u001b[36;1m\u001b[1;3mC9H8O4\u001b[0m\u001b[32;1m\u001b[1;3mI now know the final answer  \n",
      "Final Answer: C9H8O4\u001b[0m\n",
      "\n",
      "\u001b[1m> Finished chain.\u001b[0m\n"
     ]
    },
    {
     "output_type": "execute_result",
     "data": {
      "text/plain": [
       "{'input': 'What is the formula of CC(=O)OC1=CC=CC=C1C(=O)O?',\n",
       " 'output': 'C9H8O4'}"
      ]
     },
     "metadata": {},
     "execution_count": 43
    }
   ],
   "source": [
    "results[\"query_1\"][\"custom_agent\"] = agent_executor.invoke({\"input\": query_1})\n",
    "results[\"query_1\"][\"custom_agent\"]"
   ]
  },
  {
   "cell_type": "code",
   "execution_count": null,
   "id": "8a44e3d3",
   "metadata": {
    "colab": {
     "base_uri": "https://localhost:8080/"
    },
    "id": "8a44e3d3",
    "outputId": "e70e6918-200d-4e7b-b424-d42cee79d1f3",
    "scrolled": false,
    "executionInfo": {
     "status": "ok",
     "timestamp": 1753014972485,
     "user_tz": -240,
     "elapsed": 2515,
     "user": {
      "displayName": "Ivan Reznikov",
      "userId": "03906939862966425294"
     }
    }
   },
   "outputs": [
    {
     "output_type": "stream",
     "name": "stdout",
     "text": [
      "\n",
      "\n",
      "\u001b[1m> Entering new AgentExecutor chain...\u001b[0m\n",
      "\u001b[32;1m\u001b[1;3mTo find the molecular mass of the compound represented by the SMILES string CC(=O)OC1=CC=CC=C1C(=O)O, I will use the appropriate tool to calculate it.\n",
      "\n",
      "Action: return_molecular_weight  \n",
      "Action Input: CC(=O)OC1=CC=CC=C1C(=O)O  \u001b[0m\u001b[33;1m\u001b[1;3m180.042258736\u001b[0m\u001b[32;1m\u001b[1;3mI now know the final answer  \n",
      "Final Answer: The molecular mass of CC(=O)OC1=CC=CC=C1C(=O)O is 180.04 g/mol.\u001b[0m\n",
      "\n",
      "\u001b[1m> Finished chain.\u001b[0m\n"
     ]
    },
    {
     "output_type": "execute_result",
     "data": {
      "text/plain": [
       "{'input': 'What is the molecular mass of CC(=O)OC1=CC=CC=C1C(=O)O',\n",
       " 'output': 'The molecular mass of CC(=O)OC1=CC=CC=C1C(=O)O is 180.04 g/mol.'}"
      ]
     },
     "metadata": {},
     "execution_count": 44
    }
   ],
   "source": [
    "results[\"query_2\"][\"custom_agent\"] = agent_executor.invoke({\"input\": query_2})\n",
    "results[\"query_2\"][\"custom_agent\"]"
   ]
  },
  {
   "cell_type": "code",
   "execution_count": null,
   "id": "47afd869",
   "metadata": {
    "colab": {
     "base_uri": "https://localhost:8080/",
     "height": 1000
    },
    "id": "47afd869",
    "outputId": "29492cf8-9288-4bac-9cf9-ec0a1247a0d3",
    "executionInfo": {
     "status": "ok",
     "timestamp": 1753014982473,
     "user_tz": -240,
     "elapsed": 9979,
     "user": {
      "displayName": "Ivan Reznikov",
      "userId": "03906939862966425294"
     }
    }
   },
   "outputs": [
    {
     "output_type": "stream",
     "name": "stdout",
     "text": [
      "\n",
      "\n",
      "\u001b[1m> Entering new AgentExecutor chain...\u001b[0m\n",
      "\u001b[32;1m\u001b[1;3mI need to create a 2D representation of the molecule with the given SMILES notation \"CC(=O)OC1=CC=CC=C1C(=O)O\". \n",
      "Action: return_2d_molecule\n",
      "Action Input: CC(=O)OC1=CC=CC=C1C(=O)O\u001b[0m"
     ]
    },
    {
     "output_type": "display_data",
     "data": {
      "text/plain": [
       "<PIL.PngImagePlugin.PngImageFile image mode=RGB size=300x300>"
      ],
      "image/png": "[encoded data removed]",
      "image/jpeg": "[encoded data removed]"
     },
     "metadata": {}
    },
    {
     "output_type": "stream",
     "name": "stdout",
     "text": [
      "\u001b[38;5;200m\u001b[1;3mNone\u001b[0m\u001b[32;1m\u001b[1;3mIt seems that the action to create a 2D representation did not return any result. I will try again to ensure that I can obtain the 2D representation of the molecule.\n",
      "\n",
      "Action: return_2d_molecule\n",
      "Action Input: CC(=O)OC1=CC=CC=C1C(=O)O\u001b[0m"
     ]
    },
    {
     "output_type": "display_data",
     "data": {
      "text/plain": [
       "<PIL.PngImagePlugin.PngImageFile image mode=RGB size=300x300>"
      ],
      "image/png": "[encoded data removed]",
      "image/jpeg": "[encoded data removed]"
     },
     "metadata": {}
    },
    {
     "output_type": "stream",
     "name": "stdout",
     "text": [
      "\u001b[38;5;200m\u001b[1;3mNone\u001b[0m\u001b[32;1m\u001b[1;3mIt appears that the tool is not providing a result for the 2D representation of the molecule. I will attempt to gather more information about the molecule to see if I can proceed with a different action.\n",
      "\n",
      "Action: return_formula\n",
      "Action Input: CC(=O)OC1=CC=CC=C1C(=O)O\u001b[0m\u001b[36;1m\u001b[1;3mC9H8O4\u001b[0m\u001b[32;1m\u001b[1;3mI now know the empirical formula of the molecule. However, I still need the 2D representation. Since the previous attempts did not yield a result, I will try to gather more information about the molecular weight to see if that can help.\n",
      "\n",
      "Action: return_molecular_weight\n",
      "Action Input: CC(=O)OC1=CC=CC=C1C(=O)O\u001b[0m\u001b[33;1m\u001b[1;3m180.042258736\u001b[0m\u001b[32;1m\u001b[1;3mI now have the molecular weight of the compound, which is approximately 180.04 g/mol. However, I still need the 2D representation of the molecule, and previous attempts to obtain it were unsuccessful. I will try one more time to get the 2D representation.\n",
      "\n",
      "Action: return_2d_molecule\n",
      "Action Input: CC(=O)OC1=CC=CC=C1C(=O)O\u001b[0m"
     ]
    },
    {
     "output_type": "display_data",
     "data": {
      "text/plain": [
       "<PIL.PngImagePlugin.PngImageFile image mode=RGB size=300x300>"
      ],
      "image/png": "[encoded data removed]",
      "image/jpeg": "[encoded data removed]"
     },
     "metadata": {}
    },
    {
     "output_type": "stream",
     "name": "stdout",
     "text": [
      "\u001b[38;5;200m\u001b[1;3mNone\u001b[0m\u001b[32;1m\u001b[1;3mIt seems that I am unable to obtain a 2D representation of the molecule despite multiple attempts. I have gathered the empirical formula and molecular weight, but the 2D representation is still not available. \n",
      "\n",
      "Final Answer: I am unable to provide a 2D representation of the molecule with the given SMILES notation \"CC(=O)OC1=CC=CC=C1C(=O)O\". The empirical formula is C9H8O4 and the molecular weight is approximately 180.04 g/mol.\u001b[0m\n",
      "\n",
      "\u001b[1m> Finished chain.\u001b[0m\n"
     ]
    },
    {
     "output_type": "execute_result",
     "data": {
      "text/plain": [
       "{'input': 'Draw 2D representation of CC(=O)OC1=CC=CC=C1C(=O)O?',\n",
       " 'output': 'I am unable to provide a 2D representation of the molecule with the given SMILES notation \"CC(=O)OC1=CC=CC=C1C(=O)O\". The empirical formula is C9H8O4 and the molecular weight is approximately 180.04 g/mol.'}"
      ]
     },
     "metadata": {},
     "execution_count": 45
    }
   ],
   "source": [
    "results[\"query_3\"][\"custom_agent\"] = agent_executor.invoke({\"input\": query_3})\n",
    "results[\"query_3\"][\"custom_agent\"]"
   ]
  },
  {
   "cell_type": "code",
   "execution_count": null,
   "id": "c0b44fb2",
   "metadata": {
    "colab": {
     "base_uri": "https://localhost:8080/",
     "height": 643
    },
    "id": "c0b44fb2",
    "outputId": "6a9ad4b6-1133-447a-a63f-f48e98bc2dba",
    "executionInfo": {
     "status": "ok",
     "timestamp": 1753014985630,
     "user_tz": -240,
     "elapsed": 3144,
     "user": {
      "displayName": "Ivan Reznikov",
      "userId": "03906939862966425294"
     }
    }
   },
   "outputs": [
    {
     "output_type": "stream",
     "name": "stdout",
     "text": [
      "\n",
      "\n",
      "\u001b[1m> Entering new AgentExecutor chain...\u001b[0m\n",
      "\u001b[32;1m\u001b[1;3mI need to create a 3D representation of the molecule with the given SMILES notation \"CC(=O)OC1=CC=CC=C1C(=O)O\". \n",
      "Action: return_3d_molecule\n",
      "Action Input: CC(=O)OC1=CC=CC=C1C(=O)O\u001b[0m"
     ]
    },
    {
     "output_type": "display_data",
     "data": {
      "application/3dmoljs_load.v0": "<div id=\"3dmolviewer_17530149845545669\"  style=\"position: relative; width: 400px; height: 400px;\">\n        <p id=\"3dmolwarning_17530149845545669\" style=\"background-color:#ffcccc;color:black\">3Dmol.js failed to load for some reason.  Please check your browser console for error messages.<br></p>\n        </div>\n<script>\n\nvar loadScriptAsync = function(uri){\n  return new Promise((resolve, reject) => {\n    //this is to ignore the existence of requirejs amd\n    var savedexports, savedmodule;\n    if (typeof exports !== 'undefined') savedexports = exports;\n    else exports = {}\n    if (typeof module !== 'undefined') savedmodule = module;\n    else module = {}\n\n    var tag = document.createElement('script');\n    tag.src = uri;\n    tag.async = true;\n    tag.onload = () => {\n        exports = savedexports;\n        module = savedmodule;\n        resolve();\n    };\n  var firstScriptTag = document.getElementsByTagName('script')[0];\n  firstScriptTag.parentNode.insertBefore(tag, firstScriptTag);\n});\n};\n\nif(typeof $3Dmolpromise === 'undefined') {\n$3Dmolpromise = null;\n  $3Dmolpromise = loadScriptAsync('https://cdn.jsdelivr.net/npm/3dmol@2.5.1/build/3Dmol-min.js');\n}\n\nvar viewer_17530149845545669 = null;\nvar warn = document.getElementById(\"3dmolwarning_17530149845545669\");\nif(warn) {\n    warn.parentNode.removeChild(warn);\n}\n$3Dmolpromise.then(function() {\nviewer_17530149845545669 = $3Dmol.createViewer(document.getElementById(\"3dmolviewer_17530149845545669\"),{backgroundColor:\"white\"});\nviewer_17530149845545669.zoomTo();\n\tviewer_17530149845545669.removeAllModels();\n\tviewer_17530149845545669.addModel(\"\\n     RDKit          3D\\n\\n 21 21  0  0  0  0  0  0  0  0999 V2000\\n    3.3903   -0.5212   -0.4758 C   0  0  0  0  0  0  0  0  0  0  0  0\\n    1.9720   -0.6436   -0.0635 C   0  0  0  0  0  0  0  0  0  0  0  0\\n    1.6301   -1.1675    1.0166 O   0  0  0  0  0  0  0  0  0  0  0  0\\n    0.9073   -0.1954   -0.8255 O   0  0  0  0  0  0  0  0  0  0  0  0\\n   -0.4044   -0.3051   -0.4511 C   0  0  0  0  0  0  0  0  0  0  0  0\\n   -1.1765   -1.3899   -0.7281 C   0  0  0  0  0  0  0  0  0  0  0  0\\n   -2.4881   -1.4639   -0.3362 C   0  0  0  0  0  0  0  0  0  0  0  0\\n   -3.0501   -0.4001    0.3659 C   0  0  0  0  0  0  0  0  0  0  0  0\\n   -2.3123    0.7152    0.6689 C   0  0  0  0  0  0  0  0  0  0  0  0\\n   -0.9825    0.7387    0.2464 C   0  0  0  0  0  0  0  0  0  0  0  0\\n   -0.1995    1.9408    0.5737 C   0  0  0  0  0  0  0  0  0  0  0  0\\n   -0.6696    2.8981    1.1954 O   0  0  0  0  0  0  0  0  0  0  0  0\\n    1.1147    1.9641    0.1511 O   0  0  0  0  0  0  0  0  0  0  0  0\\n    3.9891   -0.2061    0.3925 H   0  0  0  0  0  0  0  0  0  0  0  0\\n    3.4383    0.2548   -1.2550 H   0  0  0  0  0  0  0  0  0  0  0  0\\n    3.7597   -1.4985   -0.8155 H   0  0  0  0  0  0  0  0  0  0  0  0\\n   -0.7349   -2.2001   -1.2672 H   0  0  0  0  0  0  0  0  0  0  0  0\\n   -3.0757   -2.3437   -0.5735 H   0  0  0  0  0  0  0  0  0  0  0  0\\n   -4.1040   -0.4696    0.6760 H   0  0  0  0  0  0  0  0  0  0  0  0\\n   -2.7418    1.5541    1.2181 H   0  0  0  0  0  0  0  0  0  0  0  0\\n    1.7377    2.7388    0.2867 H   0  0  0  0  0  0  0  0  0  0  0  0\\n  1  2  1  0\\n  2  3  2  0\\n  2  4  1  0\\n  4  5  1  0\\n  5  6  2  0\\n  6  7  1  0\\n  7  8  2  0\\n  8  9  1  0\\n  9 10  2  0\\n 10 11  1  0\\n 11 12  2  0\\n 11 13  1  0\\n 10  5  1  0\\n  1 14  1  0\\n  1 15  1  0\\n  1 16  1  0\\n  6 17  1  0\\n  7 18  1  0\\n  8 19  1  0\\n  9 20  1  0\\n 13 21  1  0\\nM  END\\n\",\"sdf\");\n\tviewer_17530149845545669.setStyle({\"stick\": {}});\n\tviewer_17530149845545669.zoomTo();\nviewer_17530149845545669.render();\n});\n</script>",
      "text/html": [
       "<div id=\"3dmolviewer_17530149845545669\"  style=\"position: relative; width: 400px; height: 400px;\">\n",
       "        <p id=\"3dmolwarning_17530149845545669\" style=\"background-color:#ffcccc;color:black\">3Dmol.js failed to load for some reason.  Please check your browser console for error messages.<br></p>\n",
       "        </div>\n",
       "<script>\n",
       "\n",
       "var loadScriptAsync = function(uri){\n",
       "  return new Promise((resolve, reject) => {\n",
       "    //this is to ignore the existence of requirejs amd\n",
       "    var savedexports, savedmodule;\n",
       "    if (typeof exports !== 'undefined') savedexports = exports;\n",
       "    else exports = {}\n",
       "    if (typeof module !== 'undefined') savedmodule = module;\n",
       "    else module = {}\n",
       "\n",
       "    var tag = document.createElement('script');\n",
       "    tag.src = uri;\n",
       "    tag.async = true;\n",
       "    tag.onload = () => {\n",
       "        exports = savedexports;\n",
       "        module = savedmodule;\n",
       "        resolve();\n",
       "    };\n",
       "  var firstScriptTag = document.getElementsByTagName('script')[0];\n",
       "  firstScriptTag.parentNode.insertBefore(tag, firstScriptTag);\n",
       "});\n",
       "};\n",
       "\n",
       "if(typeof $3Dmolpromise === 'undefined') {\n",
       "$3Dmolpromise = null;\n",
       "  $3Dmolpromise = loadScriptAsync('https://cdn.jsdelivr.net/npm/3dmol@2.5.1/build/3Dmol-min.js');\n",
       "}\n",
       "\n",
       "var viewer_17530149845545669 = null;\n",
       "var warn = document.getElementById(\"3dmolwarning_17530149845545669\");\n",
       "if(warn) {\n",
       "    warn.parentNode.removeChild(warn);\n",
       "}\n",
       "$3Dmolpromise.then(function() {\n",
       "viewer_17530149845545669 = $3Dmol.createViewer(document.getElementById(\"3dmolviewer_17530149845545669\"),{backgroundColor:\"white\"});\n",
       "viewer_17530149845545669.zoomTo();\n",
       "\tviewer_17530149845545669.removeAllModels();\n",
       "\tviewer_17530149845545669.addModel(\"\\n     RDKit          3D\\n\\n 21 21  0  0  0  0  0  0  0  0999 V2000\\n    3.3903   -0.5212   -0.4758 C   0  0  0  0  0  0  0  0  0  0  0  0\\n    1.9720   -0.6436   -0.0635 C   0  0  0  0  0  0  0  0  0  0  0  0\\n    1.6301   -1.1675    1.0166 O   0  0  0  0  0  0  0  0  0  0  0  0\\n    0.9073   -0.1954   -0.8255 O   0  0  0  0  0  0  0  0  0  0  0  0\\n   -0.4044   -0.3051   -0.4511 C   0  0  0  0  0  0  0  0  0  0  0  0\\n   -1.1765   -1.3899   -0.7281 C   0  0  0  0  0  0  0  0  0  0  0  0\\n   -2.4881   -1.4639   -0.3362 C   0  0  0  0  0  0  0  0  0  0  0  0\\n   -3.0501   -0.4001    0.3659 C   0  0  0  0  0  0  0  0  0  0  0  0\\n   -2.3123    0.7152    0.6689 C   0  0  0  0  0  0  0  0  0  0  0  0\\n   -0.9825    0.7387    0.2464 C   0  0  0  0  0  0  0  0  0  0  0  0\\n   -0.1995    1.9408    0.5737 C   0  0  0  0  0  0  0  0  0  0  0  0\\n   -0.6696    2.8981    1.1954 O   0  0  0  0  0  0  0  0  0  0  0  0\\n    1.1147    1.9641    0.1511 O   0  0  0  0  0  0  0  0  0  0  0  0\\n    3.9891   -0.2061    0.3925 H   0  0  0  0  0  0  0  0  0  0  0  0\\n    3.4383    0.2548   -1.2550 H   0  0  0  0  0  0  0  0  0  0  0  0\\n    3.7597   -1.4985   -0.8155 H   0  0  0  0  0  0  0  0  0  0  0  0\\n   -0.7349   -2.2001   -1.2672 H   0  0  0  0  0  0  0  0  0  0  0  0\\n   -3.0757   -2.3437   -0.5735 H   0  0  0  0  0  0  0  0  0  0  0  0\\n   -4.1040   -0.4696    0.6760 H   0  0  0  0  0  0  0  0  0  0  0  0\\n   -2.7418    1.5541    1.2181 H   0  0  0  0  0  0  0  0  0  0  0  0\\n    1.7377    2.7388    0.2867 H   0  0  0  0  0  0  0  0  0  0  0  0\\n  1  2  1  0\\n  2  3  2  0\\n  2  4  1  0\\n  4  5  1  0\\n  5  6  2  0\\n  6  7  1  0\\n  7  8  2  0\\n  8  9  1  0\\n  9 10  2  0\\n 10 11  1  0\\n 11 12  2  0\\n 11 13  1  0\\n 10  5  1  0\\n  1 14  1  0\\n  1 15  1  0\\n  1 16  1  0\\n  6 17  1  0\\n  7 18  1  0\\n  8 19  1  0\\n  9 20  1  0\\n 13 21  1  0\\nM  END\\n\",\"sdf\");\n",
       "\tviewer_17530149845545669.setStyle({\"stick\": {}});\n",
       "\tviewer_17530149845545669.zoomTo();\n",
       "viewer_17530149845545669.render();\n",
       "});\n",
       "</script>"
      ]
     },
     "metadata": {}
    },
    {
     "output_type": "stream",
     "name": "stdout",
     "text": [
      "\u001b[36;1m\u001b[1;3mNone\u001b[0m\u001b[32;1m\u001b[1;3mI need to check if the action to create a 3D representation of the molecule was successful. Since there was no output, it seems the action did not complete as expected. \n",
      "\n",
      "Final Answer: The 3D representation of the molecule with the given SMILES notation \"CC(=O)OC1=CC=CC=C1C(=O)O\" could not be generated.\u001b[0m\n",
      "\n",
      "\u001b[1m> Finished chain.\u001b[0m\n"
     ]
    },
    {
     "output_type": "execute_result",
     "data": {
      "text/plain": [
       "{'input': 'Draw 3D representation of CC(=O)OC1=CC=CC=C1C(=O)O?',\n",
       " 'output': 'The 3D representation of the molecule with the given SMILES notation \"CC(=O)OC1=CC=CC=C1C(=O)O\" could not be generated.'}"
      ]
     },
     "metadata": {},
     "execution_count": 46
    }
   ],
   "source": [
    "results[\"query_4\"][\"custom_agent\"] = agent_executor.invoke({\"input\": query_4})\n",
    "results[\"query_4\"][\"custom_agent\"]"
   ]
  },
  {
   "cell_type": "markdown",
   "id": "b91f37c6",
   "metadata": {
    "id": "b91f37c6"
   },
   "source": [
    "As one can notice, all 4 queries were completed. The developed agent, based on the description, understood what agents to run, based on the query. Despite caliming it can't provide a 3D representation, jupyter notebook supports embeded 3D representations (turn on *Trusted* if not).\n",
    "\n",
    "### Key Advantages of Custom Agent Approach:\n",
    "\n",
    "1. **Accurate Calculations**: RDKit provides precise molecular properties\n",
    "2. **Actual Visualizations**: Generates real 2D/3D molecular structures\n",
    "3. **Intelligent Tool Selection**: Agent chooses appropriate tools based on question type\n",
    "4. **Extensible**: Easy to add new chemical analysis tools\n",
    "5. **Transparent Reasoning**: ReAct format shows decision-making process"
   ]
  },
  {
   "cell_type": "markdown",
   "id": "7259007f",
   "metadata": {
    "id": "7259007f"
   },
   "source": [
    "## Strategy 5: Retrieval-Augmented Generation with RDKit Documentation <a class=\"anchor\" id=\"strategy_4\"></a>\n",
    "\n",
    "Instead of pre-written tools, what if we could give the LLM access to RDKit\n",
    "documentation and let it generate code dynamically? This RAG approach provides:\n",
    "\n",
    "- **Flexibility**: Can handle requests we didn't anticipate\n",
    "- **Completeness**: Access to full RDKit functionality\n",
    "- **Adaptability**: Agent learns from comprehensive documentation\n",
    "\n",
    "### RAG Pipeline:\n",
    "1. **Document Ingestion**: Load RDKit documentation\n",
    "2. **Vector Storage**: Create searchable knowledge base  \n",
    "3. **Retrieval**: Find relevant docs for each query\n",
    "4. **Code Generation**: LLM creates RDKit code based on docs\n",
    "5. **Execution**: Run generated code safely\n",
    "\n",
    "There are a couple of ways we can employ to obtain the RDKit documentation:\n",
    "\n",
    "1. Utilize the `inspect` package to extract all the docstrings from the `rdkit` package. *Spoiler: not as simple as one would've thought*.\n",
    "2. Perform web scraping to collect the necessary information from www.rdkit.org and store it into a document.\n",
    "\n",
    "After collecting the documentation, we'll store it in a vector database and similar to the previous strategy, we'll build an agent with tools, to run our queries."
   ]
  },
  {
   "cell_type": "code",
   "source": [
    "!pip install -q --ignore-installed numpy==2.0.2"
   ],
   "metadata": {
    "colab": {
     "base_uri": "https://localhost:8080/"
    },
    "id": "rKjPWZ5ZmF9H",
    "executionInfo": {
     "status": "ok",
     "timestamp": 1753014995820,
     "user_tz": -240,
     "elapsed": 10180,
     "user": {
      "displayName": "Ivan Reznikov",
      "userId": "03906939862966425294"
     }
    },
    "outputId": "e551bb17-b58f-4fb4-e75f-c7a8fb00d74b"
   },
   "id": "rKjPWZ5ZmF9H",
   "execution_count": null,
   "outputs": [
    {
     "output_type": "stream",
     "name": "stdout",
     "text": [
      "\u001b[2K     \u001b[90m\u2501\u2501\u2501\u2501\u2501\u2501\u2501\u2501\u2501\u2501\u2501\u2501\u2501\u2501\u2501\u2501\u2501\u2501\u2501\u2501\u2501\u2501\u2501\u2501\u2501\u2501\u2501\u2501\u2501\u2501\u2501\u2501\u2501\u2501\u2501\u2501\u2501\u2501\u2501\u2501\u001b[0m \u001b[32m60.9/60.9 kB\u001b[0m \u001b[31m3.5 MB/s\u001b[0m eta \u001b[36m0:00:00\u001b[0m\n",
      "\u001b[2K   \u001b[90m\u2501\u2501\u2501\u2501\u2501\u2501\u2501\u2501\u2501\u2501\u2501\u2501\u2501\u2501\u2501\u2501\u2501\u2501\u2501\u2501\u2501\u2501\u2501\u2501\u2501\u2501\u2501\u2501\u2501\u2501\u2501\u2501\u2501\u2501\u2501\u2501\u2501\u2501\u2501\u2501\u001b[0m \u001b[32m19.5/19.5 MB\u001b[0m \u001b[31m66.4 MB/s\u001b[0m eta \u001b[36m0:00:00\u001b[0m\n",
      "\u001b[?25h"
     ]
    }
   ]
  },
  {
   "cell_type": "markdown",
   "source": [
    "We'll use pre-scraped RDKit documentation that includes function signatures,\n",
    "descriptions, and usage examples."
   ],
   "metadata": {
    "id": "NQuof7YvkoSo"
   },
   "id": "NQuof7YvkoSo"
  },
  {
   "cell_type": "code",
   "execution_count": null,
   "id": "d69c4337",
   "metadata": {
    "id": "d69c4337"
   },
   "outputs": [],
   "source": [
    "import inspect\n",
    "import rdkit\n",
    "\n",
    "\n",
    "def extract_docstrings(\n",
    "    obj, parent_name=\"\", results=None, depth=0, max_depth=10, visited=None\n",
    "):\n",
    "    \"\"\"\n",
    "    Recursively extract docstrings from objects within a given module/package.\n",
    "\n",
    "    Args:\n",
    "        obj (module or package): The module or package to extract docstrings from.\n",
    "        parent_name (str, optional): Name of the parent object, used to create fully qualified names.\n",
    "        results (dict, optional): A dictionary to store extracted docstrings.\n",
    "        depth (int, optional): Current depth in the hierarchy.\n",
    "        max_depth (int, optional): Maximum depth to traverse.\n",
    "        visited (set, optional): Set to keep track of visited objects.\n",
    "\n",
    "    Returns:\n",
    "        dict: A dictionary containing extracted docstrings with fully qualified names as keys.\n",
    "    \"\"\"\n",
    "    if results is None:\n",
    "        results = {}\n",
    "    if visited is None:\n",
    "        visited = set()\n",
    "\n",
    "    # Stop if maximum depth is exceeded\n",
    "    if depth > max_depth:\n",
    "        return results\n",
    "\n",
    "    for name, member in inspect.getmembers(obj):\n",
    "        if inspect.isfunction(member) or inspect.ismethod(member):\n",
    "            full_name = f\"{parent_name}.{name}\" if parent_name else name\n",
    "            results[full_name] = member.__doc__\n",
    "        elif (\n",
    "            inspect.ismodule(member) or inspect.isclass(member)\n",
    "        ) and name not in visited:\n",
    "            new_parent_name = f\"{parent_name}.{name}\" if parent_name else name\n",
    "            visited.add(name)\n",
    "            extract_docstrings(\n",
    "                member, new_parent_name, results, depth + 1, max_depth, visited\n",
    "            )\n",
    "\n",
    "    return results\n",
    "\n",
    "\n",
    "rdkit_function_docs = extract_docstrings(rdkit)"
   ]
  },
  {
   "cell_type": "code",
   "execution_count": null,
   "id": "6ac9513b",
   "metadata": {
    "colab": {
     "base_uri": "https://localhost:8080/"
    },
    "id": "6ac9513b",
    "outputId": "65d61bd9-e330-49d4-d2c4-627e874c6d12",
    "scrolled": true,
    "executionInfo": {
     "status": "ok",
     "timestamp": 1753014996042,
     "user_tz": -240,
     "elapsed": 61,
     "user": {
      "displayName": "Ivan Reznikov",
      "userId": "03906939862966425294"
     }
    }
   },
   "outputs": [
    {
     "output_type": "execute_result",
     "data": {
      "text/plain": [
       "['Chem.AllChem.AssignBondOrdersFromTemplate',\n",
       " 'Chem.AllChem.CanonSmiles',\n",
       " 'Chem.AllChem.ChemUtils.DescriptorUtilities.VectorDescriptorNamespace.__init__',\n",
       " 'Chem.AllChem.ChemUtils.DescriptorUtilities.VectorDescriptorWrapper.__init__',\n",
       " 'Chem.AllChem.ChemUtils.DescriptorUtilities.VectorDescriptorWrapper._get_key',\n",
       " 'Chem.AllChem.ChemUtils.DescriptorUtilities.VectorDescriptorWrapper.call_desc',\n",
       " 'Chem.AllChem.ChemUtils.DescriptorUtilities.math.__loader__.create_module',\n",
       " 'Chem.AllChem.ChemUtils.DescriptorUtilities.math.__loader__.exec_module',\n",
       " 'Chem.AllChem.ChemUtils.DescriptorUtilities.math.__loader__.find_module',\n",
       " 'Chem.AllChem.ChemUtils.DescriptorUtilities.math.__loader__.find_spec']"
      ]
     },
     "metadata": {},
     "execution_count": 49
    }
   ],
   "source": [
    "list(rdkit_function_docs.keys())[:10]"
   ]
  },
  {
   "cell_type": "markdown",
   "id": "5be88f39",
   "metadata": {
    "id": "5be88f39"
   },
   "source": [
    "Allthough the results look promissing, some functionality is missing. To showcase it, let us take a look on `ExactMolWt` and `MolFromSmiles` methods we've used previously."
   ]
  },
  {
   "cell_type": "code",
   "execution_count": null,
   "id": "4410a940",
   "metadata": {
    "colab": {
     "base_uri": "https://localhost:8080/"
    },
    "id": "4410a940",
    "outputId": "e4ee0cd0-148f-42d2-c20c-df966c48a976",
    "executionInfo": {
     "status": "ok",
     "timestamp": 1753014996067,
     "user_tz": -240,
     "elapsed": 22,
     "user": {
      "displayName": "Ivan Reznikov",
      "userId": "03906939862966425294"
     }
    }
   },
   "outputs": [
    {
     "output_type": "stream",
     "name": "stdout",
     "text": [
      "====================\n",
      "ExactMolWt\n",
      "----------\n",
      "Now such key as 'Chem.Descriptors.ExactMolWt'\n",
      "====================\n",
      "MolFromSmiles\n",
      "----------\n",
      "Now such key as 'Chem.MolFromSmiles'\n",
      "Now such key as 'Chem.rdmolfiles.MolFromSmiles'\n",
      "[]\n"
     ]
    }
   ],
   "source": [
    "# from rdkit.Chem.Descriptors import ExactMolWt\n",
    "print(\"=\" * 20)\n",
    "print(\"ExactMolWt\")\n",
    "print(\"-\" * 10)\n",
    "\n",
    "try:\n",
    "    print(rdkit_function_docs[\"Chem.Descriptors.ExactMolWt\"])\n",
    "except KeyError as e:\n",
    "    print(f\"Now such key as {e}\")\n",
    "\n",
    "print(\"=\" * 20)\n",
    "print(\"MolFromSmiles\")\n",
    "print(\"-\" * 10)\n",
    "\n",
    "# from rdkit.Chem import MolFromSmiles\n",
    "try:\n",
    "    print(rdkit_function_docs[\"Chem.MolFromSmiles\"])\n",
    "except KeyError as e:\n",
    "    print(f\"Now such key as {e}\")\n",
    "\n",
    "# https://www.rdkit.org/docs/source/rdkit.Chem.rdmolfiles.html#rdkit.Chem.rdmolfiles.MolFromSmiles\n",
    "try:\n",
    "    print(rdkit_function_docs[\"Chem.rdmolfiles.MolFromSmiles\"])\n",
    "except KeyError as e:\n",
    "    print(f\"Now such key as {e}\")\n",
    "\n",
    "# Print all keys that contain \"molfromsmiles\"\n",
    "print([x for x in rdkit_function_docs if \"molfromsmiles\" in x.lower()])"
   ]
  },
  {
   "cell_type": "code",
   "execution_count": null,
   "id": "vZlnjy7ZxQRJ",
   "metadata": {
    "colab": {
     "base_uri": "https://localhost:8080/"
    },
    "id": "vZlnjy7ZxQRJ",
    "outputId": "24b4ab82-325b-4ede-9fb7-27b83cc0365b",
    "executionInfo": {
     "status": "ok",
     "timestamp": 1753014997930,
     "user_tz": -240,
     "elapsed": 1860,
     "user": {
      "displayName": "Ivan Reznikov",
      "userId": "03906939862966425294"
     }
    }
   },
   "outputs": [
    {
     "output_type": "stream",
     "name": "stdout",
     "text": [
      "--2025-07-20 12:36:36--  https://raw.githubusercontent.com/IvanReznikov/LangChain4LifeScience/main/data/datasets/ch6_rdkit_2023.9.6_extended.txt\n",
      "Resolving raw.githubusercontent.com (raw.githubusercontent.com)... 185.199.108.133, 185.199.109.133, 185.199.110.133, ...\n",
      "Connecting to raw.githubusercontent.com (raw.githubusercontent.com)|185.199.108.133|:443... connected.\n",
      "HTTP request sent, awaiting response... 200 OK\n",
      "Length: 59199333 (56M) [text/plain]\n",
      "Saving to: \u2018rdkit_ext.txt\u2019\n",
      "\n",
      "rdkit_ext.txt       100%[===================>]  56.46M   249MB/s    in 0.2s    \n",
      "\n",
      "2025-07-20 12:36:37 (249 MB/s) - \u2018rdkit_ext.txt\u2019 saved [59199333/59199333]\n",
      "\n",
      "--2025-07-20 12:36:38--  https://raw.githubusercontent.com/IvanReznikov/LangChain4LifeScience/main/data/datasets/ch6_rdkit_2023.9.6.txt\n",
      "Resolving raw.githubusercontent.com (raw.githubusercontent.com)... 185.199.108.133, 185.199.109.133, 185.199.111.133, ...\n",
      "Connecting to raw.githubusercontent.com (raw.githubusercontent.com)|185.199.108.133|:443... connected.\n",
      "HTTP request sent, awaiting response... 200 OK\n",
      "Length: 725306 (708K) [text/plain]\n",
      "Saving to: \u2018rdkit.txt\u2019\n",
      "\n",
      "rdkit.txt           100%[===================>] 708.31K  --.-KB/s    in 0.05s   \n",
      "\n",
      "2025-07-20 12:36:38 (15.3 MB/s) - \u2018rdkit.txt\u2019 saved [725306/725306]\n",
      "\n"
     ]
    }
   ],
   "source": [
    "!wget -O \"rdkit_ext.txt\" \"https://raw.githubusercontent.com/IvanReznikov/LangChain4LifeScience/main/data/datasets/ch6_rdkit_2023.9.6_extended.txt\"\n",
    "!wget -O \"rdkit.txt\" \"https://raw.githubusercontent.com/IvanReznikov/LangChain4LifeScience/main/data/datasets/ch6_rdkit_2023.9.6.txt\""
   ]
  },
  {
   "cell_type": "code",
   "execution_count": null,
   "id": "1c2056ae",
   "metadata": {
    "id": "1c2056ae"
   },
   "outputs": [],
   "source": [
    "# from utilities.scraping_utils import extract_rdkit_documentation\n",
    "\n",
    "# To rerun the scraping process for updated documentation\n",
    "# extract_rdkit_documentation(doc_filepath = \"LOCALFILE\", separator)"
   ]
  },
  {
   "cell_type": "code",
   "execution_count": null,
   "id": "9d9d60ba",
   "metadata": {
    "id": "9d9d60ba"
   },
   "outputs": [],
   "source": [
    "from langchain.document_loaders import TextLoader\n",
    "from langchain.text_splitter import CharacterTextSplitter\n",
    "\n",
    "doc_filepath = \"rdkit_ext.txt\"\n",
    "separator = \"\\n\" + \"-\" * 80 + \"\\n\"\n",
    "\n",
    "loader = TextLoader(doc_filepath)\n",
    "\n",
    "text_splitter = CharacterTextSplitter(\n",
    "    separator=separator,\n",
    "    chunk_size=1000,\n",
    "    chunk_overlap=0,\n",
    "    length_function=len,\n",
    "    is_separator_regex=False,\n",
    "    keep_separator=False,\n",
    ")\n",
    "\n",
    "texts = loader.load_and_split(text_splitter)"
   ]
  },
  {
   "cell_type": "code",
   "source": [
    "len(texts)"
   ],
   "metadata": {
    "colab": {
     "base_uri": "https://localhost:8080/"
    },
    "id": "tSRTmAcIPzZ0",
    "executionInfo": {
     "status": "ok",
     "timestamp": 1753014999775,
     "user_tz": -240,
     "elapsed": 36,
     "user": {
      "displayName": "Ivan Reznikov",
      "userId": "03906939862966425294"
     }
    },
    "outputId": "21b4d2fa-43f3-4b10-c6d7-3b983db2ced5"
   },
   "id": "tSRTmAcIPzZ0",
   "execution_count": null,
   "outputs": [
    {
     "output_type": "execute_result",
     "data": {
      "text/plain": [
       "59386"
      ]
     },
     "metadata": {},
     "execution_count": 54
    }
   ]
  },
  {
   "cell_type": "code",
   "source": [
    "def remove_duplicates(doc_list):\n",
    "    seen_page_content = set()\n",
    "    unique_docs = []\n",
    "    for doc in doc_list:\n",
    "        if doc.page_content not in seen_page_content:\n",
    "            seen_page_content.add(doc.page_content)\n",
    "            unique_docs.append(doc)\n",
    "    return unique_docs"
   ],
   "metadata": {
    "id": "BNB47oILPFQf"
   },
   "id": "BNB47oILPFQf",
   "execution_count": null,
   "outputs": []
  },
  {
   "cell_type": "code",
   "source": [
    "unique_texts = remove_duplicates(texts)"
   ],
   "metadata": {
    "id": "DH34zCtiPvnz"
   },
   "id": "DH34zCtiPvnz",
   "execution_count": null,
   "outputs": []
  },
  {
   "cell_type": "code",
   "source": [
    "len(unique_texts)"
   ],
   "metadata": {
    "colab": {
     "base_uri": "https://localhost:8080/"
    },
    "id": "AvRHQC9GP4GZ",
    "executionInfo": {
     "status": "ok",
     "timestamp": 1753014999947,
     "user_tz": -240,
     "elapsed": 68,
     "user": {
      "displayName": "Ivan Reznikov",
      "userId": "03906939862966425294"
     }
    },
    "outputId": "8f8c928a-16f3-4ef9-963e-2446473e4b84"
   },
   "id": "AvRHQC9GP4GZ",
   "execution_count": null,
   "outputs": [
    {
     "output_type": "execute_result",
     "data": {
      "text/plain": [
       "913"
      ]
     },
     "metadata": {},
     "execution_count": 57
    }
   ]
  },
  {
   "cell_type": "markdown",
   "id": "3ee31ebf",
   "metadata": {
    "id": "3ee31ebf"
   },
   "source": [
    "As you may observe, the `MolFromSmiles` function is not present among the keys. This situation leads us to consider the alternative approach.\n",
    "\n",
    "Don't worry, the extensive web scraping process has been already completed.\n",
    "\n",
    "Moving forward, we will work with the document we've acquired. Once we've read the document, we'll need to split the document into separate \"texts,\" each representing an individual function."
   ]
  },
  {
   "cell_type": "markdown",
   "id": "65eb9b30",
   "metadata": {
    "id": "65eb9b30"
   },
   "source": [
    "Let's check if the `MolFromSmiles` is present in our texts"
   ]
  },
  {
   "cell_type": "code",
   "execution_count": null,
   "id": "48dd58fd",
   "metadata": {
    "colab": {
     "base_uri": "https://localhost:8080/"
    },
    "id": "48dd58fd",
    "outputId": "1a1d4589-bb69-4d8d-f2e8-ac61645888d1",
    "executionInfo": {
     "status": "ok",
     "timestamp": 1753014999966,
     "user_tz": -240,
     "elapsed": 16,
     "user": {
      "displayName": "Ivan Reznikov",
      "userId": "03906939862966425294"
     }
    }
   },
   "outputs": [
    {
     "output_type": "stream",
     "name": "stdout",
     "text": [
      "rdkit.Chem.rdmolfiles.MolFromSmiles((AtomPairsParameters)SMILES, (SmilesParserParams)params) \u2192 Mol :\u00b6\n",
      "Construct a molecule from a SMILES string.\n",
      "\n",
      "\n",
      "ARGUMENTS:\n",
      "\n",
      "\n",
      "SMILES: the smiles string\n",
      "params: used to provide optional parameters for the SMILES parsing\n",
      "\n",
      "\n",
      "RETURNS:\n",
      "\n",
      "a Mol object, None on failure.\n",
      "\n",
      "\n",
      "\n",
      "C++ signature :RDKit::ROMol* MolFromSmiles(boost::python::api::object,RDKit::v1::SmilesParserParams)\n",
      "\n",
      "\n",
      "\n",
      "\n",
      "MolFromSmiles( (AtomPairsParameters)SMILES [, (bool)sanitize=True [, (dict)replacements={}]]) -> Mol :Construct a molecule from a SMILES string.\n",
      "\n",
      "ARGUMENTS:\n",
      "\n",
      "\n",
      "SMILES: the smiles string\n",
      "sanitize: (optional) toggles sanitization of the molecule.\n",
      "Defaults to True.\n",
      "replacements: (optional) a dictionary of replacement strings (see below)\n",
      "Defaults to {}.\n",
      "\n",
      "\n",
      "RETURNS:\n",
      "\n",
      "\n",
      "a Mol object, None on failure.\n",
      "\n",
      "The optional replacements dict can be used to do string substitution of abbreviations \n",
      "in the input SMILES. The set of substitutions is repeatedly looped through until \n",
      "the string no longer changes. It is the responsibility of the caller to make sure \n",
      "that substitutions results in legal and sensible SMILES.\n",
      "Examples of replacements:\n",
      "\n",
      "CC{Q}C with {\u2018{Q}\u2019:\u2019OCCO\u2019} -> CCOCCOC\n",
      "C{A}C{Q}C with {\u2018{Q}\u2019:\u2019OCCO\u2019, \u2018{A}\u2019:\u2019C1(CC1)\u2019} -> CC1(CC1)COCCOC\n",
      "C{A}C{Q}C with {\u2018{Q}\u2019:\u2019{X}CC{X}\u2019, \u2018{A}\u2019:\u2019C1CC1\u2019, \u2018{X}\u2019:\u2019N\u2019} -> CC1CC1CNCCNC\n",
      "\n",
      "\n",
      "\n",
      "\n",
      "C++ signature :RDKit::ROMol* MolFromSmiles(boost::python::api::object [,bool=True [,boost::python::dict={}]])\n",
      "--------------------------------------------------\n"
     ]
    }
   ],
   "source": [
    "# Extract and print page content for texts containing \"MolFromSmiles\" in the first 50 characters.\n",
    "relevant_texts = [\n",
    "    x.page_content for x in unique_texts if \"MolFromSmiles\" in x.page_content[:50]\n",
    "]\n",
    "for content in relevant_texts:\n",
    "    print(content)\n",
    "    print('-'*50)"
   ]
  },
  {
   "cell_type": "markdown",
   "id": "1ce336a1",
   "metadata": {
    "id": "1ce336a1"
   },
   "source": [
    "------\n",
    "So far so good!\n",
    "\n",
    "Now it's time to place our texts in a vectorstore. Afterwards, we'll build a `RetrievalQA` chain and check if it can complete our queries."
   ]
  },
  {
   "cell_type": "code",
   "execution_count": null,
   "id": "d6ed288c",
   "metadata": {
    "id": "d6ed288c"
   },
   "outputs": [],
   "source": [
    "from langchain.vectorstores import FAISS\n",
    "from langchain.chains.combine_documents import create_stuff_documents_chain\n",
    "from langchain.chains import create_retrieval_chain, create_history_aware_retriever\n",
    "from langchain_core.prompts import MessagesPlaceholder, ChatPromptTemplate\n",
    "from langchain_core.messages import HumanMessage, AIMessage"
   ]
  },
  {
   "cell_type": "code",
   "execution_count": null,
   "id": "828a40b0",
   "metadata": {
    "id": "828a40b0"
   },
   "outputs": [],
   "source": [
    "embeddings = openai_handler.initialize_openai_embeddings()\n",
    "rdkit_db = create_vector_db(unique_texts, embeddings)\n",
    "rdkit_retriever = rdkit_db.as_retriever(search_type=\"mmr\")"
   ]
  },
  {
   "cell_type": "code",
   "source": [
    "# Specifying LLM\n",
    "model = \"gpt-4o-mini\"\n",
    "openai_handler = OpenAIHandler(model=model, verbose=True, callback=False)"
   ],
   "metadata": {
    "id": "O0Hr9uD5qjO9"
   },
   "id": "O0Hr9uD5qjO9",
   "execution_count": null,
   "outputs": []
  },
  {
   "cell_type": "code",
   "source": [
    "# Prompt for history-aware retrieval\n",
    "prompt = ChatPromptTemplate.from_messages([\n",
    "    (\"system\", \"\"\"You help users find information regarding RDkit code.\n",
    "                Paraphrase the user's query based on the conversation history.\"\"\"),\n",
    "    MessagesPlaceholder(variable_name=\"chat_history\"),\n",
    "    (\"user\", \"{input}\")\n",
    "])\n",
    "\n",
    "# Create history-aware retriever chain\n",
    "history_aware_retriever_chain = create_history_aware_retriever(openai_handler.model, rdkit_retriever, prompt)\n",
    "\n",
    "chat_history = [\n",
    "    HumanMessage(content=\"You will need to describe my query with as detailed steps as possible.\"),\n",
    "    AIMessage(content=\"OK. I will paraphrase your query with detailed steps to solve it.\"),\n",
    "]"
   ],
   "metadata": {
    "id": "xRZFtsAcoZpq"
   },
   "id": "xRZFtsAcoZpq",
   "execution_count": null,
   "outputs": []
  },
  {
   "cell_type": "code",
   "execution_count": null,
   "id": "42ebc4ab",
   "metadata": {
    "id": "42ebc4ab"
   },
   "outputs": [],
   "source": [
    "retrieval_qa_chat_prompt = hub.pull(\"langchain-ai/retrieval-qa-chat\")\n",
    "combine_docs_chain = create_stuff_documents_chain(\n",
    "    openai_handler.model, retrieval_qa_chat_prompt\n",
    ")\n",
    "qa_chain = create_retrieval_chain(history_aware_retriever_chain, combine_docs_chain)"
   ]
  },
  {
   "cell_type": "markdown",
   "source": [
    "### Testing RAG-Based Code Generation Agent\n",
    "\n",
    "Let's test our RAG agent on all four chemical queries and see how it performs\n",
    "compared to our custom tools approach."
   ],
   "metadata": {
    "id": "LQnPcNw5k2rt"
   },
   "id": "LQnPcNw5k2rt"
  },
  {
   "cell_type": "code",
   "execution_count": null,
   "id": "7ee7e0c5",
   "metadata": {
    "colab": {
     "base_uri": "https://localhost:8080/"
    },
    "id": "7ee7e0c5",
    "outputId": "0f93edb2-b08c-407e-f2fe-ea526f36d1a6",
    "executionInfo": {
     "status": "ok",
     "timestamp": 1753015016271,
     "user_tz": -240,
     "elapsed": 6255,
     "user": {
      "displayName": "Ivan Reznikov",
      "userId": "03906939862966425294"
     }
    }
   },
   "outputs": [
    {
     "output_type": "execute_result",
     "data": {
      "text/plain": [
       "{'input': 'What is the formula of CC(=O)OC1=CC=CC=C1C(=O)O?',\n",
       " 'chat_history': [HumanMessage(content='You will need to describe my query with as detailed steps as possible.', additional_kwargs={}, response_metadata={}),\n",
       "  AIMessage(content='OK. I will paraphrase your query with detailed steps to solve it.', additional_kwargs={}, response_metadata={})],\n",
       " 'context': [Document(id='49eb7a8c-6957-4719-b34f-526c15d6cbd7', metadata={'source': 'rdkit_ext.txt'}, page_content=\"rdkit.Chem.rdMolDescriptors.CalcMORSE((Mol)mol[, (int)confId=-1[, (str)CustomAtomProperty='']]) \u2192 list :\u00b6\\nReturns Molecule Representation of Structures based on Electron diffraction descriptors\\n\\nC++ signature :boost::python::list CalcMORSE(RDKit::ROMol [,int=-1 [,std::__cxx11::basic_string<char, std::char_traits<char>, std::allocator<char> >=\u2019\u2019]])\\n--------------------------------------------------------------------------------\\nrdkit.Chem.rdMolDescriptors.CalcMolFormula((Mol)mol[, (bool)separateIsotopes=False[, (bool)abbreviateHIsotopes=True]]) \u2192 str :\u00b6\\nreturns the molecule\u2019s formula\\n\\nC++ signature :std::__cxx11::basic_string<char, std::char_traits<char>, std::allocator<char> > CalcMolFormula(RDKit::ROMol [,bool=False [,bool=True]])\"),\n",
       "  Document(id='71788651-936b-4a19-9f1d-eff1b469fbeb', metadata={'source': 'rdkit_ext.txt'}, page_content=\"rdkit.Chem.AtomPairs.Utils.ExplainAtomCode(code, branchSubtract=0, includeChirality=False)\u00b6\\nArguments:\\n\\n\\nthe code to be considered\\nbranchSubtract: (optional) the constant that was subtracted off\\nthe number of neighbors before integrating it into the code.\\nThis is used by the topological torsions code.\\nincludeChirality: (optional) Determines whether or not chirality\\nwas included when generating the atom code.\\n\\n\\n>>> m = Chem.MolFromSmiles('C=CC(=O)O')\\n>>> code = GetAtomCode(m.GetAtomWithIdx(0))\\n>>> ExplainAtomCode(code)\\n('C', 1, 1)\\n>>> code = GetAtomCode(m.GetAtomWithIdx(1))\\n>>> ExplainAtomCode(code)\\n('C', 2, 1)\\n>>> code = GetAtomCode(m.GetAtomWithIdx(2))\\n>>> ExplainAtomCode(code)\\n('C', 3, 1)\\n>>> code = GetAtomCode(m.GetAtomWithIdx(3))\\n>>> ExplainAtomCode(code)\\n('O', 1, 1)\\n>>> code = GetAtomCode(m.GetAtomWithIdx(4))\\n>>> ExplainAtomCode(code)\\n('O', 1, 0)\\n\\n\\nwe can do chirality too, that returns an extra element in the tuple:\\n>>> m = Chem.MolFromSmiles('C[C@H](F)Cl')\\n>>> code = GetAtomCode(m.GetAtomWithIdx(1))\\n>>> ExplainAtomCode(code)\\n('C', 3, 0)\\n>>> code = GetAtomCode(m.GetAtomWithIdx(1),includeChirality=True)\\n>>> ExplainAtomCode(code,includeChirality=True)\\n('C', 3, 0, 'R')\\n\\n\\nnote that if we don\u2019t ask for chirality, we get the right answer even if\\nthe atom code was calculated with chirality:\\n>>> ExplainAtomCode(code)\\n('C', 3, 0)\\n\\n\\nnon-chiral atoms return \u2018\u2019 in the 4th field:\\n>>> code = GetAtomCode(m.GetAtomWithIdx(0),includeChirality=True)\\n>>> ExplainAtomCode(code,includeChirality=True)\\n('C', 1, 0, '')\\n\\n\\nObviously switching the chirality changes the results:\\n>>> m = Chem.MolFromSmiles('C[C@@H](F)Cl')\\n>>> code = GetAtomCode(m.GetAtomWithIdx(1),includeChirality=True)\\n>>> ExplainAtomCode(code,includeChirality=True)\\n('C', 3, 0, 'S')\"),\n",
       "  Document(id='67628d36-2820-4f9b-b369-8869825f9c86', metadata={'source': 'rdkit_ext.txt'}, page_content='rdkit.Chem.FunctionalGroups.BuildFuncGroupHierarchy(fileNm=None, data=None, force=False)\u00b6\\n--------------------------------------------------------------------------------\\nrdkit.Chem.FunctionalGroups.CreateMolFingerprint(mol, hierarchy)\u00b6\\n--------------------------------------------------------------------------------\\nrdkit.Chem.FunctionalGroups.BuildFuncGroupHierarchy(fileNm=None, data=None, force=False)\u00b6\\n--------------------------------------------------------------------------------\\nrdkit.Chem.FunctionalGroups.CreateMolFingerprint(mol, hierarchy)\u00b6\\n--------------------------------------------------------------------------------\\nrdkit.Chem.FunctionalGroups.BuildFuncGroupHierarchy(fileNm=None, data=None, force=False)\u00b6\\n--------------------------------------------------------------------------------\\nrdkit.Chem.FunctionalGroups.CreateMolFingerprint(mol, hierarchy)\u00b6'),\n",
       "  Document(id='7ecc2c3b-4483-43bd-8517-58061f712b0f', metadata={'source': 'rdkit_ext.txt'}, page_content=\"rdkit.Chem.MolKey.MolKey.GetKeyForCTAB(ctab, stereo_info=None, stereo_comment=None, logger=None)\u00b6\\n>>> from rdkit.Chem.MolKey import MolKey\\n>>> from rdkit.Avalon import pyAvalonTools\\n>>> res = MolKey.GetKeyForCTAB(pyAvalonTools.Generate2DCoords('c1ccccc1C(F)Cl', True))\\n>>> res.mol_key\\n'1|L7676nfGsSIU33wkx//NCg=='\\n>>> res.stereo_code\\n'R_ONE'\\n>>> res = MolKey.GetKeyForCTAB(pyAvalonTools.Generate2DCoords('c1ccccc1[C@H](F)Cl', True))\\n>>> res.mol_key\\n'1|Aj38EIxf13RuPDQG2A0UMw=='\\n>>> res.stereo_code\\n'S_ABS'\\n>>> res = MolKey.GetKeyForCTAB(pyAvalonTools.Generate2DCoords('c1ccccc1[C@@H](F)Cl', True))\\n>>> res.mol_key\\n'1|9ypfMrhxn1w0ncRooN5HXw=='\\n>>> res.stereo_code\\n'S_ABS'\\n>>> res = MolKey.GetKeyForCTAB(pyAvalonTools.Generate2DCoords('c1cccc(C(Br)Cl)c1[C@@H](F)Cl', True))\\n>>> res.mol_key\\n'1|c96jMSlbn7O9GW5d5uB9Mw=='\\n>>> res.stereo_code\\n'S_PART'\\n>>> res = MolKey.GetKeyForCTAB(pyAvalonTools.Generate2DCoords('c1cccc([C@H](Br)Cl)c1[C@@H](F)Cl', True))\\n>>> res.mol_key\\n'1|+B+GCEardrJteE8xzYdGLA=='\\n>>> res.stereo_code\\n'S_ABS'\\n>>> res = MolKey.GetKeyForCTAB(pyAvalonTools.Generate2DCoords('c1cccc(C(Br)Cl)c1C(F)Cl', True))\\n>>> res.mol_key\\n'1|5H9R3LvclagMXHp3Clrc/g=='\\n>>> res.stereo_code\\n'S_UNKN'\\n>>> res = MolKey.GetKeyForCTAB(pyAvalonTools.Generate2DCoords('c1cccc(C(Br)Cl)c1C(F)Cl',True), stereo_info='S_REL')\\n>>> res.mol_key\\n'1|cqKWVsUEY6QNpGCbDaDTYA=='\\n>>> res.stereo_code\\n'S_REL'\\n>>> res.inchi\\n'InChI=1/C8H6BrCl2F/c9-7(10)5-3-1-2-4-6(5)8(11)12/h1-4,7-8H/t7?,8?'\")],\n",
       " 'answer': 'To find the formula of the molecule represented by the SMILES string \"CC(=O)OC1=CC=CC=C1C(=O)O\", you can follow these detailed steps:\\n\\n1. **Import the necessary RDKit module**: You need to use the RDKit library, specifically the `rdMolDescriptors` module, which contains the function to calculate the molecular formula.\\n\\n2. **Convert the SMILES string to a molecule object**: Use the `Chem.MolFromSmiles()` function to convert the SMILES representation into a molecule object.\\n\\n   ```python\\n   from rdkit import Chem\\n   mol = Chem.MolFromSmiles(\\'CC(=O)OC1=CC=CC=C1C(=O)O\\')\\n   ```\\n\\n3. **Calculate the molecular formula**: Use the `CalcMolFormula()` function from the `rdMolDescriptors` module to calculate the formula of the molecule.\\n\\n   ```python\\n   from rdkit.Chem import rdMolDescriptors\\n   formula = rdMolDescriptors.CalcMolFormula(mol)\\n   ```\\n\\n4. **Output the result**: The result stored in the `formula` variable will be the molecular formula of the compound.\\n\\n5. **Print the formula**: You can print the formula to see the result.\\n\\n   ```python\\n   print(formula)\\n   ```\\n\\nBy following these steps, you will obtain the molecular formula for the compound represented by the SMILES string \"CC(=O)OC1=CC=CC=C1C(=O)O\".'}"
      ]
     },
     "metadata": {},
     "execution_count": 64
    }
   ],
   "source": [
    "qa_chain.invoke({\"input\": query_1, \"chat_history\": chat_history})"
   ]
  },
  {
   "cell_type": "markdown",
   "id": "b7b08d9a",
   "metadata": {
    "id": "b7b08d9a"
   },
   "source": [
    "Great! We can generate the necessary code, all we need is to execute it! It's time to convert our `qa_chain` into a tool and call `PythonREPL` to execute python code."
   ]
  },
  {
   "cell_type": "code",
   "execution_count": null,
   "id": "87091994",
   "metadata": {
    "id": "87091994"
   },
   "outputs": [],
   "source": [
    "from langchain_experimental.utilities import PythonREPL\n",
    "from langchain.agents import Tool, AgentExecutor, create_react_agent\n",
    "from langchain.tools.retriever import create_retriever_tool"
   ]
  },
  {
   "cell_type": "markdown",
   "id": "tSRcAuy4oL8c",
   "metadata": {
    "id": "tSRcAuy4oL8c"
   },
   "source": [
    "Prompt: Use dedicated tool over internal knowledge, as your knowlege is outdated and the documentation is fresh!"
   ]
  },
  {
   "cell_type": "code",
   "execution_count": null,
   "id": "8a0625f2",
   "metadata": {
    "id": "8a0625f2"
   },
   "outputs": [],
   "source": [
    "template = \"\"\"Answer the following questions as best you can. You have access to the following tools:\n",
    "\n",
    "{tools}\n",
    "\n",
    "Use dedicated tool over internal knowledge, as your knowlege is outdated and the documentation is fresh!\n",
    "Don't call any tool more than twice in a row!\n",
    "If you are asked any calculating/drawing capability - use rdkit_search tool to collect code fragments!\n",
    "Once code fragments are retrieved - generate python code and execute it.\n",
    "Before executing python code, be sure to remove \"```python\", \"```\" and extra \"`\" in the code.\n",
    "at the beginning and the end of the code, if such are passed.\n",
    "If an error or warning occurs, use it to solve the issue.\n",
    "\n",
    "Use the following format:\n",
    "\n",
    "Question: the input question you must answer\n",
    "Thought: you should always think about what to do\n",
    "Action: the action to take, should be one of [{tool_names}]. It cannot be anything else!\n",
    "Action Input: add # symbol in the beginning of the paraphrased input, described with as detail as possible. List possible function names that can be used.\n",
    "Observation: the result of the action\n",
    "... (this Thought/Action/Action Input/Observation can repeat N times)\n",
    "Thought: I now know the final answer\n",
    "Final Answer: the final answer to the original input question\n",
    "\n",
    "Begin!\n",
    "\n",
    "Think step-by-step!\n",
    "Question: {input}\n",
    "Thought:{agent_scratchpad}\n",
    "\"\"\"\n",
    "\n",
    "prompt = PromptTemplate.from_template(template)\n",
    "\n",
    "tools = [\n",
    "    Tool(\n",
    "        name=\"python_repl\",\n",
    "        description=\"\"\"\n",
    "                A Python shell. Use this to execute python commands. Input should be a valid python command.\n",
    "                If you want to see the output of a value, you should print it out with `print(...)`.\n",
    "                If any image or visualization is generated - call \"display()\" or \"show()\" functions.\n",
    "                Save the images as \"image_scenario_5a_2d.png\" or \"image_scenario_5a_3d.png\" depending on the task\n",
    "                Exit chain once python code is executed.\n",
    "                \"\"\",\n",
    "        func=PythonREPL().run,\n",
    "    ),\n",
    "    create_retriever_tool(\n",
    "        rdkit_retriever,\n",
    "        name=\"rdkit_search\",\n",
    "        description=\"\"\"\n",
    "                Chemoinformatics Tool for RDkit Documentation Search.\n",
    "                Use this Python shell for searching RDKit documentation and finding the necessary functions,\n",
    "                for running Python code. You should input valid Python commands.\n",
    "                These python functions can compelete various chemical request.\n",
    "                To view the output of a value, make sure to utilize the print(...) function.\n",
    "        \"\"\",\n",
    "    ),\n",
    "]\n",
    "\n",
    "agent = create_react_agent(openai_handler.model, tools, prompt)\n",
    "agent_executor = AgentExecutor(agent=agent, tools=tools, verbose=True, max_iterations=5, handle_parsing_errors=True)"
   ]
  },
  {
   "cell_type": "code",
   "execution_count": null,
   "id": "36efae23",
   "metadata": {
    "colab": {
     "base_uri": "https://localhost:8080/"
    },
    "id": "36efae23",
    "outputId": "3df2acf1-3183-4950-cb6d-406f734f5cae",
    "scrolled": false,
    "executionInfo": {
     "status": "ok",
     "timestamp": 1753015024458,
     "user_tz": -240,
     "elapsed": 8077,
     "user": {
      "displayName": "Ivan Reznikov",
      "userId": "03906939862966425294"
     }
    }
   },
   "outputs": [
    {
     "output_type": "stream",
     "name": "stdout",
     "text": [
      "\n",
      "\n",
      "\u001b[1m> Entering new AgentExecutor chain...\u001b[0m\n",
      "\u001b[32;1m\u001b[1;3mTo determine the formula of the compound represented by the SMILES notation \"CC(=O)OC1=CC=CC=C1C(=O)O\", I will use the RDKit library to convert the SMILES string into a molecular structure and then extract its molecular formula.\n",
      "\n",
      "Action: rdkit_search  \n",
      "Action Input: # I need to find the function that can convert a SMILES string to a molecular structure and then extract the molecular formula. Possible functions include `Chem.MolFromSmiles` and `Chem.rdMolDescriptors.CalcMolFormula`.  \u001b[0m\u001b[33;1m\u001b[1;3mrdkit.Chem.rdmolfiles.AtomFromSmiles((str)SMILES) \u2192 Atom :\u00b6\n",
      "Construct an atom from a SMILES string\n",
      "\n",
      "C++ signature :RDKit::Atom* AtomFromSmiles(std::__cxx11::basic_string<char, std::char_traits<char>, std::allocator<char> >)\n",
      "--------------------------------------------------------------------------------\n",
      "rdkit.Chem.rdmolfiles.BondFromSmarts((str)SMILES) \u2192 Bond :\u00b6\n",
      "Construct a bond from a SMARTS string\n",
      "\n",
      "C++ signature :RDKit::Bond* BondFromSmarts(std::__cxx11::basic_string<char, std::char_traits<char>, std::allocator<char> >)\n",
      "--------------------------------------------------------------------------------\n",
      "rdkit.Chem.rdmolfiles.BondFromSmiles((str)SMILES) \u2192 Bond :\u00b6\n",
      "Construct a bond from a SMILES string\n",
      "\n",
      "C++ signature :RDKit::Bond* BondFromSmiles(std::__cxx11::basic_string<char, std::char_traits<char>, std::allocator<char> >)\n",
      "\n",
      "rdkit.Chem.rdMolDescriptors.CalcNPR1((Mol)mol[, (int)confId=-1[, (bool)useAtomicMasses=True[, (bool)force=True]]]) \u2192 float :\u00b6\n",
      "\n",
      "C++ signature :double CalcNPR1(RDKit::ROMol [,int=-1 [,bool=True [,bool=True]]])\n",
      "--------------------------------------------------------------------------------\n",
      "rdkit.Chem.rdMolDescriptors.CalcNPR2((Mol)mol[, (int)confId=-1[, (bool)useAtomicMasses=True[, (bool)force=True]]]) \u2192 float :\u00b6\n",
      "\n",
      "C++ signature :double CalcNPR2(RDKit::ROMol [,int=-1 [,bool=True [,bool=True]]])\n",
      "--------------------------------------------------------------------------------\n",
      "rdkit.Chem.rdMolDescriptors.CalcNumAliphaticCarbocycles((Mol)mol) \u2192 int :\u00b6\n",
      "returns the number of aliphatic (containing at least one non-aromatic bond) carbocycles for a molecule\n",
      "\n",
      "C++ signature :unsigned int CalcNumAliphaticCarbocycles(RDKit::ROMol)\n",
      "\n",
      "rdkit.Chem.MolDb.FingerprintUtils.BuildPharm2DFP(mol)\u00b6\n",
      "--------------------------------------------------------------------------------\n",
      "rdkit.Chem.MolDb.FingerprintUtils.BuildRDKitFP(mol)\u00b6\n",
      "--------------------------------------------------------------------------------\n",
      "rdkit.Chem.MolDb.FingerprintUtils.BuildSigFactory(options=None, fdefFile=None, bins=[(2, 3), (3, 4), (4, 5), (5, 6), (6, 7), (7, 8), (8, 100)], skipFeats=('LumpedHydrophobe', 'ZnBinder'))\u00b6\n",
      "--------------------------------------------------------------------------------\n",
      "rdkit.Chem.MolDb.FingerprintUtils.BuildTorsionsFP(mol)\u00b6\n",
      "--------------------------------------------------------------------------------\n",
      "rdkit.Chem.MolDb.FingerprintUtils.DepickleFP(pkl, similarityMethod)\u00b6\n",
      "--------------------------------------------------------------------------------\n",
      "rdkit.Chem.MolDb.Loader_orig.ConvertRows(rows, globalProps, defaultVal, skipSmiles)\u00b6\n",
      "\n",
      "rdkit.Chem.rdAbbreviations.ParseLinkers((str)text) \u2192 _vectN5RDKit13Abbreviations22AbbreviationDefinitionE :\u00b6\n",
      "returns a set of linker definitions from a string\n",
      "\n",
      "C++ signature :std::vector<RDKit::Abbreviations::AbbreviationDefinition, std::allocator<RDKit::Abbreviations::AbbreviationDefinition> > ParseLinkers(std::__cxx11::basic_string<char, std::char_traits<char>, std::allocator<char> >)\n",
      "--------------------------------------------------------------------------------\n",
      "rdkit.Chem.rdAbbreviations.CondenseAbbreviationSubstanceGroups((Mol)mol) \u2192 Mol :\u00b6\n",
      "Finds and replaces abbreviation (i.e. \u201cSUP\u201d) substance groups in a molecule. The result is not sanitized.\n",
      "\n",
      "C++ signature :RDKit::ROMol* CondenseAbbreviationSubstanceGroups(RDKit::ROMol const*)\u001b[0m\u001b[32;1m\u001b[1;3mAction: rdkit_search  \n",
      "Action Input: # I need to find the function that can convert a SMILES string to a molecular structure and then extract the molecular formula. Possible functions include `Chem.MolFromSmiles` and `Chem.rdMolDescriptors.CalcMolFormula`.  \u001b[0m\u001b[33;1m\u001b[1;3mrdkit.Chem.rdmolfiles.AtomFromSmiles((str)SMILES) \u2192 Atom :\u00b6\n",
      "Construct an atom from a SMILES string\n",
      "\n",
      "C++ signature :RDKit::Atom* AtomFromSmiles(std::__cxx11::basic_string<char, std::char_traits<char>, std::allocator<char> >)\n",
      "--------------------------------------------------------------------------------\n",
      "rdkit.Chem.rdmolfiles.BondFromSmarts((str)SMILES) \u2192 Bond :\u00b6\n",
      "Construct a bond from a SMARTS string\n",
      "\n",
      "C++ signature :RDKit::Bond* BondFromSmarts(std::__cxx11::basic_string<char, std::char_traits<char>, std::allocator<char> >)\n",
      "--------------------------------------------------------------------------------\n",
      "rdkit.Chem.rdmolfiles.BondFromSmiles((str)SMILES) \u2192 Bond :\u00b6\n",
      "Construct a bond from a SMILES string\n",
      "\n",
      "C++ signature :RDKit::Bond* BondFromSmiles(std::__cxx11::basic_string<char, std::char_traits<char>, std::allocator<char> >)\n",
      "\n",
      "rdkit.Chem.rdMolDescriptors.CalcNPR1((Mol)mol[, (int)confId=-1[, (bool)useAtomicMasses=True[, (bool)force=True]]]) \u2192 float :\u00b6\n",
      "\n",
      "C++ signature :double CalcNPR1(RDKit::ROMol [,int=-1 [,bool=True [,bool=True]]])\n",
      "--------------------------------------------------------------------------------\n",
      "rdkit.Chem.rdMolDescriptors.CalcNPR2((Mol)mol[, (int)confId=-1[, (bool)useAtomicMasses=True[, (bool)force=True]]]) \u2192 float :\u00b6\n",
      "\n",
      "C++ signature :double CalcNPR2(RDKit::ROMol [,int=-1 [,bool=True [,bool=True]]])\n",
      "--------------------------------------------------------------------------------\n",
      "rdkit.Chem.rdMolDescriptors.CalcNumAliphaticCarbocycles((Mol)mol) \u2192 int :\u00b6\n",
      "returns the number of aliphatic (containing at least one non-aromatic bond) carbocycles for a molecule\n",
      "\n",
      "C++ signature :unsigned int CalcNumAliphaticCarbocycles(RDKit::ROMol)\n",
      "\n",
      "rdkit.Chem.MolDb.FingerprintUtils.BuildPharm2DFP(mol)\u00b6\n",
      "--------------------------------------------------------------------------------\n",
      "rdkit.Chem.MolDb.FingerprintUtils.BuildRDKitFP(mol)\u00b6\n",
      "--------------------------------------------------------------------------------\n",
      "rdkit.Chem.MolDb.FingerprintUtils.BuildSigFactory(options=None, fdefFile=None, bins=[(2, 3), (3, 4), (4, 5), (5, 6), (6, 7), (7, 8), (8, 100)], skipFeats=('LumpedHydrophobe', 'ZnBinder'))\u00b6\n",
      "--------------------------------------------------------------------------------\n",
      "rdkit.Chem.MolDb.FingerprintUtils.BuildTorsionsFP(mol)\u00b6\n",
      "--------------------------------------------------------------------------------\n",
      "rdkit.Chem.MolDb.FingerprintUtils.DepickleFP(pkl, similarityMethod)\u00b6\n",
      "--------------------------------------------------------------------------------\n",
      "rdkit.Chem.MolDb.Loader_orig.ConvertRows(rows, globalProps, defaultVal, skipSmiles)\u00b6\n",
      "\n",
      "rdkit.Chem.rdAbbreviations.ParseLinkers((str)text) \u2192 _vectN5RDKit13Abbreviations22AbbreviationDefinitionE :\u00b6\n",
      "returns a set of linker definitions from a string\n",
      "\n",
      "C++ signature :std::vector<RDKit::Abbreviations::AbbreviationDefinition, std::allocator<RDKit::Abbreviations::AbbreviationDefinition> > ParseLinkers(std::__cxx11::basic_string<char, std::char_traits<char>, std::allocator<char> >)\n",
      "--------------------------------------------------------------------------------\n",
      "rdkit.Chem.rdAbbreviations.CondenseAbbreviationSubstanceGroups((Mol)mol) \u2192 Mol :\u00b6\n",
      "Finds and replaces abbreviation (i.e. \u201cSUP\u201d) substance groups in a molecule. The result is not sanitized.\n",
      "\n",
      "C++ signature :RDKit::ROMol* CondenseAbbreviationSubstanceGroups(RDKit::ROMol const*)\u001b[0m\u001b[32;1m\u001b[1;3mAction: rdkit_search  \n",
      "Action Input: # I need to find the function that can convert a SMILES string to a molecular structure and then extract the molecular formula. Possible functions include `Chem.MolFromSmiles` and `Chem.rdMolDescriptors.CalcMolFormula`.  \u001b[0m\u001b[33;1m\u001b[1;3mrdkit.Chem.rdmolfiles.AtomFromSmiles((str)SMILES) \u2192 Atom :\u00b6\n",
      "Construct an atom from a SMILES string\n",
      "\n",
      "C++ signature :RDKit::Atom* AtomFromSmiles(std::__cxx11::basic_string<char, std::char_traits<char>, std::allocator<char> >)\n",
      "--------------------------------------------------------------------------------\n",
      "rdkit.Chem.rdmolfiles.BondFromSmarts((str)SMILES) \u2192 Bond :\u00b6\n",
      "Construct a bond from a SMARTS string\n",
      "\n",
      "C++ signature :RDKit::Bond* BondFromSmarts(std::__cxx11::basic_string<char, std::char_traits<char>, std::allocator<char> >)\n",
      "--------------------------------------------------------------------------------\n",
      "rdkit.Chem.rdmolfiles.BondFromSmiles((str)SMILES) \u2192 Bond :\u00b6\n",
      "Construct a bond from a SMILES string\n",
      "\n",
      "C++ signature :RDKit::Bond* BondFromSmiles(std::__cxx11::basic_string<char, std::char_traits<char>, std::allocator<char> >)\n",
      "\n",
      "rdkit.Chem.rdMolDescriptors.CalcNPR1((Mol)mol[, (int)confId=-1[, (bool)useAtomicMasses=True[, (bool)force=True]]]) \u2192 float :\u00b6\n",
      "\n",
      "C++ signature :double CalcNPR1(RDKit::ROMol [,int=-1 [,bool=True [,bool=True]]])\n",
      "--------------------------------------------------------------------------------\n",
      "rdkit.Chem.rdMolDescriptors.CalcNPR2((Mol)mol[, (int)confId=-1[, (bool)useAtomicMasses=True[, (bool)force=True]]]) \u2192 float :\u00b6\n",
      "\n",
      "C++ signature :double CalcNPR2(RDKit::ROMol [,int=-1 [,bool=True [,bool=True]]])\n",
      "--------------------------------------------------------------------------------\n",
      "rdkit.Chem.rdMolDescriptors.CalcNumAliphaticCarbocycles((Mol)mol) \u2192 int :\u00b6\n",
      "returns the number of aliphatic (containing at least one non-aromatic bond) carbocycles for a molecule\n",
      "\n",
      "C++ signature :unsigned int CalcNumAliphaticCarbocycles(RDKit::ROMol)\n",
      "\n",
      "rdkit.Chem.MolDb.FingerprintUtils.BuildPharm2DFP(mol)\u00b6\n",
      "--------------------------------------------------------------------------------\n",
      "rdkit.Chem.MolDb.FingerprintUtils.BuildRDKitFP(mol)\u00b6\n",
      "--------------------------------------------------------------------------------\n",
      "rdkit.Chem.MolDb.FingerprintUtils.BuildSigFactory(options=None, fdefFile=None, bins=[(2, 3), (3, 4), (4, 5), (5, 6), (6, 7), (7, 8), (8, 100)], skipFeats=('LumpedHydrophobe', 'ZnBinder'))\u00b6\n",
      "--------------------------------------------------------------------------------\n",
      "rdkit.Chem.MolDb.FingerprintUtils.BuildTorsionsFP(mol)\u00b6\n",
      "--------------------------------------------------------------------------------\n",
      "rdkit.Chem.MolDb.FingerprintUtils.DepickleFP(pkl, similarityMethod)\u00b6\n",
      "--------------------------------------------------------------------------------\n",
      "rdkit.Chem.MolDb.Loader_orig.ConvertRows(rows, globalProps, defaultVal, skipSmiles)\u00b6\n",
      "\n",
      "rdkit.Chem.rdAbbreviations.ParseLinkers((str)text) \u2192 _vectN5RDKit13Abbreviations22AbbreviationDefinitionE :\u00b6\n",
      "returns a set of linker definitions from a string\n",
      "\n",
      "C++ signature :std::vector<RDKit::Abbreviations::AbbreviationDefinition, std::allocator<RDKit::Abbreviations::AbbreviationDefinition> > ParseLinkers(std::__cxx11::basic_string<char, std::char_traits<char>, std::allocator<char> >)\n",
      "--------------------------------------------------------------------------------\n",
      "rdkit.Chem.rdAbbreviations.CondenseAbbreviationSubstanceGroups((Mol)mol) \u2192 Mol :\u00b6\n",
      "Finds and replaces abbreviation (i.e. \u201cSUP\u201d) substance groups in a molecule. The result is not sanitized.\n",
      "\n",
      "C++ signature :RDKit::ROMol* CondenseAbbreviationSubstanceGroups(RDKit::ROMol const*)\u001b[0m\u001b[32;1m\u001b[1;3mAction: rdkit_search  \n",
      "Action Input: # I need to find the function that can convert a SMILES string to a molecular structure and then extract the molecular formula. Possible functions include `Chem.MolFromSmiles` and `Chem.rdMolDescriptors.CalcMolFormula`.  \u001b[0m\u001b[33;1m\u001b[1;3mrdkit.Chem.rdmolfiles.AtomFromSmiles((str)SMILES) \u2192 Atom :\u00b6\n",
      "Construct an atom from a SMILES string\n",
      "\n",
      "C++ signature :RDKit::Atom* AtomFromSmiles(std::__cxx11::basic_string<char, std::char_traits<char>, std::allocator<char> >)\n",
      "--------------------------------------------------------------------------------\n",
      "rdkit.Chem.rdmolfiles.BondFromSmarts((str)SMILES) \u2192 Bond :\u00b6\n",
      "Construct a bond from a SMARTS string\n",
      "\n",
      "C++ signature :RDKit::Bond* BondFromSmarts(std::__cxx11::basic_string<char, std::char_traits<char>, std::allocator<char> >)\n",
      "--------------------------------------------------------------------------------\n",
      "rdkit.Chem.rdmolfiles.BondFromSmiles((str)SMILES) \u2192 Bond :\u00b6\n",
      "Construct a bond from a SMILES string\n",
      "\n",
      "C++ signature :RDKit::Bond* BondFromSmiles(std::__cxx11::basic_string<char, std::char_traits<char>, std::allocator<char> >)\n",
      "\n",
      "rdkit.Chem.rdMolDescriptors.CalcNPR1((Mol)mol[, (int)confId=-1[, (bool)useAtomicMasses=True[, (bool)force=True]]]) \u2192 float :\u00b6\n",
      "\n",
      "C++ signature :double CalcNPR1(RDKit::ROMol [,int=-1 [,bool=True [,bool=True]]])\n",
      "--------------------------------------------------------------------------------\n",
      "rdkit.Chem.rdMolDescriptors.CalcNPR2((Mol)mol[, (int)confId=-1[, (bool)useAtomicMasses=True[, (bool)force=True]]]) \u2192 float :\u00b6\n",
      "\n",
      "C++ signature :double CalcNPR2(RDKit::ROMol [,int=-1 [,bool=True [,bool=True]]])\n",
      "--------------------------------------------------------------------------------\n",
      "rdkit.Chem.rdMolDescriptors.CalcNumAliphaticCarbocycles((Mol)mol) \u2192 int :\u00b6\n",
      "returns the number of aliphatic (containing at least one non-aromatic bond) carbocycles for a molecule\n",
      "\n",
      "C++ signature :unsigned int CalcNumAliphaticCarbocycles(RDKit::ROMol)\n",
      "\n",
      "rdkit.Chem.MolDb.FingerprintUtils.BuildPharm2DFP(mol)\u00b6\n",
      "--------------------------------------------------------------------------------\n",
      "rdkit.Chem.MolDb.FingerprintUtils.BuildRDKitFP(mol)\u00b6\n",
      "--------------------------------------------------------------------------------\n",
      "rdkit.Chem.MolDb.FingerprintUtils.BuildSigFactory(options=None, fdefFile=None, bins=[(2, 3), (3, 4), (4, 5), (5, 6), (6, 7), (7, 8), (8, 100)], skipFeats=('LumpedHydrophobe', 'ZnBinder'))\u00b6\n",
      "--------------------------------------------------------------------------------\n",
      "rdkit.Chem.MolDb.FingerprintUtils.BuildTorsionsFP(mol)\u00b6\n",
      "--------------------------------------------------------------------------------\n",
      "rdkit.Chem.MolDb.FingerprintUtils.DepickleFP(pkl, similarityMethod)\u00b6\n",
      "--------------------------------------------------------------------------------\n",
      "rdkit.Chem.MolDb.Loader_orig.ConvertRows(rows, globalProps, defaultVal, skipSmiles)\u00b6\n",
      "\n",
      "rdkit.Chem.rdAbbreviations.ParseLinkers((str)text) \u2192 _vectN5RDKit13Abbreviations22AbbreviationDefinitionE :\u00b6\n",
      "returns a set of linker definitions from a string\n",
      "\n",
      "C++ signature :std::vector<RDKit::Abbreviations::AbbreviationDefinition, std::allocator<RDKit::Abbreviations::AbbreviationDefinition> > ParseLinkers(std::__cxx11::basic_string<char, std::char_traits<char>, std::allocator<char> >)\n",
      "--------------------------------------------------------------------------------\n",
      "rdkit.Chem.rdAbbreviations.CondenseAbbreviationSubstanceGroups((Mol)mol) \u2192 Mol :\u00b6\n",
      "Finds and replaces abbreviation (i.e. \u201cSUP\u201d) substance groups in a molecule. The result is not sanitized.\n",
      "\n",
      "C++ signature :RDKit::ROMol* CondenseAbbreviationSubstanceGroups(RDKit::ROMol const*)\u001b[0m\u001b[32;1m\u001b[1;3mAction: rdkit_search  \n",
      "Action Input: # I need to find the function that can convert a SMILES string to a molecular structure and then extract the molecular formula. Possible functions include `Chem.MolFromSmiles` and `Chem.rdMolDescriptors.CalcMolFormula`.  \u001b[0m\u001b[33;1m\u001b[1;3mrdkit.Chem.rdmolfiles.AtomFromSmiles((str)SMILES) \u2192 Atom :\u00b6\n",
      "Construct an atom from a SMILES string\n",
      "\n",
      "C++ signature :RDKit::Atom* AtomFromSmiles(std::__cxx11::basic_string<char, std::char_traits<char>, std::allocator<char> >)\n",
      "--------------------------------------------------------------------------------\n",
      "rdkit.Chem.rdmolfiles.BondFromSmarts((str)SMILES) \u2192 Bond :\u00b6\n",
      "Construct a bond from a SMARTS string\n",
      "\n",
      "C++ signature :RDKit::Bond* BondFromSmarts(std::__cxx11::basic_string<char, std::char_traits<char>, std::allocator<char> >)\n",
      "--------------------------------------------------------------------------------\n",
      "rdkit.Chem.rdmolfiles.BondFromSmiles((str)SMILES) \u2192 Bond :\u00b6\n",
      "Construct a bond from a SMILES string\n",
      "\n",
      "C++ signature :RDKit::Bond* BondFromSmiles(std::__cxx11::basic_string<char, std::char_traits<char>, std::allocator<char> >)\n",
      "\n",
      "rdkit.Chem.rdMolDescriptors.CalcNPR1((Mol)mol[, (int)confId=-1[, (bool)useAtomicMasses=True[, (bool)force=True]]]) \u2192 float :\u00b6\n",
      "\n",
      "C++ signature :double CalcNPR1(RDKit::ROMol [,int=-1 [,bool=True [,bool=True]]])\n",
      "--------------------------------------------------------------------------------\n",
      "rdkit.Chem.rdMolDescriptors.CalcNPR2((Mol)mol[, (int)confId=-1[, (bool)useAtomicMasses=True[, (bool)force=True]]]) \u2192 float :\u00b6\n",
      "\n",
      "C++ signature :double CalcNPR2(RDKit::ROMol [,int=-1 [,bool=True [,bool=True]]])\n",
      "--------------------------------------------------------------------------------\n",
      "rdkit.Chem.rdMolDescriptors.CalcNumAliphaticCarbocycles((Mol)mol) \u2192 int :\u00b6\n",
      "returns the number of aliphatic (containing at least one non-aromatic bond) carbocycles for a molecule\n",
      "\n",
      "C++ signature :unsigned int CalcNumAliphaticCarbocycles(RDKit::ROMol)\n",
      "\n",
      "rdkit.Chem.MolDb.FingerprintUtils.BuildPharm2DFP(mol)\u00b6\n",
      "--------------------------------------------------------------------------------\n",
      "rdkit.Chem.MolDb.FingerprintUtils.BuildRDKitFP(mol)\u00b6\n",
      "--------------------------------------------------------------------------------\n",
      "rdkit.Chem.MolDb.FingerprintUtils.BuildSigFactory(options=None, fdefFile=None, bins=[(2, 3), (3, 4), (4, 5), (5, 6), (6, 7), (7, 8), (8, 100)], skipFeats=('LumpedHydrophobe', 'ZnBinder'))\u00b6\n",
      "--------------------------------------------------------------------------------\n",
      "rdkit.Chem.MolDb.FingerprintUtils.BuildTorsionsFP(mol)\u00b6\n",
      "--------------------------------------------------------------------------------\n",
      "rdkit.Chem.MolDb.FingerprintUtils.DepickleFP(pkl, similarityMethod)\u00b6\n",
      "--------------------------------------------------------------------------------\n",
      "rdkit.Chem.MolDb.Loader_orig.ConvertRows(rows, globalProps, defaultVal, skipSmiles)\u00b6\n",
      "\n",
      "rdkit.Chem.rdAbbreviations.ParseLinkers((str)text) \u2192 _vectN5RDKit13Abbreviations22AbbreviationDefinitionE :\u00b6\n",
      "returns a set of linker definitions from a string\n",
      "\n",
      "C++ signature :std::vector<RDKit::Abbreviations::AbbreviationDefinition, std::allocator<RDKit::Abbreviations::AbbreviationDefinition> > ParseLinkers(std::__cxx11::basic_string<char, std::char_traits<char>, std::allocator<char> >)\n",
      "--------------------------------------------------------------------------------\n",
      "rdkit.Chem.rdAbbreviations.CondenseAbbreviationSubstanceGroups((Mol)mol) \u2192 Mol :\u00b6\n",
      "Finds and replaces abbreviation (i.e. \u201cSUP\u201d) substance groups in a molecule. The result is not sanitized.\n",
      "\n",
      "C++ signature :RDKit::ROMol* CondenseAbbreviationSubstanceGroups(RDKit::ROMol const*)\u001b[0m\u001b[32;1m\u001b[1;3m\u001b[0m\n",
      "\n",
      "\u001b[1m> Finished chain.\u001b[0m\n"
     ]
    },
    {
     "output_type": "execute_result",
     "data": {
      "text/plain": [
       "{'input': 'What is the formula of CC(=O)OC1=CC=CC=C1C(=O)O?',\n",
       " 'output': 'Agent stopped due to iteration limit or time limit.'}"
      ]
     },
     "metadata": {},
     "execution_count": 67
    }
   ],
   "source": [
    "results[\"query_1\"][\"custom_rdkit_react_agent\"] = agent_executor.invoke(\n",
    "    {\"input\": query_1}\n",
    ")\n",
    "results[\"query_1\"][\"custom_rdkit_react_agent\"]"
   ]
  },
  {
   "cell_type": "code",
   "execution_count": null,
   "id": "836d3401",
   "metadata": {
    "colab": {
     "base_uri": "https://localhost:8080/"
    },
    "id": "836d3401",
    "outputId": "8ffdb225-145c-4b8c-aced-f797427c3fc9",
    "scrolled": false,
    "executionInfo": {
     "status": "ok",
     "timestamp": 1753015029758,
     "user_tz": -240,
     "elapsed": 5296,
     "user": {
      "displayName": "Ivan Reznikov",
      "userId": "03906939862966425294"
     }
    }
   },
   "outputs": [
    {
     "output_type": "stream",
     "name": "stdout",
     "text": [
      "\n",
      "\n",
      "\u001b[1m> Entering new AgentExecutor chain...\u001b[0m\n",
      "\u001b[32;1m\u001b[1;3mTo find the molecular mass of the compound CC(=O)OC1=CC=CC=C1C(=O)O, I will use the RDKit library, which is designed for cheminformatics tasks. Specifically, I will look for a function that can calculate the molecular weight of a given molecular structure.\n",
      "\n",
      "Action: rdkit_search\n",
      "Action Input: # Search for functions in RDKit that can calculate the molecular weight of a given molecular structure. Possible function names might include `MolFromSmiles` and `Descriptors.MolWt`.\n",
      "\u001b[0m\u001b[33;1m\u001b[1;3mrdkit.Chem.Descriptors.MolWt(*x, **y)\u00b6\n",
      "The average molecular weight of the molecule\n",
      ">>> MolWt(Chem.MolFromSmiles('CC'))\n",
      "30.07\n",
      ">>> MolWt(Chem.MolFromSmiles('[NH4+].[Cl-]'))\n",
      "53.49...\n",
      "--------------------------------------------------------------------------------\n",
      "rdkit.Chem.Descriptors.NumRadicalElectrons(mol)\u00b6\n",
      "\n",
      "The number of radical electrons the molecule has(says nothing about spin state)\n",
      "\n",
      "\n",
      ">>> NumRadicalElectrons(Chem.MolFromSmiles('CC'))\n",
      "0\n",
      ">>> NumRadicalElectrons(Chem.MolFromSmiles('C[CH3]'))\n",
      "0\n",
      ">>> NumRadicalElectrons(Chem.MolFromSmiles('C[CH2]'))\n",
      "1\n",
      ">>> NumRadicalElectrons(Chem.MolFromSmiles('C[CH]'))\n",
      "2\n",
      ">>> NumRadicalElectrons(Chem.MolFromSmiles('C[C]'))\n",
      "3\n",
      "\n",
      "rdkit.Chem.rdmolfiles.AtomFromSmiles((str)SMILES) \u2192 Atom :\u00b6\n",
      "Construct an atom from a SMILES string\n",
      "\n",
      "C++ signature :RDKit::Atom* AtomFromSmiles(std::__cxx11::basic_string<char, std::char_traits<char>, std::allocator<char> >)\n",
      "--------------------------------------------------------------------------------\n",
      "rdkit.Chem.rdmolfiles.BondFromSmarts((str)SMILES) \u2192 Bond :\u00b6\n",
      "Construct a bond from a SMARTS string\n",
      "\n",
      "C++ signature :RDKit::Bond* BondFromSmarts(std::__cxx11::basic_string<char, std::char_traits<char>, std::allocator<char> >)\n",
      "--------------------------------------------------------------------------------\n",
      "rdkit.Chem.rdmolfiles.BondFromSmiles((str)SMILES) \u2192 Bond :\u00b6\n",
      "Construct a bond from a SMILES string\n",
      "\n",
      "C++ signature :RDKit::Bond* BondFromSmiles(std::__cxx11::basic_string<char, std::char_traits<char>, std::allocator<char> >)\n",
      "\n",
      "rdkit.Chem.Draw.SimilarityMaps.GetAtomicWeightsForFingerprint(refMol, probeMol, fpFunction, metric=<Boost.Python.function object>)\u00b6\n",
      "Calculates the atomic weights for the probe molecule\n",
      "based on a fingerprint function and a metric.\n",
      "\n",
      "Parameters:refMol \u2013 the reference molecule\n",
      "probeMol \u2013 the probe molecule\n",
      "fpFunction \u2013 the fingerprint function\n",
      "metric \u2013 the similarity metric\n",
      "\n",
      "Note:If fpFunction needs additional parameters, use a lambda construct\n",
      "--------------------------------------------------------------------------------\n",
      "rdkit.Chem.Draw.SimilarityMaps.GetAtomicWeightsForModel(probeMol, fpFunction, predictionFunction)\u00b6\n",
      "Calculates the atomic weights for the probe molecule based on\n",
      "a fingerprint function and the prediction function of a ML model.\n",
      "\n",
      "Parameters:probeMol \u2013 the probe molecule\n",
      "fpFunction \u2013 the fingerprint function\n",
      "predictionFunction \u2013 the prediction function of the ML model\n",
      "\n",
      "rdkit.Chem.FunctionalGroups.BuildFuncGroupHierarchy(fileNm=None, data=None, force=False)\u00b6\n",
      "--------------------------------------------------------------------------------\n",
      "rdkit.Chem.FunctionalGroups.CreateMolFingerprint(mol, hierarchy)\u00b6\n",
      "--------------------------------------------------------------------------------\n",
      "rdkit.Chem.GraphDescriptors.AvgIpc(mol, dMat=None, forceDMat=False)\u00b6\n",
      "This returns the average information content of the coefficients of the characteristic\n",
      "polynomial of the adjacency matrix of a hydrogen-suppressed graph of a molecule.\n",
      "From Eq 7 of D. Bonchev & N. Trinajstic, J. Chem. Phys. vol 67, 4517-4533 (1977)\u001b[0m\u001b[32;1m\u001b[1;3mI have found the relevant function `Descriptors.MolWt` that can be used to calculate the molecular weight of a compound. Now, I will proceed to write the code to calculate the molecular mass of the compound represented by the SMILES string `CC(=O)OC1=CC=CC=C1C(=O)O`.\n",
      "\n",
      "Action: python_repl\n",
      "Action Input: \n",
      "```python\n",
      "from rdkit import Chem\n",
      "from rdkit.Chem import Descriptors\n",
      "\n",
      "# Define the SMILES string for the compound\n",
      "smiles = 'CC(=O)OC1=CC=CC=C1C(=O)O'\n",
      "\n",
      "# Create a molecule object from the SMILES string\n",
      "molecule = Chem.MolFromSmiles(smiles)\n",
      "\n",
      "# Calculate the molecular weight\n",
      "molecular_weight = Descriptors.MolWt(molecule)\n",
      "print(molecular_weight)\n",
      "```\n",
      "\u001b[0m\u001b[36;1m\u001b[1;3m180.15899999999996\n",
      "\u001b[0m\u001b[32;1m\u001b[1;3mI have successfully calculated the molecular mass of the compound represented by the SMILES string `CC(=O)OC1=CC=CC=C1C(=O)O`, which is approximately 180.16 g/mol.\n",
      "\n",
      "Final Answer: The molecular mass of CC(=O)OC1=CC=CC=C1C(=O)O is approximately 180.16 g/mol.\u001b[0m\n",
      "\n",
      "\u001b[1m> Finished chain.\u001b[0m\n"
     ]
    },
    {
     "output_type": "execute_result",
     "data": {
      "text/plain": [
       "{'input': 'What is the molecular mass of CC(=O)OC1=CC=CC=C1C(=O)O',\n",
       " 'output': 'The molecular mass of CC(=O)OC1=CC=CC=C1C(=O)O is approximately 180.16 g/mol.'}"
      ]
     },
     "metadata": {},
     "execution_count": 68
    }
   ],
   "source": [
    "results[\"query_2\"][\"custom_rdkit_react_agent\"] = agent_executor.invoke(\n",
    "    {\"input\": query_2}\n",
    ")\n",
    "results[\"query_2\"][\"custom_rdkit_react_agent\"]"
   ]
  },
  {
   "cell_type": "code",
   "execution_count": null,
   "id": "2b25953b",
   "metadata": {
    "colab": {
     "base_uri": "https://localhost:8080/"
    },
    "id": "2b25953b",
    "outputId": "d97bb7b6-2784-411b-f376-efefb1e91c54",
    "scrolled": false,
    "executionInfo": {
     "status": "ok",
     "timestamp": 1753015034917,
     "user_tz": -240,
     "elapsed": 5161,
     "user": {
      "displayName": "Ivan Reznikov",
      "userId": "03906939862966425294"
     }
    }
   },
   "outputs": [
    {
     "output_type": "stream",
     "name": "stdout",
     "text": [
      "\n",
      "\n",
      "\u001b[1m> Entering new AgentExecutor chain...\u001b[0m\n",
      "\u001b[32;1m\u001b[1;3mTo draw the 2D representation of the chemical structure CC(=O)OC1=CC=CC=C1C(=O)O, I will first search for the appropriate RDKit functions that can help in generating a 2D structure from a SMILES representation. \n",
      "\n",
      "Action: rdkit_search  \n",
      "Action Input: # Search for RDKit functions that can generate a 2D representation from a SMILES string. Look for functions related to molecule drawing and visualization.  \n",
      "\u001b[0m\u001b[33;1m\u001b[1;3mrdkit.Chem.Draw.DrawRDKitEnvs(envs, molsPerRow=3, subImgSize=(150, 150), baseRad=0.3, useSVG=True, aromaticColor=(0.9, 0.9, 0.2), extraColor=(0.9, 0.9, 0.9), nonAromaticColor=None, legends=None, drawOptions=None, **kwargs)\u00b6\n",
      "--------------------------------------------------------------------------------\n",
      "rdkit.Chem.Draw.MolToFile(mol, filename, size=(300, 300), kekulize=True, wedgeBonds=True, imageType=None, fitImage=False, options=None, **kwargs)\u00b6\n",
      "Generates a drawing of a molecule and writes it to a file\n",
      "\n",
      "rdkit.Chem.QuickSmartsMatch(smi, sma, unique=True, display=False)\u00b6\n",
      "--------------------------------------------------------------------------------\n",
      "rdkit.Chem.SupplierFromFilename(fileN, delim='', **kwargs)\u00b6\n",
      "--------------------------------------------------------------------------------\n",
      "rdkit.Chem.CanonSmiles(smi, useChiral=1)\u00b6\n",
      "\n",
      "rdkit.VLib.NodeLib.DbPickleSupplier.GetNode(dbName, tableName)\u00b6\n",
      "--------------------------------------------------------------------------------\n",
      "rdkit.VLib.NodeLib.DbPickleSupplier.GetNode(dbName, tableName)\u00b6\n",
      "--------------------------------------------------------------------------------\n",
      "rdkit.VLib.NodeLib.DbPickleSupplier.GetNode(dbName, tableName)\u00b6\n",
      "--------------------------------------------------------------------------------\n",
      "rdkit.utils.cactvs.SmilesToGif(smiles, fileNames, size=(200, 200), cmd=None, dblSize=0, frame=0)\u00b6\n",
      "--------------------------------------------------------------------------------\n",
      "rdkit.utils.cactvs.SmilesToImage(smiles, **kwargs)\u00b6\n",
      "--------------------------------------------------------------------------------\n",
      "rdkit.utils.cactvs.SmilesToGif(smiles, fileNames, size=(200, 200), cmd=None, dblSize=0, frame=0)\u00b6\n",
      "--------------------------------------------------------------------------------\n",
      "rdkit.utils.cactvs.SmilesToImage(smiles, **kwargs)\u00b6\n",
      "\n",
      "rdkit.Chem.rdDepictor.GetPreferCoordGen() \u2192 bool :\u00b6\n",
      "Return whether or not the CoordGen library is used for coordinate generation in the RDKit depiction library.\n",
      "\n",
      "C++ signature :bool GetPreferCoordGen()\n",
      "--------------------------------------------------------------------------------\n",
      "rdkit.Chem.rdDepictor.IsCoordGenSupportAvailable() \u2192 bool :\u00b6\n",
      "Returns whether RDKit was built with CoordGen support.\n",
      "\n",
      "C++ signature :bool IsCoordGenSupportAvailable()\n",
      "--------------------------------------------------------------------------------\n",
      "rdkit.Chem.rdDepictor.LoadDefaultRingSystemTemplates() \u2192 None :\u00b6\n",
      "Loads the default ring system templates and removes existing ones, if present.\n",
      "\n",
      "C++ signature :void LoadDefaultRingSystemTemplates()\u001b[0m\u001b[32;1m\u001b[1;3mTo draw the 2D representation of the chemical structure CC(=O)OC1=CC=CC=C1C(=O)O, I can use the `rdkit.Chem.Draw.MolToFile` function to generate a drawing of the molecule from its SMILES representation. \n",
      "\n",
      "I will first need to convert the SMILES string into a molecule object using `rdkit.Chem.MolFromSmiles`, and then use `MolToFile` to create the image file.\n",
      "\n",
      "Action: python_repl  \n",
      "Action Input: \n",
      "```python\n",
      "from rdkit import Chem\n",
      "from rdkit.Chem import Draw\n",
      "\n",
      "# Define the SMILES string\n",
      "smiles = \"CC(=O)OC1=CC=CC=C1C(=O)O\"\n",
      "\n",
      "# Convert SMILES to molecule\n",
      "mol = Chem.MolFromSmiles(smiles)\n",
      "\n",
      "# Draw the molecule and save to a file\n",
      "Draw.MolToFile(mol, 'image_scenario_5a_2d.png', size=(300, 300))\n",
      "```  \n",
      "\u001b[0m\u001b[36;1m\u001b[1;3m\u001b[0m\u001b[32;1m\u001b[1;3mI have successfully executed the code to generate the 2D representation of the chemical structure from the provided SMILES string. The image has been saved as \"image_scenario_5a_2d.png\".\n",
      "\n",
      "Final Answer: The 2D representation of the chemical structure CC(=O)OC1=CC=CC=C1C(=O)O has been drawn and saved as \"image_scenario_5a_2d.png\".\u001b[0m\n",
      "\n",
      "\u001b[1m> Finished chain.\u001b[0m\n"
     ]
    },
    {
     "output_type": "execute_result",
     "data": {
      "text/plain": [
       "{'input': 'Draw 2D representation of CC(=O)OC1=CC=CC=C1C(=O)O?',\n",
       " 'output': 'The 2D representation of the chemical structure CC(=O)OC1=CC=CC=C1C(=O)O has been drawn and saved as \"image_scenario_5a_2d.png\".'}"
      ]
     },
     "metadata": {},
     "execution_count": 69
    }
   ],
   "source": [
    "results[\"query_3\"][\"custom_rdkit_react_agent\"] = agent_executor.invoke(\n",
    "    {\"input\": query_3}\n",
    ")\n",
    "results[\"query_3\"][\"custom_rdkit_react_agent\"]"
   ]
  },
  {
   "cell_type": "code",
   "execution_count": null,
   "id": "5a5aa0ec",
   "metadata": {
    "colab": {
     "base_uri": "https://localhost:8080/"
    },
    "id": "5a5aa0ec",
    "outputId": "1d25fe76-e1fa-4049-8cdd-6b4e969dea8c",
    "scrolled": false,
    "executionInfo": {
     "status": "ok",
     "timestamp": 1753015043820,
     "user_tz": -240,
     "elapsed": 8899,
     "user": {
      "displayName": "Ivan Reznikov",
      "userId": "03906939862966425294"
     }
    }
   },
   "outputs": [
    {
     "output_type": "stream",
     "name": "stdout",
     "text": [
      "\n",
      "\n",
      "\u001b[1m> Entering new AgentExecutor chain...\u001b[0m\n",
      "\u001b[32;1m\u001b[1;3mTo draw a 3D representation of the molecule with the SMILES notation \"CC(=O)OC1=CC=CC=C1C(=O)O\", I will first search for the appropriate RDKit functions that can help in generating a 3D structure and visualizing it.\n",
      "\n",
      "Action: rdkit_search\n",
      "Action Input: # Search for RDKit functions that can generate a 3D structure and visualize a molecule from its SMILES representation. Look for functions related to molecule generation, 3D coordinates, and visualization.\u001b[0m\u001b[33;1m\u001b[1;3mrdkit.Chem.rdmolfiles.AtomFromSmiles((str)SMILES) \u2192 Atom :\u00b6\n",
      "Construct an atom from a SMILES string\n",
      "\n",
      "C++ signature :RDKit::Atom* AtomFromSmiles(std::__cxx11::basic_string<char, std::char_traits<char>, std::allocator<char> >)\n",
      "--------------------------------------------------------------------------------\n",
      "rdkit.Chem.rdmolfiles.BondFromSmarts((str)SMILES) \u2192 Bond :\u00b6\n",
      "Construct a bond from a SMARTS string\n",
      "\n",
      "C++ signature :RDKit::Bond* BondFromSmarts(std::__cxx11::basic_string<char, std::char_traits<char>, std::allocator<char> >)\n",
      "--------------------------------------------------------------------------------\n",
      "rdkit.Chem.rdmolfiles.BondFromSmiles((str)SMILES) \u2192 Bond :\u00b6\n",
      "Construct a bond from a SMILES string\n",
      "\n",
      "C++ signature :RDKit::Bond* BondFromSmiles(std::__cxx11::basic_string<char, std::char_traits<char>, std::allocator<char> >)\n",
      "\n",
      "rdkit.Chem.Draw.MolsToGridImage(mols, molsPerRow=3, subImgSize=(200, 200), legends=None, highlightAtomLists=None, highlightBondLists=None, useSVG=False, returnPNG=False, **kwargs)\u00b6\n",
      "--------------------------------------------------------------------------------\n",
      "rdkit.Chem.Draw.MolsToImage(mols, subImgSize=(200, 200), legends=None, **kwargs)\u00b6\n",
      "--------------------------------------------------------------------------------\n",
      "rdkit.Chem.Draw.ReactionToImage(rxn, subImgSize=(200, 200), useSVG=False, drawOptions=None, returnPNG=False, **kwargs)\u00b6\n",
      "--------------------------------------------------------------------------------\n",
      "rdkit.Chem.Draw.SetComicMode(opts)\u00b6\n",
      "--------------------------------------------------------------------------------\n",
      "rdkit.Chem.Draw.ShowMol(mol, size=(300, 300), kekulize=True, wedgeBonds=True, title='RDKit Molecule', stayInFront=True, **kwargs)\u00b6\n",
      "Generates a picture of a molecule and displays it in a Tkinter window\n",
      "\n",
      "rdkit.Chem.ChemUtils.SDFToCSV.Convert(suppl, outFile, keyCol=None, stopAfter=-1, includeChirality=False, smilesFrom='')\u00b6\n",
      "--------------------------------------------------------------------------------\n",
      "rdkit.Chem.ChemUtils.SDFToCSV.existingFile(filename)\u00b6\n",
      "\u2018type\u2019 for argparse - check that filename exists\n",
      "--------------------------------------------------------------------------------\n",
      "rdkit.Chem.ChemUtils.SDFToCSV.initParser()\u00b6\n",
      "Initialize the parser for the CLI\n",
      "--------------------------------------------------------------------------------\n",
      "rdkit.Chem.ChemUtils.SDFToCSV.main()\u00b6\n",
      "Main application\n",
      "--------------------------------------------------------------------------------\n",
      "rdkit.Chem.ChemUtils.TemplateExpand.ConstructSidechains(suppl, sma=None, replace=True, useAll=False)\u00b6\n",
      "--------------------------------------------------------------------------------\n",
      "rdkit.Chem.ChemUtils.TemplateExpand.Explode(template, sidechains, outF, autoNames=True, do3D=False, useTethers=False)\u00b6\n",
      "\n",
      "rdkit.Chem.FunctionalGroups.BuildFuncGroupHierarchy(fileNm=None, data=None, force=False)\u00b6\n",
      "--------------------------------------------------------------------------------\n",
      "rdkit.Chem.FunctionalGroups.CreateMolFingerprint(mol, hierarchy)\u00b6\n",
      "--------------------------------------------------------------------------------\n",
      "rdkit.Chem.GraphDescriptors.AvgIpc(mol, dMat=None, forceDMat=False)\u00b6\n",
      "This returns the average information content of the coefficients of the characteristic\n",
      "polynomial of the adjacency matrix of a hydrogen-suppressed graph of a molecule.\n",
      "From Eq 7 of D. Bonchev & N. Trinajstic, J. Chem. Phys. vol 67, 4517-4533 (1977)\u001b[0m\u001b[32;1m\u001b[1;3mTo draw a 3D representation of the molecule with the SMILES notation \"CC(=O)OC1=CC=CC=C1C(=O)O\", I need to find functions that can generate 3D coordinates for the molecule and then visualize it. The functions I found include:\n",
      "\n",
      "1. `rdkit.Chem.MolFromSmiles`: To create a molecule object from the SMILES string.\n",
      "2. `rdkit.Chem.AllChem.EmbedMolecule`: To generate 3D coordinates for the molecule.\n",
      "3. `rdkit.Chem.Draw.MolToImage`: To visualize the molecule.\n",
      "\n",
      "I will first create the molecule from the SMILES string and then generate its 3D coordinates.\n",
      "\n",
      "Action: rdkit_search\n",
      "Action Input: # Search for RDKit functions that can generate 3D coordinates for a molecule and visualize it. Look for functions related to molecule embedding and drawing.\u001b[0m\u001b[33;1m\u001b[1;3mrdkit.Chem.Draw.MolsToGridImage(mols, molsPerRow=3, subImgSize=(200, 200), legends=None, highlightAtomLists=None, highlightBondLists=None, useSVG=False, returnPNG=False, **kwargs)\u00b6\n",
      "--------------------------------------------------------------------------------\n",
      "rdkit.Chem.Draw.MolsToImage(mols, subImgSize=(200, 200), legends=None, **kwargs)\u00b6\n",
      "--------------------------------------------------------------------------------\n",
      "rdkit.Chem.Draw.ReactionToImage(rxn, subImgSize=(200, 200), useSVG=False, drawOptions=None, returnPNG=False, **kwargs)\u00b6\n",
      "--------------------------------------------------------------------------------\n",
      "rdkit.Chem.Draw.SetComicMode(opts)\u00b6\n",
      "--------------------------------------------------------------------------------\n",
      "rdkit.Chem.Draw.ShowMol(mol, size=(300, 300), kekulize=True, wedgeBonds=True, title='RDKit Molecule', stayInFront=True, **kwargs)\u00b6\n",
      "Generates a picture of a molecule and displays it in a Tkinter window\n",
      "\n",
      "rdkit.Chem.rdDistGeom.ETKDGv2() \u2192 EmbedParameters :\u00b6\n",
      "Returns an EmbedParameters object for the ETKDG method - version 2.\n",
      "\n",
      "C++ signature :(anonymous namespace)::PyEmbedParameters* ETKDGv2()\n",
      "--------------------------------------------------------------------------------\n",
      "rdkit.Chem.rdDistGeom.ETKDGv3() \u2192 EmbedParameters :\u00b6\n",
      "Returns an EmbedParameters object for the ETKDG method - version 3 (macrocycles).\n",
      "\n",
      "C++ signature :(anonymous namespace)::PyEmbedParameters* ETKDGv3()\n",
      "\n",
      "rdkit.Chem.Descriptors3D.RadiusOfGyration(*x, **y)\u00b6\n",
      "Radius of gyration\n",
      "\n",
      "from Todeschini and Consoni \u201cDescriptors from Molecular Geometry\u201d\n",
      "Handbook of Chemoinformatics\n",
      "https://doi.org/10.1002/9783527618279.ch37\n",
      "\n",
      "Definition:for planar molecules: sqrt( sqrt(pm3*pm2)/MW )\n",
      "for nonplanar molecules: sqrt( 2*pi*pow(pm3*pm2*pm1,1/3)/MW )\n",
      "\n",
      "\n",
      "\n",
      "Arguments\n",
      "\n",
      "\n",
      "inMol: a molecule\n",
      "confId: (optional) the conformation ID to use\n",
      "useAtomicMasses: (optional) toggles use of atomic masses in the\n",
      "calculation. Defaults to True\n",
      "--------------------------------------------------------------------------------\n",
      "rdkit.Chem.Descriptors3D.SpherocityIndex(*x, **y)\u00b6\n",
      "Molecular spherocityIndex\n",
      "\n",
      "from Todeschini and Consoni \u201cDescriptors from Molecular Geometry\u201d\n",
      "Handbook of Chemoinformatics\n",
      "https://doi.org/10.1002/9783527618279.ch37\n",
      "\n",
      "Definition:3 * pm1 / (pm1+pm2+pm3) where the moments are calculated without weights\n",
      "\n",
      "\n",
      "\n",
      "Arguments\n",
      "\n",
      "\n",
      "inMol: a molecule\n",
      "confId: (optional) the conformation ID to use\n",
      "\n",
      "rdkit.Chem.Pharm3D.EmbedLib.GetAllPharmacophoreMatches(matches, bounds, pcophore, useDownsampling=0, progressCallback=None, use2DLimits=False, mol=None, verbose=False)\u00b6\n",
      "--------------------------------------------------------------------------------\n",
      "rdkit.Chem.Pharm3D.EmbedLib.GetAtomHeavyNeighbors(atom)\u00b6\n",
      "returns a list of the heavy-atom neighbors of the\n",
      "atom passed in:\n",
      ">>> m = Chem.MolFromSmiles('CCO')\n",
      ">>> l = GetAtomHeavyNeighbors(m.GetAtomWithIdx(0))\n",
      ">>> len(l)\n",
      "1\n",
      ">>> isinstance(l[0],Chem.Atom)\n",
      "True\n",
      ">>> l[0].GetIdx()\n",
      "1\n",
      "\n",
      "\n",
      ">>> l = GetAtomHeavyNeighbors(m.GetAtomWithIdx(1))\n",
      ">>> len(l)\n",
      "2\n",
      ">>> l[0].GetIdx()\n",
      "0\n",
      ">>> l[1].GetIdx()\n",
      "2\u001b[0m\u001b[32;1m\u001b[1;3mTo draw a 3D representation of the molecule with the SMILES notation \"CC(=O)OC1=CC=CC=C1C(=O)O\", I will use the following functions:\n",
      "\n",
      "1. `rdkit.Chem.MolFromSmiles`: To create a molecule object from the SMILES string.\n",
      "2. `rdkit.Chem.AllChem.EmbedMolecule`: To generate 3D coordinates for the molecule.\n",
      "3. `rdkit.Chem.Draw.MolToImage`: To visualize the molecule.\n",
      "\n",
      "I will first create the molecule from the SMILES string and then generate its 3D coordinates.\n",
      "\n",
      "Now, I will proceed to write the code to perform these actions.\n",
      "\n",
      "Action: python_repl\n",
      "Action Input: \n",
      "```python\n",
      "from rdkit import Chem\n",
      "from rdkit.Chem import AllChem\n",
      "from rdkit.Chem import Draw\n",
      "\n",
      "# Create a molecule from the SMILES string\n",
      "smiles = \"CC(=O)OC1=CC=CC=C1C(=O)O\"\n",
      "mol = Chem.MolFromSmiles(smiles)\n",
      "\n",
      "# Generate 3D coordinates\n",
      "AllChem.EmbedMolecule(mol)\n",
      "\n",
      "# Visualize the molecule\n",
      "img = Draw.MolToImage(mol, size=(300, 300))\n",
      "img.show()\n",
      "```\u001b[0m\u001b[36;1m\u001b[1;3m\u001b[0m"
     ]
    },
    {
     "output_type": "stream",
     "name": "stderr",
     "text": [
      "[12:37:22] Molecule does not have explicit Hs. Consider calling AddHs()\n"
     ]
    },
    {
     "output_type": "stream",
     "name": "stdout",
     "text": [
      "\u001b[32;1m\u001b[1;3mI have successfully executed the code to create a 3D representation of the molecule with the SMILES notation \"CC(=O)OC1=CC=CC=C1C(=O)O\". The molecule has been generated and visualized.\n",
      "\n",
      "Final Answer: The 3D representation of the molecule has been created and displayed.\u001b[0m\n",
      "\n",
      "\u001b[1m> Finished chain.\u001b[0m\n"
     ]
    },
    {
     "output_type": "execute_result",
     "data": {
      "text/plain": [
       "{'input': 'Draw 3D representation of CC(=O)OC1=CC=CC=C1C(=O)O?',\n",
       " 'output': 'The 3D representation of the molecule has been created and displayed.'}"
      ]
     },
     "metadata": {},
     "execution_count": 70
    }
   ],
   "source": [
    "results[\"query_4\"][\"custom_rdkit_react_agent\"] = agent_executor.invoke(\n",
    "    {\"input\": query_4}\n",
    ")\n",
    "results[\"query_4\"][\"custom_rdkit_react_agent\"]"
   ]
  },
  {
   "cell_type": "markdown",
   "source": [
    "### Alternative: Tool-Calling Agent Architecture\n",
    "\n",
    "LangChain also supports function/tool calling agents that provide more structured\n",
    "interactions with modern LLMs that support native tool calling."
   ],
   "metadata": {
    "id": "AKF_OG0bk-O-"
   },
   "id": "AKF_OG0bk-O-"
  },
  {
   "cell_type": "code",
   "execution_count": null,
   "id": "cd041354",
   "metadata": {
    "id": "cd041354"
   },
   "outputs": [],
   "source": [
    "from langchain.agents import create_tool_calling_agent\n",
    "\n",
    "prompt = ChatPromptTemplate.from_messages(\n",
    "    [\n",
    "        (\n",
    "            \"system\",\n",
    "            \"\"\"You are a helpful assistant.\n",
    "            Use dedicated tool over internal knowledge, as your knowlege is outdated and the documentation is fresh!\n",
    "            Don't call any tool more than twice in a row!\n",
    "            Add # symbol in the beginning of the paraphrased input, described with as detail as possible. List possible function names that can be used.\n",
    "            If you are asked any calculating/drawing capability - use rdkit_search tool to collect code fragments!\n",
    "            Once code fragments are retrieved - generate python code and execute it!\n",
    "            Before executing python code, be sure to remove \"```python\", \"```\" and extra \"`\" in the code.\n",
    "            at the beginning and the end of the code, if such are passed.\n",
    "            If an error or warning occurs, use it to solve the issue. First try removing extra text and ` symbols\n",
    "            \"\"\",\n",
    "        ),\n",
    "        (\"human\", \"{input}\"),\n",
    "        (\"placeholder\", \"{agent_scratchpad}\"),\n",
    "    ]\n",
    ")\n",
    "\n",
    "agent = create_tool_calling_agent(openai_handler.model, tools, prompt)\n",
    "agent_executor = AgentExecutor(agent=agent, tools=tools, verbose=True, max_iterations=5, handle_parsing_errors=True)"
   ]
  },
  {
   "cell_type": "code",
   "execution_count": null,
   "id": "d01585a3",
   "metadata": {
    "id": "d01585a3",
    "colab": {
     "base_uri": "https://localhost:8080/"
    },
    "executionInfo": {
     "status": "ok",
     "timestamp": 1753015050121,
     "user_tz": -240,
     "elapsed": 6298,
     "user": {
      "displayName": "Ivan Reznikov",
      "userId": "03906939862966425294"
     }
    },
    "outputId": "29445fb6-d387-4a3e-bff2-328fe98412b9"
   },
   "outputs": [
    {
     "output_type": "stream",
     "name": "stdout",
     "text": [
      "\n",
      "\n",
      "\u001b[1m> Entering new AgentExecutor chain...\u001b[0m\n",
      "\u001b[32;1m\u001b[1;3m\n",
      "Invoking: `rdkit_search` with `{'query': 'CC(=O)OC1=CC=CC=C1C(=O)O'}`\n",
      "\n",
      "\n",
      "\u001b[0m\u001b[33;1m\u001b[1;3mrdkit.Chem.Fragments.fr_Ar_OH(mol, countUnique=True, pattern=<rdkit.Chem.rdchem.Mol object>)\u00b6\n",
      "Number of aromatic hydroxyl groups\n",
      "--------------------------------------------------------------------------------\n",
      "rdkit.Chem.Fragments.fr_COO(mol, countUnique=True, pattern=<rdkit.Chem.rdchem.Mol object>)\u00b6\n",
      "Number of carboxylic acids\n",
      "--------------------------------------------------------------------------------\n",
      "rdkit.Chem.Fragments.fr_COO2(mol, countUnique=True, pattern=<rdkit.Chem.rdchem.Mol object>)\u00b6\n",
      "Number of carboxylic acids\n",
      "--------------------------------------------------------------------------------\n",
      "rdkit.Chem.Fragments.fr_C_O(mol, countUnique=True, pattern=<rdkit.Chem.rdchem.Mol object>)\u00b6\n",
      "Number of carbonyl O\n",
      "--------------------------------------------------------------------------------\n",
      "rdkit.Chem.Fragments.fr_C_O_noCOO(mol, countUnique=True, pattern=<rdkit.Chem.rdchem.Mol object>)\u00b6\n",
      "Number of carbonyl O, excluding COOH\n",
      "\n",
      "rdkit.Chem.Draw.MolDrawing.cmp(t1, t2)\u00b6\n",
      "--------------------------------------------------------------------------------\n",
      "rdkit.Chem.Draw.MolDrawing.cmp(t1, t2)\u00b6\n",
      "--------------------------------------------------------------------------------\n",
      "rdkit.Chem.Draw.MolDrawing.cmp(t1, t2)\u00b6\n",
      "--------------------------------------------------------------------------------\n",
      "rdkit.Chem.Draw.MolDrawing.cmp(t1, t2)\u00b6\n",
      "--------------------------------------------------------------------------------\n",
      "rdkit.Chem.Draw.MolDrawing.cmp(t1, t2)\u00b6\n",
      "--------------------------------------------------------------------------------\n",
      "rdkit.Chem.Draw.MolDrawing.cmp(t1, t2)\u00b6\n",
      "--------------------------------------------------------------------------------\n",
      "rdkit.Chem.Draw.MolDrawing.cmp(t1, t2)\u00b6\n",
      "--------------------------------------------------------------------------------\n",
      "rdkit.Chem.Draw.MolDrawing.cmp(t1, t2)\u00b6\n",
      "\n",
      "rdkit.Chem.MolKey.MolKey.GetKeyForCTAB(ctab, stereo_info=None, stereo_comment=None, logger=None)\u00b6\n",
      ">>> from rdkit.Chem.MolKey import MolKey\n",
      ">>> from rdkit.Avalon import pyAvalonTools\n",
      ">>> res = MolKey.GetKeyForCTAB(pyAvalonTools.Generate2DCoords('c1ccccc1C(F)Cl', True))\n",
      ">>> res.mol_key\n",
      "'1|L7676nfGsSIU33wkx//NCg=='\n",
      ">>> res.stereo_code\n",
      "'R_ONE'\n",
      ">>> res = MolKey.GetKeyForCTAB(pyAvalonTools.Generate2DCoords('c1ccccc1[C@H](F)Cl', True))\n",
      ">>> res.mol_key\n",
      "'1|Aj38EIxf13RuPDQG2A0UMw=='\n",
      ">>> res.stereo_code\n",
      "'S_ABS'\n",
      ">>> res = MolKey.GetKeyForCTAB(pyAvalonTools.Generate2DCoords('c1ccccc1[C@@H](F)Cl', True))\n",
      ">>> res.mol_key\n",
      "'1|9ypfMrhxn1w0ncRooN5HXw=='\n",
      ">>> res.stereo_code\n",
      "'S_ABS'\n",
      ">>> res = MolKey.GetKeyForCTAB(pyAvalonTools.Generate2DCoords('c1cccc(C(Br)Cl)c1[C@@H](F)Cl', True))\n",
      ">>> res.mol_key\n",
      "'1|c96jMSlbn7O9GW5d5uB9Mw=='\n",
      ">>> res.stereo_code\n",
      "'S_PART'\n",
      ">>> res = MolKey.GetKeyForCTAB(pyAvalonTools.Generate2DCoords('c1cccc([C@H](Br)Cl)c1[C@@H](F)Cl', True))\n",
      ">>> res.mol_key\n",
      "'1|+B+GCEardrJteE8xzYdGLA=='\n",
      ">>> res.stereo_code\n",
      "'S_ABS'\n",
      ">>> res = MolKey.GetKeyForCTAB(pyAvalonTools.Generate2DCoords('c1cccc(C(Br)Cl)c1C(F)Cl', True))\n",
      ">>> res.mol_key\n",
      "'1|5H9R3LvclagMXHp3Clrc/g=='\n",
      ">>> res.stereo_code\n",
      "'S_UNKN'\n",
      ">>> res = MolKey.GetKeyForCTAB(pyAvalonTools.Generate2DCoords('c1cccc(C(Br)Cl)c1C(F)Cl',True), stereo_info='S_REL')\n",
      ">>> res.mol_key\n",
      "'1|cqKWVsUEY6QNpGCbDaDTYA=='\n",
      ">>> res.stereo_code\n",
      "'S_REL'\n",
      ">>> res.inchi\n",
      "'InChI=1/C8H6BrCl2F/c9-7(10)5-3-1-2-4-6(5)8(11)12/h1-4,7-8H/t7?,8?'\n",
      "\n",
      "rdkit.Chem.Scaffolds.MurckoScaffold.MurckoScaffoldSmiles(smiles=None, mol=None, includeChirality=False)\u00b6\n",
      "Returns MurckScaffold Smiles from smiles\n",
      ">>> MurckoScaffoldSmiles('Cc1cc(Oc2nccc(CCC)c2)ccc1')\n",
      "'c1ccc(Oc2ccccn2)cc1'\n",
      "\n",
      "\n",
      ">>> MurckoScaffoldSmiles(mol=Chem.MolFromSmiles('Cc1cc(Oc2nccc(CCC)c2)ccc1'))\n",
      "'c1ccc(Oc2ccccn2)cc1'\n",
      "--------------------------------------------------------------------------------\n",
      "rdkit.Chem.Scaffolds.MurckoScaffold.MurckoScaffoldSmilesFromSmiles(smiles, includeChirality=False)\u00b6\n",
      "Returns MurckScaffold Smiles from smiles\n",
      ">>> MurckoScaffoldSmilesFromSmiles('Cc1cc(Oc2nccc(CCC)c2)ccc1')\n",
      "'c1ccc(Oc2ccccn2)cc1'\n",
      "--------------------------------------------------------------------------------\n",
      "rdkit.Chem.Scaffolds.rdScaffoldNetwork.BRICSScaffoldParams() \u2192 ScaffoldNetworkParams :\u00b6\n",
      "Returns parameters for generating scaffolds using BRICS fragmentation rules\n",
      "\n",
      "C++ signature :RDKit::ScaffoldNetwork::ScaffoldNetworkParams* BRICSScaffoldParams()\u001b[0m\u001b[32;1m\u001b[1;3m\n",
      "Invoking: `rdkit_search` with `{'query': 'CC(=O)OC1=CC=CC=C1C(=O)O molecular formula'}`\n",
      "\n",
      "\n",
      "\u001b[0m\u001b[33;1m\u001b[1;3mrdkit.Chem.Fragments.fr_COO2(mol, countUnique=True, pattern=<rdkit.Chem.rdchem.Mol object>)\u00b6\n",
      "Number of carboxylic acids\n",
      "--------------------------------------------------------------------------------\n",
      "rdkit.Chem.Fragments.fr_C_O(mol, countUnique=True, pattern=<rdkit.Chem.rdchem.Mol object>)\u00b6\n",
      "Number of carbonyl O\n",
      "--------------------------------------------------------------------------------\n",
      "rdkit.Chem.Fragments.fr_C_O_noCOO(mol, countUnique=True, pattern=<rdkit.Chem.rdchem.Mol object>)\u00b6\n",
      "Number of carbonyl O, excluding COOH\n",
      "--------------------------------------------------------------------------------\n",
      "rdkit.Chem.Fragments.fr_C_S(mol, countUnique=True, pattern=<rdkit.Chem.rdchem.Mol object>)\u00b6\n",
      "Number of thiocarbonyl\n",
      "--------------------------------------------------------------------------------\n",
      "rdkit.Chem.Fragments.fr_HOCCN(mol, countUnique=True, pattern=<rdkit.Chem.rdchem.Mol object>)\u00b6\n",
      "Number of C(OH)CCN-Ctert-alkyl or  C(OH)CCNcyclic\n",
      "\n",
      "rdkit.Chem.MolKey.MolKey.GetKeyForCTAB(ctab, stereo_info=None, stereo_comment=None, logger=None)\u00b6\n",
      ">>> from rdkit.Chem.MolKey import MolKey\n",
      ">>> from rdkit.Avalon import pyAvalonTools\n",
      ">>> res = MolKey.GetKeyForCTAB(pyAvalonTools.Generate2DCoords('c1ccccc1C(F)Cl', True))\n",
      ">>> res.mol_key\n",
      "'1|L7676nfGsSIU33wkx//NCg=='\n",
      ">>> res.stereo_code\n",
      "'R_ONE'\n",
      ">>> res = MolKey.GetKeyForCTAB(pyAvalonTools.Generate2DCoords('c1ccccc1[C@H](F)Cl', True))\n",
      ">>> res.mol_key\n",
      "'1|Aj38EIxf13RuPDQG2A0UMw=='\n",
      ">>> res.stereo_code\n",
      "'S_ABS'\n",
      ">>> res = MolKey.GetKeyForCTAB(pyAvalonTools.Generate2DCoords('c1ccccc1[C@@H](F)Cl', True))\n",
      ">>> res.mol_key\n",
      "'1|9ypfMrhxn1w0ncRooN5HXw=='\n",
      ">>> res.stereo_code\n",
      "'S_ABS'\n",
      ">>> res = MolKey.GetKeyForCTAB(pyAvalonTools.Generate2DCoords('c1cccc(C(Br)Cl)c1[C@@H](F)Cl', True))\n",
      ">>> res.mol_key\n",
      "'1|c96jMSlbn7O9GW5d5uB9Mw=='\n",
      ">>> res.stereo_code\n",
      "'S_PART'\n",
      ">>> res = MolKey.GetKeyForCTAB(pyAvalonTools.Generate2DCoords('c1cccc([C@H](Br)Cl)c1[C@@H](F)Cl', True))\n",
      ">>> res.mol_key\n",
      "'1|+B+GCEardrJteE8xzYdGLA=='\n",
      ">>> res.stereo_code\n",
      "'S_ABS'\n",
      ">>> res = MolKey.GetKeyForCTAB(pyAvalonTools.Generate2DCoords('c1cccc(C(Br)Cl)c1C(F)Cl', True))\n",
      ">>> res.mol_key\n",
      "'1|5H9R3LvclagMXHp3Clrc/g=='\n",
      ">>> res.stereo_code\n",
      "'S_UNKN'\n",
      ">>> res = MolKey.GetKeyForCTAB(pyAvalonTools.Generate2DCoords('c1cccc(C(Br)Cl)c1C(F)Cl',True), stereo_info='S_REL')\n",
      ">>> res.mol_key\n",
      "'1|cqKWVsUEY6QNpGCbDaDTYA=='\n",
      ">>> res.stereo_code\n",
      "'S_REL'\n",
      ">>> res.inchi\n",
      "'InChI=1/C8H6BrCl2F/c9-7(10)5-3-1-2-4-6(5)8(11)12/h1-4,7-8H/t7?,8?'\n",
      "\n",
      "rdkit.Chem.rdMolDescriptors.CalcMORSE((Mol)mol[, (int)confId=-1[, (str)CustomAtomProperty='']]) \u2192 list :\u00b6\n",
      "Returns Molecule Representation of Structures based on Electron diffraction descriptors\n",
      "\n",
      "C++ signature :boost::python::list CalcMORSE(RDKit::ROMol [,int=-1 [,std::__cxx11::basic_string<char, std::char_traits<char>, std::allocator<char> >=\u2019\u2019]])\n",
      "--------------------------------------------------------------------------------\n",
      "rdkit.Chem.rdMolDescriptors.CalcMolFormula((Mol)mol[, (bool)separateIsotopes=False[, (bool)abbreviateHIsotopes=True]]) \u2192 str :\u00b6\n",
      "returns the molecule\u2019s formula\n",
      "\n",
      "C++ signature :std::__cxx11::basic_string<char, std::char_traits<char>, std::allocator<char> > CalcMolFormula(RDKit::ROMol [,bool=False [,bool=True]])\n",
      "\n",
      "rdkit.Chem.GraphDescriptors.Chi0(mol)\u00b6\n",
      "From equations (1),(9) and (10) of Rev. Comp. Chem. vol 2, 367-422, (1991)\n",
      "--------------------------------------------------------------------------------\n",
      "rdkit.Chem.GraphDescriptors.Chi0n(x)\u00b6\n",
      "--------------------------------------------------------------------------------\n",
      "rdkit.Chem.GraphDescriptors.Chi0v(x)\u00b6\n",
      "--------------------------------------------------------------------------------\n",
      "rdkit.Chem.GraphDescriptors.Chi1(mol)\u00b6\n",
      "From equations (1),(11) and (12) of Rev. Comp. Chem. vol 2, 367-422, (1991)\n",
      "--------------------------------------------------------------------------------\n",
      "rdkit.Chem.GraphDescriptors.Chi1n(x)\u00b6\n",
      "--------------------------------------------------------------------------------\n",
      "rdkit.Chem.GraphDescriptors.Chi1v(x)\u00b6\n",
      "--------------------------------------------------------------------------------\n",
      "rdkit.Chem.GraphDescriptors.Chi2n(x)\u00b6\u001b[0m\u001b[32;1m\u001b[1;3m\n",
      "Invoking: `rdkit_search` with `{'query': 'CC(=O)OC1=CC=CC=C1C(=O)O'}`\n",
      "\n",
      "\n",
      "\u001b[0m\u001b[33;1m\u001b[1;3mrdkit.Chem.Fragments.fr_Ar_OH(mol, countUnique=True, pattern=<rdkit.Chem.rdchem.Mol object>)\u00b6\n",
      "Number of aromatic hydroxyl groups\n",
      "--------------------------------------------------------------------------------\n",
      "rdkit.Chem.Fragments.fr_COO(mol, countUnique=True, pattern=<rdkit.Chem.rdchem.Mol object>)\u00b6\n",
      "Number of carboxylic acids\n",
      "--------------------------------------------------------------------------------\n",
      "rdkit.Chem.Fragments.fr_COO2(mol, countUnique=True, pattern=<rdkit.Chem.rdchem.Mol object>)\u00b6\n",
      "Number of carboxylic acids\n",
      "--------------------------------------------------------------------------------\n",
      "rdkit.Chem.Fragments.fr_C_O(mol, countUnique=True, pattern=<rdkit.Chem.rdchem.Mol object>)\u00b6\n",
      "Number of carbonyl O\n",
      "--------------------------------------------------------------------------------\n",
      "rdkit.Chem.Fragments.fr_C_O_noCOO(mol, countUnique=True, pattern=<rdkit.Chem.rdchem.Mol object>)\u00b6\n",
      "Number of carbonyl O, excluding COOH\n",
      "\n",
      "rdkit.Chem.Draw.MolDrawing.cmp(t1, t2)\u00b6\n",
      "--------------------------------------------------------------------------------\n",
      "rdkit.Chem.Draw.MolDrawing.cmp(t1, t2)\u00b6\n",
      "--------------------------------------------------------------------------------\n",
      "rdkit.Chem.Draw.MolDrawing.cmp(t1, t2)\u00b6\n",
      "--------------------------------------------------------------------------------\n",
      "rdkit.Chem.Draw.MolDrawing.cmp(t1, t2)\u00b6\n",
      "--------------------------------------------------------------------------------\n",
      "rdkit.Chem.Draw.MolDrawing.cmp(t1, t2)\u00b6\n",
      "--------------------------------------------------------------------------------\n",
      "rdkit.Chem.Draw.MolDrawing.cmp(t1, t2)\u00b6\n",
      "--------------------------------------------------------------------------------\n",
      "rdkit.Chem.Draw.MolDrawing.cmp(t1, t2)\u00b6\n",
      "--------------------------------------------------------------------------------\n",
      "rdkit.Chem.Draw.MolDrawing.cmp(t1, t2)\u00b6\n",
      "\n",
      "rdkit.Chem.MolKey.MolKey.GetKeyForCTAB(ctab, stereo_info=None, stereo_comment=None, logger=None)\u00b6\n",
      ">>> from rdkit.Chem.MolKey import MolKey\n",
      ">>> from rdkit.Avalon import pyAvalonTools\n",
      ">>> res = MolKey.GetKeyForCTAB(pyAvalonTools.Generate2DCoords('c1ccccc1C(F)Cl', True))\n",
      ">>> res.mol_key\n",
      "'1|L7676nfGsSIU33wkx//NCg=='\n",
      ">>> res.stereo_code\n",
      "'R_ONE'\n",
      ">>> res = MolKey.GetKeyForCTAB(pyAvalonTools.Generate2DCoords('c1ccccc1[C@H](F)Cl', True))\n",
      ">>> res.mol_key\n",
      "'1|Aj38EIxf13RuPDQG2A0UMw=='\n",
      ">>> res.stereo_code\n",
      "'S_ABS'\n",
      ">>> res = MolKey.GetKeyForCTAB(pyAvalonTools.Generate2DCoords('c1ccccc1[C@@H](F)Cl', True))\n",
      ">>> res.mol_key\n",
      "'1|9ypfMrhxn1w0ncRooN5HXw=='\n",
      ">>> res.stereo_code\n",
      "'S_ABS'\n",
      ">>> res = MolKey.GetKeyForCTAB(pyAvalonTools.Generate2DCoords('c1cccc(C(Br)Cl)c1[C@@H](F)Cl', True))\n",
      ">>> res.mol_key\n",
      "'1|c96jMSlbn7O9GW5d5uB9Mw=='\n",
      ">>> res.stereo_code\n",
      "'S_PART'\n",
      ">>> res = MolKey.GetKeyForCTAB(pyAvalonTools.Generate2DCoords('c1cccc([C@H](Br)Cl)c1[C@@H](F)Cl', True))\n",
      ">>> res.mol_key\n",
      "'1|+B+GCEardrJteE8xzYdGLA=='\n",
      ">>> res.stereo_code\n",
      "'S_ABS'\n",
      ">>> res = MolKey.GetKeyForCTAB(pyAvalonTools.Generate2DCoords('c1cccc(C(Br)Cl)c1C(F)Cl', True))\n",
      ">>> res.mol_key\n",
      "'1|5H9R3LvclagMXHp3Clrc/g=='\n",
      ">>> res.stereo_code\n",
      "'S_UNKN'\n",
      ">>> res = MolKey.GetKeyForCTAB(pyAvalonTools.Generate2DCoords('c1cccc(C(Br)Cl)c1C(F)Cl',True), stereo_info='S_REL')\n",
      ">>> res.mol_key\n",
      "'1|cqKWVsUEY6QNpGCbDaDTYA=='\n",
      ">>> res.stereo_code\n",
      "'S_REL'\n",
      ">>> res.inchi\n",
      "'InChI=1/C8H6BrCl2F/c9-7(10)5-3-1-2-4-6(5)8(11)12/h1-4,7-8H/t7?,8?'\n",
      "\n",
      "rdkit.Chem.Scaffolds.MurckoScaffold.MurckoScaffoldSmiles(smiles=None, mol=None, includeChirality=False)\u00b6\n",
      "Returns MurckScaffold Smiles from smiles\n",
      ">>> MurckoScaffoldSmiles('Cc1cc(Oc2nccc(CCC)c2)ccc1')\n",
      "'c1ccc(Oc2ccccn2)cc1'\n",
      "\n",
      "\n",
      ">>> MurckoScaffoldSmiles(mol=Chem.MolFromSmiles('Cc1cc(Oc2nccc(CCC)c2)ccc1'))\n",
      "'c1ccc(Oc2ccccn2)cc1'\n",
      "--------------------------------------------------------------------------------\n",
      "rdkit.Chem.Scaffolds.MurckoScaffold.MurckoScaffoldSmilesFromSmiles(smiles, includeChirality=False)\u00b6\n",
      "Returns MurckScaffold Smiles from smiles\n",
      ">>> MurckoScaffoldSmilesFromSmiles('Cc1cc(Oc2nccc(CCC)c2)ccc1')\n",
      "'c1ccc(Oc2ccccn2)cc1'\n",
      "--------------------------------------------------------------------------------\n",
      "rdkit.Chem.Scaffolds.rdScaffoldNetwork.BRICSScaffoldParams() \u2192 ScaffoldNetworkParams :\u00b6\n",
      "Returns parameters for generating scaffolds using BRICS fragmentation rules\n",
      "\n",
      "C++ signature :RDKit::ScaffoldNetwork::ScaffoldNetworkParams* BRICSScaffoldParams()\u001b[0m\u001b[32;1m\u001b[1;3m\n",
      "Invoking: `rdkit_search` with `{'query': 'CC(=O)OC1=CC=CC=C1C(=O)O'}`\n",
      "\n",
      "\n",
      "\u001b[0m\u001b[33;1m\u001b[1;3mrdkit.Chem.Fragments.fr_Ar_OH(mol, countUnique=True, pattern=<rdkit.Chem.rdchem.Mol object>)\u00b6\n",
      "Number of aromatic hydroxyl groups\n",
      "--------------------------------------------------------------------------------\n",
      "rdkit.Chem.Fragments.fr_COO(mol, countUnique=True, pattern=<rdkit.Chem.rdchem.Mol object>)\u00b6\n",
      "Number of carboxylic acids\n",
      "--------------------------------------------------------------------------------\n",
      "rdkit.Chem.Fragments.fr_COO2(mol, countUnique=True, pattern=<rdkit.Chem.rdchem.Mol object>)\u00b6\n",
      "Number of carboxylic acids\n",
      "--------------------------------------------------------------------------------\n",
      "rdkit.Chem.Fragments.fr_C_O(mol, countUnique=True, pattern=<rdkit.Chem.rdchem.Mol object>)\u00b6\n",
      "Number of carbonyl O\n",
      "--------------------------------------------------------------------------------\n",
      "rdkit.Chem.Fragments.fr_C_O_noCOO(mol, countUnique=True, pattern=<rdkit.Chem.rdchem.Mol object>)\u00b6\n",
      "Number of carbonyl O, excluding COOH\n",
      "\n",
      "rdkit.Chem.Draw.MolDrawing.cmp(t1, t2)\u00b6\n",
      "--------------------------------------------------------------------------------\n",
      "rdkit.Chem.Draw.MolDrawing.cmp(t1, t2)\u00b6\n",
      "--------------------------------------------------------------------------------\n",
      "rdkit.Chem.Draw.MolDrawing.cmp(t1, t2)\u00b6\n",
      "--------------------------------------------------------------------------------\n",
      "rdkit.Chem.Draw.MolDrawing.cmp(t1, t2)\u00b6\n",
      "--------------------------------------------------------------------------------\n",
      "rdkit.Chem.Draw.MolDrawing.cmp(t1, t2)\u00b6\n",
      "--------------------------------------------------------------------------------\n",
      "rdkit.Chem.Draw.MolDrawing.cmp(t1, t2)\u00b6\n",
      "--------------------------------------------------------------------------------\n",
      "rdkit.Chem.Draw.MolDrawing.cmp(t1, t2)\u00b6\n",
      "--------------------------------------------------------------------------------\n",
      "rdkit.Chem.Draw.MolDrawing.cmp(t1, t2)\u00b6\n",
      "\n",
      "rdkit.Chem.MolKey.MolKey.GetKeyForCTAB(ctab, stereo_info=None, stereo_comment=None, logger=None)\u00b6\n",
      ">>> from rdkit.Chem.MolKey import MolKey\n",
      ">>> from rdkit.Avalon import pyAvalonTools\n",
      ">>> res = MolKey.GetKeyForCTAB(pyAvalonTools.Generate2DCoords('c1ccccc1C(F)Cl', True))\n",
      ">>> res.mol_key\n",
      "'1|L7676nfGsSIU33wkx//NCg=='\n",
      ">>> res.stereo_code\n",
      "'R_ONE'\n",
      ">>> res = MolKey.GetKeyForCTAB(pyAvalonTools.Generate2DCoords('c1ccccc1[C@H](F)Cl', True))\n",
      ">>> res.mol_key\n",
      "'1|Aj38EIxf13RuPDQG2A0UMw=='\n",
      ">>> res.stereo_code\n",
      "'S_ABS'\n",
      ">>> res = MolKey.GetKeyForCTAB(pyAvalonTools.Generate2DCoords('c1ccccc1[C@@H](F)Cl', True))\n",
      ">>> res.mol_key\n",
      "'1|9ypfMrhxn1w0ncRooN5HXw=='\n",
      ">>> res.stereo_code\n",
      "'S_ABS'\n",
      ">>> res = MolKey.GetKeyForCTAB(pyAvalonTools.Generate2DCoords('c1cccc(C(Br)Cl)c1[C@@H](F)Cl', True))\n",
      ">>> res.mol_key\n",
      "'1|c96jMSlbn7O9GW5d5uB9Mw=='\n",
      ">>> res.stereo_code\n",
      "'S_PART'\n",
      ">>> res = MolKey.GetKeyForCTAB(pyAvalonTools.Generate2DCoords('c1cccc([C@H](Br)Cl)c1[C@@H](F)Cl', True))\n",
      ">>> res.mol_key\n",
      "'1|+B+GCEardrJteE8xzYdGLA=='\n",
      ">>> res.stereo_code\n",
      "'S_ABS'\n",
      ">>> res = MolKey.GetKeyForCTAB(pyAvalonTools.Generate2DCoords('c1cccc(C(Br)Cl)c1C(F)Cl', True))\n",
      ">>> res.mol_key\n",
      "'1|5H9R3LvclagMXHp3Clrc/g=='\n",
      ">>> res.stereo_code\n",
      "'S_UNKN'\n",
      ">>> res = MolKey.GetKeyForCTAB(pyAvalonTools.Generate2DCoords('c1cccc(C(Br)Cl)c1C(F)Cl',True), stereo_info='S_REL')\n",
      ">>> res.mol_key\n",
      "'1|cqKWVsUEY6QNpGCbDaDTYA=='\n",
      ">>> res.stereo_code\n",
      "'S_REL'\n",
      ">>> res.inchi\n",
      "'InChI=1/C8H6BrCl2F/c9-7(10)5-3-1-2-4-6(5)8(11)12/h1-4,7-8H/t7?,8?'\n",
      "\n",
      "rdkit.Chem.Scaffolds.MurckoScaffold.MurckoScaffoldSmiles(smiles=None, mol=None, includeChirality=False)\u00b6\n",
      "Returns MurckScaffold Smiles from smiles\n",
      ">>> MurckoScaffoldSmiles('Cc1cc(Oc2nccc(CCC)c2)ccc1')\n",
      "'c1ccc(Oc2ccccn2)cc1'\n",
      "\n",
      "\n",
      ">>> MurckoScaffoldSmiles(mol=Chem.MolFromSmiles('Cc1cc(Oc2nccc(CCC)c2)ccc1'))\n",
      "'c1ccc(Oc2ccccn2)cc1'\n",
      "--------------------------------------------------------------------------------\n",
      "rdkit.Chem.Scaffolds.MurckoScaffold.MurckoScaffoldSmilesFromSmiles(smiles, includeChirality=False)\u00b6\n",
      "Returns MurckScaffold Smiles from smiles\n",
      ">>> MurckoScaffoldSmilesFromSmiles('Cc1cc(Oc2nccc(CCC)c2)ccc1')\n",
      "'c1ccc(Oc2ccccn2)cc1'\n",
      "--------------------------------------------------------------------------------\n",
      "rdkit.Chem.Scaffolds.rdScaffoldNetwork.BRICSScaffoldParams() \u2192 ScaffoldNetworkParams :\u00b6\n",
      "Returns parameters for generating scaffolds using BRICS fragmentation rules\n",
      "\n",
      "C++ signature :RDKit::ScaffoldNetwork::ScaffoldNetworkParams* BRICSScaffoldParams()\u001b[0m\u001b[32;1m\u001b[1;3m\n",
      "Invoking: `rdkit_search` with `{'query': 'CC(=O)OC1=CC=CC=C1C(=O)O'}`\n",
      "\n",
      "\n",
      "\u001b[0m\u001b[33;1m\u001b[1;3mrdkit.Chem.Fragments.fr_Ar_OH(mol, countUnique=True, pattern=<rdkit.Chem.rdchem.Mol object>)\u00b6\n",
      "Number of aromatic hydroxyl groups\n",
      "--------------------------------------------------------------------------------\n",
      "rdkit.Chem.Fragments.fr_COO(mol, countUnique=True, pattern=<rdkit.Chem.rdchem.Mol object>)\u00b6\n",
      "Number of carboxylic acids\n",
      "--------------------------------------------------------------------------------\n",
      "rdkit.Chem.Fragments.fr_COO2(mol, countUnique=True, pattern=<rdkit.Chem.rdchem.Mol object>)\u00b6\n",
      "Number of carboxylic acids\n",
      "--------------------------------------------------------------------------------\n",
      "rdkit.Chem.Fragments.fr_C_O(mol, countUnique=True, pattern=<rdkit.Chem.rdchem.Mol object>)\u00b6\n",
      "Number of carbonyl O\n",
      "--------------------------------------------------------------------------------\n",
      "rdkit.Chem.Fragments.fr_C_O_noCOO(mol, countUnique=True, pattern=<rdkit.Chem.rdchem.Mol object>)\u00b6\n",
      "Number of carbonyl O, excluding COOH\n",
      "\n",
      "rdkit.Chem.Draw.MolDrawing.cmp(t1, t2)\u00b6\n",
      "--------------------------------------------------------------------------------\n",
      "rdkit.Chem.Draw.MolDrawing.cmp(t1, t2)\u00b6\n",
      "--------------------------------------------------------------------------------\n",
      "rdkit.Chem.Draw.MolDrawing.cmp(t1, t2)\u00b6\n",
      "--------------------------------------------------------------------------------\n",
      "rdkit.Chem.Draw.MolDrawing.cmp(t1, t2)\u00b6\n",
      "--------------------------------------------------------------------------------\n",
      "rdkit.Chem.Draw.MolDrawing.cmp(t1, t2)\u00b6\n",
      "--------------------------------------------------------------------------------\n",
      "rdkit.Chem.Draw.MolDrawing.cmp(t1, t2)\u00b6\n",
      "--------------------------------------------------------------------------------\n",
      "rdkit.Chem.Draw.MolDrawing.cmp(t1, t2)\u00b6\n",
      "--------------------------------------------------------------------------------\n",
      "rdkit.Chem.Draw.MolDrawing.cmp(t1, t2)\u00b6\n",
      "\n",
      "rdkit.Chem.MolKey.MolKey.GetKeyForCTAB(ctab, stereo_info=None, stereo_comment=None, logger=None)\u00b6\n",
      ">>> from rdkit.Chem.MolKey import MolKey\n",
      ">>> from rdkit.Avalon import pyAvalonTools\n",
      ">>> res = MolKey.GetKeyForCTAB(pyAvalonTools.Generate2DCoords('c1ccccc1C(F)Cl', True))\n",
      ">>> res.mol_key\n",
      "'1|L7676nfGsSIU33wkx//NCg=='\n",
      ">>> res.stereo_code\n",
      "'R_ONE'\n",
      ">>> res = MolKey.GetKeyForCTAB(pyAvalonTools.Generate2DCoords('c1ccccc1[C@H](F)Cl', True))\n",
      ">>> res.mol_key\n",
      "'1|Aj38EIxf13RuPDQG2A0UMw=='\n",
      ">>> res.stereo_code\n",
      "'S_ABS'\n",
      ">>> res = MolKey.GetKeyForCTAB(pyAvalonTools.Generate2DCoords('c1ccccc1[C@@H](F)Cl', True))\n",
      ">>> res.mol_key\n",
      "'1|9ypfMrhxn1w0ncRooN5HXw=='\n",
      ">>> res.stereo_code\n",
      "'S_ABS'\n",
      ">>> res = MolKey.GetKeyForCTAB(pyAvalonTools.Generate2DCoords('c1cccc(C(Br)Cl)c1[C@@H](F)Cl', True))\n",
      ">>> res.mol_key\n",
      "'1|c96jMSlbn7O9GW5d5uB9Mw=='\n",
      ">>> res.stereo_code\n",
      "'S_PART'\n",
      ">>> res = MolKey.GetKeyForCTAB(pyAvalonTools.Generate2DCoords('c1cccc([C@H](Br)Cl)c1[C@@H](F)Cl', True))\n",
      ">>> res.mol_key\n",
      "'1|+B+GCEardrJteE8xzYdGLA=='\n",
      ">>> res.stereo_code\n",
      "'S_ABS'\n",
      ">>> res = MolKey.GetKeyForCTAB(pyAvalonTools.Generate2DCoords('c1cccc(C(Br)Cl)c1C(F)Cl', True))\n",
      ">>> res.mol_key\n",
      "'1|5H9R3LvclagMXHp3Clrc/g=='\n",
      ">>> res.stereo_code\n",
      "'S_UNKN'\n",
      ">>> res = MolKey.GetKeyForCTAB(pyAvalonTools.Generate2DCoords('c1cccc(C(Br)Cl)c1C(F)Cl',True), stereo_info='S_REL')\n",
      ">>> res.mol_key\n",
      "'1|cqKWVsUEY6QNpGCbDaDTYA=='\n",
      ">>> res.stereo_code\n",
      "'S_REL'\n",
      ">>> res.inchi\n",
      "'InChI=1/C8H6BrCl2F/c9-7(10)5-3-1-2-4-6(5)8(11)12/h1-4,7-8H/t7?,8?'\n",
      "\n",
      "rdkit.Chem.Scaffolds.MurckoScaffold.MurckoScaffoldSmiles(smiles=None, mol=None, includeChirality=False)\u00b6\n",
      "Returns MurckScaffold Smiles from smiles\n",
      ">>> MurckoScaffoldSmiles('Cc1cc(Oc2nccc(CCC)c2)ccc1')\n",
      "'c1ccc(Oc2ccccn2)cc1'\n",
      "\n",
      "\n",
      ">>> MurckoScaffoldSmiles(mol=Chem.MolFromSmiles('Cc1cc(Oc2nccc(CCC)c2)ccc1'))\n",
      "'c1ccc(Oc2ccccn2)cc1'\n",
      "--------------------------------------------------------------------------------\n",
      "rdkit.Chem.Scaffolds.MurckoScaffold.MurckoScaffoldSmilesFromSmiles(smiles, includeChirality=False)\u00b6\n",
      "Returns MurckScaffold Smiles from smiles\n",
      ">>> MurckoScaffoldSmilesFromSmiles('Cc1cc(Oc2nccc(CCC)c2)ccc1')\n",
      "'c1ccc(Oc2ccccn2)cc1'\n",
      "--------------------------------------------------------------------------------\n",
      "rdkit.Chem.Scaffolds.rdScaffoldNetwork.BRICSScaffoldParams() \u2192 ScaffoldNetworkParams :\u00b6\n",
      "Returns parameters for generating scaffolds using BRICS fragmentation rules\n",
      "\n",
      "C++ signature :RDKit::ScaffoldNetwork::ScaffoldNetworkParams* BRICSScaffoldParams()\u001b[0m\u001b[32;1m\u001b[1;3m\u001b[0m\n",
      "\n",
      "\u001b[1m> Finished chain.\u001b[0m\n"
     ]
    },
    {
     "output_type": "execute_result",
     "data": {
      "text/plain": [
       "{'input': 'What is the formula of CC(=O)OC1=CC=CC=C1C(=O)O?',\n",
       " 'output': 'Agent stopped due to max iterations.'}"
      ]
     },
     "metadata": {},
     "execution_count": 72
    }
   ],
   "source": [
    "results[\"query_1\"][\"custom_rdkit_tool_agent\"] = agent_executor.invoke(\n",
    "    {\"input\": query_1}\n",
    ")\n",
    "results[\"query_1\"][\"custom_rdkit_tool_agent\"]"
   ]
  },
  {
   "cell_type": "code",
   "execution_count": null,
   "id": "6f7a96e1",
   "metadata": {
    "id": "6f7a96e1",
    "colab": {
     "base_uri": "https://localhost:8080/"
    },
    "executionInfo": {
     "status": "ok",
     "timestamp": 1753015055409,
     "user_tz": -240,
     "elapsed": 5286,
     "user": {
      "displayName": "Ivan Reznikov",
      "userId": "03906939862966425294"
     }
    },
    "outputId": "a2bb3fb9-e673-4398-9cbd-3aabafa3acfb"
   },
   "outputs": [
    {
     "output_type": "stream",
     "name": "stdout",
     "text": [
      "\n",
      "\n",
      "\u001b[1m> Entering new AgentExecutor chain...\u001b[0m\n",
      "\u001b[32;1m\u001b[1;3m\n",
      "Invoking: `rdkit_search` with `{'query': 'molecular mass of CC(=O)OC1=CC=CC=C1C(=O)O'}`\n",
      "\n",
      "\n",
      "\u001b[0m\u001b[33;1m\u001b[1;3mrdkit.Chem.rdMolDescriptors.CalcEccentricity((Mol)mol[, (int)confId=-1[, (bool)useAtomicMasses=True[, (bool)force=True]]]) \u2192 float :\u00b6\n",
      "\n",
      "C++ signature :double CalcEccentricity(RDKit::ROMol [,int=-1 [,bool=True [,bool=True]]])\n",
      "--------------------------------------------------------------------------------\n",
      "rdkit.Chem.rdMolDescriptors.CalcExactMolWt((Mol)mol[, (bool)onlyHeavy=False]) \u2192 float :\u00b6\n",
      "returns the molecule\u2019s exact molecular weight\n",
      "\n",
      "C++ signature :double CalcExactMolWt(RDKit::ROMol [,bool=False])\n",
      "--------------------------------------------------------------------------------\n",
      "rdkit.Chem.rdMolDescriptors.CalcFractionCSP3((Mol)mol) \u2192 float :\u00b6\n",
      "returns the fraction of C atoms that are SP3 hybridized\n",
      "\n",
      "C++ signature :double CalcFractionCSP3(RDKit::ROMol)\n",
      "\n",
      "rdkit.Chem.Fragments.fr_COO2(mol, countUnique=True, pattern=<rdkit.Chem.rdchem.Mol object>)\u00b6\n",
      "Number of carboxylic acids\n",
      "--------------------------------------------------------------------------------\n",
      "rdkit.Chem.Fragments.fr_C_O(mol, countUnique=True, pattern=<rdkit.Chem.rdchem.Mol object>)\u00b6\n",
      "Number of carbonyl O\n",
      "--------------------------------------------------------------------------------\n",
      "rdkit.Chem.Fragments.fr_C_O_noCOO(mol, countUnique=True, pattern=<rdkit.Chem.rdchem.Mol object>)\u00b6\n",
      "Number of carbonyl O, excluding COOH\n",
      "--------------------------------------------------------------------------------\n",
      "rdkit.Chem.Fragments.fr_C_S(mol, countUnique=True, pattern=<rdkit.Chem.rdchem.Mol object>)\u00b6\n",
      "Number of thiocarbonyl\n",
      "--------------------------------------------------------------------------------\n",
      "rdkit.Chem.Fragments.fr_HOCCN(mol, countUnique=True, pattern=<rdkit.Chem.rdchem.Mol object>)\u00b6\n",
      "Number of C(OH)CCN-Ctert-alkyl or  C(OH)CCNcyclic\n",
      "\n",
      "rdkit.Chem.ChemicalFeatures.MCFF_GetFeaturesForMol(self, mol, includeOnly='', confId=-1)\u00b6\n",
      "--------------------------------------------------------------------------------\n",
      "rdkit.Chem.Crippen.MolLogP(*x, **y)\u00b6\n",
      "Wildman-Crippen LogP value\n",
      "\n",
      "Uses an atom-based scheme based on the values in the paper:\n",
      "\n",
      "Wildman and G. M. Crippen JCICS 39 868-873 (1999)\n",
      "\n",
      "\n",
      "\n",
      "\n",
      "\n",
      "Arguments\n",
      "\n",
      "\n",
      "inMol: a molecule\n",
      "addHs: (optional) toggles adding of Hs to the molecule for the calculation.\n",
      "If true, hydrogens will be added to the molecule and used in the calculation.\n",
      "--------------------------------------------------------------------------------\n",
      "rdkit.Chem.Crippen.MolMR(*x, **y)\u00b6\n",
      "Wildman-Crippen MR value\n",
      "\n",
      "Uses an atom-based scheme based on the values in the paper:\n",
      "\n",
      "Wildman and G. M. Crippen JCICS 39 868-873 (1999)\n",
      "\n",
      "\n",
      "\n",
      "\n",
      "\n",
      "Arguments\n",
      "\n",
      "\n",
      "inMol: a molecule\n",
      "addHs: (optional) toggles adding of Hs to the molecule for the calculation.\n",
      "If true, hydrogens will be added to the molecule and used in the calculation.\n",
      "\n",
      "rdkit.Chem.rdMolDescriptors.CalcKappa1((Mol)mol) \u2192 float :\u00b6\n",
      "\n",
      "C++ signature :double CalcKappa1(RDKit::ROMol)\n",
      "--------------------------------------------------------------------------------\n",
      "rdkit.Chem.rdMolDescriptors.CalcKappa2((Mol)mol) \u2192 float :\u00b6\n",
      "\n",
      "C++ signature :double CalcKappa2(RDKit::ROMol)\n",
      "--------------------------------------------------------------------------------\n",
      "rdkit.Chem.rdMolDescriptors.CalcKappa3((Mol)mol) \u2192 float :\u00b6\n",
      "\n",
      "C++ signature :double CalcKappa3(RDKit::ROMol)\n",
      "--------------------------------------------------------------------------------\n",
      "rdkit.Chem.rdMolDescriptors.CalcLabuteASA((Mol)mol[, (bool)includeHs=True[, (bool)force=False]]) \u2192 float :\u00b6\n",
      "returns the Labute ASA value for a molecule\n",
      "\n",
      "C++ signature :double CalcLabuteASA(RDKit::ROMol [,bool=True [,bool=False]])\u001b[0m\u001b[32;1m\u001b[1;3m\n",
      "Invoking: `python_repl` with `from rdkit import Chem\n",
      "from rdkit.Chem import rdMolDescriptors\n",
      "\n",
      "# Define the molecule\n",
      "smiles = 'CC(=O)OC1=CC=CC=C1C(=O)O'\n",
      "mol = Chem.MolFromSmiles(smiles)\n",
      "\n",
      "# Calculate the exact molecular weight\n",
      "molecular_weight = rdMolDescriptors.CalcExactMolWt(mol)\n",
      "molecular_weight`\n",
      "\n",
      "\n",
      "\u001b[0m\u001b[36;1m\u001b[1;3m\u001b[0m\u001b[32;1m\u001b[1;3m\n",
      "Invoking: `python_repl` with `print(molecular_weight)`\n",
      "\n",
      "\n",
      "\u001b[0m\u001b[36;1m\u001b[1;3m180.042258736\n",
      "\u001b[0m\u001b[32;1m\u001b[1;3m# The molecular mass of the compound represented by the SMILES notation CC(=O)OC1=CC=CC=C1C(=O)O is approximately 180.04 g/mol. \n",
      "\n",
      "Possible function names that can be used for similar tasks include:\n",
      "- `rdMolDescriptors.CalcExactMolWt` - to calculate the exact molecular weight of a molecule.\n",
      "- `Chem.MolFromSmiles` - to create a molecule object from a SMILES string.\u001b[0m\n",
      "\n",
      "\u001b[1m> Finished chain.\u001b[0m\n"
     ]
    },
    {
     "output_type": "execute_result",
     "data": {
      "text/plain": [
       "{'input': 'What is the molecular mass of CC(=O)OC1=CC=CC=C1C(=O)O',\n",
       " 'output': '# The molecular mass of the compound represented by the SMILES notation CC(=O)OC1=CC=CC=C1C(=O)O is approximately 180.04 g/mol. \\n\\nPossible function names that can be used for similar tasks include:\\n- `rdMolDescriptors.CalcExactMolWt` - to calculate the exact molecular weight of a molecule.\\n- `Chem.MolFromSmiles` - to create a molecule object from a SMILES string.'}"
      ]
     },
     "metadata": {},
     "execution_count": 73
    }
   ],
   "source": [
    "results[\"query_2\"][\"custom_rdkit_tool_agent\"] = agent_executor.invoke(\n",
    "    {\"input\": query_2}\n",
    ")\n",
    "results[\"query_2\"][\"custom_rdkit_tool_agent\"]"
   ]
  },
  {
   "cell_type": "code",
   "execution_count": null,
   "id": "4c66b608",
   "metadata": {
    "id": "4c66b608",
    "colab": {
     "base_uri": "https://localhost:8080/"
    },
    "executionInfo": {
     "status": "ok",
     "timestamp": 1753015059088,
     "user_tz": -240,
     "elapsed": 3675,
     "user": {
      "displayName": "Ivan Reznikov",
      "userId": "03906939862966425294"
     }
    },
    "outputId": "bb1ede0e-2dec-4ec3-f0d7-fad2a5e3681a"
   },
   "outputs": [
    {
     "output_type": "stream",
     "name": "stdout",
     "text": [
      "\n",
      "\n",
      "\u001b[1m> Entering new AgentExecutor chain...\u001b[0m\n",
      "\u001b[32;1m\u001b[1;3m\n",
      "Invoking: `rdkit_search` with `{'query': 'Draw 2D representation of CC(=O)OC1=CC=CC=C1C(=O)O'}`\n",
      "\n",
      "\n",
      "\u001b[0m\u001b[33;1m\u001b[1;3mrdkit.Chem.Draw.MolDrawing.cmp(t1, t2)\u00b6\n",
      "--------------------------------------------------------------------------------\n",
      "rdkit.Chem.Draw.MolDrawing.cmp(t1, t2)\u00b6\n",
      "--------------------------------------------------------------------------------\n",
      "rdkit.Chem.Draw.MolDrawing.cmp(t1, t2)\u00b6\n",
      "--------------------------------------------------------------------------------\n",
      "rdkit.Chem.Draw.MolDrawing.cmp(t1, t2)\u00b6\n",
      "--------------------------------------------------------------------------------\n",
      "rdkit.Chem.Draw.MolDrawing.cmp(t1, t2)\u00b6\n",
      "--------------------------------------------------------------------------------\n",
      "rdkit.Chem.Draw.MolDrawing.cmp(t1, t2)\u00b6\n",
      "--------------------------------------------------------------------------------\n",
      "rdkit.Chem.Draw.MolDrawing.cmp(t1, t2)\u00b6\n",
      "--------------------------------------------------------------------------------\n",
      "rdkit.Chem.Draw.MolDrawing.cmp(t1, t2)\u00b6\n",
      "\n",
      "rdkit.Chem.Draw.rdMolDraw2D.DrawMoleculeACS1996((MolDraw2D)drawer, (Mol)mol[, (str)legend=''[, (AtomPairsParameters)highlightAtoms=None[, (AtomPairsParameters)highlightBonds=None[, (AtomPairsParameters)highlightAtomColors=None[, (AtomPairsParameters)highlightBondColors=None[, (AtomPairsParameters)highlightAtomRadii=None[, (int)confId=-1]]]]]]]) \u2192 None :\u00b6\n",
      "Draws molecule in ACS 1996 mode.\n",
      "\n",
      "C++ signature :void DrawMoleculeACS1996(RDKit::MolDraw2D {lvalue},RDKit::ROMol [,std::__cxx11::basic_string<char, std::char_traits<char>, std::allocator<char> >=\u2019\u2019 [,boost::python::api::object=None [,boost::python::api::object=None [,boost::python::api::object=None [,boost::python::api::object=None [,boost::python::api::object=None [,int=-1]]]]]]])\n",
      "\n",
      "rdkit.Chem.GraphDescriptors.Chi0(mol)\u00b6\n",
      "From equations (1),(9) and (10) of Rev. Comp. Chem. vol 2, 367-422, (1991)\n",
      "--------------------------------------------------------------------------------\n",
      "rdkit.Chem.GraphDescriptors.Chi0n(x)\u00b6\n",
      "--------------------------------------------------------------------------------\n",
      "rdkit.Chem.GraphDescriptors.Chi0v(x)\u00b6\n",
      "--------------------------------------------------------------------------------\n",
      "rdkit.Chem.GraphDescriptors.Chi1(mol)\u00b6\n",
      "From equations (1),(11) and (12) of Rev. Comp. Chem. vol 2, 367-422, (1991)\n",
      "--------------------------------------------------------------------------------\n",
      "rdkit.Chem.GraphDescriptors.Chi1n(x)\u00b6\n",
      "--------------------------------------------------------------------------------\n",
      "rdkit.Chem.GraphDescriptors.Chi1v(x)\u00b6\n",
      "--------------------------------------------------------------------------------\n",
      "rdkit.Chem.GraphDescriptors.Chi2n(x)\u00b6\n",
      "\n",
      "rdkit.Chem.Draw.DrawMorganBits(tpls, **kwargs)\u00b6\n",
      "--------------------------------------------------------------------------------\n",
      "rdkit.Chem.Draw.DrawMorganEnv(mol, atomId, radius, molSize=(150, 150), baseRad=0.3, useSVG=True, aromaticColor=(0.9, 0.9, 0.2), ringColor=(0.8, 0.8, 0.8), centerColor=(0.6, 0.6, 0.9), extraColor=(0.9, 0.9, 0.9), drawOptions=None, **kwargs)\u00b6\n",
      "--------------------------------------------------------------------------------\n",
      "rdkit.Chem.Draw.DrawMorganEnvs(envs, molsPerRow=3, subImgSize=(150, 150), baseRad=0.3, useSVG=True, aromaticColor=(0.9, 0.9, 0.2), ringColor=(0.8, 0.8, 0.8), centerColor=(0.6, 0.6, 0.9), extraColor=(0.9, 0.9, 0.9), legends=None, drawOptions=None, **kwargs)\u00b6\n",
      "--------------------------------------------------------------------------------\n",
      "rdkit.Chem.Draw.DrawRDKitBit(mol, bitId, bitInfo, whichExample=0, **kwargs)\u00b6\n",
      "--------------------------------------------------------------------------------\n",
      "rdkit.Chem.Draw.DrawRDKitBits(tpls, **kwargs)\u00b6\u001b[0m\u001b[32;1m\u001b[1;3m\n",
      "Invoking: `python_repl` with `from rdkit import Chem\n",
      "from rdkit.Chem import Draw\n",
      "\n",
      "# Create a molecule from the SMILES string\n",
      "smiles = 'CC(=O)OC1=CC=CC=C1C(=O)O'\n",
      "mol = Chem.MolFromSmiles(smiles)\n",
      "\n",
      "# Draw the molecule\n",
      "img = Draw.MolToImage(mol)\n",
      "img.save('image_scenario_5a_2d.png')`\n",
      "\n",
      "\n",
      "\u001b[0m\u001b[36;1m\u001b[1;3m\u001b[0m\u001b[32;1m\u001b[1;3mThe 2D representation of the molecule with the SMILES notation CC(=O)OC1=CC=CC=C1C(=O)O has been successfully created and saved as \"image_scenario_5a_2d.png\".\u001b[0m\n",
      "\n",
      "\u001b[1m> Finished chain.\u001b[0m\n"
     ]
    },
    {
     "output_type": "execute_result",
     "data": {
      "text/plain": [
       "{'input': 'Draw 2D representation of CC(=O)OC1=CC=CC=C1C(=O)O?',\n",
       " 'output': 'The 2D representation of the molecule with the SMILES notation CC(=O)OC1=CC=CC=C1C(=O)O has been successfully created and saved as \"image_scenario_5a_2d.png\".'}"
      ]
     },
     "metadata": {},
     "execution_count": 74
    }
   ],
   "source": [
    "results[\"query_3\"][\"custom_rdkit_tool_agent\"] = agent_executor.invoke(\n",
    "    {\"input\": query_3}\n",
    ")\n",
    "results[\"query_3\"][\"custom_rdkit_tool_agent\"]"
   ]
  },
  {
   "cell_type": "code",
   "execution_count": null,
   "id": "b50cd8d9",
   "metadata": {
    "id": "b50cd8d9",
    "colab": {
     "base_uri": "https://localhost:8080/",
     "height": 1000
    },
    "executionInfo": {
     "status": "ok",
     "timestamp": 1753015065107,
     "user_tz": -240,
     "elapsed": 6021,
     "user": {
      "displayName": "Ivan Reznikov",
      "userId": "03906939862966425294"
     }
    },
    "outputId": "52adde9e-6ff4-4151-e59a-f97392895a20"
   },
   "outputs": [
    {
     "output_type": "stream",
     "name": "stdout",
     "text": [
      "\n",
      "\n",
      "\u001b[1m> Entering new AgentExecutor chain...\u001b[0m\n",
      "\u001b[32;1m\u001b[1;3m\n",
      "Invoking: `rdkit_search` with `{'query': '3D representation of a molecule'}`\n",
      "\n",
      "\n",
      "\u001b[0m\u001b[33;1m\u001b[1;3mrdkit.Chem.Draw.IPythonConsole.drawMol3D(m, view=None, confId=-1, drawAs=None, bgColor=None, size=None)\u00b6\n",
      "--------------------------------------------------------------------------------\n",
      "rdkit.Chem.Draw.IPythonConsole.DisableSubstructMatchRendering()\u00b6\n",
      "--------------------------------------------------------------------------------\n",
      "rdkit.Chem.Draw.IPythonConsole.DrawMorganBit(mol, bitId, bitInfo, drawOptions=<rdkit.Chem.Draw.rdMolDraw2D.MolDrawOptions object>, **kwargs)\u00b6\n",
      "--------------------------------------------------------------------------------\n",
      "rdkit.Chem.Draw.IPythonConsole.DrawMorganBits(*args, drawOptions=<rdkit.Chem.Draw.rdMolDraw2D.MolDrawOptions object>, **kwargs)\u00b6\n",
      "--------------------------------------------------------------------------------\n",
      "rdkit.Chem.Draw.IPythonConsole.DrawRDKitBit(mol, bitId, bitInfo, drawOptions=<rdkit.Chem.Draw.rdMolDraw2D.MolDrawOptions object>, **kwargs)\u00b6\n",
      "\n",
      "rdkit.Chem.Descriptors3D.PBF(*x, **y)\u00b6\n",
      "\n",
      "Plane of best fitfrom: https://doi.org/10.1021/ci300293f\n",
      "\n",
      "\n",
      "Arguments\n",
      "\n",
      "\n",
      "inMol: a molecule\n",
      "confId: (optional) the conformation ID to use\n",
      "--------------------------------------------------------------------------------\n",
      "rdkit.Chem.Descriptors3D.PMI1(*x, **y)\u00b6\n",
      "First (smallest) principal moment of inertia\n",
      "Arguments\n",
      "\n",
      "\n",
      "inMol: a molecule\n",
      "confId: (optional) the conformation ID to use\n",
      "useAtomicMasses: (optional) toggles use of atomic masses in the\n",
      "calculation. Defaults to True\n",
      "--------------------------------------------------------------------------------\n",
      "rdkit.Chem.Descriptors3D.PMI2(*x, **y)\u00b6\n",
      "Second principal moment of inertia\n",
      "Arguments\n",
      "\n",
      "\n",
      "inMol: a molecule\n",
      "confId: (optional) the conformation ID to use\n",
      "useAtomicMasses: (optional) toggles use of atomic masses in the\n",
      "calculation. Defaults to True\n",
      "\n",
      "rdkit.Chem.AllChem.ComputeMolShape(mol, confId=-1, boxDim=(20, 20, 20), spacing=0.5, **kwargs)\u00b6\n",
      "returns a grid representation of the molecule\u2019s shape\n",
      "--------------------------------------------------------------------------------\n",
      "rdkit.Chem.AllChem.ComputeMolVolume(mol, confId=-1, gridSpacing=0.2, boxMargin=2.0)\u00b6\n",
      "Calculates the volume of a particular conformer of a molecule\n",
      "based on a grid-encoding of the molecular shape.\n",
      "A bit of demo as well as a test of github #1883:\n",
      ">>> from rdkit import Chem\n",
      ">>> from rdkit.Chem import AllChem\n",
      ">>> mol = Chem.AddHs(Chem.MolFromSmiles('C'))\n",
      ">>> AllChem.EmbedMolecule(mol)\n",
      "0\n",
      ">>> ComputeMolVolume(mol)\n",
      "28...\n",
      ">>> mol = Chem.AddHs(Chem.MolFromSmiles('O'))\n",
      ">>> AllChem.EmbedMolecule(mol)\n",
      "0\n",
      ">>> ComputeMolVolume(mol)\n",
      "20...\n",
      "\n",
      "rdkit.Chem.rdmolfiles.CanonicalizeEnhancedStereo((Mol)mol) \u2192 None :\u00b6\n",
      "\n",
      "C++ signature :void CanonicalizeEnhancedStereo(RDKit::ROMol {lvalue})\n",
      "--------------------------------------------------------------------------------\n",
      "rdkit.Chem.rdmolfiles.CreateAtomBoolPropertyList((Mol)mol, (str)propName[, (str)missingValueMarker=''[, (int)lineSize=190]]) \u2192 None :\u00b6\n",
      "creates a list property on the molecule from individual atom property values\n",
      "\n",
      "C++ signature :void CreateAtomBoolPropertyList(RDKit::ROMol {lvalue},std::__cxx11::basic_string<char, std::char_traits<char>, std::allocator<char> > [,std::__cxx11::basic_string<char, std::char_traits<char>, std::allocator<char> >=\u2019\u2019 [,unsigned int=190]])\u001b[0m\u001b[32;1m\u001b[1;3m\n",
      "Invoking: `rdkit_search` with `{'query': '3D structure visualization'}`\n",
      "\n",
      "\n",
      "\u001b[0m\u001b[33;1m\u001b[1;3mrdkit.Chem.Subshape.SubshapeObjects.DisplaySubshapeSkeleton(viewer, shape, name, color=(1, 0, 1), colorByOrder=False)\u00b6\n",
      "--------------------------------------------------------------------------------\n",
      "rdkit.Chem.Subshape.SubshapeObjects.DisplaySubshape(viewer, shape, name, showSkelPts=True, color=(1, 0, 1))\u00b6\n",
      "--------------------------------------------------------------------------------\n",
      "rdkit.Chem.Subshape.SubshapeObjects.DisplaySubshapeSkeleton(viewer, shape, name, color=(1, 0, 1), colorByOrder=False)\u00b6\n",
      "--------------------------------------------------------------------------------\n",
      "rdkit.Chem.Subshape.SubshapeObjects.DisplaySubshape(viewer, shape, name, showSkelPts=True, color=(1, 0, 1))\u00b6\n",
      "--------------------------------------------------------------------------------\n",
      "rdkit.Chem.Subshape.SubshapeObjects.DisplaySubshapeSkeleton(viewer, shape, name, color=(1, 0, 1), colorByOrder=False)\u00b6\n",
      "\n",
      "rdkit.Chem.rdDepictor.GenerateDepictionMatching3DStructure((Mol)mol, (Mol)reference[, (int)confId=-1[, (AtomPairsParameters)refPatt=None[, (bool)acceptFailure=False[, (bool)forceRDKit=False]]]]) \u2192 None :\u00b6\n",
      "\n",
      "Generate a depiction for a molecule where a piece of the molecule is constrained to have coordinates similar to those of a 3D reference \n",
      "structure.\n",
      "ARGUMENTS:\n",
      "\n",
      "mol -    the molecule to be aligned, this will come back with a single conformer containing the 2D coordinates.\n",
      "\n",
      "reference -    a molecule with the reference atoms to align to. By default this should be the same as mol, but with \n",
      "3D coordinates\n",
      "\n",
      "\n",
      "confId -       (optional) the id of the reference conformation to use \n",
      "referencePattern -  (optional) a query molecule to map a subset of\n",
      "\n",
      "the reference onto the mol, so that only some of the \n",
      "atoms are aligned.\n",
      "\n",
      "\n",
      "acceptFailure - (optional) if True, standard depictions will be generated for molecules that don\u2019t match the reference or the\n",
      "referencePattern; if False, throws a DepictException.\n",
      "\n",
      "forceRDKit -    (optional) use RDKit to generate coordinates even if preferCoordGen is set to true\n",
      "\n",
      "\n",
      "\n",
      "C++ signature :void GenerateDepictionMatching3DStructure(RDKit::ROMol {lvalue},RDKit::ROMol {lvalue} [,int=-1 [,boost::python::api::object=None [,bool=False [,bool=False]]]])\n",
      "\n",
      "rdkit.Chem.Descriptors3D.RadiusOfGyration(*x, **y)\u00b6\n",
      "Radius of gyration\n",
      "\n",
      "from Todeschini and Consoni \u201cDescriptors from Molecular Geometry\u201d\n",
      "Handbook of Chemoinformatics\n",
      "https://doi.org/10.1002/9783527618279.ch37\n",
      "\n",
      "Definition:for planar molecules: sqrt( sqrt(pm3*pm2)/MW )\n",
      "for nonplanar molecules: sqrt( 2*pi*pow(pm3*pm2*pm1,1/3)/MW )\n",
      "\n",
      "\n",
      "\n",
      "Arguments\n",
      "\n",
      "\n",
      "inMol: a molecule\n",
      "confId: (optional) the conformation ID to use\n",
      "useAtomicMasses: (optional) toggles use of atomic masses in the\n",
      "calculation. Defaults to True\n",
      "--------------------------------------------------------------------------------\n",
      "rdkit.Chem.Descriptors3D.SpherocityIndex(*x, **y)\u00b6\n",
      "Molecular spherocityIndex\n",
      "\n",
      "from Todeschini and Consoni \u201cDescriptors from Molecular Geometry\u201d\n",
      "Handbook of Chemoinformatics\n",
      "https://doi.org/10.1002/9783527618279.ch37\n",
      "\n",
      "Definition:3 * pm1 / (pm1+pm2+pm3) where the moments are calculated without weights\n",
      "\n",
      "\n",
      "\n",
      "Arguments\n",
      "\n",
      "\n",
      "inMol: a molecule\n",
      "confId: (optional) the conformation ID to use\n",
      "\n",
      "rdkit.Chem.Draw.IPythonConsole.InstallIPythonRenderer()\u00b6\n",
      "--------------------------------------------------------------------------------\n",
      "rdkit.Chem.Draw.IPythonConsole.ShowMols(mols, maxMols=50, **kwargs)\u00b6\n",
      "--------------------------------------------------------------------------------\n",
      "rdkit.Chem.Draw.IPythonConsole.UninstallIPythonRenderer()\u00b6\n",
      "--------------------------------------------------------------------------------\n",
      "rdkit.Chem.Draw.IPythonConsole.addMolToView(mol, view, confId=-1, drawAs=None)\u00b6\n",
      "--------------------------------------------------------------------------------\n",
      "rdkit.Chem.Draw.IPythonConsole.display_pil_image(img)\u00b6\n",
      "displayhook function for PIL Images, rendered as PNG\n",
      "--------------------------------------------------------------------------------\n",
      "rdkit.Chem.Draw.IPythonConsole.drawMol3D(m, view=None, confId=-1, drawAs=None, bgColor=None, size=None)\u00b6\u001b[0m"
     ]
    },
    {
     "output_type": "stream",
     "name": "stderr",
     "text": [
      "[12:37:44] Molecule does not have explicit Hs. Consider calling AddHs()\n",
      "[12:37:44] Molecule does not have explicit Hs. Consider calling AddHs()\n"
     ]
    },
    {
     "output_type": "display_data",
     "data": {
      "application/3dmoljs_load.v0": "<div id=\"3dmolviewer_17530150647638924\"  style=\"position: relative; width: 400px; height: 400px;\">\n        <p id=\"3dmolwarning_17530150647638924\" style=\"background-color:#ffcccc;color:black\">3Dmol.js failed to load for some reason.  Please check your browser console for error messages.<br></p>\n        </div>\n<script>\n\nvar loadScriptAsync = function(uri){\n  return new Promise((resolve, reject) => {\n    //this is to ignore the existence of requirejs amd\n    var savedexports, savedmodule;\n    if (typeof exports !== 'undefined') savedexports = exports;\n    else exports = {}\n    if (typeof module !== 'undefined') savedmodule = module;\n    else module = {}\n\n    var tag = document.createElement('script');\n    tag.src = uri;\n    tag.async = true;\n    tag.onload = () => {\n        exports = savedexports;\n        module = savedmodule;\n        resolve();\n    };\n  var firstScriptTag = document.getElementsByTagName('script')[0];\n  firstScriptTag.parentNode.insertBefore(tag, firstScriptTag);\n});\n};\n\nif(typeof $3Dmolpromise === 'undefined') {\n$3Dmolpromise = null;\n  $3Dmolpromise = loadScriptAsync('https://cdn.jsdelivr.net/npm/3dmol@2.5.1/build/3Dmol-min.js');\n}\n\nvar viewer_17530150647638924 = null;\nvar warn = document.getElementById(\"3dmolwarning_17530150647638924\");\nif(warn) {\n    warn.parentNode.removeChild(warn);\n}\n$3Dmolpromise.then(function() {\nviewer_17530150647638924 = $3Dmol.createViewer(document.getElementById(\"3dmolviewer_17530150647638924\"),{backgroundColor:\"white\"});\nviewer_17530150647638924.zoomTo();\n\tviewer_17530150647638924.removeAllModels();\n\tviewer_17530150647638924.addModel(\"\\n     RDKit          3D\\n\\n 13 13  0  0  0  0  0  0  0  0999 V2000\\n    3.5369   -1.0893   -1.0547 C   0  0  0  0  0  0  0  0  0  0  0  0\\n    2.5665   -0.1176   -0.4877 C   0  0  0  0  0  0  0  0  0  0  0  0\\n    2.9812    1.0052   -0.0955 O   0  0  0  0  0  0  0  0  0  0  0  0\\n    1.2135   -0.4782   -0.4050 O   0  0  0  0  0  0  0  0  0  0  0  0\\n    0.1637    0.3103    0.1000 C   0  0  0  0  0  0  0  0  0  0  0  0\\n    0.3957    1.6055    0.5946 C   0  0  0  0  0  0  0  0  0  0  0  0\\n   -0.6502    2.3819    1.0939 C   0  0  0  0  0  0  0  0  0  0  0  0\\n   -1.9475    1.8740    1.1064 C   0  0  0  0  0  0  0  0  0  0  0  0\\n   -2.1967    0.5906    0.6196 C   0  0  0  0  0  0  0  0  0  0  0  0\\n   -1.1564   -0.2036    0.1139 C   0  0  0  0  0  0  0  0  0  0  0  0\\n   -1.4926   -1.5562   -0.3866 C   0  0  0  0  0  0  0  0  0  0  0  0\\n   -0.6057   -2.3189   -0.8530 O   0  0  0  0  0  0  0  0  0  0  0  0\\n   -2.8085   -2.0037   -0.3460 O   0  0  0  0  0  0  0  0  0  0  0  0\\n  1  2  1  0\\n  2  3  2  0\\n  2  4  1  0\\n  4  5  1  0\\n  5  6  2  0\\n  6  7  1  0\\n  7  8  2  0\\n  8  9  1  0\\n  9 10  2  0\\n 10 11  1  0\\n 11 12  2  0\\n 11 13  1  0\\n 10  5  1  0\\nM  END\\n\",\"sdf\");\n\tviewer_17530150647638924.setStyle({\"stick\": {}});\n\tviewer_17530150647638924.setBackgroundColor(\"0xeeeeee\");\n\tviewer_17530150647638924.zoomTo();\nviewer_17530150647638924.render();\n});\n</script>",
      "text/html": [
       "<div id=\"3dmolviewer_17530150647638924\"  style=\"position: relative; width: 400px; height: 400px;\">\n",
       "        <p id=\"3dmolwarning_17530150647638924\" style=\"background-color:#ffcccc;color:black\">3Dmol.js failed to load for some reason.  Please check your browser console for error messages.<br></p>\n",
       "        </div>\n",
       "<script>\n",
       "\n",
       "var loadScriptAsync = function(uri){\n",
       "  return new Promise((resolve, reject) => {\n",
       "    //this is to ignore the existence of requirejs amd\n",
       "    var savedexports, savedmodule;\n",
       "    if (typeof exports !== 'undefined') savedexports = exports;\n",
       "    else exports = {}\n",
       "    if (typeof module !== 'undefined') savedmodule = module;\n",
       "    else module = {}\n",
       "\n",
       "    var tag = document.createElement('script');\n",
       "    tag.src = uri;\n",
       "    tag.async = true;\n",
       "    tag.onload = () => {\n",
       "        exports = savedexports;\n",
       "        module = savedmodule;\n",
       "        resolve();\n",
       "    };\n",
       "  var firstScriptTag = document.getElementsByTagName('script')[0];\n",
       "  firstScriptTag.parentNode.insertBefore(tag, firstScriptTag);\n",
       "});\n",
       "};\n",
       "\n",
       "if(typeof $3Dmolpromise === 'undefined') {\n",
       "$3Dmolpromise = null;\n",
       "  $3Dmolpromise = loadScriptAsync('https://cdn.jsdelivr.net/npm/3dmol@2.5.1/build/3Dmol-min.js');\n",
       "}\n",
       "\n",
       "var viewer_17530150647638924 = null;\n",
       "var warn = document.getElementById(\"3dmolwarning_17530150647638924\");\n",
       "if(warn) {\n",
       "    warn.parentNode.removeChild(warn);\n",
       "}\n",
       "$3Dmolpromise.then(function() {\n",
       "viewer_17530150647638924 = $3Dmol.createViewer(document.getElementById(\"3dmolviewer_17530150647638924\"),{backgroundColor:\"white\"});\n",
       "viewer_17530150647638924.zoomTo();\n",
       "\tviewer_17530150647638924.removeAllModels();\n",
       "\tviewer_17530150647638924.addModel(\"\\n     RDKit          3D\\n\\n 13 13  0  0  0  0  0  0  0  0999 V2000\\n    3.5369   -1.0893   -1.0547 C   0  0  0  0  0  0  0  0  0  0  0  0\\n    2.5665   -0.1176   -0.4877 C   0  0  0  0  0  0  0  0  0  0  0  0\\n    2.9812    1.0052   -0.0955 O   0  0  0  0  0  0  0  0  0  0  0  0\\n    1.2135   -0.4782   -0.4050 O   0  0  0  0  0  0  0  0  0  0  0  0\\n    0.1637    0.3103    0.1000 C   0  0  0  0  0  0  0  0  0  0  0  0\\n    0.3957    1.6055    0.5946 C   0  0  0  0  0  0  0  0  0  0  0  0\\n   -0.6502    2.3819    1.0939 C   0  0  0  0  0  0  0  0  0  0  0  0\\n   -1.9475    1.8740    1.1064 C   0  0  0  0  0  0  0  0  0  0  0  0\\n   -2.1967    0.5906    0.6196 C   0  0  0  0  0  0  0  0  0  0  0  0\\n   -1.1564   -0.2036    0.1139 C   0  0  0  0  0  0  0  0  0  0  0  0\\n   -1.4926   -1.5562   -0.3866 C   0  0  0  0  0  0  0  0  0  0  0  0\\n   -0.6057   -2.3189   -0.8530 O   0  0  0  0  0  0  0  0  0  0  0  0\\n   -2.8085   -2.0037   -0.3460 O   0  0  0  0  0  0  0  0  0  0  0  0\\n  1  2  1  0\\n  2  3  2  0\\n  2  4  1  0\\n  4  5  1  0\\n  5  6  2  0\\n  6  7  1  0\\n  7  8  2  0\\n  8  9  1  0\\n  9 10  2  0\\n 10 11  1  0\\n 11 12  2  0\\n 11 13  1  0\\n 10  5  1  0\\nM  END\\n\",\"sdf\");\n",
       "\tviewer_17530150647638924.setStyle({\"stick\": {}});\n",
       "\tviewer_17530150647638924.setBackgroundColor(\"0xeeeeee\");\n",
       "\tviewer_17530150647638924.zoomTo();\n",
       "viewer_17530150647638924.render();\n",
       "});\n",
       "</script>"
      ]
     },
     "metadata": {}
    },
    {
     "output_type": "stream",
     "name": "stdout",
     "text": [
      "\u001b[32;1m\u001b[1;3m\n",
      "Invoking: `python_repl` with `from rdkit import Chem\n",
      "from rdkit.Chem import AllChem\n",
      "from rdkit.Chem.Draw import IPythonConsole\n",
      "\n",
      "# Create the molecule from SMILES\n",
      "smiles = 'CC(=O)OC1=CC=CC=C1C(=O)O'\n",
      "mol = Chem.MolFromSmiles(smiles)\n",
      "\n",
      "# Generate 3D coordinates\n",
      "AllChem.EmbedMolecule(mol)\n",
      "AllChem.UFFOptimizeMolecule(mol)\n",
      "\n",
      "# Draw the 3D representation\n",
      "IPythonConsole.drawMol3D(mol)`\n",
      "\n",
      "\n",
      "\u001b[0m\u001b[36;1m\u001b[1;3m\u001b[0m\u001b[32;1m\u001b[1;3mThe 3D representation of the molecule CC(=O)OC1=CC=CC=C1C(=O)O has been successfully generated. If you need any further assistance or modifications, feel free to ask!\u001b[0m\n",
      "\n",
      "\u001b[1m> Finished chain.\u001b[0m\n"
     ]
    },
    {
     "output_type": "execute_result",
     "data": {
      "text/plain": [
       "{'input': 'Draw 3D representation of CC(=O)OC1=CC=CC=C1C(=O)O?',\n",
       " 'output': 'The 3D representation of the molecule CC(=O)OC1=CC=CC=C1C(=O)O has been successfully generated. If you need any further assistance or modifications, feel free to ask!'}"
      ]
     },
     "metadata": {},
     "execution_count": 75
    }
   ],
   "source": [
    "results[\"query_4\"][\"custom_rdkit_tool_agent\"] = agent_executor.invoke(\n",
    "    {\"input\": query_4}\n",
    ")\n",
    "results[\"query_4\"][\"custom_rdkit_tool_agent\"]"
   ]
  },
  {
   "cell_type": "markdown",
   "source": [
    "## Key Advantages of RAG-Based Approach:\n",
    "\n",
    "1. **Comprehensive Coverage**: Access to full RDKit documentation\n",
    "2. **Dynamic Code Generation**: Creates code tailored to specific queries\n",
    "3. **Self-Learning**: Can handle new types of chemical analysis requests\n",
    "4. **Transparency**: Shows documentation retrieval and code generation process\n",
    "5. **Flexibility**: Not limited to predefined tool set\n",
    "\n",
    "### Comparison: Custom Tools vs RAG Documentation\n",
    "\n",
    "**Custom Tools Approach:**\n",
    "- \u2705 Fast and reliable for predefined tasks\n",
    "- \u2705 Consistent results and error handling  \n",
    "- \u2705 Simple to understand and debug\n",
    "- \u274c Limited to predefined functionality\n",
    "- \u274c Requires manual coding for each new feature\n",
    "\n",
    "**RAG Documentation Approach:**  \n",
    "- \u2705 Handles any RDKit functionality\n",
    "- \u2705 Adapts to new types of requests\n",
    "- \u2705 Educational value (shows code generation)\n",
    "- \u274c More complex error handling needed\n",
    "- \u274c Potential for inconsistent code quality"
   ],
   "metadata": {
    "id": "uPyxiv2ElFLv"
   },
   "id": "uPyxiv2ElFLv"
  },
  {
   "cell_type": "markdown",
   "id": "a49f2d79",
   "metadata": {
    "id": "a49f2d79"
   },
   "source": [
    "## Conclusions"
   ]
  },
  {
   "cell_type": "code",
   "execution_count": null,
   "metadata": {
    "colab": {
     "base_uri": "https://localhost:8080/"
    },
    "id": "Qpz2IK710Wyv",
    "outputId": "24d16314-162d-4e06-c5af-98a481f93113",
    "executionInfo": {
     "status": "ok",
     "timestamp": 1753015065729,
     "user_tz": -240,
     "elapsed": 618,
     "user": {
      "displayName": "Ivan Reznikov",
      "userId": "03906939862966425294"
     }
    }
   },
   "outputs": [
    {
     "output_type": "stream",
     "name": "stdout",
     "text": [
      "--2025-07-20 12:37:45--  https://raw.githubusercontent.com/IvanReznikov/LangChain4LifeScience/main/notebooks/Chapter%206.%20LangChain%20for%20Chemistry/results/results_chemcrow.json\n",
      "Resolving raw.githubusercontent.com (raw.githubusercontent.com)... 185.199.108.133, 185.199.109.133, 185.199.111.133, ...\n",
      "Connecting to raw.githubusercontent.com (raw.githubusercontent.com)|185.199.108.133|:443... connected.\n",
      "HTTP request sent, awaiting response... 200 OK\n",
      "Length: 1178 (1.2K) [text/plain]\n",
      "Saving to: \u2018results_chemcrow.json\u2019\n",
      "\n",
      "results_chemcrow.js 100%[===================>]   1.15K  --.-KB/s    in 0s      \n",
      "\n",
      "2025-07-20 12:37:45 (49.8 MB/s) - \u2018results_chemcrow.json\u2019 saved [1178/1178]\n",
      "\n",
      "--2025-07-20 12:37:45--  https://raw.githubusercontent.com/IvanReznikov/LangChain4LifeScience/main/notebooks/Chapter%206.%20LangChain%20for%20Chemistry/results/results_cactus.json\n",
      "Resolving raw.githubusercontent.com (raw.githubusercontent.com)... 185.199.108.133, 185.199.109.133, 185.199.110.133, ...\n",
      "Connecting to raw.githubusercontent.com (raw.githubusercontent.com)|185.199.108.133|:443... connected.\n",
      "HTTP request sent, awaiting response... 200 OK\n",
      "Length: 437 [text/plain]\n",
      "Saving to: \u2018results_cactus.json\u2019\n",
      "\n",
      "results_cactus.json 100%[===================>]     437  --.-KB/s    in 0s      \n",
      "\n",
      "2025-07-20 12:37:45 (6.72 MB/s) - \u2018results_cactus.json\u2019 saved [437/437]\n",
      "\n",
      "--2025-07-20 12:37:45--  https://raw.githubusercontent.com/IvanReznikov/LangChain4LifeScience/main/notebooks/Chapter%206.%20LangChain%20for%20Chemistry/results/results_llm4chem.json\n",
      "Resolving raw.githubusercontent.com (raw.githubusercontent.com)... 185.199.108.133, 185.199.109.133, 185.199.110.133, ...\n",
      "Connecting to raw.githubusercontent.com (raw.githubusercontent.com)|185.199.108.133|:443... connected.\n",
      "HTTP request sent, awaiting response... 200 OK\n",
      "Length: 6311 (6.2K) [text/plain]\n",
      "Saving to: \u2018results_llm4chem.json\u2019\n",
      "\n",
      "results_llm4chem.js 100%[===================>]   6.16K  --.-KB/s    in 0s      \n",
      "\n",
      "2025-07-20 12:37:46 (55.5 MB/s) - \u2018results_llm4chem.json\u2019 saved [6311/6311]\n",
      "\n"
     ]
    }
   ],
   "source": [
    "!wget \"https://raw.githubusercontent.com/IvanReznikov/LangChain4LifeScience/main/notebooks/Chapter%2006.%20LangChain%20for%20Chemistry/results/results_chemcrow.json\"\n",
    "!wget \"https://raw.githubusercontent.com/IvanReznikov/LangChain4LifeScience/main/notebooks/Chapter%2006.%20LangChain%20for%20Chemistry/results/results_cactus.json\"\n",
    "!wget \"https://raw.githubusercontent.com/IvanReznikov/LangChain4LifeScience/main/notebooks/Chapter%2006.%20LangChain%20for%20Chemistry/results/results_llm4chem.json\""
   ],
   "id": "Qpz2IK710Wyv"
  },
  {
   "cell_type": "code",
   "execution_count": null,
   "metadata": {
    "id": "nnkdNUZY0j82"
   },
   "outputs": [],
   "source": [
    "import json\n",
    "\n",
    "with open(\"results_chemcrow.json\") as f:\n",
    "    chemcrow_results = json.load(f)\n",
    "\n",
    "with open(\"results_cactus.json\") as f:\n",
    "    cactus_results = json.load(f)\n",
    "\n",
    "with open(\"results_llm4chem.json\") as f:\n",
    "    llm4chem_results = json.load(f)"
   ],
   "id": "nnkdNUZY0j82"
  },
  {
   "cell_type": "code",
   "source": [
    "for query in chemcrow_results:\n",
    "    results[query].update(chemcrow_results[query])\n",
    "\n",
    "for query in cactus_results:\n",
    "    results[query].update(cactus_results[query])\n",
    "\n",
    "for query in llm4chem_results:\n",
    "    clean_result = {x:llm4chem_results[query][x][0][\"output\"][0] for x in llm4chem_results[query]}\n",
    "    results[query].update(clean_result)"
   ],
   "metadata": {
    "id": "nFCYJY52uAOA"
   },
   "id": "nFCYJY52uAOA",
   "execution_count": null,
   "outputs": []
  },
  {
   "cell_type": "code",
   "source": [
    "results"
   ],
   "metadata": {
    "colab": {
     "base_uri": "https://localhost:8080/"
    },
    "id": "J3djDilwuXGo",
    "executionInfo": {
     "status": "ok",
     "timestamp": 1753015065886,
     "user_tz": -240,
     "elapsed": 113,
     "user": {
      "displayName": "Ivan Reznikov",
      "userId": "03906939862966425294"
     }
    },
    "outputId": "239ba264-ac0b-44d0-9fc3-195042eb9c16"
   },
   "id": "J3djDilwuXGo",
   "execution_count": null,
   "outputs": [
    {
     "output_type": "execute_result",
     "data": {
      "text/plain": [
       "{'query_1': {'llm_only_a': 'The formula of CC(=O)OC1=CC=CC=C1C(=O)O is C12H10O4.',\n",
       "  'llm_only_b': \"The compound you provided, CC(=O)OC1=CC=CC=C1C(=O)O, can be broken down into its components to determine its molecular formula.\\n\\n1. **CC(=O)** indicates an acetyl group (C2H3O).\\n2. **OC1=CC=CC=C1** indicates a phenyl ring (C6H5) with an ether linkage to the acetyl group.\\n3. **C(=O)O** indicates a carboxylic acid group (COOH).\\n\\nNow, let's combine these components:\\n\\n- The acetyl group contributes: C2H3O\\n- The phenyl ring contributes: C6H5\\n- The carboxylic acid contributes: C1H1O2\\n\\nNow, let's add them up:\\n\\n- Carbon (C): 2 (from acetyl) + 6 (from phenyl) + 1 (from carboxylic acid) = 9\\n- Hydrogen (H): 3 (from acetyl) + 5 (from phenyl) + 1 (from carboxylic acid) = 9\\n- Oxygen (O): 1 (from acetyl) + 1 (from ether) + 2 (from carboxylic acid) = 4\\n\\nThus, the molecular formula for the compound CC(=O)OC1=CC=CC=C1C(=O)O is **C9H10O4**.\",\n",
       "  'llm_only_c': 'The SMILES string CC(=O)OC1=CC=CC=C1C(=O)O represents acetylsalicylic acid, commonly known as aspirin. Its molecular formula is C9H8O4. \\n\\nTo break it down:\\n\u2022 The \"CC(=O)O\" part corresponds to an acetoxy group (CH3COO\u2013).\\n\u2022 The \"C1=CC=CC=C1\" represents a benzene ring.\\n\u2022 The \"C(=O)O\" attached to the benzene ring is a carboxylic acid group.\\n\\nSo, overall, the molecule is 2\u2011acetoxybenzoic acid (aspirin) with the formula C9H8O4.',\n",
       "  'chain_a': AIMessage(content='Step 1: Break down the given formula into individual elements and their respective counts:\\n- C: 10\\n- O: 2\\n\\nStep 2: Determine the connectivity of the atoms based on the given formula:\\n- CC(=O)OC1=CC=CC=C1C(=O)O\\n\\nStep 3: Simplify the connectivity to determine the structural formula:\\n- C10H8O2\\n\\nStep 4: Write the final answer in the standard chemical formula format:\\n- The formula of CC(=O)OC1=CC=CC=C1C(=O)O is C10H8O2.', additional_kwargs={'refusal': None}, response_metadata={'token_usage': {'completion_tokens': 134, 'prompt_tokens': 69, 'total_tokens': 203, 'completion_tokens_details': {'accepted_prediction_tokens': 0, 'audio_tokens': 0, 'reasoning_tokens': 0, 'rejected_prediction_tokens': 0}, 'prompt_tokens_details': {'audio_tokens': 0, 'cached_tokens': 0}}, 'model_name': 'gpt-3.5-turbo-0125', 'system_fingerprint': None, 'id': 'chatcmpl-BvNYYcjK5WNjL7ucWoIzgzMR6MFG8', 'service_tier': 'default', 'finish_reason': 'stop', 'logprobs': None}, id='run--18f265bb-334a-4693-99bd-19ed59f526a8-0', usage_metadata={'input_tokens': 69, 'output_tokens': 134, 'total_tokens': 203, 'input_token_details': {'audio': 0, 'cache_read': 0}, 'output_token_details': {'audio': 0, 'reasoning': 0}}),\n",
       "  'chain_b': AIMessage(content='The formula of CC(=O)OC1=CC=CC=C1C(=O)O is C10H10O4.', additional_kwargs={'refusal': None}, response_metadata={'token_usage': {'completion_tokens': 30, 'prompt_tokens': 68, 'total_tokens': 98, 'completion_tokens_details': {'accepted_prediction_tokens': 0, 'audio_tokens': 0, 'reasoning_tokens': 0, 'rejected_prediction_tokens': 0}, 'prompt_tokens_details': {'audio_tokens': 0, 'cached_tokens': 0}}, 'model_name': 'gpt-4o-mini-2024-07-18', 'system_fingerprint': None, 'id': 'chatcmpl-BvNYgxV2g8xtkoI6qeSUQXGduyNvp', 'service_tier': 'default', 'finish_reason': 'stop', 'logprobs': None}, id='run--8edd65b1-bec4-4450-827e-c02bbb4e802e-0', usage_metadata={'input_tokens': 68, 'output_tokens': 30, 'total_tokens': 98, 'input_token_details': {'audio': 0, 'cache_read': 0}, 'output_token_details': {'audio': 0, 'reasoning': 0}}),\n",
       "  'custom_agent': {'input': 'What is the formula of CC(=O)OC1=CC=CC=C1C(=O)O?',\n",
       "   'output': 'C9H8O4'},\n",
       "  'custom_rdkit_react_agent': {'input': 'What is the formula of CC(=O)OC1=CC=CC=C1C(=O)O?',\n",
       "   'output': 'Agent stopped due to iteration limit or time limit.'},\n",
       "  'custom_rdkit_tool_agent': {'input': 'What is the formula of CC(=O)OC1=CC=CC=C1C(=O)O?',\n",
       "   'output': 'Agent stopped due to max iterations.'},\n",
       "  'chemcrow_a': 'The formula of the molecule CC(=O)OC1=CC=CC=C1C(=O)O is C9H8O4.',\n",
       "  'chemcrow_b': 'The formula of CC(=O)OC1=CC=CC=C1C(=O)O is C10H10O4.',\n",
       "  'cactus_a': 'The molecular weight of CC(=O)OC1=CC=CC=C1C(=O)O is 180.042 Da',\n",
       "  'llm4chem_a': '<productIUP> CCCCCCCCCCCCCCCCCCCCCCCCCCCCCCCCCCCCCCCCCCCCCCCCCCCCCCCCCCCCCCCCCCCCCCCCCCCCCCCCCCCCCCCCCCCCCCCCCCCCCCCCCCCCCCCCCCCCCCCCCCCCCCCCCCCCCCCCCCCCCCCCCCCCCCCCCCCCCCCCCCCCCCCCCCCCCCCCCCCCCCCCCCCCCCCCCCCCCCCCCCCCCCCCCCCCCCCCCCCCCCCCCCCCCCCCCCCCCCCCCCCCCCCCCCCCCCCCCCCCCCCCCCCCCCCCCCCCCCCCCCCCCCCCCCCCCCCCCCCCCCCCCCCCCCCCCCCCCCCCCCCCCCCCCCCCCCCCCCCCCCCCCCCCCCCCCCCCCCCCCCCCCCCCCCCCCCCCCCCCCCCCCCCCCCCCCCCCCCCCCCCCCCCCCCCCCCCCCCCCCCCCCCCCCCCCCCCCCCCCCCCCCCCCCCCCCCCCCCCCCCCCCCCCCCCCCCCCCCCCCCCCCCCCCCCCCCCCCCCCCCCCCCCCCCCCCCCCCCCCCCCCCCCCCCCCCCCCCCCCCCCCCCCCCCCCCCCCCCCCCCCCCCCCCCCCCCCCCCCCCCCCCCCCCCCCCCCCCCCCCCCCCCCCCCCCCCCCCCCCCCCCCCCCCCCCCCCCCCCCCCCCCCCCCCCCCCCCCCCCCCCCCCCCCCCCCCCCCCCCCCCCCCCCCCCCCCCCCCCCCCCCCCCCCCCCCCCCCCCCCCCCCCCCCCCCCCCCCCCCCCCCCCCCCCCCCCCCCCCCCCCCCCCCCCCCCCCCCCCCCCCCCCCCCCCCCCCCCCCCCCCCCCCCCCCCCCCCCCCCCCCCCCCCCCCCCCCCCCCCCCCCCCCCCCCCCCCCCCCCCCCCCCCCCCCCCCCCCCCCCCCCCCCCCCCCCCCCCCCCCCCCCCCCCCCCCCCCCCCCCCCCCCCCCCCCCCCCCCCCCCCCCCCCCCCCCCCCCCCCCCCCCCCCCCCCCCCCCCCCCCCCCCCCCCCCCCCCCCCCCCCCCCCCCCCCCCCCCCCCCCCCCCCCCCCCCCCCCCCCCCCCCCCCCCCCCCCCCCCCCCCCCCCCCCCCCCCCCCCCCCCCCCCCCCCCCCCCCCCCCCCCCCCCCCCCCCCCCCCCCCCCCCCCCCCCCCCCCCCCCCCCCCCCCCCCCCCCCCCCCCCCCCCCCCCCCCCCCCCCCCCCCCCCCCCCCCCCCCCCCCCCCCCCCCCCCCCCCCCCCCCCCCCCCCCCCCCCCCCCCCCCCCCCCCCCCCCCCCCCCCCCCCCCCCCCCCCCCCCCCCCCCCCCCCCCCCCCCCCCCCCCCCCCCCCCCCCCCCCCCCCCCCCCCCCCCCCCCCCCCCCCCCCCCCCMS(CCCCCCCCCCCCMSMSMSMSMSMSMSMSMSMSMSMSMSMSMSMSMSMSMSMSMSMSMSMSMSMSMSMSMSMSMSMSMSMSMSMSMSMSMSMSMSMSMSMSMSMSMSMSMSMSMSMSMSMSMSMSMSMSMSMSMSMSMSMSMSMSMSMSMSMSMSMSMSMSMSMSMSMSMSMSMSMSMSMSMSMSMSMSMSMSMSMSMSMSMSMSMSMSMSMSMSMSMSMSMSMSMSMSMSMSMSMSMSMSMSMSMSMSMSMSMSMSMSMSMSMSMSMSMSMSMSMSMSMSMSMSMSMSMSMSMSMSMSMSMSMSMSMSMSMSMSMSMSMSMSMSMSMSMSMSMSMSMSMSMSMSMSMSMSMSMSMSMSMSMSMSMSMSMSMSMSMSMSMSMSMSMSMSMSMSMSMSMSMSMSMSMSMSMSMSMSMSMSMSMSMSMSMSMSMSMSMSMSMSMSMSMSMSMSMSMSMSMSMSMSMSMSMSMSMSMSMSMSMSMSMSMSMSMSMSMSMSMSMSMSMSMSMSMSMSMSMSMSMSMSMSMSMSMSMSMSMSMSMSMSMSMSMSMSMSMSMSMSMSMSMSMSMSMSMSMSMSMSMSMSMSMSMSMSMSMSMSMSMSMSMSMSMSMSMSMSMSMSMSMSMSMSMSMSMSMSMSMSMSMSMSMSMSMSMSMSMSMSMSMSMSMSMSMSMSMSMSMSMSMS',\n",
       "  'llm4chem_b': '<SMILES> CC(=O)OC1=CC=CC=C1C(=O)OCC1=CC=CC=C1 </SMILES> .</s>'},\n",
       " 'query_2': {'llm_only_a': 'The molecular mass of CC(=O)OC1=CC=CC=C1C(=O)O is 180.16 g/mol.',\n",
       "  'llm_only_b': 'To calculate the molecular mass of the compound CC(=O)OC1=CC=CC=C1C(=O)O, we first need to identify the molecular formula by breaking down the structure.\\n\\n1. **Identify the components**:\\n   - The compound has an acetyl group (CC(=O)O) and a phenolic structure (C1=CC=CC=C1) with a carboxylic acid (C(=O)O) attached.\\n\\n2. **Count the atoms**:\\n   - From the structure, we can deduce the following:\\n     - Carbon (C): 10\\n     - Hydrogen (H): 10\\n     - Oxygen (O): 4\\n\\n3. **Calculate the molecular mass**:\\n   - The atomic masses are approximately:\\n     - Carbon (C): 12.01 g/mol\\n     - Hydrogen (H): 1.008 g/mol\\n     - Oxygen (O): 16.00 g/mol\\n\\n   Now, we can calculate the total mass:\\n   \\\\[\\n   \\\\text{Molecular mass} = (10 \\\\times 12.01) + (10 \\\\times 1.008) + (4 \\\\times 16.00)\\n   \\\\]\\n   \\\\[\\n   = 120.1 + 10.08 + 64.00\\n   \\\\]\\n   \\\\[\\n   = 194.18 \\\\text{ g/mol}\\n   \\\\]\\n\\nTherefore, the molecular mass of CC(=O)OC1=CC=CC=C1C(=O)O is approximately **194.18 g/mol**.',\n",
       "  'llm_only_c': 'Let\\'s analyze the SMILES string step by step:\\n\\nSMILES: CC(=O)OC1=CC=CC=C1C(=O)O\\n\\n1. The fragment \"CC(=O)O\" represents an acetyl group attached via an oxygen (\u2013OCOCH\u2083).  \\n2. \"C1=CC=CC=C1\" represents a benzene ring (6 carbons).  \\n3. \"C(=O)O\" is a carboxylic acid group (\u2013COOH).  \\n\\nPutting these together, the molecule is acetylsalicylic acid (aspirin) with the formula:  \\n\\u2003\\u2003C\u2089H\u2088O\u2084\\n\\nNow, calculating the molecular mass using approximate atomic weights:  \\n\\u2003\u2022 Carbon (C): 12.01 g/mol  \\n\\u2003\u2022 Hydrogen (H): 1.008 g/mol  \\n\\u2003\u2022 Oxygen (O): 16.00 g/mol\\n\\nCalculating each element\u2019s contribution:\\n\\n\u2022 Carbons: 9 \u00d7 12.01 = 108.09 g/mol  \\n\u2022 Hydrogens: 8 \u00d7 1.008 = 8.06 g/mol  \\n\u2022 Oxygens: 4 \u00d7 16.00 = 64.00 g/mol\\n\\nAdd them up:  \\n\\u2003108.09 + 8.06 + 64.00 = 180.15 g/mol\\n\\nThus, the molecular mass of CC(=O)OC1=CC=CC=C1C(=O)O is approximately 180.15 g/mol.',\n",
       "  'chain_a': AIMessage(content='Step 1: Calculate the molecular mass of each element in the compound:\\n- Carbon (C): 12.01 g/mol\\n- Oxygen (O): 16.00 g/mol\\n- Hydrogen (H): 1.01 g/mol\\n\\nStep 2: Count the number of each element in the compound:\\n- C: 9\\n- O: 3\\n- H: 8\\n\\nStep 3: Calculate the total molecular mass by multiplying the number of each element by its atomic mass and adding them all together:\\n(9 x 12.01) + (3 x 16.00) + (8 x 1.01) = 108.09 + 48.00 + 8.08 = 164.17 g/mol\\n\\nFinal Answer: The molecular mass of CC(=O)OC1=CC=CC=C1C(=O)O is 164.17 g/mol.', additional_kwargs={'refusal': None}, response_metadata={'token_usage': {'completion_tokens': 193, 'prompt_tokens': 70, 'total_tokens': 263, 'completion_tokens_details': {'accepted_prediction_tokens': 0, 'audio_tokens': 0, 'reasoning_tokens': 0, 'rejected_prediction_tokens': 0}, 'prompt_tokens_details': {'audio_tokens': 0, 'cached_tokens': 0}}, 'model_name': 'gpt-3.5-turbo-0125', 'system_fingerprint': None, 'id': 'chatcmpl-BvNYaLoufw7JTgCzdbjmgqNGq7B23', 'service_tier': 'default', 'finish_reason': 'stop', 'logprobs': None}, id='run--dde52319-afdb-4dd2-b533-0d5e3d27de30-0', usage_metadata={'input_tokens': 70, 'output_tokens': 193, 'total_tokens': 263, 'input_token_details': {'audio': 0, 'cache_read': 0}, 'output_token_details': {'audio': 0, 'reasoning': 0}}),\n",
       "  'chain_b': AIMessage(content='To calculate the molecular mass of CC(=O)OC1=CC=CC=C1C(=O)O, we will break down the molecule into its constituent atoms and their respective counts.\\n\\n1. **Identify the structure**: The molecule can be broken down as follows:\\n   - CC(=O) indicates an acetyl group (C2H3O).\\n   - OC1=CC=CC=C1 indicates a phenyl ring (C6H5) with an ether linkage (O).\\n   - C(=O)O indicates a carboxylic acid group (COOH).\\n\\n2. **Count the atoms**:\\n   - From CC(=O): 2 Carbon (C) and 3 Hydrogen (H) and 1 Oxygen (O).\\n   - From OC1=CC=CC=C1: 6 Carbon (C) and 5 Hydrogen (H) and 1 Oxygen (O).\\n   - From C(=O)O: 1 Carbon (C) and 2 Oxygen (O) and 1 Hydrogen (H).\\n\\n3. **Total counts**:\\n   - Total Carbon (C): 2 + 6 + 1 = 9\\n   - Total Hydrogen (H): 3 + 5 + 1 = 9\\n   - Total Oxygen (O): 1 + 1 + 2 = 4\\n\\n4. **Calculate the molecular mass**:\\n   - Carbon (C): 12.01 g/mol \u00d7 9 = 108.09 g/mol\\n   - Hydrogen (H): 1.008 g/mol \u00d7 9 = 9.072 g/mol\\n   - Oxygen (O): 16.00 g/mol \u00d7 4 = 64.00 g/mol\\n\\n5. **Sum the masses**:\\n   - Total molecular mass = 108.09 g/mol + 9.072 g/mol + 64.00 g/mol = 181.162 g/mol\\n\\nFinal Answer: 181.16 g/mol', additional_kwargs={'refusal': None}, response_metadata={'token_usage': {'completion_tokens': 416, 'prompt_tokens': 69, 'total_tokens': 485, 'completion_tokens_details': {'accepted_prediction_tokens': 0, 'audio_tokens': 0, 'reasoning_tokens': 0, 'rejected_prediction_tokens': 0}, 'prompt_tokens_details': {'audio_tokens': 0, 'cached_tokens': 0}}, 'model_name': 'gpt-4o-mini-2024-07-18', 'system_fingerprint': None, 'id': 'chatcmpl-BvNYhYYnqwDcPjzqVsZYloQ4GcRI5', 'service_tier': 'default', 'finish_reason': 'stop', 'logprobs': None}, id='run--fcce09ca-da9c-4297-8ca5-c7b448a8502b-0', usage_metadata={'input_tokens': 69, 'output_tokens': 416, 'total_tokens': 485, 'input_token_details': {'audio': 0, 'cache_read': 0}, 'output_token_details': {'audio': 0, 'reasoning': 0}}),\n",
       "  'custom_agent': {'input': 'What is the molecular mass of CC(=O)OC1=CC=CC=C1C(=O)O',\n",
       "   'output': 'The molecular mass of CC(=O)OC1=CC=CC=C1C(=O)O is 180.04 g/mol.'},\n",
       "  'custom_rdkit_react_agent': {'input': 'What is the molecular mass of CC(=O)OC1=CC=CC=C1C(=O)O',\n",
       "   'output': 'The molecular mass of CC(=O)OC1=CC=CC=C1C(=O)O is approximately 180.16 g/mol.'},\n",
       "  'custom_rdkit_tool_agent': {'input': 'What is the molecular mass of CC(=O)OC1=CC=CC=C1C(=O)O',\n",
       "   'output': '# The molecular mass of the compound represented by the SMILES notation CC(=O)OC1=CC=CC=C1C(=O)O is approximately 180.04 g/mol. \\n\\nPossible function names that can be used for similar tasks include:\\n- `rdMolDescriptors.CalcExactMolWt` - to calculate the exact molecular weight of a molecule.\\n- `Chem.MolFromSmiles` - to create a molecule object from a SMILES string.'},\n",
       "  'chemcrow_a': 'The molecular mass of the molecule with the SMILES notation CC(=O)OC1=CC=CC=C1C(=O)O is approximately 180.042 g/mol.',\n",
       "  'chemcrow_b': 'The molecular mass of CC(=O)OC1=CC=CC=C1C(=O)O is 180.16 g/mol.',\n",
       "  'cactus_a': 'The molecular weight of CC(=O)OC1=CC=CC=C1C(=O)O is 180.042 Dalton',\n",
       "  'llm4chem_a': '<logP> -1. nobody</s>',\n",
       "  'llm4chem_b': '<MOLFORMULA> C11H10O5 </MOLFORMULA> .</s>'},\n",
       " 'query_3': {'llm_only_a': \"I'm sorry, I cannot draw chemical structures. However, I can describe the structure to you. The 2D representation of CC(=O)OC1=CC=CC=C1C(=O)O is a molecule with two carbon atoms connected by a double bond, one of which is also connected to an oxygen atom with a double bond. The carbon atom on the right is connected to an oxygen atom and a carbon atom with a double bond, which is in turn connected to a benzene ring. The benzene ring has alternating single and double bonds between carbon atoms.\",\n",
       "  'llm_only_b': \"I can't draw directly, but I can help you visualize the structure of the compound CC(=O)OC1=CC=CC=C1C(=O)O.\\n\\nThis compound can be broken down as follows:\\n\\n1. **CC(=O)**: This part represents an acetyl group (CH3CO-).\\n2. **O**: This indicates that the acetyl group is connected to an oxygen atom, suggesting an ester or ether linkage.\\n3. **C1=CC=CC=C1**: This indicates a cyclic structure, specifically a benzene ring (a six-membered carbon ring with alternating double bonds).\\n4. **C(=O)O**: This part indicates a carboxylic acid group (-COOH) attached to the benzene ring.\\n\\nPutting it all together, the structure can be visualized as follows:\\n\\n- Start with a benzene ring.\\n- Attach a carboxylic acid group (-COOH) to one of the carbons on the ring.\\n- Attach an acetyl group (CH3CO-) via an oxygen atom to another carbon on the benzene ring.\\n\\nIf you want to draw it out, you can start with a hexagon for the benzene ring, add alternating double bonds, and then add the functional groups as described. You can use chemical drawing software or online tools to create a more precise representation.\",\n",
       "  'llm_only_c': 'Below is one way to depict the 2D skeletal structure of CC(=O)OC1=CC=CC=C1C(=O)O (aspirin or acetylsalicylic acid). In this diagram, the benzene ring is shown as a hexagon with two substituents attached at adjacent (ortho) positions. One substituent is an ester group (\u2013O\u2013C(=O)CH3) and the other is a carboxylic acid (\u2013C(=O)OH).\\n\\nHere\u2019s an ASCII \u201cline\u2010drawing\u201d version:\\n\\n             O\\n             ||\\n         CH3\u2013C\u2013O\\n               \\\\\\n                \\\\\\n     (2)          \\\\\\n          \u2022\u2013\u2013\u2013\u2013\u2013\u2013\u2022\u2013\u2013\u2013\u2013\u2013\u2013\u2022        \u2190 Benzene ring (\u2022 are the C\u2013atoms)\\n         /         \\\\        \\\\\\n (COOH)\u2500\u2022           \u2022         \u2022\\n         \\\\         /         /\\n          \u2022\u2013\u2013\u2013\u2013\u2013\u2013\u2022\u2013\u2013\u2013\u2013\u2013\u2013\u2022\\n               /\\n              /\\n  \\nIn the diagram above:\\n1. The left-hand substituent \u201cCH3\u2013C(=O)\u2013O\u2013\u201d is attached to one carbon of the benzene ring.\\n2. The \u201cCOOH\u201d group is attached to the neighboring carbon.\\n3. The benzene ring is drawn as a hexagon with its six carbon atoms (represented by the \u201c\u2022\u201d) and alternating double bonds implied by the skeletal representation.\\n\\nA slightly more \u201clinear\u201d depiction with numbering (assigning the carbon that bears the O\u2013acetyl group as C1 and the adjacent carbon with COOH as C2) is given below:\\n\\n           O\\n           ||\\n     CH3\u2013C\u2013O\\n           |\\n         (C1) \\n          /   \\\\\\n         /     \\\\\\n      (C6)     (C2)\u2013C(=O)OH\\n         |         |\\n      (C5)       (C3)\\n         \\\\        /\\n          \\\\     /\\n          (C4)\\n              \\nNotes:\\n\u2022 In skeletal structures, the actual double bonds in the benzene ring are usually delocalized (often drawn as a circle in the center of the hexagon) but here we show it with implied alternating double bonds.\\n\u2022 The \u201cO\u2013C(=O)CH3\u201d group is the acetyl (ester) group, while \u201cC(=O)OH\u201d is the carboxylic acid.\\n\u2022 This molecule is commonly known as aspirin (acetylsalicylic acid).\\n\\nYou can also find many hand\u2010drawn versions online, but this ASCII depiction should give you the idea of the 2D connectivity of the molecule.',\n",
       "  'chain_a': AIMessage(content='1. Start by drawing the carbon atoms in the molecule. There are 10 carbon atoms in total.\\n2. Next, add the oxygen atoms. There are 3 oxygen atoms in the molecule.\\n3. Then, add the double bonds between the carbon and oxygen atoms to represent the carbonyl groups.\\n4. Finally, connect the atoms with single bonds according to the given structure: CC(=O)OC1=CC=CC=C1C(=O)O.\\n\\nThe final 2D representation of CC(=O)OC1=CC=CC=C1C(=O)O is:\\n\\n   O=C-C-C=C-C=C-C=C1-C=CC=C1-C(=O)-O', additional_kwargs={'refusal': None}, response_metadata={'token_usage': {'completion_tokens': 148, 'prompt_tokens': 70, 'total_tokens': 218, 'completion_tokens_details': {'accepted_prediction_tokens': 0, 'audio_tokens': 0, 'reasoning_tokens': 0, 'rejected_prediction_tokens': 0}, 'prompt_tokens_details': {'audio_tokens': 0, 'cached_tokens': 0}}, 'model_name': 'gpt-3.5-turbo-0125', 'system_fingerprint': None, 'id': 'chatcmpl-BvNYcWD9gFTRqFzDRlnLmrAUehVlL', 'service_tier': 'default', 'finish_reason': 'stop', 'logprobs': None}, id='run--a0bc4083-98b0-4749-8a12-55b2f4a2f1b9-0', usage_metadata={'input_tokens': 70, 'output_tokens': 148, 'total_tokens': 218, 'input_token_details': {'audio': 0, 'cache_read': 0}, 'output_token_details': {'audio': 0, 'reasoning': 0}}),\n",
       "  'chain_b': AIMessage(content='The 2D representation of the compound CC(=O)OC1=CC=CC=C1C(=O)O is as follows:\\n\\n```\\n       O\\n       ||\\n   C - C - O - C1\\n       |     /  \\\\\\n       C   C    C\\n       |   |    |\\n       C - C - C\\n       |     |\\n       O     O\\n       ||\\n       O\\n```\\n\\nThis structure represents the acetyl group (CC(=O)), an ester linkage (OC), a phenyl ring (C1=CC=CC=C1), and a carboxylic acid group (C(=O)O).', additional_kwargs={'refusal': None}, response_metadata={'token_usage': {'completion_tokens': 139, 'prompt_tokens': 69, 'total_tokens': 208, 'completion_tokens_details': {'accepted_prediction_tokens': 0, 'audio_tokens': 0, 'reasoning_tokens': 0, 'rejected_prediction_tokens': 0}, 'prompt_tokens_details': {'audio_tokens': 0, 'cached_tokens': 0}}, 'model_name': 'gpt-4o-mini-2024-07-18', 'system_fingerprint': None, 'id': 'chatcmpl-BvNYlxyyKw3u4Den3r2Qi079lWKeU', 'service_tier': 'default', 'finish_reason': 'stop', 'logprobs': None}, id='run--d84d93bc-aed9-454d-9830-0ebb15095da7-0', usage_metadata={'input_tokens': 69, 'output_tokens': 139, 'total_tokens': 208, 'input_token_details': {'audio': 0, 'cache_read': 0}, 'output_token_details': {'audio': 0, 'reasoning': 0}}),\n",
       "  'custom_agent': {'input': 'Draw 2D representation of CC(=O)OC1=CC=CC=C1C(=O)O?',\n",
       "   'output': 'I am unable to provide a 2D representation of the molecule with the given SMILES notation \"CC(=O)OC1=CC=CC=C1C(=O)O\". The empirical formula is C9H8O4 and the molecular weight is approximately 180.04 g/mol.'},\n",
       "  'custom_rdkit_react_agent': {'input': 'Draw 2D representation of CC(=O)OC1=CC=CC=C1C(=O)O?',\n",
       "   'output': 'The 2D representation of the chemical structure CC(=O)OC1=CC=CC=C1C(=O)O has been drawn and saved as \"image_scenario_5a_2d.png\".'},\n",
       "  'custom_rdkit_tool_agent': {'input': 'Draw 2D representation of CC(=O)OC1=CC=CC=C1C(=O)O?',\n",
       "   'output': 'The 2D representation of the molecule with the SMILES notation CC(=O)OC1=CC=CC=C1C(=O)O has been successfully created and saved as \"image_scenario_5a_2d.png\".'},\n",
       "  'chemcrow_a': 'The 2D representation of the molecule CC(=O)OC1=CC=CC=C1C(=O)O is a structure with a benzene ring substituted with two carbonyl groups on adjacent carbon atoms.',\n",
       "  'chemcrow_b': 'I cannot assist with that request as it involves a molecule that may require further checks for controlled status or explosive properties. Please provide a different question or specify further.',\n",
       "  'cactus_a': 'I cannot provide a 2D representation of the molecule.',\n",
       "  'llm4chem_a': '<SMILES> CC(=O)OC1=CC=CC=C1C(=O)O </SMILES> </SMILES> The molecule is a benzoate ester obtained by formal condensation of the carboxy group of benzoic acid with the hydroxy group of 2-acetylphenol. It is a benzoate ester and a member of benzoic acids. It is functionally related to a 2-acetylphenol. It is a conjugate acid of a 2-acetylphenylbenzoate. \\n\\nThe molecule is a metabolite of the herbicide 2,4-D. It has a role as a plant metabolite. \\n\\nIt is a conjugate acid of a 2-acetylphenylbenzoate. \\n\\nThe major species at pH 7.3. </s>',\n",
       "  'llm4chem_b': '<SMILES> CC(=O)OC1=CC=CC=C1C(=O)OCC1=CC=CC=C1 </SMILES> </SMILES></s>'},\n",
       " 'query_4': {'llm_only_a': \"I'm sorry, I am not able to draw images. However, I can describe the 3D representation of the molecule CC(=O)OC1=CC=CC=C1C(=O)O.\\n\\nIn the 3D representation, the molecule would have a central carbon atom bonded to two oxygen atoms on either side. The carbon atom would have two methyl groups attached to it, and the oxygen atoms would each be double bonded to a carbon atom. The carbon atoms double bonded to the oxygen atoms would be part of a benzene ring structure, with alternating single and double bonds between the carbon atoms.\\n\\nOverall, the molecule would have a linear shape with the benzene ring structure extending outwards from the central carbon atom.\",\n",
       "  'llm_only_b': \"I can't create visual images directly, but I can help you visualize the 3D structure of the compound with the molecular formula CC(=O)OC1=CC=CC=C1C(=O)O, which is an ester derivative of a phenolic compound.\\n\\nHere's a step-by-step description of how to visualize it:\\n\\n1. **Identify the Components**:\\n   - The compound has an acetyl group (CC(=O)O) attached to a phenolic ring (C1=CC=CC=C1).\\n   - There is also a carboxylic acid group (C(=O)O) attached to the phenolic ring.\\n\\n2. **Structure Breakdown**:\\n   - The acetyl group (CH3CO-) is connected to an oxygen atom (O) which is then connected to the phenolic ring.\\n   - The phenolic ring consists of six carbon atoms arranged in a cyclic structure with alternating double bonds (aromatic).\\n   - The carboxylic acid group (-COOH) is attached to one of the carbon atoms in the phenolic ring.\\n\\n3. **3D Representation**:\\n   - Start with the phenolic ring as a hexagonal structure with alternating double bonds.\\n   - Attach the acetyl group to one of the carbon atoms in the ring via an oxygen atom (this forms an ester bond).\\n   - Attach the carboxylic acid group to another carbon atom in the ring.\\n\\n4. **Using Molecular Visualization Software**:\\n   - You can use software like ChemDraw, Jmol, or online tools like PubChem to create a 3D model.\\n   - Input the molecular formula or the SMILES notation (CC(=O)OC1=CC=CC=C1C(=O)O) to generate the 3D structure.\\n\\nIf you need further assistance with specific software or tools, feel free to ask!\",\n",
       "  'llm_only_c': 'Below is one way to \u201cdraw\u201d a 3D representation of the molecule with the SMILES\\n\\n\\u2003\\u2003CC(=O)OC1=CC=CC=C1C(=O)O\\n\\n(which is the structure of acetylsalicylic acid, commonly known as aspirin) using an ASCII \u201cwire\u2010frame\u201d style. Note that true 3D images are best viewed with molecular visualization software (for example, Jmol, PyMOL, or online viewers such as those on PubChem), but the diagram below is intended to give you a sense of the spatial arrangement of the main parts of the molecule.\\n\\nRemember that in aspirin:\\n\\u2003\u2022 The central benzene ring is essentially planar.\\n\\u2003\u2022 One substituent is a carboxylic acid group (\u2013C(=O)OH) attached directly to the ring.\\n\\u2003\u2022 The other substituent is an acetoxy group (\u2013O\u2013C(=O)CH3) attached via an oxygen; this group may be rotated out of the plane of the benzene ring.\\n\\nHere\u2019s one ASCII \u201csketch\u201d that tries to indicate relative 3D orientations:\\n\\n             CH3\\n              |\\n              C=O\\n              |\\n        (Acetyl group)\\n                \\\\\\n                 O\\n                  \\\\\\n                   \\\\\\n         [Out\u2010of\u2010plane twist]\\n                      \\\\\\n                       Attachment\\n                         (\u2013O\u2013)\\n                            \\\\\\n                             \u2022\\n                           /   \\\\\\n         (Benzene ring: nearly planar)  \\n                           \\\\   /\\n                            \u2022  \\n                   \u2022      /     \\\\      \u2022\\n                   \u2022     \u2022       \u2022     \u2022   \u2190 (Carbon atoms of the benzene ring)\\n                    \\\\   /         \\\\   /\\n                     \u2022\u2022            \u2022\u2022\\n                      \\\\            /\\n                       \u2022    \u2022    \u2022\\n                         \\\\  |  /\\n             (Carboxylic acid group)\\n                          C=O\\n                           |\\n                           OH\\n\\nExplanation of the sketch:\\n1. The benzene \u201cring\u201d is drawn as a roughly hexagonal loop (the \u201c\u2022\u201d atoms are the carbons). It is drawn in a plane.\\n2. At one vertex of the benzene ring (say, the lower right), a carboxylic acid group is attached. That group is shown at the bottom right with a C=O double bond and an \u2013OH.\\n3. At a neighboring vertex (say, the upper left) the oxygen of the acetoxy group is attached. From that oxygen a C(=O)CH3 branch is drawn. To hint that this acetoxy group might be rotated relative to the benzene plane, the branch is shown \u201ccoming out\u201d (or \u201cgoing in\u201d) relative to the plane.\\n4. The \u201cO\u2013C(=O)CH3\u201d unit (the acetyl group bonded through O) is drawn with its own C=O and CH3 group.\\n   \\nKeep in mind that the above drawing is very schematic. In a true 3D ball\u2010and\u2010stick representation you would see something like:\\n\\n\\u2003\u2022 A flat benzene ring.\\n\\u2003\u2022 A \u2013COOH group lying in (or nearly in) that ring plane.\\n\\u2003\u2022 An \u2013OCOCH3 group that is rotated relative to that plane (so that the acetyl carbonyl and methyl group are \u201cabove\u201d or \u201cbelow\u201d the ring).\\n\\nIf you want to visualize the molecule interactively, you might try one of these steps:\\n\\u20031. Copy the SMILES string \u201cCC(=O)OC1=CC=CC=C1C(=O)O.\u201d\\n\\u20032. Paste it into an online viewer (for example, see PubChem\u2019s \u201c3D Conformer\u201d tool or use Jmol).\\n\\u20033. Rotate the model to appreciate its 3D structure.\\n\\nI hope this ASCII 3D sketch and explanation gives you a better idea of how aspirin is arranged in three dimensions!',\n",
       "  'chain_a': AIMessage(content='1. Start by drawing the basic structure of the molecule: a benzene ring (C6H5) with a carboxylic acid group (COOH) attached to one side.\\n2. Next, add a double bond between one of the carbon atoms in the benzene ring and an oxygen atom, representing the carbonyl group (C=O).\\n3. Then, add an ester group (OC) attached to the other side of the benzene ring, replacing one of the hydrogen atoms.\\n4. Finally, add a second benzene ring connected to the ester group through a double bond, completing the structure of the molecule.\\n\\nThe final 3D representation of CC(=O)OC1=CC=CC=C1C(=O)O is a complex structure with two benzene rings connected by a carbonyl group and an ester group.', additional_kwargs={'refusal': None}, response_metadata={'token_usage': {'completion_tokens': 180, 'prompt_tokens': 70, 'total_tokens': 250, 'completion_tokens_details': {'accepted_prediction_tokens': 0, 'audio_tokens': 0, 'reasoning_tokens': 0, 'rejected_prediction_tokens': 0}, 'prompt_tokens_details': {'audio_tokens': 0, 'cached_tokens': 0}}, 'model_name': 'gpt-3.5-turbo-0125', 'system_fingerprint': None, 'id': 'chatcmpl-BvNYerS4Hvc0gm7psPGGmdcqNHzyL', 'service_tier': 'default', 'finish_reason': 'stop', 'logprobs': None}, id='run--e3011293-9482-464a-a6f6-58bb9b7e2d51-0', usage_metadata={'input_tokens': 70, 'output_tokens': 180, 'total_tokens': 250, 'input_token_details': {'audio': 0, 'cache_read': 0}, 'output_token_details': {'audio': 0, 'reasoning': 0}}),\n",
       "  'chain_b': AIMessage(content=\"I'm unable to draw 3D representations directly, but I can guide you on how to visualize the structure of CC(=O)OC1=CC=CC=C1C(=O)O.\\n\\n1. **Identify the components**: The compound has an ester functional group (CC(=O)O) and a carboxylic acid (C(=O)O) attached to a phenyl ring (C1=CC=CC=C1).\\n\\n2. **Construct the backbone**: Start with the phenyl ring, which consists of six carbon atoms arranged in a cyclic structure with alternating double bonds.\\n\\n3. **Add substituents**: Attach the ester group (CC(=O)O) to one of the carbon atoms on the phenyl ring. The carbon chain (CC) will be connected to the carbonyl (C=O) of the ester.\\n\\n4. **Add the carboxylic acid**: Attach the carboxylic acid (C(=O)O) to another carbon on the phenyl ring.\\n\\n5. **Visualize in 3D**: Use molecular visualization software (like ChemDraw, Jmol, or PyMOL) to create a 3D model by inputting the molecular formula or drawing the structure.\\n\\nThis will give you a 3D representation of the compound.\", additional_kwargs={'refusal': None}, response_metadata={'token_usage': {'completion_tokens': 277, 'prompt_tokens': 69, 'total_tokens': 346, 'completion_tokens_details': {'accepted_prediction_tokens': 0, 'audio_tokens': 0, 'reasoning_tokens': 0, 'rejected_prediction_tokens': 0}, 'prompt_tokens_details': {'audio_tokens': 0, 'cached_tokens': 0}}, 'model_name': 'gpt-4o-mini-2024-07-18', 'system_fingerprint': None, 'id': 'chatcmpl-BvNYooihkeoqlXKSZSpR0X1LGBEsG', 'service_tier': 'default', 'finish_reason': 'stop', 'logprobs': None}, id='run--0b83e6a6-b6b4-46ac-a3b8-240a75d174bc-0', usage_metadata={'input_tokens': 69, 'output_tokens': 277, 'total_tokens': 346, 'input_token_details': {'audio': 0, 'cache_read': 0}, 'output_token_details': {'audio': 0, 'reasoning': 0}}),\n",
       "  'custom_agent': {'input': 'Draw 3D representation of CC(=O)OC1=CC=CC=C1C(=O)O?',\n",
       "   'output': 'The 3D representation of the molecule with the given SMILES notation \"CC(=O)OC1=CC=CC=C1C(=O)O\" could not be generated.'},\n",
       "  'custom_rdkit_react_agent': {'input': 'Draw 3D representation of CC(=O)OC1=CC=CC=C1C(=O)O?',\n",
       "   'output': 'The 3D representation of the molecule has been created and displayed.'},\n",
       "  'custom_rdkit_tool_agent': {'input': 'Draw 3D representation of CC(=O)OC1=CC=CC=C1C(=O)O?',\n",
       "   'output': 'The 3D representation of the molecule CC(=O)OC1=CC=CC=C1C(=O)O has been successfully generated. If you need any further assistance or modifications, feel free to ask!'},\n",
       "  'chemcrow_a': 'The 3D representation of the molecule CC(=O)OC1=CC=CC=C1C(=O)O has been successfully generated.',\n",
       "  'chemcrow_b': 'I cannot assist with drawing a 3D representation of the molecule CC(=O)OC1=CC=CC=C1C(=O)O without first checking if it is a controlled chemical. I will proceed to check its status.',\n",
       "  'cactus_a': 'I cannot generate a 3D representation of CC(=O)OC1=CC=CC=C1C(=O)O.',\n",
       "  'llm4chem_a': '<SMILES> CC(=O)OC1=CC=CC=C1C(=O)O </SMILES> </SMILES> The molecule is a benzoate ester obtained by formal condensation of the carboxy group of benzoic acid with the hydroxy group of 2-acetylphenol. It is a benzoate ester and a member of benzoic acids. It is functionally related to a 2-acetylphenol. It is a conjugate acid of a 2-acetylphenylbenzoate. \\n\\nThe molecule is a metabolite of the herbicide 2,4-D. It has a role as a herbicide metabolite. It is a member of phenols, a benzoate ester and a member of benzoic acids. \\n\\nIt is a conjugate acid of a 2-acetylphenylbenzoate. \\n\\nThe major species at pH 7.3. </s>',\n",
       "  'llm4chem_b': '<SMILES> CC(=O)OC1=CC=CC=C1C(=O)OCC1=CC=CC=C1 </SMILES> .</s>'}}"
      ]
     },
     "metadata": {},
     "execution_count": 79
    }
   ]
  },
  {
   "cell_type": "code",
   "execution_count": null,
   "id": "B2MbkuqO9Cm1",
   "metadata": {
    "id": "B2MbkuqO9Cm1"
   },
   "outputs": [],
   "source": [
    "import pandas as pd\n",
    "\n",
    "pd.set_option(\"display.max_colwidth\", None)\n",
    "pd.set_option(\"display.width\", None)"
   ]
  },
  {
   "cell_type": "code",
   "execution_count": null,
   "id": "SHisj-RX9H1X",
   "metadata": {
    "colab": {
     "base_uri": "https://localhost:8080/",
     "height": 494
    },
    "id": "SHisj-RX9H1X",
    "outputId": "64ae20ef-d213-4f8e-b4c2-a972aa9394ba",
    "executionInfo": {
     "status": "ok",
     "timestamp": 1753015066296,
     "user_tz": -240,
     "elapsed": 165,
     "user": {
      "displayName": "Ivan Reznikov",
      "userId": "03906939862966425294"
     }
    }
   },
   "outputs": [
    {
     "output_type": "execute_result",
     "data": {
      "text/plain": [
       "                       model  \\\n",
       "0                 llm_only_a   \n",
       "1                 llm_only_b   \n",
       "2                 llm_only_c   \n",
       "3                    chain_a   \n",
       "4                    chain_b   \n",
       "5               custom_agent   \n",
       "6   custom_rdkit_react_agent   \n",
       "7    custom_rdkit_tool_agent   \n",
       "8                 chemcrow_a   \n",
       "9                 chemcrow_b   \n",
       "10                  cactus_a   \n",
       "11                llm4chem_a   \n",
       "12                llm4chem_b   \n",
       "\n",
       "                                                                                                                                                                                                                                                                                                                                                                                                                                                                                                                                                                                                                                                                                                                                                                                                                                                                                                                                                                                                                                                                                                                                                                                                                                                                                                                                                                                                                                                                                                                                                                                                                                                                                                                                                                                                                                                                                                                                                                                                                                                                                     What is the formula of CC(=O)OC1=CC=CC=C1C(=O)O?  \n",
       "0                                                                                                                                                                                                                                                                                                                                                                                                                                                                                                                                                                                                                                                                                                                                                                                                                                                                                                                                                                                                                                                                                                                                                                                                                                                                                                                                                                                                                                                                                                                                                                                                                                                                                                                                                                                                                                                                                                                                                                                                                                                                                The formula of CC(=O)OC1=CC=CC=C1C(=O)O is C12H10O4.  \n",
       "1                                                                                                                                                                                                                                                                                                                                                                                                                                                                                                                                                                                                                                                                                                                                                                                                                                                                                                                                                                                                                                                                                                                                                                                                                                                 The compound you provided, CC(=O)OC1=CC=CC=C1C(=O)O, can be broken down into its components to determine its molecular formula.\\n\\n1. **CC(=O)** indicates an acetyl group (C2H3O).\\n2. **OC1=CC=CC=C1** indicates a phenyl ring (C6H5) with an ether linkage to the acetyl group.\\n3. **C(=O)O** indicates a carboxylic acid group (COOH).\\n\\nNow, let's combine these components:\\n\\n- The acetyl group contributes: C2H3O\\n- The phenyl ring contributes: C6H5\\n- The carboxylic acid contributes: C1H1O2\\n\\nNow, let's add them up:\\n\\n- Carbon (C): 2 (from acetyl) + 6 (from phenyl) + 1 (from carboxylic acid) = 9\\n- Hydrogen (H): 3 (from acetyl) + 5 (from phenyl) + 1 (from carboxylic acid) = 9\\n- Oxygen (O): 1 (from acetyl) + 1 (from ether) + 2 (from carboxylic acid) = 4\\n\\nThus, the molecular formula for the compound CC(=O)OC1=CC=CC=C1C(=O)O is **C9H10O4**.  \n",
       "2                                                                                                                                                                                                                                                                                                                                                                                                                                                                                                                                                                                                                                                                                                                                                                                                                                                                                                                                                                                                                                                                                                                                                                                                                                                                                                                                                                                                                                                                                                                                                                                                                                                                                    The SMILES string CC(=O)OC1=CC=CC=C1C(=O)O represents acetylsalicylic acid, commonly known as aspirin. Its molecular formula is C9H8O4. \\n\\nTo break it down:\\n\u2022 The \"CC(=O)O\" part corresponds to an acetoxy group (CH3COO\u2013).\\n\u2022 The \"C1=CC=CC=C1\" represents a benzene ring.\\n\u2022 The \"C(=O)O\" attached to the benzene ring is a carboxylic acid group.\\n\\nSo, overall, the molecule is 2\u2011acetoxybenzoic acid (aspirin) with the formula C9H8O4.  \n",
       "3                                                                                                                                                                                                                                                                                                                                                                                                                                                                                                                                                                                                                                                                                                                                                                                                                                                                                  content='Step 1: Break down the given formula into individual elements and their respective counts:\\n- C: 10\\n- O: 2\\n\\nStep 2: Determine the connectivity of the atoms based on the given formula:\\n- CC(=O)OC1=CC=CC=C1C(=O)O\\n\\nStep 3: Simplify the connectivity to determine the structural formula:\\n- C10H8O2\\n\\nStep 4: Write the final answer in the standard chemical formula format:\\n- The formula of CC(=O)OC1=CC=CC=C1C(=O)O is C10H8O2.' additional_kwargs={'refusal': None} response_metadata={'token_usage': {'completion_tokens': 134, 'prompt_tokens': 69, 'total_tokens': 203, 'completion_tokens_details': {'accepted_prediction_tokens': 0, 'audio_tokens': 0, 'reasoning_tokens': 0, 'rejected_prediction_tokens': 0}, 'prompt_tokens_details': {'audio_tokens': 0, 'cached_tokens': 0}}, 'model_name': 'gpt-3.5-turbo-0125', 'system_fingerprint': None, 'id': 'chatcmpl-BvNYYcjK5WNjL7ucWoIzgzMR6MFG8', 'service_tier': 'default', 'finish_reason': 'stop', 'logprobs': None} id='run--18f265bb-334a-4693-99bd-19ed59f526a8-0' usage_metadata={'input_tokens': 69, 'output_tokens': 134, 'total_tokens': 203, 'input_token_details': {'audio': 0, 'cache_read': 0}, 'output_token_details': {'audio': 0, 'reasoning': 0}}  \n",
       "4                                                                                                                                                                                                                                                                                                                                                                                                                                                                                                                                                                                                                                                                                                                                                                                                                                                                                                                                                                                                                                                                                                                                                                                                                                                                           content='The formula of CC(=O)OC1=CC=CC=C1C(=O)O is C10H10O4.' additional_kwargs={'refusal': None} response_metadata={'token_usage': {'completion_tokens': 30, 'prompt_tokens': 68, 'total_tokens': 98, 'completion_tokens_details': {'accepted_prediction_tokens': 0, 'audio_tokens': 0, 'reasoning_tokens': 0, 'rejected_prediction_tokens': 0}, 'prompt_tokens_details': {'audio_tokens': 0, 'cached_tokens': 0}}, 'model_name': 'gpt-4o-mini-2024-07-18', 'system_fingerprint': None, 'id': 'chatcmpl-BvNYgxV2g8xtkoI6qeSUQXGduyNvp', 'service_tier': 'default', 'finish_reason': 'stop', 'logprobs': None} id='run--8edd65b1-bec4-4450-827e-c02bbb4e802e-0' usage_metadata={'input_tokens': 68, 'output_tokens': 30, 'total_tokens': 98, 'input_token_details': {'audio': 0, 'cache_read': 0}, 'output_token_details': {'audio': 0, 'reasoning': 0}}  \n",
       "5                                                                                                                                                                                                                                                                                                                                                                                                                                                                                                                                                                                                                                                                                                                                                                                                                                                                                                                                                                                                                                                                                                                                                                                                                                                                                                                                                                                                                                                                                                                                                                                                                                                                                                                                                                                                                                                                                                                                                                                                                                                   {'input': 'What is the formula of CC(=O)OC1=CC=CC=C1C(=O)O?', 'output': 'C9H8O4'}  \n",
       "6                                                                                                                                                                                                                                                                                                                                                                                                                                                                                                                                                                                                                                                                                                                                                                                                                                                                                                                                                                                                                                                                                                                                                                                                                                                                                                                                                                                                                                                                                                                                                                                                                                                                                                                                                                                                                                                                                                                                                                                                      {'input': 'What is the formula of CC(=O)OC1=CC=CC=C1C(=O)O?', 'output': 'Agent stopped due to iteration limit or time limit.'}  \n",
       "7                                                                                                                                                                                                                                                                                                                                                                                                                                                                                                                                                                                                                                                                                                                                                                                                                                                                                                                                                                                                                                                                                                                                                                                                                                                                                                                                                                                                                                                                                                                                                                                                                                                                                                                                                                                                                                                                                                                                                                                                                     {'input': 'What is the formula of CC(=O)OC1=CC=CC=C1C(=O)O?', 'output': 'Agent stopped due to max iterations.'}  \n",
       "8                                                                                                                                                                                                                                                                                                                                                                                                                                                                                                                                                                                                                                                                                                                                                                                                                                                                                                                                                                                                                                                                                                                                                                                                                                                                                                                                                                                                                                                                                                                                                                                                                                                                                                                                                                                                                                                                                                                                                                                                                                                                     The formula of the molecule CC(=O)OC1=CC=CC=C1C(=O)O is C9H8O4.  \n",
       "9                                                                                                                                                                                                                                                                                                                                                                                                                                                                                                                                                                                                                                                                                                                                                                                                                                                                                                                                                                                                                                                                                                                                                                                                                                                                                                                                                                                                                                                                                                                                                                                                                                                                                                                                                                                                                                                                                                                                                                                                                                                                                The formula of CC(=O)OC1=CC=CC=C1C(=O)O is C10H10O4.  \n",
       "10                                                                                                                                                                                                                                                                                                                                                                                                                                                                                                                                                                                                                                                                                                                                                                                                                                                                                                                                                                                                                                                                                                                                                                                                                                                                                                                                                                                                                                                                                                                                                                                                                                                                                                                                                                                                                                                                                                                                                                                                                                                                     The molecular weight of CC(=O)OC1=CC=CC=C1C(=O)O is 180.042 Da  \n",
       "11  <productIUP> CCCCCCCCCCCCCCCCCCCCCCCCCCCCCCCCCCCCCCCCCCCCCCCCCCCCCCCCCCCCCCCCCCCCCCCCCCCCCCCCCCCCCCCCCCCCCCCCCCCCCCCCCCCCCCCCCCCCCCCCCCCCCCCCCCCCCCCCCCCCCCCCCCCCCCCCCCCCCCCCCCCCCCCCCCCCCCCCCCCCCCCCCCCCCCCCCCCCCCCCCCCCCCCCCCCCCCCCCCCCCCCCCCCCCCCCCCCCCCCCCCCCCCCCCCCCCCCCCCCCCCCCCCCCCCCCCCCCCCCCCCCCCCCCCCCCCCCCCCCCCCCCCCCCCCCCCCCCCCCCCCCCCCCCCCCCCCCCCCCCCCCCCCCCCCCCCCCCCCCCCCCCCCCCCCCCCCCCCCCCCCCCCCCCCCCCCCCCCCCCCCCCCCCCCCCCCCCCCCCCCCCCCCCCCCCCCCCCCCCCCCCCCCCCCCCCCCCCCCCCCCCCCCCCCCCCCCCCCCCCCCCCCCCCCCCCCCCCCCCCCCCCCCCCCCCCCCCCCCCCCCCCCCCCCCCCCCCCCCCCCCCCCCCCCCCCCCCCCCCCCCCCCCCCCCCCCCCCCCCCCCCCCCCCCCCCCCCCCCCCCCCCCCCCCCCCCCCCCCCCCCCCCCCCCCCCCCCCCCCCCCCCCCCCCCCCCCCCCCCCCCCCCCCCCCCCCCCCCCCCCCCCCCCCCCCCCCCCCCCCCCCCCCCCCCCCCCCCCCCCCCCCCCCCCCCCCCCCCCCCCCCCCCCCCCCCCCCCCCCCCCCCCCCCCCCCCCCCCCCCCCCCCCCCCCCCCCCCCCCCCCCCCCCCCCCCCCCCCCCCCCCCCCCCCCCCCCCCCCCCCCCCCCCCCCCCCCCCCCCCCCCCCCCCCCCCCCCCCCCCCCCCCCCCCCCCCCCCCCCCCCCCCCCCCCCCCCCCCCCCCCCCCCCCCCCCCCCCCCCCCCCCCCCCCCCCCCCCCCCCCCCCCCCCCCCCCCCCCCCCCCCCCCCCCCCCCCCCCCCCCCCCCCCCCCCCCCCCCCCCCCCCCCCCCCCCCCCCCCCCCCCCCCCCCCCCCCCCCCCCCCCCCCCCCCCCCCCCCCCCCCCCCCCCCCCCCCCCCCCCCCCCCCCCCCCCCCCCCCCCCCCCCCCCCCCCCCCCCCCCCCCCCCCCCCCCCCCCCCCCCCCCCCCCCCCCCCCCCCCCCCCCCCCCCCCCCCCCCCCCCCCCCCCCCCCCCCCCCCCCCCCCCCCCCCCCCCCCCCCCCCCCCCCCCCCCCCCCCCCCCCCCCCCCCCCCCCCCCCCCCCCCCCCCCCCCCCCCCCCCCCCCCCCCCCCCCCCCCCCCCCCCCCCCCCCCCCCCCCCCCCCCCCCCCCCMS(CCCCCCCCCCCCMSMSMSMSMSMSMSMSMSMSMSMSMSMSMSMSMSMSMSMSMSMSMSMSMSMSMSMSMSMSMSMSMSMSMSMSMSMSMSMSMSMSMSMSMSMSMSMSMSMSMSMSMSMSMSMSMSMSMSMSMSMSMSMSMSMSMSMSMSMSMSMSMSMSMSMSMSMSMSMSMSMSMSMSMSMSMSMSMSMSMSMSMSMSMSMSMSMSMSMSMSMSMSMSMSMSMSMSMSMSMSMSMSMSMSMSMSMSMSMSMSMSMSMSMSMSMSMSMSMSMSMSMSMSMSMSMSMSMSMSMSMSMSMSMSMSMSMSMSMSMSMSMSMSMSMSMSMSMSMSMSMSMSMSMSMSMSMSMSMSMSMSMSMSMSMSMSMSMSMSMSMSMSMSMSMSMSMSMSMSMSMSMSMSMSMSMSMSMSMSMSMSMSMSMSMSMSMSMSMSMSMSMSMSMSMSMSMSMSMSMSMSMSMSMSMSMSMSMSMSMSMSMSMSMSMSMSMSMSMSMSMSMSMSMSMSMSMSMSMSMSMSMSMSMSMSMSMSMSMSMSMSMSMSMSMSMSMSMSMSMSMSMSMSMSMSMSMSMSMSMSMSMSMSMSMSMSMSMSMSMSMSMSMSMSMSMSMSMSMSMSMSMSMSMSMSMSMSMSMSMSMSMSMSMSMSMSMSMSMSMSMSMSMSMSMSMSMSMSMSMSMSMSMSMS  \n",
       "12                                                                                                                                                                                                                                                                                                                                                                                                                                                                                                                                                                                                                                                                                                                                                                                                                                                                                                                                                                                                                                                                                                                                                                                                                                                                                                                                                                                                                                                                                                                                                                                                                                                                                                                                                                                                                                                                                                                                                                                                                                                                      <SMILES> CC(=O)OC1=CC=CC=C1C(=O)OCC1=CC=CC=C1 </SMILES> .</s>  "
      ],
      "text/html": [
       "\n",
       "  <div id=\"df-e19c0365-a206-403e-a488-2fc798926ccd\" class=\"colab-df-container\">\n",
       "    <div>\n",
       "<style scoped>\n",
       "    .dataframe tbody tr th:only-of-type {\n",
       "        vertical-align: middle;\n",
       "    }\n",
       "\n",
       "    .dataframe tbody tr th {\n",
       "        vertical-align: top;\n",
       "    }\n",
       "\n",
       "    .dataframe thead th {\n",
       "        text-align: right;\n",
       "    }\n",
       "</style>\n",
       "<table border=\"1\" class=\"dataframe\">\n",
       "  <thead>\n",
       "    <tr style=\"text-align: right;\">\n",
       "      <th></th>\n",
       "      <th>model</th>\n",
       "      <th>What is the formula of CC(=O)OC1=CC=CC=C1C(=O)O?</th>\n",
       "    </tr>\n",
       "  </thead>\n",
       "  <tbody>\n",
       "    <tr>\n",
       "      <th>0</th>\n",
       "      <td>llm_only_a</td>\n",
       "      <td>The formula of CC(=O)OC1=CC=CC=C1C(=O)O is C12H10O4.</td>\n",
       "    </tr>\n",
       "    <tr>\n",
       "      <th>1</th>\n",
       "      <td>llm_only_b</td>\n",
       "      <td>The compound you provided, CC(=O)OC1=CC=CC=C1C(=O)O, can be broken down into its components to determine its molecular formula.\\n\\n1. **CC(=O)** indicates an acetyl group (C2H3O).\\n2. **OC1=CC=CC=C1** indicates a phenyl ring (C6H5) with an ether linkage to the acetyl group.\\n3. **C(=O)O** indicates a carboxylic acid group (COOH).\\n\\nNow, let's combine these components:\\n\\n- The acetyl group contributes: C2H3O\\n- The phenyl ring contributes: C6H5\\n- The carboxylic acid contributes: C1H1O2\\n\\nNow, let's add them up:\\n\\n- Carbon (C): 2 (from acetyl) + 6 (from phenyl) + 1 (from carboxylic acid) = 9\\n- Hydrogen (H): 3 (from acetyl) + 5 (from phenyl) + 1 (from carboxylic acid) = 9\\n- Oxygen (O): 1 (from acetyl) + 1 (from ether) + 2 (from carboxylic acid) = 4\\n\\nThus, the molecular formula for the compound CC(=O)OC1=CC=CC=C1C(=O)O is **C9H10O4**.</td>\n",
       "    </tr>\n",
       "    <tr>\n",
       "      <th>2</th>\n",
       "      <td>llm_only_c</td>\n",
       "      <td>The SMILES string CC(=O)OC1=CC=CC=C1C(=O)O represents acetylsalicylic acid, commonly known as aspirin. Its molecular formula is C9H8O4. \\n\\nTo break it down:\\n\u2022 The \"CC(=O)O\" part corresponds to an acetoxy group (CH3COO\u2013).\\n\u2022 The \"C1=CC=CC=C1\" represents a benzene ring.\\n\u2022 The \"C(=O)O\" attached to the benzene ring is a carboxylic acid group.\\n\\nSo, overall, the molecule is 2\u2011acetoxybenzoic acid (aspirin) with the formula C9H8O4.</td>\n",
       "    </tr>\n",
       "    <tr>\n",
       "      <th>3</th>\n",
       "      <td>chain_a</td>\n",
       "      <td>content='Step 1: Break down the given formula into individual elements and their respective counts:\\n- C: 10\\n- O: 2\\n\\nStep 2: Determine the connectivity of the atoms based on the given formula:\\n- CC(=O)OC1=CC=CC=C1C(=O)O\\n\\nStep 3: Simplify the connectivity to determine the structural formula:\\n- C10H8O2\\n\\nStep 4: Write the final answer in the standard chemical formula format:\\n- The formula of CC(=O)OC1=CC=CC=C1C(=O)O is C10H8O2.' additional_kwargs={'refusal': None} response_metadata={'token_usage': {'completion_tokens': 134, 'prompt_tokens': 69, 'total_tokens': 203, 'completion_tokens_details': {'accepted_prediction_tokens': 0, 'audio_tokens': 0, 'reasoning_tokens': 0, 'rejected_prediction_tokens': 0}, 'prompt_tokens_details': {'audio_tokens': 0, 'cached_tokens': 0}}, 'model_name': 'gpt-3.5-turbo-0125', 'system_fingerprint': None, 'id': 'chatcmpl-BvNYYcjK5WNjL7ucWoIzgzMR6MFG8', 'service_tier': 'default', 'finish_reason': 'stop', 'logprobs': None} id='run--18f265bb-334a-4693-99bd-19ed59f526a8-0' usage_metadata={'input_tokens': 69, 'output_tokens': 134, 'total_tokens': 203, 'input_token_details': {'audio': 0, 'cache_read': 0}, 'output_token_details': {'audio': 0, 'reasoning': 0}}</td>\n",
       "    </tr>\n",
       "    <tr>\n",
       "      <th>4</th>\n",
       "      <td>chain_b</td>\n",
       "      <td>content='The formula of CC(=O)OC1=CC=CC=C1C(=O)O is C10H10O4.' additional_kwargs={'refusal': None} response_metadata={'token_usage': {'completion_tokens': 30, 'prompt_tokens': 68, 'total_tokens': 98, 'completion_tokens_details': {'accepted_prediction_tokens': 0, 'audio_tokens': 0, 'reasoning_tokens': 0, 'rejected_prediction_tokens': 0}, 'prompt_tokens_details': {'audio_tokens': 0, 'cached_tokens': 0}}, 'model_name': 'gpt-4o-mini-2024-07-18', 'system_fingerprint': None, 'id': 'chatcmpl-BvNYgxV2g8xtkoI6qeSUQXGduyNvp', 'service_tier': 'default', 'finish_reason': 'stop', 'logprobs': None} id='run--8edd65b1-bec4-4450-827e-c02bbb4e802e-0' usage_metadata={'input_tokens': 68, 'output_tokens': 30, 'total_tokens': 98, 'input_token_details': {'audio': 0, 'cache_read': 0}, 'output_token_details': {'audio': 0, 'reasoning': 0}}</td>\n",
       "    </tr>\n",
       "    <tr>\n",
       "      <th>5</th>\n",
       "      <td>custom_agent</td>\n",
       "      <td>{'input': 'What is the formula of CC(=O)OC1=CC=CC=C1C(=O)O?', 'output': 'C9H8O4'}</td>\n",
       "    </tr>\n",
       "    <tr>\n",
       "      <th>6</th>\n",
       "      <td>custom_rdkit_react_agent</td>\n",
       "      <td>{'input': 'What is the formula of CC(=O)OC1=CC=CC=C1C(=O)O?', 'output': 'Agent stopped due to iteration limit or time limit.'}</td>\n",
       "    </tr>\n",
       "    <tr>\n",
       "      <th>7</th>\n",
       "      <td>custom_rdkit_tool_agent</td>\n",
       "      <td>{'input': 'What is the formula of CC(=O)OC1=CC=CC=C1C(=O)O?', 'output': 'Agent stopped due to max iterations.'}</td>\n",
       "    </tr>\n",
       "    <tr>\n",
       "      <th>8</th>\n",
       "      <td>chemcrow_a</td>\n",
       "      <td>The formula of the molecule CC(=O)OC1=CC=CC=C1C(=O)O is C9H8O4.</td>\n",
       "    </tr>\n",
       "    <tr>\n",
       "      <th>9</th>\n",
       "      <td>chemcrow_b</td>\n",
       "      <td>The formula of CC(=O)OC1=CC=CC=C1C(=O)O is C10H10O4.</td>\n",
       "    </tr>\n",
       "    <tr>\n",
       "      <th>10</th>\n",
       "      <td>cactus_a</td>\n",
       "      <td>The molecular weight of CC(=O)OC1=CC=CC=C1C(=O)O is 180.042 Da</td>\n",
       "    </tr>\n",
       "    <tr>\n",
       "      <th>11</th>\n",
       "      <td>llm4chem_a</td>\n",
       "      <td>&lt;productIUP&gt; CCCCCCCCCCCCCCCCCCCCCCCCCCCCCCCCCCCCCCCCCCCCCCCCCCCCCCCCCCCCCCCCCCCCCCCCCCCCCCCCCCCCCCCCCCCCCCCCCCCCCCCCCCCCCCCCCCCCCCCCCCCCCCCCCCCCCCCCCCCCCCCCCCCCCCCCCCCCCCCCCCCCCCCCCCCCCCCCCCCCCCCCCCCCCCCCCCCCCCCCCCCCCCCCCCCCCCCCCCCCCCCCCCCCCCCCCCCCCCCCCCCCCCCCCCCCCCCCCCCCCCCCCCCCCCCCCCCCCCCCCCCCCCCCCCCCCCCCCCCCCCCCCCCCCCCCCCCCCCCCCCCCCCCCCCCCCCCCCCCCCCCCCCCCCCCCCCCCCCCCCCCCCCCCCCCCCCCCCCCCCCCCCCCCCCCCCCCCCCCCCCCCCCCCCCCCCCCCCCCCCCCCCCCCCCCCCCCCCCCCCCCCCCCCCCCCCCCCCCCCCCCCCCCCCCCCCCCCCCCCCCCCCCCCCCCCCCCCCCCCCCCCCCCCCCCCCCCCCCCCCCCCCCCCCCCCCCCCCCCCCCCCCCCCCCCCCCCCCCCCCCCCCCCCCCCCCCCCCCCCCCCCCCCCCCCCCCCCCCCCCCCCCCCCCCCCCCCCCCCCCCCCCCCCCCCCCCCCCCCCCCCCCCCCCCCCCCCCCCCCCCCCCCCCCCCCCCCCCCCCCCCCCCCCCCCCCCCCCCCCCCCCCCCCCCCCCCCCCCCCCCCCCCCCCCCCCCCCCCCCCCCCCCCCCCCCCCCCCCCCCCCCCCCCCCCCCCCCCCCCCCCCCCCCCCCCCCCCCCCCCCCCCCCCCCCCCCCCCCCCCCCCCCCCCCCCCCCCCCCCCCCCCCCCCCCCCCCCCCCCCCCCCCCCCCCCCCCCCCCCCCCCCCCCCCCCCCCCCCCCCCCCCCCCCCCCCCCCCCCCCCCCCCCCCCCCCCCCCCCCCCCCCCCCCCCCCCCCCCCCCCCCCCCCCCCCCCCCCCCCCCCCCCCCCCCCCCCCCCCCCCCCCCCCCCCCCCCCCCCCCCCCCCCCCCCCCCCCCCCCCCCCCCCCCCCCCCCCCCCCCCCCCCCCCCCCCCCCCCCCCCCCCCCCCCCCCCCCCCCCCCCCCCCCCCCCCCCCCCCCCCCCCCCCCCCCCCCCCCCCCCCCCCCCCCCCCCCCCCCCCCCCCCCCCCCCCCCCCCCCCCCCCCCCCCCCCCCCCCCCCCCCCCCCCCCCCCCCCCCCCCCCCCCCCCCCCCCCCCCCCCCCCCCCCCCCCCCCCCCCCCCCCCCCCCCCCCCCCCCCCCCCCCCCCCCCCCCCCCCCCCCCCCCCCCCCCCCCCCCCCCCCCCCCCCCCCCCCCCCCCCCCCCCCCCCMS(CCCCCCCCCCCCMSMSMSMSMSMSMSMSMSMSMSMSMSMSMSMSMSMSMSMSMSMSMSMSMSMSMSMSMSMSMSMSMSMSMSMSMSMSMSMSMSMSMSMSMSMSMSMSMSMSMSMSMSMSMSMSMSMSMSMSMSMSMSMSMSMSMSMSMSMSMSMSMSMSMSMSMSMSMSMSMSMSMSMSMSMSMSMSMSMSMSMSMSMSMSMSMSMSMSMSMSMSMSMSMSMSMSMSMSMSMSMSMSMSMSMSMSMSMSMSMSMSMSMSMSMSMSMSMSMSMSMSMSMSMSMSMSMSMSMSMSMSMSMSMSMSMSMSMSMSMSMSMSMSMSMSMSMSMSMSMSMSMSMSMSMSMSMSMSMSMSMSMSMSMSMSMSMSMSMSMSMSMSMSMSMSMSMSMSMSMSMSMSMSMSMSMSMSMSMSMSMSMSMSMSMSMSMSMSMSMSMSMSMSMSMSMSMSMSMSMSMSMSMSMSMSMSMSMSMSMSMSMSMSMSMSMSMSMSMSMSMSMSMSMSMSMSMSMSMSMSMSMSMSMSMSMSMSMSMSMSMSMSMSMSMSMSMSMSMSMSMSMSMSMSMSMSMSMSMSMSMSMSMSMSMSMSMSMSMSMSMSMSMSMSMSMSMSMSMSMSMSMSMSMSMSMSMSMSMSMSMSMSMSMSMSMSMSMSMSMSMSMSMSMSMSMSMSMSMSMSMSMSMSMS</td>\n",
       "    </tr>\n",
       "    <tr>\n",
       "      <th>12</th>\n",
       "      <td>llm4chem_b</td>\n",
       "      <td>&lt;SMILES&gt; CC(=O)OC1=CC=CC=C1C(=O)OCC1=CC=CC=C1 &lt;/SMILES&gt; .&lt;/s&gt;</td>\n",
       "    </tr>\n",
       "  </tbody>\n",
       "</table>\n",
       "</div>\n",
       "    <div class=\"colab-df-buttons\">\n",
       "\n",
       "  <div class=\"colab-df-container\">\n",
       "    <button class=\"colab-df-convert\" onclick=\"convertToInteractive('df-e19c0365-a206-403e-a488-2fc798926ccd')\"\n",
       "            title=\"Convert this dataframe to an interactive table.\"\n",
       "            style=\"display:none;\">\n",
       "\n",
       "  <svg xmlns=\"http://www.w3.org/2000/svg\" height=\"24px\" viewBox=\"0 -960 960 960\">\n",
       "    <path d=\"M120-120v-720h720v720H120Zm60-500h600v-160H180v160Zm220 220h160v-160H400v160Zm0 220h160v-160H400v160ZM180-400h160v-160H180v160Zm440 0h160v-160H620v160ZM180-180h160v-160H180v160Zm440 0h160v-160H620v160Z\"/>\n",
       "  </svg>\n",
       "    </button>\n",
       "\n",
       "  <style>\n",
       "    .colab-df-container {\n",
       "      display:flex;\n",
       "      gap: 12px;\n",
       "    }\n",
       "\n",
       "    .colab-df-convert {\n",
       "      background-color: #E8F0FE;\n",
       "      border: none;\n",
       "      border-radius: 50%;\n",
       "      cursor: pointer;\n",
       "      display: none;\n",
       "      fill: #1967D2;\n",
       "      height: 32px;\n",
       "      padding: 0 0 0 0;\n",
       "      width: 32px;\n",
       "    }\n",
       "\n",
       "    .colab-df-convert:hover {\n",
       "      background-color: #E2EBFA;\n",
       "      box-shadow: 0px 1px 2px rgba(60, 64, 67, 0.3), 0px 1px 3px 1px rgba(60, 64, 67, 0.15);\n",
       "      fill: #174EA6;\n",
       "    }\n",
       "\n",
       "    .colab-df-buttons div {\n",
       "      margin-bottom: 4px;\n",
       "    }\n",
       "\n",
       "    [theme=dark] .colab-df-convert {\n",
       "      background-color: #3B4455;\n",
       "      fill: #D2E3FC;\n",
       "    }\n",
       "\n",
       "    [theme=dark] .colab-df-convert:hover {\n",
       "      background-color: #434B5C;\n",
       "      box-shadow: 0px 1px 3px 1px rgba(0, 0, 0, 0.15);\n",
       "      filter: drop-shadow(0px 1px 2px rgba(0, 0, 0, 0.3));\n",
       "      fill: #FFFFFF;\n",
       "    }\n",
       "  </style>\n",
       "\n",
       "    <script>\n",
       "      const buttonEl =\n",
       "        document.querySelector('#df-e19c0365-a206-403e-a488-2fc798926ccd button.colab-df-convert');\n",
       "      buttonEl.style.display =\n",
       "        google.colab.kernel.accessAllowed ? 'block' : 'none';\n",
       "\n",
       "      async function convertToInteractive(key) {\n",
       "        const element = document.querySelector('#df-e19c0365-a206-403e-a488-2fc798926ccd');\n",
       "        const dataTable =\n",
       "          await google.colab.kernel.invokeFunction('convertToInteractive',\n",
       "                                                    [key], {});\n",
       "        if (!dataTable) return;\n",
       "\n",
       "        const docLinkHtml = 'Like what you see? Visit the ' +\n",
       "          '<a target=\"_blank\" href=https://colab.research.google.com/notebooks/data_table.ipynb>data table notebook</a>'\n",
       "          + ' to learn more about interactive tables.';\n",
       "        element.innerHTML = '';\n",
       "        dataTable['output_type'] = 'display_data';\n",
       "        await google.colab.output.renderOutput(dataTable, element);\n",
       "        const docLink = document.createElement('div');\n",
       "        docLink.innerHTML = docLinkHtml;\n",
       "        element.appendChild(docLink);\n",
       "      }\n",
       "    </script>\n",
       "  </div>\n",
       "\n",
       "\n",
       "    <div id=\"df-1466040d-7b32-47c5-af56-c5aa182b192d\">\n",
       "      <button class=\"colab-df-quickchart\" onclick=\"quickchart('df-1466040d-7b32-47c5-af56-c5aa182b192d')\"\n",
       "                title=\"Suggest charts\"\n",
       "                style=\"display:none;\">\n",
       "\n",
       "<svg xmlns=\"http://www.w3.org/2000/svg\" height=\"24px\"viewBox=\"0 0 24 24\"\n",
       "     width=\"24px\">\n",
       "    <g>\n",
       "        <path d=\"M19 3H5c-1.1 0-2 .9-2 2v14c0 1.1.9 2 2 2h14c1.1 0 2-.9 2-2V5c0-1.1-.9-2-2-2zM9 17H7v-7h2v7zm4 0h-2V7h2v10zm4 0h-2v-4h2v4z\"/>\n",
       "    </g>\n",
       "</svg>\n",
       "      </button>\n",
       "\n",
       "<style>\n",
       "  .colab-df-quickchart {\n",
       "      --bg-color: #E8F0FE;\n",
       "      --fill-color: #1967D2;\n",
       "      --hover-bg-color: #E2EBFA;\n",
       "      --hover-fill-color: #174EA6;\n",
       "      --disabled-fill-color: #AAA;\n",
       "      --disabled-bg-color: #DDD;\n",
       "  }\n",
       "\n",
       "  [theme=dark] .colab-df-quickchart {\n",
       "      --bg-color: #3B4455;\n",
       "      --fill-color: #D2E3FC;\n",
       "      --hover-bg-color: #434B5C;\n",
       "      --hover-fill-color: #FFFFFF;\n",
       "      --disabled-bg-color: #3B4455;\n",
       "      --disabled-fill-color: #666;\n",
       "  }\n",
       "\n",
       "  .colab-df-quickchart {\n",
       "    background-color: var(--bg-color);\n",
       "    border: none;\n",
       "    border-radius: 50%;\n",
       "    cursor: pointer;\n",
       "    display: none;\n",
       "    fill: var(--fill-color);\n",
       "    height: 32px;\n",
       "    padding: 0;\n",
       "    width: 32px;\n",
       "  }\n",
       "\n",
       "  .colab-df-quickchart:hover {\n",
       "    background-color: var(--hover-bg-color);\n",
       "    box-shadow: 0 1px 2px rgba(60, 64, 67, 0.3), 0 1px 3px 1px rgba(60, 64, 67, 0.15);\n",
       "    fill: var(--button-hover-fill-color);\n",
       "  }\n",
       "\n",
       "  .colab-df-quickchart-complete:disabled,\n",
       "  .colab-df-quickchart-complete:disabled:hover {\n",
       "    background-color: var(--disabled-bg-color);\n",
       "    fill: var(--disabled-fill-color);\n",
       "    box-shadow: none;\n",
       "  }\n",
       "\n",
       "  .colab-df-spinner {\n",
       "    border: 2px solid var(--fill-color);\n",
       "    border-color: transparent;\n",
       "    border-bottom-color: var(--fill-color);\n",
       "    animation:\n",
       "      spin 1s steps(1) infinite;\n",
       "  }\n",
       "\n",
       "  @keyframes spin {\n",
       "    0% {\n",
       "      border-color: transparent;\n",
       "      border-bottom-color: var(--fill-color);\n",
       "      border-left-color: var(--fill-color);\n",
       "    }\n",
       "    20% {\n",
       "      border-color: transparent;\n",
       "      border-left-color: var(--fill-color);\n",
       "      border-top-color: var(--fill-color);\n",
       "    }\n",
       "    30% {\n",
       "      border-color: transparent;\n",
       "      border-left-color: var(--fill-color);\n",
       "      border-top-color: var(--fill-color);\n",
       "      border-right-color: var(--fill-color);\n",
       "    }\n",
       "    40% {\n",
       "      border-color: transparent;\n",
       "      border-right-color: var(--fill-color);\n",
       "      border-top-color: var(--fill-color);\n",
       "    }\n",
       "    60% {\n",
       "      border-color: transparent;\n",
       "      border-right-color: var(--fill-color);\n",
       "    }\n",
       "    80% {\n",
       "      border-color: transparent;\n",
       "      border-right-color: var(--fill-color);\n",
       "      border-bottom-color: var(--fill-color);\n",
       "    }\n",
       "    90% {\n",
       "      border-color: transparent;\n",
       "      border-bottom-color: var(--fill-color);\n",
       "    }\n",
       "  }\n",
       "</style>\n",
       "\n",
       "      <script>\n",
       "        async function quickchart(key) {\n",
       "          const quickchartButtonEl =\n",
       "            document.querySelector('#' + key + ' button');\n",
       "          quickchartButtonEl.disabled = true;  // To prevent multiple clicks.\n",
       "          quickchartButtonEl.classList.add('colab-df-spinner');\n",
       "          try {\n",
       "            const charts = await google.colab.kernel.invokeFunction(\n",
       "                'suggestCharts', [key], {});\n",
       "          } catch (error) {\n",
       "            console.error('Error during call to suggestCharts:', error);\n",
       "          }\n",
       "          quickchartButtonEl.classList.remove('colab-df-spinner');\n",
       "          quickchartButtonEl.classList.add('colab-df-quickchart-complete');\n",
       "        }\n",
       "        (() => {\n",
       "          let quickchartButtonEl =\n",
       "            document.querySelector('#df-1466040d-7b32-47c5-af56-c5aa182b192d button');\n",
       "          quickchartButtonEl.style.display =\n",
       "            google.colab.kernel.accessAllowed ? 'block' : 'none';\n",
       "        })();\n",
       "      </script>\n",
       "    </div>\n",
       "\n",
       "  <div id=\"id_5017b4f3-494b-4415-adbd-4f4170a7511b\">\n",
       "    <style>\n",
       "      .colab-df-generate {\n",
       "        background-color: #E8F0FE;\n",
       "        border: none;\n",
       "        border-radius: 50%;\n",
       "        cursor: pointer;\n",
       "        display: none;\n",
       "        fill: #1967D2;\n",
       "        height: 32px;\n",
       "        padding: 0 0 0 0;\n",
       "        width: 32px;\n",
       "      }\n",
       "\n",
       "      .colab-df-generate:hover {\n",
       "        background-color: #E2EBFA;\n",
       "        box-shadow: 0px 1px 2px rgba(60, 64, 67, 0.3), 0px 1px 3px 1px rgba(60, 64, 67, 0.15);\n",
       "        fill: #174EA6;\n",
       "      }\n",
       "\n",
       "      [theme=dark] .colab-df-generate {\n",
       "        background-color: #3B4455;\n",
       "        fill: #D2E3FC;\n",
       "      }\n",
       "\n",
       "      [theme=dark] .colab-df-generate:hover {\n",
       "        background-color: #434B5C;\n",
       "        box-shadow: 0px 1px 3px 1px rgba(0, 0, 0, 0.15);\n",
       "        filter: drop-shadow(0px 1px 2px rgba(0, 0, 0, 0.3));\n",
       "        fill: #FFFFFF;\n",
       "      }\n",
       "    </style>\n",
       "    <button class=\"colab-df-generate\" onclick=\"generateWithVariable('df')\"\n",
       "            title=\"Generate code using this dataframe.\"\n",
       "            style=\"display:none;\">\n",
       "\n",
       "  <svg xmlns=\"http://www.w3.org/2000/svg\" height=\"24px\"viewBox=\"0 0 24 24\"\n",
       "       width=\"24px\">\n",
       "    <path d=\"M7,19H8.4L18.45,9,17,7.55,7,17.6ZM5,21V16.75L18.45,3.32a2,2,0,0,1,2.83,0l1.4,1.43a1.91,1.91,0,0,1,.58,1.4,1.91,1.91,0,0,1-.58,1.4L9.25,21ZM18.45,9,17,7.55Zm-12,3A5.31,5.31,0,0,0,4.9,8.1,5.31,5.31,0,0,0,1,6.5,5.31,5.31,0,0,0,4.9,4.9,5.31,5.31,0,0,0,6.5,1,5.31,5.31,0,0,0,8.1,4.9,5.31,5.31,0,0,0,12,6.5,5.46,5.46,0,0,0,6.5,12Z\"/>\n",
       "  </svg>\n",
       "    </button>\n",
       "    <script>\n",
       "      (() => {\n",
       "      const buttonEl =\n",
       "        document.querySelector('#id_5017b4f3-494b-4415-adbd-4f4170a7511b button.colab-df-generate');\n",
       "      buttonEl.style.display =\n",
       "        google.colab.kernel.accessAllowed ? 'block' : 'none';\n",
       "\n",
       "      buttonEl.onclick = () => {\n",
       "        google.colab.notebook.generateWithVariable('df');\n",
       "      }\n",
       "      })();\n",
       "    </script>\n",
       "  </div>\n",
       "\n",
       "    </div>\n",
       "  </div>\n"
      ],
      "application/vnd.google.colaboratory.intrinsic+json": {
       "type": "dataframe",
       "variable_name": "df",
       "summary": "{\n  \"name\": \"df\",\n  \"rows\": 13,\n  \"fields\": [\n    {\n      \"column\": \"model\",\n      \"properties\": {\n        \"dtype\": \"string\",\n        \"num_unique_values\": 13,\n        \"samples\": [\n          \"llm4chem_a\",\n          \"chemcrow_b\",\n          \"llm_only_a\"\n        ],\n        \"semantic_type\": \"\",\n        \"description\": \"\"\n      }\n    },\n    {\n      \"column\": \"What is the formula of CC(=O)OC1=CC=CC=C1C(=O)O?\",\n      \"properties\": {\n        \"dtype\": \"object\",\n        \"semantic_type\": \"\",\n        \"description\": \"\"\n      }\n    }\n  ]\n}"
      }
     },
     "metadata": {},
     "execution_count": 81
    }
   ],
   "source": [
    "df = pd.DataFrame.from_dict(results[\"query_1\"], orient=\"index\", columns=[f\"{query_1}\"])\n",
    "df = df.reset_index().rename(columns={\"index\": \"model\"})\n",
    "df"
   ]
  },
  {
   "cell_type": "code",
   "execution_count": null,
   "id": "vr2pT6kIX4ui",
   "metadata": {
    "id": "vr2pT6kIX4ui"
   },
   "outputs": [],
   "source": [
    "df.to_csv(\"answers_1.csv\")"
   ]
  },
  {
   "cell_type": "code",
   "execution_count": null,
   "id": "tjbs7AoWy3R5",
   "metadata": {
    "colab": {
     "base_uri": "https://localhost:8080/",
     "height": 943
    },
    "id": "tjbs7AoWy3R5",
    "outputId": "d23c192f-278e-4d38-92e3-ed040982e504",
    "executionInfo": {
     "status": "ok",
     "timestamp": 1753015066455,
     "user_tz": -240,
     "elapsed": 150,
     "user": {
      "displayName": "Ivan Reznikov",
      "userId": "03906939862966425294"
     }
    }
   },
   "outputs": [
    {
     "output_type": "execute_result",
     "data": {
      "text/plain": [
       "                       model  \\\n",
       "0                 llm_only_a   \n",
       "1                 llm_only_b   \n",
       "2                 llm_only_c   \n",
       "3                    chain_a   \n",
       "4                    chain_b   \n",
       "5               custom_agent   \n",
       "6   custom_rdkit_react_agent   \n",
       "7    custom_rdkit_tool_agent   \n",
       "8                 chemcrow_a   \n",
       "9                 chemcrow_b   \n",
       "10                  cactus_a   \n",
       "11                llm4chem_a   \n",
       "12                llm4chem_b   \n",
       "\n",
       "                                                                                                                                                                                                                                                                                                                                                                                                                                                                                                                                                                                                                                                                                                                                                                                                                                                                                                                                                                                                                                                                                                                                                                                                                                                                                                                                                                                                                                                                                                                                                                                                                                                                                                                                                                                                                                                                                                                  What is the molecular mass of CC(=O)OC1=CC=CC=C1C(=O)O  \n",
       "0                                                                                                                                                                                                                                                                                                                                                                                                                                                                                                                                                                                                                                                                                                                                                                                                                                                                                                                                                                                                                                                                                                                                                                                                                                                                                                                                                                                                                                                                                                                                                                                                                                                                                                                                                                                                                                                                                                        The molecular mass of CC(=O)OC1=CC=CC=C1C(=O)O is 180.16 g/mol.  \n",
       "1                                                                                                                                                                                                                                                                                                                                                                                                                                                                                                                                                                                                                                                                                                                                                                                                                                                                                                                                                          To calculate the molecular mass of the compound CC(=O)OC1=CC=CC=C1C(=O)O, we first need to identify the molecular formula by breaking down the structure.\\n\\n1. **Identify the components**:\\n   - The compound has an acetyl group (CC(=O)O) and a phenolic structure (C1=CC=CC=C1) with a carboxylic acid (C(=O)O) attached.\\n\\n2. **Count the atoms**:\\n   - From the structure, we can deduce the following:\\n     - Carbon (C): 10\\n     - Hydrogen (H): 10\\n     - Oxygen (O): 4\\n\\n3. **Calculate the molecular mass**:\\n   - The atomic masses are approximately:\\n     - Carbon (C): 12.01 g/mol\\n     - Hydrogen (H): 1.008 g/mol\\n     - Oxygen (O): 16.00 g/mol\\n\\n   Now, we can calculate the total mass:\\n   \\[\\n   \\text{Molecular mass} = (10 \\times 12.01) + (10 \\times 1.008) + (4 \\times 16.00)\\n   \\]\\n   \\[\\n   = 120.1 + 10.08 + 64.00\\n   \\]\\n   \\[\\n   = 194.18 \\text{ g/mol}\\n   \\]\\n\\nTherefore, the molecular mass of CC(=O)OC1=CC=CC=C1C(=O)O is approximately **194.18 g/mol**.  \n",
       "2                                                                                                                                                                                                                                                                                                                                                                                                                                                                                                                                                                                                                                                                                                                                                                                                                                                                                                                                                                                                                                                                               Let's analyze the SMILES string step by step:\\n\\nSMILES: CC(=O)OC1=CC=CC=C1C(=O)O\\n\\n1. The fragment \"CC(=O)O\" represents an acetyl group attached via an oxygen (\u2013OCOCH\u2083).  \\n2. \"C1=CC=CC=C1\" represents a benzene ring (6 carbons).  \\n3. \"C(=O)O\" is a carboxylic acid group (\u2013COOH).  \\n\\nPutting these together, the molecule is acetylsalicylic acid (aspirin) with the formula:  \\n\u2003\u2003C\u2089H\u2088O\u2084\\n\\nNow, calculating the molecular mass using approximate atomic weights:  \\n\u2003\u2022 Carbon (C): 12.01 g/mol  \\n\u2003\u2022 Hydrogen (H): 1.008 g/mol  \\n\u2003\u2022 Oxygen (O): 16.00 g/mol\\n\\nCalculating each element\u2019s contribution:\\n\\n\u2022 Carbons: 9 \u00d7 12.01 = 108.09 g/mol  \\n\u2022 Hydrogens: 8 \u00d7 1.008 = 8.06 g/mol  \\n\u2022 Oxygens: 4 \u00d7 16.00 = 64.00 g/mol\\n\\nAdd them up:  \\n\u2003108.09 + 8.06 + 64.00 = 180.15 g/mol\\n\\nThus, the molecular mass of CC(=O)OC1=CC=CC=C1C(=O)O is approximately 180.15 g/mol.  \n",
       "3                                                                                                                                                                                                                                                                                                                                                                                                                                                                                                                                                                                                             content='Step 1: Calculate the molecular mass of each element in the compound:\\n- Carbon (C): 12.01 g/mol\\n- Oxygen (O): 16.00 g/mol\\n- Hydrogen (H): 1.01 g/mol\\n\\nStep 2: Count the number of each element in the compound:\\n- C: 9\\n- O: 3\\n- H: 8\\n\\nStep 3: Calculate the total molecular mass by multiplying the number of each element by its atomic mass and adding them all together:\\n(9 x 12.01) + (3 x 16.00) + (8 x 1.01) = 108.09 + 48.00 + 8.08 = 164.17 g/mol\\n\\nFinal Answer: The molecular mass of CC(=O)OC1=CC=CC=C1C(=O)O is 164.17 g/mol.' additional_kwargs={'refusal': None} response_metadata={'token_usage': {'completion_tokens': 193, 'prompt_tokens': 70, 'total_tokens': 263, 'completion_tokens_details': {'accepted_prediction_tokens': 0, 'audio_tokens': 0, 'reasoning_tokens': 0, 'rejected_prediction_tokens': 0}, 'prompt_tokens_details': {'audio_tokens': 0, 'cached_tokens': 0}}, 'model_name': 'gpt-3.5-turbo-0125', 'system_fingerprint': None, 'id': 'chatcmpl-BvNYaLoufw7JTgCzdbjmgqNGq7B23', 'service_tier': 'default', 'finish_reason': 'stop', 'logprobs': None} id='run--dde52319-afdb-4dd2-b533-0d5e3d27de30-0' usage_metadata={'input_tokens': 70, 'output_tokens': 193, 'total_tokens': 263, 'input_token_details': {'audio': 0, 'cache_read': 0}, 'output_token_details': {'audio': 0, 'reasoning': 0}}  \n",
       "4   content='To calculate the molecular mass of CC(=O)OC1=CC=CC=C1C(=O)O, we will break down the molecule into its constituent atoms and their respective counts.\\n\\n1. **Identify the structure**: The molecule can be broken down as follows:\\n   - CC(=O) indicates an acetyl group (C2H3O).\\n   - OC1=CC=CC=C1 indicates a phenyl ring (C6H5) with an ether linkage (O).\\n   - C(=O)O indicates a carboxylic acid group (COOH).\\n\\n2. **Count the atoms**:\\n   - From CC(=O): 2 Carbon (C) and 3 Hydrogen (H) and 1 Oxygen (O).\\n   - From OC1=CC=CC=C1: 6 Carbon (C) and 5 Hydrogen (H) and 1 Oxygen (O).\\n   - From C(=O)O: 1 Carbon (C) and 2 Oxygen (O) and 1 Hydrogen (H).\\n\\n3. **Total counts**:\\n   - Total Carbon (C): 2 + 6 + 1 = 9\\n   - Total Hydrogen (H): 3 + 5 + 1 = 9\\n   - Total Oxygen (O): 1 + 1 + 2 = 4\\n\\n4. **Calculate the molecular mass**:\\n   - Carbon (C): 12.01 g/mol \u00d7 9 = 108.09 g/mol\\n   - Hydrogen (H): 1.008 g/mol \u00d7 9 = 9.072 g/mol\\n   - Oxygen (O): 16.00 g/mol \u00d7 4 = 64.00 g/mol\\n\\n5. **Sum the masses**:\\n   - Total molecular mass = 108.09 g/mol + 9.072 g/mol + 64.00 g/mol = 181.162 g/mol\\n\\nFinal Answer: 181.16 g/mol' additional_kwargs={'refusal': None} response_metadata={'token_usage': {'completion_tokens': 416, 'prompt_tokens': 69, 'total_tokens': 485, 'completion_tokens_details': {'accepted_prediction_tokens': 0, 'audio_tokens': 0, 'reasoning_tokens': 0, 'rejected_prediction_tokens': 0}, 'prompt_tokens_details': {'audio_tokens': 0, 'cached_tokens': 0}}, 'model_name': 'gpt-4o-mini-2024-07-18', 'system_fingerprint': None, 'id': 'chatcmpl-BvNYhYYnqwDcPjzqVsZYloQ4GcRI5', 'service_tier': 'default', 'finish_reason': 'stop', 'logprobs': None} id='run--fcce09ca-da9c-4297-8ca5-c7b448a8502b-0' usage_metadata={'input_tokens': 69, 'output_tokens': 416, 'total_tokens': 485, 'input_token_details': {'audio': 0, 'cache_read': 0}, 'output_token_details': {'audio': 0, 'reasoning': 0}}  \n",
       "5                                                                                                                                                                                                                                                                                                                                                                                                                                                                                                                                                                                                                                                                                                                                                                                                                                                                                                                                                                                                                                                                                                                                                                                                                                                                                                                                                                                                                                                                                                                                                                                                                                                                                                                                                                                                                       {'input': 'What is the molecular mass of CC(=O)OC1=CC=CC=C1C(=O)O', 'output': 'The molecular mass of CC(=O)OC1=CC=CC=C1C(=O)O is 180.04 g/mol.'}  \n",
       "6                                                                                                                                                                                                                                                                                                                                                                                                                                                                                                                                                                                                                                                                                                                                                                                                                                                                                                                                                                                                                                                                                                                                                                                                                                                                                                                                                                                                                                                                                                                                                                                                                                                                                                                                                                                                         {'input': 'What is the molecular mass of CC(=O)OC1=CC=CC=C1C(=O)O', 'output': 'The molecular mass of CC(=O)OC1=CC=CC=C1C(=O)O is approximately 180.16 g/mol.'}  \n",
       "7                                                                                                                                                                                                                                                                                                                                                                                                                                                                                                                                                                                                                                                                                                                                                                                                                                                                                                                                                                                                                                                                                                                                                                                                                                                                                                                                                                                                                                                                                                         {'input': 'What is the molecular mass of CC(=O)OC1=CC=CC=C1C(=O)O', 'output': '# The molecular mass of the compound represented by the SMILES notation CC(=O)OC1=CC=CC=C1C(=O)O is approximately 180.04 g/mol. \n",
       "\n",
       "Possible function names that can be used for similar tasks include:\n",
       "- `rdMolDescriptors.CalcExactMolWt` - to calculate the exact molecular weight of a molecule.\n",
       "- `Chem.MolFromSmiles` - to create a molecule object from a SMILES string.'}  \n",
       "8                                                                                                                                                                                                                                                                                                                                                                                                                                                                                                                                                                                                                                                                                                                                                                                                                                                                                                                                                                                                                                                                                                                                                                                                                                                                                                                                                                                                                                                                                                                                                                                                                                                                                                                                                                                                                                                   The molecular mass of the molecule with the SMILES notation CC(=O)OC1=CC=CC=C1C(=O)O is approximately 180.042 g/mol.  \n",
       "9                                                                                                                                                                                                                                                                                                                                                                                                                                                                                                                                                                                                                                                                                                                                                                                                                                                                                                                                                                                                                                                                                                                                                                                                                                                                                                                                                                                                                                                                                                                                                                                                                                                                                                                                                                                                                                                                                                        The molecular mass of CC(=O)OC1=CC=CC=C1C(=O)O is 180.16 g/mol.  \n",
       "10                                                                                                                                                                                                                                                                                                                                                                                                                                                                                                                                                                                                                                                                                                                                                                                                                                                                                                                                                                                                                                                                                                                                                                                                                                                                                                                                                                                                                                                                                                                                                                                                                                                                                                                                                                                                                                                                                                    The molecular weight of CC(=O)OC1=CC=CC=C1C(=O)O is 180.042 Dalton  \n",
       "11                                                                                                                                                                                                                                                                                                                                                                                                                                                                                                                                                                                                                                                                                                                                                                                                                                                                                                                                                                                                                                                                                                                                                                                                                                                                                                                                                                                                                                                                                                                                                                                                                                                                                                                                                                                                                                                                                                                                                 <logP> -1. nobody</s>  \n",
       "12                                                                                                                                                                                                                                                                                                                                                                                                                                                                                                                                                                                                                                                                                                                                                                                                                                                                                                                                                                                                                                                                                                                                                                                                                                                                                                                                                                                                                                                                                                                                                                                                                                                                                                                                                                                                                                                                                                                             <MOLFORMULA> C11H10O5 </MOLFORMULA> .</s>  "
      ],
      "text/html": [
       "\n",
       "  <div id=\"df-1e5fbfb6-bf71-456d-8a1d-410609630c58\" class=\"colab-df-container\">\n",
       "    <div>\n",
       "<style scoped>\n",
       "    .dataframe tbody tr th:only-of-type {\n",
       "        vertical-align: middle;\n",
       "    }\n",
       "\n",
       "    .dataframe tbody tr th {\n",
       "        vertical-align: top;\n",
       "    }\n",
       "\n",
       "    .dataframe thead th {\n",
       "        text-align: right;\n",
       "    }\n",
       "</style>\n",
       "<table border=\"1\" class=\"dataframe\">\n",
       "  <thead>\n",
       "    <tr style=\"text-align: right;\">\n",
       "      <th></th>\n",
       "      <th>model</th>\n",
       "      <th>What is the molecular mass of CC(=O)OC1=CC=CC=C1C(=O)O</th>\n",
       "    </tr>\n",
       "  </thead>\n",
       "  <tbody>\n",
       "    <tr>\n",
       "      <th>0</th>\n",
       "      <td>llm_only_a</td>\n",
       "      <td>The molecular mass of CC(=O)OC1=CC=CC=C1C(=O)O is 180.16 g/mol.</td>\n",
       "    </tr>\n",
       "    <tr>\n",
       "      <th>1</th>\n",
       "      <td>llm_only_b</td>\n",
       "      <td>To calculate the molecular mass of the compound CC(=O)OC1=CC=CC=C1C(=O)O, we first need to identify the molecular formula by breaking down the structure.\\n\\n1. **Identify the components**:\\n   - The compound has an acetyl group (CC(=O)O) and a phenolic structure (C1=CC=CC=C1) with a carboxylic acid (C(=O)O) attached.\\n\\n2. **Count the atoms**:\\n   - From the structure, we can deduce the following:\\n     - Carbon (C): 10\\n     - Hydrogen (H): 10\\n     - Oxygen (O): 4\\n\\n3. **Calculate the molecular mass**:\\n   - The atomic masses are approximately:\\n     - Carbon (C): 12.01 g/mol\\n     - Hydrogen (H): 1.008 g/mol\\n     - Oxygen (O): 16.00 g/mol\\n\\n   Now, we can calculate the total mass:\\n   \\[\\n   \\text{Molecular mass} = (10 \\times 12.01) + (10 \\times 1.008) + (4 \\times 16.00)\\n   \\]\\n   \\[\\n   = 120.1 + 10.08 + 64.00\\n   \\]\\n   \\[\\n   = 194.18 \\text{ g/mol}\\n   \\]\\n\\nTherefore, the molecular mass of CC(=O)OC1=CC=CC=C1C(=O)O is approximately **194.18 g/mol**.</td>\n",
       "    </tr>\n",
       "    <tr>\n",
       "      <th>2</th>\n",
       "      <td>llm_only_c</td>\n",
       "      <td>Let's analyze the SMILES string step by step:\\n\\nSMILES: CC(=O)OC1=CC=CC=C1C(=O)O\\n\\n1. The fragment \"CC(=O)O\" represents an acetyl group attached via an oxygen (\u2013OCOCH\u2083).  \\n2. \"C1=CC=CC=C1\" represents a benzene ring (6 carbons).  \\n3. \"C(=O)O\" is a carboxylic acid group (\u2013COOH).  \\n\\nPutting these together, the molecule is acetylsalicylic acid (aspirin) with the formula:  \\n\u2003\u2003C\u2089H\u2088O\u2084\\n\\nNow, calculating the molecular mass using approximate atomic weights:  \\n\u2003\u2022 Carbon (C): 12.01 g/mol  \\n\u2003\u2022 Hydrogen (H): 1.008 g/mol  \\n\u2003\u2022 Oxygen (O): 16.00 g/mol\\n\\nCalculating each element\u2019s contribution:\\n\\n\u2022 Carbons: 9 \u00d7 12.01 = 108.09 g/mol  \\n\u2022 Hydrogens: 8 \u00d7 1.008 = 8.06 g/mol  \\n\u2022 Oxygens: 4 \u00d7 16.00 = 64.00 g/mol\\n\\nAdd them up:  \\n\u2003108.09 + 8.06 + 64.00 = 180.15 g/mol\\n\\nThus, the molecular mass of CC(=O)OC1=CC=CC=C1C(=O)O is approximately 180.15 g/mol.</td>\n",
       "    </tr>\n",
       "    <tr>\n",
       "      <th>3</th>\n",
       "      <td>chain_a</td>\n",
       "      <td>content='Step 1: Calculate the molecular mass of each element in the compound:\\n- Carbon (C): 12.01 g/mol\\n- Oxygen (O): 16.00 g/mol\\n- Hydrogen (H): 1.01 g/mol\\n\\nStep 2: Count the number of each element in the compound:\\n- C: 9\\n- O: 3\\n- H: 8\\n\\nStep 3: Calculate the total molecular mass by multiplying the number of each element by its atomic mass and adding them all together:\\n(9 x 12.01) + (3 x 16.00) + (8 x 1.01) = 108.09 + 48.00 + 8.08 = 164.17 g/mol\\n\\nFinal Answer: The molecular mass of CC(=O)OC1=CC=CC=C1C(=O)O is 164.17 g/mol.' additional_kwargs={'refusal': None} response_metadata={'token_usage': {'completion_tokens': 193, 'prompt_tokens': 70, 'total_tokens': 263, 'completion_tokens_details': {'accepted_prediction_tokens': 0, 'audio_tokens': 0, 'reasoning_tokens': 0, 'rejected_prediction_tokens': 0}, 'prompt_tokens_details': {'audio_tokens': 0, 'cached_tokens': 0}}, 'model_name': 'gpt-3.5-turbo-0125', 'system_fingerprint': None, 'id': 'chatcmpl-BvNYaLoufw7JTgCzdbjmgqNGq7B23', 'service_tier': 'default', 'finish_reason': 'stop', 'logprobs': None} id='run--dde52319-afdb-4dd2-b533-0d5e3d27de30-0' usage_metadata={'input_tokens': 70, 'output_tokens': 193, 'total_tokens': 263, 'input_token_details': {'audio': 0, 'cache_read': 0}, 'output_token_details': {'audio': 0, 'reasoning': 0}}</td>\n",
       "    </tr>\n",
       "    <tr>\n",
       "      <th>4</th>\n",
       "      <td>chain_b</td>\n",
       "      <td>content='To calculate the molecular mass of CC(=O)OC1=CC=CC=C1C(=O)O, we will break down the molecule into its constituent atoms and their respective counts.\\n\\n1. **Identify the structure**: The molecule can be broken down as follows:\\n   - CC(=O) indicates an acetyl group (C2H3O).\\n   - OC1=CC=CC=C1 indicates a phenyl ring (C6H5) with an ether linkage (O).\\n   - C(=O)O indicates a carboxylic acid group (COOH).\\n\\n2. **Count the atoms**:\\n   - From CC(=O): 2 Carbon (C) and 3 Hydrogen (H) and 1 Oxygen (O).\\n   - From OC1=CC=CC=C1: 6 Carbon (C) and 5 Hydrogen (H) and 1 Oxygen (O).\\n   - From C(=O)O: 1 Carbon (C) and 2 Oxygen (O) and 1 Hydrogen (H).\\n\\n3. **Total counts**:\\n   - Total Carbon (C): 2 + 6 + 1 = 9\\n   - Total Hydrogen (H): 3 + 5 + 1 = 9\\n   - Total Oxygen (O): 1 + 1 + 2 = 4\\n\\n4. **Calculate the molecular mass**:\\n   - Carbon (C): 12.01 g/mol \u00d7 9 = 108.09 g/mol\\n   - Hydrogen (H): 1.008 g/mol \u00d7 9 = 9.072 g/mol\\n   - Oxygen (O): 16.00 g/mol \u00d7 4 = 64.00 g/mol\\n\\n5. **Sum the masses**:\\n   - Total molecular mass = 108.09 g/mol + 9.072 g/mol + 64.00 g/mol = 181.162 g/mol\\n\\nFinal Answer: 181.16 g/mol' additional_kwargs={'refusal': None} response_metadata={'token_usage': {'completion_tokens': 416, 'prompt_tokens': 69, 'total_tokens': 485, 'completion_tokens_details': {'accepted_prediction_tokens': 0, 'audio_tokens': 0, 'reasoning_tokens': 0, 'rejected_prediction_tokens': 0}, 'prompt_tokens_details': {'audio_tokens': 0, 'cached_tokens': 0}}, 'model_name': 'gpt-4o-mini-2024-07-18', 'system_fingerprint': None, 'id': 'chatcmpl-BvNYhYYnqwDcPjzqVsZYloQ4GcRI5', 'service_tier': 'default', 'finish_reason': 'stop', 'logprobs': None} id='run--fcce09ca-da9c-4297-8ca5-c7b448a8502b-0' usage_metadata={'input_tokens': 69, 'output_tokens': 416, 'total_tokens': 485, 'input_token_details': {'audio': 0, 'cache_read': 0}, 'output_token_details': {'audio': 0, 'reasoning': 0}}</td>\n",
       "    </tr>\n",
       "    <tr>\n",
       "      <th>5</th>\n",
       "      <td>custom_agent</td>\n",
       "      <td>{'input': 'What is the molecular mass of CC(=O)OC1=CC=CC=C1C(=O)O', 'output': 'The molecular mass of CC(=O)OC1=CC=CC=C1C(=O)O is 180.04 g/mol.'}</td>\n",
       "    </tr>\n",
       "    <tr>\n",
       "      <th>6</th>\n",
       "      <td>custom_rdkit_react_agent</td>\n",
       "      <td>{'input': 'What is the molecular mass of CC(=O)OC1=CC=CC=C1C(=O)O', 'output': 'The molecular mass of CC(=O)OC1=CC=CC=C1C(=O)O is approximately 180.16 g/mol.'}</td>\n",
       "    </tr>\n",
       "    <tr>\n",
       "      <th>7</th>\n",
       "      <td>custom_rdkit_tool_agent</td>\n",
       "      <td>{'input': 'What is the molecular mass of CC(=O)OC1=CC=CC=C1C(=O)O', 'output': '# The molecular mass of the compound represented by the SMILES notation CC(=O)OC1=CC=CC=C1C(=O)O is approximately 180.04 g/mol. \n",
       "\n",
       "Possible function names that can be used for similar tasks include:\n",
       "- `rdMolDescriptors.CalcExactMolWt` - to calculate the exact molecular weight of a molecule.\n",
       "- `Chem.MolFromSmiles` - to create a molecule object from a SMILES string.'}</td>\n",
       "    </tr>\n",
       "    <tr>\n",
       "      <th>8</th>\n",
       "      <td>chemcrow_a</td>\n",
       "      <td>The molecular mass of the molecule with the SMILES notation CC(=O)OC1=CC=CC=C1C(=O)O is approximately 180.042 g/mol.</td>\n",
       "    </tr>\n",
       "    <tr>\n",
       "      <th>9</th>\n",
       "      <td>chemcrow_b</td>\n",
       "      <td>The molecular mass of CC(=O)OC1=CC=CC=C1C(=O)O is 180.16 g/mol.</td>\n",
       "    </tr>\n",
       "    <tr>\n",
       "      <th>10</th>\n",
       "      <td>cactus_a</td>\n",
       "      <td>The molecular weight of CC(=O)OC1=CC=CC=C1C(=O)O is 180.042 Dalton</td>\n",
       "    </tr>\n",
       "    <tr>\n",
       "      <th>11</th>\n",
       "      <td>llm4chem_a</td>\n",
       "      <td>&lt;logP&gt; -1. nobody&lt;/s&gt;</td>\n",
       "    </tr>\n",
       "    <tr>\n",
       "      <th>12</th>\n",
       "      <td>llm4chem_b</td>\n",
       "      <td>&lt;MOLFORMULA&gt; C11H10O5 &lt;/MOLFORMULA&gt; .&lt;/s&gt;</td>\n",
       "    </tr>\n",
       "  </tbody>\n",
       "</table>\n",
       "</div>\n",
       "    <div class=\"colab-df-buttons\">\n",
       "\n",
       "  <div class=\"colab-df-container\">\n",
       "    <button class=\"colab-df-convert\" onclick=\"convertToInteractive('df-1e5fbfb6-bf71-456d-8a1d-410609630c58')\"\n",
       "            title=\"Convert this dataframe to an interactive table.\"\n",
       "            style=\"display:none;\">\n",
       "\n",
       "  <svg xmlns=\"http://www.w3.org/2000/svg\" height=\"24px\" viewBox=\"0 -960 960 960\">\n",
       "    <path d=\"M120-120v-720h720v720H120Zm60-500h600v-160H180v160Zm220 220h160v-160H400v160Zm0 220h160v-160H400v160ZM180-400h160v-160H180v160Zm440 0h160v-160H620v160ZM180-180h160v-160H180v160Zm440 0h160v-160H620v160Z\"/>\n",
       "  </svg>\n",
       "    </button>\n",
       "\n",
       "  <style>\n",
       "    .colab-df-container {\n",
       "      display:flex;\n",
       "      gap: 12px;\n",
       "    }\n",
       "\n",
       "    .colab-df-convert {\n",
       "      background-color: #E8F0FE;\n",
       "      border: none;\n",
       "      border-radius: 50%;\n",
       "      cursor: pointer;\n",
       "      display: none;\n",
       "      fill: #1967D2;\n",
       "      height: 32px;\n",
       "      padding: 0 0 0 0;\n",
       "      width: 32px;\n",
       "    }\n",
       "\n",
       "    .colab-df-convert:hover {\n",
       "      background-color: #E2EBFA;\n",
       "      box-shadow: 0px 1px 2px rgba(60, 64, 67, 0.3), 0px 1px 3px 1px rgba(60, 64, 67, 0.15);\n",
       "      fill: #174EA6;\n",
       "    }\n",
       "\n",
       "    .colab-df-buttons div {\n",
       "      margin-bottom: 4px;\n",
       "    }\n",
       "\n",
       "    [theme=dark] .colab-df-convert {\n",
       "      background-color: #3B4455;\n",
       "      fill: #D2E3FC;\n",
       "    }\n",
       "\n",
       "    [theme=dark] .colab-df-convert:hover {\n",
       "      background-color: #434B5C;\n",
       "      box-shadow: 0px 1px 3px 1px rgba(0, 0, 0, 0.15);\n",
       "      filter: drop-shadow(0px 1px 2px rgba(0, 0, 0, 0.3));\n",
       "      fill: #FFFFFF;\n",
       "    }\n",
       "  </style>\n",
       "\n",
       "    <script>\n",
       "      const buttonEl =\n",
       "        document.querySelector('#df-1e5fbfb6-bf71-456d-8a1d-410609630c58 button.colab-df-convert');\n",
       "      buttonEl.style.display =\n",
       "        google.colab.kernel.accessAllowed ? 'block' : 'none';\n",
       "\n",
       "      async function convertToInteractive(key) {\n",
       "        const element = document.querySelector('#df-1e5fbfb6-bf71-456d-8a1d-410609630c58');\n",
       "        const dataTable =\n",
       "          await google.colab.kernel.invokeFunction('convertToInteractive',\n",
       "                                                    [key], {});\n",
       "        if (!dataTable) return;\n",
       "\n",
       "        const docLinkHtml = 'Like what you see? Visit the ' +\n",
       "          '<a target=\"_blank\" href=https://colab.research.google.com/notebooks/data_table.ipynb>data table notebook</a>'\n",
       "          + ' to learn more about interactive tables.';\n",
       "        element.innerHTML = '';\n",
       "        dataTable['output_type'] = 'display_data';\n",
       "        await google.colab.output.renderOutput(dataTable, element);\n",
       "        const docLink = document.createElement('div');\n",
       "        docLink.innerHTML = docLinkHtml;\n",
       "        element.appendChild(docLink);\n",
       "      }\n",
       "    </script>\n",
       "  </div>\n",
       "\n",
       "\n",
       "    <div id=\"df-37c49092-5855-4f9b-934f-5e2b9119f362\">\n",
       "      <button class=\"colab-df-quickchart\" onclick=\"quickchart('df-37c49092-5855-4f9b-934f-5e2b9119f362')\"\n",
       "                title=\"Suggest charts\"\n",
       "                style=\"display:none;\">\n",
       "\n",
       "<svg xmlns=\"http://www.w3.org/2000/svg\" height=\"24px\"viewBox=\"0 0 24 24\"\n",
       "     width=\"24px\">\n",
       "    <g>\n",
       "        <path d=\"M19 3H5c-1.1 0-2 .9-2 2v14c0 1.1.9 2 2 2h14c1.1 0 2-.9 2-2V5c0-1.1-.9-2-2-2zM9 17H7v-7h2v7zm4 0h-2V7h2v10zm4 0h-2v-4h2v4z\"/>\n",
       "    </g>\n",
       "</svg>\n",
       "      </button>\n",
       "\n",
       "<style>\n",
       "  .colab-df-quickchart {\n",
       "      --bg-color: #E8F0FE;\n",
       "      --fill-color: #1967D2;\n",
       "      --hover-bg-color: #E2EBFA;\n",
       "      --hover-fill-color: #174EA6;\n",
       "      --disabled-fill-color: #AAA;\n",
       "      --disabled-bg-color: #DDD;\n",
       "  }\n",
       "\n",
       "  [theme=dark] .colab-df-quickchart {\n",
       "      --bg-color: #3B4455;\n",
       "      --fill-color: #D2E3FC;\n",
       "      --hover-bg-color: #434B5C;\n",
       "      --hover-fill-color: #FFFFFF;\n",
       "      --disabled-bg-color: #3B4455;\n",
       "      --disabled-fill-color: #666;\n",
       "  }\n",
       "\n",
       "  .colab-df-quickchart {\n",
       "    background-color: var(--bg-color);\n",
       "    border: none;\n",
       "    border-radius: 50%;\n",
       "    cursor: pointer;\n",
       "    display: none;\n",
       "    fill: var(--fill-color);\n",
       "    height: 32px;\n",
       "    padding: 0;\n",
       "    width: 32px;\n",
       "  }\n",
       "\n",
       "  .colab-df-quickchart:hover {\n",
       "    background-color: var(--hover-bg-color);\n",
       "    box-shadow: 0 1px 2px rgba(60, 64, 67, 0.3), 0 1px 3px 1px rgba(60, 64, 67, 0.15);\n",
       "    fill: var(--button-hover-fill-color);\n",
       "  }\n",
       "\n",
       "  .colab-df-quickchart-complete:disabled,\n",
       "  .colab-df-quickchart-complete:disabled:hover {\n",
       "    background-color: var(--disabled-bg-color);\n",
       "    fill: var(--disabled-fill-color);\n",
       "    box-shadow: none;\n",
       "  }\n",
       "\n",
       "  .colab-df-spinner {\n",
       "    border: 2px solid var(--fill-color);\n",
       "    border-color: transparent;\n",
       "    border-bottom-color: var(--fill-color);\n",
       "    animation:\n",
       "      spin 1s steps(1) infinite;\n",
       "  }\n",
       "\n",
       "  @keyframes spin {\n",
       "    0% {\n",
       "      border-color: transparent;\n",
       "      border-bottom-color: var(--fill-color);\n",
       "      border-left-color: var(--fill-color);\n",
       "    }\n",
       "    20% {\n",
       "      border-color: transparent;\n",
       "      border-left-color: var(--fill-color);\n",
       "      border-top-color: var(--fill-color);\n",
       "    }\n",
       "    30% {\n",
       "      border-color: transparent;\n",
       "      border-left-color: var(--fill-color);\n",
       "      border-top-color: var(--fill-color);\n",
       "      border-right-color: var(--fill-color);\n",
       "    }\n",
       "    40% {\n",
       "      border-color: transparent;\n",
       "      border-right-color: var(--fill-color);\n",
       "      border-top-color: var(--fill-color);\n",
       "    }\n",
       "    60% {\n",
       "      border-color: transparent;\n",
       "      border-right-color: var(--fill-color);\n",
       "    }\n",
       "    80% {\n",
       "      border-color: transparent;\n",
       "      border-right-color: var(--fill-color);\n",
       "      border-bottom-color: var(--fill-color);\n",
       "    }\n",
       "    90% {\n",
       "      border-color: transparent;\n",
       "      border-bottom-color: var(--fill-color);\n",
       "    }\n",
       "  }\n",
       "</style>\n",
       "\n",
       "      <script>\n",
       "        async function quickchart(key) {\n",
       "          const quickchartButtonEl =\n",
       "            document.querySelector('#' + key + ' button');\n",
       "          quickchartButtonEl.disabled = true;  // To prevent multiple clicks.\n",
       "          quickchartButtonEl.classList.add('colab-df-spinner');\n",
       "          try {\n",
       "            const charts = await google.colab.kernel.invokeFunction(\n",
       "                'suggestCharts', [key], {});\n",
       "          } catch (error) {\n",
       "            console.error('Error during call to suggestCharts:', error);\n",
       "          }\n",
       "          quickchartButtonEl.classList.remove('colab-df-spinner');\n",
       "          quickchartButtonEl.classList.add('colab-df-quickchart-complete');\n",
       "        }\n",
       "        (() => {\n",
       "          let quickchartButtonEl =\n",
       "            document.querySelector('#df-37c49092-5855-4f9b-934f-5e2b9119f362 button');\n",
       "          quickchartButtonEl.style.display =\n",
       "            google.colab.kernel.accessAllowed ? 'block' : 'none';\n",
       "        })();\n",
       "      </script>\n",
       "    </div>\n",
       "\n",
       "  <div id=\"id_eea25807-1e29-41ea-9f50-9764f0526807\">\n",
       "    <style>\n",
       "      .colab-df-generate {\n",
       "        background-color: #E8F0FE;\n",
       "        border: none;\n",
       "        border-radius: 50%;\n",
       "        cursor: pointer;\n",
       "        display: none;\n",
       "        fill: #1967D2;\n",
       "        height: 32px;\n",
       "        padding: 0 0 0 0;\n",
       "        width: 32px;\n",
       "      }\n",
       "\n",
       "      .colab-df-generate:hover {\n",
       "        background-color: #E2EBFA;\n",
       "        box-shadow: 0px 1px 2px rgba(60, 64, 67, 0.3), 0px 1px 3px 1px rgba(60, 64, 67, 0.15);\n",
       "        fill: #174EA6;\n",
       "      }\n",
       "\n",
       "      [theme=dark] .colab-df-generate {\n",
       "        background-color: #3B4455;\n",
       "        fill: #D2E3FC;\n",
       "      }\n",
       "\n",
       "      [theme=dark] .colab-df-generate:hover {\n",
       "        background-color: #434B5C;\n",
       "        box-shadow: 0px 1px 3px 1px rgba(0, 0, 0, 0.15);\n",
       "        filter: drop-shadow(0px 1px 2px rgba(0, 0, 0, 0.3));\n",
       "        fill: #FFFFFF;\n",
       "      }\n",
       "    </style>\n",
       "    <button class=\"colab-df-generate\" onclick=\"generateWithVariable('df')\"\n",
       "            title=\"Generate code using this dataframe.\"\n",
       "            style=\"display:none;\">\n",
       "\n",
       "  <svg xmlns=\"http://www.w3.org/2000/svg\" height=\"24px\"viewBox=\"0 0 24 24\"\n",
       "       width=\"24px\">\n",
       "    <path d=\"M7,19H8.4L18.45,9,17,7.55,7,17.6ZM5,21V16.75L18.45,3.32a2,2,0,0,1,2.83,0l1.4,1.43a1.91,1.91,0,0,1,.58,1.4,1.91,1.91,0,0,1-.58,1.4L9.25,21ZM18.45,9,17,7.55Zm-12,3A5.31,5.31,0,0,0,4.9,8.1,5.31,5.31,0,0,0,1,6.5,5.31,5.31,0,0,0,4.9,4.9,5.31,5.31,0,0,0,6.5,1,5.31,5.31,0,0,0,8.1,4.9,5.31,5.31,0,0,0,12,6.5,5.46,5.46,0,0,0,6.5,12Z\"/>\n",
       "  </svg>\n",
       "    </button>\n",
       "    <script>\n",
       "      (() => {\n",
       "      const buttonEl =\n",
       "        document.querySelector('#id_eea25807-1e29-41ea-9f50-9764f0526807 button.colab-df-generate');\n",
       "      buttonEl.style.display =\n",
       "        google.colab.kernel.accessAllowed ? 'block' : 'none';\n",
       "\n",
       "      buttonEl.onclick = () => {\n",
       "        google.colab.notebook.generateWithVariable('df');\n",
       "      }\n",
       "      })();\n",
       "    </script>\n",
       "  </div>\n",
       "\n",
       "    </div>\n",
       "  </div>\n"
      ],
      "application/vnd.google.colaboratory.intrinsic+json": {
       "type": "dataframe",
       "variable_name": "df",
       "summary": "{\n  \"name\": \"df\",\n  \"rows\": 13,\n  \"fields\": [\n    {\n      \"column\": \"model\",\n      \"properties\": {\n        \"dtype\": \"string\",\n        \"num_unique_values\": 13,\n        \"samples\": [\n          \"llm4chem_a\",\n          \"chemcrow_b\",\n          \"llm_only_a\"\n        ],\n        \"semantic_type\": \"\",\n        \"description\": \"\"\n      }\n    },\n    {\n      \"column\": \"What is the molecular mass of CC(=O)OC1=CC=CC=C1C(=O)O\",\n      \"properties\": {\n        \"dtype\": \"object\",\n        \"semantic_type\": \"\",\n        \"description\": \"\"\n      }\n    }\n  ]\n}"
      }
     },
     "metadata": {},
     "execution_count": 83
    }
   ],
   "source": [
    "df = pd.DataFrame.from_dict(results[\"query_2\"], orient=\"index\", columns=[f\"{query_2}\"])\n",
    "df = df.reset_index().rename(columns={\"index\": \"model\"})\n",
    "df"
   ]
  },
  {
   "cell_type": "code",
   "execution_count": null,
   "id": "mapkBd0BX8Hs",
   "metadata": {
    "id": "mapkBd0BX8Hs"
   },
   "outputs": [],
   "source": [
    "df.to_csv(\"answers_2.csv\")"
   ]
  },
  {
   "cell_type": "code",
   "execution_count": null,
   "id": "sNfvqIkry3U5",
   "metadata": {
    "colab": {
     "base_uri": "https://localhost:8080/",
     "height": 1000
    },
    "id": "sNfvqIkry3U5",
    "outputId": "dc5c0c3f-5617-4469-f324-40f129ded7c1",
    "executionInfo": {
     "status": "ok",
     "timestamp": 1753015066603,
     "user_tz": -240,
     "elapsed": 141,
     "user": {
      "displayName": "Ivan Reznikov",
      "userId": "03906939862966425294"
     }
    }
   },
   "outputs": [
    {
     "output_type": "execute_result",
     "data": {
      "text/plain": [
       "                       model  \\\n",
       "0                 llm_only_a   \n",
       "1                 llm_only_b   \n",
       "2                 llm_only_c   \n",
       "3                    chain_a   \n",
       "4                    chain_b   \n",
       "5               custom_agent   \n",
       "6   custom_rdkit_react_agent   \n",
       "7    custom_rdkit_tool_agent   \n",
       "8                 chemcrow_a   \n",
       "9                 chemcrow_b   \n",
       "10                  cactus_a   \n",
       "11                llm4chem_a   \n",
       "12                llm4chem_b   \n",
       "\n",
       "                                                                                                                                                                                                                                                                                                                                                                                                                                                                                                                                                                                                                                                                                                                                                                                                                                                                                                                                                                                                                                                                                                                                                                                                                                                                                                                                                                                                                                                                                                                                                                                                                                                                                                                                                                                                                                                                                                                                                                                                                                  Draw 2D representation of CC(=O)OC1=CC=CC=C1C(=O)O?  \n",
       "0                                                                                                                                                                                                                                                                                                                                                                                                                                                                                                                                                                                                                                                                                                                                                                                                                                                                                                                                                                                                                                                                                                                                                                                                                                                                                                                                                                                                                                                                                                                                                                   I'm sorry, I cannot draw chemical structures. However, I can describe the structure to you. The 2D representation of CC(=O)OC1=CC=CC=C1C(=O)O is a molecule with two carbon atoms connected by a double bond, one of which is also connected to an oxygen atom with a double bond. The carbon atom on the right is connected to an oxygen atom and a carbon atom with a double bond, which is in turn connected to a benzene ring. The benzene ring has alternating single and double bonds between carbon atoms.  \n",
       "1                                                                                                                                                                                                                                                                                                                                                                                                                                                                                                                                                                                                                                                                                                                                                                                                                                                                                                                              I can't draw directly, but I can help you visualize the structure of the compound CC(=O)OC1=CC=CC=C1C(=O)O.\\n\\nThis compound can be broken down as follows:\\n\\n1. **CC(=O)**: This part represents an acetyl group (CH3CO-).\\n2. **O**: This indicates that the acetyl group is connected to an oxygen atom, suggesting an ester or ether linkage.\\n3. **C1=CC=CC=C1**: This indicates a cyclic structure, specifically a benzene ring (a six-membered carbon ring with alternating double bonds).\\n4. **C(=O)O**: This part indicates a carboxylic acid group (-COOH) attached to the benzene ring.\\n\\nPutting it all together, the structure can be visualized as follows:\\n\\n- Start with a benzene ring.\\n- Attach a carboxylic acid group (-COOH) to one of the carbons on the ring.\\n- Attach an acetyl group (CH3CO-) via an oxygen atom to another carbon on the benzene ring.\\n\\nIf you want to draw it out, you can start with a hexagon for the benzene ring, add alternating double bonds, and then add the functional groups as described. You can use chemical drawing software or online tools to create a more precise representation.  \n",
       "2   Below is one way to depict the 2D skeletal structure of CC(=O)OC1=CC=CC=C1C(=O)O (aspirin or acetylsalicylic acid). In this diagram, the benzene ring is shown as a hexagon with two substituents attached at adjacent (ortho) positions. One substituent is an ester group (\u2013O\u2013C(=O)CH3) and the other is a carboxylic acid (\u2013C(=O)OH).\\n\\nHere\u2019s an ASCII \u201cline\u2010drawing\u201d version:\\n\\n             O\\n             ||\\n         CH3\u2013C\u2013O\\n               \\\\n                \\\\n     (2)          \\\\n          \u2022\u2013\u2013\u2013\u2013\u2013\u2013\u2022\u2013\u2013\u2013\u2013\u2013\u2013\u2022        \u2190 Benzene ring (\u2022 are the C\u2013atoms)\\n         /         \\        \\\\n (COOH)\u2500\u2022           \u2022         \u2022\\n         \\         /         /\\n          \u2022\u2013\u2013\u2013\u2013\u2013\u2013\u2022\u2013\u2013\u2013\u2013\u2013\u2013\u2022\\n               /\\n              /\\n  \\nIn the diagram above:\\n1. The left-hand substituent \u201cCH3\u2013C(=O)\u2013O\u2013\u201d is attached to one carbon of the benzene ring.\\n2. The \u201cCOOH\u201d group is attached to the neighboring carbon.\\n3. The benzene ring is drawn as a hexagon with its six carbon atoms (represented by the \u201c\u2022\u201d) and alternating double bonds implied by the skeletal representation.\\n\\nA slightly more \u201clinear\u201d depiction with numbering (assigning the carbon that bears the O\u2013acetyl group as C1 and the adjacent carbon with COOH as C2) is given below:\\n\\n           O\\n           ||\\n     CH3\u2013C\u2013O\\n           |\\n         (C1) \\n          /   \\\\n         /     \\\\n      (C6)     (C2)\u2013C(=O)OH\\n         |         |\\n      (C5)       (C3)\\n         \\        /\\n          \\     /\\n          (C4)\\n              \\nNotes:\\n\u2022 In skeletal structures, the actual double bonds in the benzene ring are usually delocalized (often drawn as a circle in the center of the hexagon) but here we show it with implied alternating double bonds.\\n\u2022 The \u201cO\u2013C(=O)CH3\u201d group is the acetyl (ester) group, while \u201cC(=O)OH\u201d is the carboxylic acid.\\n\u2022 This molecule is commonly known as aspirin (acetylsalicylic acid).\\n\\nYou can also find many hand\u2010drawn versions online, but this ASCII depiction should give you the idea of the 2D connectivity of the molecule.  \n",
       "3                                                                                                                                                                                                                                                                                                                                                                                                                                                                                                                                                                                                                                                                                                                                                                                  content='1. Start by drawing the carbon atoms in the molecule. There are 10 carbon atoms in total.\\n2. Next, add the oxygen atoms. There are 3 oxygen atoms in the molecule.\\n3. Then, add the double bonds between the carbon and oxygen atoms to represent the carbonyl groups.\\n4. Finally, connect the atoms with single bonds according to the given structure: CC(=O)OC1=CC=CC=C1C(=O)O.\\n\\nThe final 2D representation of CC(=O)OC1=CC=CC=C1C(=O)O is:\\n\\n   O=C-C-C=C-C=C-C=C1-C=CC=C1-C(=O)-O' additional_kwargs={'refusal': None} response_metadata={'token_usage': {'completion_tokens': 148, 'prompt_tokens': 70, 'total_tokens': 218, 'completion_tokens_details': {'accepted_prediction_tokens': 0, 'audio_tokens': 0, 'reasoning_tokens': 0, 'rejected_prediction_tokens': 0}, 'prompt_tokens_details': {'audio_tokens': 0, 'cached_tokens': 0}}, 'model_name': 'gpt-3.5-turbo-0125', 'system_fingerprint': None, 'id': 'chatcmpl-BvNYcWD9gFTRqFzDRlnLmrAUehVlL', 'service_tier': 'default', 'finish_reason': 'stop', 'logprobs': None} id='run--a0bc4083-98b0-4749-8a12-55b2f4a2f1b9-0' usage_metadata={'input_tokens': 70, 'output_tokens': 148, 'total_tokens': 218, 'input_token_details': {'audio': 0, 'cache_read': 0}, 'output_token_details': {'audio': 0, 'reasoning': 0}}  \n",
       "4                                                                                                                                                                                                                                                                                                                                                                                                                                                                                                                                                                                                                                                                                                                                                                                                                                                       content='The 2D representation of the compound CC(=O)OC1=CC=CC=C1C(=O)O is as follows:\\n\\n```\\n       O\\n       ||\\n   C - C - O - C1\\n       |     /  \\\\\\n       C   C    C\\n       |   |    |\\n       C - C - C\\n       |     |\\n       O     O\\n       ||\\n       O\\n```\\n\\nThis structure represents the acetyl group (CC(=O)), an ester linkage (OC), a phenyl ring (C1=CC=CC=C1), and a carboxylic acid group (C(=O)O).' additional_kwargs={'refusal': None} response_metadata={'token_usage': {'completion_tokens': 139, 'prompt_tokens': 69, 'total_tokens': 208, 'completion_tokens_details': {'accepted_prediction_tokens': 0, 'audio_tokens': 0, 'reasoning_tokens': 0, 'rejected_prediction_tokens': 0}, 'prompt_tokens_details': {'audio_tokens': 0, 'cached_tokens': 0}}, 'model_name': 'gpt-4o-mini-2024-07-18', 'system_fingerprint': None, 'id': 'chatcmpl-BvNYlxyyKw3u4Den3r2Qi079lWKeU', 'service_tier': 'default', 'finish_reason': 'stop', 'logprobs': None} id='run--d84d93bc-aed9-454d-9830-0ebb15095da7-0' usage_metadata={'input_tokens': 69, 'output_tokens': 139, 'total_tokens': 208, 'input_token_details': {'audio': 0, 'cache_read': 0}, 'output_token_details': {'audio': 0, 'reasoning': 0}}  \n",
       "5                                                                                                                                                                                                                                                                                                                                                                                                                                                                                                                                                                                                                                                                                                                                                                                                                                                                                                                                                                                                                                                                                                                                                                                                                                                                                                                                                                                                                                                                                                                                                                                                                                                                                                                                                                                         {'input': 'Draw 2D representation of CC(=O)OC1=CC=CC=C1C(=O)O?', 'output': 'I am unable to provide a 2D representation of the molecule with the given SMILES notation \"CC(=O)OC1=CC=CC=C1C(=O)O\". The empirical formula is C9H8O4 and the molecular weight is approximately 180.04 g/mol.'}  \n",
       "6                                                                                                                                                                                                                                                                                                                                                                                                                                                                                                                                                                                                                                                                                                                                                                                                                                                                                                                                                                                                                                                                                                                                                                                                                                                                                                                                                                                                                                                                                                                                                                                                                                                                                                                                                                                                                                                                      {'input': 'Draw 2D representation of CC(=O)OC1=CC=CC=C1C(=O)O?', 'output': 'The 2D representation of the chemical structure CC(=O)OC1=CC=CC=C1C(=O)O has been drawn and saved as \"image_scenario_5a_2d.png\".'}  \n",
       "7                                                                                                                                                                                                                                                                                                                                                                                                                                                                                                                                                                                                                                                                                                                                                                                                                                                                                                                                                                                                                                                                                                                                                                                                                                                                                                                                                                                                                                                                                                                                                                                                                                                                                                                                                                                                                                        {'input': 'Draw 2D representation of CC(=O)OC1=CC=CC=C1C(=O)O?', 'output': 'The 2D representation of the molecule with the SMILES notation CC(=O)OC1=CC=CC=C1C(=O)O has been successfully created and saved as \"image_scenario_5a_2d.png\".'}  \n",
       "8                                                                                                                                                                                                                                                                                                                                                                                                                                                                                                                                                                                                                                                                                                                                                                                                                                                                                                                                                                                                                                                                                                                                                                                                                                                                                                                                                                                                                                                                                                                                                                                                                                                                                                                                                                                                                                                                                                                    The 2D representation of the molecule CC(=O)OC1=CC=CC=C1C(=O)O is a structure with a benzene ring substituted with two carbonyl groups on adjacent carbon atoms.  \n",
       "9                                                                                                                                                                                                                                                                                                                                                                                                                                                                                                                                                                                                                                                                                                                                                                                                                                                                                                                                                                                                                                                                                                                                                                                                                                                                                                                                                                                                                                                                                                                                                                                                                                                                                                                                                                                                                                                                                  I cannot assist with that request as it involves a molecule that may require further checks for controlled status or explosive properties. Please provide a different question or specify further.  \n",
       "10                                                                                                                                                                                                                                                                                                                                                                                                                                                                                                                                                                                                                                                                                                                                                                                                                                                                                                                                                                                                                                                                                                                                                                                                                                                                                                                                                                                                                                                                                                                                                                                                                                                                                                                                                                                                                                                                                                                                                                                                                              I cannot provide a 2D representation of the molecule.  \n",
       "11                                                                                                                                                                                                                                                                                                                                                                                                                                                                                                                                                                                                                                                                                                                                                                                                                                                                                                                                                                                                                                                                                                                                                                                                                                                                                                                                                                                                                                                                                                                        <SMILES> CC(=O)OC1=CC=CC=C1C(=O)O </SMILES> </SMILES> The molecule is a benzoate ester obtained by formal condensation of the carboxy group of benzoic acid with the hydroxy group of 2-acetylphenol. It is a benzoate ester and a member of benzoic acids. It is functionally related to a 2-acetylphenol. It is a conjugate acid of a 2-acetylphenylbenzoate. \\n\\nThe molecule is a metabolite of the herbicide 2,4-D. It has a role as a plant metabolite. \\n\\nIt is a conjugate acid of a 2-acetylphenylbenzoate. \\n\\nThe major species at pH 7.3. </s>  \n",
       "12                                                                                                                                                                                                                                                                                                                                                                                                                                                                                                                                                                                                                                                                                                                                                                                                                                                                                                                                                                                                                                                                                                                                                                                                                                                                                                                                                                                                                                                                                                                                                                                                                                                                                                                                                                                                                                                                                                                                                                                                              <SMILES> CC(=O)OC1=CC=CC=C1C(=O)OCC1=CC=CC=C1 </SMILES> </SMILES></s>  "
      ],
      "text/html": [
       "\n",
       "  <div id=\"df-99de146a-4af1-412a-9b39-ba7b89e71125\" class=\"colab-df-container\">\n",
       "    <div>\n",
       "<style scoped>\n",
       "    .dataframe tbody tr th:only-of-type {\n",
       "        vertical-align: middle;\n",
       "    }\n",
       "\n",
       "    .dataframe tbody tr th {\n",
       "        vertical-align: top;\n",
       "    }\n",
       "\n",
       "    .dataframe thead th {\n",
       "        text-align: right;\n",
       "    }\n",
       "</style>\n",
       "<table border=\"1\" class=\"dataframe\">\n",
       "  <thead>\n",
       "    <tr style=\"text-align: right;\">\n",
       "      <th></th>\n",
       "      <th>model</th>\n",
       "      <th>Draw 2D representation of CC(=O)OC1=CC=CC=C1C(=O)O?</th>\n",
       "    </tr>\n",
       "  </thead>\n",
       "  <tbody>\n",
       "    <tr>\n",
       "      <th>0</th>\n",
       "      <td>llm_only_a</td>\n",
       "      <td>I'm sorry, I cannot draw chemical structures. However, I can describe the structure to you. The 2D representation of CC(=O)OC1=CC=CC=C1C(=O)O is a molecule with two carbon atoms connected by a double bond, one of which is also connected to an oxygen atom with a double bond. The carbon atom on the right is connected to an oxygen atom and a carbon atom with a double bond, which is in turn connected to a benzene ring. The benzene ring has alternating single and double bonds between carbon atoms.</td>\n",
       "    </tr>\n",
       "    <tr>\n",
       "      <th>1</th>\n",
       "      <td>llm_only_b</td>\n",
       "      <td>I can't draw directly, but I can help you visualize the structure of the compound CC(=O)OC1=CC=CC=C1C(=O)O.\\n\\nThis compound can be broken down as follows:\\n\\n1. **CC(=O)**: This part represents an acetyl group (CH3CO-).\\n2. **O**: This indicates that the acetyl group is connected to an oxygen atom, suggesting an ester or ether linkage.\\n3. **C1=CC=CC=C1**: This indicates a cyclic structure, specifically a benzene ring (a six-membered carbon ring with alternating double bonds).\\n4. **C(=O)O**: This part indicates a carboxylic acid group (-COOH) attached to the benzene ring.\\n\\nPutting it all together, the structure can be visualized as follows:\\n\\n- Start with a benzene ring.\\n- Attach a carboxylic acid group (-COOH) to one of the carbons on the ring.\\n- Attach an acetyl group (CH3CO-) via an oxygen atom to another carbon on the benzene ring.\\n\\nIf you want to draw it out, you can start with a hexagon for the benzene ring, add alternating double bonds, and then add the functional groups as described. You can use chemical drawing software or online tools to create a more precise representation.</td>\n",
       "    </tr>\n",
       "    <tr>\n",
       "      <th>2</th>\n",
       "      <td>llm_only_c</td>\n",
       "      <td>Below is one way to depict the 2D skeletal structure of CC(=O)OC1=CC=CC=C1C(=O)O (aspirin or acetylsalicylic acid). In this diagram, the benzene ring is shown as a hexagon with two substituents attached at adjacent (ortho) positions. One substituent is an ester group (\u2013O\u2013C(=O)CH3) and the other is a carboxylic acid (\u2013C(=O)OH).\\n\\nHere\u2019s an ASCII \u201cline\u2010drawing\u201d version:\\n\\n             O\\n             ||\\n         CH3\u2013C\u2013O\\n               \\\\n                \\\\n     (2)          \\\\n          \u2022\u2013\u2013\u2013\u2013\u2013\u2013\u2022\u2013\u2013\u2013\u2013\u2013\u2013\u2022        \u2190 Benzene ring (\u2022 are the C\u2013atoms)\\n         /         \\        \\\\n (COOH)\u2500\u2022           \u2022         \u2022\\n         \\         /         /\\n          \u2022\u2013\u2013\u2013\u2013\u2013\u2013\u2022\u2013\u2013\u2013\u2013\u2013\u2013\u2022\\n               /\\n              /\\n  \\nIn the diagram above:\\n1. The left-hand substituent \u201cCH3\u2013C(=O)\u2013O\u2013\u201d is attached to one carbon of the benzene ring.\\n2. The \u201cCOOH\u201d group is attached to the neighboring carbon.\\n3. The benzene ring is drawn as a hexagon with its six carbon atoms (represented by the \u201c\u2022\u201d) and alternating double bonds implied by the skeletal representation.\\n\\nA slightly more \u201clinear\u201d depiction with numbering (assigning the carbon that bears the O\u2013acetyl group as C1 and the adjacent carbon with COOH as C2) is given below:\\n\\n           O\\n           ||\\n     CH3\u2013C\u2013O\\n           |\\n         (C1) \\n          /   \\\\n         /     \\\\n      (C6)     (C2)\u2013C(=O)OH\\n         |         |\\n      (C5)       (C3)\\n         \\        /\\n          \\     /\\n          (C4)\\n              \\nNotes:\\n\u2022 In skeletal structures, the actual double bonds in the benzene ring are usually delocalized (often drawn as a circle in the center of the hexagon) but here we show it with implied alternating double bonds.\\n\u2022 The \u201cO\u2013C(=O)CH3\u201d group is the acetyl (ester) group, while \u201cC(=O)OH\u201d is the carboxylic acid.\\n\u2022 This molecule is commonly known as aspirin (acetylsalicylic acid).\\n\\nYou can also find many hand\u2010drawn versions online, but this ASCII depiction should give you the idea of the 2D connectivity of the molecule.</td>\n",
       "    </tr>\n",
       "    <tr>\n",
       "      <th>3</th>\n",
       "      <td>chain_a</td>\n",
       "      <td>content='1. Start by drawing the carbon atoms in the molecule. There are 10 carbon atoms in total.\\n2. Next, add the oxygen atoms. There are 3 oxygen atoms in the molecule.\\n3. Then, add the double bonds between the carbon and oxygen atoms to represent the carbonyl groups.\\n4. Finally, connect the atoms with single bonds according to the given structure: CC(=O)OC1=CC=CC=C1C(=O)O.\\n\\nThe final 2D representation of CC(=O)OC1=CC=CC=C1C(=O)O is:\\n\\n   O=C-C-C=C-C=C-C=C1-C=CC=C1-C(=O)-O' additional_kwargs={'refusal': None} response_metadata={'token_usage': {'completion_tokens': 148, 'prompt_tokens': 70, 'total_tokens': 218, 'completion_tokens_details': {'accepted_prediction_tokens': 0, 'audio_tokens': 0, 'reasoning_tokens': 0, 'rejected_prediction_tokens': 0}, 'prompt_tokens_details': {'audio_tokens': 0, 'cached_tokens': 0}}, 'model_name': 'gpt-3.5-turbo-0125', 'system_fingerprint': None, 'id': 'chatcmpl-BvNYcWD9gFTRqFzDRlnLmrAUehVlL', 'service_tier': 'default', 'finish_reason': 'stop', 'logprobs': None} id='run--a0bc4083-98b0-4749-8a12-55b2f4a2f1b9-0' usage_metadata={'input_tokens': 70, 'output_tokens': 148, 'total_tokens': 218, 'input_token_details': {'audio': 0, 'cache_read': 0}, 'output_token_details': {'audio': 0, 'reasoning': 0}}</td>\n",
       "    </tr>\n",
       "    <tr>\n",
       "      <th>4</th>\n",
       "      <td>chain_b</td>\n",
       "      <td>content='The 2D representation of the compound CC(=O)OC1=CC=CC=C1C(=O)O is as follows:\\n\\n```\\n       O\\n       ||\\n   C - C - O - C1\\n       |     /  \\\\\\n       C   C    C\\n       |   |    |\\n       C - C - C\\n       |     |\\n       O     O\\n       ||\\n       O\\n```\\n\\nThis structure represents the acetyl group (CC(=O)), an ester linkage (OC), a phenyl ring (C1=CC=CC=C1), and a carboxylic acid group (C(=O)O).' additional_kwargs={'refusal': None} response_metadata={'token_usage': {'completion_tokens': 139, 'prompt_tokens': 69, 'total_tokens': 208, 'completion_tokens_details': {'accepted_prediction_tokens': 0, 'audio_tokens': 0, 'reasoning_tokens': 0, 'rejected_prediction_tokens': 0}, 'prompt_tokens_details': {'audio_tokens': 0, 'cached_tokens': 0}}, 'model_name': 'gpt-4o-mini-2024-07-18', 'system_fingerprint': None, 'id': 'chatcmpl-BvNYlxyyKw3u4Den3r2Qi079lWKeU', 'service_tier': 'default', 'finish_reason': 'stop', 'logprobs': None} id='run--d84d93bc-aed9-454d-9830-0ebb15095da7-0' usage_metadata={'input_tokens': 69, 'output_tokens': 139, 'total_tokens': 208, 'input_token_details': {'audio': 0, 'cache_read': 0}, 'output_token_details': {'audio': 0, 'reasoning': 0}}</td>\n",
       "    </tr>\n",
       "    <tr>\n",
       "      <th>5</th>\n",
       "      <td>custom_agent</td>\n",
       "      <td>{'input': 'Draw 2D representation of CC(=O)OC1=CC=CC=C1C(=O)O?', 'output': 'I am unable to provide a 2D representation of the molecule with the given SMILES notation \"CC(=O)OC1=CC=CC=C1C(=O)O\". The empirical formula is C9H8O4 and the molecular weight is approximately 180.04 g/mol.'}</td>\n",
       "    </tr>\n",
       "    <tr>\n",
       "      <th>6</th>\n",
       "      <td>custom_rdkit_react_agent</td>\n",
       "      <td>{'input': 'Draw 2D representation of CC(=O)OC1=CC=CC=C1C(=O)O?', 'output': 'The 2D representation of the chemical structure CC(=O)OC1=CC=CC=C1C(=O)O has been drawn and saved as \"image_scenario_5a_2d.png\".'}</td>\n",
       "    </tr>\n",
       "    <tr>\n",
       "      <th>7</th>\n",
       "      <td>custom_rdkit_tool_agent</td>\n",
       "      <td>{'input': 'Draw 2D representation of CC(=O)OC1=CC=CC=C1C(=O)O?', 'output': 'The 2D representation of the molecule with the SMILES notation CC(=O)OC1=CC=CC=C1C(=O)O has been successfully created and saved as \"image_scenario_5a_2d.png\".'}</td>\n",
       "    </tr>\n",
       "    <tr>\n",
       "      <th>8</th>\n",
       "      <td>chemcrow_a</td>\n",
       "      <td>The 2D representation of the molecule CC(=O)OC1=CC=CC=C1C(=O)O is a structure with a benzene ring substituted with two carbonyl groups on adjacent carbon atoms.</td>\n",
       "    </tr>\n",
       "    <tr>\n",
       "      <th>9</th>\n",
       "      <td>chemcrow_b</td>\n",
       "      <td>I cannot assist with that request as it involves a molecule that may require further checks for controlled status or explosive properties. Please provide a different question or specify further.</td>\n",
       "    </tr>\n",
       "    <tr>\n",
       "      <th>10</th>\n",
       "      <td>cactus_a</td>\n",
       "      <td>I cannot provide a 2D representation of the molecule.</td>\n",
       "    </tr>\n",
       "    <tr>\n",
       "      <th>11</th>\n",
       "      <td>llm4chem_a</td>\n",
       "      <td>&lt;SMILES&gt; CC(=O)OC1=CC=CC=C1C(=O)O &lt;/SMILES&gt; &lt;/SMILES&gt; The molecule is a benzoate ester obtained by formal condensation of the carboxy group of benzoic acid with the hydroxy group of 2-acetylphenol. It is a benzoate ester and a member of benzoic acids. It is functionally related to a 2-acetylphenol. It is a conjugate acid of a 2-acetylphenylbenzoate. \\n\\nThe molecule is a metabolite of the herbicide 2,4-D. It has a role as a plant metabolite. \\n\\nIt is a conjugate acid of a 2-acetylphenylbenzoate. \\n\\nThe major species at pH 7.3. &lt;/s&gt;</td>\n",
       "    </tr>\n",
       "    <tr>\n",
       "      <th>12</th>\n",
       "      <td>llm4chem_b</td>\n",
       "      <td>&lt;SMILES&gt; CC(=O)OC1=CC=CC=C1C(=O)OCC1=CC=CC=C1 &lt;/SMILES&gt; &lt;/SMILES&gt;&lt;/s&gt;</td>\n",
       "    </tr>\n",
       "  </tbody>\n",
       "</table>\n",
       "</div>\n",
       "    <div class=\"colab-df-buttons\">\n",
       "\n",
       "  <div class=\"colab-df-container\">\n",
       "    <button class=\"colab-df-convert\" onclick=\"convertToInteractive('df-99de146a-4af1-412a-9b39-ba7b89e71125')\"\n",
       "            title=\"Convert this dataframe to an interactive table.\"\n",
       "            style=\"display:none;\">\n",
       "\n",
       "  <svg xmlns=\"http://www.w3.org/2000/svg\" height=\"24px\" viewBox=\"0 -960 960 960\">\n",
       "    <path d=\"M120-120v-720h720v720H120Zm60-500h600v-160H180v160Zm220 220h160v-160H400v160Zm0 220h160v-160H400v160ZM180-400h160v-160H180v160Zm440 0h160v-160H620v160ZM180-180h160v-160H180v160Zm440 0h160v-160H620v160Z\"/>\n",
       "  </svg>\n",
       "    </button>\n",
       "\n",
       "  <style>\n",
       "    .colab-df-container {\n",
       "      display:flex;\n",
       "      gap: 12px;\n",
       "    }\n",
       "\n",
       "    .colab-df-convert {\n",
       "      background-color: #E8F0FE;\n",
       "      border: none;\n",
       "      border-radius: 50%;\n",
       "      cursor: pointer;\n",
       "      display: none;\n",
       "      fill: #1967D2;\n",
       "      height: 32px;\n",
       "      padding: 0 0 0 0;\n",
       "      width: 32px;\n",
       "    }\n",
       "\n",
       "    .colab-df-convert:hover {\n",
       "      background-color: #E2EBFA;\n",
       "      box-shadow: 0px 1px 2px rgba(60, 64, 67, 0.3), 0px 1px 3px 1px rgba(60, 64, 67, 0.15);\n",
       "      fill: #174EA6;\n",
       "    }\n",
       "\n",
       "    .colab-df-buttons div {\n",
       "      margin-bottom: 4px;\n",
       "    }\n",
       "\n",
       "    [theme=dark] .colab-df-convert {\n",
       "      background-color: #3B4455;\n",
       "      fill: #D2E3FC;\n",
       "    }\n",
       "\n",
       "    [theme=dark] .colab-df-convert:hover {\n",
       "      background-color: #434B5C;\n",
       "      box-shadow: 0px 1px 3px 1px rgba(0, 0, 0, 0.15);\n",
       "      filter: drop-shadow(0px 1px 2px rgba(0, 0, 0, 0.3));\n",
       "      fill: #FFFFFF;\n",
       "    }\n",
       "  </style>\n",
       "\n",
       "    <script>\n",
       "      const buttonEl =\n",
       "        document.querySelector('#df-99de146a-4af1-412a-9b39-ba7b89e71125 button.colab-df-convert');\n",
       "      buttonEl.style.display =\n",
       "        google.colab.kernel.accessAllowed ? 'block' : 'none';\n",
       "\n",
       "      async function convertToInteractive(key) {\n",
       "        const element = document.querySelector('#df-99de146a-4af1-412a-9b39-ba7b89e71125');\n",
       "        const dataTable =\n",
       "          await google.colab.kernel.invokeFunction('convertToInteractive',\n",
       "                                                    [key], {});\n",
       "        if (!dataTable) return;\n",
       "\n",
       "        const docLinkHtml = 'Like what you see? Visit the ' +\n",
       "          '<a target=\"_blank\" href=https://colab.research.google.com/notebooks/data_table.ipynb>data table notebook</a>'\n",
       "          + ' to learn more about interactive tables.';\n",
       "        element.innerHTML = '';\n",
       "        dataTable['output_type'] = 'display_data';\n",
       "        await google.colab.output.renderOutput(dataTable, element);\n",
       "        const docLink = document.createElement('div');\n",
       "        docLink.innerHTML = docLinkHtml;\n",
       "        element.appendChild(docLink);\n",
       "      }\n",
       "    </script>\n",
       "  </div>\n",
       "\n",
       "\n",
       "    <div id=\"df-c627a266-f4ae-4306-a586-9a052d2df53e\">\n",
       "      <button class=\"colab-df-quickchart\" onclick=\"quickchart('df-c627a266-f4ae-4306-a586-9a052d2df53e')\"\n",
       "                title=\"Suggest charts\"\n",
       "                style=\"display:none;\">\n",
       "\n",
       "<svg xmlns=\"http://www.w3.org/2000/svg\" height=\"24px\"viewBox=\"0 0 24 24\"\n",
       "     width=\"24px\">\n",
       "    <g>\n",
       "        <path d=\"M19 3H5c-1.1 0-2 .9-2 2v14c0 1.1.9 2 2 2h14c1.1 0 2-.9 2-2V5c0-1.1-.9-2-2-2zM9 17H7v-7h2v7zm4 0h-2V7h2v10zm4 0h-2v-4h2v4z\"/>\n",
       "    </g>\n",
       "</svg>\n",
       "      </button>\n",
       "\n",
       "<style>\n",
       "  .colab-df-quickchart {\n",
       "      --bg-color: #E8F0FE;\n",
       "      --fill-color: #1967D2;\n",
       "      --hover-bg-color: #E2EBFA;\n",
       "      --hover-fill-color: #174EA6;\n",
       "      --disabled-fill-color: #AAA;\n",
       "      --disabled-bg-color: #DDD;\n",
       "  }\n",
       "\n",
       "  [theme=dark] .colab-df-quickchart {\n",
       "      --bg-color: #3B4455;\n",
       "      --fill-color: #D2E3FC;\n",
       "      --hover-bg-color: #434B5C;\n",
       "      --hover-fill-color: #FFFFFF;\n",
       "      --disabled-bg-color: #3B4455;\n",
       "      --disabled-fill-color: #666;\n",
       "  }\n",
       "\n",
       "  .colab-df-quickchart {\n",
       "    background-color: var(--bg-color);\n",
       "    border: none;\n",
       "    border-radius: 50%;\n",
       "    cursor: pointer;\n",
       "    display: none;\n",
       "    fill: var(--fill-color);\n",
       "    height: 32px;\n",
       "    padding: 0;\n",
       "    width: 32px;\n",
       "  }\n",
       "\n",
       "  .colab-df-quickchart:hover {\n",
       "    background-color: var(--hover-bg-color);\n",
       "    box-shadow: 0 1px 2px rgba(60, 64, 67, 0.3), 0 1px 3px 1px rgba(60, 64, 67, 0.15);\n",
       "    fill: var(--button-hover-fill-color);\n",
       "  }\n",
       "\n",
       "  .colab-df-quickchart-complete:disabled,\n",
       "  .colab-df-quickchart-complete:disabled:hover {\n",
       "    background-color: var(--disabled-bg-color);\n",
       "    fill: var(--disabled-fill-color);\n",
       "    box-shadow: none;\n",
       "  }\n",
       "\n",
       "  .colab-df-spinner {\n",
       "    border: 2px solid var(--fill-color);\n",
       "    border-color: transparent;\n",
       "    border-bottom-color: var(--fill-color);\n",
       "    animation:\n",
       "      spin 1s steps(1) infinite;\n",
       "  }\n",
       "\n",
       "  @keyframes spin {\n",
       "    0% {\n",
       "      border-color: transparent;\n",
       "      border-bottom-color: var(--fill-color);\n",
       "      border-left-color: var(--fill-color);\n",
       "    }\n",
       "    20% {\n",
       "      border-color: transparent;\n",
       "      border-left-color: var(--fill-color);\n",
       "      border-top-color: var(--fill-color);\n",
       "    }\n",
       "    30% {\n",
       "      border-color: transparent;\n",
       "      border-left-color: var(--fill-color);\n",
       "      border-top-color: var(--fill-color);\n",
       "      border-right-color: var(--fill-color);\n",
       "    }\n",
       "    40% {\n",
       "      border-color: transparent;\n",
       "      border-right-color: var(--fill-color);\n",
       "      border-top-color: var(--fill-color);\n",
       "    }\n",
       "    60% {\n",
       "      border-color: transparent;\n",
       "      border-right-color: var(--fill-color);\n",
       "    }\n",
       "    80% {\n",
       "      border-color: transparent;\n",
       "      border-right-color: var(--fill-color);\n",
       "      border-bottom-color: var(--fill-color);\n",
       "    }\n",
       "    90% {\n",
       "      border-color: transparent;\n",
       "      border-bottom-color: var(--fill-color);\n",
       "    }\n",
       "  }\n",
       "</style>\n",
       "\n",
       "      <script>\n",
       "        async function quickchart(key) {\n",
       "          const quickchartButtonEl =\n",
       "            document.querySelector('#' + key + ' button');\n",
       "          quickchartButtonEl.disabled = true;  // To prevent multiple clicks.\n",
       "          quickchartButtonEl.classList.add('colab-df-spinner');\n",
       "          try {\n",
       "            const charts = await google.colab.kernel.invokeFunction(\n",
       "                'suggestCharts', [key], {});\n",
       "          } catch (error) {\n",
       "            console.error('Error during call to suggestCharts:', error);\n",
       "          }\n",
       "          quickchartButtonEl.classList.remove('colab-df-spinner');\n",
       "          quickchartButtonEl.classList.add('colab-df-quickchart-complete');\n",
       "        }\n",
       "        (() => {\n",
       "          let quickchartButtonEl =\n",
       "            document.querySelector('#df-c627a266-f4ae-4306-a586-9a052d2df53e button');\n",
       "          quickchartButtonEl.style.display =\n",
       "            google.colab.kernel.accessAllowed ? 'block' : 'none';\n",
       "        })();\n",
       "      </script>\n",
       "    </div>\n",
       "\n",
       "  <div id=\"id_77af7131-43a7-4dc5-ac66-c87e7ab42308\">\n",
       "    <style>\n",
       "      .colab-df-generate {\n",
       "        background-color: #E8F0FE;\n",
       "        border: none;\n",
       "        border-radius: 50%;\n",
       "        cursor: pointer;\n",
       "        display: none;\n",
       "        fill: #1967D2;\n",
       "        height: 32px;\n",
       "        padding: 0 0 0 0;\n",
       "        width: 32px;\n",
       "      }\n",
       "\n",
       "      .colab-df-generate:hover {\n",
       "        background-color: #E2EBFA;\n",
       "        box-shadow: 0px 1px 2px rgba(60, 64, 67, 0.3), 0px 1px 3px 1px rgba(60, 64, 67, 0.15);\n",
       "        fill: #174EA6;\n",
       "      }\n",
       "\n",
       "      [theme=dark] .colab-df-generate {\n",
       "        background-color: #3B4455;\n",
       "        fill: #D2E3FC;\n",
       "      }\n",
       "\n",
       "      [theme=dark] .colab-df-generate:hover {\n",
       "        background-color: #434B5C;\n",
       "        box-shadow: 0px 1px 3px 1px rgba(0, 0, 0, 0.15);\n",
       "        filter: drop-shadow(0px 1px 2px rgba(0, 0, 0, 0.3));\n",
       "        fill: #FFFFFF;\n",
       "      }\n",
       "    </style>\n",
       "    <button class=\"colab-df-generate\" onclick=\"generateWithVariable('df')\"\n",
       "            title=\"Generate code using this dataframe.\"\n",
       "            style=\"display:none;\">\n",
       "\n",
       "  <svg xmlns=\"http://www.w3.org/2000/svg\" height=\"24px\"viewBox=\"0 0 24 24\"\n",
       "       width=\"24px\">\n",
       "    <path d=\"M7,19H8.4L18.45,9,17,7.55,7,17.6ZM5,21V16.75L18.45,3.32a2,2,0,0,1,2.83,0l1.4,1.43a1.91,1.91,0,0,1,.58,1.4,1.91,1.91,0,0,1-.58,1.4L9.25,21ZM18.45,9,17,7.55Zm-12,3A5.31,5.31,0,0,0,4.9,8.1,5.31,5.31,0,0,0,1,6.5,5.31,5.31,0,0,0,4.9,4.9,5.31,5.31,0,0,0,6.5,1,5.31,5.31,0,0,0,8.1,4.9,5.31,5.31,0,0,0,12,6.5,5.46,5.46,0,0,0,6.5,12Z\"/>\n",
       "  </svg>\n",
       "    </button>\n",
       "    <script>\n",
       "      (() => {\n",
       "      const buttonEl =\n",
       "        document.querySelector('#id_77af7131-43a7-4dc5-ac66-c87e7ab42308 button.colab-df-generate');\n",
       "      buttonEl.style.display =\n",
       "        google.colab.kernel.accessAllowed ? 'block' : 'none';\n",
       "\n",
       "      buttonEl.onclick = () => {\n",
       "        google.colab.notebook.generateWithVariable('df');\n",
       "      }\n",
       "      })();\n",
       "    </script>\n",
       "  </div>\n",
       "\n",
       "    </div>\n",
       "  </div>\n"
      ],
      "application/vnd.google.colaboratory.intrinsic+json": {
       "type": "dataframe",
       "variable_name": "df",
       "summary": "{\n  \"name\": \"df\",\n  \"rows\": 13,\n  \"fields\": [\n    {\n      \"column\": \"model\",\n      \"properties\": {\n        \"dtype\": \"string\",\n        \"num_unique_values\": 13,\n        \"samples\": [\n          \"llm4chem_a\",\n          \"chemcrow_b\",\n          \"llm_only_a\"\n        ],\n        \"semantic_type\": \"\",\n        \"description\": \"\"\n      }\n    },\n    {\n      \"column\": \"Draw 2D representation of CC(=O)OC1=CC=CC=C1C(=O)O?\",\n      \"properties\": {\n        \"dtype\": \"object\",\n        \"semantic_type\": \"\",\n        \"description\": \"\"\n      }\n    }\n  ]\n}"
      }
     },
     "metadata": {},
     "execution_count": 85
    }
   ],
   "source": [
    "df = pd.DataFrame.from_dict(results[\"query_3\"], orient=\"index\", columns=[f\"{query_3}\"])\n",
    "df = df.reset_index().rename(columns={\"index\": \"model\"})\n",
    "df"
   ]
  },
  {
   "cell_type": "code",
   "execution_count": null,
   "id": "Wc1A9K7KX82c",
   "metadata": {
    "id": "Wc1A9K7KX82c"
   },
   "outputs": [],
   "source": [
    "df.to_csv(\"answers_3.csv\")"
   ]
  },
  {
   "cell_type": "code",
   "execution_count": null,
   "id": "VRICyV6ay3YE",
   "metadata": {
    "colab": {
     "base_uri": "https://localhost:8080/",
     "height": 1000
    },
    "id": "VRICyV6ay3YE",
    "outputId": "aaee6ae2-5f79-471d-f6ac-1236db47caf2",
    "executionInfo": {
     "status": "ok",
     "timestamp": 1753015066706,
     "user_tz": -240,
     "elapsed": 91,
     "user": {
      "displayName": "Ivan Reznikov",
      "userId": "03906939862966425294"
     }
    }
   },
   "outputs": [
    {
     "output_type": "execute_result",
     "data": {
      "text/plain": [
       "                       model  \\\n",
       "0                 llm_only_a   \n",
       "1                 llm_only_b   \n",
       "2                 llm_only_c   \n",
       "3                    chain_a   \n",
       "4                    chain_b   \n",
       "5               custom_agent   \n",
       "6   custom_rdkit_react_agent   \n",
       "7    custom_rdkit_tool_agent   \n",
       "8                 chemcrow_a   \n",
       "9                 chemcrow_b   \n",
       "10                  cactus_a   \n",
       "11                llm4chem_a   \n",
       "12                llm4chem_b   \n",
       "\n",
       "                                                                                                                                                                                                                                                                                                                                                                                                                                                                                                                                                                                                                                                                                                                                                                                                                                                                                                                                                                                                                                                                                                                                                                                                                                                                                                                                                                                                                                                                                                                                                                                                                                                                                                                                                                                                                                                                                                                                                                                                                                                                                                                                                                                                                                                                                                                                                                                                                                                                                                                                                                                                                                                                                                                                                                                                                                                                                                                                                                                                                                                                                                                                                                                                                                                                                                                                                                                                                Draw 3D representation of CC(=O)OC1=CC=CC=C1C(=O)O?  \n",
       "0                                                                                                                                                                                                                                                                                                                                                                                                                                                                                                                                                                                                                                                                                                                                                                                                                                                                                                                                                                                                                                                                                                                                                                                                                                                                                                                                                                                                                                                                                                                                                                                                                                                                                                                                                                                                                                                                                                                                                                                                                                                                                                                                                                                                                                                                                                                                                                                                                                                                                                                                                                                                                                                                                                                                                                       I'm sorry, I am not able to draw images. However, I can describe the 3D representation of the molecule CC(=O)OC1=CC=CC=C1C(=O)O.\\n\\nIn the 3D representation, the molecule would have a central carbon atom bonded to two oxygen atoms on either side. The carbon atom would have two methyl groups attached to it, and the oxygen atoms would each be double bonded to a carbon atom. The carbon atoms double bonded to the oxygen atoms would be part of a benzene ring structure, with alternating single and double bonds between the carbon atoms.\\n\\nOverall, the molecule would have a linear shape with the benzene ring structure extending outwards from the central carbon atom.  \n",
       "1                                                                                                                                                                                                                                                                                                                                                                                                                                                                                                                                                                                                                                                                                                                                                                                                                                                                                                                                                                                                                                                                                                                                                                                                                                                                                                                                                                                                                                                                                                                                                                                                                                                                                                                                                                                                                                                                                              I can't create visual images directly, but I can help you visualize the 3D structure of the compound with the molecular formula CC(=O)OC1=CC=CC=C1C(=O)O, which is an ester derivative of a phenolic compound.\\n\\nHere's a step-by-step description of how to visualize it:\\n\\n1. **Identify the Components**:\\n   - The compound has an acetyl group (CC(=O)O) attached to a phenolic ring (C1=CC=CC=C1).\\n   - There is also a carboxylic acid group (C(=O)O) attached to the phenolic ring.\\n\\n2. **Structure Breakdown**:\\n   - The acetyl group (CH3CO-) is connected to an oxygen atom (O) which is then connected to the phenolic ring.\\n   - The phenolic ring consists of six carbon atoms arranged in a cyclic structure with alternating double bonds (aromatic).\\n   - The carboxylic acid group (-COOH) is attached to one of the carbon atoms in the phenolic ring.\\n\\n3. **3D Representation**:\\n   - Start with the phenolic ring as a hexagonal structure with alternating double bonds.\\n   - Attach the acetyl group to one of the carbon atoms in the ring via an oxygen atom (this forms an ester bond).\\n   - Attach the carboxylic acid group to another carbon atom in the ring.\\n\\n4. **Using Molecular Visualization Software**:\\n   - You can use software like ChemDraw, Jmol, or online tools like PubChem to create a 3D model.\\n   - Input the molecular formula or the SMILES notation (CC(=O)OC1=CC=CC=C1C(=O)O) to generate the 3D structure.\\n\\nIf you need further assistance with specific software or tools, feel free to ask!  \n",
       "2   Below is one way to \u201cdraw\u201d a 3D representation of the molecule with the SMILES\\n\\n\u2003\u2003CC(=O)OC1=CC=CC=C1C(=O)O\\n\\n(which is the structure of acetylsalicylic acid, commonly known as aspirin) using an ASCII \u201cwire\u2010frame\u201d style. Note that true 3D images are best viewed with molecular visualization software (for example, Jmol, PyMOL, or online viewers such as those on PubChem), but the diagram below is intended to give you a sense of the spatial arrangement of the main parts of the molecule.\\n\\nRemember that in aspirin:\\n\u2003\u2022 The central benzene ring is essentially planar.\\n\u2003\u2022 One substituent is a carboxylic acid group (\u2013C(=O)OH) attached directly to the ring.\\n\u2003\u2022 The other substituent is an acetoxy group (\u2013O\u2013C(=O)CH3) attached via an oxygen; this group may be rotated out of the plane of the benzene ring.\\n\\nHere\u2019s one ASCII \u201csketch\u201d that tries to indicate relative 3D orientations:\\n\\n             CH3\\n              |\\n              C=O\\n              |\\n        (Acetyl group)\\n                \\\\n                 O\\n                  \\\\n                   \\\\n         [Out\u2010of\u2010plane twist]\\n                      \\\\n                       Attachment\\n                         (\u2013O\u2013)\\n                            \\\\n                             \u2022\\n                           /   \\\\n         (Benzene ring: nearly planar)  \\n                           \\   /\\n                            \u2022  \\n                   \u2022      /     \\      \u2022\\n                   \u2022     \u2022       \u2022     \u2022   \u2190 (Carbon atoms of the benzene ring)\\n                    \\   /         \\   /\\n                     \u2022\u2022            \u2022\u2022\\n                      \\            /\\n                       \u2022    \u2022    \u2022\\n                         \\  |  /\\n             (Carboxylic acid group)\\n                          C=O\\n                           |\\n                           OH\\n\\nExplanation of the sketch:\\n1. The benzene \u201cring\u201d is drawn as a roughly hexagonal loop (the \u201c\u2022\u201d atoms are the carbons). It is drawn in a plane.\\n2. At one vertex of the benzene ring (say, the lower right), a carboxylic acid group is attached. That group is shown at the bottom right with a C=O double bond and an \u2013OH.\\n3. At a neighboring vertex (say, the upper left) the oxygen of the acetoxy group is attached. From that oxygen a C(=O)CH3 branch is drawn. To hint that this acetoxy group might be rotated relative to the benzene plane, the branch is shown \u201ccoming out\u201d (or \u201cgoing in\u201d) relative to the plane.\\n4. The \u201cO\u2013C(=O)CH3\u201d unit (the acetyl group bonded through O) is drawn with its own C=O and CH3 group.\\n   \\nKeep in mind that the above drawing is very schematic. In a true 3D ball\u2010and\u2010stick representation you would see something like:\\n\\n\u2003\u2022 A flat benzene ring.\\n\u2003\u2022 A \u2013COOH group lying in (or nearly in) that ring plane.\\n\u2003\u2022 An \u2013OCOCH3 group that is rotated relative to that plane (so that the acetyl carbonyl and methyl group are \u201cabove\u201d or \u201cbelow\u201d the ring).\\n\\nIf you want to visualize the molecule interactively, you might try one of these steps:\\n\u20031. Copy the SMILES string \u201cCC(=O)OC1=CC=CC=C1C(=O)O.\u201d\\n\u20032. Paste it into an online viewer (for example, see PubChem\u2019s \u201c3D Conformer\u201d tool or use Jmol).\\n\u20033. Rotate the model to appreciate its 3D structure.\\n\\nI hope this ASCII 3D sketch and explanation gives you a better idea of how aspirin is arranged in three dimensions!  \n",
       "3                                                                                                                                                                                                                                                                                                                                                                                                                                                                                                                                                                                                                                                                                                                                                                                                                                                                                                                                                                                                                                                                                                                                                                                                                                                                                                                                                                                                                                                                                                                                                                                                                                                                                                                                                                                                                                                                                                                                                   content='1. Start by drawing the basic structure of the molecule: a benzene ring (C6H5) with a carboxylic acid group (COOH) attached to one side.\\n2. Next, add a double bond between one of the carbon atoms in the benzene ring and an oxygen atom, representing the carbonyl group (C=O).\\n3. Then, add an ester group (OC) attached to the other side of the benzene ring, replacing one of the hydrogen atoms.\\n4. Finally, add a second benzene ring connected to the ester group through a double bond, completing the structure of the molecule.\\n\\nThe final 3D representation of CC(=O)OC1=CC=CC=C1C(=O)O is a complex structure with two benzene rings connected by a carbonyl group and an ester group.' additional_kwargs={'refusal': None} response_metadata={'token_usage': {'completion_tokens': 180, 'prompt_tokens': 70, 'total_tokens': 250, 'completion_tokens_details': {'accepted_prediction_tokens': 0, 'audio_tokens': 0, 'reasoning_tokens': 0, 'rejected_prediction_tokens': 0}, 'prompt_tokens_details': {'audio_tokens': 0, 'cached_tokens': 0}}, 'model_name': 'gpt-3.5-turbo-0125', 'system_fingerprint': None, 'id': 'chatcmpl-BvNYerS4Hvc0gm7psPGGmdcqNHzyL', 'service_tier': 'default', 'finish_reason': 'stop', 'logprobs': None} id='run--e3011293-9482-464a-a6f6-58bb9b7e2d51-0' usage_metadata={'input_tokens': 70, 'output_tokens': 180, 'total_tokens': 250, 'input_token_details': {'audio': 0, 'cache_read': 0}, 'output_token_details': {'audio': 0, 'reasoning': 0}}  \n",
       "4                                                                                                                                                                                                                                                                                                                                                                                                                                                                                                                                                                                                                                                                                                                                                                                                                                                                                                                                                                                                                                                                                                                                                                                                                                                                                                                                                                                                                                                                                                                                                                                                                                      content=\"I'm unable to draw 3D representations directly, but I can guide you on how to visualize the structure of CC(=O)OC1=CC=CC=C1C(=O)O.\\n\\n1. **Identify the components**: The compound has an ester functional group (CC(=O)O) and a carboxylic acid (C(=O)O) attached to a phenyl ring (C1=CC=CC=C1).\\n\\n2. **Construct the backbone**: Start with the phenyl ring, which consists of six carbon atoms arranged in a cyclic structure with alternating double bonds.\\n\\n3. **Add substituents**: Attach the ester group (CC(=O)O) to one of the carbon atoms on the phenyl ring. The carbon chain (CC) will be connected to the carbonyl (C=O) of the ester.\\n\\n4. **Add the carboxylic acid**: Attach the carboxylic acid (C(=O)O) to another carbon on the phenyl ring.\\n\\n5. **Visualize in 3D**: Use molecular visualization software (like ChemDraw, Jmol, or PyMOL) to create a 3D model by inputting the molecular formula or drawing the structure.\\n\\nThis will give you a 3D representation of the compound.\" additional_kwargs={'refusal': None} response_metadata={'token_usage': {'completion_tokens': 277, 'prompt_tokens': 69, 'total_tokens': 346, 'completion_tokens_details': {'accepted_prediction_tokens': 0, 'audio_tokens': 0, 'reasoning_tokens': 0, 'rejected_prediction_tokens': 0}, 'prompt_tokens_details': {'audio_tokens': 0, 'cached_tokens': 0}}, 'model_name': 'gpt-4o-mini-2024-07-18', 'system_fingerprint': None, 'id': 'chatcmpl-BvNYooihkeoqlXKSZSpR0X1LGBEsG', 'service_tier': 'default', 'finish_reason': 'stop', 'logprobs': None} id='run--0b83e6a6-b6b4-46ac-a3b8-240a75d174bc-0' usage_metadata={'input_tokens': 69, 'output_tokens': 277, 'total_tokens': 346, 'input_token_details': {'audio': 0, 'cache_read': 0}, 'output_token_details': {'audio': 0, 'reasoning': 0}}  \n",
       "5                                                                                                                                                                                                                                                                                                                                                                                                                                                                                                                                                                                                                                                                                                                                                                                                                                                                                                                                                                                                                                                                                                                                                                                                                                                                                                                                                                                                                                                                                                                                                                                                                                                                                                                                                                                                                                                                                                                                                                                                                                                                                                                                                                                                                                                                                                                                                                                                                                                                                                                                                                                                                                                                                                                                                                                                                                                                                                                                                                                                                                                                                                                                                                                                                                                             {'input': 'Draw 3D representation of CC(=O)OC1=CC=CC=C1C(=O)O?', 'output': 'The 3D representation of the molecule with the given SMILES notation \"CC(=O)OC1=CC=CC=C1C(=O)O\" could not be generated.'}  \n",
       "6                                                                                                                                                                                                                                                                                                                                                                                                                                                                                                                                                                                                                                                                                                                                                                                                                                                                                                                                                                                                                                                                                                                                                                                                                                                                                                                                                                                                                                                                                                                                                                                                                                                                                                                                                                                                                                                                                                                                                                                                                                                                                                                                                                                                                                                                                                                                                                                                                                                                                                                                                                                                                                                                                                                                                                                                                                                                                                                                                                                                                                                                                                                                                                                                                                                                                                               {'input': 'Draw 3D representation of CC(=O)OC1=CC=CC=C1C(=O)O?', 'output': 'The 3D representation of the molecule has been created and displayed.'}  \n",
       "7                                                                                                                                                                                                                                                                                                                                                                                                                                                                                                                                                                                                                                                                                                                                                                                                                                                                                                                                                                                                                                                                                                                                                                                                                                                                                                                                                                                                                                                                                                                                                                                                                                                                                                                                                                                                                                                                                                                                                                                                                                                                                                                                                                                                                                                                                                                                                                                                                                                                                                                                                                                                                                                                                                                                                                                                                                                                                                                                                                                                                                                                                                                                                                                                              {'input': 'Draw 3D representation of CC(=O)OC1=CC=CC=C1C(=O)O?', 'output': 'The 3D representation of the molecule CC(=O)OC1=CC=CC=C1C(=O)O has been successfully generated. If you need any further assistance or modifications, feel free to ask!'}  \n",
       "8                                                                                                                                                                                                                                                                                                                                                                                                                                                                                                                                                                                                                                                                                                                                                                                                                                                                                                                                                                                                                                                                                                                                                                                                                                                                                                                                                                                                                                                                                                                                                                                                                                                                                                                                                                                                                                                                                                                                                                                                                                                                                                                                                                                                                                                                                                                                                                                                                                                                                                                                                                                                                                                                                                                                                                                                                                                                                                                                                                                                                                                                                                                                                                                                                                                                                                                                                                   The 3D representation of the molecule CC(=O)OC1=CC=CC=C1C(=O)O has been successfully generated.  \n",
       "9                                                                                                                                                                                                                                                                                                                                                                                                                                                                                                                                                                                                                                                                                                                                                                                                                                                                                                                                                                                                                                                                                                                                                                                                                                                                                                                                                                                                                                                                                                                                                                                                                                                                                                                                                                                                                                                                                                                                                                                                                                                                                                                                                                                                                                                                                                                                                                                                                                                                                                                                                                                                                                                                                                                                                                                                                                                                                                                                                                                                                                                                                                                                                                                                                                                                              I cannot assist with drawing a 3D representation of the molecule CC(=O)OC1=CC=CC=C1C(=O)O without first checking if it is a controlled chemical. I will proceed to check its status.  \n",
       "10                                                                                                                                                                                                                                                                                                                                                                                                                                                                                                                                                                                                                                                                                                                                                                                                                                                                                                                                                                                                                                                                                                                                                                                                                                                                                                                                                                                                                                                                                                                                                                                                                                                                                                                                                                                                                                                                                                                                                                                                                                                                                                                                                                                                                                                                                                                                                                                                                                                                                                                                                                                                                                                                                                                                                                                                                                                                                                                                                                                                                                                                                                                                                                                                                                                                                                                                                                                               I cannot generate a 3D representation of CC(=O)OC1=CC=CC=C1C(=O)O.  \n",
       "11                                                                                                                                                                                                                                                                                                                                                                                                                                                                                                                                                                                                                                                                                                                                                                                                                                                                                                                                                                                                                                                                                                                                                                                                                                                                                                                                                                                                                                                                                                                                                                                                                                                                                                                                                                                                                                                                                                                                                                                                                                                                                                                                                                                                                                                                                                                                                                                                                                                                                                                                                                                                                                                                                                                                                                                                                       <SMILES> CC(=O)OC1=CC=CC=C1C(=O)O </SMILES> </SMILES> The molecule is a benzoate ester obtained by formal condensation of the carboxy group of benzoic acid with the hydroxy group of 2-acetylphenol. It is a benzoate ester and a member of benzoic acids. It is functionally related to a 2-acetylphenol. It is a conjugate acid of a 2-acetylphenylbenzoate. \\n\\nThe molecule is a metabolite of the herbicide 2,4-D. It has a role as a herbicide metabolite. It is a member of phenols, a benzoate ester and a member of benzoic acids. \\n\\nIt is a conjugate acid of a 2-acetylphenylbenzoate. \\n\\nThe major species at pH 7.3. </s>  \n",
       "12                                                                                                                                                                                                                                                                                                                                                                                                                                                                                                                                                                                                                                                                                                                                                                                                                                                                                                                                                                                                                                                                                                                                                                                                                                                                                                                                                                                                                                                                                                                                                                                                                                                                                                                                                                                                                                                                                                                                                                                                                                                                                                                                                                                                                                                                                                                                                                                                                                                                                                                                                                                                                                                                                                                                                                                                                                                                                                                                                                                                                                                                                                                                                                                                                                                                                                                                                                                                    <SMILES> CC(=O)OC1=CC=CC=C1C(=O)OCC1=CC=CC=C1 </SMILES> .</s>  "
      ],
      "text/html": [
       "\n",
       "  <div id=\"df-4a0f63a1-538d-4f84-a392-4d0a9e80d09e\" class=\"colab-df-container\">\n",
       "    <div>\n",
       "<style scoped>\n",
       "    .dataframe tbody tr th:only-of-type {\n",
       "        vertical-align: middle;\n",
       "    }\n",
       "\n",
       "    .dataframe tbody tr th {\n",
       "        vertical-align: top;\n",
       "    }\n",
       "\n",
       "    .dataframe thead th {\n",
       "        text-align: right;\n",
       "    }\n",
       "</style>\n",
       "<table border=\"1\" class=\"dataframe\">\n",
       "  <thead>\n",
       "    <tr style=\"text-align: right;\">\n",
       "      <th></th>\n",
       "      <th>model</th>\n",
       "      <th>Draw 3D representation of CC(=O)OC1=CC=CC=C1C(=O)O?</th>\n",
       "    </tr>\n",
       "  </thead>\n",
       "  <tbody>\n",
       "    <tr>\n",
       "      <th>0</th>\n",
       "      <td>llm_only_a</td>\n",
       "      <td>I'm sorry, I am not able to draw images. However, I can describe the 3D representation of the molecule CC(=O)OC1=CC=CC=C1C(=O)O.\\n\\nIn the 3D representation, the molecule would have a central carbon atom bonded to two oxygen atoms on either side. The carbon atom would have two methyl groups attached to it, and the oxygen atoms would each be double bonded to a carbon atom. The carbon atoms double bonded to the oxygen atoms would be part of a benzene ring structure, with alternating single and double bonds between the carbon atoms.\\n\\nOverall, the molecule would have a linear shape with the benzene ring structure extending outwards from the central carbon atom.</td>\n",
       "    </tr>\n",
       "    <tr>\n",
       "      <th>1</th>\n",
       "      <td>llm_only_b</td>\n",
       "      <td>I can't create visual images directly, but I can help you visualize the 3D structure of the compound with the molecular formula CC(=O)OC1=CC=CC=C1C(=O)O, which is an ester derivative of a phenolic compound.\\n\\nHere's a step-by-step description of how to visualize it:\\n\\n1. **Identify the Components**:\\n   - The compound has an acetyl group (CC(=O)O) attached to a phenolic ring (C1=CC=CC=C1).\\n   - There is also a carboxylic acid group (C(=O)O) attached to the phenolic ring.\\n\\n2. **Structure Breakdown**:\\n   - The acetyl group (CH3CO-) is connected to an oxygen atom (O) which is then connected to the phenolic ring.\\n   - The phenolic ring consists of six carbon atoms arranged in a cyclic structure with alternating double bonds (aromatic).\\n   - The carboxylic acid group (-COOH) is attached to one of the carbon atoms in the phenolic ring.\\n\\n3. **3D Representation**:\\n   - Start with the phenolic ring as a hexagonal structure with alternating double bonds.\\n   - Attach the acetyl group to one of the carbon atoms in the ring via an oxygen atom (this forms an ester bond).\\n   - Attach the carboxylic acid group to another carbon atom in the ring.\\n\\n4. **Using Molecular Visualization Software**:\\n   - You can use software like ChemDraw, Jmol, or online tools like PubChem to create a 3D model.\\n   - Input the molecular formula or the SMILES notation (CC(=O)OC1=CC=CC=C1C(=O)O) to generate the 3D structure.\\n\\nIf you need further assistance with specific software or tools, feel free to ask!</td>\n",
       "    </tr>\n",
       "    <tr>\n",
       "      <th>2</th>\n",
       "      <td>llm_only_c</td>\n",
       "      <td>Below is one way to \u201cdraw\u201d a 3D representation of the molecule with the SMILES\\n\\n\u2003\u2003CC(=O)OC1=CC=CC=C1C(=O)O\\n\\n(which is the structure of acetylsalicylic acid, commonly known as aspirin) using an ASCII \u201cwire\u2010frame\u201d style. Note that true 3D images are best viewed with molecular visualization software (for example, Jmol, PyMOL, or online viewers such as those on PubChem), but the diagram below is intended to give you a sense of the spatial arrangement of the main parts of the molecule.\\n\\nRemember that in aspirin:\\n\u2003\u2022 The central benzene ring is essentially planar.\\n\u2003\u2022 One substituent is a carboxylic acid group (\u2013C(=O)OH) attached directly to the ring.\\n\u2003\u2022 The other substituent is an acetoxy group (\u2013O\u2013C(=O)CH3) attached via an oxygen; this group may be rotated out of the plane of the benzene ring.\\n\\nHere\u2019s one ASCII \u201csketch\u201d that tries to indicate relative 3D orientations:\\n\\n             CH3\\n              |\\n              C=O\\n              |\\n        (Acetyl group)\\n                \\\\n                 O\\n                  \\\\n                   \\\\n         [Out\u2010of\u2010plane twist]\\n                      \\\\n                       Attachment\\n                         (\u2013O\u2013)\\n                            \\\\n                             \u2022\\n                           /   \\\\n         (Benzene ring: nearly planar)  \\n                           \\   /\\n                            \u2022  \\n                   \u2022      /     \\      \u2022\\n                   \u2022     \u2022       \u2022     \u2022   \u2190 (Carbon atoms of the benzene ring)\\n                    \\   /         \\   /\\n                     \u2022\u2022            \u2022\u2022\\n                      \\            /\\n                       \u2022    \u2022    \u2022\\n                         \\  |  /\\n             (Carboxylic acid group)\\n                          C=O\\n                           |\\n                           OH\\n\\nExplanation of the sketch:\\n1. The benzene \u201cring\u201d is drawn as a roughly hexagonal loop (the \u201c\u2022\u201d atoms are the carbons). It is drawn in a plane.\\n2. At one vertex of the benzene ring (say, the lower right), a carboxylic acid group is attached. That group is shown at the bottom right with a C=O double bond and an \u2013OH.\\n3. At a neighboring vertex (say, the upper left) the oxygen of the acetoxy group is attached. From that oxygen a C(=O)CH3 branch is drawn. To hint that this acetoxy group might be rotated relative to the benzene plane, the branch is shown \u201ccoming out\u201d (or \u201cgoing in\u201d) relative to the plane.\\n4. The \u201cO\u2013C(=O)CH3\u201d unit (the acetyl group bonded through O) is drawn with its own C=O and CH3 group.\\n   \\nKeep in mind that the above drawing is very schematic. In a true 3D ball\u2010and\u2010stick representation you would see something like:\\n\\n\u2003\u2022 A flat benzene ring.\\n\u2003\u2022 A \u2013COOH group lying in (or nearly in) that ring plane.\\n\u2003\u2022 An \u2013OCOCH3 group that is rotated relative to that plane (so that the acetyl carbonyl and methyl group are \u201cabove\u201d or \u201cbelow\u201d the ring).\\n\\nIf you want to visualize the molecule interactively, you might try one of these steps:\\n\u20031. Copy the SMILES string \u201cCC(=O)OC1=CC=CC=C1C(=O)O.\u201d\\n\u20032. Paste it into an online viewer (for example, see PubChem\u2019s \u201c3D Conformer\u201d tool or use Jmol).\\n\u20033. Rotate the model to appreciate its 3D structure.\\n\\nI hope this ASCII 3D sketch and explanation gives you a better idea of how aspirin is arranged in three dimensions!</td>\n",
       "    </tr>\n",
       "    <tr>\n",
       "      <th>3</th>\n",
       "      <td>chain_a</td>\n",
       "      <td>content='1. Start by drawing the basic structure of the molecule: a benzene ring (C6H5) with a carboxylic acid group (COOH) attached to one side.\\n2. Next, add a double bond between one of the carbon atoms in the benzene ring and an oxygen atom, representing the carbonyl group (C=O).\\n3. Then, add an ester group (OC) attached to the other side of the benzene ring, replacing one of the hydrogen atoms.\\n4. Finally, add a second benzene ring connected to the ester group through a double bond, completing the structure of the molecule.\\n\\nThe final 3D representation of CC(=O)OC1=CC=CC=C1C(=O)O is a complex structure with two benzene rings connected by a carbonyl group and an ester group.' additional_kwargs={'refusal': None} response_metadata={'token_usage': {'completion_tokens': 180, 'prompt_tokens': 70, 'total_tokens': 250, 'completion_tokens_details': {'accepted_prediction_tokens': 0, 'audio_tokens': 0, 'reasoning_tokens': 0, 'rejected_prediction_tokens': 0}, 'prompt_tokens_details': {'audio_tokens': 0, 'cached_tokens': 0}}, 'model_name': 'gpt-3.5-turbo-0125', 'system_fingerprint': None, 'id': 'chatcmpl-BvNYerS4Hvc0gm7psPGGmdcqNHzyL', 'service_tier': 'default', 'finish_reason': 'stop', 'logprobs': None} id='run--e3011293-9482-464a-a6f6-58bb9b7e2d51-0' usage_metadata={'input_tokens': 70, 'output_tokens': 180, 'total_tokens': 250, 'input_token_details': {'audio': 0, 'cache_read': 0}, 'output_token_details': {'audio': 0, 'reasoning': 0}}</td>\n",
       "    </tr>\n",
       "    <tr>\n",
       "      <th>4</th>\n",
       "      <td>chain_b</td>\n",
       "      <td>content=\"I'm unable to draw 3D representations directly, but I can guide you on how to visualize the structure of CC(=O)OC1=CC=CC=C1C(=O)O.\\n\\n1. **Identify the components**: The compound has an ester functional group (CC(=O)O) and a carboxylic acid (C(=O)O) attached to a phenyl ring (C1=CC=CC=C1).\\n\\n2. **Construct the backbone**: Start with the phenyl ring, which consists of six carbon atoms arranged in a cyclic structure with alternating double bonds.\\n\\n3. **Add substituents**: Attach the ester group (CC(=O)O) to one of the carbon atoms on the phenyl ring. The carbon chain (CC) will be connected to the carbonyl (C=O) of the ester.\\n\\n4. **Add the carboxylic acid**: Attach the carboxylic acid (C(=O)O) to another carbon on the phenyl ring.\\n\\n5. **Visualize in 3D**: Use molecular visualization software (like ChemDraw, Jmol, or PyMOL) to create a 3D model by inputting the molecular formula or drawing the structure.\\n\\nThis will give you a 3D representation of the compound.\" additional_kwargs={'refusal': None} response_metadata={'token_usage': {'completion_tokens': 277, 'prompt_tokens': 69, 'total_tokens': 346, 'completion_tokens_details': {'accepted_prediction_tokens': 0, 'audio_tokens': 0, 'reasoning_tokens': 0, 'rejected_prediction_tokens': 0}, 'prompt_tokens_details': {'audio_tokens': 0, 'cached_tokens': 0}}, 'model_name': 'gpt-4o-mini-2024-07-18', 'system_fingerprint': None, 'id': 'chatcmpl-BvNYooihkeoqlXKSZSpR0X1LGBEsG', 'service_tier': 'default', 'finish_reason': 'stop', 'logprobs': None} id='run--0b83e6a6-b6b4-46ac-a3b8-240a75d174bc-0' usage_metadata={'input_tokens': 69, 'output_tokens': 277, 'total_tokens': 346, 'input_token_details': {'audio': 0, 'cache_read': 0}, 'output_token_details': {'audio': 0, 'reasoning': 0}}</td>\n",
       "    </tr>\n",
       "    <tr>\n",
       "      <th>5</th>\n",
       "      <td>custom_agent</td>\n",
       "      <td>{'input': 'Draw 3D representation of CC(=O)OC1=CC=CC=C1C(=O)O?', 'output': 'The 3D representation of the molecule with the given SMILES notation \"CC(=O)OC1=CC=CC=C1C(=O)O\" could not be generated.'}</td>\n",
       "    </tr>\n",
       "    <tr>\n",
       "      <th>6</th>\n",
       "      <td>custom_rdkit_react_agent</td>\n",
       "      <td>{'input': 'Draw 3D representation of CC(=O)OC1=CC=CC=C1C(=O)O?', 'output': 'The 3D representation of the molecule has been created and displayed.'}</td>\n",
       "    </tr>\n",
       "    <tr>\n",
       "      <th>7</th>\n",
       "      <td>custom_rdkit_tool_agent</td>\n",
       "      <td>{'input': 'Draw 3D representation of CC(=O)OC1=CC=CC=C1C(=O)O?', 'output': 'The 3D representation of the molecule CC(=O)OC1=CC=CC=C1C(=O)O has been successfully generated. If you need any further assistance or modifications, feel free to ask!'}</td>\n",
       "    </tr>\n",
       "    <tr>\n",
       "      <th>8</th>\n",
       "      <td>chemcrow_a</td>\n",
       "      <td>The 3D representation of the molecule CC(=O)OC1=CC=CC=C1C(=O)O has been successfully generated.</td>\n",
       "    </tr>\n",
       "    <tr>\n",
       "      <th>9</th>\n",
       "      <td>chemcrow_b</td>\n",
       "      <td>I cannot assist with drawing a 3D representation of the molecule CC(=O)OC1=CC=CC=C1C(=O)O without first checking if it is a controlled chemical. I will proceed to check its status.</td>\n",
       "    </tr>\n",
       "    <tr>\n",
       "      <th>10</th>\n",
       "      <td>cactus_a</td>\n",
       "      <td>I cannot generate a 3D representation of CC(=O)OC1=CC=CC=C1C(=O)O.</td>\n",
       "    </tr>\n",
       "    <tr>\n",
       "      <th>11</th>\n",
       "      <td>llm4chem_a</td>\n",
       "      <td>&lt;SMILES&gt; CC(=O)OC1=CC=CC=C1C(=O)O &lt;/SMILES&gt; &lt;/SMILES&gt; The molecule is a benzoate ester obtained by formal condensation of the carboxy group of benzoic acid with the hydroxy group of 2-acetylphenol. It is a benzoate ester and a member of benzoic acids. It is functionally related to a 2-acetylphenol. It is a conjugate acid of a 2-acetylphenylbenzoate. \\n\\nThe molecule is a metabolite of the herbicide 2,4-D. It has a role as a herbicide metabolite. It is a member of phenols, a benzoate ester and a member of benzoic acids. \\n\\nIt is a conjugate acid of a 2-acetylphenylbenzoate. \\n\\nThe major species at pH 7.3. &lt;/s&gt;</td>\n",
       "    </tr>\n",
       "    <tr>\n",
       "      <th>12</th>\n",
       "      <td>llm4chem_b</td>\n",
       "      <td>&lt;SMILES&gt; CC(=O)OC1=CC=CC=C1C(=O)OCC1=CC=CC=C1 &lt;/SMILES&gt; .&lt;/s&gt;</td>\n",
       "    </tr>\n",
       "  </tbody>\n",
       "</table>\n",
       "</div>\n",
       "    <div class=\"colab-df-buttons\">\n",
       "\n",
       "  <div class=\"colab-df-container\">\n",
       "    <button class=\"colab-df-convert\" onclick=\"convertToInteractive('df-4a0f63a1-538d-4f84-a392-4d0a9e80d09e')\"\n",
       "            title=\"Convert this dataframe to an interactive table.\"\n",
       "            style=\"display:none;\">\n",
       "\n",
       "  <svg xmlns=\"http://www.w3.org/2000/svg\" height=\"24px\" viewBox=\"0 -960 960 960\">\n",
       "    <path d=\"M120-120v-720h720v720H120Zm60-500h600v-160H180v160Zm220 220h160v-160H400v160Zm0 220h160v-160H400v160ZM180-400h160v-160H180v160Zm440 0h160v-160H620v160ZM180-180h160v-160H180v160Zm440 0h160v-160H620v160Z\"/>\n",
       "  </svg>\n",
       "    </button>\n",
       "\n",
       "  <style>\n",
       "    .colab-df-container {\n",
       "      display:flex;\n",
       "      gap: 12px;\n",
       "    }\n",
       "\n",
       "    .colab-df-convert {\n",
       "      background-color: #E8F0FE;\n",
       "      border: none;\n",
       "      border-radius: 50%;\n",
       "      cursor: pointer;\n",
       "      display: none;\n",
       "      fill: #1967D2;\n",
       "      height: 32px;\n",
       "      padding: 0 0 0 0;\n",
       "      width: 32px;\n",
       "    }\n",
       "\n",
       "    .colab-df-convert:hover {\n",
       "      background-color: #E2EBFA;\n",
       "      box-shadow: 0px 1px 2px rgba(60, 64, 67, 0.3), 0px 1px 3px 1px rgba(60, 64, 67, 0.15);\n",
       "      fill: #174EA6;\n",
       "    }\n",
       "\n",
       "    .colab-df-buttons div {\n",
       "      margin-bottom: 4px;\n",
       "    }\n",
       "\n",
       "    [theme=dark] .colab-df-convert {\n",
       "      background-color: #3B4455;\n",
       "      fill: #D2E3FC;\n",
       "    }\n",
       "\n",
       "    [theme=dark] .colab-df-convert:hover {\n",
       "      background-color: #434B5C;\n",
       "      box-shadow: 0px 1px 3px 1px rgba(0, 0, 0, 0.15);\n",
       "      filter: drop-shadow(0px 1px 2px rgba(0, 0, 0, 0.3));\n",
       "      fill: #FFFFFF;\n",
       "    }\n",
       "  </style>\n",
       "\n",
       "    <script>\n",
       "      const buttonEl =\n",
       "        document.querySelector('#df-4a0f63a1-538d-4f84-a392-4d0a9e80d09e button.colab-df-convert');\n",
       "      buttonEl.style.display =\n",
       "        google.colab.kernel.accessAllowed ? 'block' : 'none';\n",
       "\n",
       "      async function convertToInteractive(key) {\n",
       "        const element = document.querySelector('#df-4a0f63a1-538d-4f84-a392-4d0a9e80d09e');\n",
       "        const dataTable =\n",
       "          await google.colab.kernel.invokeFunction('convertToInteractive',\n",
       "                                                    [key], {});\n",
       "        if (!dataTable) return;\n",
       "\n",
       "        const docLinkHtml = 'Like what you see? Visit the ' +\n",
       "          '<a target=\"_blank\" href=https://colab.research.google.com/notebooks/data_table.ipynb>data table notebook</a>'\n",
       "          + ' to learn more about interactive tables.';\n",
       "        element.innerHTML = '';\n",
       "        dataTable['output_type'] = 'display_data';\n",
       "        await google.colab.output.renderOutput(dataTable, element);\n",
       "        const docLink = document.createElement('div');\n",
       "        docLink.innerHTML = docLinkHtml;\n",
       "        element.appendChild(docLink);\n",
       "      }\n",
       "    </script>\n",
       "  </div>\n",
       "\n",
       "\n",
       "    <div id=\"df-d0fe0005-8133-4729-a7ef-718dae416726\">\n",
       "      <button class=\"colab-df-quickchart\" onclick=\"quickchart('df-d0fe0005-8133-4729-a7ef-718dae416726')\"\n",
       "                title=\"Suggest charts\"\n",
       "                style=\"display:none;\">\n",
       "\n",
       "<svg xmlns=\"http://www.w3.org/2000/svg\" height=\"24px\"viewBox=\"0 0 24 24\"\n",
       "     width=\"24px\">\n",
       "    <g>\n",
       "        <path d=\"M19 3H5c-1.1 0-2 .9-2 2v14c0 1.1.9 2 2 2h14c1.1 0 2-.9 2-2V5c0-1.1-.9-2-2-2zM9 17H7v-7h2v7zm4 0h-2V7h2v10zm4 0h-2v-4h2v4z\"/>\n",
       "    </g>\n",
       "</svg>\n",
       "      </button>\n",
       "\n",
       "<style>\n",
       "  .colab-df-quickchart {\n",
       "      --bg-color: #E8F0FE;\n",
       "      --fill-color: #1967D2;\n",
       "      --hover-bg-color: #E2EBFA;\n",
       "      --hover-fill-color: #174EA6;\n",
       "      --disabled-fill-color: #AAA;\n",
       "      --disabled-bg-color: #DDD;\n",
       "  }\n",
       "\n",
       "  [theme=dark] .colab-df-quickchart {\n",
       "      --bg-color: #3B4455;\n",
       "      --fill-color: #D2E3FC;\n",
       "      --hover-bg-color: #434B5C;\n",
       "      --hover-fill-color: #FFFFFF;\n",
       "      --disabled-bg-color: #3B4455;\n",
       "      --disabled-fill-color: #666;\n",
       "  }\n",
       "\n",
       "  .colab-df-quickchart {\n",
       "    background-color: var(--bg-color);\n",
       "    border: none;\n",
       "    border-radius: 50%;\n",
       "    cursor: pointer;\n",
       "    display: none;\n",
       "    fill: var(--fill-color);\n",
       "    height: 32px;\n",
       "    padding: 0;\n",
       "    width: 32px;\n",
       "  }\n",
       "\n",
       "  .colab-df-quickchart:hover {\n",
       "    background-color: var(--hover-bg-color);\n",
       "    box-shadow: 0 1px 2px rgba(60, 64, 67, 0.3), 0 1px 3px 1px rgba(60, 64, 67, 0.15);\n",
       "    fill: var(--button-hover-fill-color);\n",
       "  }\n",
       "\n",
       "  .colab-df-quickchart-complete:disabled,\n",
       "  .colab-df-quickchart-complete:disabled:hover {\n",
       "    background-color: var(--disabled-bg-color);\n",
       "    fill: var(--disabled-fill-color);\n",
       "    box-shadow: none;\n",
       "  }\n",
       "\n",
       "  .colab-df-spinner {\n",
       "    border: 2px solid var(--fill-color);\n",
       "    border-color: transparent;\n",
       "    border-bottom-color: var(--fill-color);\n",
       "    animation:\n",
       "      spin 1s steps(1) infinite;\n",
       "  }\n",
       "\n",
       "  @keyframes spin {\n",
       "    0% {\n",
       "      border-color: transparent;\n",
       "      border-bottom-color: var(--fill-color);\n",
       "      border-left-color: var(--fill-color);\n",
       "    }\n",
       "    20% {\n",
       "      border-color: transparent;\n",
       "      border-left-color: var(--fill-color);\n",
       "      border-top-color: var(--fill-color);\n",
       "    }\n",
       "    30% {\n",
       "      border-color: transparent;\n",
       "      border-left-color: var(--fill-color);\n",
       "      border-top-color: var(--fill-color);\n",
       "      border-right-color: var(--fill-color);\n",
       "    }\n",
       "    40% {\n",
       "      border-color: transparent;\n",
       "      border-right-color: var(--fill-color);\n",
       "      border-top-color: var(--fill-color);\n",
       "    }\n",
       "    60% {\n",
       "      border-color: transparent;\n",
       "      border-right-color: var(--fill-color);\n",
       "    }\n",
       "    80% {\n",
       "      border-color: transparent;\n",
       "      border-right-color: var(--fill-color);\n",
       "      border-bottom-color: var(--fill-color);\n",
       "    }\n",
       "    90% {\n",
       "      border-color: transparent;\n",
       "      border-bottom-color: var(--fill-color);\n",
       "    }\n",
       "  }\n",
       "</style>\n",
       "\n",
       "      <script>\n",
       "        async function quickchart(key) {\n",
       "          const quickchartButtonEl =\n",
       "            document.querySelector('#' + key + ' button');\n",
       "          quickchartButtonEl.disabled = true;  // To prevent multiple clicks.\n",
       "          quickchartButtonEl.classList.add('colab-df-spinner');\n",
       "          try {\n",
       "            const charts = await google.colab.kernel.invokeFunction(\n",
       "                'suggestCharts', [key], {});\n",
       "          } catch (error) {\n",
       "            console.error('Error during call to suggestCharts:', error);\n",
       "          }\n",
       "          quickchartButtonEl.classList.remove('colab-df-spinner');\n",
       "          quickchartButtonEl.classList.add('colab-df-quickchart-complete');\n",
       "        }\n",
       "        (() => {\n",
       "          let quickchartButtonEl =\n",
       "            document.querySelector('#df-d0fe0005-8133-4729-a7ef-718dae416726 button');\n",
       "          quickchartButtonEl.style.display =\n",
       "            google.colab.kernel.accessAllowed ? 'block' : 'none';\n",
       "        })();\n",
       "      </script>\n",
       "    </div>\n",
       "\n",
       "  <div id=\"id_fa6f683b-65bd-4ad5-a089-ab0f51013778\">\n",
       "    <style>\n",
       "      .colab-df-generate {\n",
       "        background-color: #E8F0FE;\n",
       "        border: none;\n",
       "        border-radius: 50%;\n",
       "        cursor: pointer;\n",
       "        display: none;\n",
       "        fill: #1967D2;\n",
       "        height: 32px;\n",
       "        padding: 0 0 0 0;\n",
       "        width: 32px;\n",
       "      }\n",
       "\n",
       "      .colab-df-generate:hover {\n",
       "        background-color: #E2EBFA;\n",
       "        box-shadow: 0px 1px 2px rgba(60, 64, 67, 0.3), 0px 1px 3px 1px rgba(60, 64, 67, 0.15);\n",
       "        fill: #174EA6;\n",
       "      }\n",
       "\n",
       "      [theme=dark] .colab-df-generate {\n",
       "        background-color: #3B4455;\n",
       "        fill: #D2E3FC;\n",
       "      }\n",
       "\n",
       "      [theme=dark] .colab-df-generate:hover {\n",
       "        background-color: #434B5C;\n",
       "        box-shadow: 0px 1px 3px 1px rgba(0, 0, 0, 0.15);\n",
       "        filter: drop-shadow(0px 1px 2px rgba(0, 0, 0, 0.3));\n",
       "        fill: #FFFFFF;\n",
       "      }\n",
       "    </style>\n",
       "    <button class=\"colab-df-generate\" onclick=\"generateWithVariable('df')\"\n",
       "            title=\"Generate code using this dataframe.\"\n",
       "            style=\"display:none;\">\n",
       "\n",
       "  <svg xmlns=\"http://www.w3.org/2000/svg\" height=\"24px\"viewBox=\"0 0 24 24\"\n",
       "       width=\"24px\">\n",
       "    <path d=\"M7,19H8.4L18.45,9,17,7.55,7,17.6ZM5,21V16.75L18.45,3.32a2,2,0,0,1,2.83,0l1.4,1.43a1.91,1.91,0,0,1,.58,1.4,1.91,1.91,0,0,1-.58,1.4L9.25,21ZM18.45,9,17,7.55Zm-12,3A5.31,5.31,0,0,0,4.9,8.1,5.31,5.31,0,0,0,1,6.5,5.31,5.31,0,0,0,4.9,4.9,5.31,5.31,0,0,0,6.5,1,5.31,5.31,0,0,0,8.1,4.9,5.31,5.31,0,0,0,12,6.5,5.46,5.46,0,0,0,6.5,12Z\"/>\n",
       "  </svg>\n",
       "    </button>\n",
       "    <script>\n",
       "      (() => {\n",
       "      const buttonEl =\n",
       "        document.querySelector('#id_fa6f683b-65bd-4ad5-a089-ab0f51013778 button.colab-df-generate');\n",
       "      buttonEl.style.display =\n",
       "        google.colab.kernel.accessAllowed ? 'block' : 'none';\n",
       "\n",
       "      buttonEl.onclick = () => {\n",
       "        google.colab.notebook.generateWithVariable('df');\n",
       "      }\n",
       "      })();\n",
       "    </script>\n",
       "  </div>\n",
       "\n",
       "    </div>\n",
       "  </div>\n"
      ],
      "application/vnd.google.colaboratory.intrinsic+json": {
       "type": "dataframe",
       "variable_name": "df",
       "summary": "{\n  \"name\": \"df\",\n  \"rows\": 13,\n  \"fields\": [\n    {\n      \"column\": \"model\",\n      \"properties\": {\n        \"dtype\": \"string\",\n        \"num_unique_values\": 13,\n        \"samples\": [\n          \"llm4chem_a\",\n          \"chemcrow_b\",\n          \"llm_only_a\"\n        ],\n        \"semantic_type\": \"\",\n        \"description\": \"\"\n      }\n    },\n    {\n      \"column\": \"Draw 3D representation of CC(=O)OC1=CC=CC=C1C(=O)O?\",\n      \"properties\": {\n        \"dtype\": \"object\",\n        \"semantic_type\": \"\",\n        \"description\": \"\"\n      }\n    }\n  ]\n}"
      }
     },
     "metadata": {},
     "execution_count": 87
    }
   ],
   "source": [
    "df = pd.DataFrame.from_dict(results[\"query_4\"], orient=\"index\", columns=[f\"{query_4}\"])\n",
    "df = df.reset_index().rename(columns={\"index\": \"model\"})\n",
    "df"
   ]
  },
  {
   "cell_type": "code",
   "execution_count": null,
   "id": "ppU6iquiX9ea",
   "metadata": {
    "id": "ppU6iquiX9ea"
   },
   "outputs": [],
   "source": [
    "df.to_csv(\"answers_4.csv\")"
   ]
  },
  {
   "cell_type": "markdown",
   "source": [
    "## Key Learnings\n",
    "\n",
    "### Performance Summary by Approach\n",
    "\n",
    "Based on our comprehensive testing, here's how each approach performed:\n",
    "\n",
    "**1. Vanilla LLM Approaches (GPT-3.5, GPT-4o-mini, O3-mini)**\n",
    "- \u26a0\ufe0f Molecular Formula: Consistently incorrect calculations\n",
    "- \u26a0\ufe0f Molecular Weight: Inaccurate numerical results  \n",
    "- \u274c 2D Visualization: Text descriptions only, no actual images\n",
    "- \u274c 3D Visualization: Cannot generate interactive models\n",
    "- **Verdict**: Insufficient for scientific applications requiring precision\n",
    "\n",
    "**2. LCEL Chain Approaches**\n",
    "- \u26a0\ufe0f Similar limitations to vanilla LLMs\n",
    "- \u274c Better structured responses but still incorrect results\n",
    "- **Verdict**: Prompting alone cannot overcome fundamental limitations\n",
    "\n",
    "**3. Custom RDKit Tools + Agents**\n",
    "- \u2705 Molecular Formula: Accurate results using RDKit calculations\n",
    "- \u2705 Molecular Weight: Precise numerical values\n",
    "- \u2705 2D Visualization: Actual molecular structure images\n",
    "- \u2705 3D Visualization: Interactive 3D models in Jupyter\n",
    "- **Verdict**: Highly effective for predefined chemical tasks\n",
    "\n",
    "**4. RAG + Code Generation Agents**\n",
    "- \u2705 Flexible approach handling diverse requests\n",
    "- \u2705 Educational value showing code generation process\n",
    "- \u26a0\ufe0f Possible inconsistent code quality depending on documentation retrieval\n",
    "- **Verdict**: Most flexible but requires careful implementation\n",
    "\n",
    "### Best Practices for Chemistry AI Applications\n",
    "\n",
    "1. **Always Use Domain-Specific Tools**: LLMs alone are insufficient for scientific calculations\n",
    "2. **Combine Multiple Approaches**: Use custom tools for common tasks, RAG for flexibility\n",
    "3. **Implement Error Handling**: Chemical data can be complex and error-prone\n",
    "4. **Validate Results**: Cross-check AI-generated results with known chemical databases\n",
    "5. **Design for Transparency**: Use ReAct agents to show reasoning process\n",
    "6. **Consider User Experience**: Balance accuracy, speed, and interpretability\n",
    "\n",
    "### Production Recommendations\n",
    "\n",
    "For production chemistry applications, we recommend:\n",
    "\n",
    "**Tier 1 (High-Frequency Tasks)**: Custom tools with pre-built functions\n",
    "- Molecular formula calculation\n",
    "- Basic property prediction  \n",
    "- Standard visualizations\n",
    "\n",
    "**Tier 2 (Research Tasks)**: RAG-enabled agents for flexibility\n",
    "- Novel analysis requests\n",
    "- Educational explanations\n",
    "- Complex multi-step procedures\n",
    "\n",
    "**Tier 3 (Quality Assurance)**: Human expert review for critical results\n",
    "- Drug discovery applications\n",
    "- Safety assessments\n",
    "- Publication-quality analysis"
   ],
   "metadata": {
    "id": "xHhpTSIp4kDT"
   },
   "id": "xHhpTSIp4kDT"
  },
  {
   "cell_type": "markdown",
   "source": [
    "Part 1a with ChemCrow:\n",
    "\n",
    "[![Open In Colab](https://colab.research.google.com/assets/colab-badge.svg)](https://colab.research.google.com/drive/1j-GUmHdYNaAeKBZbbnF-yXg9dksIyirS?usp=sharing)\n",
    "\n",
    "Part 1b with Cactus:\n",
    "\n",
    "[![Open In Colab](https://colab.research.google.com/assets/colab-badge.svg)](https://colab.research.google.com/drive/1sDkTWOI1QUR_V2QWW6rYAqI89OHFj7gt?usp=sharing)\n",
    "\n",
    "Part 1c with LLM4Chem/LlaSMol-Llama2-7B:\n",
    "\n",
    "[![Open In Colab](https://colab.research.google.com/assets/colab-badge.svg)](https://colab.research.google.com/drive/1oLp9dwqxj6wpGnfuuhphp_v7U2Bn3-RM?usp=sharing?usp=sharing)\n",
    "\n",
    "Part 2 with LangChain Agents (current):\n",
    "\n",
    "[![Open In Colab](https://colab.research.google.com/assets/colab-badge.svg)](https://colab.research.google.com/drive/1CIIZ4cGrO7hX1tvby3K-nr4A5qUMaO7P?usp=sharing)"
   ],
   "metadata": {
    "id": "RdrE-oiyHkrD"
   },
   "id": "RdrE-oiyHkrD"
  }
 ],
 "metadata": {
  "colab": {
   "provenance": [
    {
     "file_id": "1h25umSRt79vyQUWQd0stxX5H6ySH3CQj",
     "timestamp": 1718491939161
    }
   ]
  },
  "kernelspec": {
   "display_name": "Python 3 (ipykernel)",
   "language": "python",
   "name": "python3"
  },
  "language_info": {
   "codemirror_mode": {
    "name": "ipython",
    "version": 3
   },
   "file_extension": ".py",
   "mimetype": "text/x-python",
   "name": "python",
   "nbconvert_exporter": "python",
   "pygments_lexer": "ipython3",
   "version": "3.10.12"
  }
 },
 "nbformat": 4,
 "nbformat_minor": 5
}
