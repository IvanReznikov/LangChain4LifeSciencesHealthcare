{
 "cells": [
  {
   "cell_type": "markdown",
   "source": [
    "## Code to Chapter 2 of LangChain for Life Science and Healthcare book, by Dr. Ivan Reznikov\n",
    "\n",
    "[![Open In Colab](https://colab.research.google.com/assets/colab-badge.svg)](https://colab.research.google.com/drive/1hxKOw6xrZ8AbmQuOQ7xw_j3fsQQe2HDi?usp=sharing)\n",
    "\n",
    "This notebook demonstrates different embedding models and tokenization approaches for:\n",
    "1. Medical/biomedical text processing\n",
    "2. Chemical structure representation (SMILES/SELFIES)\n",
    "3. Comparative analysis of embedding quality across domains"
   ],
   "metadata": {
    "id": "TgSUCL7mAIBY"
   }
  },
  {
   "cell_type": "markdown",
   "source": [
    "❗IMPORTANT: if you get an error don't panic - simply restart the notebook and run all cells. This issue is well known for google colab❗\n",
    "\n",
    "Just click on Runtime -> Restart session and run all\n"
   ],
   "metadata": {
    "id": "EBEeYYqpo1u_"
   }
  },
  {
   "cell_type": "markdown",
   "source": [
    "### Installation and Setup\n",
    "\n",
    "Installing required packages for:\n",
    "- LangChain ecosystem for LLM orchestration\n",
    "- Sentence transformers for embedding models\n",
    "- Chemical informatics tools (DeepChem, SELFIES)\n",
    "- NLP preprocessing tools"
   ],
   "metadata": {
    "id": "4I-vcMyj17k0"
   }
  },
  {
   "cell_type": "code",
   "source": [
    "# Core LangChain packages for LLM orchestration and embeddings\n",
    "#!pip install -qU langchain langchain-community langchain-core langchain-openai openai langchain_experimental sentence_transformers\n",
    "\n",
    "!pip install -qU google-ai-generativelanguage==0.6.15 \\\n",
    "      google-cloud-language==2.17.1 \\\n",
    "      langchain \\\n",
    "      langchain-community \\\n",
    "      langchain_huggingface \\\n",
    "      langchain-core \\\n",
    "      langchain-openai \\\n",
    "      langchain-experimental \\\n",
    "      langchain-text-splitters==0.3.8 \\\n",
    "      langcodes==3.5.0 \\\n",
    "      langsmith==0.3.44 \\\n",
    "      language_data==1.3.0 \\\n",
    "      libclang==18.1.1 \\\n",
    "      openai==1.84.0 \\\n",
    "      sentence-transformers==4.1.0 \\\n",
    "      transformers==4.52.4\n",
    "\n",
    "# Text processing and tokenization utilities\n",
    "!pip install -q tiktoken spacy #tiktoken==0.6.0\n",
    "!pip install -q numpy==1.26.4\n",
    "\n",
    "# Chemical informatics and molecular representation tools\n",
    "!pip install -q --pre deepchem[tensorflow]\n",
    "\n",
    "# SELFIES (Self-Referencing Embedded Strings) for molecular representation\n",
    "!pip install -q selfies"
   ],
   "metadata": {
    "id": "N7est06HAVfb",
    "colab": {
     "base_uri": "https://localhost:8080/"
    },
    "executionInfo": {
     "status": "ok",
     "timestamp": 1749723035224,
     "user_tz": -240,
     "elapsed": 77452,
     "user": {
      "displayName": "Ivan Reznikov",
      "userId": "03906939862966425294"
     }
    },
    "outputId": "081f5c6b-337c-466e-fe46-c092b69415f9"
   },
   "execution_count": null,
   "outputs": [
    {
     "output_type": "stream",
     "name": "stdout",
     "text": [
      "\u001b[2K     \u001b[90m━━━━━━━━━━━━━━━━━━━━━━━━━━━━━━━━━━━━━━━━\u001b[0m \u001b[32m62.1/62.1 kB\u001b[0m \u001b[31m3.4 MB/s\u001b[0m eta \u001b[36m0:00:00\u001b[0m\n",
      "\u001b[2K   \u001b[90m━━━━━━━━━━━━━━━━━━━━━━━━━━━━━━━━━━━━━━━━\u001b[0m \u001b[32m16.9/16.9 MB\u001b[0m \u001b[31m30.1 MB/s\u001b[0m eta \u001b[36m0:00:00\u001b[0m\n",
      "\u001b[?25h\u001b[31mERROR: pip's dependency resolver does not currently take into account all the packages that are installed. This behaviour is the source of the following dependency conflicts.\n",
      "deepchem 2.8.1.dev20250609174000 requires numpy<2, but you have numpy 2.3.0 which is incompatible.\n",
      "cupy-cuda12x 13.3.0 requires numpy<2.3,>=1.22, but you have numpy 2.3.0 which is incompatible.\n",
      "tensorflow 2.18.0 requires numpy<2.1.0,>=1.26.0, but you have numpy 2.3.0 which is incompatible.\n",
      "numba 0.60.0 requires numpy<2.1,>=1.22, but you have numpy 2.3.0 which is incompatible.\u001b[0m\u001b[31m\n",
      "\u001b[0m\u001b[31mERROR: pip's dependency resolver does not currently take into account all the packages that are installed. This behaviour is the source of the following dependency conflicts.\n",
      "thinc 8.3.6 requires numpy<3.0.0,>=2.0.0, but you have numpy 1.26.4 which is incompatible.\u001b[0m\u001b[31m\n",
      "\u001b[0m"
     ]
    }
   ]
  },
  {
   "cell_type": "code",
   "source": [
    "# Check installed versions of key packages for reproducibility\n",
    "!pip freeze | grep \"lang\\|openai\\|transformers\\|numpy\""
   ],
   "metadata": {
    "id": "pd93Tk9JL_Vi",
    "colab": {
     "base_uri": "https://localhost:8080/"
    },
    "executionInfo": {
     "status": "ok",
     "timestamp": 1749723037932,
     "user_tz": -240,
     "elapsed": 2704,
     "user": {
      "displayName": "Ivan Reznikov",
      "userId": "03906939862966425294"
     }
    },
    "outputId": "4964dee4-04a8-443e-ac79-62f774609f77"
   },
   "execution_count": null,
   "outputs": [
    {
     "output_type": "stream",
     "name": "stdout",
     "text": [
      "google-ai-generativelanguage==0.6.15\n",
      "google-cloud-language==2.17.1\n",
      "langchain==0.3.25\n",
      "langchain-community==0.3.24\n",
      "langchain-core==0.3.63\n",
      "langchain-experimental==0.3.4\n",
      "langchain-huggingface==0.2.0\n",
      "langchain-openai==0.3.19\n",
      "langchain-text-splitters==0.3.8\n",
      "langcodes==3.5.0\n",
      "langsmith==0.3.44\n",
      "language_data==1.3.0\n",
      "libclang==18.1.1\n",
      "numpy==1.26.4\n",
      "openai==1.84.0\n",
      "sentence-transformers==4.1.0\n",
      "transformers==4.52.4\n"
     ]
    }
   ]
  },
  {
   "cell_type": "markdown",
   "source": [
    "### API Configuration\n",
    "\n",
    "Setting up API keys for external services:\n",
    "- OpenAI API for embeddings and language models\n",
    "- Hugging Face token for accessing gated models"
   ],
   "metadata": {
    "id": "tBXJwsiBCU_e"
   }
  },
  {
   "cell_type": "code",
   "source": [
    "import os\n",
    "from google.colab import userdata\n",
    "\n",
    "# Configure API keys from Colab secrets\n",
    "# These keys enable access to OpenAI embeddings and Hugging Face models\n",
    "try:\n",
    "    os.environ[\"OPENAI_API_KEY\"] = userdata.get(\"LC4LS_OPENAI_API_KEY\")\n",
    "    os.environ[\"HF_TOKEN\"] = userdata.get(\"HF_TOKEN\")\n",
    "except Exception as e:\n",
    "    print(e)"
   ],
   "metadata": {
    "id": "KJng7FAmCUGH"
   },
   "execution_count": null,
   "outputs": []
  },
  {
   "cell_type": "markdown",
   "source": [
    "### Import Required Libraries\n",
    "\n",
    "Importing embedding models from different sources:\n",
    "- LangChain wrappers for Hugging Face and OpenAI embeddings\n",
    "- Direct sentence-transformers for more control over model behavior"
   ],
   "metadata": {
    "id": "eiS1US2R17k6"
   }
  },
  {
   "cell_type": "markdown",
   "source": [
    "❗IMPORTANT: if you get an error below - simply restart the notebook and run all cells. This issue is well known for google colab❗\n",
    "\n",
    "Just click on Runtime -> Restart session and run all"
   ],
   "metadata": {
    "id": "CwRPlBsDFD04"
   }
  },
  {
   "cell_type": "code",
   "source": [
    "# LangChain embedding wrappers\n",
    "from langchain_huggingface import HuggingFaceEmbeddings\n",
    "from langchain_openai import OpenAIEmbeddings\n",
    "\n",
    "# Direct sentence-transformers interface for more granular control\n",
    "from sentence_transformers import SentenceTransformer"
   ],
   "metadata": {
    "id": "xe0mGB3TAVjm"
   },
   "execution_count": null,
   "outputs": []
  },
  {
   "cell_type": "markdown",
   "source": [
    "### Utility Functions for Embedding Analysis\n",
    "\n",
    "These functions help us:\n",
    "1. Calculate cosine similarity matrices between embeddings\n",
    "2. Generate embeddings using different model interfaces\n",
    "3. Compare embedding quality across different models"
   ],
   "metadata": {
    "id": "sHt-6Icg17k8"
   }
  },
  {
   "cell_type": "code",
   "source": [
    "from sklearn.metrics.pairwise import cosine_similarity\n",
    "import numpy as np\n",
    "import torch\n",
    "\n",
    "# Sample sentences for testing medical/biomedical text embeddings\n",
    "# These sentences contain related medical concepts to test semantic understanding\n",
    "sentences = [\n",
    "    \"The acute inflammation could cause large damage\",\n",
    "    \"Chronic inflammation can be harmful to tissues\",\n",
    "    \"His condition improved when the local inflammatory reaction subsided\",\n",
    "    \"Her joint swelling reduced significantly\",\n",
    "    \"The doctor noted no signs of edema in the affected area\",\n",
    "    \"The anti-inflammatory medication was found in his blood\",\n",
    "    \"A standard procedure that fires up his blood\",\n",
    "]\n",
    "\n",
    "\n",
    "def compute_similarity_matrix(embeddings_list):\n",
    "    \"\"\"Computes the cosine similarity matrix from a list of embeddings.\n",
    "\n",
    "    Args:\n",
    "        embeddings_list: List of embeddings or torch.Tensor containing embeddings\n",
    "\n",
    "    Returns:\n",
    "        numpy.ndarray: Symmetric similarity matrix with values between -1 and 1\n",
    "    \"\"\"\n",
    "    num_sentences = len(embeddings_list)\n",
    "    similarity_matrix = np.zeros((num_sentences, num_sentences))\n",
    "\n",
    "    for i in range(num_sentences):\n",
    "        for j in range(\n",
    "            i, num_sentences\n",
    "        ):  # Only compute upper triangular part for efficiency\n",
    "            # Handle PyTorch tensors by converting to numpy\n",
    "            if isinstance(embeddings_list, torch.Tensor):\n",
    "                _embeddings_list = embeddings_list.detach().numpy()\n",
    "                embedding_i, embedding_j = [list(_embeddings_list[i])], [\n",
    "                    list(_embeddings_list[j])\n",
    "                ]\n",
    "            else:\n",
    "                embedding_i, embedding_j = [embeddings_list[i]], [embeddings_list[j]]\n",
    "\n",
    "            # Calculate cosine similarity between two embeddings\n",
    "            similarity = np.ndarray.flatten(\n",
    "                cosine_similarity(embedding_i, embedding_j)\n",
    "            )[0]\n",
    "\n",
    "            # Fill both triangular parts (matrix is symmetric)\n",
    "            similarity_matrix[i, j] = similarity\n",
    "            similarity_matrix[j, i] = similarity\n",
    "\n",
    "    # Ensure diagonal is 1.0 (self-similarity)\n",
    "    np.fill_diagonal(similarity_matrix, 1)\n",
    "    return similarity_matrix\n",
    "\n",
    "\n",
    "def get_embeddings(model, sentences, use_encode=True):\n",
    "    \"\"\"Gets embeddings for sentences using a specified model.\n",
    "\n",
    "    Args:\n",
    "        model: Embedding model (either LangChain wrapper or SentenceTransformer)\n",
    "        sentences: List of strings to embed\n",
    "        use_encode: Boolean, whether to use .encode() method (SentenceTransformer)\n",
    "                   or .embed_query() method (LangChain wrapper)\n",
    "\n",
    "    Returns:\n",
    "        List or numpy.ndarray of embeddings\n",
    "    \"\"\"\n",
    "    if not use_encode:\n",
    "        # LangChain interface - embed each sentence individually\n",
    "        embeddings_list = [model.embed_query(s) for s in sentences]\n",
    "    else:\n",
    "        # SentenceTransformer interface - batch embedding (more efficient)\n",
    "        embeddings_list = model.encode(sentences)\n",
    "    return embeddings_list"
   ],
   "metadata": {
    "id": "MiBAVvBlIIVn"
   },
   "execution_count": null,
   "outputs": []
  },
  {
   "cell_type": "markdown",
   "source": [
    "### Initialize Different Embedding Models\n",
    "\n",
    "We're comparing several types of embedding models:\n",
    "1. **General-purpose models**: MPNet (good general performance)\n",
    "2. **Commercial models**: OpenAI's text-embedding-3-large (high quality, API-based)\n",
    "3. **Multilingual models**: BGE-M3 (supports multiple languages)\n",
    "4. **Domain-specific models**: Medical embeddings (MedEmbed, BGE-medical)\n",
    "\n",
    "This comparison helps understand which models work best for life science applications."
   ],
   "metadata": {
    "id": "Gj2myv-M17k-"
   }
  },
  {
   "cell_type": "code",
   "source": [
    "# Initialize different embedding models for comparison\n",
    "\n",
    "# 1. MPNet: Strong general-purpose sentence transformer\n",
    "# Good baseline for semantic similarity tasks\n",
    "mpnet_embeddings = HuggingFaceEmbeddings(\n",
    "    model_name=\"sentence-transformers/all-mpnet-base-v2\"\n",
    ")\n",
    "\n",
    "# 2. OpenAI: Commercial embedding model with high performance\n",
    "# Large model (3072 dimensions) with strong semantic understanding\n",
    "openai_embedding = OpenAIEmbeddings(model=\"text-embedding-3-large\")\n",
    "\n",
    "# 3. BGE-M3: Multilingual embedding model\n",
    "# Good for cross-lingual applications and general semantic tasks\n",
    "bge_embedding = SentenceTransformer(\"BAAI/bge-m3\")\n",
    "\n",
    "# 4. MedEmbed: Specialized medical embedding model\n",
    "# Trained on medical literature and clinical text\n",
    "med_model = SentenceTransformer(\"abhinand/MedEmbed-large-v0.1\")\n",
    "\n",
    "# 5. BGE Medical: BGE model fine-tuned on medical data\n",
    "# Combines BGE's strong base with medical domain knowledge\n",
    "bge_med_model = SentenceTransformer(\"ls-da3m0ns/bge_large_medical\")\n",
    "\n",
    "# Note: Scientific paper embedding model commented out due to potential loading issues\n",
    "# sci_model = SentenceTransformer('fine-tuned/jinaai_jina-embeddings-v2-base-en-scientific-papers-from-arxiv', trust_remote_code=True)"
   ],
   "metadata": {
    "id": "RgzSxW7WIPaj",
    "colab": {
     "base_uri": "https://localhost:8080/",
     "height": 1000,
     "referenced_widgets": [
      "110d716511c44d3e873b52164bfa0198",
      "52b23343677949e2b2a58553a24e7fbc",
      "56277f8487234558a93f4e0f157ecdca",
      "875b103a0f4c446ca17f755fc40fb538",
      "f7894de3e610408c8396666eb960f05f",
      "3e0f1d37d05d4a60b4258926e925e755",
      "3231990af87b4db395eca67589ec8880",
      "c5c4cb1a1b2a4a2abc980ecd5964d797",
      "09769ac85e2c4133b80745f148be4539",
      "5cef7d9e29524da9a5b3e3c9712fcad6",
      "0b9615eacda146508061a714ec7c3bd7",
      "61de883520cc4559b98cee652cd7616f",
      "4941a9d1fcfb409c93e15ee9bdee2e5f",
      "a31751071ff440f59fd3c3745fe2ab1f",
      "c1fdec69367c43e881ea566cecd50bf3",
      "e459756a3bc14b4681e6f1edf6a608f3",
      "fdc2fa8b494940428d1d93c76029f5d9",
      "ab32e306aa7b435ebfd8b689a05cde43",
      "e89a5cc3128f46f6b648febf5bd542d8",
      "2438801e821a4d1187d980be9a4ae629",
      "3a50393925ff4744bed67f32b6b4cd51",
      "85bd28ed8c7c4f60aa864a7e8329a216",
      "c53f62958e894ca389d3651d8930f8c5",
      "5f0d71b70f7d44a0b3fb1e78fd47cf15",
      "30f3485af358478aaaa2354e96b68878",
      "f4d32bc686b84deeb412b9e5f20c2730",
      "97b731e0e4144e039595f3493c3a54a7",
      "a8df561f294a4d06821665feaf373a45",
      "f7c638bc1eff487e8ea73c40d1fdd6c3",
      "4a63419b2cce49c8bf3c0467aacb672c",
      "db00325d84d64c6f888aeae5797c2180",
      "bcf2d7f0a30049a8978c5dbbf5d45935",
      "057f5a21a87043b8a303f30553c0f834",
      "8776e39446104c30b5ad109de738133a",
      "7c74c9801ca74f9d8cf476cc0e183437",
      "acf813b8571f43e8b3b223f39bdeba4e",
      "891c46f0caeb44b8902bd8d11c6d0837",
      "4c201dea16884a479b97ffed2defa01d",
      "43579c33ad8246d68f278bc5be70dc79",
      "982ab9dcbee844b9be49f312955e8559",
      "221a71706d02494e9bb7dd84fd1b32a4",
      "d24e10853d77453c849e4ca515f6be1b",
      "bb14dbaa078b47dbaa27ae75193167e1",
      "7b4a24eaa50444bd90ef254e05e7ccb9",
      "f6727f15da684ea3922ca9b121569abc",
      "808f05462b764f6899d6181826f36b49",
      "b88634f65b554d4aa78284c1a5bcd784",
      "15ba841f382d431296991f4963945aee",
      "f70d7ded9392436b9ec71754154683b3",
      "2707035583ba430d846475e11023cb99",
      "4e8678033e6843d0847a5f9c449e096d",
      "8d437c8304954147af374930facadbbb",
      "1c5b6c7894ea4040a6a616f3a5c018d9",
      "ee39823929104d8f981e3890c8227da9",
      "653b7c65d43049fca3c558b3a8cf8abb",
      "d7d070f1799646d19b1ab8caaff0a8e6",
      "8df35b5dbec04ef784e85313969b8471",
      "fa4ffb8e3e8d49519997cba18ed7cbf5",
      "171b8793a3c9471e91172bab81073a10",
      "ac30ba9bff394ebaaa2cd8fa94875f8e",
      "b1b1417e13334fd2ab001ed8b68f8769",
      "4c0d3948e8fb448b856045bacaac6bff",
      "617cb178205d46518f9e07639258e23f",
      "2797259d7d85409f8dd3b2b682169c86",
      "c3e243b9d70a43699944e9af6c1069da",
      "182732f970734f4d814e06724d37f356",
      "cbce65d0151c4bae83c2bcfc829e29da",
      "51ce7d348b094e3e91cb4b2a2d55b1c3",
      "a48f6ae234af4c12a0457bd091c1c436",
      "0b00487e622440e8bbf5fe05a3dd0a15",
      "173f43e843dd4ebfbc2fd66c2cf087ea",
      "e3ee3e977f5647f38cae5c1b86d4f0b9",
      "4b1a8cc62dc74bfb9ef5432ad218a001",
      "37101357be9b4baea36ed2e1fb8b01ca",
      "8f39aeefc68c47c2aac645b7c9de9b9c",
      "097118defb554d6a990e528ff5948533",
      "430a86bd7e284a458719b82eaed5a8b4",
      "f21829991b0844cf95ba43878f1740cc",
      "75d277bc6bd347ac9628f037587136ec",
      "051bc701209d4ac7ba57ead56efe32de",
      "1ce31ddc868e49d0bcc51b5391fa1a00",
      "87729392b27644bd9b01a48e16a676a5",
      "035ee38e72584bf3899e2bd3a7d347f4",
      "e974c9f5040c4f859dcacc3192965dff",
      "07c2163078504e8787e67b2e74e4b641",
      "05858a5d70534c09a01b2388da4d8c00",
      "defaeded21ba4f92a8c23f78e9ff4e78",
      "773635c503b1480db950332128410698",
      "f75358d6003f468982541de3082575a0",
      "fe8ccaca66dc4349890383b15bb0340c",
      "40cd1170eb5b4e3b8cd875b56623d52a",
      "87c4341cf72c42ccb4c9976c22b64ced",
      "4e45da2f8ea14ba1bc041fe37581bb7e",
      "5d3e9018d0274b1cadb77aed087d2f2f",
      "874618cc27ea487a979e02fbe553f622",
      "87d9d4b036a2400080b1b420c53d1d14",
      "0e138ae73def45a183c398f5a526eea5",
      "96556750e09a4465baf37bd750b070d1",
      "7a054b698ab945a59ca4da8feb2d18e7",
      "8b521848d21f40efb91e7b2e3e319bd9",
      "6ea92d3d7ef144248bff81072d44c91b",
      "f4ee6fcba3c44d43868069f42fbddae5",
      "4cd8b3cf6e5b4fbd998009c9133c1b70",
      "178e9ee4c1824e7dabc75f0698283e20",
      "336e71f4848145c496aef53c8324d01d",
      "a09e8ed073394857b34bdf6871269c05",
      "7e72cf4a856349a5a7f24dc7ac8e3bf2",
      "ff2a69230c594b2f9383ffab6aa63f71",
      "5327043f11714ef9b33f6370076af53c",
      "2dc9e6acbab2422688d194a50afe9444",
      "eb60d05f0d7e45d0b5a0a22210b8f054",
      "24055a7d008c4a6c8571db8498992b57",
      "0608989d98034cdbac1a0b3606cc54ed",
      "58c7340169644ac3bbf271374b618bf1",
      "c28a2473777c43028cd43da0e57d7dc0",
      "2f450c048a994fb8b00b8da45438471a",
      "377252fb1c74494eb45b8e420b929dfc",
      "49f3c6907a514a51b968fb65d7284975",
      "54dcf42c47ac4b519439135fe7c3f823",
      "a017ef8aa0c84dc89b79fdf487f078c3",
      "3c307d56166b44f9a12e87c0bd6a45c1",
      "a97e8bd535524f4bb3932504459eee48",
      "ef465f4e64ed465793199c98053c2290",
      "8eed0906600b4318a9bca5eadcef6b1d",
      "511b9fd15ae9431f8344e28314779647",
      "b9b98ae6a24a40ec9a04689c51b6031a",
      "31ef4c9b56954e3cb7f3e8ae8c4e82f4",
      "685bef76493547d5b27a44190d310845",
      "216b160ee7524b44b376534873f5962c",
      "7b40b498f921414fa8b398b1b1069654",
      "e02fd895cae04e5c89c3c3dffc9d2c7f",
      "9825ffbee8d547c584a06aac49f369d6",
      "3b64a4cbca2d43a0819c0abe631e8762",
      "bf48cdf66d374eb2b32a3d0a0632af28",
      "ec0ab460b1d743c0b60e32cb67749d0e",
      "877c0c64b8e34da688c99b3ea26666c6",
      "dbc462bfca3a483b9f13d8ccbe1e9573",
      "6ccefe18dbf943609a7fffed07c41652",
      "f2036def96a14422ab9d8a1af7dc380d",
      "e208f0240db64bec8aa948938ac79064",
      "892db085fe494d0fbe4a47cdf957cd1d",
      "50551245f47f4edb91e64b2cea6b4ec3",
      "e0838a2bf43642dda799f33a16159d6d",
      "0d5710514d624837bd95d65bd2c49544",
      "2bc1d89b59494d4ea8f5704c74e7dc2f",
      "dadc9746e0b748198a578330aff87ae3",
      "7ccf9bcdc7b14286b1eb5d5e716a603e",
      "f8cd63dcb6fd4c0c859f49e8c4e74fbd",
      "0693b967c455456bb5f232499c2599c3",
      "f32c817f84f547578c10699613b0451f",
      "3acff79f393d4a2fbde821c4e23be747",
      "1957daff821f4943aa8b562ed5c52f72",
      "39f2af5708724563ad3c72627cebd775",
      "0a73938ef7644e119824c19edf499cfb",
      "0f84d089e6ac4f31a66e8ddb2e146dcb",
      "bd16c5e3997f4756a78753e2ec75c51a",
      "74e9eebb646443f9b7d6157b50959997",
      "bf1a96080175453a80fb13643f187d9d",
      "72675360b84c4c2dbb80e1e39ddc3bda",
      "58e86982fe1a4147b30f76ccd64f1d13",
      "4a42be6ecff148778e2c7de38bc27430",
      "40a14f4ea6cc427c86d276814d962051",
      "fcf02166e947491fae6c36e621878105",
      "d9d1bead99bb440ab075b5a00a22bba7",
      "30aafd3efc7846dd8ac98c43d34746cd",
      "fbcafec8245a4b599885745caf6094bd",
      "a9c149fe40b244d593c422e31c6b3ca2",
      "e793247ad63c40b881b900cf3d7f53b1",
      "2e946b11410342d9a0b1051d894427bb",
      "87886912665f4cf6a2bff2b80230eb99",
      "caf75bdefb8e4f44a6cb72f3a97a44d4",
      "4d1805e510274e52b48511b37d9ed635",
      "3cec117e62164e19b9d7ffe38db94c27",
      "7ec7a112ebc34365b140e9089264fd73",
      "fe719c0ca26844818012431217802941",
      "b57723128e01468ca3baa141741d59f5",
      "d9c63fb034f6417aaa17d19d7f4ad44a",
      "30549e7dceac4c4e84e916842cfdde39",
      "637db6d564814bef8ea9aaf6ab134c34",
      "eb08e86debf84b459860fb5902c6c9e9",
      "7b292e784e144f2d844332f2647517c1",
      "bbcbb958ba5b4f85b72a0475b1342f57",
      "06f762d1266b4a07b709aa7b2aefcce2",
      "eb39265d054c4f6baf613959e66bb254",
      "f5322ac209914ffcaf7207fdab6f9490",
      "46a9f35e0d3a414380bd5683878cc559",
      "289a26f4148c4400bb690a1b8dec6202",
      "5dbd94671d5a4216ab433b964da38b2e",
      "6c1f1a9778584fdd8deb7664a1430e76",
      "1944f90a48b54137a8ae2060bcd54eee",
      "ce37cfe631344f9ca97a55c2daaa3f00",
      "03c53aa2012b4c35ac6b89a6dd8a6882",
      "ec498bc7e04e44aeb41b46a139135497",
      "0e0b003e967e4e9ab1265b44e61aeb55",
      "d9daab9fb3984e41a0eef9eca4359d39",
      "206bc6f574574135bdefcad825922e02",
      "f180dad08d7a42e2b8b13ef694aaa9de",
      "ebe443f44eeb490abcfb0ef3234e9198",
      "ad879b6c1b324c4a9c539ca8785d75b1",
      "76467a66c1f14e66b91dc6ae76195fb7",
      "d1c5cdc362214ea4a1603bd310291697",
      "361b6317918249aeb6fca103d314c5d4",
      "e60479f2802742a388131e0076d93467",
      "1129953608f845759656beb1ac623a6c",
      "e15ae6a7b57f40618dc0fe7d6db383b7",
      "7e5da3d201f948f8a64340022a193461",
      "68875292457949cd8949cd3cc836e2df",
      "318d192ff56a43bdac77c27405f39776",
      "25c429b11b08425798bc3a376cb4cd38",
      "515d1234852348fe8ee6a5d12c8997f0",
      "d3922db070b5447588e1db103cc55c52",
      "81435b3030c349edae37830b1fea567b",
      "828e5ee54f6a47af84232122cf3373aa",
      "cd94d4e712874e3c838a7044151638de",
      "ff5f3bc98ae04aad96a9bb5ddd7f26fd",
      "b8f622bdaed3473892057004afee8521",
      "bdedaa7eb2ae46fe8742fd372c9e3728",
      "15edaf196f8147cab35516667736f866",
      "331fcf68822949f2a2143d8f5ae8f89c",
      "b07587e8adcb4d77be344f20dbc21cf2",
      "ec5b7903731a4862bd555342a51ae13c",
      "4ce888d33ce44fa2aa15aa5c633ec6cf",
      "b3c67f07685b4312bbe5f1c394f4c3b8",
      "2e7f4b07fb4e406d8451e72964544c1d",
      "c7077e3047c74eed9120253cd0c29a34",
      "e7e0ad4a44e34351b2422545443a5675",
      "d1228363ba3c4fcca74440767bf5e77e",
      "7d050d67fb3345d9a90543d508a6f9c5",
      "f93e91782b2c4d6aa38d5704d4c3f924",
      "9deeb22a877f43dabb6f763a6ba56818",
      "3fcd5dc3d0c2401a8be7bc747e457aa6",
      "7b901fdb1f5840e3ab3869c1fe70f007",
      "0bd703df941e4bba8757274e81636e17",
      "8b9a37ff32154b6b8bb85a714772c907",
      "fb94b68aa152432097ef088872c7bd85",
      "9097c3c516e140ed9a708c58cd4f39b3",
      "8a61b6aebd444b3486340e7607922215",
      "56baec6f4f3543f38992fe428818ad0a",
      "8b1e8834e9ad4d0a89990f1a80f7f0bb",
      "bcb33eae3a04425eb7ecee85f63821dd",
      "94cd0c31a48e422d980e49e23c8d412d",
      "eafa51e8c6bf46d191724e0f9eccbb03",
      "f20bc964cb3e4065a5ca8d756d30467d",
      "6c7febd87bce4dd9b884ed9790c733bc",
      "babe5f15307746f784cfe4499354eba1",
      "f746e115d3a740a082f6385639401687",
      "35e612de7975488da85537b033a20367",
      "6f8e983b9ea544108d73ba987fe40845",
      "3865c89248ec41b18230e45f292e444a",
      "3479b3bb8cd94a649daeb80e44daf9f1",
      "76b9807842274b19a334b0b7ce4212a4",
      "58fca01a7e154a30a337d003e63b4057",
      "79c4edde74d647aa98bd824a61d26a56",
      "f024c44fd07144c7b9aa994a6c79c5ff",
      "3e4857449e744ea195186ce4914414c0",
      "38adcfdba70d4a41bf769e67cf3a4d49",
      "1ad911b02e3746039be0138af300ce28",
      "fd7526b456ee4626a9b2ab15542d7fee",
      "b9550302a05542bcbfc575aacc37e9db",
      "652e2a3cecb4444c9b21eafa95fe46b9",
      "6efca3d6986a40d5907c19c1479c0560",
      "dcd8b1b62c4c4a2c9de841d71c098950",
      "03ee8ceb3d884a5c81655f6d9af71223",
      "0d0afa3bba0a4fd792bb78ecc8a0f6e4",
      "61f9addb3c3344abb532cf26309f6a36",
      "08c672fc15a64fd88f8813c8568947a2",
      "e9bc8e6700814167ba953e7ce94e20a5",
      "98d7bb0ecafe47f8a7562f9c4c85f6a5",
      "1ceeb601eff24ba99cae067b0c7fa0a9",
      "9b0a2d3c299142f4afdbc11cc2b27ef3",
      "85f41c20acbf499787b7e72e589ad917",
      "7d44f37a06554fcb9aad717738522573",
      "ecc3d97fc4144a0691235726dfd95e83",
      "b1c6da30f1404cf680e6ae683115e9ce",
      "36921b595ebf46fc8a2a198ed3ba7ed2",
      "2cc81a77b40b43949f0867856ed53f71",
      "f60271752757465a9fbd84ef78461291",
      "6643d6124d7946afbc944e0e57e8f6be",
      "33cc859cc0954352aeeef2f0e0d37071",
      "8d6b372a19d549cc977d42bdd84dc20d",
      "5e4f61d51110456a81f01a12e22e49a5",
      "da1d2b8f1832425eb5608702a981f369",
      "7cd6230ecf324493810e12ae1395bfaf",
      "2fe636479bbb42308c3d68914f63be85",
      "ddb941cb447f4c87a4d80668450b5c2a",
      "13c036afe22d4799a2134a2ae10af97a",
      "2b2d6deafa1344a89aaf83f5b212c470",
      "9d08e3d4331e4d8fa2c23882dfca84fa",
      "3c48a71259f54a1d970adc85489272f9",
      "a7d3c852fc6b40bbb844f129ba2790ac",
      "ae94111f79bf4776b42445579904229a",
      "a8f2b6f54423453e8c1818d2b64f0b50",
      "c2088b79bac4469d89d2a7b3af575229",
      "643e69846e1e450fa7bce0648ef42f61",
      "502b76da3abf4fe1a92342aa44205ba3",
      "8debf2784d354ba0bd468e4d05d87e38",
      "4b3924e9994c4787b5c7868f79a0e1d0",
      "515c099989294b9cb2ec1e81cd819de6",
      "187974cdc5034858aaeb9212a50b722e",
      "4ef7db6a42d54d6487e5dd7fc74b5511",
      "9a3d34f18efc45f7bc112281c8a23846",
      "8ee3b874ab22456d8827b3e9f6f0894c",
      "347a4c6dd2894f7187d96e80d8d42b22",
      "80e23c363c2746299e5923e1fae6b29f",
      "a75b86166c6e49348b526098bd5974a9",
      "552b000fa8e74dadaed7c2cbb9a4baeb",
      "fbc5669fb18c46d2a034dd6f5e648c20",
      "820ec1505cd44b68815049b203b023da",
      "b3916ff5665e400189bcfbc3f9353888",
      "08844b8eb99843ebb7464d06ade63b33",
      "19aa16b0b7a942e094af980b510de6d1",
      "4a651261c39b4d44aae9ef55e60ad3e6",
      "4a6e3d042bec469e8a1d32898eb72ed7",
      "0ed2854dae73485d8eba06de1e2fc6af",
      "701ff224307649a592635a8ef2c5351b",
      "f9b273c310b94b5584bbef2753f9b33f",
      "68d536b79ff74832bc7d1110180e451d",
      "812a9e0ec1fc494db563496b850fcb54",
      "d4aa7b83c1f54e978b53031dff35f24a",
      "3d6bdf6ef14945e1b8a194d31d23c2db",
      "79ca2573390b4295b5738832a81515bc",
      "39a1e4e100b34444966b04fbdd19b9a7",
      "01fb2372417f413ca8b85d150feb55b0",
      "3cd28eb7651c439a97164e17702af0a0",
      "2c564c8090654778b3e31eeb3d8e9058",
      "168f20fc953a4e55958764db26924082",
      "284fe532aaca47e4b6123942625da7f3",
      "a68446b456b2425189400e572f9d7c29",
      "c30dc2a44466408eb9f7d33cd58304b5",
      "3061a385d2ce4e38a90987969789da6e",
      "28bd9820ded0410fa03daf24230b08d6",
      "baf2e5f57aab46e4921704d4aaa1e0bf",
      "2387c44bfb7a4083bbb20815dd916e8d",
      "d9e9b564407d449ab6eabb0edd2476c7",
      "bfd5c737909b4f3c8e25c81448fc0f80",
      "35bfb65f15f2429994e82731b8341132",
      "3691f4c2e9304c07b18ee25869bf40e5",
      "d0e7e2d72ff94e5589f6f96fc029b72e",
      "83fefddb83e24fb7809e8c993cf4ea40",
      "0d937a89d7a74aff8f233e2fa949987b",
      "fafbb1e7da0f40d6ab045fee4bc4a21f",
      "3b8cdc145dec4ac99272c260025a0bab",
      "631d44a7eb63428d95693d1584279c8b",
      "148a265398a44ec28556630b83316689",
      "99353c075b214fea9b81891bb43b9843",
      "c8f38d97f9fc49dd934fe82b8776cc33",
      "a95f5cf478b04aedbf6eedb7c793c3b6",
      "fc6eb57e210d4720a699c8e10eeb980d",
      "47c72873d03349238351a2a19595c326",
      "1d1e4279aaa644c8af2df6e589753c15",
      "0b10e42a32a34c4990f0cdeaf7d067ff",
      "f83b6a223483475cb658cc46e0805432",
      "634b39ab3661488d98630499ad368b81",
      "0dd245284f43412f92eaff4420bb3388",
      "5b4a3ae00c3d450098dc9463d624cb51",
      "67176efaff34473d954c81a1e43ecf59",
      "28c07b8449804bdd82f7837372d6fb91",
      "afc7c3389a734065a2f6c7dcaa877fee",
      "98e52144fa92424da8048ddafd385391",
      "ae3dfb4c57d94e04896a10113d24e5cd",
      "750afa3074b1417187db4d2312a30aac",
      "870862e384f5400e9c238df41c2ebf59",
      "09845e1bc6cf420dbd392eda55bab664",
      "3efb264e5b4b4ac79f32214a3d7d362a",
      "ede6531acf3d491ba9fc67718f4460c4",
      "f212e4fe74c64d3fa3f13862d65a1aaa",
      "3b323109b7e04c07aeabe0f55dc67639",
      "e70d2f4088b84b69bedf1bdc34095856",
      "f5099a143192429287b78c0ff718c299",
      "9ac6b12b14c349a5b20a2ae1e5cb6bbb",
      "8a5c52c156834b14b5182a5c4a8b3850",
      "0de1c136155b4af2af0bc8a9e77eb924",
      "e38c7637a4524b37a47fd110f3ae932f",
      "ae84037b22bd44228eb6f9c0def19718",
      "100a2bd05a024ddfb39f91f39b7cb99f",
      "c614db79066b4ae0860fdd6d18abff9c",
      "9accf0ae56214f64871cd4e6f8eef7bb",
      "cbe4b2f0ea3f44b0995339a8b1a0e668",
      "e125fb1186f4446d9923737bbf39dcc3",
      "28345917e50740cf8eba6f852595bd81",
      "b28927804e15451f8b0b841a20bcb9c9",
      "1ad58287f2cb4d4bb798d42a91b3eea8",
      "6e66ca647a014c318e1363a20bd80882",
      "80e1f65dddb34e53a88d4db8aaf58f4c",
      "a80a90b7d4d7489a81645f4e41b8f27a",
      "864b559cfc9140d386864a963b6ab67d",
      "2358a0c508734a1a88de06a2277f9d8e",
      "7ffc1628072f4b18a44c67da08a0cf44",
      "0b9067e3479b4b1184eb4af568835dc8",
      "d4a62a8ea23145f39a1a62c89bbe05fb",
      "4b1e5ca623124787b8d5356a02a9eb07",
      "8f4e6954fce84380811ea7e0f5676ea1",
      "185a0c01c04f4523b566c500e7336455",
      "d983f5de5d604dcebbb61dda35c0d258",
      "eb2c6ede836b47ce97b289417d2653c2",
      "f7325d5151c04dba8d13f38baf5af5fd",
      "85132251a1ce4ef39ff142c990a89f21",
      "12618a17acd449249f2ae468be5f86f6",
      "22d717f61c9c4b15afb2b09886116670",
      "72a36fa20d82406cbf598f906dd409cf",
      "18c84b590133430f80c1d938306dee0e",
      "200351266e9d4e908b1f9b8740d7fc03",
      "16e6c9a69bc54dd18d14b9e163565347",
      "182f20c59d4042ccacf6ebb2011e455c",
      "b2e66c267afd42a3ba6613f3d6ea6d89",
      "19f494d3f10849b38c7cd9d6771c1bd6",
      "78e930f42af74694b93fa2a50729a73e",
      "1962a0eed1ac42ec9265718ec920c5bb",
      "b04b86d7f14f40abb0887c4f5ed8f3e3",
      "fff72f6c7dd04935a5d68947bd1d6842",
      "cffae4282398494783885eb2bd65196a",
      "94c7c080f3374555860ac475180f8e8c",
      "bb3274a018064138889e50291d75ee32",
      "2255a7ef3cff4d2384c7f045ac4bb293",
      "6909c37395874ad28c3c095801b2666d",
      "1f0ce04f804348e6ac9c0159d8462981",
      "5b3129867396445e929e7287613c1c7c",
      "c32fea3cce0c441f8e96f06f9a689962",
      "2209e083177f499dbc2d3d2c503978a9",
      "323be2f9350748549b8122453b66bbf0",
      "ec5c7785c2e14952958171dbce3abe5a",
      "01a789306a54470298acd8953d627801",
      "fd6ff9e59e954d219aae91240235c50c",
      "4727d30240e842aab78959c49c463592",
      "2e2204f8f79f4f9fa24fe5b453524e3e",
      "ced5a692acc945fe8ef74e8f15968e6f",
      "e358ee542817427fab23bc4e62271c11",
      "98a5275480cf4d9ca6a9b030596700e6",
      "5b404faa66f04d7c94ac260fbc0c62d6",
      "8c295227b0fa45bfa689738434f27543",
      "b72bf8a0115548668031b9f59b4e09f8",
      "e481b68b5595498f8bf3aaabb6c6b7c6",
      "4de09d9450014364b2cf195420d34336",
      "3190a5a211434a14a91f629cf64e3df5",
      "9af6390431b440f797f89a2367bd74ff",
      "19e320f3de16405cbd5abbc71d422baf",
      "70760db2a246441a8c0a49d32a80e825",
      "a98a0f78b2934d1d9cb7423ce5d6196e",
      "82edc287e0aa4bc69fedd80c6e4851f8",
      "ad3ce504ce7e4b0e803e76a04dc573b9",
      "0ba8b6141f0c45b98251ea0aab3f7fbc",
      "81d1f4549782484b98b5e33bf90dacfa",
      "2fa7154587f54b7bb6e3c58569513e2b",
      "0651a016fc134f168e12de485c405963",
      "0f3cee29b9364201ba5b2aa07af26560",
      "5f58cf8b4c5141b0bb4de475bc9f3ff9",
      "13f8b8a87eda4866bad25baa33ace50f",
      "d701eab4532d46e4b9a95d3e6100283e",
      "9843b29a48ab4ae4a675b62c937b0111",
      "2614b947b8f64bd58779c0e9e537ad73",
      "9280b92ca81a471ba85f36cda47afbaf",
      "dc404ea62c304dcaa065336a3f6f325b",
      "ccbec54b8133410087f061174b78abc2",
      "e9bcf30e3ded4af9ac1f2a4435a082a7",
      "ec72767bf08a4158bcd9ee04b2c1088a",
      "babd608133554042ac217a850a697449",
      "f349e34346744c9487e4c34c50d9dbec",
      "741a9112cca14200b81c17cd10fc3e90",
      "e5a08c1c9c8d4aee86c8afc43238c98b",
      "5add773764d34a169c4c91133f4f2780",
      "128a7874808649608db050dd31f45f59",
      "a8d4ac19ed674e41b7e1eb84575a82f5",
      "3b0befa106b142db9e63b505cd085f27",
      "ed65c02d8140428589f92d33ae545929",
      "12728eac9279406fbbd0746e2feea67b",
      "815d9e216d774e9385e431422207a859",
      "45133d39c97544618c6ee0af41da6f64",
      "d48ac44f20e74d378f404490134e8f9c",
      "fb6aa9970713465c91837feee19fc2e2",
      "552f7303ff6d42d1b9a31a9b022206ed",
      "3959d7338d6f4301a33d666b62bb3aac",
      "99825073c1c04ead8e670aa384b972ae",
      "9a7bdca7bddc4d408ddb8cb9b68c5109",
      "8c7a7a83c39e4c87a02ec10dfc085550",
      "603c1335ca214b168b4386aa722d9fa5",
      "c89208bbd580497e940d3eed5d6a9fa6",
      "bd1b500e9c754c14bc63cb0b275b634a",
      "a7a8b2c83868439c9891f17d965eb86b",
      "709c6fd126e945d2bf83081c64315491",
      "7f24355748c2439799e221cc3b522173",
      "d907468125e645eaa813a5c41beaa6d5",
      "b7e25e08e08d41ceb4fce540a212704f",
      "c0fe6c7e555745aab3c19b502270a5c2",
      "10097bdebd1d4302a6eaca676734d43e",
      "15672203219d4f5f81ca7d88ea6e49f6",
      "c1bfff39b73942b2821d8509a4b3c23d",
      "37b1f4b31cb849448eb4dee5eb900b8f",
      "85db2fd381104242815171621c4a819e",
      "78403d1d8af74c27aa69282f0339f38a",
      "22a570e7e1bc4e7b9ddec14b99b2dae4",
      "ee2d4eaec0df4da08ed74c8fecd87d7c",
      "0a0a623541504db794e6a27b2230ba07",
      "98c2d8385ecf4184ab7e498a302d6c30",
      "9a1242ed68794096a317bad9277e5b50",
      "1c6e08e55e8c4608bb535738ae85336d"
     ]
    },
    "executionInfo": {
     "status": "ok",
     "timestamp": 1749723193200,
     "user_tz": -240,
     "elapsed": 98829,
     "user": {
      "displayName": "Ivan Reznikov",
      "userId": "03906939862966425294"
     }
    },
    "outputId": "339ceb9b-aa64-4f7e-916e-ed1d27ea8555"
   },
   "execution_count": null,
   "outputs": [
    {
     "output_type": "display_data",
     "data": {
      "text/plain": [
       "modules.json:   0%|          | 0.00/349 [00:00<?, ?B/s]"
      ],
      "application/vnd.jupyter.widget-view+json": {
       "version_major": 2,
       "version_minor": 0,
       "model_id": "110d716511c44d3e873b52164bfa0198"
      }
     },
     "metadata": {}
    },
    {
     "output_type": "display_data",
     "data": {
      "text/plain": [
       "config_sentence_transformers.json:   0%|          | 0.00/116 [00:00<?, ?B/s]"
      ],
      "application/vnd.jupyter.widget-view+json": {
       "version_major": 2,
       "version_minor": 0,
       "model_id": "61de883520cc4559b98cee652cd7616f"
      }
     },
     "metadata": {}
    },
    {
     "output_type": "display_data",
     "data": {
      "text/plain": [
       "README.md:   0%|          | 0.00/10.4k [00:00<?, ?B/s]"
      ],
      "application/vnd.jupyter.widget-view+json": {
       "version_major": 2,
       "version_minor": 0,
       "model_id": "c53f62958e894ca389d3651d8930f8c5"
      }
     },
     "metadata": {}
    },
    {
     "output_type": "display_data",
     "data": {
      "text/plain": [
       "sentence_bert_config.json:   0%|          | 0.00/53.0 [00:00<?, ?B/s]"
      ],
      "application/vnd.jupyter.widget-view+json": {
       "version_major": 2,
       "version_minor": 0,
       "model_id": "8776e39446104c30b5ad109de738133a"
      }
     },
     "metadata": {}
    },
    {
     "output_type": "display_data",
     "data": {
      "text/plain": [
       "config.json:   0%|          | 0.00/571 [00:00<?, ?B/s]"
      ],
      "application/vnd.jupyter.widget-view+json": {
       "version_major": 2,
       "version_minor": 0,
       "model_id": "f6727f15da684ea3922ca9b121569abc"
      }
     },
     "metadata": {}
    },
    {
     "output_type": "display_data",
     "data": {
      "text/plain": [
       "model.safetensors:   0%|          | 0.00/438M [00:00<?, ?B/s]"
      ],
      "application/vnd.jupyter.widget-view+json": {
       "version_major": 2,
       "version_minor": 0,
       "model_id": "d7d070f1799646d19b1ab8caaff0a8e6"
      }
     },
     "metadata": {}
    },
    {
     "output_type": "display_data",
     "data": {
      "text/plain": [
       "tokenizer_config.json:   0%|          | 0.00/363 [00:00<?, ?B/s]"
      ],
      "application/vnd.jupyter.widget-view+json": {
       "version_major": 2,
       "version_minor": 0,
       "model_id": "cbce65d0151c4bae83c2bcfc829e29da"
      }
     },
     "metadata": {}
    },
    {
     "output_type": "display_data",
     "data": {
      "text/plain": [
       "vocab.txt:   0%|          | 0.00/232k [00:00<?, ?B/s]"
      ],
      "application/vnd.jupyter.widget-view+json": {
       "version_major": 2,
       "version_minor": 0,
       "model_id": "f21829991b0844cf95ba43878f1740cc"
      }
     },
     "metadata": {}
    },
    {
     "output_type": "display_data",
     "data": {
      "text/plain": [
       "tokenizer.json:   0%|          | 0.00/466k [00:00<?, ?B/s]"
      ],
      "application/vnd.jupyter.widget-view+json": {
       "version_major": 2,
       "version_minor": 0,
       "model_id": "f75358d6003f468982541de3082575a0"
      }
     },
     "metadata": {}
    },
    {
     "output_type": "display_data",
     "data": {
      "text/plain": [
       "special_tokens_map.json:   0%|          | 0.00/239 [00:00<?, ?B/s]"
      ],
      "application/vnd.jupyter.widget-view+json": {
       "version_major": 2,
       "version_minor": 0,
       "model_id": "8b521848d21f40efb91e7b2e3e319bd9"
      }
     },
     "metadata": {}
    },
    {
     "output_type": "display_data",
     "data": {
      "text/plain": [
       "config.json:   0%|          | 0.00/190 [00:00<?, ?B/s]"
      ],
      "application/vnd.jupyter.widget-view+json": {
       "version_major": 2,
       "version_minor": 0,
       "model_id": "eb60d05f0d7e45d0b5a0a22210b8f054"
      }
     },
     "metadata": {}
    },
    {
     "output_type": "display_data",
     "data": {
      "text/plain": [
       "modules.json:   0%|          | 0.00/349 [00:00<?, ?B/s]"
      ],
      "application/vnd.jupyter.widget-view+json": {
       "version_major": 2,
       "version_minor": 0,
       "model_id": "a97e8bd535524f4bb3932504459eee48"
      }
     },
     "metadata": {}
    },
    {
     "output_type": "display_data",
     "data": {
      "text/plain": [
       "config_sentence_transformers.json:   0%|          | 0.00/123 [00:00<?, ?B/s]"
      ],
      "application/vnd.jupyter.widget-view+json": {
       "version_major": 2,
       "version_minor": 0,
       "model_id": "3b64a4cbca2d43a0819c0abe631e8762"
      }
     },
     "metadata": {}
    },
    {
     "output_type": "display_data",
     "data": {
      "text/plain": [
       "README.md:   0%|          | 0.00/15.8k [00:00<?, ?B/s]"
      ],
      "application/vnd.jupyter.widget-view+json": {
       "version_major": 2,
       "version_minor": 0,
       "model_id": "0d5710514d624837bd95d65bd2c49544"
      }
     },
     "metadata": {}
    },
    {
     "output_type": "display_data",
     "data": {
      "text/plain": [
       "sentence_bert_config.json:   0%|          | 0.00/54.0 [00:00<?, ?B/s]"
      ],
      "application/vnd.jupyter.widget-view+json": {
       "version_major": 2,
       "version_minor": 0,
       "model_id": "0f84d089e6ac4f31a66e8ddb2e146dcb"
      }
     },
     "metadata": {}
    },
    {
     "output_type": "display_data",
     "data": {
      "text/plain": [
       "config.json:   0%|          | 0.00/687 [00:00<?, ?B/s]"
      ],
      "application/vnd.jupyter.widget-view+json": {
       "version_major": 2,
       "version_minor": 0,
       "model_id": "fbcafec8245a4b599885745caf6094bd"
      }
     },
     "metadata": {}
    },
    {
     "output_type": "display_data",
     "data": {
      "text/plain": [
       "pytorch_model.bin:   0%|          | 0.00/2.27G [00:00<?, ?B/s]"
      ],
      "application/vnd.jupyter.widget-view+json": {
       "version_major": 2,
       "version_minor": 0,
       "model_id": "d9c63fb034f6417aaa17d19d7f4ad44a"
      }
     },
     "metadata": {}
    },
    {
     "output_type": "display_data",
     "data": {
      "text/plain": [
       "model.safetensors:   0%|          | 0.00/2.27G [00:00<?, ?B/s]"
      ],
      "application/vnd.jupyter.widget-view+json": {
       "version_major": 2,
       "version_minor": 0,
       "model_id": "5dbd94671d5a4216ab433b964da38b2e"
      }
     },
     "metadata": {}
    },
    {
     "output_type": "display_data",
     "data": {
      "text/plain": [
       "tokenizer_config.json:   0%|          | 0.00/444 [00:00<?, ?B/s]"
      ],
      "application/vnd.jupyter.widget-view+json": {
       "version_major": 2,
       "version_minor": 0,
       "model_id": "ad879b6c1b324c4a9c539ca8785d75b1"
      }
     },
     "metadata": {}
    },
    {
     "output_type": "display_data",
     "data": {
      "text/plain": [
       "sentencepiece.bpe.model:   0%|          | 0.00/5.07M [00:00<?, ?B/s]"
      ],
      "application/vnd.jupyter.widget-view+json": {
       "version_major": 2,
       "version_minor": 0,
       "model_id": "515d1234852348fe8ee6a5d12c8997f0"
      }
     },
     "metadata": {}
    },
    {
     "output_type": "display_data",
     "data": {
      "text/plain": [
       "tokenizer.json:   0%|          | 0.00/17.1M [00:00<?, ?B/s]"
      ],
      "application/vnd.jupyter.widget-view+json": {
       "version_major": 2,
       "version_minor": 0,
       "model_id": "ec5b7903731a4862bd555342a51ae13c"
      }
     },
     "metadata": {}
    },
    {
     "output_type": "display_data",
     "data": {
      "text/plain": [
       "special_tokens_map.json:   0%|          | 0.00/964 [00:00<?, ?B/s]"
      ],
      "application/vnd.jupyter.widget-view+json": {
       "version_major": 2,
       "version_minor": 0,
       "model_id": "7b901fdb1f5840e3ab3869c1fe70f007"
      }
     },
     "metadata": {}
    },
    {
     "output_type": "display_data",
     "data": {
      "text/plain": [
       "config.json:   0%|          | 0.00/191 [00:00<?, ?B/s]"
      ],
      "application/vnd.jupyter.widget-view+json": {
       "version_major": 2,
       "version_minor": 0,
       "model_id": "f20bc964cb3e4065a5ca8d756d30467d"
      }
     },
     "metadata": {}
    },
    {
     "output_type": "display_data",
     "data": {
      "text/plain": [
       "modules.json:   0%|          | 0.00/349 [00:00<?, ?B/s]"
      ],
      "application/vnd.jupyter.widget-view+json": {
       "version_major": 2,
       "version_minor": 0,
       "model_id": "f024c44fd07144c7b9aa994a6c79c5ff"
      }
     },
     "metadata": {}
    },
    {
     "output_type": "display_data",
     "data": {
      "text/plain": [
       "config_sentence_transformers.json:   0%|          | 0.00/201 [00:00<?, ?B/s]"
      ],
      "application/vnd.jupyter.widget-view+json": {
       "version_major": 2,
       "version_minor": 0,
       "model_id": "61f9addb3c3344abb532cf26309f6a36"
      }
     },
     "metadata": {}
    },
    {
     "output_type": "display_data",
     "data": {
      "text/plain": [
       "README.md:   0%|          | 0.00/384k [00:00<?, ?B/s]"
      ],
      "application/vnd.jupyter.widget-view+json": {
       "version_major": 2,
       "version_minor": 0,
       "model_id": "2cc81a77b40b43949f0867856ed53f71"
      }
     },
     "metadata": {}
    },
    {
     "output_type": "display_data",
     "data": {
      "text/plain": [
       "sentence_bert_config.json:   0%|          | 0.00/53.0 [00:00<?, ?B/s]"
      ],
      "application/vnd.jupyter.widget-view+json": {
       "version_major": 2,
       "version_minor": 0,
       "model_id": "2b2d6deafa1344a89aaf83f5b212c470"
      }
     },
     "metadata": {}
    },
    {
     "output_type": "display_data",
     "data": {
      "text/plain": [
       "config.json:   0%|          | 0.00/742 [00:00<?, ?B/s]"
      ],
      "application/vnd.jupyter.widget-view+json": {
       "version_major": 2,
       "version_minor": 0,
       "model_id": "515c099989294b9cb2ec1e81cd819de6"
      }
     },
     "metadata": {}
    },
    {
     "output_type": "display_data",
     "data": {
      "text/plain": [
       "model.safetensors:   0%|          | 0.00/1.34G [00:00<?, ?B/s]"
      ],
      "application/vnd.jupyter.widget-view+json": {
       "version_major": 2,
       "version_minor": 0,
       "model_id": "b3916ff5665e400189bcfbc3f9353888"
      }
     },
     "metadata": {}
    },
    {
     "output_type": "display_data",
     "data": {
      "text/plain": [
       "tokenizer_config.json:   0%|          | 0.00/1.24k [00:00<?, ?B/s]"
      ],
      "application/vnd.jupyter.widget-view+json": {
       "version_major": 2,
       "version_minor": 0,
       "model_id": "3d6bdf6ef14945e1b8a194d31d23c2db"
      }
     },
     "metadata": {}
    },
    {
     "output_type": "display_data",
     "data": {
      "text/plain": [
       "vocab.txt:   0%|          | 0.00/232k [00:00<?, ?B/s]"
      ],
      "application/vnd.jupyter.widget-view+json": {
       "version_major": 2,
       "version_minor": 0,
       "model_id": "28bd9820ded0410fa03daf24230b08d6"
      }
     },
     "metadata": {}
    },
    {
     "output_type": "display_data",
     "data": {
      "text/plain": [
       "tokenizer.json:   0%|          | 0.00/711k [00:00<?, ?B/s]"
      ],
      "application/vnd.jupyter.widget-view+json": {
       "version_major": 2,
       "version_minor": 0,
       "model_id": "3b8cdc145dec4ac99272c260025a0bab"
      }
     },
     "metadata": {}
    },
    {
     "output_type": "display_data",
     "data": {
      "text/plain": [
       "special_tokens_map.json:   0%|          | 0.00/695 [00:00<?, ?B/s]"
      ],
      "application/vnd.jupyter.widget-view+json": {
       "version_major": 2,
       "version_minor": 0,
       "model_id": "634b39ab3661488d98630499ad368b81"
      }
     },
     "metadata": {}
    },
    {
     "output_type": "display_data",
     "data": {
      "text/plain": [
       "config.json:   0%|          | 0.00/297 [00:00<?, ?B/s]"
      ],
      "application/vnd.jupyter.widget-view+json": {
       "version_major": 2,
       "version_minor": 0,
       "model_id": "3efb264e5b4b4ac79f32214a3d7d362a"
      }
     },
     "metadata": {}
    },
    {
     "output_type": "display_data",
     "data": {
      "text/plain": [
       "modules.json:   0%|          | 0.00/349 [00:00<?, ?B/s]"
      ],
      "application/vnd.jupyter.widget-view+json": {
       "version_major": 2,
       "version_minor": 0,
       "model_id": "100a2bd05a024ddfb39f91f39b7cb99f"
      }
     },
     "metadata": {}
    },
    {
     "output_type": "display_data",
     "data": {
      "text/plain": [
       "config_sentence_transformers.json:   0%|          | 0.00/172 [00:00<?, ?B/s]"
      ],
      "application/vnd.jupyter.widget-view+json": {
       "version_major": 2,
       "version_minor": 0,
       "model_id": "864b559cfc9140d386864a963b6ab67d"
      }
     },
     "metadata": {}
    },
    {
     "output_type": "display_data",
     "data": {
      "text/plain": [
       "README.md:   0%|          | 0.00/2.57k [00:00<?, ?B/s]"
      ],
      "application/vnd.jupyter.widget-view+json": {
       "version_major": 2,
       "version_minor": 0,
       "model_id": "85132251a1ce4ef39ff142c990a89f21"
      }
     },
     "metadata": {}
    },
    {
     "output_type": "display_data",
     "data": {
      "text/plain": [
       "sentence_bert_config.json:   0%|          | 0.00/52.0 [00:00<?, ?B/s]"
      ],
      "application/vnd.jupyter.widget-view+json": {
       "version_major": 2,
       "version_minor": 0,
       "model_id": "1962a0eed1ac42ec9265718ec920c5bb"
      }
     },
     "metadata": {}
    },
    {
     "output_type": "display_data",
     "data": {
      "text/plain": [
       "config.json:   0%|          | 0.00/742 [00:00<?, ?B/s]"
      ],
      "application/vnd.jupyter.widget-view+json": {
       "version_major": 2,
       "version_minor": 0,
       "model_id": "2209e083177f499dbc2d3d2c503978a9"
      }
     },
     "metadata": {}
    },
    {
     "output_type": "display_data",
     "data": {
      "text/plain": [
       "model.safetensors:   0%|          | 0.00/1.34G [00:00<?, ?B/s]"
      ],
      "application/vnd.jupyter.widget-view+json": {
       "version_major": 2,
       "version_minor": 0,
       "model_id": "8c295227b0fa45bfa689738434f27543"
      }
     },
     "metadata": {}
    },
    {
     "output_type": "display_data",
     "data": {
      "text/plain": [
       "tokenizer_config.json:   0%|          | 0.00/1.43k [00:00<?, ?B/s]"
      ],
      "application/vnd.jupyter.widget-view+json": {
       "version_major": 2,
       "version_minor": 0,
       "model_id": "0ba8b6141f0c45b98251ea0aab3f7fbc"
      }
     },
     "metadata": {}
    },
    {
     "output_type": "display_data",
     "data": {
      "text/plain": [
       "vocab.txt:   0%|          | 0.00/232k [00:00<?, ?B/s]"
      ],
      "application/vnd.jupyter.widget-view+json": {
       "version_major": 2,
       "version_minor": 0,
       "model_id": "dc404ea62c304dcaa065336a3f6f325b"
      }
     },
     "metadata": {}
    },
    {
     "output_type": "display_data",
     "data": {
      "text/plain": [
       "tokenizer.json:   0%|          | 0.00/712k [00:00<?, ?B/s]"
      ],
      "application/vnd.jupyter.widget-view+json": {
       "version_major": 2,
       "version_minor": 0,
       "model_id": "3b0befa106b142db9e63b505cd085f27"
      }
     },
     "metadata": {}
    },
    {
     "output_type": "display_data",
     "data": {
      "text/plain": [
       "special_tokens_map.json:   0%|          | 0.00/695 [00:00<?, ?B/s]"
      ],
      "application/vnd.jupyter.widget-view+json": {
       "version_major": 2,
       "version_minor": 0,
       "model_id": "8c7a7a83c39e4c87a02ec10dfc085550"
      }
     },
     "metadata": {}
    },
    {
     "output_type": "display_data",
     "data": {
      "text/plain": [
       "config.json:   0%|          | 0.00/297 [00:00<?, ?B/s]"
      ],
      "application/vnd.jupyter.widget-view+json": {
       "version_major": 2,
       "version_minor": 0,
       "model_id": "15672203219d4f5f81ca7d88ea6e49f6"
      }
     },
     "metadata": {}
    }
   ]
  },
  {
   "cell_type": "markdown",
   "source": [
    "### Generate Embeddings and Similarity Matrices\n",
    "\n",
    "For each model, we:\n",
    "1. Generate embeddings for our test sentences\n",
    "2. Compute pairwise cosine similarity matrices\n",
    "3. Store results for visualization and analysis\n",
    "\n",
    "The similarity matrices help us understand how well each model captures semantic relationships in medical text."
   ],
   "metadata": {
    "id": "LYj87T-l17k_"
   }
  },
  {
   "cell_type": "code",
   "source": [
    "# Generate embeddings and similarity matrices for all models\n",
    "# This allows us to compare how different models understand medical terminology\n",
    "\n",
    "# MPNet embeddings (using LangChain wrapper)\n",
    "mpnet_embeddings_list = get_embeddings(mpnet_embeddings, sentences, use_encode=False)\n",
    "mpnet_matrix = compute_similarity_matrix(mpnet_embeddings_list)\n",
    "\n",
    "# OpenAI embeddings (using LangChain wrapper)\n",
    "openai_embeddings_list = get_embeddings(openai_embedding, sentences, use_encode=False)\n",
    "openai_matrix = compute_similarity_matrix(openai_embeddings_list)\n",
    "\n",
    "# BGE-M3 embeddings (using SentenceTransformer directly)\n",
    "bge_embeddings_list = get_embeddings(bge_embedding, sentences)\n",
    "# Alternative: bge_matrix = bge_embedding.similarity(bge_embeddings_list, bge_embeddings_list, similarity_fn_name=\"cosine\")\n",
    "bge_matrix = compute_similarity_matrix(bge_embeddings_list)\n",
    "\n",
    "# Medical embeddings (specialized for medical text)\n",
    "med_embeddings_list = get_embeddings(med_model, sentences)\n",
    "# Alternative: med_matrix = med_model.similarity(med_embeddings_list, med_embeddings_list, similarity_fn_name=\"cosine\")\n",
    "med_matrix = compute_similarity_matrix(med_embeddings_list)\n",
    "\n",
    "# BGE Medical embeddings (BGE fine-tuned on medical data)\n",
    "bge_med_embeddings_list = get_embeddings(bge_med_model, sentences)\n",
    "# Alternative: bge_med_matrix = bge_med_model.similarity(bge_med_embeddings_list, bge_med_embeddings_list, similarity_fn_name=\"cosine\")\n",
    "bge_med_matrix = compute_similarity_matrix(bge_med_embeddings_list)\n",
    "\n",
    "# Scientific embeddings (commented out)\n",
    "# sci_embeddings_list = get_embeddings(sci_model, sentences)\n",
    "# sci_matrix = sci_model.similarity(sci_embeddings_list)"
   ],
   "metadata": {
    "id": "RJPSnhtZIQ70"
   },
   "execution_count": null,
   "outputs": []
  },
  {
   "cell_type": "markdown",
   "metadata": {
    "id": "vQBSuGwiBeLD"
   },
   "source": [
    "### Examining Embedding Structure\n",
    "\n",
    "Let's look at the actual embedding vectors to understand:\n",
    "- Dimensionality of different models\n",
    "- Numerical range and distribution of values\n",
    "- Overall similarity levels across models"
   ]
  },
  {
   "cell_type": "code",
   "source": [
    "# Display first 10 dimensions of OpenAI embedding for the first sentence\n",
    "# This gives us insight into the numerical representation\n",
    "openai_embeddings_list[0][:10]"
   ],
   "metadata": {
    "id": "f0hcUXw8IuxL",
    "colab": {
     "base_uri": "https://localhost:8080/"
    },
    "executionInfo": {
     "status": "ok",
     "timestamp": 1749723225731,
     "user_tz": -240,
     "elapsed": 74,
     "user": {
      "displayName": "Ivan Reznikov",
      "userId": "03906939862966425294"
     }
    },
    "outputId": "a2ca0161-7b2b-4530-ff72-736b20412a5a"
   },
   "execution_count": null,
   "outputs": [
    {
     "output_type": "execute_result",
     "data": {
      "text/plain": [
       "[-0.025218956172466278,\n",
       " 0.010054616257548332,\n",
       " 0.016303163021802902,\n",
       " 0.03227666765451431,\n",
       " 0.04192670062184334,\n",
       " 0.02273152396082878,\n",
       " -0.022611647844314575,\n",
       " -0.02013920247554779,\n",
       " -0.01266192365437746,\n",
       " -0.022551709786057472]"
      ]
     },
     "metadata": {},
     "execution_count": 8
    }
   ]
  },
  {
   "cell_type": "code",
   "source": [
    "# Compare embedding dimensions across different models\n",
    "# Higher dimensions often mean more expressive representations but increased computational cost\n",
    "len(mpnet_embeddings_list[0]), len(openai_embeddings_list[0]), len(\n",
    "    bge_embeddings_list[0]\n",
    "), len(bge_med_embeddings_list[0]), len(\n",
    "    med_embeddings_list[0]\n",
    ")  # , len(sci_embeddings_list[0])"
   ],
   "metadata": {
    "id": "xOpAyPMVPqPv",
    "colab": {
     "base_uri": "https://localhost:8080/"
    },
    "executionInfo": {
     "status": "ok",
     "timestamp": 1749723225732,
     "user_tz": -240,
     "elapsed": 53,
     "user": {
      "displayName": "Ivan Reznikov",
      "userId": "03906939862966425294"
     }
    },
    "outputId": "6179abbc-235b-4f17-987d-776045269c2c"
   },
   "execution_count": null,
   "outputs": [
    {
     "output_type": "execute_result",
     "data": {
      "text/plain": [
       "(768, 3072, 1024, 1024, 1024)"
      ]
     },
     "metadata": {},
     "execution_count": 9
    }
   ]
  },
  {
   "cell_type": "code",
   "source": [
    "# Calculate average similarity scores across all sentence pairs for each model\n",
    "# Lower averages might indicate more discriminative embeddings\n",
    "# Higher averages might suggest the model sees more general similarity\n",
    "np.average(mpnet_matrix), np.average(openai_matrix), np.average(bge_matrix), np.average(\n",
    "    med_matrix\n",
    "), np.average(bge_med_matrix)"
   ],
   "metadata": {
    "id": "mD-Weo_sb9QN",
    "colab": {
     "base_uri": "https://localhost:8080/"
    },
    "executionInfo": {
     "status": "ok",
     "timestamp": 1749723225734,
     "user_tz": -240,
     "elapsed": 38,
     "user": {
      "displayName": "Ivan Reznikov",
      "userId": "03906939862966425294"
     }
    },
    "outputId": "13d4e381-799f-4f26-a76c-553614c06e13"
   },
   "execution_count": null,
   "outputs": [
    {
     "output_type": "execute_result",
     "data": {
      "text/plain": [
       "(0.4844296429200474,\n",
       " 0.41883934906276327,\n",
       " 0.5871214659846559,\n",
       " 0.7608378760668696,\n",
       " 0.5789409717734979)"
      ]
     },
     "metadata": {},
     "execution_count": 10
    }
   ]
  },
  {
   "cell_type": "markdown",
   "source": [
    "### Visualizing Similarity Matrices\n",
    "\n",
    "Heat maps help us visually compare how different models understand semantic relationships:\n",
    "- Darker colors indicate higher similarity\n",
    "- Medical models should show stronger clustering of medical terms\n",
    "- General models might show more distributed similarities"
   ],
   "metadata": {
    "id": "vEcH8Nxf17lC"
   }
  },
  {
   "cell_type": "code",
   "execution_count": null,
   "metadata": {
    "id": "EHlo7fXXBeLH",
    "colab": {
     "base_uri": "https://localhost:8080/",
     "height": 861
    },
    "executionInfo": {
     "status": "ok",
     "timestamp": 1749723227939,
     "user_tz": -240,
     "elapsed": 2204,
     "user": {
      "displayName": "Ivan Reznikov",
      "userId": "03906939862966425294"
     }
    },
    "outputId": "a56e8b14-6fae-4d7a-a26b-8b34383826b4"
   },
   "outputs": [
    {
     "output_type": "display_data",
     "data": {
      "text/plain": [
       "<Figure size 2000x1200 with 5 Axes>"
      ],
      "image/png": "[encoded data removed]"
     },
     "metadata": {}
    }
   ],
   "source": [
    "import numpy as np\n",
    "import matplotlib.pyplot as plt\n",
    "import seaborn as sns\n",
    "\n",
    "# Set up the matplotlib figure for multiple heatmaps\n",
    "plt.figure(figsize=(20, 12))\n",
    "\n",
    "# Create a mask to show only the upper triangular part (avoid redundancy)\n",
    "# This makes the visualization cleaner since similarity matrices are symmetric\n",
    "mask = np.triu(np.ones_like(openai_matrix, dtype=bool))\n",
    "np.fill_diagonal(mask, False)  # Keep diagonal visible (self-similarity = 1.0)\n",
    "\n",
    "# Define models and their similarity matrices for comparison\n",
    "heatmaps = [\n",
    "    (openai_matrix, \"text-embedding-3-large\"),  # Commercial, high-quality\n",
    "    (mpnet_matrix, \"all-mpnet-base-v2\"),  # Strong general-purpose baseline\n",
    "    (med_matrix, \"MedEmbed-large-v0.1\"),  # Medical specialist\n",
    "    (bge_med_matrix, \"bge_large_medical\"),  # BGE + medical fine-tuning\n",
    "    (bge_matrix, \"bge-m3\"),  # Multilingual general-purpose\n",
    "]\n",
    "\n",
    "# Create subplot for each model's similarity matrix\n",
    "for idx, (matrix, title) in enumerate(heatmaps, start=1):\n",
    "    plt.subplot(2, 3, idx)\n",
    "    # Create heatmap with annotations showing exact similarity values\n",
    "    sns.heatmap(\n",
    "        matrix,\n",
    "        mask=mask,\n",
    "        fmt=\".2f\",\n",
    "        xticklabels=[x + 1 for x in range(len(sentences))],\n",
    "        yticklabels=[x + 1 for x in range(len(sentences))],\n",
    "        annot=True,\n",
    "        cbar=False,\n",
    "        annot_kws={\"fontsize\": 16},\n",
    "    )\n",
    "    plt.title(title)\n",
    "\n",
    "# Display the comprehensive comparison\n",
    "plt.tight_layout()\n",
    "plt.show()"
   ]
  },
  {
   "cell_type": "code",
   "source": [
    "# Display the sentences with their indices for reference\n",
    "# This helps interpret the similarity matrices above\n",
    "for idx, s in enumerate(sentences):\n",
    "    print(f\"{idx+1}. {s}\")"
   ],
   "metadata": {
    "id": "PpGIzrwDV3Hd",
    "colab": {
     "base_uri": "https://localhost:8080/"
    },
    "executionInfo": {
     "status": "ok",
     "timestamp": 1749723227966,
     "user_tz": -240,
     "elapsed": 22,
     "user": {
      "displayName": "Ivan Reznikov",
      "userId": "03906939862966425294"
     }
    },
    "outputId": "a1bcc9d2-9c27-43e6-916d-512bd38b30fe"
   },
   "execution_count": null,
   "outputs": [
    {
     "output_type": "stream",
     "name": "stdout",
     "text": [
      "1. The acute inflammation could cause large damage\n",
      "2. Chronic inflammation can be harmful to tissues\n",
      "3. His condition improved when the local inflammatory reaction subsided\n",
      "4. Her joint swelling reduced significantly\n",
      "5. The doctor noted no signs of edema in the affected area\n",
      "6. The anti-inflammatory medication was found in his blood\n",
      "7. A standard procedure that fires up his blood\n"
     ]
    }
   ]
  },
  {
   "cell_type": "markdown",
   "source": [
    "### Testing with Ambiguous Language\n",
    "\n",
    "Now we test the models with sentences that contain ambiguous words (like \"fly\", \"cloud\", \"scared\"):\n",
    "- This tests how well models handle polysemy (multiple meanings)\n",
    "- Medical models might struggle more with non-medical contexts\n",
    "- General models should handle ambiguity better"
   ],
   "metadata": {
    "id": "jpj37oll17lD"
   }
  },
  {
   "cell_type": "code",
   "source": [
    "# Test sentences with ambiguous terms that have multiple meanings\n",
    "# This tests the models' ability to understand context and disambiguate word meanings\n",
    "sentences = [\n",
    "    \"I like flying\",  # flying = activity/aviation\n",
    "    \"I have aerophobia\",  # clinical term for fear of flying\n",
    "    \"I'm scared to fly\",  # emotional state + aviation\n",
    "    \"A fly can scare me\",  # fly = insect\n",
    "    \"I fear scary pictures of airplanes in the clouds\",  # aviation + cloud = sky\n",
    "    \"I have airplane photos in my cloud\",  # cloud = cloud storage\n",
    "]"
   ],
   "metadata": {
    "id": "znRhQkE2KXyF"
   },
   "execution_count": null,
   "outputs": []
  },
  {
   "cell_type": "code",
   "source": [
    "# Re-generate embeddings for the ambiguous sentences using the same models\n",
    "# This will show how each model handles polysemy and context\n",
    "\n",
    "mpnet_embeddings_list = get_embeddings(mpnet_embeddings, sentences, use_encode=False)\n",
    "mpnet_matrix = compute_similarity_matrix(mpnet_embeddings_list)\n",
    "\n",
    "openai_embeddings_list = get_embeddings(openai_embedding, sentences, use_encode=False)\n",
    "openai_matrix = compute_similarity_matrix(openai_embeddings_list)\n",
    "\n",
    "bge_embeddings_list = get_embeddings(bge_embedding, sentences)\n",
    "bge_matrix = compute_similarity_matrix(bge_embeddings_list)\n",
    "\n",
    "med_embeddings_list = get_embeddings(med_model, sentences)\n",
    "med_matrix = compute_similarity_matrix(med_embeddings_list)\n",
    "\n",
    "bge_med_embeddings_list = get_embeddings(bge_med_model, sentences)\n",
    "bge_med_matrix = compute_similarity_matrix(bge_med_embeddings_list)"
   ],
   "metadata": {
    "id": "YVTgQJOTKaSa"
   },
   "execution_count": null,
   "outputs": []
  },
  {
   "cell_type": "code",
   "source": [
    "# Compare average similarities for ambiguous sentences\n",
    "# Changes from medical sentences might indicate domain specificity\n",
    "np.average(mpnet_matrix), np.average(openai_matrix), np.average(bge_matrix), np.average(\n",
    "    med_matrix\n",
    "), np.average(bge_med_matrix)"
   ],
   "metadata": {
    "id": "S8pGaZpabtG8",
    "colab": {
     "base_uri": "https://localhost:8080/"
    },
    "executionInfo": {
     "status": "ok",
     "timestamp": 1749723235799,
     "user_tz": -240,
     "elapsed": 23,
     "user": {
      "displayName": "Ivan Reznikov",
      "userId": "03906939862966425294"
     }
    },
    "outputId": "db0c0865-580f-4f44-bdcc-d76f3b6561bd"
   },
   "execution_count": null,
   "outputs": [
    {
     "output_type": "execute_result",
     "data": {
      "text/plain": [
       "(0.5833767322597677,\n",
       " 0.5584084721719779,\n",
       " 0.7632300853729248,\n",
       " 0.7752267585860358,\n",
       " 0.6996756907966402)"
      ]
     },
     "metadata": {},
     "execution_count": 15
    }
   ]
  },
  {
   "cell_type": "code",
   "source": [
    "# Visualize similarity matrices for ambiguous sentences\n",
    "# Compare with medical sentences to see how domain affects understanding\n",
    "\n",
    "import numpy as np\n",
    "import matplotlib.pyplot as plt\n",
    "import seaborn as sns\n",
    "\n",
    "plt.figure(figsize=(20, 12))\n",
    "\n",
    "# Create mask for upper triangular visualization\n",
    "mask = np.triu(np.ones_like(openai_matrix, dtype=bool))\n",
    "np.fill_diagonal(mask, False)\n",
    "\n",
    "# Same models, now applied to ambiguous sentences\n",
    "heatmaps = [\n",
    "    (openai_matrix, \"text-embedding-3-large\"),\n",
    "    (mpnet_matrix, \"all-mpnet-base-v2\"),\n",
    "    (med_matrix, \"MedEmbed-large-v0.1\"),\n",
    "    (bge_med_matrix, \"bge_large_medical\"),\n",
    "    (bge_matrix, \"bge-m3\"),\n",
    "]\n",
    "\n",
    "for idx, (matrix, title) in enumerate(heatmaps, start=1):\n",
    "    plt.subplot(2, 3, idx)\n",
    "    sns.heatmap(\n",
    "        matrix,\n",
    "        mask=mask,\n",
    "        fmt=\".2f\",\n",
    "        xticklabels=[x + 1 for x in range(len(sentences))],\n",
    "        yticklabels=[x + 1 for x in range(len(sentences))],\n",
    "        annot=True,\n",
    "        cbar=False,\n",
    "        annot_kws={\"fontsize\": 16},\n",
    "    )\n",
    "    plt.title(title)\n",
    "\n",
    "plt.tight_layout()\n",
    "plt.show()"
   ],
   "metadata": {
    "id": "Bg_2gjCEKarv",
    "colab": {
     "base_uri": "https://localhost:8080/",
     "height": 861
    },
    "executionInfo": {
     "status": "ok",
     "timestamp": 1749723237131,
     "user_tz": -240,
     "elapsed": 1325,
     "user": {
      "displayName": "Ivan Reznikov",
      "userId": "03906939862966425294"
     }
    },
    "outputId": "c37c2757-2e24-4ada-893f-087dad9d2a55"
   },
   "execution_count": null,
   "outputs": [
    {
     "output_type": "display_data",
     "data": {
      "text/plain": [
       "<Figure size 2000x1200 with 5 Axes>"
      ],
      "image/png": "[encoded data removed]"
     },
     "metadata": {}
    }
   ]
  },
  {
   "cell_type": "markdown",
   "source": [
    "## Chemical Structure Processing\n",
    "\n",
    "Now we shift focus to chemical informatics:\n",
    "- **SMILES**: Simplified Molecular Input Line Entry System (text representation of molecules)\n",
    "- **SELFIES**: Self-Referencing Embedded Strings (more robust molecular representation)\n",
    "- We'll test different embedding approaches for chemical structures"
   ],
   "metadata": {
    "id": "iZknEBy-17lE"
   }
  },
  {
   "cell_type": "code",
   "source": [
    "import selfies as sf\n",
    "\n",
    "# Sample SMILES strings representing different chemical compounds\n",
    "# These include various functional groups and structural features\n",
    "sentences_smiles = [\n",
    "    \"ClC1CCCCC1\",  # Chlorocyclohexane (saturated ring with halogen)\n",
    "    \"ClC1=CC=CC=C1\",  # Chlorobenzene (aromatic ring with chlorine)\n",
    "    \"Clc1ccccc1\",  # Alternative notation for chlorobenzene\n",
    "    \"BrC1=CC=CC=C1\",  # Bromobenzene (similar to chlorobenzene, different halogen)\n",
    "    \"CC1=CC=CC=C1\",  # Toluene (methylbenzene)\n",
    "    \"CCCCCCCl\",  # 1-Chlorohexane (linear alkyl halide)\n",
    "]\n",
    "\n",
    "# Convert SMILES to SELFIES format\n",
    "# SELFIES are more robust for ML applications (always represent valid molecules)\n",
    "# Adding spaces between tokens for better tokenization\n",
    "sentences_selfies = [sf.encoder(x).replace(\"][\", \"]  [\") for x in sentences_smiles]"
   ],
   "metadata": {
    "id": "9rlO2LVuldr0"
   },
   "execution_count": null,
   "outputs": []
  },
  {
   "cell_type": "code",
   "source": [
    "# Display the SELFIES representations\n",
    "# Notice how they use bracket notation with explicit bonding information\n",
    "sentences_selfies"
   ],
   "metadata": {
    "id": "BW1vQS4clw_F",
    "colab": {
     "base_uri": "https://localhost:8080/"
    },
    "executionInfo": {
     "status": "ok",
     "timestamp": 1749723237154,
     "user_tz": -240,
     "elapsed": 14,
     "user": {
      "displayName": "Ivan Reznikov",
      "userId": "03906939862966425294"
     }
    },
    "outputId": "135c400c-8776-4f6f-edea-a729b7a370bb"
   },
   "execution_count": null,
   "outputs": [
    {
     "output_type": "execute_result",
     "data": {
      "text/plain": [
       "['[Cl]  [C]  [C]  [C]  [C]  [C]  [C]  [Ring1]  [=Branch1]',\n",
       " '[Cl]  [C]  [=C]  [C]  [=C]  [C]  [=C]  [Ring1]  [=Branch1]',\n",
       " '[Cl]  [C]  [=C]  [C]  [=C]  [C]  [=C]  [Ring1]  [=Branch1]',\n",
       " '[Br]  [C]  [=C]  [C]  [=C]  [C]  [=C]  [Ring1]  [=Branch1]',\n",
       " '[C]  [C]  [=C]  [C]  [=C]  [C]  [=C]  [Ring1]  [=Branch1]',\n",
       " '[C]  [C]  [C]  [C]  [C]  [C]  [Cl]']"
      ]
     },
     "metadata": {},
     "execution_count": 18
    }
   ]
  },
  {
   "cell_type": "markdown",
   "source": [
    "### Chemical-Specific Embedding Models\n",
    "\n",
    "Testing specialized models for chemical structures:\n",
    "1. **ChemBERTa**: BERT fine-tuned on chemical data\n",
    "2. **RoBERTa-ZINC**: RoBERTa trained on ZINC chemical database\n",
    "3. **ChemBed**: Specialized for SELFIES representation\n",
    "4. **OpenAI**: General model applied to chemical strings"
   ],
   "metadata": {
    "id": "_j3GJ1jx17lF"
   }
  },
  {
   "cell_type": "code",
   "source": [
    "import selfies as sf  # SELFIES library for molecular string representation\n",
    "\n",
    "# Test dataset: 6 chemical compounds in SMILES notation\n",
    "# These molecules are chosen to test chemical similarity:\n",
    "# - ClC1CCCCC1: Chlorocyclohexane (aliphatic ring with Cl)\n",
    "# - ClC1=CC=CC=C1, Clc1ccccc1: Chlorobenzene (aromatic ring with Cl, different notations)\n",
    "# - BrC1=CC=CC=C1: Bromobenzene (aromatic ring with Br)\n",
    "# - CC1=CC=CC=C1: Toluene (aromatic ring with methyl group)\n",
    "# - CCCCCCCl: 1-Chloroheptane (linear alkyl chain with Cl)\n",
    "sentences_smiles = [\n",
    "    \"ClC1CCCCC1\",  # Chlorocyclohexane\n",
    "    \"ClC1=CC=CC=C1\",  # Chlorobenzene (explicit double bonds)\n",
    "    \"Clc1ccccc1\",  # Chlorobenzene (implicit aromaticity)\n",
    "    \"BrC1=CC=CC=C1\",  # Bromobenzene\n",
    "    \"CC1=CC=CC=C1\",  # Toluene\n",
    "    \"CCCCCCCl\",  # 1-Chloroheptane\n",
    "]\n",
    "\n",
    "# Convert SMILES to SELFIES format\n",
    "# SELFIES is a more robust molecular representation that guarantees valid molecules\n",
    "# The replace operation adds spaces between tokens for better tokenization\n",
    "sentences_selfies = [sf.encoder(x).replace(\"][\", \"]  [\") for x in sentences_smiles]"
   ],
   "metadata": {
    "id": "NQPRbAs017lF"
   },
   "execution_count": null,
   "outputs": []
  },
  {
   "cell_type": "code",
   "source": [
    "# Display the SELFIES representations\n",
    "# This helps us understand how different molecular representations look\n",
    "sentences_selfies"
   ],
   "metadata": {
    "id": "AbCQ_kJF17lF",
    "colab": {
     "base_uri": "https://localhost:8080/"
    },
    "executionInfo": {
     "status": "ok",
     "timestamp": 1749723237209,
     "user_tz": -240,
     "elapsed": 34,
     "user": {
      "displayName": "Ivan Reznikov",
      "userId": "03906939862966425294"
     }
    },
    "outputId": "e99a0539-ec3c-4a43-f9b4-c8b17260c80c"
   },
   "execution_count": null,
   "outputs": [
    {
     "output_type": "execute_result",
     "data": {
      "text/plain": [
       "['[Cl]  [C]  [C]  [C]  [C]  [C]  [C]  [Ring1]  [=Branch1]',\n",
       " '[Cl]  [C]  [=C]  [C]  [=C]  [C]  [=C]  [Ring1]  [=Branch1]',\n",
       " '[Cl]  [C]  [=C]  [C]  [=C]  [C]  [=C]  [Ring1]  [=Branch1]',\n",
       " '[Br]  [C]  [=C]  [C]  [=C]  [C]  [=C]  [Ring1]  [=Branch1]',\n",
       " '[C]  [C]  [=C]  [C]  [=C]  [C]  [=C]  [Ring1]  [=Branch1]',\n",
       " '[C]  [C]  [C]  [C]  [C]  [C]  [Cl]']"
      ]
     },
     "metadata": {},
     "execution_count": 20
    }
   ]
  },
  {
   "cell_type": "markdown",
   "source": [
    "### ChemBERTa Embeddings\n",
    "\n",
    "ChemBERTa is a transformer model specifically trained on chemical data.\n",
    "This model has been fine-tuned on the ClinTox dataset for toxicity prediction."
   ],
   "metadata": {
    "id": "VhRGTl_017lF"
   }
  },
  {
   "cell_type": "code",
   "source": [
    "# Load ChemBERTa model fine-tuned on ClinTox dataset\n",
    "# ClinTox is a dataset for clinical toxicity prediction\n",
    "# This model should understand chemical toxicity patterns\n",
    "model = SentenceTransformer(\"HassanCS/chemBERTa-tuned-on-ClinTox-4\")\n",
    "\n",
    "# Generate embeddings for our SMILES molecules\n",
    "# get_embeddings() function converts molecules to dense vector representations\n",
    "chemberta_embeddings = get_embeddings(model, sentences_smiles)\n",
    "\n",
    "# Compute pairwise similarity matrix\n",
    "# This matrix shows how similar each molecule is to every other molecule\n",
    "# Higher values indicate greater chemical similarity\n",
    "chemberta_matrix = compute_similarity_matrix(chemberta_embeddings)"
   ],
   "metadata": {
    "id": "L8C_WdhdQBNL",
    "colab": {
     "base_uri": "https://localhost:8080/",
     "height": 433,
     "referenced_widgets": [
      "abab1545bb1f4faf94e80dc499797ddc",
      "6b1e4ce206d644129133c022748a49fb",
      "55743f3f2b3c4c26a00e1bc918dc447f",
      "94171c4857774074ad74d391dd7bc89b",
      "c38a55c4ebb9438092709e14bb3e866b",
      "c5169ea6c1b640159013ae13949f3b21",
      "781649bb54fc4dfc975789af1d9d92d7",
      "801bc028f59b49ec85a57dd920da8170",
      "10f6f4a303824463a3b728bfe074e8b8",
      "1b8d4ed83a4e4881bc588d68fe6b9455",
      "233c8aaadc7a4aa7a07e7b693d583d36",
      "92211156b12a441b8639af32d064e67e",
      "9e8be6392fc849b586c71e7c4c56179a",
      "7c4e21ac86f84188830c8b1eb0aa9d53",
      "9bf836f635914f548376e09bc9701cb3",
      "c11bac2b822f485b83e0c7b7522dd943",
      "2c52d347ae7046a5a74d722174135d44",
      "3ec83e8b77224f8eb20e3a894e98145b",
      "303d53e8f5134d248c66dc814bc76ec7",
      "8a9bf8f745ab4815b42dbbb6f404be10",
      "74d2a8ec71e34cb891589806a85b2253",
      "733432b1582941dbbcc7d70c17a43663",
      "987dba42ea5146e69b9605f58aba4869",
      "6211579ae3b7452497c2773a3c8e5795",
      "92dd35f1ed2d4e02a8c6b59ee707a3d1",
      "df988fecaf6445d3b60b7ca1877b39b5",
      "092d954db4f647f091d611b74468f9b2",
      "401f1387ae4c4d97a332bbbccfabe61e",
      "e7c515c3732044d98556144ac55724ec",
      "71cd23070e0b413c82b18f9efaa009ae",
      "ac3195bf8ecb4477b1b13e0f32e6e989",
      "8ab052f5465246f9a5b63a6bf9d770a9",
      "d6725f49a33a4513abff115dbb2fe620",
      "d5714b8963cf4d77baf87550e2f57219",
      "65cf11d887974bd490280e2199d8e405",
      "767413b487614837be3590e0ef379bb6",
      "3601a4e8318f40a9b384d0476848d450",
      "4b58fefd7e7847d5b57dfb6b746ed8b6",
      "5af019e4a7c74c5792dbe166df4bc7ab",
      "c8723326de7b40adb5b3371ec8056b2c",
      "962b172db33c483b871cb54d1c0f7965",
      "542d01d6bc8540f9999adea1d73c48ac",
      "12f5b71c354f485f9679848892969772",
      "c378d29c292a439097d273eb61feffd3",
      "f84e3709b16e48aeae4bd37e16f098bb",
      "3c8f7bde70dd4090ae94868cc4be5748",
      "8d8cee904bb24f2eab5409860b33176f",
      "5be8e886299b411ba7a80195a3d7693b",
      "f65115806bc448f98c2c3e767762e0ea",
      "47d66001e1964fde853f4ad5ab7edfca",
      "e91077f6c3c249168f0fd9e762515759",
      "ff256501f41244b3ba3355b82868f4d6",
      "2ed38b065a644432b897bb0e21dc81b9",
      "cefdf03c1dca428ab6969b5bf04d4183",
      "d299744ffa20431e94b50e6b23319454",
      "69e64859894f400f9bb44b62924394c7",
      "ce6b746711b74d11b4c093cdc68c8fb7",
      "904e650084f44e9aa024bdec1bcb5435",
      "fe1c54fb71fa43d29f5f4d5381d12448",
      "7a7fab6c35d64f32a233a3397d79e6be",
      "962bdda0b9274ee484ebbe82b837fd37",
      "3524c985960044ff96e6b13bc3ec9ccc",
      "f7f7ec4f6bb847a0982918b743ce98cd",
      "eca69f1fcd184aef9da1228ecc4219c9",
      "a8d44dd246944d809f22286ff077e8fc",
      "db80cf5cd04046e69d4f6a792c567f37",
      "a5c92d6bf98f4518a9e8024f1e8902a4",
      "2abb33cc85e549749e3c9b9af4d6e49c",
      "8c511e6211d64b3b905883088bc173a2",
      "e68e7c86182e41b498296efcec9b1775",
      "8ca83f35999f4d728933bc1d60bc21f4",
      "378ab351ee1340129c9e7df24b35c81e",
      "e15e4133291a4b20bd7d56550eab713b",
      "f5948fd7cfb941b0be9cfa1290972380",
      "6a190b42ddbb4147b1deb02f82927ee1",
      "9a6172a72e264b5c8fa182c60e90fec1",
      "ad4b0d70bfaa4c79a929c1a35becdec7",
      "4e1d2dcc68484ef3a6d93d56eae10a11",
      "3fcd6a42823c4cc39913c3034a32119a",
      "2aad55b3aa2a416cb3846651e81e7fb3",
      "6b1c5cc457ce42129a12af13af74d830",
      "c272315b0ab449c0a3694937d5c0ee0b",
      "31dfc7a73a624dc4ad6d3ac09b76f922",
      "d1804a247fd3428188035414464907c1",
      "eb65d6a1d95c4a2082ec457064625563",
      "03e428329b964cfa9ecdd99331ece18d",
      "621fa40d5c9341e19cce0fb99515f2aa",
      "77ada97a11b24c56a472c4a120f7aafb",
      "2db9a9a3ab4645148b4904c4b9237ed2",
      "3e30adfc1d8e4b7c8f608aa769ddcf27",
      "e71198d6db8c482c856efc97cb438b3e",
      "9878f0b6b51142b48a962ba139fbb762",
      "8dca404b255f4f89ba28f0890c3827a9",
      "09ec026cc0a44c3fa4658d2ca7fcf95a",
      "b5612e7fcc2649279b588e2a08704446",
      "0aa5109fe977492ca671f9c90bdcfaa2",
      "631af5b83cac42588d1bbf8b5298b899",
      "f49c9060d6cb43ca8f7d7cfd21fe6d1c",
      "a118cb85e7564998a22c4b2e38ade1fd",
      "4d5786a451e74eec83be5004dcb205e5",
      "9c3a7fcac9e64e37b49114eca9036600",
      "28ae2c9a811745a281f4d7c8047f6069",
      "13cbf0009c4f418abb273a6af747b20e",
      "181cd990dea74ebcae96eb9724509ec8",
      "3a5f407d2ad2443f84bbfe96f29a7086",
      "300c3db59bde4daa9c614469a393ad10",
      "60c162f8709e43f5b97e403e292972fe",
      "50d0c3fdf6e146e8859656d80197d61c",
      "4d84716c037345d9bb7366a31138a1b9",
      "092d6676cbb94250984437cd148d2098",
      "f652871f1fea483a85e7b9aee38a4ef9",
      "9f7a54c56c9747d7a983f23ae2821071",
      "655dfe4519c845d08c2718cc906cb01f",
      "1a094831f8bb4386abfc46c67c52b43e",
      "ab0242537935429388b7fb232184198d",
      "1da1b3823bf34bb5a7d7f471ae90d353",
      "24891aa3805d40f2bcff0059777cf0bd",
      "6662bf13870f498ca9a96d6d68e1fe5a",
      "aab7fc58fa514fd9a6ff393c064aae88",
      "089329c2344a44518497477d64e0c36a",
      "9a5b3aaa52ec496481bf2f6bb249d9ee",
      "d854e9bbbe1548129c4465a63db2874a",
      "150ebe359567473994aec65b03d86516",
      "805f831ad3f94cf8a076cf8f38b3e983",
      "1fb3cca3a2c6404698decbb84552f1ac",
      "f345dc3e58ba4de48bd1646a42e790aa",
      "efbc5dfa5a1048b7846cceec90a117e0",
      "7a510cc523ab4956b91547ee7f85a48c",
      "04942b04cad64e32abce2895a0e39b81",
      "feeecdc48a0d47e68c90bd34bb83eb31",
      "fba02c19c712462a89f27b7e19056288",
      "7f9f82887406432a97a726680a94b267",
      "ba9c1de445bb408cb6853ed994a818f1",
      "9254cb71bb8d4e84b3b0946b3324e034",
      "de2a980ee60240ec834cb870264ae481",
      "1e66391fd7a14d6085aefe9221ab4da5",
      "cabdd04b2ecb41beaeec5dc7039f2d5f",
      "9f36db2edfa3498c8257d4e73f21b552",
      "0e7f284ef4c740c581566894c38b988e",
      "38a5734b76f346a9a8106afd0e88ad87",
      "acecc1db6b6b443ea95b224ae25b30c7",
      "434338b20ffd46eda0d8469cb1f055e0",
      "126da7f3cb7241cda0b05a62d1e90b18"
     ]
    },
    "executionInfo": {
     "status": "ok",
     "timestamp": 1749723242100,
     "user_tz": -240,
     "elapsed": 4887,
     "user": {
      "displayName": "Ivan Reznikov",
      "userId": "03906939862966425294"
     }
    },
    "outputId": "109e6366-700e-4fc5-dde4-6dcadfcea8d4"
   },
   "execution_count": null,
   "outputs": [
    {
     "output_type": "display_data",
     "data": {
      "text/plain": [
       "modules.json:   0%|          | 0.00/229 [00:00<?, ?B/s]"
      ],
      "application/vnd.jupyter.widget-view+json": {
       "version_major": 2,
       "version_minor": 0,
       "model_id": "abab1545bb1f4faf94e80dc499797ddc"
      }
     },
     "metadata": {}
    },
    {
     "output_type": "display_data",
     "data": {
      "text/plain": [
       "config_sentence_transformers.json:   0%|          | 0.00/205 [00:00<?, ?B/s]"
      ],
      "application/vnd.jupyter.widget-view+json": {
       "version_major": 2,
       "version_minor": 0,
       "model_id": "92211156b12a441b8639af32d064e67e"
      }
     },
     "metadata": {}
    },
    {
     "output_type": "display_data",
     "data": {
      "text/plain": [
       "README.md:   0%|          | 0.00/20.2k [00:00<?, ?B/s]"
      ],
      "application/vnd.jupyter.widget-view+json": {
       "version_major": 2,
       "version_minor": 0,
       "model_id": "987dba42ea5146e69b9605f58aba4869"
      }
     },
     "metadata": {}
    },
    {
     "output_type": "display_data",
     "data": {
      "text/plain": [
       "sentence_bert_config.json:   0%|          | 0.00/53.0 [00:00<?, ?B/s]"
      ],
      "application/vnd.jupyter.widget-view+json": {
       "version_major": 2,
       "version_minor": 0,
       "model_id": "d5714b8963cf4d77baf87550e2f57219"
      }
     },
     "metadata": {}
    },
    {
     "output_type": "display_data",
     "data": {
      "text/plain": [
       "config.json:   0%|          | 0.00/733 [00:00<?, ?B/s]"
      ],
      "application/vnd.jupyter.widget-view+json": {
       "version_major": 2,
       "version_minor": 0,
       "model_id": "f84e3709b16e48aeae4bd37e16f098bb"
      }
     },
     "metadata": {}
    },
    {
     "output_type": "display_data",
     "data": {
      "text/plain": [
       "model.safetensors:   0%|          | 0.00/13.7M [00:00<?, ?B/s]"
      ],
      "application/vnd.jupyter.widget-view+json": {
       "version_major": 2,
       "version_minor": 0,
       "model_id": "69e64859894f400f9bb44b62924394c7"
      }
     },
     "metadata": {}
    },
    {
     "output_type": "display_data",
     "data": {
      "text/plain": [
       "tokenizer_config.json:   0%|          | 0.00/1.64k [00:00<?, ?B/s]"
      ],
      "application/vnd.jupyter.widget-view+json": {
       "version_major": 2,
       "version_minor": 0,
       "model_id": "a5c92d6bf98f4518a9e8024f1e8902a4"
      }
     },
     "metadata": {}
    },
    {
     "output_type": "display_data",
     "data": {
      "text/plain": [
       "vocab.json:   0%|          | 0.00/6.96k [00:00<?, ?B/s]"
      ],
      "application/vnd.jupyter.widget-view+json": {
       "version_major": 2,
       "version_minor": 0,
       "model_id": "4e1d2dcc68484ef3a6d93d56eae10a11"
      }
     },
     "metadata": {}
    },
    {
     "output_type": "display_data",
     "data": {
      "text/plain": [
       "merges.txt:   0%|          | 0.00/14.0 [00:00<?, ?B/s]"
      ],
      "application/vnd.jupyter.widget-view+json": {
       "version_major": 2,
       "version_minor": 0,
       "model_id": "2db9a9a3ab4645148b4904c4b9237ed2"
      }
     },
     "metadata": {}
    },
    {
     "output_type": "display_data",
     "data": {
      "text/plain": [
       "tokenizer.json:   0%|          | 0.00/14.0k [00:00<?, ?B/s]"
      ],
      "application/vnd.jupyter.widget-view+json": {
       "version_major": 2,
       "version_minor": 0,
       "model_id": "4d5786a451e74eec83be5004dcb205e5"
      }
     },
     "metadata": {}
    },
    {
     "output_type": "display_data",
     "data": {
      "text/plain": [
       "added_tokens.json:   0%|          | 0.00/32.0 [00:00<?, ?B/s]"
      ],
      "application/vnd.jupyter.widget-view+json": {
       "version_major": 2,
       "version_minor": 0,
       "model_id": "f652871f1fea483a85e7b9aee38a4ef9"
      }
     },
     "metadata": {}
    },
    {
     "output_type": "display_data",
     "data": {
      "text/plain": [
       "special_tokens_map.json:   0%|          | 0.00/965 [00:00<?, ?B/s]"
      ],
      "application/vnd.jupyter.widget-view+json": {
       "version_major": 2,
       "version_minor": 0,
       "model_id": "d854e9bbbe1548129c4465a63db2874a"
      }
     },
     "metadata": {}
    },
    {
     "output_type": "display_data",
     "data": {
      "text/plain": [
       "config.json:   0%|          | 0.00/296 [00:00<?, ?B/s]"
      ],
      "application/vnd.jupyter.widget-view+json": {
       "version_major": 2,
       "version_minor": 0,
       "model_id": "ba9c1de445bb408cb6853ed994a818f1"
      }
     },
     "metadata": {}
    }
   ]
  },
  {
   "cell_type": "markdown",
   "source": [
    "### OpenAI Embeddings on SMILES\n",
    "\n",
    "Testing general-purpose OpenAI embeddings on chemical data.\n",
    "These embeddings weren't specifically trained on chemistry, so performance may vary."
   ],
   "metadata": {
    "id": "mbcZ2czM17lG"
   }
  },
  {
   "cell_type": "code",
   "source": [
    "# Generate OpenAI embeddings for SMILES strings\n",
    "# OpenAI embeddings are general-purpose and not chemistry-specific\n",
    "# use_encode=False indicates we're using OpenAI's API rather than a local encoder\n",
    "openai_embeddings_list = get_embeddings(\n",
    "    openai_embedding, sentences_smiles, use_encode=False\n",
    ")\n",
    "\n",
    "# Compute similarity matrix for OpenAI embeddings\n",
    "# This will show how well general NLP embeddings capture chemical similarity\n",
    "openai_smiles_matrix = compute_similarity_matrix(openai_embeddings_list)"
   ],
   "metadata": {
    "id": "o6TuQlJNO5LM"
   },
   "execution_count": null,
   "outputs": []
  },
  {
   "cell_type": "markdown",
   "source": [
    "### RoBERTa-ZINC Embeddings\n",
    "\n",
    "RoBERTa model trained on the ZINC database (480M parameters).\n",
    "ZINC is a large database of commercially available compounds."
   ],
   "metadata": {
    "id": "VzuKMqk617lG"
   }
  },
  {
   "cell_type": "code",
   "source": [
    "from transformers import (\n",
    "    RobertaTokenizerFast,\n",
    "    RobertaForMaskedLM,\n",
    "    DataCollatorWithPadding,\n",
    ")\n",
    "\n",
    "# Load RoBERTa model trained on ZINC database\n",
    "# ZINC contains millions of purchasable compounds for virtual screening\n",
    "tokenizer = RobertaTokenizerFast.from_pretrained(\n",
    "    \"entropy/roberta_zinc_480m\", max_len=128\n",
    ")\n",
    "model = RobertaForMaskedLM.from_pretrained(\"entropy/roberta_zinc_480m\")\n",
    "\n",
    "# Data collator handles batching and padding of tokenized inputs\n",
    "collator = DataCollatorWithPadding(tokenizer, padding=True, return_tensors=\"pt\")\n",
    "\n",
    "# Tokenize SMILES strings and prepare for model input\n",
    "inputs = collator(tokenizer(sentences_smiles))\n",
    "\n",
    "# Get model outputs with hidden states\n",
    "# output_hidden_states=True returns intermediate layer representations\n",
    "outputs = model(**inputs, output_hidden_states=True)\n",
    "\n",
    "# Extract embeddings from the last hidden layer\n",
    "full_embeddings = outputs[1][-1]  # Last layer hidden states\n",
    "mask = inputs[\"attention_mask\"]  # Attention mask for padding tokens\n",
    "\n",
    "# Compute mean pooling over sequence length (ignoring padding)\n",
    "# This creates a single vector representation for each molecule\n",
    "roberta_zinc_embeddings = (full_embeddings * mask.unsqueeze(-1)).sum(1) / mask.sum(\n",
    "    -1\n",
    ").unsqueeze(-1)\n",
    "\n",
    "# Normalize embeddings to unit length (L2 normalization)\n",
    "# This ensures similarity is based on direction, not magnitude\n",
    "roberta_zinc_embeddings /= roberta_zinc_embeddings.norm(dim=-1, p=2).unsqueeze(-1)\n",
    "\n",
    "# Compute similarity matrix\n",
    "roberta_zinc_matrix = compute_similarity_matrix(roberta_zinc_embeddings)"
   ],
   "metadata": {
    "id": "y_mfPFCXu1Pr",
    "colab": {
     "base_uri": "https://localhost:8080/",
     "height": 241,
     "referenced_widgets": [
      "1434c775426343faaa288cd4278e16ef",
      "99383e18b548495ebba2fe59fd18a30c",
      "5de559fec23643319ff265d778c73c7c",
      "36f7c54a50e4406c986a15c337d6abe8",
      "4872c27536804270be8ff6d43e62e236",
      "0b0bd086604349b2ba845b83699d55fa",
      "f6291378e9f24e138e6978c7dc7a1af0",
      "9da1825c64d849ed8a2162be98e398dd",
      "9edcbb8b24604da68b058d5d7a2cef8d",
      "af952f5d4c7e4513b1045e5747ca18ee",
      "e0153b109b624273867038bcd81f6684",
      "565f49b747674a7091ef36bed306ab97",
      "2a179ad77817465cb3518ae413534e58",
      "5e9b7926355f42a391ee8b88492469bb",
      "7330036493a048a9bd57947aab508a3b",
      "6e8d12bf868e4aa6acaeb7d95a353ac1",
      "b0ce591c52ac4489a71eb319a61bc990",
      "41c8fce032aa4c87ae6a674c0f2c4a7a",
      "176188fb25f34442888115608d3fef9d",
      "bb07a998d76141879783004c2698e141",
      "8158af51ffc74e869157007bf86d9634",
      "113c740824a748629399ebb9a16e3b0b",
      "13c15d0daeef407e8fb2ed29b2fe7958",
      "75d63f13db394c57a48e62f297ed00af",
      "30da7dd25ac64375ad76374ca084c229",
      "2cde50044b9741f192dd3e706959d2db",
      "29a7dc22d8e144c2a4d2af8c65817e07",
      "b8d68196cce14d628dd8f02d69550cc4",
      "8dc3eda1c50245f0af2adefe9a1fe3bf",
      "e6c1c40dff86495fb76cb609724fbc0e",
      "c724199e06bd47eb95f0b252f7edad3a",
      "cdb25c4670984c18b7ff01d66ad4faf2",
      "f5417bf31c27479d9eab3f61bb5f4178",
      "ec3645502b784a5aab8e80089d8d1ec5",
      "c5b7d56561354858aecdd766ace7ab22",
      "0238b72ed20941e9bc26ae1c9d4bb3f6",
      "7fa96d8e48004ecab5cce0fe46eaaf08",
      "756e85dcda684e659c9e4df8b23c9033",
      "6103e805bf2749ca911478e1537a4225",
      "ea35b94c46e343d2867313a7f3cd1ff1",
      "90990286be4f464fbaa24a9e8845609c",
      "a057594640c340399314b86e6c411db1",
      "2a08154cb1594e918b005c024aac064a",
      "b8feffdc9e6a4a5aaf78c63917591d14",
      "18d100431c56440e8affc7dfd4a4506d",
      "e8217a330d5c4d54b614ecdb382488c8",
      "9f5c61138b1045d1977ed6aec49152d1",
      "2588a7efb9dd4cf190da10d61bcf853c",
      "2e5c8c395cdb4a58ad0deba6d6a6c2cd",
      "8a5e63562d4543e4a770ecc439e6d903",
      "ef9053e9f63742208953297f85ba2b9b",
      "c7dffb077a7c4b7782955edd91cef57b",
      "9a0e717b5a534ffbbfdc8a49ca3281f3",
      "c50d1df950434c58b4840dbb77071f76",
      "7ef50688a8e74542bb229ae4cf329e5d",
      "87a59c46af274702a37ad888172861d8",
      "f862e242545043889207fa8b646bfafd",
      "19db5249890e4404bd2149b3e04ac659",
      "af49faf4f1424b67b8eb530c9001fd02",
      "2c161dccdb604985a6b19685b696208d",
      "5ae637b745784634b288424cffb8484c",
      "f5754720968b4c50b96463da3a854c20",
      "509416a609a74dc3951727dfd413f15e",
      "12d34a8281424785977f8dc16e239c64",
      "39823e3b968b46728d34b92d2366e891",
      "711e117320644dabad0101860ccfd301",
      "6055c99d4bed44018f4b51a9c0403509",
      "aedb483ec1ce478ba53010e556db3596",
      "16fab0f72b1a4be6a6d4b2bd94c9f4cf",
      "7f48f6e663d840aeb3d4b7348278c24d",
      "1142afc96328451cae8b3ff6cce4b19a",
      "98ffde4cff74436fad1ca7bce8c6f948",
      "9a30699855ed46148e069a9dbe3ce192",
      "4526e56a9c5241579175c29fad48868f",
      "3de2fdc13381495f9d93d3e1d2556963",
      "804386b2af5e433e86fa77d69f7c2b82",
      "01767323b9e04cbe9d383a900d62c504"
     ]
    },
    "executionInfo": {
     "status": "ok",
     "timestamp": 1749723262320,
     "user_tz": -240,
     "elapsed": 18413,
     "user": {
      "displayName": "Ivan Reznikov",
      "userId": "03906939862966425294"
     }
    },
    "outputId": "eaa5c935-8f75-4a6a-cd30-2cb7eda6515e"
   },
   "execution_count": null,
   "outputs": [
    {
     "output_type": "display_data",
     "data": {
      "text/plain": [
       "tokenizer_config.json:   0%|          | 0.00/1.24k [00:00<?, ?B/s]"
      ],
      "application/vnd.jupyter.widget-view+json": {
       "version_major": 2,
       "version_minor": 0,
       "model_id": "1434c775426343faaa288cd4278e16ef"
      }
     },
     "metadata": {}
    },
    {
     "output_type": "display_data",
     "data": {
      "text/plain": [
       "vocab.json:   0%|          | 0.00/40.5k [00:00<?, ?B/s]"
      ],
      "application/vnd.jupyter.widget-view+json": {
       "version_major": 2,
       "version_minor": 0,
       "model_id": "565f49b747674a7091ef36bed306ab97"
      }
     },
     "metadata": {}
    },
    {
     "output_type": "display_data",
     "data": {
      "text/plain": [
       "merges.txt:   0%|          | 0.00/24.4k [00:00<?, ?B/s]"
      ],
      "application/vnd.jupyter.widget-view+json": {
       "version_major": 2,
       "version_minor": 0,
       "model_id": "13c15d0daeef407e8fb2ed29b2fe7958"
      }
     },
     "metadata": {}
    },
    {
     "output_type": "display_data",
     "data": {
      "text/plain": [
       "tokenizer.json:   0%|          | 0.00/110k [00:00<?, ?B/s]"
      ],
      "application/vnd.jupyter.widget-view+json": {
       "version_major": 2,
       "version_minor": 0,
       "model_id": "ec3645502b784a5aab8e80089d8d1ec5"
      }
     },
     "metadata": {}
    },
    {
     "output_type": "display_data",
     "data": {
      "text/plain": [
       "special_tokens_map.json:   0%|          | 0.00/958 [00:00<?, ?B/s]"
      ],
      "application/vnd.jupyter.widget-view+json": {
       "version_major": 2,
       "version_minor": 0,
       "model_id": "18d100431c56440e8affc7dfd4a4506d"
      }
     },
     "metadata": {}
    },
    {
     "output_type": "display_data",
     "data": {
      "text/plain": [
       "config.json:   0%|          | 0.00/700 [00:00<?, ?B/s]"
      ],
      "application/vnd.jupyter.widget-view+json": {
       "version_major": 2,
       "version_minor": 0,
       "model_id": "87a59c46af274702a37ad888172861d8"
      }
     },
     "metadata": {}
    },
    {
     "output_type": "display_data",
     "data": {
      "text/plain": [
       "model.safetensors:   0%|          | 0.00/409M [00:00<?, ?B/s]"
      ],
      "application/vnd.jupyter.widget-view+json": {
       "version_major": 2,
       "version_minor": 0,
       "model_id": "6055c99d4bed44018f4b51a9c0403509"
      }
     },
     "metadata": {}
    }
   ]
  },
  {
   "cell_type": "markdown",
   "source": [
    "### ChemBed-ChemSELFIES Embeddings\n",
    "\n",
    "This model is specifically designed for SELFIES representations.\n",
    "It should better understand the SELFIES tokenization scheme."
   ],
   "metadata": {
    "id": "HnCBOXNK17lQ"
   }
  },
  {
   "cell_type": "code",
   "source": [
    "# Load ChemBed model trained on SELFIES representations\n",
    "# This model understands the specific tokenization of SELFIES format\n",
    "model = SentenceTransformer(\"gbyuvd/chembed-chemselfies-bed\")"
   ],
   "metadata": {
    "id": "SNDYblhwOki8",
    "colab": {
     "base_uri": "https://localhost:8080/",
     "height": 369,
     "referenced_widgets": [
      "d2a1d08703064e03b289919dcd7035d0",
      "dd7f46f6979046a88159870c44edce5c",
      "f287696405814dab8335baddbb30c403",
      "ae5c9fb157114e14b911bbdac99b4e1d",
      "7de7a1c5af17416bacc6d3eb66984870",
      "ffd11a3c6ee1445f89407248263d8f19",
      "2e6db64ec3c14d84830a775b19f8f3ed",
      "0c9ba57c7a414ff28a673231a6e2e596",
      "3a9fc736846b42ce86f8c8205c8d61eb",
      "c17f0b246f5e41c6a4c81bc9826b11dd",
      "2c641b456c044eaeaec3b03666729a40",
      "d578cc8715aa47a5848f82a3447ba2c8",
      "f49760d678a0418aaea55e9445615bb9",
      "0d8ca76af7be4abc839055de7bb50814",
      "115f64af133143708633dc5b2da311f2",
      "e85ba81d189d419b8d682c13f8129c0d",
      "1fbbf795d8d14649b590107152cf9cf8",
      "869dc317270a4862b7e1644164a4bd16",
      "74ad126b7b3b47c7b6508b9c1e8c8b19",
      "3290af40a4f4426ea77863c46674a70c",
      "c0fa6d7e7c1249dcb62c50573e43fc69",
      "ef364484d34448758ee3116867281733",
      "0a471326d4fd46afb7c03ac914da013b",
      "6a279c955b414a6496acdb6b392ed91e",
      "a3dceb45593b48b4a0691dcd51d2023c",
      "8df9d587197a4a87bd2054bb5d3789fc",
      "244250d9697f4aacb292e8549854f68b",
      "930228050763467eab57e75bc5548450",
      "0e9d802162ac4ace91bed36f6ede5fc6",
      "cdd2eff4075746139cbb907af6a0cdc8",
      "215968a787d44f3287e488f092f40ea5",
      "9ea91bce360b46b0a5f104faa448c748",
      "e2c20317fc2e41a1ba986baa5ead57b3",
      "1954f48d549044168c57e141711313a6",
      "974237e90b234eed81e2de6a7f643674",
      "a908a4fd93b241bab0f1a44136a8e642",
      "ed9a644467454ae8a538e2d9eb52b602",
      "830445fadd4b4a7ca007ea3646dfa225",
      "ce86508c912744859c789f6b8523e136",
      "c68ee621c98f4d8290c722d167bbe597",
      "72eb9c12a2bd4f75bd3edeb681df7bde",
      "30feff9d4d0b49c7b7aa7c4951cc0d85",
      "0b11aaeac48e4d43b226edc0f718e8eb",
      "8a9063c789ea4ea0ab457a097ee78cf2",
      "55fb11271ba3452e932d848e86b09b28",
      "9ccb243e305e4ed886ab965c3a23f7bf",
      "4efbe20db73b4ba1967d74ba467b963f",
      "840a9740ec884ffb88736cfc9869a6b1",
      "63a930f91928478cb4a9640333f6cdb1",
      "6c984105e6a445b9956ea4bd35301d95",
      "ed109b8840b54ba79e22b4b6f932f66f",
      "5c3698e852eb43ed96ddfe3551dcf208",
      "b76a03851b394b88a861324d9af50000",
      "a3cc8703d7834d5dbca1b70a68826fb1",
      "517b5da6f3b14492b114a4f153e63a1d",
      "2cec7fc1b9a84cbd88f89a1c28daa0c6",
      "f20ed115ff6e459aa59b236f1c752296",
      "e58aa89321fa4e639862df98446c5146",
      "a2c115f31e5142fc93745ba5296ed683",
      "4c64f061cd1e46cf9208c3e4cec51375",
      "74b1d97c6bea441bbca2caad2849fec3",
      "48a23416453c46ed9c001ff2d107e9ec",
      "da7484b6813b460980237bd70e8d3524",
      "0406d43ad95f4d15b3073da8af0ad910",
      "9ab2e444f4bb4c12bd66bf726d7919c0",
      "4608961517cd4345b700b6cb063f6543",
      "7e765dd8c91f4559bdd8919e2c31667d",
      "7f39d654840a47daa3c86f3c9e4294fe",
      "f441bbd8666d406cb19241398969643b",
      "7b540173715746359e56ac9281f53429",
      "a2e966349ab944889c621e178c225b72",
      "c0d4e71282584c7a803fa9e75414e322",
      "e9f8d82701d142fe8ae34f48bf6fb497",
      "2d48041963804dd689e86d0b186d13c3",
      "84dfbc4d74934685b9f5f289748e810f",
      "b420c3c0b3894c73b468f8a73d4d839e",
      "f57756f9314643279780b509f4cde606",
      "5e024ffbe0f24b7daa16fbcdddd91396",
      "e1534438b3fa403ab5ad60888a43cf9a",
      "73c95a27827947949094559d2c026a4f",
      "8062626ed0f14f19ac597ff2ca80b285",
      "092707de660249fdbd4bdb9c1683eb00",
      "7492c3208df74358b3f575cbe5df6e73",
      "9abbd299530b4309970aed2e8892d0f6",
      "5a85a7bcc7294434a6999c4680285333",
      "f880d92b73c14b6a908ff9c899c26dca",
      "e3a3dd2b1bb94d9bb3ce4317e655ec9e",
      "594f33d7ab25462fbe568947c8e315bb",
      "7141b526ef1e4b58ad15e545f0f4991d",
      "693cab5693f744ae9829f1dee7ef189e",
      "d8b38470c48c42269a422f027c752fb5",
      "d46c12ef357c42c2b1b806b6f6887911",
      "f74c8fdcfd624721917002ff73303589",
      "6d274d4941fe4190b1681f15ec97745a",
      "56f7eb6b42474a6da62ca8ed7788c34e",
      "55f3d49dd3bb4d71b9406f63c065db4f",
      "c3056e874d82445ea8deb0a29222c6f9",
      "dbaa086a2dd14564a1538f07212f0d00",
      "1e1ba1696785414dbdb36472bd19d5ad",
      "b84953513e66491b80ce71cc11c77b1a",
      "c235f7ac08bb4bce81d5bd044a28c54c",
      "cb28b90052ae4afa97b84e7385c9bd40",
      "b98a66031dff4050a804553cde34b74c",
      "e56400ae2fd8450da0cf69df74020d87",
      "7c1625a5e0ca4dbe93adaf25e35cade3",
      "1aeb0f4125e2489b9d7ca34d79ca6477",
      "934030ee8e734ef08b218a3af3fe5729",
      "5bfe246c9c1c42f9bcd1c72102c4f52b",
      "a338b1fae26a4b71b490fb2c6533369d",
      "78a97f23425d4a9f81e7da6e70811fb6",
      "f6af0bfa0ae54f76b9498173b1ad8ba7",
      "3dc0ef10ef914879aa1e0ad75a13f86b",
      "9b16059c41584c16a70ae737a823385d",
      "f402ba8271ce4c33b9905d7c239738ec",
      "3ac5b0689d2f4e238af12f8efe8e96c8",
      "c9bf9c94d54f4755b379efef30ce0c1f",
      "ec84319a16c94d6e888e4a98bbb85a88",
      "87d3aa0c948848c19e517ebdcdd253cb",
      "c587fa091911456b9fe8b17cb2b79655",
      "d1258d3c43d94e29a6899a3faee238e0",
      "7a00f0c55c784b25b22f3c26f9292f6d"
     ]
    },
    "executionInfo": {
     "status": "ok",
     "timestamp": 1749723269292,
     "user_tz": -240,
     "elapsed": 6968,
     "user": {
      "displayName": "Ivan Reznikov",
      "userId": "03906939862966425294"
     }
    },
    "outputId": "88eb3888-5890-4c43-bbb0-6a51e93c5450"
   },
   "execution_count": null,
   "outputs": [
    {
     "output_type": "display_data",
     "data": {
      "text/plain": [
       "modules.json:   0%|          | 0.00/229 [00:00<?, ?B/s]"
      ],
      "application/vnd.jupyter.widget-view+json": {
       "version_major": 2,
       "version_minor": 0,
       "model_id": "d2a1d08703064e03b289919dcd7035d0"
      }
     },
     "metadata": {}
    },
    {
     "output_type": "display_data",
     "data": {
      "text/plain": [
       "config_sentence_transformers.json:   0%|          | 0.00/201 [00:00<?, ?B/s]"
      ],
      "application/vnd.jupyter.widget-view+json": {
       "version_major": 2,
       "version_minor": 0,
       "model_id": "d578cc8715aa47a5848f82a3447ba2c8"
      }
     },
     "metadata": {}
    },
    {
     "output_type": "display_data",
     "data": {
      "text/plain": [
       "README.md:   0%|          | 0.00/34.5k [00:00<?, ?B/s]"
      ],
      "application/vnd.jupyter.widget-view+json": {
       "version_major": 2,
       "version_minor": 0,
       "model_id": "0a471326d4fd46afb7c03ac914da013b"
      }
     },
     "metadata": {}
    },
    {
     "output_type": "display_data",
     "data": {
      "text/plain": [
       "sentence_bert_config.json:   0%|          | 0.00/53.0 [00:00<?, ?B/s]"
      ],
      "application/vnd.jupyter.widget-view+json": {
       "version_major": 2,
       "version_minor": 0,
       "model_id": "1954f48d549044168c57e141711313a6"
      }
     },
     "metadata": {}
    },
    {
     "output_type": "display_data",
     "data": {
      "text/plain": [
       "config.json:   0%|          | 0.00/610 [00:00<?, ?B/s]"
      ],
      "application/vnd.jupyter.widget-view+json": {
       "version_major": 2,
       "version_minor": 0,
       "model_id": "55fb11271ba3452e932d848e86b09b28"
      }
     },
     "metadata": {}
    },
    {
     "output_type": "display_data",
     "data": {
      "text/plain": [
       "model.safetensors:   0%|          | 0.00/44.5M [00:00<?, ?B/s]"
      ],
      "application/vnd.jupyter.widget-view+json": {
       "version_major": 2,
       "version_minor": 0,
       "model_id": "2cec7fc1b9a84cbd88f89a1c28daa0c6"
      }
     },
     "metadata": {}
    },
    {
     "output_type": "display_data",
     "data": {
      "text/plain": [
       "tokenizer_config.json:   0%|          | 0.00/1.44k [00:00<?, ?B/s]"
      ],
      "application/vnd.jupyter.widget-view+json": {
       "version_major": 2,
       "version_minor": 0,
       "model_id": "7e765dd8c91f4559bdd8919e2c31667d"
      }
     },
     "metadata": {}
    },
    {
     "output_type": "display_data",
     "data": {
      "text/plain": [
       "vocab.txt:   0%|          | 0.00/24.0k [00:00<?, ?B/s]"
      ],
      "application/vnd.jupyter.widget-view+json": {
       "version_major": 2,
       "version_minor": 0,
       "model_id": "5e024ffbe0f24b7daa16fbcdddd91396"
      }
     },
     "metadata": {}
    },
    {
     "output_type": "display_data",
     "data": {
      "text/plain": [
       "tokenizer.json:   0%|          | 0.00/72.5k [00:00<?, ?B/s]"
      ],
      "application/vnd.jupyter.widget-view+json": {
       "version_major": 2,
       "version_minor": 0,
       "model_id": "7141b526ef1e4b58ad15e545f0f4991d"
      }
     },
     "metadata": {}
    },
    {
     "output_type": "display_data",
     "data": {
      "text/plain": [
       "special_tokens_map.json:   0%|          | 0.00/695 [00:00<?, ?B/s]"
      ],
      "application/vnd.jupyter.widget-view+json": {
       "version_major": 2,
       "version_minor": 0,
       "model_id": "b84953513e66491b80ce71cc11c77b1a"
      }
     },
     "metadata": {}
    },
    {
     "output_type": "display_data",
     "data": {
      "text/plain": [
       "config.json:   0%|          | 0.00/297 [00:00<?, ?B/s]"
      ],
      "application/vnd.jupyter.widget-view+json": {
       "version_major": 2,
       "version_minor": 0,
       "model_id": "f6af0bfa0ae54f76b9498173b1ad8ba7"
      }
     },
     "metadata": {}
    }
   ]
  },
  {
   "cell_type": "code",
   "source": [
    "# Generate embeddings using SELFIES representations\n",
    "# This should capture molecular similarity better than SMILES for this model\n",
    "chem_embeddings = get_embeddings(model, sentences_selfies)\n",
    "print(f\"Embedding shape: {chem_embeddings.shape}\")  # Shows dimensionality of embeddings"
   ],
   "metadata": {
    "id": "qfCrAPyBO8qE",
    "colab": {
     "base_uri": "https://localhost:8080/"
    },
    "executionInfo": {
     "status": "ok",
     "timestamp": 1749723269344,
     "user_tz": -240,
     "elapsed": 47,
     "user": {
      "displayName": "Ivan Reznikov",
      "userId": "03906939862966425294"
     }
    },
    "outputId": "1899870b-eab0-4961-a8a1-2967364bac19"
   },
   "execution_count": null,
   "outputs": [
    {
     "output_type": "stream",
     "name": "stdout",
     "text": [
      "Embedding shape: (6, 320)\n"
     ]
    }
   ]
  },
  {
   "cell_type": "code",
   "source": [
    "# Compute similarity matrix for ChemBed embeddings\n",
    "# This will show how SELFIES-trained models perform on similarity tasks\n",
    "chem_matrix = compute_similarity_matrix(chem_embeddings)"
   ],
   "metadata": {
    "id": "FkiatgyUOnjI"
   },
   "execution_count": null,
   "outputs": []
  },
  {
   "cell_type": "markdown",
   "source": [
    "### OpenAI Embeddings on SELFIES\n",
    "\n",
    "Testing how general-purpose embeddings perform on SELFIES format.\n",
    "This comparison helps understand format-specific vs. general embedding performance."
   ],
   "metadata": {
    "id": "LmCQQUFm17lR"
   }
  },
  {
   "cell_type": "code",
   "source": [
    "# Generate OpenAI embeddings for SELFIES strings\n",
    "# Comparing general embeddings on SELFIES vs SMILES format\n",
    "openai_embeddings_list = get_embeddings(\n",
    "    openai_embedding, sentences_selfies, use_encode=False\n",
    ")\n",
    "\n",
    "# Compute similarity matrix for OpenAI-SELFIES combination\n",
    "openai_selfies_matrix = compute_similarity_matrix(openai_embeddings_list)"
   ],
   "metadata": {
    "id": "s5TJ-HDqRiJB"
   },
   "execution_count": null,
   "outputs": []
  },
  {
   "cell_type": "markdown",
   "source": [
    "### Similarity Analysis\n",
    "\n",
    "Compare average similarities across different embedding methods.\n",
    "This helps identify which methods produce more discriminative representations."
   ],
   "metadata": {
    "id": "Cv6qg6pn17lR"
   }
  },
  {
   "cell_type": "code",
   "source": [
    "# Calculate average similarity scores for each embedding method\n",
    "# Lower averages might indicate better discrimination between molecules\n",
    "# Higher averages might indicate the method finds everything similar\n",
    "print(\"Average similarity scores:\")\n",
    "print(f\"ChemBERTa: {np.average(chemberta_matrix):.3f}\")\n",
    "print(f\"OpenAI-SMILES: {np.average(openai_smiles_matrix):.3f}\")\n",
    "print(f\"RoBERTa-ZINC: {np.average(roberta_zinc_matrix):.3f}\")\n",
    "print(f\"ChemBed-SELFIES: {np.average(chem_matrix):.3f}\")\n",
    "print(f\"OpenAI-SELFIES: {np.average(openai_selfies_matrix):.3f}\")\n",
    "\n",
    "np.average(chemberta_matrix), np.average(openai_smiles_matrix), np.average(\n",
    "    roberta_zinc_matrix\n",
    "), np.average(chem_matrix), np.average(openai_selfies_matrix)"
   ],
   "metadata": {
    "id": "skO22ygmcG3j",
    "colab": {
     "base_uri": "https://localhost:8080/"
    },
    "executionInfo": {
     "status": "ok",
     "timestamp": 1749723271330,
     "user_tz": -240,
     "elapsed": 20,
     "user": {
      "displayName": "Ivan Reznikov",
      "userId": "03906939862966425294"
     }
    },
    "outputId": "8716d3d5-e83d-41ef-9eff-612b6c140eea"
   },
   "execution_count": null,
   "outputs": [
    {
     "output_type": "stream",
     "name": "stdout",
     "text": [
      "Average similarity scores:\n",
      "ChemBERTa: 0.983\n",
      "OpenAI-SMILES: 0.762\n",
      "RoBERTa-ZINC: 0.795\n",
      "ChemBed-SELFIES: 0.628\n",
      "OpenAI-SELFIES: 0.870\n"
     ]
    },
    {
     "output_type": "execute_result",
     "data": {
      "text/plain": [
       "(0.9827958047389984,\n",
       " 0.7623203565160098,\n",
       " 0.7954584293895297,\n",
       " 0.6279686755604215,\n",
       " 0.8698231120335819)"
      ]
     },
     "metadata": {},
     "execution_count": 28
    }
   ]
  },
  {
   "cell_type": "markdown",
   "source": [
    "### Visualization of Similarity Matrices\n",
    "\n",
    "Create heatmaps to visualize how different embedding methods capture molecular similarity.\n",
    "Each heatmap shows pairwise similarities between our 6 test molecules."
   ],
   "metadata": {
    "id": "0s557dBc17lS"
   }
  },
  {
   "cell_type": "code",
   "source": [
    "import matplotlib.pyplot as plt\n",
    "import seaborn as sns\n",
    "import numpy as np\n",
    "\n",
    "# Set up the matplotlib figure for multiple subplots\n",
    "plt.figure(figsize=(20, 12))  # Large figure to accommodate 5 heatmaps\n",
    "\n",
    "# Create upper triangular mask to avoid redundant information\n",
    "# Since similarity matrices are symmetric, we only need to show one triangle\n",
    "mask = np.triu(np.ones_like(openai_smiles_matrix, dtype=bool))\n",
    "np.fill_diagonal(mask, False)  # Keep diagonal (self-similarity)\n",
    "\n",
    "# Define all embedding methods and their matrices for visualization\n",
    "heatmaps = [\n",
    "    (openai_smiles_matrix, \"OpenAI-SMILES\"),\n",
    "    (roberta_zinc_matrix, \"RoBERTa-ZINC\"),\n",
    "    (chemberta_matrix, \"ChemBERTa-ClinTox\"),\n",
    "    (openai_selfies_matrix, \"OpenAI-SELFIES\"),\n",
    "    (chem_matrix, \"ChemBed-SELFIES\"),\n",
    "]\n",
    "\n",
    "# Create individual heatmaps for each embedding method\n",
    "for idx, (matrix, title) in enumerate(heatmaps, start=1):\n",
    "    plt.subplot(2, 3, idx)  # 2x3 grid layout\n",
    "\n",
    "    # Create heatmap with annotations showing similarity values\n",
    "    sns.heatmap(\n",
    "        matrix,\n",
    "        mask=mask,  # Hide upper triangle\n",
    "        fmt=\".2f\",  # Format numbers to 2 decimal places\n",
    "        xticklabels=[\n",
    "            x + 1 for x in range(len(sentences_selfies))\n",
    "        ],  # Label molecules 1-6\n",
    "        yticklabels=[\n",
    "            x + 1 for x in range(len(sentences_selfies))\n",
    "        ],  # Label molecules 1-6\n",
    "        annot=True,  # Show similarity values in cells\n",
    "        cbar=False,  # No color bar for cleaner look\n",
    "        annot_kws={\"fontsize\": 16},  # Large font for readability\n",
    "    )\n",
    "    plt.title(title, fontsize=14)\n",
    "\n",
    "# Adjust layout to prevent overlap\n",
    "plt.tight_layout()\n",
    "plt.show()\n",
    "\n",
    "# Expected patterns to look for:\n",
    "# - Molecules 2 & 3 (both chlorobenzene) should have high similarity\n",
    "# - Molecules 2,3,4 (aromatic halides) should cluster together\n",
    "# - Molecule 5 (toluene) should be similar to other aromatics but distinct\n",
    "# - Molecules 1 & 6 (aliphatic chlorides) might show some similarity"
   ],
   "metadata": {
    "id": "k1YgFlWjBNQE",
    "colab": {
     "base_uri": "https://localhost:8080/",
     "height": 861
    },
    "executionInfo": {
     "status": "ok",
     "timestamp": 1749723272779,
     "user_tz": -240,
     "elapsed": 1446,
     "user": {
      "displayName": "Ivan Reznikov",
      "userId": "03906939862966425294"
     }
    },
    "outputId": "c45fc65a-2f8c-44cd-d2a9-1a183a8837d3"
   },
   "execution_count": null,
   "outputs": [
    {
     "output_type": "display_data",
     "data": {
      "text/plain": [
       "<Figure size 2000x1200 with 5 Axes>"
      ],
      "image/png": "[encoded data removed]"
     },
     "metadata": {}
    }
   ]
  },
  {
   "cell_type": "markdown",
   "source": [
    "---\n",
    "## Tokenization Comparison Study\n",
    "\n",
    "This section evaluates different tokenization strategies for molecular data.\n",
    "Proper tokenization is crucial for training effective molecular language models."
   ],
   "metadata": {
    "id": "upbDMPvERHD4"
   }
  },
  {
   "cell_type": "code",
   "source": [
    "# Extended test dataset with more complex molecular structures\n",
    "# This dataset tests tokenizer robustness on various chemical features:\n",
    "smiles = [\n",
    "    \"ClCCCN1CCCC1\",  # Chloroalkyl pyrrolidine (heteroatom, ring)\n",
    "    \"CI.Oc1ncccc1Br\",  # Salt notation with pyridine derivative\n",
    "    \"COC(=O)Cc1c(C)nn(Cc2ccc(C=O)cc2)c1C.[Mg+]Cc1ccccc1\",  # Complex organometallic\n",
    "    \"N#Cc1ccnc(CO)c1\",  # Nitrile group with pyridine\n",
    "    \"C=C(O)C(=O)N [O-]C(=O)C1=CC=CC=C1\",  # Charged species with double bonds\n",
    "    \"C1CC[13CH2]CC1C1CCCCC1\",  # Isotope labeling (carbon-13)\n",
    "    \"C1=CC2=C(C(=C1)[O-])NC(=CC2=O)C(=O)O\",  # Charged aromatic system\n",
    "    \"C([13C]N(CC(=O)[O-])CC(=O)[O-])N(CC#N)CC(=O)[O-].[Na+].[Na+].[Na+]\",  # Multiple charges and isotopes\n",
    "]\n",
    "\n",
    "# Dictionary to store tokenization results from different methods\n",
    "results_dict = {}\n",
    "\n",
    "\n",
    "def run_tokenizer(func):\n",
    "    \"\"\"Apply tokenizer function to all SMILES strings\"\"\"\n",
    "    return [func(smi) for smi in smiles]\n",
    "\n",
    "\n",
    "def run_decoding(tokenizer, encoded):\n",
    "    \"\"\"Decode tokenized results back to readable format\"\"\"\n",
    "    return [[tokenizer.decode(y) for y in x[\"input_ids\"]] for x in encoded]\n",
    "\n",
    "\n",
    "def save_results(token_list, method_name):\n",
    "    \"\"\"Store tokenization results with method name as key\"\"\"\n",
    "    results_dict[method_name] = token_list"
   ],
   "metadata": {
    "id": "GxapWeVRAVuD"
   },
   "execution_count": null,
   "outputs": []
  },
  {
   "cell_type": "markdown",
   "source": [
    "### SpaCy Tokenizer\n",
    "\n",
    "SpaCy's English tokenizer - not designed for chemistry but serves as baseline.\n",
    "This will likely produce poor results for chemical notation."
   ],
   "metadata": {
    "id": "BCMlsp2717lU"
   }
  },
  {
   "cell_type": "code",
   "source": [
    "from spacy.lang.en import English\n",
    "\n",
    "# Initialize SpaCy English tokenizer\n",
    "# This is a general NLP tokenizer, not designed for chemical structures\n",
    "# Expected to perform poorly on SMILES due to chemical-specific notation\n",
    "nlp = English()\n",
    "\n",
    "# Apply SpaCy tokenization to our molecular dataset\n",
    "res = run_tokenizer(nlp.tokenizer)\n",
    "save_results(res, \"spacy\")\n",
    "\n",
    "# Display tokenization of first molecule\n",
    "print(\"SpaCy tokenization of first molecule:\")\n",
    "print(f\"Original: {smiles[0]}\")\n",
    "print(f\"Tokens: {res[0]}\")\n",
    "res[0]"
   ],
   "metadata": {
    "id": "jyz7ajcMG-Wo",
    "colab": {
     "base_uri": "https://localhost:8080/"
    },
    "executionInfo": {
     "status": "ok",
     "timestamp": 1749723275582,
     "user_tz": -240,
     "elapsed": 2730,
     "user": {
      "displayName": "Ivan Reznikov",
      "userId": "03906939862966425294"
     }
    },
    "outputId": "febb91d0-653f-4ff4-fb5a-08147d8cb8c7"
   },
   "execution_count": null,
   "outputs": [
    {
     "output_type": "stream",
     "name": "stdout",
     "text": [
      "SpaCy tokenization of first molecule:\n",
      "Original: ClCCCN1CCCC1\n",
      "Tokens: ClCCCN1CCCC1\n"
     ]
    },
    {
     "output_type": "execute_result",
     "data": {
      "text/plain": [
       "ClCCCN1CCCC1"
      ]
     },
     "metadata": {},
     "execution_count": 31
    }
   ]
  },
  {
   "cell_type": "markdown",
   "source": [
    "### BLOOM-560M Tokenizer\n",
    "\n",
    "BigScience BLOOM model tokenizer - another general-purpose approach.\n",
    "This multilingual model wasn't trained on chemical data."
   ],
   "metadata": {
    "id": "j7NPqb8517lU"
   }
  },
  {
   "cell_type": "code",
   "source": [
    "from transformers import AutoTokenizer\n",
    "\n",
    "# Load BLOOM-560M tokenizer (BigScience multilingual model)\n",
    "# BLOOM is a large language model trained on diverse text but not chemistry-specific\n",
    "tokenizer = AutoTokenizer.from_pretrained(\"bigscience/bloom-560m\")\n",
    "\n",
    "# Tokenize molecules and decode to see token boundaries\n",
    "encoded = run_tokenizer(tokenizer)\n",
    "res = run_decoding(tokenizer, encoded)\n",
    "save_results(res, \"bloom560m\")\n",
    "\n",
    "print(\"BLOOM-560M tokenization of first molecule:\")\n",
    "print(f\"Original: {smiles[0]}\")\n",
    "print(f\"Tokens: {res[0]}\")\n",
    "res[0]"
   ],
   "metadata": {
    "id": "08gI9XHRMKmS",
    "colab": {
     "base_uri": "https://localhost:8080/",
     "height": 182,
     "referenced_widgets": [
      "81e58ec850f44ecdb971635c270bb602",
      "3606ccc0255f4117862898233d276ff5",
      "bed528d57671416d84ab5979a2926fa6",
      "38767eae274d439cba6aaf428722739d",
      "d23e1320804d4039a5ff016fe656c0c5",
      "bb5cad9f195c46c189cc49106f430777",
      "0801386ee5b04cb7b4feb94c47a6a61c",
      "2d12c25cf97649f38187b4128db24e79",
      "0653591e5dad42bc92aa6293ecb09c97",
      "a904fe8645bf407d804e51ea2992f011",
      "e46a8a2227674115be10657d1ae35bc4",
      "9a22bc6792ef4102b6d0172112a3c805",
      "5383eb1587ae40e9ad815aacd29235e0",
      "ba1c2d2474654aa4807570446cb00b94",
      "622f570934ed408197201a759c9a2096",
      "e4f3d8e6641246ab8ab0aa7108a9aeab",
      "bb46b9fc33c74adbb2c0c12ea66b0e95",
      "8ab56648bf5d4fa492320e8fe58f5dbc",
      "4ac65457bcd046728df64cfc5ed80d2d",
      "e2b93d9efccf4624818962e0bb5c1d35",
      "a70b5c023d56455f9c44ae584bbb478f",
      "b4ab262409ad459e944ff73953b1bde2",
      "ad0a743ff96040f3a9dc7fdcbf646a89",
      "6c7f45eebe904c17b2e4af4492eb2bf3",
      "a0a0b27d969e42ed83c1969dd50c8d11",
      "9d033a594bbb499fb8395b1e6db470bb",
      "4b7dc0d135bf4f3e8aed91b2c2f73a7a",
      "a5a95011b3d84e7ebfa1041b0ecbdfc7",
      "9f024c034c014005ab73a954208b6ba2",
      "e4ae6bb2a1b645c5b75f6e4823aa07de",
      "b9ed0e4bf9aa461097b9dbfc35d43aa6",
      "50a1ccf72f414b1dbf52cc08da6ff1cf",
      "5272625fad56499c846945a080723bc0"
     ]
    },
    "executionInfo": {
     "status": "ok",
     "timestamp": 1749723279079,
     "user_tz": -240,
     "elapsed": 3499,
     "user": {
      "displayName": "Ivan Reznikov",
      "userId": "03906939862966425294"
     }
    },
    "outputId": "5985cae8-b094-4961-b46f-65330df5aac9"
   },
   "execution_count": null,
   "outputs": [
    {
     "output_type": "display_data",
     "data": {
      "text/plain": [
       "tokenizer_config.json:   0%|          | 0.00/222 [00:00<?, ?B/s]"
      ],
      "application/vnd.jupyter.widget-view+json": {
       "version_major": 2,
       "version_minor": 0,
       "model_id": "81e58ec850f44ecdb971635c270bb602"
      }
     },
     "metadata": {}
    },
    {
     "output_type": "display_data",
     "data": {
      "text/plain": [
       "tokenizer.json:   0%|          | 0.00/14.5M [00:00<?, ?B/s]"
      ],
      "application/vnd.jupyter.widget-view+json": {
       "version_major": 2,
       "version_minor": 0,
       "model_id": "9a22bc6792ef4102b6d0172112a3c805"
      }
     },
     "metadata": {}
    },
    {
     "output_type": "display_data",
     "data": {
      "text/plain": [
       "special_tokens_map.json:   0%|          | 0.00/85.0 [00:00<?, ?B/s]"
      ],
      "application/vnd.jupyter.widget-view+json": {
       "version_major": 2,
       "version_minor": 0,
       "model_id": "ad0a743ff96040f3a9dc7fdcbf646a89"
      }
     },
     "metadata": {}
    },
    {
     "output_type": "stream",
     "name": "stdout",
     "text": [
      "BLOOM-560M tokenization of first molecule:\n",
      "Original: ClCCCN1CCCC1\n",
      "Tokens: ['Cl', 'CC', 'CN', '1', 'CCCC', '1']\n"
     ]
    },
    {
     "output_type": "execute_result",
     "data": {
      "text/plain": [
       "['Cl', 'CC', 'CN', '1', 'CCCC', '1']"
      ]
     },
     "metadata": {},
     "execution_count": 32
    }
   ]
  },
  {
   "cell_type": "markdown",
   "source": [
    "### Mistral-7B Tokenizer\n",
    "\n",
    "Mistral's tokenizer - represents modern LLM tokenization approaches.\n",
    "Again, not chemistry-specific but may handle symbolic notation better."
   ],
   "metadata": {
    "id": "w9CQelya17lU"
   }
  },
  {
   "cell_type": "code",
   "source": [
    "# Load Mistral-7B tokenizer\n",
    "# Mistral is a modern, efficient language model with SentencePiece tokenization\n",
    "tokenizer = AutoTokenizer.from_pretrained(\"mistralai/Mistral-7B-v0.1\")\n",
    "\n",
    "encoded = run_tokenizer(tokenizer)\n",
    "res = run_decoding(tokenizer, encoded)\n",
    "save_results(res, \"mistral7\")\n",
    "\n",
    "print(\"Mistral-7B tokenization of first molecule:\")\n",
    "print(f\"Original: {smiles[0]}\")\n",
    "print(f\"Tokens: {res[0]}\")\n",
    "res[0]"
   ],
   "metadata": {
    "id": "pbkxkwHpMNsY",
    "colab": {
     "base_uri": "https://localhost:8080/",
     "height": 214,
     "referenced_widgets": [
      "1630f743867543a994c4a77f9d955663",
      "e3ccd4c4a6a44510ba58798784991f08",
      "a56e56a20497497281219cce0918b319",
      "52b3b0c52224421dae9cc450454676f3",
      "c526b2770d23495598cb6d6f2b62a5a7",
      "d466fc5506d64ba78e77f9e2e0840a4f",
      "a6ab279f89884b349f8dd5655358a3b6",
      "c6da88cd70c24591808bf1c1d3e1e921",
      "032542accdfa4899b206e07833286698",
      "019c41869acc4f92a355e254227b6ab6",
      "8b837d0d9a9240e4bfa24842a41e4c53",
      "3f7f8e1e6a8141879fcd710530d5235b",
      "5b7154831ad1441098f78fb94ebe5beb",
      "4737d0df8a5a42b0bd51979e57c607ee",
      "57f9d7a6d5c94b54b8299eaf2ffa315e",
      "8bd2c38b64c0479981c08f891216c271",
      "75082f6069cf46cbb566a2654c0c2250",
      "160145560acb4e4f988b75bba1985832",
      "55f85b21b9a045a18e2c65edb34dcd58",
      "692382a70074487ea06e47984d86f534",
      "0fff3e85bd3e4b4d9581367af67e5c87",
      "799dbbaf9dde440995ed0d0a82816c12",
      "a71c90087e7d43028b6a286205a9c608",
      "f25759a13c9e4f8e9305a6e6896ed78a",
      "48c4916ed3a8428cbe3e77a49e2c81c2",
      "213ece09a004427cb4db79bff9040ae0",
      "cc8c4a955d0a40bbab37922a1f39fe29",
      "7bd4968d8d164011bd20bbe443808682",
      "f8b7d3c8c57a47ce90508e1479162928",
      "25e5fb499bd3441eb4f1116722b5e9d1",
      "719e86c44ae3489e85f0df77a96c3c3f",
      "2ca1ec6bf5a34d59a967df844da2d6f0",
      "9bfb789e324845fe93f2a040bf2121eb",
      "f83fdd3d062c4aa29a783b4d2e43bf0f",
      "ed057f4b272c41dba3ab19a9da4d82cd",
      "a1b51b82603c49a0bfdfc5d66d3b1454",
      "17e811903e284ed6a46103c72a7f8b7d",
      "95a19d468eb84e1eb9fa5c6f1f79acc3",
      "fe458d1f64f54990966f03297be77234",
      "3179f2553f9d4a8d85835d6557fa366d",
      "013c150e578f4cd3b2fef9e5079a4823",
      "2551bdbc701f4cec912d6826cfc87b5c",
      "f2c726f095ce4569a38787522576d688",
      "13afa532525047348b0ecb56d3b23f46"
     ]
    },
    "executionInfo": {
     "status": "ok",
     "timestamp": 1749723281497,
     "user_tz": -240,
     "elapsed": 2410,
     "user": {
      "displayName": "Ivan Reznikov",
      "userId": "03906939862966425294"
     }
    },
    "outputId": "ffb7b575-b786-4be5-b31c-7e06a67d635c"
   },
   "execution_count": null,
   "outputs": [
    {
     "output_type": "display_data",
     "data": {
      "text/plain": [
       "tokenizer_config.json:   0%|          | 0.00/996 [00:00<?, ?B/s]"
      ],
      "application/vnd.jupyter.widget-view+json": {
       "version_major": 2,
       "version_minor": 0,
       "model_id": "1630f743867543a994c4a77f9d955663"
      }
     },
     "metadata": {}
    },
    {
     "output_type": "display_data",
     "data": {
      "text/plain": [
       "tokenizer.model:   0%|          | 0.00/493k [00:00<?, ?B/s]"
      ],
      "application/vnd.jupyter.widget-view+json": {
       "version_major": 2,
       "version_minor": 0,
       "model_id": "3f7f8e1e6a8141879fcd710530d5235b"
      }
     },
     "metadata": {}
    },
    {
     "output_type": "display_data",
     "data": {
      "text/plain": [
       "tokenizer.json:   0%|          | 0.00/1.80M [00:00<?, ?B/s]"
      ],
      "application/vnd.jupyter.widget-view+json": {
       "version_major": 2,
       "version_minor": 0,
       "model_id": "a71c90087e7d43028b6a286205a9c608"
      }
     },
     "metadata": {}
    },
    {
     "output_type": "display_data",
     "data": {
      "text/plain": [
       "special_tokens_map.json:   0%|          | 0.00/414 [00:00<?, ?B/s]"
      ],
      "application/vnd.jupyter.widget-view+json": {
       "version_major": 2,
       "version_minor": 0,
       "model_id": "f83fdd3d062c4aa29a783b4d2e43bf0f"
      }
     },
     "metadata": {}
    },
    {
     "output_type": "stream",
     "name": "stdout",
     "text": [
      "Mistral-7B tokenization of first molecule:\n",
      "Original: ClCCCN1CCCC1\n",
      "Tokens: ['<s>', 'Cl', 'CC', 'CN', '1', 'CC', 'CC', '1']\n"
     ]
    },
    {
     "output_type": "execute_result",
     "data": {
      "text/plain": [
       "['<s>', 'Cl', 'CC', 'CN', '1', 'CC', 'CC', '1']"
      ]
     },
     "metadata": {},
     "execution_count": 33
    }
   ]
  },
  {
   "cell_type": "markdown",
   "source": [
    "### Falcon Tokenizers\n",
    "\n",
    "Technology Innovation Institute's Falcon model tokenizer.\n",
    "Another general-purpose approach for comparison."
   ],
   "metadata": {
    "id": "q5vBAxtM17lV"
   }
  },
  {
   "cell_type": "code",
   "source": [
    "# Load Falcon-7B tokenizer\n",
    "# Falcon models are efficient architectures from Technology Innovation Institute\n",
    "tokenizer = AutoTokenizer.from_pretrained(\"tiiuae/falcon-7B\")\n",
    "\n",
    "encoded = run_tokenizer(tokenizer)\n",
    "res = run_decoding(tokenizer, encoded)\n",
    "save_results(res, \"falcon7\")\n",
    "\n",
    "print(\"Falcon-7B tokenization of first molecule:\")\n",
    "print(f\"Original: {smiles[0]}\")\n",
    "print(f\"Tokens: {res[0]}\")\n",
    "res[0]"
   ],
   "metadata": {
    "id": "SYvo-EWSMVCA",
    "colab": {
     "base_uri": "https://localhost:8080/",
     "height": 182,
     "referenced_widgets": [
      "dbfbf52c1167438bafa7a5da17a4c322",
      "aec221d9e73241a59b0a7ed7f7065c09",
      "ad2947cf39884c26b5cae5b62ce64283",
      "c864346e94334142839cb7d9af494cfe",
      "f1f74d2c988d41b8be13a2db65318d80",
      "d5ff6f6349d14c1a9e7e2010d5d20d2e",
      "819651673ea24eb8805b3c364d1bc34b",
      "9f78e8eaf5464b47ae1c0487e401bf02",
      "f202a71275b4436b9b1fb21e9bf1e500",
      "c4c0e338755c44a88d0396f700f5842c",
      "571ef5933ca041969d3593ec929ccd64",
      "212a2ff7bb4f4e5d9b4657810dc55356",
      "864d9dcf35414a5e90a9c9c27a5efc69",
      "9a006c44d9cb4f54b6d639173694ebc1",
      "454b5677c313458b813505fda1b35348",
      "c3faceefd5d14866aaa2e4565903ae63",
      "7901942f63584297afba6555c6bd1237",
      "b6cad758687444739286b8c99bd43746",
      "0e74d5120ffe4e74900ba979c5a0d65b",
      "f106165061334a3ea923ef2437a1007a",
      "42b0a6da4ff441e594c1899a7a4bb11b",
      "0cdc9ca99f0542bd8194470665ef2356",
      "18875c18d1154c36af929763beff2cb9",
      "295efa7c8c8640849612582d40d5a152",
      "28c13de89f3f4443a3c0921d70311d99",
      "7d88dd3d891a4e1bba574242cad860ea",
      "189203d0c45b444eb64be3a3400973f0",
      "ff8148212c6f4490856288b1c3062628",
      "885d4c3e12524f9c815cf4fc9e4f8863",
      "ee23e3c1bc164f288930d1b292778b18",
      "508ffbaadc8c4d65ab1b16bfa157541d",
      "545c1eddede8482bbf2b700ebd39a744",
      "cb4bba0ee606462f941d7cd7eebfa547"
     ]
    },
    "executionInfo": {
     "status": "ok",
     "timestamp": 1749723284090,
     "user_tz": -240,
     "elapsed": 2600,
     "user": {
      "displayName": "Ivan Reznikov",
      "userId": "03906939862966425294"
     }
    },
    "outputId": "54deda43-0504-4aa3-f627-b49fcb6bc321"
   },
   "execution_count": null,
   "outputs": [
    {
     "output_type": "display_data",
     "data": {
      "text/plain": [
       "tokenizer_config.json:   0%|          | 0.00/287 [00:00<?, ?B/s]"
      ],
      "application/vnd.jupyter.widget-view+json": {
       "version_major": 2,
       "version_minor": 0,
       "model_id": "dbfbf52c1167438bafa7a5da17a4c322"
      }
     },
     "metadata": {}
    },
    {
     "output_type": "display_data",
     "data": {
      "text/plain": [
       "tokenizer.json:   0%|          | 0.00/2.73M [00:00<?, ?B/s]"
      ],
      "application/vnd.jupyter.widget-view+json": {
       "version_major": 2,
       "version_minor": 0,
       "model_id": "212a2ff7bb4f4e5d9b4657810dc55356"
      }
     },
     "metadata": {}
    },
    {
     "output_type": "display_data",
     "data": {
      "text/plain": [
       "special_tokens_map.json:   0%|          | 0.00/281 [00:00<?, ?B/s]"
      ],
      "application/vnd.jupyter.widget-view+json": {
       "version_major": 2,
       "version_minor": 0,
       "model_id": "18875c18d1154c36af929763beff2cb9"
      }
     },
     "metadata": {}
    },
    {
     "output_type": "stream",
     "name": "stdout",
     "text": [
      "Falcon-7B tokenization of first molecule:\n",
      "Original: ClCCCN1CCCC1\n",
      "Tokens: ['Cl', 'CC', 'CN', '1', 'CC', 'CC', '1']\n"
     ]
    },
    {
     "output_type": "execute_result",
     "data": {
      "text/plain": [
       "['Cl', 'CC', 'CN', '1', 'CC', 'CC', '1']"
      ]
     },
     "metadata": {},
     "execution_count": 34
    }
   ]
  },
  {
   "cell_type": "markdown",
   "source": [
    "Larger Falcon model - may require special access permissions.\n",
    "Tests if larger models have better chemical tokenization."
   ],
   "metadata": {
    "id": "Y36gBaTR17lV"
   }
  },
  {
   "cell_type": "code",
   "source": [
    "# Load Falcon-180B tokenizer\n",
    "# Falcon models are efficient architectures from Technology Innovation Institute\n",
    "tokenizer = AutoTokenizer.from_pretrained(\"tiiuae/falcon-180B\")\n",
    "\n",
    "encoded = run_tokenizer(tokenizer)\n",
    "res = run_decoding(tokenizer, encoded)\n",
    "save_results(res, \"falcon180B\")\n",
    "\n",
    "print(\"Falcon-180BB tokenization of first molecule:\")\n",
    "print(f\"Original: {smiles[0]}\")\n",
    "print(f\"Tokens: {res[0]}\")\n",
    "res[0]"
   ],
   "metadata": {
    "id": "RCTBQgR82dc8",
    "colab": {
     "base_uri": "https://localhost:8080/",
     "height": 182,
     "referenced_widgets": [
      "c5ee1806b45f443eb9e3e59db9091d0d",
      "11fd1226fb2e4299a5863e1577564649",
      "0e72cbf1c0564e519fac23bec0cb2603",
      "bf311028f3524c9bb5a61fd1d551c5f3",
      "86b2cab8fd86429bb20ad3639651f062",
      "d458891fee7444ccb9126c570d7a7f22",
      "d06003fc9d7f45ea8796173aaa77694f",
      "ca17b18510934d498648b65a4ef6f27f",
      "a7819f68e8f248f9bd136aa9c150735c",
      "141145061bfe455fa50a6d90abf0b03b",
      "a167b4c3c21a4c63b6ecebf6e663c095",
      "9f8b4de11a564b18bb4d589d16d9db0a",
      "6837ef4b8fc04aaba562179f1b269bbe",
      "4aaff55f1a864b83b02ed17baf7d97f8",
      "f9c310824d4644feb3150f4fd597ceb1",
      "b95063cf3b164cf48c375d93e56ee177",
      "c06ee6d11f744a6ca5eb8e4a9876f556",
      "9b485e9435e24b6ab6f1c8764ad0b8c1",
      "1bcdd4698ebe485ab7e1201838239fff",
      "149310788adf49ab8dca633fc9ace530",
      "6890a4df2e9b40cb947cdc0897fd0e8b",
      "afcf5f39638d4c6a87133901bf744f6c",
      "b76f0dc83e974755a99d8be7dd10598e",
      "7fa348a1c9554378b1a5c4f023975bb0",
      "f187f7c276ef43b2b70c9c44328667fc",
      "0c43fda45d7b4269b6235c0aaa9a0af7",
      "d491564bfe244a8a841abb01286d28a8",
      "037500882a304623908d1e907c650ca9",
      "cac21406f058476bb5bf0ecd8fc683c2",
      "2bac1b3b60ff456197d7d2a331d0edb0",
      "3e7474bbdb6b43f388cf56cec6991042",
      "92e4922c19604682bbe733e5e8cbcec3",
      "13c4e795f7694c5cad98d2912b6423fc"
     ]
    },
    "executionInfo": {
     "status": "ok",
     "timestamp": 1749723286204,
     "user_tz": -240,
     "elapsed": 2110,
     "user": {
      "displayName": "Ivan Reznikov",
      "userId": "03906939862966425294"
     }
    },
    "outputId": "afa04753-671c-42ab-dcf7-aa991df1c659"
   },
   "execution_count": null,
   "outputs": [
    {
     "output_type": "display_data",
     "data": {
      "text/plain": [
       "tokenizer_config.json:   0%|          | 0.00/214 [00:00<?, ?B/s]"
      ],
      "application/vnd.jupyter.widget-view+json": {
       "version_major": 2,
       "version_minor": 0,
       "model_id": "c5ee1806b45f443eb9e3e59db9091d0d"
      }
     },
     "metadata": {}
    },
    {
     "output_type": "display_data",
     "data": {
      "text/plain": [
       "tokenizer.json:   0%|          | 0.00/2.73M [00:00<?, ?B/s]"
      ],
      "application/vnd.jupyter.widget-view+json": {
       "version_major": 2,
       "version_minor": 0,
       "model_id": "9f8b4de11a564b18bb4d589d16d9db0a"
      }
     },
     "metadata": {}
    },
    {
     "output_type": "display_data",
     "data": {
      "text/plain": [
       "special_tokens_map.json:   0%|          | 0.00/281 [00:00<?, ?B/s]"
      ],
      "application/vnd.jupyter.widget-view+json": {
       "version_major": 2,
       "version_minor": 0,
       "model_id": "b76f0dc83e974755a99d8be7dd10598e"
      }
     },
     "metadata": {}
    },
    {
     "output_type": "stream",
     "name": "stdout",
     "text": [
      "Falcon-180BB tokenization of first molecule:\n",
      "Original: ClCCCN1CCCC1\n",
      "Tokens: ['Cl', 'CC', 'CN', '1', 'CC', 'CC', '1']\n"
     ]
    },
    {
     "output_type": "execute_result",
     "data": {
      "text/plain": [
       "['Cl', 'CC', 'CN', '1', 'CC', 'CC', '1']"
      ]
     },
     "metadata": {},
     "execution_count": 35
    }
   ]
  },
  {
   "cell_type": "markdown",
   "source": [
    "### Using regex rules to \"tokenize\" SMILES"
   ],
   "metadata": {
    "id": "TJpfAC4F_3z9"
   }
  },
  {
   "cell_type": "code",
   "source": [
    "# This is a rule-based approach that recognizes common chemical symbols and notation\n",
    "# It's often used as a baseline for chemical tokenization\n",
    "\n",
    "import re\n",
    "\n",
    "\n",
    "def regex_smiles_tokenizer(smi):\n",
    "    \"\"\"\n",
    "    Custom regex-based SMILES tokenizer that recognizes chemical symbols and notation.\n",
    "\n",
    "    The pattern captures:\n",
    "    - [elements in brackets]: Complex atom representations like [NH+], [O-]\n",
    "    - Br?, Cl?: Bromine and Chlorine (with optional second character)\n",
    "    - N,O,S,P,F,I: Common single-letter elements\n",
    "    - b,c,n,o,s,p: Aromatic versions of elements (lowercase)\n",
    "    - (),.: Structural parentheses and dots\n",
    "    - =,#,-,+: Bond types and charges\n",
    "    - \\\\,/: Stereochemistry indicators\n",
    "    - :,~,@,?,>,*,$: Special SMILES notation\n",
    "    - %[0-9]{2}: Ring closure labels for complex rings\n",
    "    - [0-9]: Simple numbers for ring closures\n",
    "    \"\"\"\n",
    "    pattern = \"(\\[[^\\]]+]|Br?|Cl?|N|O|S|P|F|I|b|c|n|o|s|p|\\(|\\)|\\.|=|#|-|\\+|\\\\\\\\|\\/|:|~|@|\\?|>|\\*|\\$|\\%[0-9]{2}|[0-9])\"\n",
    "    regex = re.compile(pattern)\n",
    "    tokens = [token for token in regex.findall(smi)]\n",
    "    return tokens\n",
    "\n",
    "\n",
    "# Apply regex tokenizer to all SMILES in dataset\n",
    "# This approach should preserve chemical meaning better than general NLP tokenizers\n",
    "res = run_tokenizer(regex_smiles_tokenizer)\n",
    "save_results(res, \"regex\")\n",
    "\n",
    "# Show tokenization result for first molecule\n",
    "# Compare this with Falcon's tokenization to see the difference\n",
    "res[0]"
   ],
   "metadata": {
    "id": "05TvNGZm_cu3",
    "colab": {
     "base_uri": "https://localhost:8080/"
    },
    "executionInfo": {
     "status": "ok",
     "timestamp": 1749723286217,
     "user_tz": -240,
     "elapsed": 21,
     "user": {
      "displayName": "Ivan Reznikov",
      "userId": "03906939862966425294"
     }
    },
    "outputId": "ab19a240-70f8-4bde-9e03-29b11943e1a8"
   },
   "execution_count": null,
   "outputs": [
    {
     "output_type": "execute_result",
     "data": {
      "text/plain": [
       "['Cl', 'C', 'C', 'C', 'N', '1', 'C', 'C', 'C', 'C', '1']"
      ]
     },
     "metadata": {},
     "execution_count": 36
    }
   ]
  },
  {
   "cell_type": "markdown",
   "source": [
    "### GIMLET (Graph-Informed Molecular Language Enhanced Transformer)"
   ],
   "metadata": {
    "id": "6gbOF4aY_8ev"
   }
  },
  {
   "cell_type": "code",
   "source": [
    "# Reference: https://github.com/zhao-ht/GIMLET/blob/master/model/KVPLM/smtokenization.py\n",
    "# GIMLET is a specialized model that combines graph neural networks with transformers\n",
    "# for molecular representation learning\n",
    "\n",
    "# This tokenizer was specifically trained on chemical data and should understand\n",
    "# chemical context better than general-purpose models\n",
    "tokenizer = AutoTokenizer.from_pretrained(\"haitengzhao/gimlet\")\n",
    "\n",
    "# Process all SMILES strings with GIMLET's tokenizer\n",
    "encoded = run_tokenizer(tokenizer)\n",
    "res = run_decoding(tokenizer, encoded)\n",
    "save_results(res, \"GIMLET\")\n",
    "\n",
    "# Display result for comparison with other methods\n",
    "# GIMLET should show more chemically-aware tokenization patterns\n",
    "res[0]"
   ],
   "metadata": {
    "id": "OcblBNQU_cu4",
    "colab": {
     "base_uri": "https://localhost:8080/",
     "height": 162,
     "referenced_widgets": [
      "103f4d96a5004564a3f5a7b1efa03741",
      "26f942f1808d46b8bc90f77a5a5f4fd0",
      "addeb120c6414f74a56e90929653aed1",
      "e06e8a09c314477096af2dc5601c9ea0",
      "cde3041b8a4d49b4bef82fdd825240fe",
      "d3dcc3df1d924325a23afa941eb9095b",
      "d614c50e047641e795b4897a72589d88",
      "d7314a7c6e7447c6a19787655288e1e2",
      "e5cf8c7cdf1649679653b3b6c05d2ef6",
      "e70a9e2f34734a218972cf9707a1a33d",
      "5dda8650f28c484c8bd870554aaa372f",
      "35d3209ea975491a8c52427ea1f1f70a",
      "9adce1bf8cf74a82b04d771db9179185",
      "94365d226721413fb35c2b7bac17a4c3",
      "49f80d4d77d74d79a4e489486780bc21",
      "0a51f1da3a554d4ab4899b53515f3e24",
      "6f893d1d6d12407bb32b20ccf395c098",
      "1214668bcdda4947bd2758616e50c574",
      "bb8937f76bb44d8bb65c562e58897115",
      "eb2c896efd7144f3b020cc5926ea5e43",
      "f544bcf0bccf49a9b11f550abc78ad0a",
      "c4ceb31b0dd045d38ced2728134d5717",
      "8b0ebcf7c2c64286aea67452b3eb68ba",
      "2eae081005fa4d519e04b815377a6c6f",
      "b0dcea05f5c8460490246540483b3545",
      "e11b5e1c83f449e4a500a98f9e8eb038",
      "f8398c7bd8134b878ed7a3af3b0183f3",
      "791a7198581c49b2a625ac1129adb28d",
      "a9dc7e37b57a49fd80ba2a3864789872",
      "5e7111d7ded4478ea17dc365875c65cd",
      "2802081af9904585b23b15256c2d0220",
      "2c18ed0d59c04a4bb24863b5dc01756d",
      "2dcada4741b0402194a7000354c20755",
      "c055eed29d6c4742b9be1e98dad52024",
      "9613ede5a3924e3fb143631ee80a9abd",
      "cb723e5d2d2349b49565f4a33193de18",
      "9f5791fc61184925b6117af17c95d3b1",
      "a314063694e346e28982ac3f623c3304",
      "5c4cd0e640424ea2b3dc4f7131db44af",
      "8f99285f76da4a1283e1e848e33c47f3",
      "218b1f1be8aa40098fbbf7a1bf027fd3",
      "5ab496dab1354fbca5afd81c449ceac7",
      "3b3cb9d476704cfe8ddd47a2b39ca3f6",
      "a5c578516915464cb695e80fdf9b60d1"
     ]
    },
    "executionInfo": {
     "status": "ok",
     "timestamp": 1749723288035,
     "user_tz": -240,
     "elapsed": 1817,
     "user": {
      "displayName": "Ivan Reznikov",
      "userId": "03906939862966425294"
     }
    },
    "outputId": "cd5a2eda-89bf-4047-e008-ec89bab4c117"
   },
   "execution_count": null,
   "outputs": [
    {
     "output_type": "display_data",
     "data": {
      "text/plain": [
       "tokenizer_config.json:   0%|          | 0.00/2.32k [00:00<?, ?B/s]"
      ],
      "application/vnd.jupyter.widget-view+json": {
       "version_major": 2,
       "version_minor": 0,
       "model_id": "103f4d96a5004564a3f5a7b1efa03741"
      }
     },
     "metadata": {}
    },
    {
     "output_type": "display_data",
     "data": {
      "text/plain": [
       "spiece.model:   0%|          | 0.00/792k [00:00<?, ?B/s]"
      ],
      "application/vnd.jupyter.widget-view+json": {
       "version_major": 2,
       "version_minor": 0,
       "model_id": "35d3209ea975491a8c52427ea1f1f70a"
      }
     },
     "metadata": {}
    },
    {
     "output_type": "display_data",
     "data": {
      "text/plain": [
       "tokenizer.json:   0%|          | 0.00/2.42M [00:00<?, ?B/s]"
      ],
      "application/vnd.jupyter.widget-view+json": {
       "version_major": 2,
       "version_minor": 0,
       "model_id": "8b0ebcf7c2c64286aea67452b3eb68ba"
      }
     },
     "metadata": {}
    },
    {
     "output_type": "display_data",
     "data": {
      "text/plain": [
       "special_tokens_map.json:   0%|          | 0.00/2.20k [00:00<?, ?B/s]"
      ],
      "application/vnd.jupyter.widget-view+json": {
       "version_major": 2,
       "version_minor": 0,
       "model_id": "c055eed29d6c4742b9be1e98dad52024"
      }
     },
     "metadata": {}
    },
    {
     "output_type": "execute_result",
     "data": {
      "text/plain": [
       "['Cl', 'CC', 'CN', '1', 'CC', 'CC', '1', '</s>']"
      ]
     },
     "metadata": {},
     "execution_count": 37
    }
   ]
  },
  {
   "cell_type": "markdown",
   "source": [
    "### ChemBERTa - Chemical BERT for molecular representation"
   ],
   "metadata": {
    "id": "6l5Tgzh4_-w2"
   }
  },
  {
   "cell_type": "code",
   "source": [
    "# Reference: https://huggingface.co/seyonec/ChemBERTa-zinc-base-v1\n",
    "# Paper: https://github.com/seyonechithrananda/bert-loves-chemistry\n",
    "\n",
    "# ChemBERTa is BERT pre-trained specifically on the ZINC molecular database\n",
    "# ZINC contains millions of commercially available compounds\n",
    "# This model learned chemical patterns from a large corpus of molecular data\n",
    "\n",
    "tokenizer = AutoTokenizer.from_pretrained(\"seyonec/ChemBERTa-zinc-base-v1\")\n",
    "\n",
    "# Apply ChemBERTa's chemistry-aware tokenizer\n",
    "# This should produce tokens that respect chemical substructures\n",
    "encoded = run_tokenizer(tokenizer)\n",
    "res = run_decoding(tokenizer, encoded)\n",
    "save_results(res, \"ChemBERTa\")\n",
    "\n",
    "# Compare ChemBERTa's tokenization with previous methods\n",
    "# Should show improved chemical understanding compared to general LLMs\n",
    "res[0]"
   ],
   "metadata": {
    "id": "eAuYO0dJ_cu5",
    "colab": {
     "base_uri": "https://localhost:8080/",
     "height": 194,
     "referenced_widgets": [
      "b6c6beb437c24ea6b9a40dae3a13485b",
      "e086945a39fb4883be06093957871ca8",
      "864e3643b8df4f829ef24ebfd75a2653",
      "ae1e59ef5b194e64883c11941db96a26",
      "f819b9b00f1e46a799d31cc287ff6a48",
      "2923698e8b4c49dbb090b558b49c186a",
      "05d90a6416214954bf9c99b228a53f3d",
      "c35453c837f342ddb6f2ee3d86dc49ed",
      "323d0e60d45e40a789b24ad8810ad11b",
      "f7b7a739278f4a0ab102b39f85cc4af6",
      "02981001f5f74cc0a699a00fccfc1cfe",
      "cefa515673604f38a9b1e0d87d235205",
      "570187b752d248db90c46dfbcc4ad7aa",
      "705b4359a6594dc6b74260db8e4f3c7e",
      "f24e3b245b3246c9867688dea3bc99db",
      "3fd51f4053de47e895949eadc11c4244",
      "4013bfdeee6949e3b123b69170a97836",
      "637492eb72f74a7c87a951caeea66729",
      "815fc2b89405468e844dbe448ebb486f",
      "fa7f329a71ab49f4a110977459c2959c",
      "8995f850634146a88cdc065ff34a2339",
      "56c40b73005249359a0bc2d6214e7d6c",
      "266f0cab078944fda466f38212aad36f",
      "a4232668717b4ef4beb6fd3d9918173d",
      "9c52581aceb14caf91c0748aa348e864",
      "e984914d43364f579f69a1185e93e0e0",
      "cad55a6294924a0b802f89e69bc202de",
      "86bde0bceec74071a7219bd617061271",
      "59947a12940e451b9a9a679070306071",
      "e23efbf3596247838a195830bc6441f1",
      "7268331fe1a54c089757bf1379e98a70",
      "8f5917d9cbe84e4bb6a4de528921fc1a",
      "04dcbfe222e24cafb1782e6f9779b9ff",
      "19baac21f974440fbe51f9608b918560",
      "efeb5bdf03794eb4bdc129a676f7a2eb",
      "a46c8bcb87ad4c2e84e49f69bfd90497",
      "aece5d49988e44c0818e7de5b7a30f52",
      "f1905abc62a947a4ad80626bfb193503",
      "70fb637a2a3f4b68abc1aa6c8a91bf88",
      "fba0a2ad1ff44b46813c758475bdddf9",
      "1b3029b7ef6d4460aeee5c11f32b38b5",
      "221bf4b9947f4a16b4f2ae7f2ea976e7",
      "c679efec7f6d49e58a816068807ef7a9",
      "6613d068ffa445c993ae6c75f4b6e5e5",
      "ccc32905ea05475a878332864c60939e",
      "558c282d7b1b436985e4a6801e727639",
      "80c8f2740d6d40f48d201993e7e4d760",
      "6282e73dfce64d0abcd345c57ee2447c",
      "3959bc566b8749e9adc107e08d00093f",
      "b1b3e6a8e09e49adb79ee0d4e843dfac",
      "0bcd9edd17524b76bd282d84b08bb23b",
      "3785ca6b48d24260a004b17a164571ca",
      "8c6795c551de46f29b168b44f3d4ca35",
      "c7359caca61a4696b97dcaad1c9f7433",
      "a452e33a29ea449fa9d557701ac96fe8"
     ]
    },
    "executionInfo": {
     "status": "ok",
     "timestamp": 1749723289881,
     "user_tz": -240,
     "elapsed": 1842,
     "user": {
      "displayName": "Ivan Reznikov",
      "userId": "03906939862966425294"
     }
    },
    "outputId": "7405dfd8-a663-45ce-bf0b-8e4cdd0c9cb0"
   },
   "execution_count": null,
   "outputs": [
    {
     "output_type": "display_data",
     "data": {
      "text/plain": [
       "tokenizer_config.json:   0%|          | 0.00/166 [00:00<?, ?B/s]"
      ],
      "application/vnd.jupyter.widget-view+json": {
       "version_major": 2,
       "version_minor": 0,
       "model_id": "b6c6beb437c24ea6b9a40dae3a13485b"
      }
     },
     "metadata": {}
    },
    {
     "output_type": "display_data",
     "data": {
      "text/plain": [
       "config.json:   0%|          | 0.00/501 [00:00<?, ?B/s]"
      ],
      "application/vnd.jupyter.widget-view+json": {
       "version_major": 2,
       "version_minor": 0,
       "model_id": "cefa515673604f38a9b1e0d87d235205"
      }
     },
     "metadata": {}
    },
    {
     "output_type": "display_data",
     "data": {
      "text/plain": [
       "vocab.json:   0%|          | 0.00/9.43k [00:00<?, ?B/s]"
      ],
      "application/vnd.jupyter.widget-view+json": {
       "version_major": 2,
       "version_minor": 0,
       "model_id": "266f0cab078944fda466f38212aad36f"
      }
     },
     "metadata": {}
    },
    {
     "output_type": "display_data",
     "data": {
      "text/plain": [
       "merges.txt:   0%|          | 0.00/3.21k [00:00<?, ?B/s]"
      ],
      "application/vnd.jupyter.widget-view+json": {
       "version_major": 2,
       "version_minor": 0,
       "model_id": "19baac21f974440fbe51f9608b918560"
      }
     },
     "metadata": {}
    },
    {
     "output_type": "display_data",
     "data": {
      "text/plain": [
       "special_tokens_map.json:   0%|          | 0.00/150 [00:00<?, ?B/s]"
      ],
      "application/vnd.jupyter.widget-view+json": {
       "version_major": 2,
       "version_minor": 0,
       "model_id": "ccc32905ea05475a878332864c60939e"
      }
     },
     "metadata": {}
    },
    {
     "output_type": "execute_result",
     "data": {
      "text/plain": [
       "['<s>', 'Cl', 'CCCN', '1', 'CCCC', '1', '</s>']"
      ]
     },
     "metadata": {},
     "execution_count": 38
    }
   ]
  },
  {
   "cell_type": "markdown",
   "source": [
    "### Chemical-BERT - Another BERT variant trained on chemical data"
   ],
   "metadata": {
    "id": "No5f1bo9AfiZ"
   }
  },
  {
   "cell_type": "code",
   "source": [
    "# This is a different chemical BERT implementation with potentially different training data\n",
    "# Comparing multiple chemical BERT variants helps understand consistency across models\n",
    "\n",
    "tokenizer = AutoTokenizer.from_pretrained(\"recobo/chemical-bert-uncased\")\n",
    "\n",
    "# Process SMILES with this alternative chemical BERT tokenizer\n",
    "# Results should be similar to ChemBERTa but may show some differences\n",
    "# due to different training procedures or datasets\n",
    "encoded = run_tokenizer(tokenizer)\n",
    "res = run_decoding(tokenizer, encoded)\n",
    "save_results(res, \"chemical-bert\")\n",
    "\n",
    "# Display tokenization for comparison with ChemBERTa\n",
    "res[0]"
   ],
   "metadata": {
    "id": "7GL633zb_cu5",
    "colab": {
     "base_uri": "https://localhost:8080/",
     "height": 162,
     "referenced_widgets": [
      "eb4cdb5b58e3454abb2579098d04986f",
      "89cdab6e08674aa88bb148da3f8cab7c",
      "ce686d773aa4476e9ea78c673bce92c6",
      "b06efa35b03642debc3a1630ef8d3d3f",
      "28ed0751e14545c780f51ca83e54b997",
      "1ee7943329724d0bb25feaea2fe746d2",
      "225fe02c0d3147519eafc41fb7d03f08",
      "6ac46e08ed454a97bd38aa4d0b91ad8d",
      "6843d01afc294ce698cad95cf477a890",
      "8053d6addd20417a9a88719a726b0a11",
      "b570db6a0d1745989806261a5d0a8fe8",
      "2dea1cf7a50b40b98d34b96cef0f9682",
      "ca0ff451c02a490a8f132996c667e1e1",
      "07af38d9566a4a7e9e6f10ebe6e16b85",
      "d2536d3d49984c65a8ea43801650cff2",
      "e4578b7c1387428e972c87f5be13cc0d",
      "f3b1dd829d3449a9bf0124b1adb1fd7a",
      "5e39e0435685439385470ead8e116b65",
      "7f2d446fd8594cf4b72332cb39401eaf",
      "e074b2c32beb4f78876176b36a668cce",
      "788f82a6fe8b41ccaba1416f8563da20",
      "151d49531c1d40d7a44666a6f84584f5",
      "a14c278038d34618930fdcf0ceea6ac5",
      "b9ecda53434d465bb4039d166d4b0901",
      "99abbfece85e4dacab826e55dd0864f7",
      "d02d2f6450eb48679e2e96971c0646bb",
      "035e65750890430ebcc4f5932fad6204",
      "8e100d7b61294bb7866b849bfb0c534d",
      "15e8de0e5c08456f90ab5b1acf43743f",
      "186efcdff3df4cae8f2ad6d8a561e4bc",
      "14ec84dd4fc74105a3aa4e7001fb0348",
      "41a458f78df64999abcfa51bbb61d079",
      "25ce1e63c01a4f29bb9ba17d46fa1b17",
      "3a63236c515c4d1aac485c57a4a22940",
      "1d3ebc0d83104b069864397de7462e71",
      "237e8ecf515b4b85a66d2c809a50e593",
      "b1d9102ad58c41ce8a55b2ce851cfcd2",
      "eece9778ec464a52a2487bab9f288a52",
      "caf825b417a24f43b2ee48ab3f26f612",
      "a6af51177efe4d83b9aa23c5009b5921",
      "ca53b5684a874c25a5f5dcf844be1f88",
      "bd5beb5065484234ab52d8d8dac5b384",
      "716e2fb70e7e4a0bbddd32f1c032a2ee",
      "7f6edb90a4c24d83a74bdef62531cecf"
     ]
    },
    "executionInfo": {
     "status": "ok",
     "timestamp": 1749723291546,
     "user_tz": -240,
     "elapsed": 1655,
     "user": {
      "displayName": "Ivan Reznikov",
      "userId": "03906939862966425294"
     }
    },
    "outputId": "52db7780-c047-4d7c-d08e-b946c6334076"
   },
   "execution_count": null,
   "outputs": [
    {
     "output_type": "display_data",
     "data": {
      "text/plain": [
       "tokenizer_config.json:   0%|          | 0.00/339 [00:00<?, ?B/s]"
      ],
      "application/vnd.jupyter.widget-view+json": {
       "version_major": 2,
       "version_minor": 0,
       "model_id": "eb4cdb5b58e3454abb2579098d04986f"
      }
     },
     "metadata": {}
    },
    {
     "output_type": "display_data",
     "data": {
      "text/plain": [
       "config.json:   0%|          | 0.00/612 [00:00<?, ?B/s]"
      ],
      "application/vnd.jupyter.widget-view+json": {
       "version_major": 2,
       "version_minor": 0,
       "model_id": "2dea1cf7a50b40b98d34b96cef0f9682"
      }
     },
     "metadata": {}
    },
    {
     "output_type": "display_data",
     "data": {
      "text/plain": [
       "vocab.txt:   0%|          | 0.00/228k [00:00<?, ?B/s]"
      ],
      "application/vnd.jupyter.widget-view+json": {
       "version_major": 2,
       "version_minor": 0,
       "model_id": "a14c278038d34618930fdcf0ceea6ac5"
      }
     },
     "metadata": {}
    },
    {
     "output_type": "display_data",
     "data": {
      "text/plain": [
       "special_tokens_map.json:   0%|          | 0.00/112 [00:00<?, ?B/s]"
      ],
      "application/vnd.jupyter.widget-view+json": {
       "version_major": 2,
       "version_minor": 0,
       "model_id": "3a63236c515c4d1aac485c57a4a22940"
      }
     },
     "metadata": {}
    },
    {
     "output_type": "execute_result",
     "data": {
      "text/plain": [
       "['[CLS]', 'cl', '##ccc', '##n', '##1', '##ccc', '##c', '##1', '[SEP]']"
      ]
     },
     "metadata": {},
     "execution_count": 39
    }
   ]
  },
  {
   "cell_type": "markdown",
   "source": [
    "### MoLFormer-XL - IBM's Molecular Transformer"
   ],
   "metadata": {
    "id": "dGCzS9AwAiHE"
   }
  },
  {
   "cell_type": "code",
   "source": [
    "# MoLFormer is designed specifically for molecular understanding tasks\n",
    "# The \"XL\" variant indicates this is a large-scale version\n",
    "# \"both-10pct\" likely refers to training on both molecular and textual data\n",
    "\n",
    "# trust_remote_code=True allows loading custom tokenization code\n",
    "# This suggests MoLFormer uses specialized tokenization logic\n",
    "tokenizer = AutoTokenizer.from_pretrained(\n",
    "    \"ibm/MoLFormer-XL-both-10pct\", trust_remote_code=True\n",
    ")\n",
    "\n",
    "# Apply IBM's molecular-specific tokenizer\n",
    "# Expected to show sophisticated understanding of molecular structure\n",
    "encoded = run_tokenizer(tokenizer)\n",
    "res = run_decoding(tokenizer, encoded)\n",
    "save_results(res, \"MoLFormer\")\n",
    "\n",
    "# Compare with other transformer-based approaches\n",
    "res[0]"
   ],
   "metadata": {
    "id": "0lrAUbsj_cu5",
    "colab": {
     "base_uri": "https://localhost:8080/",
     "height": 348,
     "referenced_widgets": [
      "2c643e2fb3364d17bf77bb8990d99fc1",
      "3f39c33bf5c14bef9d46b95c4855c35d",
      "1542a0ef44784989bcd86d3624be1f94",
      "196cd96912454a83b0d11735dd517b91",
      "a43a9d14fc4a493fb7109a3e11d9ca17",
      "1092a481733e48d8aac9bff32d35abf3",
      "e59fc0c6941a4a4aad0733526c8a195b",
      "2af837f27af3418eb16d0487603f4df7",
      "e5c92025e0eb42f9ae158ae8dee1e9ec",
      "332557e847864b6d866b296249cdff60",
      "74ac878a12a34529b2c230d8ef23a551",
      "17311ddb01c44b018bb7f8f746914171",
      "df32ce2870944d409fb70cb03d62e1b4",
      "024e2c69ae884f719ab29519c2556c67",
      "bb986ec9c77d446b86ed1767a457f6e2",
      "9b637dc2184844c2a90d66e3d6185773",
      "375d7cd282b047188e3be7e0fc21314f",
      "317aa1cb640e4615bfcdf418fa206806",
      "18850f9df61644f29c8e2f4ebd28264c",
      "7eca95b9caee443bbdfcc5a94bf55627",
      "c564498af46948f1af8d0bbe9a37a61d",
      "d43141bb52594838a3658fd6c899d438",
      "310cdc7439c94d3994ec93cc819c2704",
      "6dda0ba7ae5f49c7bb6d6714337b930a",
      "57e44064ab3e4884853bee49ae02a287",
      "fbc524ade27346959a3992f2a406fb1e",
      "4774f330c4c64b59b934b4ac75bcba4f",
      "9d52528daf85458dab98010e39f6bd13",
      "63bff8abb32c448f97453980888151a7",
      "9b97cb8957e04c09be953a7fa515aaeb",
      "674501336b3849f4bbd3a0992a689c9c",
      "849cbc87322c4813868a48b31db22a9b",
      "b254da7579c14d81bba8cd40851248e5",
      "b2e68181667c4ea2afdc2ec10d824594",
      "204550ef07944c17907473ee79e817be",
      "1853feeeb75f45239ec71d78ce271ed5",
      "005bac1676964ae58184f2d2a14e8a56",
      "7bbd2ad7c1cb4f15b2142dce316f00d2",
      "d083aa28c5e44d569d1b3502169dec70",
      "2dd18d57cda748ef826efcd4b712e47a",
      "6ffb600351fc418c8e7ed44269c90392",
      "214b4ea38a1c43308b4731326e818990",
      "786a94495c544497a3fd76f438438fce",
      "ee1ef0f6a9034709ab560e20d31027eb",
      "cda05131e592473d8ad58bc732cdb5b1",
      "71cd9c8c1d45401192395df936d44280",
      "16caaf05b5514e849047b0f3920d35cb",
      "a8f531b2c542417d8180d2806ed44f9b",
      "200fd0c433a847989e187252b4356028",
      "27de62bd6a124101985442462aa34ccd",
      "80da11fc03404bc4a858527820c5af2f",
      "0de7e32ec7834cf0a5c3590d32ef4afb",
      "53b8e6d7b52e46b3a5a4e0f9485fe6d2",
      "d5cbaa91b3634a49aed8a260d7559e70",
      "389a2894b9174d429156135486275e5f",
      "0619bf6762874fe08aa83e47171618d9",
      "24ddb81f7df64c41aaaddf15948a58ef",
      "fb4ecb8d2a654200b04418aae896aa13",
      "1fdc8194530f4f7c9579549a45bd0bff",
      "391d9924b5694953ae9d0321600be1ed",
      "e278bafc1f7a4a20bdaef06c2c0e6d1d",
      "de86b6cf6f654a4fb67605f2a8746768",
      "d1996d9681184f07ae611d4b32d74d9e",
      "7005b2394ef84f00ad6429a5492cbe4f",
      "4f3faf596fe44b65be361bdcbed697f5",
      "56bf8f762f8641aca9be39b71ac6dee1"
     ]
    },
    "executionInfo": {
     "status": "ok",
     "timestamp": 1749723295099,
     "user_tz": -240,
     "elapsed": 3549,
     "user": {
      "displayName": "Ivan Reznikov",
      "userId": "03906939862966425294"
     }
    },
    "outputId": "926ae32a-71f3-4be8-ac1e-31f5b93ef1ad"
   },
   "execution_count": null,
   "outputs": [
    {
     "output_type": "display_data",
     "data": {
      "text/plain": [
       "tokenizer_config.json:   0%|          | 0.00/1.29k [00:00<?, ?B/s]"
      ],
      "application/vnd.jupyter.widget-view+json": {
       "version_major": 2,
       "version_minor": 0,
       "model_id": "2c643e2fb3364d17bf77bb8990d99fc1"
      }
     },
     "metadata": {}
    },
    {
     "output_type": "display_data",
     "data": {
      "text/plain": [
       "tokenization_molformer_fast.py:   0%|          | 0.00/6.50k [00:00<?, ?B/s]"
      ],
      "application/vnd.jupyter.widget-view+json": {
       "version_major": 2,
       "version_minor": 0,
       "model_id": "17311ddb01c44b018bb7f8f746914171"
      }
     },
     "metadata": {}
    },
    {
     "output_type": "display_data",
     "data": {
      "text/plain": [
       "tokenization_molformer.py:   0%|          | 0.00/9.48k [00:00<?, ?B/s]"
      ],
      "application/vnd.jupyter.widget-view+json": {
       "version_major": 2,
       "version_minor": 0,
       "model_id": "310cdc7439c94d3994ec93cc819c2704"
      }
     },
     "metadata": {}
    },
    {
     "output_type": "stream",
     "name": "stderr",
     "text": [
      "A new version of the following files was downloaded from https://huggingface.co/ibm/MoLFormer-XL-both-10pct:\n",
      "- tokenization_molformer.py\n",
      ". Make sure to double-check they do not contain any added malicious code. To avoid downloading new versions of the code file, you can pin a revision.\n",
      "A new version of the following files was downloaded from https://huggingface.co/ibm/MoLFormer-XL-both-10pct:\n",
      "- tokenization_molformer_fast.py\n",
      "- tokenization_molformer.py\n",
      ". Make sure to double-check they do not contain any added malicious code. To avoid downloading new versions of the code file, you can pin a revision.\n"
     ]
    },
    {
     "output_type": "display_data",
     "data": {
      "text/plain": [
       "vocab.json:   0%|          | 0.00/41.6k [00:00<?, ?B/s]"
      ],
      "application/vnd.jupyter.widget-view+json": {
       "version_major": 2,
       "version_minor": 0,
       "model_id": "b2e68181667c4ea2afdc2ec10d824594"
      }
     },
     "metadata": {}
    },
    {
     "output_type": "display_data",
     "data": {
      "text/plain": [
       "tokenizer.json:   0%|          | 0.00/54.0k [00:00<?, ?B/s]"
      ],
      "application/vnd.jupyter.widget-view+json": {
       "version_major": 2,
       "version_minor": 0,
       "model_id": "cda05131e592473d8ad58bc732cdb5b1"
      }
     },
     "metadata": {}
    },
    {
     "output_type": "display_data",
     "data": {
      "text/plain": [
       "special_tokens_map.json:   0%|          | 0.00/125 [00:00<?, ?B/s]"
      ],
      "application/vnd.jupyter.widget-view+json": {
       "version_major": 2,
       "version_minor": 0,
       "model_id": "0619bf6762874fe08aa83e47171618d9"
      }
     },
     "metadata": {}
    },
    {
     "output_type": "execute_result",
     "data": {
      "text/plain": [
       "['<bos>', 'Cl', 'C', 'C', 'C', 'N', '1', 'C', 'C', 'C', 'C', '1', '<eos>']"
      ]
     },
     "metadata": {},
     "execution_count": 40
    }
   ]
  },
  {
   "cell_type": "markdown",
   "source": [
    "### MolT5 - T5 model fine-tuned for molecular tasks"
   ],
   "metadata": {
    "id": "dIwZoTfiAk6y"
   }
  },
  {
   "cell_type": "code",
   "source": [
    "# T5 (Text-to-Text Transfer Transformer) is Google's sequence-to-sequence model\n",
    "# \"smiles2caption\" indicates this model translates SMILES to natural language descriptions\n",
    "\n",
    "from transformers import T5Tokenizer\n",
    "\n",
    "# Load T5 tokenizer specifically designed for molecular translation tasks\n",
    "# model_max_length=512 sets the maximum sequence length for processing\n",
    "tokenizer = T5Tokenizer.from_pretrained(\n",
    "    \"laituan245/molt5-large-smiles2caption\", model_max_length=512\n",
    ")\n",
    "\n",
    "# Apply T5's molecular tokenizer\n",
    "# T5 uses SentencePiece tokenization which may handle chemical strings differently\n",
    "encoded = run_tokenizer(tokenizer)\n",
    "res = run_decoding(tokenizer, encoded)\n",
    "save_results(res, \"molt5\")\n",
    "\n",
    "# T5 tokenization may show different patterns due to its sequence-to-sequence training\n",
    "res[0]"
   ],
   "metadata": {
    "id": "_Hn6qdlr_cu6",
    "colab": {
     "base_uri": "https://localhost:8080/",
     "height": 200,
     "referenced_widgets": [
      "511e6467f84446e59c888951e11e3e73",
      "e798a4266274434d9a0a6c4e1beb6512",
      "a6096abd1b0f473f8357880fec658595",
      "22a11f3617d6444ab3e19cfd4dbc23c4",
      "e0472cf83c1a413a8f87f6887ffc2b97",
      "2bf953ef86bf4018a70bbeb204729089",
      "253a7a11a7be4269abeaaf1b81c4a4ea",
      "556e8c5967924a0da01a6c5703b02974",
      "1ecf470bacb446f6957d16a9842e4a95",
      "c828ef657ab0483992c1bc6ab100b715",
      "95bf36b654b84b6491894498962e0e63",
      "c01f34fd48374a48bc737589c5959b9a",
      "298a3f4c87804ccda8434a7b83feaea4",
      "df75c31c935f4dbfaecf0f7979ff48e3",
      "3bdf9d79a239455297627f3752318295",
      "c02ac70ee85c43e897f3fb26a72b81ee",
      "436b0e0925a84240963ca15bd555c353",
      "4dfea71a496e4308a8b9160e62046897",
      "55feedffe81a4a499983706c8cde5b9f",
      "64a16126acaf4767803db37f84c096d1",
      "eda0a668fcab469eb3a6066101afe556",
      "0d51fb5af5504da59d88eefe4082f917",
      "076cd8eaf1f74a91bae6e6abefd3c87e",
      "a6dacd3586814716b3a25cc027cffaff",
      "8eeeb1e9d1754593a8183a43361ef427",
      "16a1cdbf7f434d81baea1badabf84516",
      "050f443f1ca641b490a22f0f33faa1d7",
      "0a30d2828aab4644a2824804cd1906ec",
      "6dbe372537e44b6fb9dbc171caa884ed",
      "9d6c11032e784d03b87ef5bc5c1274b5",
      "68775cb5b077467b80e5d8b52b69d629",
      "b0df04fe7be9471a855687e8fcfb0f9d",
      "5b345aebcecd4672a883adad611d2555",
      "e1bfba1db53a404c825c62fadf351e2f",
      "64a2021ad12d4b4382bb6401bd344d75",
      "183f862774bc4d05ac5a817fff2cba2a",
      "5e0f5e0402e44cf1865e4dd729d24703",
      "19f546d2c5e04009a0950d27728ba534",
      "33e061c3f32c46559c1d7fe7876ef8ef",
      "af6d7c2df4224d438d6c7a4390bdf541",
      "f7433253193d4341a40ee020661ae281",
      "ec68fbb97f194a728badbf48156e5d61",
      "0c2c2bbb8a11499481ce30f76447b5d7",
      "ad462b663c934da2a87a13c7cb19bb7e"
     ]
    },
    "executionInfo": {
     "status": "ok",
     "timestamp": 1749723296921,
     "user_tz": -240,
     "elapsed": 1826,
     "user": {
      "displayName": "Ivan Reznikov",
      "userId": "03906939862966425294"
     }
    },
    "outputId": "a5ecc7f4-b83d-4ac1-c137-40f8b225eb70"
   },
   "execution_count": null,
   "outputs": [
    {
     "output_type": "display_data",
     "data": {
      "text/plain": [
       "tokenizer_config.json:   0%|          | 0.00/2.13k [00:00<?, ?B/s]"
      ],
      "application/vnd.jupyter.widget-view+json": {
       "version_major": 2,
       "version_minor": 0,
       "model_id": "511e6467f84446e59c888951e11e3e73"
      }
     },
     "metadata": {}
    },
    {
     "output_type": "display_data",
     "data": {
      "text/plain": [
       "spiece.model:   0%|          | 0.00/792k [00:00<?, ?B/s]"
      ],
      "application/vnd.jupyter.widget-view+json": {
       "version_major": 2,
       "version_minor": 0,
       "model_id": "c01f34fd48374a48bc737589c5959b9a"
      }
     },
     "metadata": {}
    },
    {
     "output_type": "display_data",
     "data": {
      "text/plain": [
       "special_tokens_map.json:   0%|          | 0.00/1.79k [00:00<?, ?B/s]"
      ],
      "application/vnd.jupyter.widget-view+json": {
       "version_major": 2,
       "version_minor": 0,
       "model_id": "076cd8eaf1f74a91bae6e6abefd3c87e"
      }
     },
     "metadata": {}
    },
    {
     "output_type": "display_data",
     "data": {
      "text/plain": [
       "tokenizer.json:   0%|          | 0.00/2.42M [00:00<?, ?B/s]"
      ],
      "application/vnd.jupyter.widget-view+json": {
       "version_major": 2,
       "version_minor": 0,
       "model_id": "e1bfba1db53a404c825c62fadf351e2f"
      }
     },
     "metadata": {}
    },
    {
     "output_type": "stream",
     "name": "stderr",
     "text": [
      "You are using the default legacy behaviour of the <class 'transformers.models.t5.tokenization_t5.T5Tokenizer'>. This is expected, and simply means that the `legacy` (previous) behavior will be used so nothing changes for you. If you want to use the new behaviour, set `legacy=False`. This should only be set if you understand what it means, and thoroughly read the reason why this was added as explained in https://github.com/huggingface/transformers/pull/24565\n"
     ]
    },
    {
     "output_type": "execute_result",
     "data": {
      "text/plain": [
       "['Cl', 'CC', 'CN', '1', 'CC', 'CC', '1', '</s>']"
      ]
     },
     "metadata": {},
     "execution_count": 41
    }
   ]
  },
  {
   "cell_type": "markdown",
   "source": [
    "### DeepChem SmilesTokenizers"
   ],
   "metadata": {
    "id": "ZvQvFeTHAvkX"
   }
  },
  {
   "cell_type": "code",
   "source": [
    "# DeepChem is a widely-used open-source toolkit for deep learning in chemistry\n",
    "# This represents a more traditional, rule-based approach to SMILES tokenization\n",
    "\n",
    "import os\n",
    "from deepchem.feat.smiles_tokenizer import SmilesTokenizer\n",
    "import urllib.request\n",
    "\n",
    "try:\n",
    "    # Download the vocabulary file used by DeepChem's tokenizer\n",
    "    # This vocab was curated specifically for chemical applications\n",
    "    vocab_url = \"https://raw.githubusercontent.com/deepchem/deepchem/master/deepchem/feat/tests/data/vocab.txt\"\n",
    "    urllib.request.urlretrieve(vocab_url, \"vocab.txt\")\n",
    "\n",
    "    # Initialize DeepChem's SMILES tokenizer with the chemical vocabulary\n",
    "    # This tokenizer uses predefined chemical tokens rather than learned subwords\n",
    "    tokenizer = SmilesTokenizer(\"vocab.txt\")\n",
    "\n",
    "    # Apply DeepChem tokenizer - note different calling pattern\n",
    "    # DeepChem tokenizers don't follow HuggingFace conventions\n",
    "    save_results([tokenizer.tokenize(x) for x in smiles], \"SmilesTokenizer\")\n",
    "\n",
    "    # This should show very chemistry-specific tokenization based on known chemical units\n",
    "    res[0]\n",
    "\n",
    "except Exception as e:\n",
    "    print(f\"Error {e}\")"
   ],
   "metadata": {
    "id": "nmj-4OBe_cu6",
    "colab": {
     "base_uri": "https://localhost:8080/"
    },
    "executionInfo": {
     "status": "ok",
     "timestamp": 1749723300079,
     "user_tz": -240,
     "elapsed": 3162,
     "user": {
      "displayName": "Ivan Reznikov",
      "userId": "03906939862966425294"
     }
    },
    "outputId": "1e8946fe-d097-4877-e429-22628acb4c17"
   },
   "execution_count": null,
   "outputs": [
    {
     "output_type": "stream",
     "name": "stderr",
     "text": [
      "WARNING:deepchem.feat.molecule_featurizers.rdkit_descriptors:No normalization for SPS. Feature removed!\n",
      "WARNING:deepchem.feat.molecule_featurizers.rdkit_descriptors:No normalization for AvgIpc. Feature removed!\n",
      "WARNING:deepchem.feat.molecule_featurizers.rdkit_descriptors:No normalization for NumAmideBonds. Feature removed!\n",
      "WARNING:deepchem.feat.molecule_featurizers.rdkit_descriptors:No normalization for NumAtomStereoCenters. Feature removed!\n",
      "WARNING:deepchem.feat.molecule_featurizers.rdkit_descriptors:No normalization for NumBridgeheadAtoms. Feature removed!\n",
      "WARNING:deepchem.feat.molecule_featurizers.rdkit_descriptors:No normalization for NumHeterocycles. Feature removed!\n",
      "WARNING:deepchem.feat.molecule_featurizers.rdkit_descriptors:No normalization for NumSpiroAtoms. Feature removed!\n",
      "WARNING:deepchem.feat.molecule_featurizers.rdkit_descriptors:No normalization for NumUnspecifiedAtomStereoCenters. Feature removed!\n",
      "WARNING:deepchem.feat.molecule_featurizers.rdkit_descriptors:No normalization for Phi. Feature removed!\n",
      "\u001b[34m\u001b[1mwandb\u001b[0m: \u001b[33mWARNING\u001b[0m W&B installed but not logged in.  Run `wandb login` or set the WANDB_API_KEY env variable.\n",
      "WARNING:tensorflow:From /usr/local/lib/python3.11/dist-packages/tensorflow/python/util/deprecation.py:588: calling function (from tensorflow.python.eager.polymorphic_function.polymorphic_function) with experimental_relax_shapes is deprecated and will be removed in a future version.\n",
      "Instructions for updating:\n",
      "experimental_relax_shapes is deprecated, use reduce_retracing instead\n",
      "\u001b[34m\u001b[1mwandb\u001b[0m: \u001b[33mWARNING\u001b[0m W&B installed but not logged in.  Run `wandb login` or set the WANDB_API_KEY env variable.\n",
      "WARNING:deepchem.models.torch_models:Skipped loading modules with pytorch-geometric dependency, missing a dependency. No module named 'torch_geometric'\n",
      "WARNING:deepchem.models:Skipped loading modules with pytorch-geometric dependency, missing a dependency. cannot import name 'DMPNN' from 'deepchem.models.torch_models' (/usr/local/lib/python3.11/dist-packages/deepchem/models/torch_models/__init__.py)\n",
      "WARNING:deepchem.models:Skipped loading modules with pytorch-lightning dependency, missing a dependency. No module named 'lightning'\n",
      "WARNING:deepchem.models:Skipped loading some Jax models, missing a dependency. No module named 'haiku'\n"
     ]
    }
   ]
  },
  {
   "cell_type": "code",
   "source": [
    "# DeepChem BasicSmilesTokenizer - Simpler version of DeepChem's tokenizer\n",
    "# This provides a more basic tokenization approach without requiring a vocabulary file\n",
    "# Useful as a baseline for comparison with more sophisticated methods\n",
    "\n",
    "from deepchem.feat.smiles_tokenizer import BasicSmilesTokenizer\n",
    "\n",
    "# Initialize basic tokenizer - no vocabulary file needed\n",
    "# This likely uses simple character-level or basic pattern-based tokenization\n",
    "tokenizer = BasicSmilesTokenizer()\n",
    "\n",
    "# Apply basic tokenization to all SMILES\n",
    "# Results should be simpler and more character-level than the vocabulary-based version\n",
    "save_results([tokenizer.tokenize(x) for x in smiles], \"BasicSmilesTokenizer\")\n",
    "\n",
    "# Compare basic vs. vocabulary-based DeepChem approaches\n",
    "res[0]"
   ],
   "metadata": {
    "id": "JaVlZMtE_cu6",
    "colab": {
     "base_uri": "https://localhost:8080/"
    },
    "executionInfo": {
     "status": "ok",
     "timestamp": 1749723300099,
     "user_tz": -240,
     "elapsed": 17,
     "user": {
      "displayName": "Ivan Reznikov",
      "userId": "03906939862966425294"
     }
    },
    "outputId": "429fe36d-afb7-4d34-9fcd-780a52883ed1"
   },
   "execution_count": null,
   "outputs": [
    {
     "output_type": "execute_result",
     "data": {
      "text/plain": [
       "['Cl', 'CC', 'CN', '1', 'CC', 'CC', '1', '</s>']"
      ]
     },
     "metadata": {},
     "execution_count": 43
    }
   ]
  },
  {
   "cell_type": "markdown",
   "source": [
    "### PySmilesUtils SMILESTokenizer - Advanced SMILES-specific tokenization"
   ],
   "metadata": {
    "id": "llX2wYgOBDoo"
   }
  },
  {
   "cell_type": "code",
   "source": [
    "# Install pysmilesutils - A specialized library for SMILES tokenization\n",
    "# This library provides multiple tokenization strategies specifically designed for SMILES\n",
    "!pip install git+https://github.com/MolecularAI/pysmilesutils.git"
   ],
   "metadata": {
    "id": "5uscYQH3_cu6",
    "colab": {
     "base_uri": "https://localhost:8080/"
    },
    "executionInfo": {
     "status": "ok",
     "timestamp": 1749723318107,
     "user_tz": -240,
     "elapsed": 18005,
     "user": {
      "displayName": "Ivan Reznikov",
      "userId": "03906939862966425294"
     }
    },
    "outputId": "19551f80-5980-4771-d7bb-7e3a7dc1c8f5"
   },
   "execution_count": null,
   "outputs": [
    {
     "output_type": "stream",
     "name": "stdout",
     "text": [
      "Collecting git+https://github.com/MolecularAI/pysmilesutils.git\n",
      "  Cloning https://github.com/MolecularAI/pysmilesutils.git to /tmp/pip-req-build-eavvkii4\n",
      "  Running command git clone --filter=blob:none --quiet https://github.com/MolecularAI/pysmilesutils.git /tmp/pip-req-build-eavvkii4\n",
      "  Resolved https://github.com/MolecularAI/pysmilesutils.git to commit 98b1f438578b624af3033e33435a8762c02d8093\n",
      "  Preparing metadata (setup.py) ... \u001b[?25l\u001b[?25hdone\n",
      "Building wheels for collected packages: PySMILESutils\n",
      "  Building wheel for PySMILESutils (setup.py) ... \u001b[?25l\u001b[?25hdone\n",
      "  Created wheel for PySMILESutils: filename=PySMILESutils-1.1.0-py3-none-any.whl size=21771 sha256=02c5365d5019d2a430d5f407edeb662250f5163198b7f6d6e5d2e82917bf6392\n",
      "  Stored in directory: /tmp/pip-ephem-wheel-cache-h2tnyu4i/wheels/7a/f1/f7/f83fa75696e2112c2658e2e221e587a5439486b20bd4b4fd2d\n",
      "Successfully built PySMILESutils\n",
      "Installing collected packages: PySMILESutils\n",
      "Successfully installed PySMILESutils-1.1.0\n"
     ]
    }
   ]
  },
  {
   "cell_type": "code",
   "source": [
    "# This library was developed by MolecularAI for pharmaceutical applications\n",
    "# It provides sophisticated tokenization options tailored for different use cases\n",
    "\n",
    "from pysmilesutils.tokenize import SMILESTokenizer, SMILESAtomTokenizer\n",
    "\n",
    "# Initialize tokenizer with specific tokens and training on our SMILES dataset\n",
    "# tokens=[\"Br\", \"Cl\"] ensures these common two-character elements are treated as single tokens\n",
    "# smiles=smiles allows the tokenizer to learn patterns from our specific dataset\n",
    "tokenizer = SMILESTokenizer(tokens=[\"Br\", \"Cl\"], smiles=smiles)\n",
    "\n",
    "# Process with the custom tokenizer\n",
    "encoded = run_tokenizer(tokenizer)\n",
    "\n",
    "# Save tokenization results\n",
    "# This approach should be highly optimized for SMILES representation\n",
    "save_results([tokenizer.tokenize(x) for x in smiles], \"pysmilesutils_SMILESTokenizer\")\n",
    "\n",
    "# Display tokens converted back to readable format\n",
    "# Should show sophisticated chemical structure awareness\n",
    "[tokenizer.convert_ids_to_tokens(x) for x in encoded][0]"
   ],
   "metadata": {
    "id": "BtaftdCK_cu7",
    "colab": {
     "base_uri": "https://localhost:8080/"
    },
    "executionInfo": {
     "status": "ok",
     "timestamp": 1749723318137,
     "user_tz": -240,
     "elapsed": 14,
     "user": {
      "displayName": "Ivan Reznikov",
      "userId": "03906939862966425294"
     }
    },
    "outputId": "d782e27f-19a8-4d7b-e4db-4fe63e942a41"
   },
   "execution_count": null,
   "outputs": [
    {
     "output_type": "execute_result",
     "data": {
      "text/plain": [
       "[['^', 'Cl', 'C', 'C', 'C', 'N', '1', 'C', 'C', 'C', 'C', '1', '&']]"
      ]
     },
     "metadata": {},
     "execution_count": 45
    }
   ]
  },
  {
   "cell_type": "code",
   "source": [
    "# This tokenizer focuses on atomic-level representations rather than general patterns\n",
    "# Useful for tasks that require detailed understanding of individual atoms and their properties\n",
    "\n",
    "# Initialize atom-specific tokenizer\n",
    "# This approach treats each atom and its immediate environment as fundamental units\n",
    "atom_tokenizer = SMILESAtomTokenizer(smiles=smiles)\n",
    "\n",
    "# Apply atom-focused tokenization\n",
    "encoded = run_tokenizer(atom_tokenizer)\n",
    "\n",
    "# Save results with descriptive name\n",
    "# Atom-level tokenization should provide fine-grained molecular representations\n",
    "save_results(\n",
    "    [atom_tokenizer.convert_ids_to_tokens(x) for x in encoded],\n",
    "    \"pysmilesutils_SMILESAtomTokenizer\",\n",
    ")\n",
    "\n",
    "# Display atom-level tokenization results\n",
    "# Compare with structure-level tokenization from previous cell\n",
    "[atom_tokenizer.convert_ids_to_tokens(x) for x in encoded][0]"
   ],
   "metadata": {
    "id": "95oz_suU_cu7",
    "colab": {
     "base_uri": "https://localhost:8080/"
    },
    "executionInfo": {
     "status": "ok",
     "timestamp": 1749723318155,
     "user_tz": -240,
     "elapsed": 15,
     "user": {
      "displayName": "Ivan Reznikov",
      "userId": "03906939862966425294"
     }
    },
    "outputId": "6171db0b-1227-4d61-c3ed-a0f2f8a0d1df"
   },
   "execution_count": null,
   "outputs": [
    {
     "output_type": "execute_result",
     "data": {
      "text/plain": [
       "[['^', 'Cl', 'C', 'C', 'C', 'N', '1', 'C', 'C', 'C', 'C', '1', '&']]"
      ]
     },
     "metadata": {},
     "execution_count": 46
    }
   ]
  },
  {
   "cell_type": "markdown",
   "metadata": {
    "id": "B__EnuvM9v1f"
   },
   "source": [
    "## Results Analysis and Comparison\n",
    "\n",
    "The following cells organize and display the tokenization results for easy comparison across all methods."
   ]
  },
  {
   "cell_type": "code",
   "source": [
    "# Create comprehensive comparison dataframe\n",
    "# This organizes all tokenization results for systematic analysis\n",
    "\n",
    "import pandas as pd\n",
    "\n",
    "# Create DataFrame with tokenizers as rows and SMILES as columns\n",
    "# This format allows easy comparison of how different tokenizers handle the same molecule\n",
    "df = pd.DataFrame(results_dict).T\n",
    "df.columns = smiles\n",
    "\n",
    "# Each row represents a different tokenization method\n",
    "# Each column represents a different SMILES molecule\n",
    "# This structure facilitates both method comparison and molecule-specific analysis"
   ],
   "metadata": {
    "id": "IpdF79WW_cu7"
   },
   "execution_count": null,
   "outputs": []
  },
  {
   "cell_type": "code",
   "source": [
    "# Display the complete comparison matrix\n",
    "# This shows how each tokenizer handled each molecule in the dataset\n",
    "# Look for patterns in:\n",
    "# - Token count variations across methods\n",
    "# - Chemical motif recognition (rings, functional groups)\n",
    "# - Handling of complex structures vs. simple molecules\n",
    "# - Consistency across similar molecular structures\n",
    "\n",
    "df"
   ],
   "metadata": {
    "id": "n1Intnw9_cu7",
    "colab": {
     "base_uri": "https://localhost:8080/",
     "height": 1000
    },
    "executionInfo": {
     "status": "ok",
     "timestamp": 1749723318268,
     "user_tz": -240,
     "elapsed": 103,
     "user": {
      "displayName": "Ivan Reznikov",
      "userId": "03906939862966425294"
     }
    },
    "outputId": "e255e118-570b-4553-bb98-054f7475bb11"
   },
   "execution_count": null,
   "outputs": [
    {
     "output_type": "execute_result",
     "data": {
      "text/plain": [
       "                                                                        ClCCCN1CCCC1  \\\n",
       "spacy                                                                 (ClCCCN1CCCC1)   \n",
       "bloom560m                                                   [Cl, CC, CN, 1, CCCC, 1]   \n",
       "mistral7                                             [<s>, Cl, CC, CN, 1, CC, CC, 1]   \n",
       "falcon7                                                   [Cl, CC, CN, 1, CC, CC, 1]   \n",
       "falcon180B                                                [Cl, CC, CN, 1, CC, CC, 1]   \n",
       "regex                                             [Cl, C, C, C, N, 1, C, C, C, C, 1]   \n",
       "GIMLET                                              [Cl, CC, CN, 1, CC, CC, 1, </s>]   \n",
       "ChemBERTa                                          [<s>, Cl, CCCN, 1, CCCC, 1, </s>]   \n",
       "chemical-bert                      [[CLS], cl, ##ccc, ##n, ##1, ##ccc, ##c, ##1, ...   \n",
       "MoLFormer                           [<bos>, Cl, C, C, C, N, 1, C, C, C, C, 1, <eos>]   \n",
       "molt5                                               [Cl, CC, CN, 1, CC, CC, 1, </s>]   \n",
       "SmilesTokenizer                                   [Cl, C, C, C, N, 1, C, C, C, C, 1]   \n",
       "BasicSmilesTokenizer                              [Cl, C, C, C, N, 1, C, C, C, C, 1]   \n",
       "pysmilesutils_SMILESTokenizer      [[^, C, &], [^, l, &], [^, C, &], [^, C, &], [...   \n",
       "pysmilesutils_SMILESAtomTokenizer         [[^, Cl, C, C, C, N, 1, C, C, C, C, 1, &]]   \n",
       "\n",
       "                                                                      CI.Oc1ncccc1Br  \\\n",
       "spacy                                                               (CI.Oc1ncccc1Br)   \n",
       "bloom560m                                             [CI, ., O, c1, n, cccc, 1, Br]   \n",
       "mistral7                                     [<s>, C, I, ., O, c, 1, n, cccc, 1, Br]   \n",
       "falcon7                                           [CI, ., O, c, 1, n, cc, cc, 1, Br]   \n",
       "falcon180B                                        [CI, ., O, c, 1, n, cc, cc, 1, Br]   \n",
       "regex                                       [C, I, ., O, c, 1, n, c, c, c, c, 1, Br]   \n",
       "GIMLET                              [, CI, ., O, c, 1, n, c, c, c, c, 1, B, r, </s>]   \n",
       "ChemBERTa                                    [<s>, CI, ., Oc, 1, ncccc, 1, Br, </s>]   \n",
       "chemical-bert                      [[CLS], ci, ., oc, ##1, ##nc, ##ccc, ##1, ##br...   \n",
       "MoLFormer                          [<bos>, C, I, ., O, c, 1, n, c, c, c, c, 1, Br...   \n",
       "molt5                               [, CI, ., O, c, 1, n, c, c, c, c, 1, B, r, </s>]   \n",
       "SmilesTokenizer                             [C, I, ., O, c, 1, n, c, c, c, c, 1, Br]   \n",
       "BasicSmilesTokenizer                        [C, I, ., O, c, 1, n, c, c, c, c, 1, Br]   \n",
       "pysmilesutils_SMILESTokenizer      [[^, C, &], [^, I, &], [^, ., &], [^, O, &], [...   \n",
       "pysmilesutils_SMILESAtomTokenizer   [[^, C, I, ., O, c, 1, n, c, c, c, c, 1, Br, &]]   \n",
       "\n",
       "                                  COC(=O)Cc1c(C)nn(Cc2ccc(C=O)cc2)c1C.[Mg+]Cc1ccccc1  \\\n",
       "spacy                              (COC(=O)Cc1c(C)nn(Cc2ccc(C, =, O)cc2)c1C.[Mg+]...   \n",
       "bloom560m                          [CO, C, (, =, O, ), C, c1, c, (, C, ), nn, (, ...   \n",
       "mistral7                           [<s>, CO, C, (, =, O, ), C, c, 1, c, (, C, ), ...   \n",
       "falcon7                            [CO, C, (=, O, ), C, c, 1, c, (, C, ), nn, (, ...   \n",
       "falcon180B                         [CO, C, (=, O, ), C, c, 1, c, (, C, ), nn, (, ...   \n",
       "regex                              [C, O, C, (, =, O, ), C, c, 1, c, (, C, ), n, ...   \n",
       "GIMLET                             [CO, C, (, =, O, ), C, c, 1, c, (, C, ), n, n,...   \n",
       "ChemBERTa                          [<s>, COC, (=, O, ), Cc, 1, c, (, C, ), nn, (,...   \n",
       "chemical-bert                      [[CLS], coc, (, =, o, ), cc, ##1, ##c, (, c, )...   \n",
       "MoLFormer                          [<bos>, C, O, C, (, =, O, ), C, c, 1, c, (, C,...   \n",
       "molt5                              [CO, C, (, =, O, ), C, c, 1, c, (, C, ), n, n,...   \n",
       "SmilesTokenizer                    [C, O, C, (, =, O, ), C, c, 1, c, (, C, ), n, ...   \n",
       "BasicSmilesTokenizer               [C, O, C, (, =, O, ), C, c, 1, c, (, C, ), n, ...   \n",
       "pysmilesutils_SMILESTokenizer      [[^, C, &], [^, O, &], [^, C, &], [^, (, &], [...   \n",
       "pysmilesutils_SMILESAtomTokenizer  [[^, C, O, C, (, =, O, ), C, c, 1, c, (, C, ),...   \n",
       "\n",
       "                                                                     N#Cc1ccnc(CO)c1  \\\n",
       "spacy                                                              (N#Cc1ccnc(CO)c1)   \n",
       "bloom560m                                        [N, #, C, c1, cc, nc, (, CO, ), c1]   \n",
       "mistral7                                [<s>, N, #, C, c, 1, cc, nc, (, CO, ), c, 1]   \n",
       "falcon7                                      [N, #, C, c, 1, cc, nc, (, CO, ), c, 1]   \n",
       "falcon180B                                   [N, #, C, c, 1, cc, nc, (, CO, ), c, 1]   \n",
       "regex                                  [N, #, C, c, 1, c, c, n, c, (, C, O, ), c, 1]   \n",
       "GIMLET                             [N, #, C, c, 1, c, c, n, c, (, CO, ), c, 1, </s>]   \n",
       "ChemBERTa                             [<s>, N, #, Cc, 1, ccnc, (, CO, ), c, 1, </s>]   \n",
       "chemical-bert                      [[CLS], n, #, cc, ##1, ##cc, ##nc, (, co, ), c...   \n",
       "MoLFormer                          [<bos>, N, #, C, c, 1, c, c, n, c, (, C, O, ),...   \n",
       "molt5                              [N, #, C, c, 1, c, c, n, c, (, CO, ), c, 1, </s>]   \n",
       "SmilesTokenizer                        [N, #, C, c, 1, c, c, n, c, (, C, O, ), c, 1]   \n",
       "BasicSmilesTokenizer                   [N, #, C, c, 1, c, c, n, c, (, C, O, ), c, 1]   \n",
       "pysmilesutils_SMILESTokenizer      [[^, N, &], [^, #, &], [^, C, &], [^, c, &], [...   \n",
       "pysmilesutils_SMILESAtomTokenizer  [[^, N, #, C, c, 1, c, c, n, c, (, C, O, ), c,...   \n",
       "\n",
       "                                                   C=C(O)C(=O)N [O-]C(=O)C1=CC=CC=C1  \\\n",
       "spacy                              (C, =, C(O)C(=O)N, [, O-]C(=O)C1, =, CC, =, CC...   \n",
       "bloom560m                          [C, =C, (, O, ), C, (, =, O, ), N,  [, O, -], ...   \n",
       "mistral7                           [<s>, C, =, C, (, O, ), C, (, =, O, ), N, [, O...   \n",
       "falcon7                            [C, =, C, (, O, ), C, (=, O, ), N,  , [, O, -,...   \n",
       "falcon180B                         [C, =, C, (, O, ), C, (=, O, ), N,  , [, O, -,...   \n",
       "regex                              [C, =, C, (, O, ), C, (, =, O, ), N, [O-], C, ...   \n",
       "GIMLET                             [C, =, C, (, O, ), C, (, =, O, ), N, [, O, -, ...   \n",
       "ChemBERTa                          [<s>, C, =, C, (, O, ), C, (=, O, ), N,  , [, ...   \n",
       "chemical-bert                      [[CLS], c, =, c, (, o, ), c, (, =, o, ), n, [,...   \n",
       "MoLFormer                          [<bos>, C, =, C, (, O, ), C, (, =, O, ), N, [O...   \n",
       "molt5                              [C, =, C, (, O, ), C, (, =, O, ), N, [, O, -, ...   \n",
       "SmilesTokenizer                    [C, =, C, (, O, ), C, (, =, O, ), N, [O-], C, ...   \n",
       "BasicSmilesTokenizer               [C, =, C, (, O, ), C, (, =, O, ), N, [O-], C, ...   \n",
       "pysmilesutils_SMILESTokenizer      [[^, C, &], [^, =, &], [^, C, &], [^, (, &], [...   \n",
       "pysmilesutils_SMILESAtomTokenizer  [[^, C, =, C, (, O, ), C, (, =, O, ), N,  , [,...   \n",
       "\n",
       "                                                              C1CC[13CH2]CC1C1CCCCC1  \\\n",
       "spacy                                                       (C1CC[13CH2]CC1C1CCCCC1)   \n",
       "bloom560m                             [C1, CC, [, 13, CH, 2], CC, 1, C1, CC, CCC, 1]   \n",
       "mistral7                           [<s>, C, 1, CC, [, 1, 3, CH, 2, ], CC, 1, C, 1...   \n",
       "falcon7                            [C, 1, CC, [, 13, CH, 2, ], CC, 1, C, 1, CC, C...   \n",
       "falcon180B                         [C, 1, CC, [, 13, CH, 2, ], CC, 1, C, 1, CC, C...   \n",
       "regex                              [C, 1, C, C, [13CH2], C, C, 1, C, 1, C, C, C, ...   \n",
       "GIMLET                             [C, 1, CC, [, 13, CH, 2, ], CC, 1, C, 1, C, CC...   \n",
       "ChemBERTa                          [<s>, C, 1, CC, [, 13, CH, 2, ], CC, 1, C, 1, ...   \n",
       "chemical-bert                      [[CLS], c, ##1, ##cc, [, 13, ##ch, ##2, ], cc,...   \n",
       "MoLFormer                          [<bos>, C, 1, C, C, [13CH2], C, C, 1, C, 1, C,...   \n",
       "molt5                              [C, 1, CC, [, 13, CH, 2, ], CC, 1, C, 1, C, CC...   \n",
       "SmilesTokenizer                    [C, 1, C, C, [13CH2], C, C, 1, C, 1, C, C, C, ...   \n",
       "BasicSmilesTokenizer               [C, 1, C, C, [13CH2], C, C, 1, C, 1, C, C, C, ...   \n",
       "pysmilesutils_SMILESTokenizer      [[^, C, &], [^, 1, &], [^, C, &], [^, C, &], [...   \n",
       "pysmilesutils_SMILESAtomTokenizer  [[^, C, 1, C, C, [, 1, 3, C, H, 2, ], C, C, 1,...   \n",
       "\n",
       "                                                C1=CC2=C(C(=C1)[O-])NC(=CC2=O)C(=O)O  \\\n",
       "spacy                              (C1, =, CC2, =, C(C(=C1)[O-])NC(=CC2, =, O)C(=...   \n",
       "bloom560m                          [C1, =, CC, 2=, C, (, C, (, =, C1, ), [, O, -]...   \n",
       "mistral7                           [<s>, C, 1, =, CC, 2, =, C, (, C, (, =, C, 1, ...   \n",
       "falcon7                            [C, 1, =, CC, 2, =, C, (, C, (=, C, 1, )[, O, ...   \n",
       "falcon180B                         [C, 1, =, CC, 2, =, C, (, C, (=, C, 1, )[, O, ...   \n",
       "regex                              [C, 1, =, C, C, 2, =, C, (, C, (, =, C, 1, ), ...   \n",
       "GIMLET                             [C, 1, =, CC, 2, =, C, (, C, (, =, C, 1), [, O...   \n",
       "ChemBERTa                          [<s>, C, 1, =, CC, 2, =, C, (, C, (=, C, 1, )[...   \n",
       "chemical-bert                      [[CLS], c, ##1, =, cc, ##2, =, c, (, c, (, =, ...   \n",
       "MoLFormer                          [<bos>, C, 1, =, C, C, 2, =, C, (, C, (, =, C,...   \n",
       "molt5                              [C, 1, =, CC, 2, =, C, (, C, (, =, C, 1), [, O...   \n",
       "SmilesTokenizer                    [C, 1, =, C, C, 2, =, C, (, C, (, =, C, 1, ), ...   \n",
       "BasicSmilesTokenizer               [C, 1, =, C, C, 2, =, C, (, C, (, =, C, 1, ), ...   \n",
       "pysmilesutils_SMILESTokenizer      [[^, C, &], [^, 1, &], [^, =, &], [^, C, &], [...   \n",
       "pysmilesutils_SMILESAtomTokenizer  [[^, C, 1, =, C, C, 2, =, C, (, C, (, =, C, 1,...   \n",
       "\n",
       "                                  C([13C]N(CC(=O)[O-])CC(=O)[O-])N(CC#N)CC(=O)[O-].[Na+].[Na+].[Na+]  \n",
       "spacy                              (C([13C]N(CC(=O)[O-])CC(=O)[O-])N(CC#N)CC(=O)[...                  \n",
       "bloom560m                          [C, (, [, 13, C], N, (, CC, (, =, O, ), [, O, ...                  \n",
       "mistral7                           [<s>, C, ([, 1, 3, C, ], N, (, CC, (, =, O, )[...                  \n",
       "falcon7                            [C, ([, 13, C, ], N, (, CC, (=, O, )[, O, -, ]...                  \n",
       "falcon180B                         [C, ([, 13, C, ], N, (, CC, (=, O, )[, O, -, ]...                  \n",
       "regex                              [C, (, [13C], N, (, C, C, (, =, O, ), [O-], ),...                  \n",
       "GIMLET                             [C, (, [, 13, C, ], N, (, CC, (, =, O, ), [, O...                  \n",
       "ChemBERTa                          [<s>, C, ([, 13, C, ], N, (, CC, (=, O, )[, O,...                  \n",
       "chemical-bert                      [[CLS], c, (, [, 13, ##c, ], n, (, cc, (, =, o...                  \n",
       "MoLFormer                          [<bos>, C, (, [13C], N, (, C, C, (, =, O, ), [...                  \n",
       "molt5                              [C, (, [, 13, C, ], N, (, CC, (, =, O, ), [, O...                  \n",
       "SmilesTokenizer                    [C, (, [13C], N, (, C, C, (, =, O, ), [O-], ),...                  \n",
       "BasicSmilesTokenizer               [C, (, [13C], N, (, C, C, (, =, O, ), [O-], ),...                  \n",
       "pysmilesutils_SMILESTokenizer      [[^, C, &], [^, (, &], [^, [, &], [^, 1, &], [...                  \n",
       "pysmilesutils_SMILESAtomTokenizer  [[^, C, (, [, 1, 3, C, ], N, (, C, C, (, =, O,...                  "
      ],
      "text/html": [
       "\n",
       "  <div id=\"df-d60570d7-6eee-4ef7-b580-6ac29d6a80fd\" class=\"colab-df-container\">\n",
       "    <div>\n",
       "<style scoped>\n",
       "    .dataframe tbody tr th:only-of-type {\n",
       "        vertical-align: middle;\n",
       "    }\n",
       "\n",
       "    .dataframe tbody tr th {\n",
       "        vertical-align: top;\n",
       "    }\n",
       "\n",
       "    .dataframe thead th {\n",
       "        text-align: right;\n",
       "    }\n",
       "</style>\n",
       "<table border=\"1\" class=\"dataframe\">\n",
       "  <thead>\n",
       "    <tr style=\"text-align: right;\">\n",
       "      <th></th>\n",
       "      <th>ClCCCN1CCCC1</th>\n",
       "      <th>CI.Oc1ncccc1Br</th>\n",
       "      <th>COC(=O)Cc1c(C)nn(Cc2ccc(C=O)cc2)c1C.[Mg+]Cc1ccccc1</th>\n",
       "      <th>N#Cc1ccnc(CO)c1</th>\n",
       "      <th>C=C(O)C(=O)N [O-]C(=O)C1=CC=CC=C1</th>\n",
       "      <th>C1CC[13CH2]CC1C1CCCCC1</th>\n",
       "      <th>C1=CC2=C(C(=C1)[O-])NC(=CC2=O)C(=O)O</th>\n",
       "      <th>C([13C]N(CC(=O)[O-])CC(=O)[O-])N(CC#N)CC(=O)[O-].[Na+].[Na+].[Na+]</th>\n",
       "    </tr>\n",
       "  </thead>\n",
       "  <tbody>\n",
       "    <tr>\n",
       "      <th>spacy</th>\n",
       "      <td>(ClCCCN1CCCC1)</td>\n",
       "      <td>(CI.Oc1ncccc1Br)</td>\n",
       "      <td>(COC(=O)Cc1c(C)nn(Cc2ccc(C, =, O)cc2)c1C.[Mg+]...</td>\n",
       "      <td>(N#Cc1ccnc(CO)c1)</td>\n",
       "      <td>(C, =, C(O)C(=O)N, [, O-]C(=O)C1, =, CC, =, CC...</td>\n",
       "      <td>(C1CC[13CH2]CC1C1CCCCC1)</td>\n",
       "      <td>(C1, =, CC2, =, C(C(=C1)[O-])NC(=CC2, =, O)C(=...</td>\n",
       "      <td>(C([13C]N(CC(=O)[O-])CC(=O)[O-])N(CC#N)CC(=O)[...</td>\n",
       "    </tr>\n",
       "    <tr>\n",
       "      <th>bloom560m</th>\n",
       "      <td>[Cl, CC, CN, 1, CCCC, 1]</td>\n",
       "      <td>[CI, ., O, c1, n, cccc, 1, Br]</td>\n",
       "      <td>[CO, C, (, =, O, ), C, c1, c, (, C, ), nn, (, ...</td>\n",
       "      <td>[N, #, C, c1, cc, nc, (, CO, ), c1]</td>\n",
       "      <td>[C, =C, (, O, ), C, (, =, O, ), N,  [, O, -], ...</td>\n",
       "      <td>[C1, CC, [, 13, CH, 2], CC, 1, C1, CC, CCC, 1]</td>\n",
       "      <td>[C1, =, CC, 2=, C, (, C, (, =, C1, ), [, O, -]...</td>\n",
       "      <td>[C, (, [, 13, C], N, (, CC, (, =, O, ), [, O, ...</td>\n",
       "    </tr>\n",
       "    <tr>\n",
       "      <th>mistral7</th>\n",
       "      <td>[&lt;s&gt;, Cl, CC, CN, 1, CC, CC, 1]</td>\n",
       "      <td>[&lt;s&gt;, C, I, ., O, c, 1, n, cccc, 1, Br]</td>\n",
       "      <td>[&lt;s&gt;, CO, C, (, =, O, ), C, c, 1, c, (, C, ), ...</td>\n",
       "      <td>[&lt;s&gt;, N, #, C, c, 1, cc, nc, (, CO, ), c, 1]</td>\n",
       "      <td>[&lt;s&gt;, C, =, C, (, O, ), C, (, =, O, ), N, [, O...</td>\n",
       "      <td>[&lt;s&gt;, C, 1, CC, [, 1, 3, CH, 2, ], CC, 1, C, 1...</td>\n",
       "      <td>[&lt;s&gt;, C, 1, =, CC, 2, =, C, (, C, (, =, C, 1, ...</td>\n",
       "      <td>[&lt;s&gt;, C, ([, 1, 3, C, ], N, (, CC, (, =, O, )[...</td>\n",
       "    </tr>\n",
       "    <tr>\n",
       "      <th>falcon7</th>\n",
       "      <td>[Cl, CC, CN, 1, CC, CC, 1]</td>\n",
       "      <td>[CI, ., O, c, 1, n, cc, cc, 1, Br]</td>\n",
       "      <td>[CO, C, (=, O, ), C, c, 1, c, (, C, ), nn, (, ...</td>\n",
       "      <td>[N, #, C, c, 1, cc, nc, (, CO, ), c, 1]</td>\n",
       "      <td>[C, =, C, (, O, ), C, (=, O, ), N,  , [, O, -,...</td>\n",
       "      <td>[C, 1, CC, [, 13, CH, 2, ], CC, 1, C, 1, CC, C...</td>\n",
       "      <td>[C, 1, =, CC, 2, =, C, (, C, (=, C, 1, )[, O, ...</td>\n",
       "      <td>[C, ([, 13, C, ], N, (, CC, (=, O, )[, O, -, ]...</td>\n",
       "    </tr>\n",
       "    <tr>\n",
       "      <th>falcon180B</th>\n",
       "      <td>[Cl, CC, CN, 1, CC, CC, 1]</td>\n",
       "      <td>[CI, ., O, c, 1, n, cc, cc, 1, Br]</td>\n",
       "      <td>[CO, C, (=, O, ), C, c, 1, c, (, C, ), nn, (, ...</td>\n",
       "      <td>[N, #, C, c, 1, cc, nc, (, CO, ), c, 1]</td>\n",
       "      <td>[C, =, C, (, O, ), C, (=, O, ), N,  , [, O, -,...</td>\n",
       "      <td>[C, 1, CC, [, 13, CH, 2, ], CC, 1, C, 1, CC, C...</td>\n",
       "      <td>[C, 1, =, CC, 2, =, C, (, C, (=, C, 1, )[, O, ...</td>\n",
       "      <td>[C, ([, 13, C, ], N, (, CC, (=, O, )[, O, -, ]...</td>\n",
       "    </tr>\n",
       "    <tr>\n",
       "      <th>regex</th>\n",
       "      <td>[Cl, C, C, C, N, 1, C, C, C, C, 1]</td>\n",
       "      <td>[C, I, ., O, c, 1, n, c, c, c, c, 1, Br]</td>\n",
       "      <td>[C, O, C, (, =, O, ), C, c, 1, c, (, C, ), n, ...</td>\n",
       "      <td>[N, #, C, c, 1, c, c, n, c, (, C, O, ), c, 1]</td>\n",
       "      <td>[C, =, C, (, O, ), C, (, =, O, ), N, [O-], C, ...</td>\n",
       "      <td>[C, 1, C, C, [13CH2], C, C, 1, C, 1, C, C, C, ...</td>\n",
       "      <td>[C, 1, =, C, C, 2, =, C, (, C, (, =, C, 1, ), ...</td>\n",
       "      <td>[C, (, [13C], N, (, C, C, (, =, O, ), [O-], ),...</td>\n",
       "    </tr>\n",
       "    <tr>\n",
       "      <th>GIMLET</th>\n",
       "      <td>[Cl, CC, CN, 1, CC, CC, 1, &lt;/s&gt;]</td>\n",
       "      <td>[, CI, ., O, c, 1, n, c, c, c, c, 1, B, r, &lt;/s&gt;]</td>\n",
       "      <td>[CO, C, (, =, O, ), C, c, 1, c, (, C, ), n, n,...</td>\n",
       "      <td>[N, #, C, c, 1, c, c, n, c, (, CO, ), c, 1, &lt;/s&gt;]</td>\n",
       "      <td>[C, =, C, (, O, ), C, (, =, O, ), N, [, O, -, ...</td>\n",
       "      <td>[C, 1, CC, [, 13, CH, 2, ], CC, 1, C, 1, C, CC...</td>\n",
       "      <td>[C, 1, =, CC, 2, =, C, (, C, (, =, C, 1), [, O...</td>\n",
       "      <td>[C, (, [, 13, C, ], N, (, CC, (, =, O, ), [, O...</td>\n",
       "    </tr>\n",
       "    <tr>\n",
       "      <th>ChemBERTa</th>\n",
       "      <td>[&lt;s&gt;, Cl, CCCN, 1, CCCC, 1, &lt;/s&gt;]</td>\n",
       "      <td>[&lt;s&gt;, CI, ., Oc, 1, ncccc, 1, Br, &lt;/s&gt;]</td>\n",
       "      <td>[&lt;s&gt;, COC, (=, O, ), Cc, 1, c, (, C, ), nn, (,...</td>\n",
       "      <td>[&lt;s&gt;, N, #, Cc, 1, ccnc, (, CO, ), c, 1, &lt;/s&gt;]</td>\n",
       "      <td>[&lt;s&gt;, C, =, C, (, O, ), C, (=, O, ), N,  , [, ...</td>\n",
       "      <td>[&lt;s&gt;, C, 1, CC, [, 13, CH, 2, ], CC, 1, C, 1, ...</td>\n",
       "      <td>[&lt;s&gt;, C, 1, =, CC, 2, =, C, (, C, (=, C, 1, )[...</td>\n",
       "      <td>[&lt;s&gt;, C, ([, 13, C, ], N, (, CC, (=, O, )[, O,...</td>\n",
       "    </tr>\n",
       "    <tr>\n",
       "      <th>chemical-bert</th>\n",
       "      <td>[[CLS], cl, ##ccc, ##n, ##1, ##ccc, ##c, ##1, ...</td>\n",
       "      <td>[[CLS], ci, ., oc, ##1, ##nc, ##ccc, ##1, ##br...</td>\n",
       "      <td>[[CLS], coc, (, =, o, ), cc, ##1, ##c, (, c, )...</td>\n",
       "      <td>[[CLS], n, #, cc, ##1, ##cc, ##nc, (, co, ), c...</td>\n",
       "      <td>[[CLS], c, =, c, (, o, ), c, (, =, o, ), n, [,...</td>\n",
       "      <td>[[CLS], c, ##1, ##cc, [, 13, ##ch, ##2, ], cc,...</td>\n",
       "      <td>[[CLS], c, ##1, =, cc, ##2, =, c, (, c, (, =, ...</td>\n",
       "      <td>[[CLS], c, (, [, 13, ##c, ], n, (, cc, (, =, o...</td>\n",
       "    </tr>\n",
       "    <tr>\n",
       "      <th>MoLFormer</th>\n",
       "      <td>[&lt;bos&gt;, Cl, C, C, C, N, 1, C, C, C, C, 1, &lt;eos&gt;]</td>\n",
       "      <td>[&lt;bos&gt;, C, I, ., O, c, 1, n, c, c, c, c, 1, Br...</td>\n",
       "      <td>[&lt;bos&gt;, C, O, C, (, =, O, ), C, c, 1, c, (, C,...</td>\n",
       "      <td>[&lt;bos&gt;, N, #, C, c, 1, c, c, n, c, (, C, O, ),...</td>\n",
       "      <td>[&lt;bos&gt;, C, =, C, (, O, ), C, (, =, O, ), N, [O...</td>\n",
       "      <td>[&lt;bos&gt;, C, 1, C, C, [13CH2], C, C, 1, C, 1, C,...</td>\n",
       "      <td>[&lt;bos&gt;, C, 1, =, C, C, 2, =, C, (, C, (, =, C,...</td>\n",
       "      <td>[&lt;bos&gt;, C, (, [13C], N, (, C, C, (, =, O, ), [...</td>\n",
       "    </tr>\n",
       "    <tr>\n",
       "      <th>molt5</th>\n",
       "      <td>[Cl, CC, CN, 1, CC, CC, 1, &lt;/s&gt;]</td>\n",
       "      <td>[, CI, ., O, c, 1, n, c, c, c, c, 1, B, r, &lt;/s&gt;]</td>\n",
       "      <td>[CO, C, (, =, O, ), C, c, 1, c, (, C, ), n, n,...</td>\n",
       "      <td>[N, #, C, c, 1, c, c, n, c, (, CO, ), c, 1, &lt;/s&gt;]</td>\n",
       "      <td>[C, =, C, (, O, ), C, (, =, O, ), N, [, O, -, ...</td>\n",
       "      <td>[C, 1, CC, [, 13, CH, 2, ], CC, 1, C, 1, C, CC...</td>\n",
       "      <td>[C, 1, =, CC, 2, =, C, (, C, (, =, C, 1), [, O...</td>\n",
       "      <td>[C, (, [, 13, C, ], N, (, CC, (, =, O, ), [, O...</td>\n",
       "    </tr>\n",
       "    <tr>\n",
       "      <th>SmilesTokenizer</th>\n",
       "      <td>[Cl, C, C, C, N, 1, C, C, C, C, 1]</td>\n",
       "      <td>[C, I, ., O, c, 1, n, c, c, c, c, 1, Br]</td>\n",
       "      <td>[C, O, C, (, =, O, ), C, c, 1, c, (, C, ), n, ...</td>\n",
       "      <td>[N, #, C, c, 1, c, c, n, c, (, C, O, ), c, 1]</td>\n",
       "      <td>[C, =, C, (, O, ), C, (, =, O, ), N, [O-], C, ...</td>\n",
       "      <td>[C, 1, C, C, [13CH2], C, C, 1, C, 1, C, C, C, ...</td>\n",
       "      <td>[C, 1, =, C, C, 2, =, C, (, C, (, =, C, 1, ), ...</td>\n",
       "      <td>[C, (, [13C], N, (, C, C, (, =, O, ), [O-], ),...</td>\n",
       "    </tr>\n",
       "    <tr>\n",
       "      <th>BasicSmilesTokenizer</th>\n",
       "      <td>[Cl, C, C, C, N, 1, C, C, C, C, 1]</td>\n",
       "      <td>[C, I, ., O, c, 1, n, c, c, c, c, 1, Br]</td>\n",
       "      <td>[C, O, C, (, =, O, ), C, c, 1, c, (, C, ), n, ...</td>\n",
       "      <td>[N, #, C, c, 1, c, c, n, c, (, C, O, ), c, 1]</td>\n",
       "      <td>[C, =, C, (, O, ), C, (, =, O, ), N, [O-], C, ...</td>\n",
       "      <td>[C, 1, C, C, [13CH2], C, C, 1, C, 1, C, C, C, ...</td>\n",
       "      <td>[C, 1, =, C, C, 2, =, C, (, C, (, =, C, 1, ), ...</td>\n",
       "      <td>[C, (, [13C], N, (, C, C, (, =, O, ), [O-], ),...</td>\n",
       "    </tr>\n",
       "    <tr>\n",
       "      <th>pysmilesutils_SMILESTokenizer</th>\n",
       "      <td>[[^, C, &amp;], [^, l, &amp;], [^, C, &amp;], [^, C, &amp;], [...</td>\n",
       "      <td>[[^, C, &amp;], [^, I, &amp;], [^, ., &amp;], [^, O, &amp;], [...</td>\n",
       "      <td>[[^, C, &amp;], [^, O, &amp;], [^, C, &amp;], [^, (, &amp;], [...</td>\n",
       "      <td>[[^, N, &amp;], [^, #, &amp;], [^, C, &amp;], [^, c, &amp;], [...</td>\n",
       "      <td>[[^, C, &amp;], [^, =, &amp;], [^, C, &amp;], [^, (, &amp;], [...</td>\n",
       "      <td>[[^, C, &amp;], [^, 1, &amp;], [^, C, &amp;], [^, C, &amp;], [...</td>\n",
       "      <td>[[^, C, &amp;], [^, 1, &amp;], [^, =, &amp;], [^, C, &amp;], [...</td>\n",
       "      <td>[[^, C, &amp;], [^, (, &amp;], [^, [, &amp;], [^, 1, &amp;], [...</td>\n",
       "    </tr>\n",
       "    <tr>\n",
       "      <th>pysmilesutils_SMILESAtomTokenizer</th>\n",
       "      <td>[[^, Cl, C, C, C, N, 1, C, C, C, C, 1, &amp;]]</td>\n",
       "      <td>[[^, C, I, ., O, c, 1, n, c, c, c, c, 1, Br, &amp;]]</td>\n",
       "      <td>[[^, C, O, C, (, =, O, ), C, c, 1, c, (, C, ),...</td>\n",
       "      <td>[[^, N, #, C, c, 1, c, c, n, c, (, C, O, ), c,...</td>\n",
       "      <td>[[^, C, =, C, (, O, ), C, (, =, O, ), N,  , [,...</td>\n",
       "      <td>[[^, C, 1, C, C, [, 1, 3, C, H, 2, ], C, C, 1,...</td>\n",
       "      <td>[[^, C, 1, =, C, C, 2, =, C, (, C, (, =, C, 1,...</td>\n",
       "      <td>[[^, C, (, [, 1, 3, C, ], N, (, C, C, (, =, O,...</td>\n",
       "    </tr>\n",
       "  </tbody>\n",
       "</table>\n",
       "</div>\n",
       "    <div class=\"colab-df-buttons\">\n",
       "\n",
       "  <div class=\"colab-df-container\">\n",
       "    <button class=\"colab-df-convert\" onclick=\"convertToInteractive('df-d60570d7-6eee-4ef7-b580-6ac29d6a80fd')\"\n",
       "            title=\"Convert this dataframe to an interactive table.\"\n",
       "            style=\"display:none;\">\n",
       "\n",
       "  <svg xmlns=\"http://www.w3.org/2000/svg\" height=\"24px\" viewBox=\"0 -960 960 960\">\n",
       "    <path d=\"M120-120v-720h720v720H120Zm60-500h600v-160H180v160Zm220 220h160v-160H400v160Zm0 220h160v-160H400v160ZM180-400h160v-160H180v160Zm440 0h160v-160H620v160ZM180-180h160v-160H180v160Zm440 0h160v-160H620v160Z\"/>\n",
       "  </svg>\n",
       "    </button>\n",
       "\n",
       "  <style>\n",
       "    .colab-df-container {\n",
       "      display:flex;\n",
       "      gap: 12px;\n",
       "    }\n",
       "\n",
       "    .colab-df-convert {\n",
       "      background-color: #E8F0FE;\n",
       "      border: none;\n",
       "      border-radius: 50%;\n",
       "      cursor: pointer;\n",
       "      display: none;\n",
       "      fill: #1967D2;\n",
       "      height: 32px;\n",
       "      padding: 0 0 0 0;\n",
       "      width: 32px;\n",
       "    }\n",
       "\n",
       "    .colab-df-convert:hover {\n",
       "      background-color: #E2EBFA;\n",
       "      box-shadow: 0px 1px 2px rgba(60, 64, 67, 0.3), 0px 1px 3px 1px rgba(60, 64, 67, 0.15);\n",
       "      fill: #174EA6;\n",
       "    }\n",
       "\n",
       "    .colab-df-buttons div {\n",
       "      margin-bottom: 4px;\n",
       "    }\n",
       "\n",
       "    [theme=dark] .colab-df-convert {\n",
       "      background-color: #3B4455;\n",
       "      fill: #D2E3FC;\n",
       "    }\n",
       "\n",
       "    [theme=dark] .colab-df-convert:hover {\n",
       "      background-color: #434B5C;\n",
       "      box-shadow: 0px 1px 3px 1px rgba(0, 0, 0, 0.15);\n",
       "      filter: drop-shadow(0px 1px 2px rgba(0, 0, 0, 0.3));\n",
       "      fill: #FFFFFF;\n",
       "    }\n",
       "  </style>\n",
       "\n",
       "    <script>\n",
       "      const buttonEl =\n",
       "        document.querySelector('#df-d60570d7-6eee-4ef7-b580-6ac29d6a80fd button.colab-df-convert');\n",
       "      buttonEl.style.display =\n",
       "        google.colab.kernel.accessAllowed ? 'block' : 'none';\n",
       "\n",
       "      async function convertToInteractive(key) {\n",
       "        const element = document.querySelector('#df-d60570d7-6eee-4ef7-b580-6ac29d6a80fd');\n",
       "        const dataTable =\n",
       "          await google.colab.kernel.invokeFunction('convertToInteractive',\n",
       "                                                    [key], {});\n",
       "        if (!dataTable) return;\n",
       "\n",
       "        const docLinkHtml = 'Like what you see? Visit the ' +\n",
       "          '<a target=\"_blank\" href=https://colab.research.google.com/notebooks/data_table.ipynb>data table notebook</a>'\n",
       "          + ' to learn more about interactive tables.';\n",
       "        element.innerHTML = '';\n",
       "        dataTable['output_type'] = 'display_data';\n",
       "        await google.colab.output.renderOutput(dataTable, element);\n",
       "        const docLink = document.createElement('div');\n",
       "        docLink.innerHTML = docLinkHtml;\n",
       "        element.appendChild(docLink);\n",
       "      }\n",
       "    </script>\n",
       "  </div>\n",
       "\n",
       "\n",
       "    <div id=\"df-5e895ce1-c9af-4583-8a88-6ebc3b1814e6\">\n",
       "      <button class=\"colab-df-quickchart\" onclick=\"quickchart('df-5e895ce1-c9af-4583-8a88-6ebc3b1814e6')\"\n",
       "                title=\"Suggest charts\"\n",
       "                style=\"display:none;\">\n",
       "\n",
       "<svg xmlns=\"http://www.w3.org/2000/svg\" height=\"24px\"viewBox=\"0 0 24 24\"\n",
       "     width=\"24px\">\n",
       "    <g>\n",
       "        <path d=\"M19 3H5c-1.1 0-2 .9-2 2v14c0 1.1.9 2 2 2h14c1.1 0 2-.9 2-2V5c0-1.1-.9-2-2-2zM9 17H7v-7h2v7zm4 0h-2V7h2v10zm4 0h-2v-4h2v4z\"/>\n",
       "    </g>\n",
       "</svg>\n",
       "      </button>\n",
       "\n",
       "<style>\n",
       "  .colab-df-quickchart {\n",
       "      --bg-color: #E8F0FE;\n",
       "      --fill-color: #1967D2;\n",
       "      --hover-bg-color: #E2EBFA;\n",
       "      --hover-fill-color: #174EA6;\n",
       "      --disabled-fill-color: #AAA;\n",
       "      --disabled-bg-color: #DDD;\n",
       "  }\n",
       "\n",
       "  [theme=dark] .colab-df-quickchart {\n",
       "      --bg-color: #3B4455;\n",
       "      --fill-color: #D2E3FC;\n",
       "      --hover-bg-color: #434B5C;\n",
       "      --hover-fill-color: #FFFFFF;\n",
       "      --disabled-bg-color: #3B4455;\n",
       "      --disabled-fill-color: #666;\n",
       "  }\n",
       "\n",
       "  .colab-df-quickchart {\n",
       "    background-color: var(--bg-color);\n",
       "    border: none;\n",
       "    border-radius: 50%;\n",
       "    cursor: pointer;\n",
       "    display: none;\n",
       "    fill: var(--fill-color);\n",
       "    height: 32px;\n",
       "    padding: 0;\n",
       "    width: 32px;\n",
       "  }\n",
       "\n",
       "  .colab-df-quickchart:hover {\n",
       "    background-color: var(--hover-bg-color);\n",
       "    box-shadow: 0 1px 2px rgba(60, 64, 67, 0.3), 0 1px 3px 1px rgba(60, 64, 67, 0.15);\n",
       "    fill: var(--button-hover-fill-color);\n",
       "  }\n",
       "\n",
       "  .colab-df-quickchart-complete:disabled,\n",
       "  .colab-df-quickchart-complete:disabled:hover {\n",
       "    background-color: var(--disabled-bg-color);\n",
       "    fill: var(--disabled-fill-color);\n",
       "    box-shadow: none;\n",
       "  }\n",
       "\n",
       "  .colab-df-spinner {\n",
       "    border: 2px solid var(--fill-color);\n",
       "    border-color: transparent;\n",
       "    border-bottom-color: var(--fill-color);\n",
       "    animation:\n",
       "      spin 1s steps(1) infinite;\n",
       "  }\n",
       "\n",
       "  @keyframes spin {\n",
       "    0% {\n",
       "      border-color: transparent;\n",
       "      border-bottom-color: var(--fill-color);\n",
       "      border-left-color: var(--fill-color);\n",
       "    }\n",
       "    20% {\n",
       "      border-color: transparent;\n",
       "      border-left-color: var(--fill-color);\n",
       "      border-top-color: var(--fill-color);\n",
       "    }\n",
       "    30% {\n",
       "      border-color: transparent;\n",
       "      border-left-color: var(--fill-color);\n",
       "      border-top-color: var(--fill-color);\n",
       "      border-right-color: var(--fill-color);\n",
       "    }\n",
       "    40% {\n",
       "      border-color: transparent;\n",
       "      border-right-color: var(--fill-color);\n",
       "      border-top-color: var(--fill-color);\n",
       "    }\n",
       "    60% {\n",
       "      border-color: transparent;\n",
       "      border-right-color: var(--fill-color);\n",
       "    }\n",
       "    80% {\n",
       "      border-color: transparent;\n",
       "      border-right-color: var(--fill-color);\n",
       "      border-bottom-color: var(--fill-color);\n",
       "    }\n",
       "    90% {\n",
       "      border-color: transparent;\n",
       "      border-bottom-color: var(--fill-color);\n",
       "    }\n",
       "  }\n",
       "</style>\n",
       "\n",
       "      <script>\n",
       "        async function quickchart(key) {\n",
       "          const quickchartButtonEl =\n",
       "            document.querySelector('#' + key + ' button');\n",
       "          quickchartButtonEl.disabled = true;  // To prevent multiple clicks.\n",
       "          quickchartButtonEl.classList.add('colab-df-spinner');\n",
       "          try {\n",
       "            const charts = await google.colab.kernel.invokeFunction(\n",
       "                'suggestCharts', [key], {});\n",
       "          } catch (error) {\n",
       "            console.error('Error during call to suggestCharts:', error);\n",
       "          }\n",
       "          quickchartButtonEl.classList.remove('colab-df-spinner');\n",
       "          quickchartButtonEl.classList.add('colab-df-quickchart-complete');\n",
       "        }\n",
       "        (() => {\n",
       "          let quickchartButtonEl =\n",
       "            document.querySelector('#df-5e895ce1-c9af-4583-8a88-6ebc3b1814e6 button');\n",
       "          quickchartButtonEl.style.display =\n",
       "            google.colab.kernel.accessAllowed ? 'block' : 'none';\n",
       "        })();\n",
       "      </script>\n",
       "    </div>\n",
       "\n",
       "  <div id=\"id_738fba3d-022f-4b3b-9327-94108c4fcadf\">\n",
       "    <style>\n",
       "      .colab-df-generate {\n",
       "        background-color: #E8F0FE;\n",
       "        border: none;\n",
       "        border-radius: 50%;\n",
       "        cursor: pointer;\n",
       "        display: none;\n",
       "        fill: #1967D2;\n",
       "        height: 32px;\n",
       "        padding: 0 0 0 0;\n",
       "        width: 32px;\n",
       "      }\n",
       "\n",
       "      .colab-df-generate:hover {\n",
       "        background-color: #E2EBFA;\n",
       "        box-shadow: 0px 1px 2px rgba(60, 64, 67, 0.3), 0px 1px 3px 1px rgba(60, 64, 67, 0.15);\n",
       "        fill: #174EA6;\n",
       "      }\n",
       "\n",
       "      [theme=dark] .colab-df-generate {\n",
       "        background-color: #3B4455;\n",
       "        fill: #D2E3FC;\n",
       "      }\n",
       "\n",
       "      [theme=dark] .colab-df-generate:hover {\n",
       "        background-color: #434B5C;\n",
       "        box-shadow: 0px 1px 3px 1px rgba(0, 0, 0, 0.15);\n",
       "        filter: drop-shadow(0px 1px 2px rgba(0, 0, 0, 0.3));\n",
       "        fill: #FFFFFF;\n",
       "      }\n",
       "    </style>\n",
       "    <button class=\"colab-df-generate\" onclick=\"generateWithVariable('df')\"\n",
       "            title=\"Generate code using this dataframe.\"\n",
       "            style=\"display:none;\">\n",
       "\n",
       "  <svg xmlns=\"http://www.w3.org/2000/svg\" height=\"24px\"viewBox=\"0 0 24 24\"\n",
       "       width=\"24px\">\n",
       "    <path d=\"M7,19H8.4L18.45,9,17,7.55,7,17.6ZM5,21V16.75L18.45,3.32a2,2,0,0,1,2.83,0l1.4,1.43a1.91,1.91,0,0,1,.58,1.4,1.91,1.91,0,0,1-.58,1.4L9.25,21ZM18.45,9,17,7.55Zm-12,3A5.31,5.31,0,0,0,4.9,8.1,5.31,5.31,0,0,0,1,6.5,5.31,5.31,0,0,0,4.9,4.9,5.31,5.31,0,0,0,6.5,1,5.31,5.31,0,0,0,8.1,4.9,5.31,5.31,0,0,0,12,6.5,5.46,5.46,0,0,0,6.5,12Z\"/>\n",
       "  </svg>\n",
       "    </button>\n",
       "    <script>\n",
       "      (() => {\n",
       "      const buttonEl =\n",
       "        document.querySelector('#id_738fba3d-022f-4b3b-9327-94108c4fcadf button.colab-df-generate');\n",
       "      buttonEl.style.display =\n",
       "        google.colab.kernel.accessAllowed ? 'block' : 'none';\n",
       "\n",
       "      buttonEl.onclick = () => {\n",
       "        google.colab.notebook.generateWithVariable('df');\n",
       "      }\n",
       "      })();\n",
       "    </script>\n",
       "  </div>\n",
       "\n",
       "    </div>\n",
       "  </div>\n"
      ],
      "application/vnd.google.colaboratory.intrinsic+json": {
       "type": "dataframe",
       "variable_name": "df",
       "summary": "{\n  \"name\": \"df\",\n  \"rows\": 15,\n  \"fields\": [\n    {\n      \"column\": \"ClCCCN1CCCC1\",\n      \"properties\": {\n        \"dtype\": \"object\",\n        \"semantic_type\": \"\",\n        \"description\": \"\"\n      }\n    },\n    {\n      \"column\": \"CI.Oc1ncccc1Br\",\n      \"properties\": {\n        \"dtype\": \"object\",\n        \"semantic_type\": \"\",\n        \"description\": \"\"\n      }\n    },\n    {\n      \"column\": \"COC(=O)Cc1c(C)nn(Cc2ccc(C=O)cc2)c1C.[Mg+]Cc1ccccc1\",\n      \"properties\": {\n        \"dtype\": \"object\",\n        \"semantic_type\": \"\",\n        \"description\": \"\"\n      }\n    },\n    {\n      \"column\": \"N#Cc1ccnc(CO)c1\",\n      \"properties\": {\n        \"dtype\": \"object\",\n        \"semantic_type\": \"\",\n        \"description\": \"\"\n      }\n    },\n    {\n      \"column\": \"C=C(O)C(=O)N [O-]C(=O)C1=CC=CC=C1\",\n      \"properties\": {\n        \"dtype\": \"object\",\n        \"semantic_type\": \"\",\n        \"description\": \"\"\n      }\n    },\n    {\n      \"column\": \"C1CC[13CH2]CC1C1CCCCC1\",\n      \"properties\": {\n        \"dtype\": \"object\",\n        \"semantic_type\": \"\",\n        \"description\": \"\"\n      }\n    },\n    {\n      \"column\": \"C1=CC2=C(C(=C1)[O-])NC(=CC2=O)C(=O)O\",\n      \"properties\": {\n        \"dtype\": \"object\",\n        \"semantic_type\": \"\",\n        \"description\": \"\"\n      }\n    },\n    {\n      \"column\": \"C([13C]N(CC(=O)[O-])CC(=O)[O-])N(CC#N)CC(=O)[O-].[Na+].[Na+].[Na+]\",\n      \"properties\": {\n        \"dtype\": \"object\",\n        \"semantic_type\": \"\",\n        \"description\": \"\"\n      }\n    }\n  ]\n}"
      }
     },
     "metadata": {},
     "execution_count": 48
    }
   ]
  },
  {
   "cell_type": "code",
   "source": [
    "# Convert to dictionary format for programmatic access\n",
    "# This format is useful for:\n",
    "# - Further statistical analysis\n",
    "# - Exporting results to other tools\n",
    "# - Automated evaluation of tokenization quality\n",
    "# - Integration with molecular property prediction pipelines\n",
    "\n",
    "df.to_dict()"
   ],
   "metadata": {
    "id": "Z7b8jCPp_cu7",
    "colab": {
     "base_uri": "https://localhost:8080/"
    },
    "executionInfo": {
     "status": "ok",
     "timestamp": 1749723318366,
     "user_tz": -240,
     "elapsed": 91,
     "user": {
      "displayName": "Ivan Reznikov",
      "userId": "03906939862966425294"
     }
    },
    "outputId": "be00a365-0bab-4735-aa3e-eb8d4f4bcb12"
   },
   "execution_count": null,
   "outputs": [
    {
     "output_type": "execute_result",
     "data": {
      "text/plain": [
       "{'ClCCCN1CCCC1': {'spacy': ClCCCN1CCCC1,\n",
       "  'bloom560m': ['Cl', 'CC', 'CN', '1', 'CCCC', '1'],\n",
       "  'mistral7': ['<s>', 'Cl', 'CC', 'CN', '1', 'CC', 'CC', '1'],\n",
       "  'falcon7': ['Cl', 'CC', 'CN', '1', 'CC', 'CC', '1'],\n",
       "  'falcon180B': ['Cl', 'CC', 'CN', '1', 'CC', 'CC', '1'],\n",
       "  'regex': ['Cl', 'C', 'C', 'C', 'N', '1', 'C', 'C', 'C', 'C', '1'],\n",
       "  'GIMLET': ['Cl', 'CC', 'CN', '1', 'CC', 'CC', '1', '</s>'],\n",
       "  'ChemBERTa': ['<s>', 'Cl', 'CCCN', '1', 'CCCC', '1', '</s>'],\n",
       "  'chemical-bert': ['[CLS]',\n",
       "   'cl',\n",
       "   '##ccc',\n",
       "   '##n',\n",
       "   '##1',\n",
       "   '##ccc',\n",
       "   '##c',\n",
       "   '##1',\n",
       "   '[SEP]'],\n",
       "  'MoLFormer': ['<bos>',\n",
       "   'Cl',\n",
       "   'C',\n",
       "   'C',\n",
       "   'C',\n",
       "   'N',\n",
       "   '1',\n",
       "   'C',\n",
       "   'C',\n",
       "   'C',\n",
       "   'C',\n",
       "   '1',\n",
       "   '<eos>'],\n",
       "  'molt5': ['Cl', 'CC', 'CN', '1', 'CC', 'CC', '1', '</s>'],\n",
       "  'SmilesTokenizer': ['Cl', 'C', 'C', 'C', 'N', '1', 'C', 'C', 'C', 'C', '1'],\n",
       "  'BasicSmilesTokenizer': ['Cl',\n",
       "   'C',\n",
       "   'C',\n",
       "   'C',\n",
       "   'N',\n",
       "   '1',\n",
       "   'C',\n",
       "   'C',\n",
       "   'C',\n",
       "   'C',\n",
       "   '1'],\n",
       "  'pysmilesutils_SMILESTokenizer': [['^', 'C', '&'],\n",
       "   ['^', 'l', '&'],\n",
       "   ['^', 'C', '&'],\n",
       "   ['^', 'C', '&'],\n",
       "   ['^', 'C', '&'],\n",
       "   ['^', 'N', '&'],\n",
       "   ['^', '1', '&'],\n",
       "   ['^', 'C', '&'],\n",
       "   ['^', 'C', '&'],\n",
       "   ['^', 'C', '&'],\n",
       "   ['^', 'C', '&'],\n",
       "   ['^', '1', '&']],\n",
       "  'pysmilesutils_SMILESAtomTokenizer': [['^',\n",
       "    'Cl',\n",
       "    'C',\n",
       "    'C',\n",
       "    'C',\n",
       "    'N',\n",
       "    '1',\n",
       "    'C',\n",
       "    'C',\n",
       "    'C',\n",
       "    'C',\n",
       "    '1',\n",
       "    '&']]},\n",
       " 'CI.Oc1ncccc1Br': {'spacy': CI.Oc1ncccc1Br,\n",
       "  'bloom560m': ['CI', '.', 'O', 'c1', 'n', 'cccc', '1', 'Br'],\n",
       "  'mistral7': ['<s>', 'C', 'I', '.', 'O', 'c', '1', 'n', 'cccc', '1', 'Br'],\n",
       "  'falcon7': ['CI', '.', 'O', 'c', '1', 'n', 'cc', 'cc', '1', 'Br'],\n",
       "  'falcon180B': ['CI', '.', 'O', 'c', '1', 'n', 'cc', 'cc', '1', 'Br'],\n",
       "  'regex': ['C', 'I', '.', 'O', 'c', '1', 'n', 'c', 'c', 'c', 'c', '1', 'Br'],\n",
       "  'GIMLET': ['',\n",
       "   'CI',\n",
       "   '.',\n",
       "   'O',\n",
       "   'c',\n",
       "   '1',\n",
       "   'n',\n",
       "   'c',\n",
       "   'c',\n",
       "   'c',\n",
       "   'c',\n",
       "   '1',\n",
       "   'B',\n",
       "   'r',\n",
       "   '</s>'],\n",
       "  'ChemBERTa': ['<s>', 'CI', '.', 'Oc', '1', 'ncccc', '1', 'Br', '</s>'],\n",
       "  'chemical-bert': ['[CLS]',\n",
       "   'ci',\n",
       "   '.',\n",
       "   'oc',\n",
       "   '##1',\n",
       "   '##nc',\n",
       "   '##ccc',\n",
       "   '##1',\n",
       "   '##br',\n",
       "   '[SEP]'],\n",
       "  'MoLFormer': ['<bos>',\n",
       "   'C',\n",
       "   'I',\n",
       "   '.',\n",
       "   'O',\n",
       "   'c',\n",
       "   '1',\n",
       "   'n',\n",
       "   'c',\n",
       "   'c',\n",
       "   'c',\n",
       "   'c',\n",
       "   '1',\n",
       "   'Br',\n",
       "   '<eos>'],\n",
       "  'molt5': ['',\n",
       "   'CI',\n",
       "   '.',\n",
       "   'O',\n",
       "   'c',\n",
       "   '1',\n",
       "   'n',\n",
       "   'c',\n",
       "   'c',\n",
       "   'c',\n",
       "   'c',\n",
       "   '1',\n",
       "   'B',\n",
       "   'r',\n",
       "   '</s>'],\n",
       "  'SmilesTokenizer': ['C',\n",
       "   'I',\n",
       "   '.',\n",
       "   'O',\n",
       "   'c',\n",
       "   '1',\n",
       "   'n',\n",
       "   'c',\n",
       "   'c',\n",
       "   'c',\n",
       "   'c',\n",
       "   '1',\n",
       "   'Br'],\n",
       "  'BasicSmilesTokenizer': ['C',\n",
       "   'I',\n",
       "   '.',\n",
       "   'O',\n",
       "   'c',\n",
       "   '1',\n",
       "   'n',\n",
       "   'c',\n",
       "   'c',\n",
       "   'c',\n",
       "   'c',\n",
       "   '1',\n",
       "   'Br'],\n",
       "  'pysmilesutils_SMILESTokenizer': [['^', 'C', '&'],\n",
       "   ['^', 'I', '&'],\n",
       "   ['^', '.', '&'],\n",
       "   ['^', 'O', '&'],\n",
       "   ['^', 'c', '&'],\n",
       "   ['^', '1', '&'],\n",
       "   ['^', 'n', '&'],\n",
       "   ['^', 'c', '&'],\n",
       "   ['^', 'c', '&'],\n",
       "   ['^', 'c', '&'],\n",
       "   ['^', 'c', '&'],\n",
       "   ['^', '1', '&'],\n",
       "   ['^', 'B', '&'],\n",
       "   ['^', 'r', '&']],\n",
       "  'pysmilesutils_SMILESAtomTokenizer': [['^',\n",
       "    'C',\n",
       "    'I',\n",
       "    '.',\n",
       "    'O',\n",
       "    'c',\n",
       "    '1',\n",
       "    'n',\n",
       "    'c',\n",
       "    'c',\n",
       "    'c',\n",
       "    'c',\n",
       "    '1',\n",
       "    'Br',\n",
       "    '&']]},\n",
       " 'COC(=O)Cc1c(C)nn(Cc2ccc(C=O)cc2)c1C.[Mg+]Cc1ccccc1': {'spacy': COC(=O)Cc1c(C)nn(Cc2ccc(C=O)cc2)c1C.[Mg+]Cc1ccccc1,\n",
       "  'bloom560m': ['CO',\n",
       "   'C',\n",
       "   '(',\n",
       "   '=',\n",
       "   'O',\n",
       "   ')',\n",
       "   'C',\n",
       "   'c1',\n",
       "   'c',\n",
       "   '(',\n",
       "   'C',\n",
       "   ')',\n",
       "   'nn',\n",
       "   '(',\n",
       "   'C',\n",
       "   'c2',\n",
       "   'ccc',\n",
       "   '(',\n",
       "   'C=',\n",
       "   'O',\n",
       "   ')',\n",
       "   'cc',\n",
       "   '2',\n",
       "   ')',\n",
       "   'c1',\n",
       "   'C',\n",
       "   '.',\n",
       "   '[',\n",
       "   'Mg',\n",
       "   '+',\n",
       "   ']',\n",
       "   'C',\n",
       "   'c1',\n",
       "   'cccc',\n",
       "   'c1'],\n",
       "  'mistral7': ['<s>',\n",
       "   'CO',\n",
       "   'C',\n",
       "   '(',\n",
       "   '=',\n",
       "   'O',\n",
       "   ')',\n",
       "   'C',\n",
       "   'c',\n",
       "   '1',\n",
       "   'c',\n",
       "   '(',\n",
       "   'C',\n",
       "   ')',\n",
       "   'nn',\n",
       "   '(',\n",
       "   'C',\n",
       "   'c',\n",
       "   '2',\n",
       "   'cc',\n",
       "   'c',\n",
       "   '(',\n",
       "   'C',\n",
       "   '=',\n",
       "   'O',\n",
       "   ')',\n",
       "   'cc',\n",
       "   '2',\n",
       "   ')',\n",
       "   'c',\n",
       "   '1',\n",
       "   'C',\n",
       "   '.[',\n",
       "   'M',\n",
       "   'g',\n",
       "   '+',\n",
       "   ']',\n",
       "   'C',\n",
       "   'c',\n",
       "   '1',\n",
       "   'cccc',\n",
       "   'c',\n",
       "   '1'],\n",
       "  'falcon7': ['CO',\n",
       "   'C',\n",
       "   '(=',\n",
       "   'O',\n",
       "   ')',\n",
       "   'C',\n",
       "   'c',\n",
       "   '1',\n",
       "   'c',\n",
       "   '(',\n",
       "   'C',\n",
       "   ')',\n",
       "   'nn',\n",
       "   '(',\n",
       "   'C',\n",
       "   'c',\n",
       "   '2',\n",
       "   'cc',\n",
       "   'c',\n",
       "   '(',\n",
       "   'C',\n",
       "   '=',\n",
       "   'O',\n",
       "   ')',\n",
       "   'cc',\n",
       "   '2',\n",
       "   ')',\n",
       "   'c',\n",
       "   '1',\n",
       "   'C',\n",
       "   '.[',\n",
       "   'M',\n",
       "   'g',\n",
       "   '+',\n",
       "   ']',\n",
       "   'C',\n",
       "   'c',\n",
       "   '1',\n",
       "   'cc',\n",
       "   'cc',\n",
       "   'c',\n",
       "   '1'],\n",
       "  'falcon180B': ['CO',\n",
       "   'C',\n",
       "   '(=',\n",
       "   'O',\n",
       "   ')',\n",
       "   'C',\n",
       "   'c',\n",
       "   '1',\n",
       "   'c',\n",
       "   '(',\n",
       "   'C',\n",
       "   ')',\n",
       "   'nn',\n",
       "   '(',\n",
       "   'C',\n",
       "   'c',\n",
       "   '2',\n",
       "   'cc',\n",
       "   'c',\n",
       "   '(',\n",
       "   'C',\n",
       "   '=',\n",
       "   'O',\n",
       "   ')',\n",
       "   'cc',\n",
       "   '2',\n",
       "   ')',\n",
       "   'c',\n",
       "   '1',\n",
       "   'C',\n",
       "   '.[',\n",
       "   'M',\n",
       "   'g',\n",
       "   '+',\n",
       "   ']',\n",
       "   'C',\n",
       "   'c',\n",
       "   '1',\n",
       "   'cc',\n",
       "   'cc',\n",
       "   'c',\n",
       "   '1'],\n",
       "  'regex': ['C',\n",
       "   'O',\n",
       "   'C',\n",
       "   '(',\n",
       "   '=',\n",
       "   'O',\n",
       "   ')',\n",
       "   'C',\n",
       "   'c',\n",
       "   '1',\n",
       "   'c',\n",
       "   '(',\n",
       "   'C',\n",
       "   ')',\n",
       "   'n',\n",
       "   'n',\n",
       "   '(',\n",
       "   'C',\n",
       "   'c',\n",
       "   '2',\n",
       "   'c',\n",
       "   'c',\n",
       "   'c',\n",
       "   '(',\n",
       "   'C',\n",
       "   '=',\n",
       "   'O',\n",
       "   ')',\n",
       "   'c',\n",
       "   'c',\n",
       "   '2',\n",
       "   ')',\n",
       "   'c',\n",
       "   '1',\n",
       "   'C',\n",
       "   '.',\n",
       "   '[Mg+]',\n",
       "   'C',\n",
       "   'c',\n",
       "   '1',\n",
       "   'c',\n",
       "   'c',\n",
       "   'c',\n",
       "   'c',\n",
       "   'c',\n",
       "   '1'],\n",
       "  'GIMLET': ['CO',\n",
       "   'C',\n",
       "   '(',\n",
       "   '=',\n",
       "   'O',\n",
       "   ')',\n",
       "   'C',\n",
       "   'c',\n",
       "   '1',\n",
       "   'c',\n",
       "   '(',\n",
       "   'C',\n",
       "   ')',\n",
       "   'n',\n",
       "   'n',\n",
       "   '(',\n",
       "   'C',\n",
       "   'c',\n",
       "   '2',\n",
       "   'c',\n",
       "   'c',\n",
       "   'c',\n",
       "   '(',\n",
       "   'C',\n",
       "   '=',\n",
       "   'O',\n",
       "   ')',\n",
       "   'c',\n",
       "   'c',\n",
       "   '2)',\n",
       "   'c',\n",
       "   '1',\n",
       "   'C',\n",
       "   '.',\n",
       "   '[',\n",
       "   'M',\n",
       "   'g',\n",
       "   '+',\n",
       "   ']',\n",
       "   'C',\n",
       "   'c',\n",
       "   '1',\n",
       "   'c',\n",
       "   'c',\n",
       "   'c',\n",
       "   'c',\n",
       "   'c',\n",
       "   '1',\n",
       "   '</s>'],\n",
       "  'ChemBERTa': ['<s>',\n",
       "   'COC',\n",
       "   '(=',\n",
       "   'O',\n",
       "   ')',\n",
       "   'Cc',\n",
       "   '1',\n",
       "   'c',\n",
       "   '(',\n",
       "   'C',\n",
       "   ')',\n",
       "   'nn',\n",
       "   '(',\n",
       "   'Cc',\n",
       "   '2',\n",
       "   'ccc',\n",
       "   '(',\n",
       "   'C',\n",
       "   '=',\n",
       "   'O',\n",
       "   ')',\n",
       "   'cc',\n",
       "   '2',\n",
       "   ')',\n",
       "   'c',\n",
       "   '1',\n",
       "   'C',\n",
       "   '.',\n",
       "   '[',\n",
       "   'M',\n",
       "   'g',\n",
       "   '+]',\n",
       "   'Cc',\n",
       "   '1',\n",
       "   'ccccc',\n",
       "   '1',\n",
       "   '</s>'],\n",
       "  'chemical-bert': ['[CLS]',\n",
       "   'coc',\n",
       "   '(',\n",
       "   '=',\n",
       "   'o',\n",
       "   ')',\n",
       "   'cc',\n",
       "   '##1',\n",
       "   '##c',\n",
       "   '(',\n",
       "   'c',\n",
       "   ')',\n",
       "   'nn',\n",
       "   '(',\n",
       "   'cc',\n",
       "   '##2',\n",
       "   '##ccc',\n",
       "   '(',\n",
       "   'c',\n",
       "   '=',\n",
       "   'o',\n",
       "   ')',\n",
       "   'cc',\n",
       "   '##2',\n",
       "   ')',\n",
       "   'c',\n",
       "   '##1',\n",
       "   '##c',\n",
       "   '.',\n",
       "   '[',\n",
       "   'mg',\n",
       "   '+',\n",
       "   ']',\n",
       "   'cc',\n",
       "   '##1',\n",
       "   '##ccc',\n",
       "   '##cc',\n",
       "   '##1',\n",
       "   '[SEP]'],\n",
       "  'MoLFormer': ['<bos>',\n",
       "   'C',\n",
       "   'O',\n",
       "   'C',\n",
       "   '(',\n",
       "   '=',\n",
       "   'O',\n",
       "   ')',\n",
       "   'C',\n",
       "   'c',\n",
       "   '1',\n",
       "   'c',\n",
       "   '(',\n",
       "   'C',\n",
       "   ')',\n",
       "   'n',\n",
       "   'n',\n",
       "   '(',\n",
       "   'C',\n",
       "   'c',\n",
       "   '2',\n",
       "   'c',\n",
       "   'c',\n",
       "   'c',\n",
       "   '(',\n",
       "   'C',\n",
       "   '=',\n",
       "   'O',\n",
       "   ')',\n",
       "   'c',\n",
       "   'c',\n",
       "   '2',\n",
       "   ')',\n",
       "   'c',\n",
       "   '1',\n",
       "   'C',\n",
       "   '.',\n",
       "   '[Mg+]',\n",
       "   'C',\n",
       "   'c',\n",
       "   '1',\n",
       "   'c',\n",
       "   'c',\n",
       "   'c',\n",
       "   'c',\n",
       "   'c',\n",
       "   '1',\n",
       "   '<eos>'],\n",
       "  'molt5': ['CO',\n",
       "   'C',\n",
       "   '(',\n",
       "   '=',\n",
       "   'O',\n",
       "   ')',\n",
       "   'C',\n",
       "   'c',\n",
       "   '1',\n",
       "   'c',\n",
       "   '(',\n",
       "   'C',\n",
       "   ')',\n",
       "   'n',\n",
       "   'n',\n",
       "   '(',\n",
       "   'C',\n",
       "   'c',\n",
       "   '2',\n",
       "   'c',\n",
       "   'c',\n",
       "   'c',\n",
       "   '(',\n",
       "   'C',\n",
       "   '=',\n",
       "   'O',\n",
       "   ')',\n",
       "   'c',\n",
       "   'c',\n",
       "   '2)',\n",
       "   'c',\n",
       "   '1',\n",
       "   'C',\n",
       "   '.',\n",
       "   '[',\n",
       "   'M',\n",
       "   'g',\n",
       "   '+',\n",
       "   ']',\n",
       "   'C',\n",
       "   'c',\n",
       "   '1',\n",
       "   'c',\n",
       "   'c',\n",
       "   'c',\n",
       "   'c',\n",
       "   'c',\n",
       "   '1',\n",
       "   '</s>'],\n",
       "  'SmilesTokenizer': ['C',\n",
       "   'O',\n",
       "   'C',\n",
       "   '(',\n",
       "   '=',\n",
       "   'O',\n",
       "   ')',\n",
       "   'C',\n",
       "   'c',\n",
       "   '1',\n",
       "   'c',\n",
       "   '(',\n",
       "   'C',\n",
       "   ')',\n",
       "   'n',\n",
       "   'n',\n",
       "   '(',\n",
       "   'C',\n",
       "   'c',\n",
       "   '2',\n",
       "   'c',\n",
       "   'c',\n",
       "   'c',\n",
       "   '(',\n",
       "   'C',\n",
       "   '=',\n",
       "   'O',\n",
       "   ')',\n",
       "   'c',\n",
       "   'c',\n",
       "   '2',\n",
       "   ')',\n",
       "   'c',\n",
       "   '1',\n",
       "   'C',\n",
       "   '.',\n",
       "   '[Mg+]',\n",
       "   'C',\n",
       "   'c',\n",
       "   '1',\n",
       "   'c',\n",
       "   'c',\n",
       "   'c',\n",
       "   'c',\n",
       "   'c',\n",
       "   '1'],\n",
       "  'BasicSmilesTokenizer': ['C',\n",
       "   'O',\n",
       "   'C',\n",
       "   '(',\n",
       "   '=',\n",
       "   'O',\n",
       "   ')',\n",
       "   'C',\n",
       "   'c',\n",
       "   '1',\n",
       "   'c',\n",
       "   '(',\n",
       "   'C',\n",
       "   ')',\n",
       "   'n',\n",
       "   'n',\n",
       "   '(',\n",
       "   'C',\n",
       "   'c',\n",
       "   '2',\n",
       "   'c',\n",
       "   'c',\n",
       "   'c',\n",
       "   '(',\n",
       "   'C',\n",
       "   '=',\n",
       "   'O',\n",
       "   ')',\n",
       "   'c',\n",
       "   'c',\n",
       "   '2',\n",
       "   ')',\n",
       "   'c',\n",
       "   '1',\n",
       "   'C',\n",
       "   '.',\n",
       "   '[Mg+]',\n",
       "   'C',\n",
       "   'c',\n",
       "   '1',\n",
       "   'c',\n",
       "   'c',\n",
       "   'c',\n",
       "   'c',\n",
       "   'c',\n",
       "   '1'],\n",
       "  'pysmilesutils_SMILESTokenizer': [['^', 'C', '&'],\n",
       "   ['^', 'O', '&'],\n",
       "   ['^', 'C', '&'],\n",
       "   ['^', '(', '&'],\n",
       "   ['^', '=', '&'],\n",
       "   ['^', 'O', '&'],\n",
       "   ['^', ')', '&'],\n",
       "   ['^', 'C', '&'],\n",
       "   ['^', 'c', '&'],\n",
       "   ['^', '1', '&'],\n",
       "   ['^', 'c', '&'],\n",
       "   ['^', '(', '&'],\n",
       "   ['^', 'C', '&'],\n",
       "   ['^', ')', '&'],\n",
       "   ['^', 'n', '&'],\n",
       "   ['^', 'n', '&'],\n",
       "   ['^', '(', '&'],\n",
       "   ['^', 'C', '&'],\n",
       "   ['^', 'c', '&'],\n",
       "   ['^', '2', '&'],\n",
       "   ['^', 'c', '&'],\n",
       "   ['^', 'c', '&'],\n",
       "   ['^', 'c', '&'],\n",
       "   ['^', '(', '&'],\n",
       "   ['^', 'C', '&'],\n",
       "   ['^', '=', '&'],\n",
       "   ['^', 'O', '&'],\n",
       "   ['^', ')', '&'],\n",
       "   ['^', 'c', '&'],\n",
       "   ['^', 'c', '&'],\n",
       "   ['^', '2', '&'],\n",
       "   ['^', ')', '&'],\n",
       "   ['^', 'c', '&'],\n",
       "   ['^', '1', '&'],\n",
       "   ['^', 'C', '&'],\n",
       "   ['^', '.', '&'],\n",
       "   ['^', '[', '&'],\n",
       "   ['^', 'M', '&'],\n",
       "   ['^', 'g', '&'],\n",
       "   ['^', '+', '&'],\n",
       "   ['^', ']', '&'],\n",
       "   ['^', 'C', '&'],\n",
       "   ['^', 'c', '&'],\n",
       "   ['^', '1', '&'],\n",
       "   ['^', 'c', '&'],\n",
       "   ['^', 'c', '&'],\n",
       "   ['^', 'c', '&'],\n",
       "   ['^', 'c', '&'],\n",
       "   ['^', 'c', '&'],\n",
       "   ['^', '1', '&']],\n",
       "  'pysmilesutils_SMILESAtomTokenizer': [['^',\n",
       "    'C',\n",
       "    'O',\n",
       "    'C',\n",
       "    '(',\n",
       "    '=',\n",
       "    'O',\n",
       "    ')',\n",
       "    'C',\n",
       "    'c',\n",
       "    '1',\n",
       "    'c',\n",
       "    '(',\n",
       "    'C',\n",
       "    ')',\n",
       "    'n',\n",
       "    'n',\n",
       "    '(',\n",
       "    'C',\n",
       "    'c',\n",
       "    '2',\n",
       "    'c',\n",
       "    'c',\n",
       "    'c',\n",
       "    '(',\n",
       "    'C',\n",
       "    '=',\n",
       "    'O',\n",
       "    ')',\n",
       "    'c',\n",
       "    'c',\n",
       "    '2',\n",
       "    ')',\n",
       "    'c',\n",
       "    '1',\n",
       "    'C',\n",
       "    '.',\n",
       "    '[',\n",
       "    'Mg',\n",
       "    '+',\n",
       "    ']',\n",
       "    'C',\n",
       "    'c',\n",
       "    '1',\n",
       "    'c',\n",
       "    'c',\n",
       "    'c',\n",
       "    'c',\n",
       "    'c',\n",
       "    '1',\n",
       "    '&']]},\n",
       " 'N#Cc1ccnc(CO)c1': {'spacy': N#Cc1ccnc(CO)c1,\n",
       "  'bloom560m': ['N', '#', 'C', 'c1', 'cc', 'nc', '(', 'CO', ')', 'c1'],\n",
       "  'mistral7': ['<s>',\n",
       "   'N',\n",
       "   '#',\n",
       "   'C',\n",
       "   'c',\n",
       "   '1',\n",
       "   'cc',\n",
       "   'nc',\n",
       "   '(',\n",
       "   'CO',\n",
       "   ')',\n",
       "   'c',\n",
       "   '1'],\n",
       "  'falcon7': ['N', '#', 'C', 'c', '1', 'cc', 'nc', '(', 'CO', ')', 'c', '1'],\n",
       "  'falcon180B': ['N',\n",
       "   '#',\n",
       "   'C',\n",
       "   'c',\n",
       "   '1',\n",
       "   'cc',\n",
       "   'nc',\n",
       "   '(',\n",
       "   'CO',\n",
       "   ')',\n",
       "   'c',\n",
       "   '1'],\n",
       "  'regex': ['N',\n",
       "   '#',\n",
       "   'C',\n",
       "   'c',\n",
       "   '1',\n",
       "   'c',\n",
       "   'c',\n",
       "   'n',\n",
       "   'c',\n",
       "   '(',\n",
       "   'C',\n",
       "   'O',\n",
       "   ')',\n",
       "   'c',\n",
       "   '1'],\n",
       "  'GIMLET': ['N',\n",
       "   '#',\n",
       "   'C',\n",
       "   'c',\n",
       "   '1',\n",
       "   'c',\n",
       "   'c',\n",
       "   'n',\n",
       "   'c',\n",
       "   '(',\n",
       "   'CO',\n",
       "   ')',\n",
       "   'c',\n",
       "   '1',\n",
       "   '</s>'],\n",
       "  'ChemBERTa': ['<s>',\n",
       "   'N',\n",
       "   '#',\n",
       "   'Cc',\n",
       "   '1',\n",
       "   'ccnc',\n",
       "   '(',\n",
       "   'CO',\n",
       "   ')',\n",
       "   'c',\n",
       "   '1',\n",
       "   '</s>'],\n",
       "  'chemical-bert': ['[CLS]',\n",
       "   'n',\n",
       "   '#',\n",
       "   'cc',\n",
       "   '##1',\n",
       "   '##cc',\n",
       "   '##nc',\n",
       "   '(',\n",
       "   'co',\n",
       "   ')',\n",
       "   'c',\n",
       "   '##1',\n",
       "   '[SEP]'],\n",
       "  'MoLFormer': ['<bos>',\n",
       "   'N',\n",
       "   '#',\n",
       "   'C',\n",
       "   'c',\n",
       "   '1',\n",
       "   'c',\n",
       "   'c',\n",
       "   'n',\n",
       "   'c',\n",
       "   '(',\n",
       "   'C',\n",
       "   'O',\n",
       "   ')',\n",
       "   'c',\n",
       "   '1',\n",
       "   '<eos>'],\n",
       "  'molt5': ['N',\n",
       "   '#',\n",
       "   'C',\n",
       "   'c',\n",
       "   '1',\n",
       "   'c',\n",
       "   'c',\n",
       "   'n',\n",
       "   'c',\n",
       "   '(',\n",
       "   'CO',\n",
       "   ')',\n",
       "   'c',\n",
       "   '1',\n",
       "   '</s>'],\n",
       "  'SmilesTokenizer': ['N',\n",
       "   '#',\n",
       "   'C',\n",
       "   'c',\n",
       "   '1',\n",
       "   'c',\n",
       "   'c',\n",
       "   'n',\n",
       "   'c',\n",
       "   '(',\n",
       "   'C',\n",
       "   'O',\n",
       "   ')',\n",
       "   'c',\n",
       "   '1'],\n",
       "  'BasicSmilesTokenizer': ['N',\n",
       "   '#',\n",
       "   'C',\n",
       "   'c',\n",
       "   '1',\n",
       "   'c',\n",
       "   'c',\n",
       "   'n',\n",
       "   'c',\n",
       "   '(',\n",
       "   'C',\n",
       "   'O',\n",
       "   ')',\n",
       "   'c',\n",
       "   '1'],\n",
       "  'pysmilesutils_SMILESTokenizer': [['^', 'N', '&'],\n",
       "   ['^', '#', '&'],\n",
       "   ['^', 'C', '&'],\n",
       "   ['^', 'c', '&'],\n",
       "   ['^', '1', '&'],\n",
       "   ['^', 'c', '&'],\n",
       "   ['^', 'c', '&'],\n",
       "   ['^', 'n', '&'],\n",
       "   ['^', 'c', '&'],\n",
       "   ['^', '(', '&'],\n",
       "   ['^', 'C', '&'],\n",
       "   ['^', 'O', '&'],\n",
       "   ['^', ')', '&'],\n",
       "   ['^', 'c', '&'],\n",
       "   ['^', '1', '&']],\n",
       "  'pysmilesutils_SMILESAtomTokenizer': [['^',\n",
       "    'N',\n",
       "    '#',\n",
       "    'C',\n",
       "    'c',\n",
       "    '1',\n",
       "    'c',\n",
       "    'c',\n",
       "    'n',\n",
       "    'c',\n",
       "    '(',\n",
       "    'C',\n",
       "    'O',\n",
       "    ')',\n",
       "    'c',\n",
       "    '1',\n",
       "    '&']]},\n",
       " 'C=C(O)C(=O)N [O-]C(=O)C1=CC=CC=C1': {'spacy': C=C(O)C(=O)N [O-]C(=O)C1=CC=CC=C1,\n",
       "  'bloom560m': ['C',\n",
       "   '=C',\n",
       "   '(',\n",
       "   'O',\n",
       "   ')',\n",
       "   'C',\n",
       "   '(',\n",
       "   '=',\n",
       "   'O',\n",
       "   ')',\n",
       "   'N',\n",
       "   ' [',\n",
       "   'O',\n",
       "   '-]',\n",
       "   'C',\n",
       "   '(',\n",
       "   '=',\n",
       "   'O',\n",
       "   ')',\n",
       "   'C1',\n",
       "   '=',\n",
       "   'CC',\n",
       "   '=',\n",
       "   'CC',\n",
       "   '=',\n",
       "   'C1'],\n",
       "  'mistral7': ['<s>',\n",
       "   'C',\n",
       "   '=',\n",
       "   'C',\n",
       "   '(',\n",
       "   'O',\n",
       "   ')',\n",
       "   'C',\n",
       "   '(',\n",
       "   '=',\n",
       "   'O',\n",
       "   ')',\n",
       "   'N',\n",
       "   '[',\n",
       "   'O',\n",
       "   '-',\n",
       "   ']',\n",
       "   'C',\n",
       "   '(',\n",
       "   '=',\n",
       "   'O',\n",
       "   ')',\n",
       "   'C',\n",
       "   '1',\n",
       "   '=',\n",
       "   'CC',\n",
       "   '=',\n",
       "   'CC',\n",
       "   '=',\n",
       "   'C',\n",
       "   '1'],\n",
       "  'falcon7': ['C',\n",
       "   '=',\n",
       "   'C',\n",
       "   '(',\n",
       "   'O',\n",
       "   ')',\n",
       "   'C',\n",
       "   '(=',\n",
       "   'O',\n",
       "   ')',\n",
       "   'N',\n",
       "   ' ',\n",
       "   '[',\n",
       "   'O',\n",
       "   '-',\n",
       "   ']',\n",
       "   'C',\n",
       "   '(=',\n",
       "   'O',\n",
       "   ')',\n",
       "   'C',\n",
       "   '1',\n",
       "   '=',\n",
       "   'CC',\n",
       "   '=',\n",
       "   'CC',\n",
       "   '=',\n",
       "   'C',\n",
       "   '1'],\n",
       "  'falcon180B': ['C',\n",
       "   '=',\n",
       "   'C',\n",
       "   '(',\n",
       "   'O',\n",
       "   ')',\n",
       "   'C',\n",
       "   '(=',\n",
       "   'O',\n",
       "   ')',\n",
       "   'N',\n",
       "   ' ',\n",
       "   '[',\n",
       "   'O',\n",
       "   '-',\n",
       "   ']',\n",
       "   'C',\n",
       "   '(=',\n",
       "   'O',\n",
       "   ')',\n",
       "   'C',\n",
       "   '1',\n",
       "   '=',\n",
       "   'CC',\n",
       "   '=',\n",
       "   'CC',\n",
       "   '=',\n",
       "   'C',\n",
       "   '1'],\n",
       "  'regex': ['C',\n",
       "   '=',\n",
       "   'C',\n",
       "   '(',\n",
       "   'O',\n",
       "   ')',\n",
       "   'C',\n",
       "   '(',\n",
       "   '=',\n",
       "   'O',\n",
       "   ')',\n",
       "   'N',\n",
       "   '[O-]',\n",
       "   'C',\n",
       "   '(',\n",
       "   '=',\n",
       "   'O',\n",
       "   ')',\n",
       "   'C',\n",
       "   '1',\n",
       "   '=',\n",
       "   'C',\n",
       "   'C',\n",
       "   '=',\n",
       "   'C',\n",
       "   'C',\n",
       "   '=',\n",
       "   'C',\n",
       "   '1'],\n",
       "  'GIMLET': ['C',\n",
       "   '=',\n",
       "   'C',\n",
       "   '(',\n",
       "   'O',\n",
       "   ')',\n",
       "   'C',\n",
       "   '(',\n",
       "   '=',\n",
       "   'O',\n",
       "   ')',\n",
       "   'N',\n",
       "   '[',\n",
       "   'O',\n",
       "   '-',\n",
       "   ']',\n",
       "   'C',\n",
       "   '(',\n",
       "   '=',\n",
       "   'O',\n",
       "   ')',\n",
       "   'C',\n",
       "   '1',\n",
       "   '=',\n",
       "   'CC',\n",
       "   '=',\n",
       "   'CC',\n",
       "   '=',\n",
       "   'C',\n",
       "   '1',\n",
       "   '</s>'],\n",
       "  'ChemBERTa': ['<s>',\n",
       "   'C',\n",
       "   '=',\n",
       "   'C',\n",
       "   '(',\n",
       "   'O',\n",
       "   ')',\n",
       "   'C',\n",
       "   '(=',\n",
       "   'O',\n",
       "   ')',\n",
       "   'N',\n",
       "   ' ',\n",
       "   '[',\n",
       "   'O',\n",
       "   '-]',\n",
       "   'C',\n",
       "   '(=',\n",
       "   'O',\n",
       "   ')',\n",
       "   'C',\n",
       "   '1',\n",
       "   '=',\n",
       "   'CC',\n",
       "   '=',\n",
       "   'CC',\n",
       "   '=',\n",
       "   'C',\n",
       "   '1',\n",
       "   '</s>'],\n",
       "  'chemical-bert': ['[CLS]',\n",
       "   'c',\n",
       "   '=',\n",
       "   'c',\n",
       "   '(',\n",
       "   'o',\n",
       "   ')',\n",
       "   'c',\n",
       "   '(',\n",
       "   '=',\n",
       "   'o',\n",
       "   ')',\n",
       "   'n',\n",
       "   '[',\n",
       "   'o',\n",
       "   '-',\n",
       "   ']',\n",
       "   'c',\n",
       "   '(',\n",
       "   '=',\n",
       "   'o',\n",
       "   ')',\n",
       "   'c',\n",
       "   '##1',\n",
       "   '=',\n",
       "   'cc',\n",
       "   '=',\n",
       "   'cc',\n",
       "   '=',\n",
       "   'c',\n",
       "   '##1',\n",
       "   '[SEP]'],\n",
       "  'MoLFormer': ['<bos>',\n",
       "   'C',\n",
       "   '=',\n",
       "   'C',\n",
       "   '(',\n",
       "   'O',\n",
       "   ')',\n",
       "   'C',\n",
       "   '(',\n",
       "   '=',\n",
       "   'O',\n",
       "   ')',\n",
       "   'N',\n",
       "   '[O-]',\n",
       "   'C',\n",
       "   '(',\n",
       "   '=',\n",
       "   'O',\n",
       "   ')',\n",
       "   'C',\n",
       "   '1',\n",
       "   '=',\n",
       "   'C',\n",
       "   'C',\n",
       "   '=',\n",
       "   'C',\n",
       "   'C',\n",
       "   '=',\n",
       "   'C',\n",
       "   '1',\n",
       "   '<eos>'],\n",
       "  'molt5': ['C',\n",
       "   '=',\n",
       "   'C',\n",
       "   '(',\n",
       "   'O',\n",
       "   ')',\n",
       "   'C',\n",
       "   '(',\n",
       "   '=',\n",
       "   'O',\n",
       "   ')',\n",
       "   'N',\n",
       "   '[',\n",
       "   'O',\n",
       "   '-',\n",
       "   ']',\n",
       "   'C',\n",
       "   '(',\n",
       "   '=',\n",
       "   'O',\n",
       "   ')',\n",
       "   'C',\n",
       "   '1',\n",
       "   '=',\n",
       "   'CC',\n",
       "   '=',\n",
       "   'CC',\n",
       "   '=',\n",
       "   'C',\n",
       "   '1',\n",
       "   '</s>'],\n",
       "  'SmilesTokenizer': ['C',\n",
       "   '=',\n",
       "   'C',\n",
       "   '(',\n",
       "   'O',\n",
       "   ')',\n",
       "   'C',\n",
       "   '(',\n",
       "   '=',\n",
       "   'O',\n",
       "   ')',\n",
       "   'N',\n",
       "   '[O-]',\n",
       "   'C',\n",
       "   '(',\n",
       "   '=',\n",
       "   'O',\n",
       "   ')',\n",
       "   'C',\n",
       "   '1',\n",
       "   '=',\n",
       "   'C',\n",
       "   'C',\n",
       "   '=',\n",
       "   'C',\n",
       "   'C',\n",
       "   '=',\n",
       "   'C',\n",
       "   '1'],\n",
       "  'BasicSmilesTokenizer': ['C',\n",
       "   '=',\n",
       "   'C',\n",
       "   '(',\n",
       "   'O',\n",
       "   ')',\n",
       "   'C',\n",
       "   '(',\n",
       "   '=',\n",
       "   'O',\n",
       "   ')',\n",
       "   'N',\n",
       "   '[O-]',\n",
       "   'C',\n",
       "   '(',\n",
       "   '=',\n",
       "   'O',\n",
       "   ')',\n",
       "   'C',\n",
       "   '1',\n",
       "   '=',\n",
       "   'C',\n",
       "   'C',\n",
       "   '=',\n",
       "   'C',\n",
       "   'C',\n",
       "   '=',\n",
       "   'C',\n",
       "   '1'],\n",
       "  'pysmilesutils_SMILESTokenizer': [['^', 'C', '&'],\n",
       "   ['^', '=', '&'],\n",
       "   ['^', 'C', '&'],\n",
       "   ['^', '(', '&'],\n",
       "   ['^', 'O', '&'],\n",
       "   ['^', ')', '&'],\n",
       "   ['^', 'C', '&'],\n",
       "   ['^', '(', '&'],\n",
       "   ['^', '=', '&'],\n",
       "   ['^', 'O', '&'],\n",
       "   ['^', ')', '&'],\n",
       "   ['^', 'N', '&'],\n",
       "   ['^', ' ', '&'],\n",
       "   ['^', '[', '&'],\n",
       "   ['^', 'O', '&'],\n",
       "   ['^', '-', '&'],\n",
       "   ['^', ']', '&'],\n",
       "   ['^', 'C', '&'],\n",
       "   ['^', '(', '&'],\n",
       "   ['^', '=', '&'],\n",
       "   ['^', 'O', '&'],\n",
       "   ['^', ')', '&'],\n",
       "   ['^', 'C', '&'],\n",
       "   ['^', '1', '&'],\n",
       "   ['^', '=', '&'],\n",
       "   ['^', 'C', '&'],\n",
       "   ['^', 'C', '&'],\n",
       "   ['^', '=', '&'],\n",
       "   ['^', 'C', '&'],\n",
       "   ['^', 'C', '&'],\n",
       "   ['^', '=', '&'],\n",
       "   ['^', 'C', '&'],\n",
       "   ['^', '1', '&']],\n",
       "  'pysmilesutils_SMILESAtomTokenizer': [['^',\n",
       "    'C',\n",
       "    '=',\n",
       "    'C',\n",
       "    '(',\n",
       "    'O',\n",
       "    ')',\n",
       "    'C',\n",
       "    '(',\n",
       "    '=',\n",
       "    'O',\n",
       "    ')',\n",
       "    'N',\n",
       "    ' ',\n",
       "    '[',\n",
       "    'O',\n",
       "    '-',\n",
       "    ']',\n",
       "    'C',\n",
       "    '(',\n",
       "    '=',\n",
       "    'O',\n",
       "    ')',\n",
       "    'C',\n",
       "    '1',\n",
       "    '=',\n",
       "    'C',\n",
       "    'C',\n",
       "    '=',\n",
       "    'C',\n",
       "    'C',\n",
       "    '=',\n",
       "    'C',\n",
       "    '1',\n",
       "    '&']]},\n",
       " 'C1CC[13CH2]CC1C1CCCCC1': {'spacy': C1CC[13CH2]CC1C1CCCCC1,\n",
       "  'bloom560m': ['C1',\n",
       "   'CC',\n",
       "   '[',\n",
       "   '13',\n",
       "   'CH',\n",
       "   '2]',\n",
       "   'CC',\n",
       "   '1',\n",
       "   'C1',\n",
       "   'CC',\n",
       "   'CCC',\n",
       "   '1'],\n",
       "  'mistral7': ['<s>',\n",
       "   'C',\n",
       "   '1',\n",
       "   'CC',\n",
       "   '[',\n",
       "   '1',\n",
       "   '3',\n",
       "   'CH',\n",
       "   '2',\n",
       "   ']',\n",
       "   'CC',\n",
       "   '1',\n",
       "   'C',\n",
       "   '1',\n",
       "   'CC',\n",
       "   'CC',\n",
       "   'C',\n",
       "   '1'],\n",
       "  'falcon7': ['C',\n",
       "   '1',\n",
       "   'CC',\n",
       "   '[',\n",
       "   '13',\n",
       "   'CH',\n",
       "   '2',\n",
       "   ']',\n",
       "   'CC',\n",
       "   '1',\n",
       "   'C',\n",
       "   '1',\n",
       "   'CC',\n",
       "   'CCC',\n",
       "   '1'],\n",
       "  'falcon180B': ['C',\n",
       "   '1',\n",
       "   'CC',\n",
       "   '[',\n",
       "   '13',\n",
       "   'CH',\n",
       "   '2',\n",
       "   ']',\n",
       "   'CC',\n",
       "   '1',\n",
       "   'C',\n",
       "   '1',\n",
       "   'CC',\n",
       "   'CCC',\n",
       "   '1'],\n",
       "  'regex': ['C',\n",
       "   '1',\n",
       "   'C',\n",
       "   'C',\n",
       "   '[13CH2]',\n",
       "   'C',\n",
       "   'C',\n",
       "   '1',\n",
       "   'C',\n",
       "   '1',\n",
       "   'C',\n",
       "   'C',\n",
       "   'C',\n",
       "   'C',\n",
       "   'C',\n",
       "   '1'],\n",
       "  'GIMLET': ['C',\n",
       "   '1',\n",
       "   'CC',\n",
       "   '[',\n",
       "   '13',\n",
       "   'CH',\n",
       "   '2',\n",
       "   ']',\n",
       "   'CC',\n",
       "   '1',\n",
       "   'C',\n",
       "   '1',\n",
       "   'C',\n",
       "   'CC',\n",
       "   'CC',\n",
       "   '1',\n",
       "   '</s>'],\n",
       "  'ChemBERTa': ['<s>',\n",
       "   'C',\n",
       "   '1',\n",
       "   'CC',\n",
       "   '[',\n",
       "   '13',\n",
       "   'CH',\n",
       "   '2',\n",
       "   ']',\n",
       "   'CC',\n",
       "   '1',\n",
       "   'C',\n",
       "   '1',\n",
       "   'CCCCC',\n",
       "   '1',\n",
       "   '</s>'],\n",
       "  'chemical-bert': ['[CLS]',\n",
       "   'c',\n",
       "   '##1',\n",
       "   '##cc',\n",
       "   '[',\n",
       "   '13',\n",
       "   '##ch',\n",
       "   '##2',\n",
       "   ']',\n",
       "   'cc',\n",
       "   '##1',\n",
       "   '##c',\n",
       "   '##1',\n",
       "   '##ccc',\n",
       "   '##cc',\n",
       "   '##1',\n",
       "   '[SEP]'],\n",
       "  'MoLFormer': ['<bos>',\n",
       "   'C',\n",
       "   '1',\n",
       "   'C',\n",
       "   'C',\n",
       "   '[13CH2]',\n",
       "   'C',\n",
       "   'C',\n",
       "   '1',\n",
       "   'C',\n",
       "   '1',\n",
       "   'C',\n",
       "   'C',\n",
       "   'C',\n",
       "   'C',\n",
       "   'C',\n",
       "   '1',\n",
       "   '<eos>'],\n",
       "  'molt5': ['C',\n",
       "   '1',\n",
       "   'CC',\n",
       "   '[',\n",
       "   '13',\n",
       "   'CH',\n",
       "   '2',\n",
       "   ']',\n",
       "   'CC',\n",
       "   '1',\n",
       "   'C',\n",
       "   '1',\n",
       "   'C',\n",
       "   'CC',\n",
       "   'CC',\n",
       "   '1',\n",
       "   '</s>'],\n",
       "  'SmilesTokenizer': ['C',\n",
       "   '1',\n",
       "   'C',\n",
       "   'C',\n",
       "   '[13CH2]',\n",
       "   'C',\n",
       "   'C',\n",
       "   '1',\n",
       "   'C',\n",
       "   '1',\n",
       "   'C',\n",
       "   'C',\n",
       "   'C',\n",
       "   'C',\n",
       "   'C',\n",
       "   '1'],\n",
       "  'BasicSmilesTokenizer': ['C',\n",
       "   '1',\n",
       "   'C',\n",
       "   'C',\n",
       "   '[13CH2]',\n",
       "   'C',\n",
       "   'C',\n",
       "   '1',\n",
       "   'C',\n",
       "   '1',\n",
       "   'C',\n",
       "   'C',\n",
       "   'C',\n",
       "   'C',\n",
       "   'C',\n",
       "   '1'],\n",
       "  'pysmilesutils_SMILESTokenizer': [['^', 'C', '&'],\n",
       "   ['^', '1', '&'],\n",
       "   ['^', 'C', '&'],\n",
       "   ['^', 'C', '&'],\n",
       "   ['^', '[', '&'],\n",
       "   ['^', '1', '&'],\n",
       "   ['^', '3', '&'],\n",
       "   ['^', 'C', '&'],\n",
       "   ['^', 'H', '&'],\n",
       "   ['^', '2', '&'],\n",
       "   ['^', ']', '&'],\n",
       "   ['^', 'C', '&'],\n",
       "   ['^', 'C', '&'],\n",
       "   ['^', '1', '&'],\n",
       "   ['^', 'C', '&'],\n",
       "   ['^', '1', '&'],\n",
       "   ['^', 'C', '&'],\n",
       "   ['^', 'C', '&'],\n",
       "   ['^', 'C', '&'],\n",
       "   ['^', 'C', '&'],\n",
       "   ['^', 'C', '&'],\n",
       "   ['^', '1', '&']],\n",
       "  'pysmilesutils_SMILESAtomTokenizer': [['^',\n",
       "    'C',\n",
       "    '1',\n",
       "    'C',\n",
       "    'C',\n",
       "    '[',\n",
       "    '1',\n",
       "    '3',\n",
       "    'C',\n",
       "    'H',\n",
       "    '2',\n",
       "    ']',\n",
       "    'C',\n",
       "    'C',\n",
       "    '1',\n",
       "    'C',\n",
       "    '1',\n",
       "    'C',\n",
       "    'C',\n",
       "    'C',\n",
       "    'C',\n",
       "    'C',\n",
       "    '1',\n",
       "    '&']]},\n",
       " 'C1=CC2=C(C(=C1)[O-])NC(=CC2=O)C(=O)O': {'spacy': C1=CC2=C(C(=C1)[O-])NC(=CC2=O)C(=O)O,\n",
       "  'bloom560m': ['C1',\n",
       "   '=',\n",
       "   'CC',\n",
       "   '2=',\n",
       "   'C',\n",
       "   '(',\n",
       "   'C',\n",
       "   '(',\n",
       "   '=',\n",
       "   'C1',\n",
       "   ')',\n",
       "   '[',\n",
       "   'O',\n",
       "   '-]',\n",
       "   ')',\n",
       "   'NC',\n",
       "   '(',\n",
       "   '=',\n",
       "   'CC',\n",
       "   '2=',\n",
       "   'O',\n",
       "   ')',\n",
       "   'C',\n",
       "   '(',\n",
       "   '=',\n",
       "   'O',\n",
       "   ')',\n",
       "   'O'],\n",
       "  'mistral7': ['<s>',\n",
       "   'C',\n",
       "   '1',\n",
       "   '=',\n",
       "   'CC',\n",
       "   '2',\n",
       "   '=',\n",
       "   'C',\n",
       "   '(',\n",
       "   'C',\n",
       "   '(',\n",
       "   '=',\n",
       "   'C',\n",
       "   '1',\n",
       "   ')[',\n",
       "   'O',\n",
       "   '-',\n",
       "   '])',\n",
       "   'NC',\n",
       "   '(',\n",
       "   '=',\n",
       "   'CC',\n",
       "   '2',\n",
       "   '=',\n",
       "   'O',\n",
       "   ')',\n",
       "   'C',\n",
       "   '(',\n",
       "   '=',\n",
       "   'O',\n",
       "   ')',\n",
       "   'O'],\n",
       "  'falcon7': ['C',\n",
       "   '1',\n",
       "   '=',\n",
       "   'CC',\n",
       "   '2',\n",
       "   '=',\n",
       "   'C',\n",
       "   '(',\n",
       "   'C',\n",
       "   '(=',\n",
       "   'C',\n",
       "   '1',\n",
       "   ')[',\n",
       "   'O',\n",
       "   '-',\n",
       "   '])',\n",
       "   'NC',\n",
       "   '(=',\n",
       "   'CC',\n",
       "   '2',\n",
       "   '=',\n",
       "   'O',\n",
       "   ')',\n",
       "   'C',\n",
       "   '(=',\n",
       "   'O',\n",
       "   ')',\n",
       "   'O'],\n",
       "  'falcon180B': ['C',\n",
       "   '1',\n",
       "   '=',\n",
       "   'CC',\n",
       "   '2',\n",
       "   '=',\n",
       "   'C',\n",
       "   '(',\n",
       "   'C',\n",
       "   '(=',\n",
       "   'C',\n",
       "   '1',\n",
       "   ')[',\n",
       "   'O',\n",
       "   '-',\n",
       "   '])',\n",
       "   'NC',\n",
       "   '(=',\n",
       "   'CC',\n",
       "   '2',\n",
       "   '=',\n",
       "   'O',\n",
       "   ')',\n",
       "   'C',\n",
       "   '(=',\n",
       "   'O',\n",
       "   ')',\n",
       "   'O'],\n",
       "  'regex': ['C',\n",
       "   '1',\n",
       "   '=',\n",
       "   'C',\n",
       "   'C',\n",
       "   '2',\n",
       "   '=',\n",
       "   'C',\n",
       "   '(',\n",
       "   'C',\n",
       "   '(',\n",
       "   '=',\n",
       "   'C',\n",
       "   '1',\n",
       "   ')',\n",
       "   '[O-]',\n",
       "   ')',\n",
       "   'N',\n",
       "   'C',\n",
       "   '(',\n",
       "   '=',\n",
       "   'C',\n",
       "   'C',\n",
       "   '2',\n",
       "   '=',\n",
       "   'O',\n",
       "   ')',\n",
       "   'C',\n",
       "   '(',\n",
       "   '=',\n",
       "   'O',\n",
       "   ')',\n",
       "   'O'],\n",
       "  'GIMLET': ['C',\n",
       "   '1',\n",
       "   '=',\n",
       "   'CC',\n",
       "   '2',\n",
       "   '=',\n",
       "   'C',\n",
       "   '(',\n",
       "   'C',\n",
       "   '(',\n",
       "   '=',\n",
       "   'C',\n",
       "   '1)',\n",
       "   '[',\n",
       "   'O',\n",
       "   '-',\n",
       "   ']',\n",
       "   ')',\n",
       "   'NC',\n",
       "   '(',\n",
       "   '=',\n",
       "   'CC',\n",
       "   '2',\n",
       "   '=',\n",
       "   'O',\n",
       "   ')',\n",
       "   'C',\n",
       "   '(',\n",
       "   '=',\n",
       "   'O',\n",
       "   ')',\n",
       "   'O',\n",
       "   '</s>'],\n",
       "  'ChemBERTa': ['<s>',\n",
       "   'C',\n",
       "   '1',\n",
       "   '=',\n",
       "   'CC',\n",
       "   '2',\n",
       "   '=',\n",
       "   'C',\n",
       "   '(',\n",
       "   'C',\n",
       "   '(=',\n",
       "   'C',\n",
       "   '1',\n",
       "   ')[',\n",
       "   'O',\n",
       "   '-])',\n",
       "   'NC',\n",
       "   '(=',\n",
       "   'CC',\n",
       "   '2',\n",
       "   '=',\n",
       "   'O',\n",
       "   ')',\n",
       "   'C',\n",
       "   '(=',\n",
       "   'O',\n",
       "   ')',\n",
       "   'O',\n",
       "   '</s>'],\n",
       "  'chemical-bert': ['[CLS]',\n",
       "   'c',\n",
       "   '##1',\n",
       "   '=',\n",
       "   'cc',\n",
       "   '##2',\n",
       "   '=',\n",
       "   'c',\n",
       "   '(',\n",
       "   'c',\n",
       "   '(',\n",
       "   '=',\n",
       "   'c',\n",
       "   '##1',\n",
       "   ')',\n",
       "   '[',\n",
       "   'o',\n",
       "   '-',\n",
       "   ']',\n",
       "   ')',\n",
       "   'nc',\n",
       "   '(',\n",
       "   '=',\n",
       "   'cc',\n",
       "   '##2',\n",
       "   '=',\n",
       "   'o',\n",
       "   ')',\n",
       "   'c',\n",
       "   '(',\n",
       "   '=',\n",
       "   'o',\n",
       "   ')',\n",
       "   'o',\n",
       "   '[SEP]'],\n",
       "  'MoLFormer': ['<bos>',\n",
       "   'C',\n",
       "   '1',\n",
       "   '=',\n",
       "   'C',\n",
       "   'C',\n",
       "   '2',\n",
       "   '=',\n",
       "   'C',\n",
       "   '(',\n",
       "   'C',\n",
       "   '(',\n",
       "   '=',\n",
       "   'C',\n",
       "   '1',\n",
       "   ')',\n",
       "   '[O-]',\n",
       "   ')',\n",
       "   'N',\n",
       "   'C',\n",
       "   '(',\n",
       "   '=',\n",
       "   'C',\n",
       "   'C',\n",
       "   '2',\n",
       "   '=',\n",
       "   'O',\n",
       "   ')',\n",
       "   'C',\n",
       "   '(',\n",
       "   '=',\n",
       "   'O',\n",
       "   ')',\n",
       "   'O',\n",
       "   '<eos>'],\n",
       "  'molt5': ['C',\n",
       "   '1',\n",
       "   '=',\n",
       "   'CC',\n",
       "   '2',\n",
       "   '=',\n",
       "   'C',\n",
       "   '(',\n",
       "   'C',\n",
       "   '(',\n",
       "   '=',\n",
       "   'C',\n",
       "   '1)',\n",
       "   '[',\n",
       "   'O',\n",
       "   '-',\n",
       "   ']',\n",
       "   ')',\n",
       "   'NC',\n",
       "   '(',\n",
       "   '=',\n",
       "   'CC',\n",
       "   '2',\n",
       "   '=',\n",
       "   'O',\n",
       "   ')',\n",
       "   'C',\n",
       "   '(',\n",
       "   '=',\n",
       "   'O',\n",
       "   ')',\n",
       "   'O',\n",
       "   '</s>'],\n",
       "  'SmilesTokenizer': ['C',\n",
       "   '1',\n",
       "   '=',\n",
       "   'C',\n",
       "   'C',\n",
       "   '2',\n",
       "   '=',\n",
       "   'C',\n",
       "   '(',\n",
       "   'C',\n",
       "   '(',\n",
       "   '=',\n",
       "   'C',\n",
       "   '1',\n",
       "   ')',\n",
       "   '[O-]',\n",
       "   ')',\n",
       "   'N',\n",
       "   'C',\n",
       "   '(',\n",
       "   '=',\n",
       "   'C',\n",
       "   'C',\n",
       "   '2',\n",
       "   '=',\n",
       "   'O',\n",
       "   ')',\n",
       "   'C',\n",
       "   '(',\n",
       "   '=',\n",
       "   'O',\n",
       "   ')',\n",
       "   'O'],\n",
       "  'BasicSmilesTokenizer': ['C',\n",
       "   '1',\n",
       "   '=',\n",
       "   'C',\n",
       "   'C',\n",
       "   '2',\n",
       "   '=',\n",
       "   'C',\n",
       "   '(',\n",
       "   'C',\n",
       "   '(',\n",
       "   '=',\n",
       "   'C',\n",
       "   '1',\n",
       "   ')',\n",
       "   '[O-]',\n",
       "   ')',\n",
       "   'N',\n",
       "   'C',\n",
       "   '(',\n",
       "   '=',\n",
       "   'C',\n",
       "   'C',\n",
       "   '2',\n",
       "   '=',\n",
       "   'O',\n",
       "   ')',\n",
       "   'C',\n",
       "   '(',\n",
       "   '=',\n",
       "   'O',\n",
       "   ')',\n",
       "   'O'],\n",
       "  'pysmilesutils_SMILESTokenizer': [['^', 'C', '&'],\n",
       "   ['^', '1', '&'],\n",
       "   ['^', '=', '&'],\n",
       "   ['^', 'C', '&'],\n",
       "   ['^', 'C', '&'],\n",
       "   ['^', '2', '&'],\n",
       "   ['^', '=', '&'],\n",
       "   ['^', 'C', '&'],\n",
       "   ['^', '(', '&'],\n",
       "   ['^', 'C', '&'],\n",
       "   ['^', '(', '&'],\n",
       "   ['^', '=', '&'],\n",
       "   ['^', 'C', '&'],\n",
       "   ['^', '1', '&'],\n",
       "   ['^', ')', '&'],\n",
       "   ['^', '[', '&'],\n",
       "   ['^', 'O', '&'],\n",
       "   ['^', '-', '&'],\n",
       "   ['^', ']', '&'],\n",
       "   ['^', ')', '&'],\n",
       "   ['^', 'N', '&'],\n",
       "   ['^', 'C', '&'],\n",
       "   ['^', '(', '&'],\n",
       "   ['^', '=', '&'],\n",
       "   ['^', 'C', '&'],\n",
       "   ['^', 'C', '&'],\n",
       "   ['^', '2', '&'],\n",
       "   ['^', '=', '&'],\n",
       "   ['^', 'O', '&'],\n",
       "   ['^', ')', '&'],\n",
       "   ['^', 'C', '&'],\n",
       "   ['^', '(', '&'],\n",
       "   ['^', '=', '&'],\n",
       "   ['^', 'O', '&'],\n",
       "   ['^', ')', '&'],\n",
       "   ['^', 'O', '&']],\n",
       "  'pysmilesutils_SMILESAtomTokenizer': [['^',\n",
       "    'C',\n",
       "    '1',\n",
       "    '=',\n",
       "    'C',\n",
       "    'C',\n",
       "    '2',\n",
       "    '=',\n",
       "    'C',\n",
       "    '(',\n",
       "    'C',\n",
       "    '(',\n",
       "    '=',\n",
       "    'C',\n",
       "    '1',\n",
       "    ')',\n",
       "    '[',\n",
       "    'O',\n",
       "    '-',\n",
       "    ']',\n",
       "    ')',\n",
       "    'N',\n",
       "    'C',\n",
       "    '(',\n",
       "    '=',\n",
       "    'C',\n",
       "    'C',\n",
       "    '2',\n",
       "    '=',\n",
       "    'O',\n",
       "    ')',\n",
       "    'C',\n",
       "    '(',\n",
       "    '=',\n",
       "    'O',\n",
       "    ')',\n",
       "    'O',\n",
       "    '&']]},\n",
       " 'C([13C]N(CC(=O)[O-])CC(=O)[O-])N(CC#N)CC(=O)[O-].[Na+].[Na+].[Na+]': {'spacy': C([13C]N(CC(=O)[O-])CC(=O)[O-])N(CC#N)CC(=O)[O-].[Na+].[Na+].[Na+],\n",
       "  'bloom560m': ['C',\n",
       "   '(',\n",
       "   '[',\n",
       "   '13',\n",
       "   'C]',\n",
       "   'N',\n",
       "   '(',\n",
       "   'CC',\n",
       "   '(',\n",
       "   '=',\n",
       "   'O',\n",
       "   ')',\n",
       "   '[',\n",
       "   'O',\n",
       "   '-]',\n",
       "   ')',\n",
       "   'CC',\n",
       "   '(',\n",
       "   '=',\n",
       "   'O',\n",
       "   ')',\n",
       "   '[',\n",
       "   'O',\n",
       "   '-]',\n",
       "   ')',\n",
       "   'N',\n",
       "   '(',\n",
       "   'CC',\n",
       "   '#',\n",
       "   'N',\n",
       "   ')',\n",
       "   'CC',\n",
       "   '(',\n",
       "   '=',\n",
       "   'O',\n",
       "   ')',\n",
       "   '[',\n",
       "   'O',\n",
       "   '-]',\n",
       "   '.',\n",
       "   '[',\n",
       "   'Na',\n",
       "   '+',\n",
       "   ']',\n",
       "   '.',\n",
       "   '[',\n",
       "   'Na',\n",
       "   '+',\n",
       "   ']',\n",
       "   '.',\n",
       "   '[',\n",
       "   'Na',\n",
       "   '+',\n",
       "   ']'],\n",
       "  'mistral7': ['<s>',\n",
       "   'C',\n",
       "   '([',\n",
       "   '1',\n",
       "   '3',\n",
       "   'C',\n",
       "   ']',\n",
       "   'N',\n",
       "   '(',\n",
       "   'CC',\n",
       "   '(',\n",
       "   '=',\n",
       "   'O',\n",
       "   ')[',\n",
       "   'O',\n",
       "   '-',\n",
       "   '])',\n",
       "   'CC',\n",
       "   '(',\n",
       "   '=',\n",
       "   'O',\n",
       "   ')[',\n",
       "   'O',\n",
       "   '-',\n",
       "   '])',\n",
       "   'N',\n",
       "   '(',\n",
       "   'CC',\n",
       "   '#',\n",
       "   'N',\n",
       "   ')',\n",
       "   'CC',\n",
       "   '(',\n",
       "   '=',\n",
       "   'O',\n",
       "   ')[',\n",
       "   'O',\n",
       "   '-',\n",
       "   '].',\n",
       "   '[',\n",
       "   'Na',\n",
       "   '+',\n",
       "   '].',\n",
       "   '[',\n",
       "   'Na',\n",
       "   '+',\n",
       "   '].',\n",
       "   '[',\n",
       "   'Na',\n",
       "   '+',\n",
       "   ']'],\n",
       "  'falcon7': ['C',\n",
       "   '([',\n",
       "   '13',\n",
       "   'C',\n",
       "   ']',\n",
       "   'N',\n",
       "   '(',\n",
       "   'CC',\n",
       "   '(=',\n",
       "   'O',\n",
       "   ')[',\n",
       "   'O',\n",
       "   '-',\n",
       "   '])',\n",
       "   'CC',\n",
       "   '(=',\n",
       "   'O',\n",
       "   ')[',\n",
       "   'O',\n",
       "   '-',\n",
       "   '])',\n",
       "   'N',\n",
       "   '(',\n",
       "   'CC',\n",
       "   '#',\n",
       "   'N',\n",
       "   ')',\n",
       "   'CC',\n",
       "   '(=',\n",
       "   'O',\n",
       "   ')[',\n",
       "   'O',\n",
       "   '-',\n",
       "   '].[',\n",
       "   'Na',\n",
       "   '+',\n",
       "   '].[',\n",
       "   'Na',\n",
       "   '+',\n",
       "   '].[',\n",
       "   'Na',\n",
       "   '+',\n",
       "   ']'],\n",
       "  'falcon180B': ['C',\n",
       "   '([',\n",
       "   '13',\n",
       "   'C',\n",
       "   ']',\n",
       "   'N',\n",
       "   '(',\n",
       "   'CC',\n",
       "   '(=',\n",
       "   'O',\n",
       "   ')[',\n",
       "   'O',\n",
       "   '-',\n",
       "   '])',\n",
       "   'CC',\n",
       "   '(=',\n",
       "   'O',\n",
       "   ')[',\n",
       "   'O',\n",
       "   '-',\n",
       "   '])',\n",
       "   'N',\n",
       "   '(',\n",
       "   'CC',\n",
       "   '#',\n",
       "   'N',\n",
       "   ')',\n",
       "   'CC',\n",
       "   '(=',\n",
       "   'O',\n",
       "   ')[',\n",
       "   'O',\n",
       "   '-',\n",
       "   '].[',\n",
       "   'Na',\n",
       "   '+',\n",
       "   '].[',\n",
       "   'Na',\n",
       "   '+',\n",
       "   '].[',\n",
       "   'Na',\n",
       "   '+',\n",
       "   ']'],\n",
       "  'regex': ['C',\n",
       "   '(',\n",
       "   '[13C]',\n",
       "   'N',\n",
       "   '(',\n",
       "   'C',\n",
       "   'C',\n",
       "   '(',\n",
       "   '=',\n",
       "   'O',\n",
       "   ')',\n",
       "   '[O-]',\n",
       "   ')',\n",
       "   'C',\n",
       "   'C',\n",
       "   '(',\n",
       "   '=',\n",
       "   'O',\n",
       "   ')',\n",
       "   '[O-]',\n",
       "   ')',\n",
       "   'N',\n",
       "   '(',\n",
       "   'C',\n",
       "   'C',\n",
       "   '#',\n",
       "   'N',\n",
       "   ')',\n",
       "   'C',\n",
       "   'C',\n",
       "   '(',\n",
       "   '=',\n",
       "   'O',\n",
       "   ')',\n",
       "   '[O-]',\n",
       "   '.',\n",
       "   '[Na+]',\n",
       "   '.',\n",
       "   '[Na+]',\n",
       "   '.',\n",
       "   '[Na+]'],\n",
       "  'GIMLET': ['C',\n",
       "   '(',\n",
       "   '[',\n",
       "   '13',\n",
       "   'C',\n",
       "   ']',\n",
       "   'N',\n",
       "   '(',\n",
       "   'CC',\n",
       "   '(',\n",
       "   '=',\n",
       "   'O',\n",
       "   ')',\n",
       "   '[',\n",
       "   'O',\n",
       "   '-',\n",
       "   ']',\n",
       "   ')',\n",
       "   'CC',\n",
       "   '(',\n",
       "   '=',\n",
       "   'O',\n",
       "   ')',\n",
       "   '[',\n",
       "   'O',\n",
       "   '-',\n",
       "   ']',\n",
       "   ')',\n",
       "   'N',\n",
       "   '(',\n",
       "   'CC',\n",
       "   '#',\n",
       "   'N',\n",
       "   ')',\n",
       "   'CC',\n",
       "   '(',\n",
       "   '=',\n",
       "   'O',\n",
       "   ')',\n",
       "   '[',\n",
       "   'O',\n",
       "   '-',\n",
       "   '].',\n",
       "   '[',\n",
       "   'N',\n",
       "   'a',\n",
       "   '+',\n",
       "   '].',\n",
       "   '[',\n",
       "   'N',\n",
       "   'a',\n",
       "   '+',\n",
       "   '].',\n",
       "   '[',\n",
       "   'N',\n",
       "   'a',\n",
       "   '+',\n",
       "   ']',\n",
       "   '</s>'],\n",
       "  'ChemBERTa': ['<s>',\n",
       "   'C',\n",
       "   '([',\n",
       "   '13',\n",
       "   'C',\n",
       "   ']',\n",
       "   'N',\n",
       "   '(',\n",
       "   'CC',\n",
       "   '(=',\n",
       "   'O',\n",
       "   ')[',\n",
       "   'O',\n",
       "   '-])',\n",
       "   'CC',\n",
       "   '(=',\n",
       "   'O',\n",
       "   ')[',\n",
       "   'O',\n",
       "   '-])',\n",
       "   'N',\n",
       "   '(',\n",
       "   'CC',\n",
       "   '#',\n",
       "   'N',\n",
       "   ')',\n",
       "   'CC',\n",
       "   '(=',\n",
       "   'O',\n",
       "   ')[',\n",
       "   'O',\n",
       "   '-]',\n",
       "   '.',\n",
       "   '[',\n",
       "   'N',\n",
       "   'a',\n",
       "   '+]',\n",
       "   '.',\n",
       "   '[',\n",
       "   'N',\n",
       "   'a',\n",
       "   '+]',\n",
       "   '.',\n",
       "   '[',\n",
       "   'N',\n",
       "   'a',\n",
       "   '+]',\n",
       "   '</s>'],\n",
       "  'chemical-bert': ['[CLS]',\n",
       "   'c',\n",
       "   '(',\n",
       "   '[',\n",
       "   '13',\n",
       "   '##c',\n",
       "   ']',\n",
       "   'n',\n",
       "   '(',\n",
       "   'cc',\n",
       "   '(',\n",
       "   '=',\n",
       "   'o',\n",
       "   ')',\n",
       "   '[',\n",
       "   'o',\n",
       "   '-',\n",
       "   ']',\n",
       "   ')',\n",
       "   'cc',\n",
       "   '(',\n",
       "   '=',\n",
       "   'o',\n",
       "   ')',\n",
       "   '[',\n",
       "   'o',\n",
       "   '-',\n",
       "   ']',\n",
       "   ')',\n",
       "   'n',\n",
       "   '(',\n",
       "   'cc',\n",
       "   '#',\n",
       "   'n',\n",
       "   ')',\n",
       "   'cc',\n",
       "   '(',\n",
       "   '=',\n",
       "   'o',\n",
       "   ')',\n",
       "   '[',\n",
       "   'o',\n",
       "   '-',\n",
       "   ']',\n",
       "   '.',\n",
       "   '[',\n",
       "   'na',\n",
       "   '+',\n",
       "   ']',\n",
       "   '.',\n",
       "   '[',\n",
       "   'na',\n",
       "   '+',\n",
       "   ']',\n",
       "   '.',\n",
       "   '[',\n",
       "   'na',\n",
       "   '+',\n",
       "   ']',\n",
       "   '[SEP]'],\n",
       "  'MoLFormer': ['<bos>',\n",
       "   'C',\n",
       "   '(',\n",
       "   '[13C]',\n",
       "   'N',\n",
       "   '(',\n",
       "   'C',\n",
       "   'C',\n",
       "   '(',\n",
       "   '=',\n",
       "   'O',\n",
       "   ')',\n",
       "   '[O-]',\n",
       "   ')',\n",
       "   'C',\n",
       "   'C',\n",
       "   '(',\n",
       "   '=',\n",
       "   'O',\n",
       "   ')',\n",
       "   '[O-]',\n",
       "   ')',\n",
       "   'N',\n",
       "   '(',\n",
       "   'C',\n",
       "   'C',\n",
       "   '#',\n",
       "   'N',\n",
       "   ')',\n",
       "   'C',\n",
       "   'C',\n",
       "   '(',\n",
       "   '=',\n",
       "   'O',\n",
       "   ')',\n",
       "   '[O-]',\n",
       "   '.',\n",
       "   '[Na+]',\n",
       "   '.',\n",
       "   '[Na+]',\n",
       "   '.',\n",
       "   '[Na+]',\n",
       "   '<eos>'],\n",
       "  'molt5': ['C',\n",
       "   '(',\n",
       "   '[',\n",
       "   '13',\n",
       "   'C',\n",
       "   ']',\n",
       "   'N',\n",
       "   '(',\n",
       "   'CC',\n",
       "   '(',\n",
       "   '=',\n",
       "   'O',\n",
       "   ')',\n",
       "   '[',\n",
       "   'O',\n",
       "   '-',\n",
       "   ']',\n",
       "   ')',\n",
       "   'CC',\n",
       "   '(',\n",
       "   '=',\n",
       "   'O',\n",
       "   ')',\n",
       "   '[',\n",
       "   'O',\n",
       "   '-',\n",
       "   ']',\n",
       "   ')',\n",
       "   'N',\n",
       "   '(',\n",
       "   'CC',\n",
       "   '#',\n",
       "   'N',\n",
       "   ')',\n",
       "   'CC',\n",
       "   '(',\n",
       "   '=',\n",
       "   'O',\n",
       "   ')',\n",
       "   '[',\n",
       "   'O',\n",
       "   '-',\n",
       "   '].',\n",
       "   '[',\n",
       "   'N',\n",
       "   'a',\n",
       "   '+',\n",
       "   '].',\n",
       "   '[',\n",
       "   'N',\n",
       "   'a',\n",
       "   '+',\n",
       "   '].',\n",
       "   '[',\n",
       "   'N',\n",
       "   'a',\n",
       "   '+',\n",
       "   ']',\n",
       "   '</s>'],\n",
       "  'SmilesTokenizer': ['C',\n",
       "   '(',\n",
       "   '[13C]',\n",
       "   'N',\n",
       "   '(',\n",
       "   'C',\n",
       "   'C',\n",
       "   '(',\n",
       "   '=',\n",
       "   'O',\n",
       "   ')',\n",
       "   '[O-]',\n",
       "   ')',\n",
       "   'C',\n",
       "   'C',\n",
       "   '(',\n",
       "   '=',\n",
       "   'O',\n",
       "   ')',\n",
       "   '[O-]',\n",
       "   ')',\n",
       "   'N',\n",
       "   '(',\n",
       "   'C',\n",
       "   'C',\n",
       "   '#',\n",
       "   'N',\n",
       "   ')',\n",
       "   'C',\n",
       "   'C',\n",
       "   '(',\n",
       "   '=',\n",
       "   'O',\n",
       "   ')',\n",
       "   '[O-]',\n",
       "   '.',\n",
       "   '[Na+]',\n",
       "   '.',\n",
       "   '[Na+]',\n",
       "   '.',\n",
       "   '[Na+]'],\n",
       "  'BasicSmilesTokenizer': ['C',\n",
       "   '(',\n",
       "   '[13C]',\n",
       "   'N',\n",
       "   '(',\n",
       "   'C',\n",
       "   'C',\n",
       "   '(',\n",
       "   '=',\n",
       "   'O',\n",
       "   ')',\n",
       "   '[O-]',\n",
       "   ')',\n",
       "   'C',\n",
       "   'C',\n",
       "   '(',\n",
       "   '=',\n",
       "   'O',\n",
       "   ')',\n",
       "   '[O-]',\n",
       "   ')',\n",
       "   'N',\n",
       "   '(',\n",
       "   'C',\n",
       "   'C',\n",
       "   '#',\n",
       "   'N',\n",
       "   ')',\n",
       "   'C',\n",
       "   'C',\n",
       "   '(',\n",
       "   '=',\n",
       "   'O',\n",
       "   ')',\n",
       "   '[O-]',\n",
       "   '.',\n",
       "   '[Na+]',\n",
       "   '.',\n",
       "   '[Na+]',\n",
       "   '.',\n",
       "   '[Na+]'],\n",
       "  'pysmilesutils_SMILESTokenizer': [['^', 'C', '&'],\n",
       "   ['^', '(', '&'],\n",
       "   ['^', '[', '&'],\n",
       "   ['^', '1', '&'],\n",
       "   ['^', '3', '&'],\n",
       "   ['^', 'C', '&'],\n",
       "   ['^', ']', '&'],\n",
       "   ['^', 'N', '&'],\n",
       "   ['^', '(', '&'],\n",
       "   ['^', 'C', '&'],\n",
       "   ['^', 'C', '&'],\n",
       "   ['^', '(', '&'],\n",
       "   ['^', '=', '&'],\n",
       "   ['^', 'O', '&'],\n",
       "   ['^', ')', '&'],\n",
       "   ['^', '[', '&'],\n",
       "   ['^', 'O', '&'],\n",
       "   ['^', '-', '&'],\n",
       "   ['^', ']', '&'],\n",
       "   ['^', ')', '&'],\n",
       "   ['^', 'C', '&'],\n",
       "   ['^', 'C', '&'],\n",
       "   ['^', '(', '&'],\n",
       "   ['^', '=', '&'],\n",
       "   ['^', 'O', '&'],\n",
       "   ['^', ')', '&'],\n",
       "   ['^', '[', '&'],\n",
       "   ['^', 'O', '&'],\n",
       "   ['^', '-', '&'],\n",
       "   ['^', ']', '&'],\n",
       "   ['^', ')', '&'],\n",
       "   ['^', 'N', '&'],\n",
       "   ['^', '(', '&'],\n",
       "   ['^', 'C', '&'],\n",
       "   ['^', 'C', '&'],\n",
       "   ['^', '#', '&'],\n",
       "   ['^', 'N', '&'],\n",
       "   ['^', ')', '&'],\n",
       "   ['^', 'C', '&'],\n",
       "   ['^', 'C', '&'],\n",
       "   ['^', '(', '&'],\n",
       "   ['^', '=', '&'],\n",
       "   ['^', 'O', '&'],\n",
       "   ['^', ')', '&'],\n",
       "   ['^', '[', '&'],\n",
       "   ['^', 'O', '&'],\n",
       "   ['^', '-', '&'],\n",
       "   ['^', ']', '&'],\n",
       "   ['^', '.', '&'],\n",
       "   ['^', '[', '&'],\n",
       "   ['^', 'N', '&'],\n",
       "   ['^', 'a', '&'],\n",
       "   ['^', '+', '&'],\n",
       "   ['^', ']', '&'],\n",
       "   ['^', '.', '&'],\n",
       "   ['^', '[', '&'],\n",
       "   ['^', 'N', '&'],\n",
       "   ['^', 'a', '&'],\n",
       "   ['^', '+', '&'],\n",
       "   ['^', ']', '&'],\n",
       "   ['^', '.', '&'],\n",
       "   ['^', '[', '&'],\n",
       "   ['^', 'N', '&'],\n",
       "   ['^', 'a', '&'],\n",
       "   ['^', '+', '&'],\n",
       "   ['^', ']', '&']],\n",
       "  'pysmilesutils_SMILESAtomTokenizer': [['^',\n",
       "    'C',\n",
       "    '(',\n",
       "    '[',\n",
       "    '1',\n",
       "    '3',\n",
       "    'C',\n",
       "    ']',\n",
       "    'N',\n",
       "    '(',\n",
       "    'C',\n",
       "    'C',\n",
       "    '(',\n",
       "    '=',\n",
       "    'O',\n",
       "    ')',\n",
       "    '[',\n",
       "    'O',\n",
       "    '-',\n",
       "    ']',\n",
       "    ')',\n",
       "    'C',\n",
       "    'C',\n",
       "    '(',\n",
       "    '=',\n",
       "    'O',\n",
       "    ')',\n",
       "    '[',\n",
       "    'O',\n",
       "    '-',\n",
       "    ']',\n",
       "    ')',\n",
       "    'N',\n",
       "    '(',\n",
       "    'C',\n",
       "    'C',\n",
       "    '#',\n",
       "    'N',\n",
       "    ')',\n",
       "    'C',\n",
       "    'C',\n",
       "    '(',\n",
       "    '=',\n",
       "    'O',\n",
       "    ')',\n",
       "    '[',\n",
       "    'O',\n",
       "    '-',\n",
       "    ']',\n",
       "    '.',\n",
       "    '[',\n",
       "    'Na',\n",
       "    '+',\n",
       "    ']',\n",
       "    '.',\n",
       "    '[',\n",
       "    'Na',\n",
       "    '+',\n",
       "    ']',\n",
       "    '.',\n",
       "    '[',\n",
       "    'Na',\n",
       "    '+',\n",
       "    ']',\n",
       "    '&']]}}"
      ]
     },
     "metadata": {},
     "execution_count": 49
    }
   ]
  }
 ],
 "metadata": {
  "colab": {
   "provenance": [
    {
     "file_id": "1D3tEhNOYS3pFeagxv4LMgC-tDTTnQcRi",
     "timestamp": 1749734548173
    }
   ]
  },
  "kernelspec": {
   "display_name": "Python 3",
   "name": "python3"
  },
  "language_info": {
   "codemirror_mode": {
    "name": "ipython",
    "version": 3
   },
   "file_extension": ".py",
   "mimetype": "text/x-python",
   "name": "python",
   "nbconvert_exporter": "python",
   "pygments_lexer": "ipython3",
   "version": "3.10.12"
  }
 },
 "nbformat": 4,
 "nbformat_minor": 0
}
