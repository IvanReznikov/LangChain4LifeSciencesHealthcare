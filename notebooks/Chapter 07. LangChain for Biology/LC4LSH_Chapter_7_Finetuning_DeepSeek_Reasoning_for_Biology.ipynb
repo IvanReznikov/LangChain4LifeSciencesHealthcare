{
 "cells": [
  {
   "cell_type": "markdown",
   "source": [
    "## Code to Chapter 7 of LangChain for Life Science and Healthcare book, by Dr. Ivan Reznikov\n",
    "\n",
    "[![Open In Colab](https://colab.research.google.com/assets/colab-badge.svg)](https://colab.research.google.com/drive/1oMijLBEHHl_tcX_-b7qlBNXIwAUwmL0M?usp=sharing)\n",
    "\n",
    "## Fine-tuning DeepSeek Reasoning Model for Biology Questions\n",
    "\n",
    "This notebook demonstrates how to fine-tune a DeepSeek-R1-Distill model specifically for biology questions using the Unsloth framework. The model will learn to provide step-by-step reasoning for biology problems.\n",
    "\n",
    "- **Base Model**: DeepSeek-R1-Distill-Qwen-1.5B (reasoning-capable model)\n",
    "- **Task**: Biology question answering with chain-of-thought reasoning\n",
    "- **Method**: LoRA (Low-Rank Adaptation) fine-tuning\n",
    "- **Framework**: Unsloth for efficient training"
   ],
   "metadata": {
    "id": "n4KD3I8idH25"
   }
  },
  {
   "cell_type": "markdown",
   "source": [
    "<font color='yellow'>Warning: this notebook uses GPU T4</font>"
   ],
   "metadata": {
    "id": "inJHYxi7dLy5"
   }
  },
  {
   "cell_type": "markdown",
   "metadata": {
    "id": "wCwN-5PLQK2s"
   },
   "source": [
    "## 1. Setting Up Working Environment\n",
    "\n",
    "First, we install the necessary packages and set up authentication for Hugging Face.\n",
    "Unsloth provides optimized implementations for faster training and inference."
   ]
  },
  {
   "cell_type": "code",
   "execution_count": 1,
   "metadata": {
    "id": "uOFISabMP3IG"
   },
   "outputs": [],
   "source": [
    "%%capture\n",
    "!pip install unsloth vllm\n",
    "!pip install --force-reinstall --no-cache-dir --no-deps git+https://github.com/unslothai/unsloth.git"
   ]
  },
  {
   "cell_type": "code",
   "execution_count": 2,
   "metadata": {
    "id": "KEVeny4lP7wr"
   },
   "outputs": [],
   "source": [
    "from google.colab import userdata\n",
    "import os\n",
    "\n",
    "os.environ[\"HF_TOKEN\"] = userdata.get(\"HF_TOKEN\")"
   ]
  },
  {
   "cell_type": "markdown",
   "metadata": {
    "id": "y3GyHHs4SQA7"
   },
   "source": [
    "## 2. Loading the Model and Tokenizer\n",
    "\n",
    "We're using DeepSeek-R1-Distill-Qwen-1.5B, which is specifically designed for reasoning tasks.\n",
    "The model supports chain-of-thought reasoning with <think> tags.\n",
    "\n",
    "### Key Parameters:\n",
    "- **max_seq_length**: 2048 tokens (sufficient for biology questions and reasoning)\n",
    "- **load_in_4bit**: Enables 4-bit quantization for memory efficiency\n",
    "- **dtype**: Auto-detected based on hardware capabilities"
   ]
  },
  {
   "cell_type": "code",
   "execution_count": 3,
   "metadata": {
    "colab": {
     "base_uri": "https://localhost:8080/",
     "height": 333,
     "referenced_widgets": [
      "c902bf3959bb42c9b47212763e0884df",
      "fa7ce132c45243338230a06d5f0574ca",
      "d32728a2aecb4f4d8c472e3fdf35989a",
      "fbe8241897174cb598c21dec271b6272",
      "182493fec6284f5b8fb8c7e81b77e9b7",
      "54604082c15f4fe18fc10834aeef2cef",
      "ab6f7fbd75874217b1dd9c845a947a83",
      "667a46ad343341a1945911825654a91d",
      "e0a3f412540940c0a5e47c37c6153f19",
      "4c57684a754546f0935339546ded86f9",
      "dfb0c938735348c999198b5fe12613c9",
      "e208d5f243104f6d85e7a2f17e203342",
      "c1b446708aeb433c9bb1a2dfa8968c47",
      "b63538aa0be24c60b6d4d276d5c24d48",
      "d2a9207007ab47089d68ac5eae301998",
      "d7d50f783e844ae48cab69c9d0070f1b",
      "f1d68f8ff05b49fe9890d3e859273a66",
      "80178f6cecb4426996992bc257f1381e",
      "2bfd33d03d7f44aab878bc46015f1556",
      "f66323e5c09d41e0b89170a4cfa15b73",
      "ac4106a161724ffdb4e16efedd1c4e65",
      "95193f88e2df44bca64a75591dce6cd4",
      "43e40cd8470f41aab6a507d04c2672d9",
      "893e1624e9934ed4b1b9e1d2f29eec2c",
      "8ed811ae6f9d414b9d33c921743cbe00",
      "5b097bc328bc4e3aaaf0b48defcb4219",
      "6d5df7a18eb84148a0a3b0a2ff4666ae",
      "95e4350d705a4f58acffde790d188219",
      "03f8594ebb63496aa4fbf8e72d82527f",
      "a548197874f548388a37f4bccce5ed01",
      "dee97ff9ab21436a8bfe49f6373a2e26",
      "bf4e0a9d62ac4eecaf45c48c41be1b43",
      "a03e7791451e4acb9c5f7ecc36f63c32",
      "9952fb079a5643ba966e866e4dd28776",
      "1b4e5ba10d4c46f29c417654d9ba49a3",
      "f53f6d0c5eca49b89ea0dfbb7b532e2e",
      "f3eeebea6f5740079d5b536d6a72f27c",
      "f42e15b9998446f5b3874ddbb103a66e",
      "fcb99f6b9b764dd59b65ef9116ce7274",
      "6c64586963634b4b91472e1edd8a5908",
      "280557580b61423e8ca2d4b388359365",
      "4028c16d97de426a942fe7c416463fd9",
      "2851c5c0cb134933a13fb510866bb0c8",
      "2cb2fe2793f84f54adf3e0a268e9fd35",
      "0da5077e3d724f31ae89d2fff08467f4",
      "703415d634ad40d8900e6d6360fccc4d",
      "b1a1caaeed464c759ddb453d4ad9c03c",
      "cd3c6b8bea3c4b1fb51051cbad9d3ac5",
      "c2d732b81bd74c4e9c74c264d5316f78",
      "14665c6e727f4910886d482c90327bab",
      "3ade1622043d4c79aa38216a640b35f9",
      "c70b7f9b90f1491ea1a8c096b8359e72",
      "dd89be85f7c24cc099aab162fbc089a8",
      "705032d0b6e64603b47d715945dff634",
      "3d70bce581a141438030415b43ade047"
     ]
    },
    "id": "orAlc6iFSOdL",
    "outputId": "100cd167-7493-4db2-bce0-52d784b70a14"
   },
   "outputs": [
    {
     "output_type": "stream",
     "name": "stdout",
     "text": [
      "\ud83e\udda5 Unsloth: Will patch your computer to enable 2x faster free finetuning.\n",
      "\ud83e\udda5 Unsloth Zoo will now patch everything to make training faster!\n",
      "INFO 07-22 08:37:13 [__init__.py:244] Automatically detected platform cuda.\n",
      "==((====))==  Unsloth 2025.7.6: Fast Qwen2 patching. Transformers: 4.53.2. vLLM: 0.9.2.\n",
      "   \\\\   /|    Tesla T4. Num GPUs = 1. Max memory: 14.741 GB. Platform: Linux.\n",
      "O^O/ \\_/ \\    Torch: 2.7.0+cu126. CUDA: 7.5. CUDA Toolkit: 12.6. Triton: 3.3.0\n",
      "\\        /    Bfloat16 = FALSE. FA [Xformers = 0.0.30. FA2 = False]\n",
      " \"-____-\"     Free license: http://github.com/unslothai/unsloth\n",
      "Unsloth: Fast downloading is enabled - ignore downloading bars which are red colored!\n"
     ]
    },
    {
     "output_type": "display_data",
     "data": {
      "text/plain": [
       "model.safetensors:   0%|          | 0.00/1.81G [00:00<?, ?B/s]"
      ],
      "application/vnd.jupyter.widget-view+json": {
       "version_major": 2,
       "version_minor": 0,
       "model_id": "c902bf3959bb42c9b47212763e0884df"
      }
     },
     "metadata": {}
    },
    {
     "output_type": "display_data",
     "data": {
      "text/plain": [
       "generation_config.json:   0%|          | 0.00/236 [00:00<?, ?B/s]"
      ],
      "application/vnd.jupyter.widget-view+json": {
       "version_major": 2,
       "version_minor": 0,
       "model_id": "e208d5f243104f6d85e7a2f17e203342"
      }
     },
     "metadata": {}
    },
    {
     "output_type": "display_data",
     "data": {
      "text/plain": [
       "tokenizer_config.json: 0.00B [00:00, ?B/s]"
      ],
      "application/vnd.jupyter.widget-view+json": {
       "version_major": 2,
       "version_minor": 0,
       "model_id": "43e40cd8470f41aab6a507d04c2672d9"
      }
     },
     "metadata": {}
    },
    {
     "output_type": "display_data",
     "data": {
      "text/plain": [
       "tokenizer.json:   0%|          | 0.00/11.4M [00:00<?, ?B/s]"
      ],
      "application/vnd.jupyter.widget-view+json": {
       "version_major": 2,
       "version_minor": 0,
       "model_id": "9952fb079a5643ba966e866e4dd28776"
      }
     },
     "metadata": {}
    },
    {
     "output_type": "display_data",
     "data": {
      "text/plain": [
       "special_tokens_map.json:   0%|          | 0.00/472 [00:00<?, ?B/s]"
      ],
      "application/vnd.jupyter.widget-view+json": {
       "version_major": 2,
       "version_minor": 0,
       "model_id": "0da5077e3d724f31ae89d2fff08467f4"
      }
     },
     "metadata": {}
    }
   ],
   "source": [
    "from unsloth import FastLanguageModel\n",
    "\n",
    "max_seq_length = 2048\n",
    "dtype = None\n",
    "load_in_4bit = True\n",
    "\n",
    "\n",
    "model, tokenizer = FastLanguageModel.from_pretrained(\n",
    "    model_name = \"unsloth/DeepSeek-R1-Distill-Qwen-1.5B\",\n",
    "    #model_name = \"unsloth/DeepSeek-R1-Distill-Qwen-7B\",\n",
    "    #model_name = \"unsloth/DeepSeek-R1-Distill-Qwen-14B\",\n",
    "    max_seq_length = max_seq_length,\n",
    "    dtype = dtype,\n",
    "    load_in_4bit = load_in_4bit,\n",
    ")"
   ]
  },
  {
   "cell_type": "markdown",
   "metadata": {
    "id": "SSy3pnmmS9Is"
   },
   "source": [
    "## 3. Loading and Processing the Dataset\n",
    "\n",
    "### Prompt Template Design\n",
    "\n",
    "The prompt template is specifically designed for DeepSeek-R1 reasoning models:\n",
    "- Uses `<think>` tags to encourage step-by-step reasoning\n",
    "- Follows a clear instruction \u2192 question \u2192 response format\n",
    "- Incorporates the reasoning chain from the training data\n",
    "\n",
    "The template structure mirrors how the model was originally trained, making fine-tuning more effective."
   ]
  },
  {
   "cell_type": "code",
   "execution_count": 4,
   "metadata": {
    "id": "x2toAOEHa7au"
   },
   "outputs": [],
   "source": [
    "train_prompt_style = \"\"\"Before answering, think carefully about the question and create a step-by-step chain of thoughts to ensure a logical and accurate response.\n",
    "\n",
    "### Instruction:\n",
    "You are an expert in biology.\n",
    "Please answer the following question.\n",
    "\n",
    "### Question:\n",
    "{}\n",
    "\n",
    "### Response:\n",
    "<think>\n",
    "{}\n",
    "</think>\n",
    "{}\"\"\""
   ]
  },
  {
   "cell_type": "code",
   "execution_count": 5,
   "metadata": {
    "id": "NmwZ-MNkTGhu"
   },
   "outputs": [],
   "source": [
    "EOS_TOKEN = tokenizer.eos_token  # Must add EOS_TOKEN\n",
    "\n",
    "def formatting_prompts_func(examples):\n",
    "    inputs = examples[\"question\"]\n",
    "    cots = [x[\"reasoning\"] for x in examples[\"metadata\"]]\n",
    "    outputs = examples[\"answer\"]\n",
    "    texts = []\n",
    "    for input, cot, output in zip(inputs, cots, outputs):\n",
    "        text = train_prompt_style.format(input, cot, output) + EOS_TOKEN\n",
    "        texts.append(text)\n",
    "    return {\n",
    "        \"text\": texts,\n",
    "    }"
   ]
  },
  {
   "cell_type": "markdown",
   "source": [
    "### Dataset Loading and Inspection\n",
    "\n",
    "We'll use the ToT-Biology dataset which contains biology questions with reasoning chains.\n",
    "This dataset is ideal for training models to provide step-by-step biological reasoning.\n"
   ],
   "metadata": {
    "id": "8EdHBuB2ehMS"
   }
  },
  {
   "cell_type": "code",
   "source": [
    "from datasets import Dataset, load_dataset\n",
    "\n",
    "dataset = load_dataset(\"moremilk/ToT-Biology\")"
   ],
   "metadata": {
    "id": "6vQS4TRAc3qC",
    "colab": {
     "base_uri": "https://localhost:8080/",
     "height": 113,
     "referenced_widgets": [
      "bf841900a699472fb7eb1af740ee01d9",
      "873b4eea9cc147388b289beb4149fdc9",
      "82408630ba2140d680f7c2fce91f5dfe",
      "04c8d7221b0c4366a3c978c6d1204333",
      "51f8656e3816410ca2327c6afec8b654",
      "1ee930decbd34df7869883eed1502bd3",
      "5c21574ade7540c5ab016d42911387f0",
      "07137fea1b194047a7026bff0f0c29fb",
      "5ed8f29e6c3141c4bef0d04baab1968a",
      "a2a556ed2d9a486ba38a4181a6c27e94",
      "8cc2b5faea6541218d39243d2313598e",
      "d7a3dccfdfcb47b1b2228c394b5f5141",
      "2ab29b8d34f8411b96cc0444051cdf80",
      "c6166a5534e4414cb9ca2407081c1030",
      "4977982a854c45cc8ab97b09fb86111f",
      "c7f62cb2efc04c07aed3cbfa14ba3d24",
      "53d2e9a47c5c469b81f5814144fcd9db",
      "21877cb28bcf4374ac009a40b3ef8005",
      "d2f3db1d352c47fe888a05cfdfb27aff",
      "4e801746549342c8a8f28121a8d5db0e",
      "a2b584ca83d5475b831daa8815d906a9",
      "70d2dd62e3de49f08c56941ba7ab15bd",
      "0e9e5f40f42e40db8f5f98e828b24412",
      "0bc638c28fb34707842efffeefbfe225",
      "b79972a38fb24f7597608c6f6a7d2d89",
      "c3ebc2184a03473abd270352db357c13",
      "3385a721e8ea48998ff2e09243557a49",
      "087a5ccb1f274bb192d060c57cbadf5a",
      "1f40e92fe1124e48ad95772da9cf1ce5",
      "1b871bf6246d4d2293e65d3726fa873f",
      "b245bf4c8e1c4c8d86276280ba5f6152",
      "ded667864e044208b7dd89c1022c0265",
      "4d17948a85b74bba9cccddff44be982d"
     ]
    },
    "outputId": "1fda12c0-db0a-4b43-f007-5933d8208e83"
   },
   "execution_count": 6,
   "outputs": [
    {
     "output_type": "display_data",
     "data": {
      "text/plain": [
       "README.md:   0%|          | 0.00/10.0k [00:00<?, ?B/s]"
      ],
      "application/vnd.jupyter.widget-view+json": {
       "version_major": 2,
       "version_minor": 0,
       "model_id": "bf841900a699472fb7eb1af740ee01d9"
      }
     },
     "metadata": {}
    },
    {
     "output_type": "display_data",
     "data": {
      "text/plain": [
       "ToT-Biology-32k.json:   0%|          | 0.00/78.7M [00:00<?, ?B/s]"
      ],
      "application/vnd.jupyter.widget-view+json": {
       "version_major": 2,
       "version_minor": 0,
       "model_id": "d7a3dccfdfcb47b1b2228c394b5f5141"
      }
     },
     "metadata": {}
    },
    {
     "output_type": "display_data",
     "data": {
      "text/plain": [
       "Generating train split:   0%|          | 0/23000 [00:00<?, ? examples/s]"
      ],
      "application/vnd.jupyter.widget-view+json": {
       "version_major": 2,
       "version_minor": 0,
       "model_id": "0e9e5f40f42e40db8f5f98e828b24412"
      }
     },
     "metadata": {}
    }
   ]
  },
  {
   "cell_type": "code",
   "source": [
    "dataset['train'][0]"
   ],
   "metadata": {
    "colab": {
     "base_uri": "https://localhost:8080/"
    },
    "id": "a8Grx9BRc6qn",
    "outputId": "abf0730b-9036-442a-9d6a-6f71953fdbd7"
   },
   "execution_count": 7,
   "outputs": [
    {
     "output_type": "execute_result",
     "data": {
      "text/plain": [
       "{'answer': 'Cell theory, a foundational principle in biology, states that:\\n\\n*   All living organisms are composed of one or more cells.\\n*   The cell is the basic unit of structure and organization in organisms.\\n*   Cells arise from pre-existing cells.\\n\\n### Key Contributors and Observations:\\n\\n*   **Robert Hooke (1665):** Observed compartments in cork using a microscope and coined the term \"cell.\"  He observed the **compartmentalization** of the cork tissue but did not understand the cell as a fundamental unit of life. His observations were primarily structural.\\n*   **Anton van Leeuwenhoek (1670s):**  Observed living microorganisms (\"animalcules\") in pond water and other samples using more powerful microscopes. His discovery of **living microscopic entities** expanded the understanding of the diversity of life beyond what was visible to the naked eye.\\n*   **Matthias Schleiden (1838):** A botanist, concluded that **all plants are made of cells**.  He meticulously studied various plant tissues under the microscope. This observation provided a unifying principle for the structure of the plant kingdom.\\n*   **Theodor Schwann (1839):** A zoologist, extended Schleiden\\'s findings to animals, concluding that **all animals are also composed of cells**. This was a pivotal step, as it extended the cell theory to encompass **all living organisms**, not just plants.  \\n*   **Rudolf Virchow (1855):** Popularized the concept that **\"Omnis cellula e cellula\"** (\"All cells come from cells\"), solidifying the understanding of cell division as the origin of new cells. He refuted the then-popular theory of spontaneous generation.',\n",
       " 'id': 'qa_20250123_074422_850678',\n",
       " 'metadata': {'difficulty': 3,\n",
       "  'reasoning': 'To tackle this question effectively, I first needed to recall the core tenets of cell theory.  Knowing these principles allowed me to frame my answer around them. My approach begins with outlining the three main statements of the theory. This leads me to consider the historical development of these ideas.  Initially, I need to examine the early microscopic work of Hooke and Leeuwenhoek.  First, I should consider Hooke\\'s observation of cork and his introduction of the term \"cell,\" noting that his understanding was limited to structure. Then, I need to incorporate Leeuwenhoek\\'s crucial discovery of living microorganisms, which broadened the scope of microscopic life. Building on this understanding, I realized I needed to include the contributions of Schleiden and Schwann, whose individual yet complementary work on plants and animals established the cell as the universal building block of life. With this in mind, I then included Virchow\\'s contribution regarding cell division, completing the historical narrative of how cell theory developed. Thus, I can deduce that by combining the observations of these scientists over nearly two centuries, a comprehensive theory explaining the fundamental nature of living organisms emerged.',\n",
       "  'topic': 'Cell theory, History of biology, Microscopy, Scientific discoveries'},\n",
       " 'question': 'Describe the origins of cell theory, highlighting key contributors and their observations that led to its formulation.'}"
      ]
     },
     "metadata": {},
     "execution_count": 7
    }
   ]
  },
  {
   "cell_type": "code",
   "source": [
    "dataset = dataset['train'].map(formatting_prompts_func, batched = True,)"
   ],
   "metadata": {
    "id": "Zlfi2iYVc47f",
    "colab": {
     "base_uri": "https://localhost:8080/",
     "height": 49,
     "referenced_widgets": [
      "37e2e799cdce4e3db3d76ed9ded54772",
      "b7c1a7dc7d1941729dcc4cfd5c880898",
      "1f27e7ef22324b53af13d3b1a44e33a6",
      "970dcaedc0b94ead8f3f9d416677ba7f",
      "b6a9b8beb5cb456aae9b18c46819c08f",
      "26f1e487680b4e40bb9009f819a35746",
      "949b5bbad71e4786a9c67e4482448cc0",
      "72b4bd20d69543bb9c86a00f32e5c984",
      "cbcd30da8a384129a6dfae258e82ad6f",
      "138494c39146480f9e90805c313bcc0b",
      "63a7c9cbd06944fd82881e366ee3382e"
     ]
    },
    "outputId": "7f6b3c55-a7ca-430e-b02d-b6921026896f"
   },
   "execution_count": 8,
   "outputs": [
    {
     "output_type": "display_data",
     "data": {
      "text/plain": [
       "Map:   0%|          | 0/23000 [00:00<?, ? examples/s]"
      ],
      "application/vnd.jupyter.widget-view+json": {
       "version_major": 2,
       "version_minor": 0,
       "model_id": "37e2e799cdce4e3db3d76ed9ded54772"
      }
     },
     "metadata": {}
    }
   ]
  },
  {
   "cell_type": "code",
   "source": [
    "dataset"
   ],
   "metadata": {
    "colab": {
     "base_uri": "https://localhost:8080/"
    },
    "id": "A0j4o_aNgEt-",
    "outputId": "f9ff0017-7f94-415a-d722-99ac680a3b91"
   },
   "execution_count": 9,
   "outputs": [
    {
     "output_type": "execute_result",
     "data": {
      "text/plain": [
       "Dataset({\n",
       "    features: ['answer', 'id', 'metadata', 'question', 'text'],\n",
       "    num_rows: 23000\n",
       "})"
      ]
     },
     "metadata": {},
     "execution_count": 9
    }
   ]
  },
  {
   "cell_type": "code",
   "source": [
    "dataset[0]"
   ],
   "metadata": {
    "colab": {
     "base_uri": "https://localhost:8080/"
    },
    "id": "ogdE-mcigF6J",
    "outputId": "51d6efc4-8a86-4740-9779-ea2df4c3a9c5"
   },
   "execution_count": 10,
   "outputs": [
    {
     "output_type": "execute_result",
     "data": {
      "text/plain": [
       "{'answer': 'Cell theory, a foundational principle in biology, states that:\\n\\n*   All living organisms are composed of one or more cells.\\n*   The cell is the basic unit of structure and organization in organisms.\\n*   Cells arise from pre-existing cells.\\n\\n### Key Contributors and Observations:\\n\\n*   **Robert Hooke (1665):** Observed compartments in cork using a microscope and coined the term \"cell.\"  He observed the **compartmentalization** of the cork tissue but did not understand the cell as a fundamental unit of life. His observations were primarily structural.\\n*   **Anton van Leeuwenhoek (1670s):**  Observed living microorganisms (\"animalcules\") in pond water and other samples using more powerful microscopes. His discovery of **living microscopic entities** expanded the understanding of the diversity of life beyond what was visible to the naked eye.\\n*   **Matthias Schleiden (1838):** A botanist, concluded that **all plants are made of cells**.  He meticulously studied various plant tissues under the microscope. This observation provided a unifying principle for the structure of the plant kingdom.\\n*   **Theodor Schwann (1839):** A zoologist, extended Schleiden\\'s findings to animals, concluding that **all animals are also composed of cells**. This was a pivotal step, as it extended the cell theory to encompass **all living organisms**, not just plants.  \\n*   **Rudolf Virchow (1855):** Popularized the concept that **\"Omnis cellula e cellula\"** (\"All cells come from cells\"), solidifying the understanding of cell division as the origin of new cells. He refuted the then-popular theory of spontaneous generation.',\n",
       " 'id': 'qa_20250123_074422_850678',\n",
       " 'metadata': {'difficulty': 3,\n",
       "  'reasoning': 'To tackle this question effectively, I first needed to recall the core tenets of cell theory.  Knowing these principles allowed me to frame my answer around them. My approach begins with outlining the three main statements of the theory. This leads me to consider the historical development of these ideas.  Initially, I need to examine the early microscopic work of Hooke and Leeuwenhoek.  First, I should consider Hooke\\'s observation of cork and his introduction of the term \"cell,\" noting that his understanding was limited to structure. Then, I need to incorporate Leeuwenhoek\\'s crucial discovery of living microorganisms, which broadened the scope of microscopic life. Building on this understanding, I realized I needed to include the contributions of Schleiden and Schwann, whose individual yet complementary work on plants and animals established the cell as the universal building block of life. With this in mind, I then included Virchow\\'s contribution regarding cell division, completing the historical narrative of how cell theory developed. Thus, I can deduce that by combining the observations of these scientists over nearly two centuries, a comprehensive theory explaining the fundamental nature of living organisms emerged.',\n",
       "  'topic': 'Cell theory, History of biology, Microscopy, Scientific discoveries'},\n",
       " 'question': 'Describe the origins of cell theory, highlighting key contributors and their observations that led to its formulation.',\n",
       " 'text': 'Before answering, think carefully about the question and create a step-by-step chain of thoughts to ensure a logical and accurate response.\\n\\n### Instruction:\\nYou are an expert in biology.\\nPlease answer the following question.\\n\\n### Question:\\nDescribe the origins of cell theory, highlighting key contributors and their observations that led to its formulation.\\n\\n### Response:\\n<think>\\nTo tackle this question effectively, I first needed to recall the core tenets of cell theory.  Knowing these principles allowed me to frame my answer around them. My approach begins with outlining the three main statements of the theory. This leads me to consider the historical development of these ideas.  Initially, I need to examine the early microscopic work of Hooke and Leeuwenhoek.  First, I should consider Hooke\\'s observation of cork and his introduction of the term \"cell,\" noting that his understanding was limited to structure. Then, I need to incorporate Leeuwenhoek\\'s crucial discovery of living microorganisms, which broadened the scope of microscopic life. Building on this understanding, I realized I needed to include the contributions of Schleiden and Schwann, whose individual yet complementary work on plants and animals established the cell as the universal building block of life. With this in mind, I then included Virchow\\'s contribution regarding cell division, completing the historical narrative of how cell theory developed. Thus, I can deduce that by combining the observations of these scientists over nearly two centuries, a comprehensive theory explaining the fundamental nature of living organisms emerged.\\n</think>\\nCell theory, a foundational principle in biology, states that:\\n\\n*   All living organisms are composed of one or more cells.\\n*   The cell is the basic unit of structure and organization in organisms.\\n*   Cells arise from pre-existing cells.\\n\\n### Key Contributors and Observations:\\n\\n*   **Robert Hooke (1665):** Observed compartments in cork using a microscope and coined the term \"cell.\"  He observed the **compartmentalization** of the cork tissue but did not understand the cell as a fundamental unit of life. His observations were primarily structural.\\n*   **Anton van Leeuwenhoek (1670s):**  Observed living microorganisms (\"animalcules\") in pond water and other samples using more powerful microscopes. His discovery of **living microscopic entities** expanded the understanding of the diversity of life beyond what was visible to the naked eye.\\n*   **Matthias Schleiden (1838):** A botanist, concluded that **all plants are made of cells**.  He meticulously studied various plant tissues under the microscope. This observation provided a unifying principle for the structure of the plant kingdom.\\n*   **Theodor Schwann (1839):** A zoologist, extended Schleiden\\'s findings to animals, concluding that **all animals are also composed of cells**. This was a pivotal step, as it extended the cell theory to encompass **all living organisms**, not just plants.  \\n*   **Rudolf Virchow (1855):** Popularized the concept that **\"Omnis cellula e cellula\"** (\"All cells come from cells\"), solidifying the understanding of cell division as the origin of new cells. He refuted the then-popular theory of spontaneous generation.<\uff5cend\u2581of\u2581sentence\uff5c>'}"
      ]
     },
     "metadata": {},
     "execution_count": 10
    }
   ]
  },
  {
   "cell_type": "markdown",
   "metadata": {
    "id": "G504i8u7VW79"
   },
   "source": [
    "## 4. Fine-Tuning Setup with LoRA\n",
    "\n",
    "### LoRA (Low-Rank Adaptation) Configuration\n",
    "\n",
    "We use LoRA to efficiently fine-tune the model by updating only a small number of parameters:\n",
    "\n",
    "- **Target Modules**: We target key attention and MLP layers for maximum impact\n",
    "- **Rank (r=16)**: Controls the bottleneck dimension in LoRA layers\n",
    "- **Alpha (16)**: Scaling factor for LoRA updates\n",
    "- **Dropout (0)**: No dropout in LoRA layers for this experiment\n",
    "\n",
    "### Target Modules Explained:\n",
    "- `q_proj, k_proj, v_proj, o_proj`: Self-attention mechanism components\n",
    "- `gate_proj, up_proj, down_proj`: Feed-forward network components"
   ]
  },
  {
   "cell_type": "code",
   "execution_count": 11,
   "metadata": {
    "colab": {
     "base_uri": "https://localhost:8080/"
    },
    "id": "hhxj5k89Ti7G",
    "outputId": "3d6c2282-9c68-4d34-ee02-27a32607c79e"
   },
   "outputs": [
    {
     "output_type": "stream",
     "name": "stderr",
     "text": [
      "Unsloth 2025.7.6 patched 28 layers with 28 QKV layers, 28 O layers and 28 MLP layers.\n"
     ]
    }
   ],
   "source": [
    "model = FastLanguageModel.get_peft_model(\n",
    "    model,\n",
    "    r=16,  # LoRA rank - higher values capture more complexity but use more parameters\n",
    "    target_modules=[\n",
    "        \"q_proj\",     # Query projection in self-attention\n",
    "        \"k_proj\",     # Key projection in self-attention\n",
    "        \"v_proj\",     # Value projection in self-attention\n",
    "        \"o_proj\",     # Output projection from attention\n",
    "        \"gate_proj\",  # Gate projection in FFN (controls information flow)\n",
    "        \"up_proj\",    # Up projection in FFN (expands dimensionality)\n",
    "        \"down_proj\",  # Down projection in FFN (reduces dimensionality)\n",
    "    ],\n",
    "    lora_alpha=16,        # LoRA scaling parameter\n",
    "    lora_dropout=0,       # No dropout in LoRA layers\n",
    "    bias=\"none\",          # Don't update bias terms\n",
    "    use_gradient_checkpointing=\"unsloth\",  # Memory optimization\n",
    "    random_state=2025,    # For reproducibility\n",
    "    use_rslora=False,     # Standard LoRA (not rank-stabilized)\n",
    "    loftq_config=None,    # No quantization-aware LoRA\n",
    ")"
   ]
  },
  {
   "cell_type": "markdown",
   "source": [
    "## 5. Training Configuration\n",
    "\n",
    "### Data Collator Setup\n",
    "We use a completion-only data collator that focuses training on the response portion,\n",
    "ignoring the instruction and question parts during loss calculation."
   ],
   "metadata": {
    "id": "IXQhWiaWewPp"
   }
  },
  {
   "cell_type": "code",
   "source": [
    "from trl import DataCollatorForCompletionOnlyLM\n",
    "\n",
    "instruction_template = \"### Instruction:\"\n",
    "response_template = \"### Response:\"\n",
    "collator = DataCollatorForCompletionOnlyLM(instruction_template=instruction_template, response_template=response_template, tokenizer=tokenizer, mlm=False)"
   ],
   "metadata": {
    "id": "K9rHWUDyZjUA"
   },
   "execution_count": 12,
   "outputs": []
  },
  {
   "cell_type": "markdown",
   "source": [
    "### Training Arguments Configuration\n",
    "\n",
    "Key training parameters:\n",
    "- **Batch Size**: 8 per device with 4 gradient accumulation steps (effective batch size: 32)\n",
    "- **Learning Rate**: 5e-5 (conservative for fine-tuning)\n",
    "- **Steps**: 200 training steps (adjust based on dataset size)\n",
    "- **Optimizer**: AdamW with 8-bit precision for memory efficiency"
   ],
   "metadata": {
    "id": "svYqmJeQe1ug"
   }
  },
  {
   "cell_type": "code",
   "execution_count": 13,
   "metadata": {
    "id": "UnLvAJ97VZp_",
    "colab": {
     "base_uri": "https://localhost:8080/",
     "height": 49,
     "referenced_widgets": [
      "843b4d4e12534e02b3362ac22f30002a",
      "2af4920467d449c5887bdba0c8240b67",
      "08796c8b04684e1c9d306d4e472052c5",
      "edaa06ec32414cd4ab70c98ab44fc00a",
      "6a7fcc88d2544212aa9de1186f26843c",
      "86b4beb4373344c7989915576dcdacc0",
      "4517d2392a464c77b4745ca3c7dc09cb",
      "98daa1a52b6e4bbab6cb86ddee66201d",
      "cb62f64362424750919f96e718cda83d",
      "833b00886a12415a927b66ed59abb4a9",
      "8a79b8243fce42d1a85ae7903ee2b1db"
     ]
    },
    "outputId": "9ca55a00-90d2-4313-b457-8e635dc73cc3"
   },
   "outputs": [
    {
     "output_type": "display_data",
     "data": {
      "text/plain": [
       "Unsloth: Tokenizing [\"text\"]:   0%|          | 0/23000 [00:00<?, ? examples/s]"
      ],
      "application/vnd.jupyter.widget-view+json": {
       "version_major": 2,
       "version_minor": 0,
       "model_id": "843b4d4e12534e02b3362ac22f30002a"
      }
     },
     "metadata": {}
    }
   ],
   "source": [
    "from trl import SFTTrainer\n",
    "from transformers import TrainingArguments\n",
    "from unsloth import is_bfloat16_supported\n",
    "\n",
    "trainer = SFTTrainer(\n",
    "    model=model,\n",
    "    tokenizer=tokenizer,\n",
    "    train_dataset=dataset,\n",
    "    dataset_text_field=\"text\",\n",
    "    max_seq_length=max_seq_length,\n",
    "    # data_collator=collator,  # Uncomment to use completion-only training\n",
    "    dataset_num_proc=2,  # Parallel processing for dataset\n",
    "    args=TrainingArguments(\n",
    "        per_device_train_batch_size=1,    # Batch size per GPU\n",
    "        gradient_accumulation_steps=32,     # Effective batch size = gradient_accumulation_steps * per_device_train_batch_size = 32\n",
    "        warmup_steps=10,                   # Learning rate warmup\n",
    "        max_steps=200,                     # Total training steps\n",
    "        learning_rate=5e-5,                # Conservative learning rate\n",
    "        fp16=not is_bfloat16_supported(),  # Use fp16 if bfloat16 not available\n",
    "        bf16=is_bfloat16_supported(),      # Use bfloat16 if supported (more stable)\n",
    "        logging_steps=10,                  # Log every 10 steps\n",
    "        optim=\"adamw_8bit\",               # 8-bit optimizer for memory efficiency\n",
    "        weight_decay=0.01,                # L2 regularization\n",
    "        lr_scheduler_type=\"linear\",       # Linear learning rate decay\n",
    "        seed=2025,                        # For reproducibility\n",
    "        output_dir=\"outputs\",             # Output directory\n",
    "        report_to=\"none\"                  # Disable wandb/tensorboard logging\n",
    "    ),\n",
    ")"
   ]
  },
  {
   "cell_type": "markdown",
   "source": [
    "## 6. Training the Model\n",
    "\n",
    "Now we begin the actual fine-tuning process. The training will show:\n",
    "- Loss values (should generally decrease over time)\n",
    "- Training speed and memory usage\n",
    "- Gradient norms and learning rate schedule"
   ],
   "metadata": {
    "id": "gwuD4_Rfe_1-"
   }
  },
  {
   "cell_type": "code",
   "execution_count": 14,
   "metadata": {
    "colab": {
     "base_uri": "https://localhost:8080/",
     "height": 806
    },
    "id": "DlIOMi0UVjGl",
    "outputId": "4a0249f5-a8bc-49ed-b274-53fc4920cb69"
   },
   "outputs": [
    {
     "output_type": "stream",
     "name": "stderr",
     "text": [
      "==((====))==  Unsloth - 2x faster free finetuning | Num GPUs used = 1\n",
      "   \\\\   /|    Num examples = 23,000 | Num Epochs = 1 | Total steps = 200\n",
      "O^O/ \\_/ \\    Batch size per device = 1 | Gradient accumulation steps = 32\n",
      "\\        /    Data Parallel GPUs = 1 | Total batch size (1 x 32 x 1) = 32\n",
      " \"-____-\"     Trainable parameters = 18,464,768 of 1,795,552,768 (1.03% trained)\n"
     ]
    },
    {
     "output_type": "stream",
     "name": "stdout",
     "text": [
      "Unsloth: Will smartly offload gradients to save VRAM!\n"
     ]
    },
    {
     "output_type": "display_data",
     "data": {
      "text/plain": [
       "<IPython.core.display.HTML object>"
      ],
      "text/html": [
       "\n",
       "    <div>\n",
       "      \n",
       "      <progress value='200' max='200' style='width:300px; height:20px; vertical-align: middle;'></progress>\n",
       "      [200/200 56:58, Epoch 0/1]\n",
       "    </div>\n",
       "    <table border=\"1\" class=\"dataframe\">\n",
       "  <thead>\n",
       " <tr style=\"text-align: left;\">\n",
       "      <th>Step</th>\n",
       "      <th>Training Loss</th>\n",
       "    </tr>\n",
       "  </thead>\n",
       "  <tbody>\n",
       "    <tr>\n",
       "      <td>10</td>\n",
       "      <td>2.219900</td>\n",
       "    </tr>\n",
       "    <tr>\n",
       "      <td>20</td>\n",
       "      <td>2.093600</td>\n",
       "    </tr>\n",
       "    <tr>\n",
       "      <td>30</td>\n",
       "      <td>1.933800</td>\n",
       "    </tr>\n",
       "    <tr>\n",
       "      <td>40</td>\n",
       "      <td>1.797800</td>\n",
       "    </tr>\n",
       "    <tr>\n",
       "      <td>50</td>\n",
       "      <td>1.725900</td>\n",
       "    </tr>\n",
       "    <tr>\n",
       "      <td>60</td>\n",
       "      <td>1.672000</td>\n",
       "    </tr>\n",
       "    <tr>\n",
       "      <td>70</td>\n",
       "      <td>1.625000</td>\n",
       "    </tr>\n",
       "    <tr>\n",
       "      <td>80</td>\n",
       "      <td>1.593700</td>\n",
       "    </tr>\n",
       "    <tr>\n",
       "      <td>90</td>\n",
       "      <td>1.554500</td>\n",
       "    </tr>\n",
       "    <tr>\n",
       "      <td>100</td>\n",
       "      <td>1.556400</td>\n",
       "    </tr>\n",
       "    <tr>\n",
       "      <td>110</td>\n",
       "      <td>1.521500</td>\n",
       "    </tr>\n",
       "    <tr>\n",
       "      <td>120</td>\n",
       "      <td>1.525200</td>\n",
       "    </tr>\n",
       "    <tr>\n",
       "      <td>130</td>\n",
       "      <td>1.503500</td>\n",
       "    </tr>\n",
       "    <tr>\n",
       "      <td>140</td>\n",
       "      <td>1.513200</td>\n",
       "    </tr>\n",
       "    <tr>\n",
       "      <td>150</td>\n",
       "      <td>1.474500</td>\n",
       "    </tr>\n",
       "    <tr>\n",
       "      <td>160</td>\n",
       "      <td>1.493800</td>\n",
       "    </tr>\n",
       "    <tr>\n",
       "      <td>170</td>\n",
       "      <td>1.476700</td>\n",
       "    </tr>\n",
       "    <tr>\n",
       "      <td>180</td>\n",
       "      <td>1.472100</td>\n",
       "    </tr>\n",
       "    <tr>\n",
       "      <td>190</td>\n",
       "      <td>1.462100</td>\n",
       "    </tr>\n",
       "    <tr>\n",
       "      <td>200</td>\n",
       "      <td>1.475500</td>\n",
       "    </tr>\n",
       "  </tbody>\n",
       "</table><p>"
      ]
     },
     "metadata": {}
    }
   ],
   "source": [
    "trainer_stats = trainer.train()"
   ]
  },
  {
   "cell_type": "code",
   "source": [
    "model.save_pretrained(\"bio-tuned-deepseek-r1\")\n",
    "tokenizer.save_pretrained(\"bio-tuned-deepseek-r1\")"
   ],
   "metadata": {
    "id": "Mtiqju3JdFP7",
    "colab": {
     "base_uri": "https://localhost:8080/"
    },
    "outputId": "771156f8-9848-432e-ce1b-aabe1e327076"
   },
   "execution_count": 15,
   "outputs": [
    {
     "output_type": "execute_result",
     "data": {
      "text/plain": [
       "('bio-tuned-deepseek-r1/tokenizer_config.json',\n",
       " 'bio-tuned-deepseek-r1/special_tokens_map.json',\n",
       " 'bio-tuned-deepseek-r1/chat_template.jinja',\n",
       " 'bio-tuned-deepseek-r1/tokenizer.json')"
      ]
     },
     "metadata": {},
     "execution_count": 15
    }
   ]
  },
  {
   "cell_type": "markdown",
   "source": [
    "## 7. Loading Models for Comparison\n",
    "\n",
    "We load both the original base model and our fine-tuned model to compare their performance\n",
    "on biology questions. This allows us to evaluate the effectiveness of our fine-tuning."
   ],
   "metadata": {
    "id": "yRxk2tzGfGF1"
   }
  },
  {
   "cell_type": "code",
   "source": [
    "model, tokenizer = FastLanguageModel.from_pretrained(\n",
    "    model_name = \"unsloth/DeepSeek-R1-Distill-Qwen-1.5B\",\n",
    "    max_seq_length = max_seq_length,\n",
    "    dtype = dtype,\n",
    "    load_in_4bit = load_in_4bit,\n",
    ")\n",
    "\n",
    "bio_model, tokenizer = FastLanguageModel.from_pretrained(\n",
    "    model_name = \"bio-tuned-deepseek-r1\",\n",
    "    max_seq_length = max_seq_length,\n",
    "    dtype = dtype,\n",
    "    load_in_4bit = load_in_4bit,\n",
    ")"
   ],
   "metadata": {
    "id": "1PtTDrRkCBMc",
    "colab": {
     "base_uri": "https://localhost:8080/"
    },
    "outputId": "aace6ef0-edfd-4006-a928-f2dcef2f3bdb"
   },
   "execution_count": 16,
   "outputs": [
    {
     "output_type": "stream",
     "name": "stdout",
     "text": [
      "==((====))==  Unsloth 2025.7.6: Fast Qwen2 patching. Transformers: 4.53.2. vLLM: 0.9.2.\n",
      "   \\\\   /|    Tesla T4. Num GPUs = 1. Max memory: 14.741 GB. Platform: Linux.\n",
      "O^O/ \\_/ \\    Torch: 2.7.0+cu126. CUDA: 7.5. CUDA Toolkit: 12.6. Triton: 3.3.0\n",
      "\\        /    Bfloat16 = FALSE. FA [Xformers = 0.0.30. FA2 = False]\n",
      " \"-____-\"     Free license: http://github.com/unslothai/unsloth\n",
      "Unsloth: Fast downloading is enabled - ignore downloading bars which are red colored!\n",
      "==((====))==  Unsloth 2025.7.6: Fast Qwen2 patching. Transformers: 4.53.2. vLLM: 0.9.2.\n",
      "   \\\\   /|    Tesla T4. Num GPUs = 1. Max memory: 14.741 GB. Platform: Linux.\n",
      "O^O/ \\_/ \\    Torch: 2.7.0+cu126. CUDA: 7.5. CUDA Toolkit: 12.6. Triton: 3.3.0\n",
      "\\        /    Bfloat16 = FALSE. FA [Xformers = 0.0.30. FA2 = False]\n",
      " \"-____-\"     Free license: http://github.com/unslothai/unsloth\n",
      "Unsloth: Fast downloading is enabled - ignore downloading bars which are red colored!\n"
     ]
    }
   ]
  },
  {
   "cell_type": "markdown",
   "metadata": {
    "id": "hveob0XOZx1k"
   },
   "source": [
    "## 8. Model Inference and Comparison\n",
    "\n",
    "### Inference Prompt Template\n",
    "\n",
    "Note: The inference prompt has a slightly different instruction than training\n",
    "to test generalization. In practice, you might want to use the exact same format\n",
    "as training for optimal performance."
   ]
  },
  {
   "cell_type": "code",
   "source": [
    "responses = []"
   ],
   "metadata": {
    "id": "dzuYU_5B0zo6"
   },
   "execution_count": 17,
   "outputs": []
  },
  {
   "cell_type": "code",
   "source": [
    "question_prompt_style = \"\"\"Before answering, think carefully about the question and create a step-by-step chain of thoughts to ensure a logical and accurate response.\n",
    "\n",
    "### Instruction:\n",
    "You are a medical expert with advanced knowledge in clinical reasoning, diagnostics, and treatment planning.\n",
    "Please answer the following medical question.\n",
    "\n",
    "### Question:\n",
    "{}\n",
    "\n",
    "### Response:\n",
    "<think>{}\"\"\""
   ],
   "metadata": {
    "id": "h_FbzM9ti9Lq"
   },
   "execution_count": 18,
   "outputs": []
  },
  {
   "cell_type": "code",
   "source": [
    "def generate_text(question, _model, max_length=2048):\n",
    "    FastLanguageModel.for_inference(_model)  # Unsloth has 2x faster inference!\n",
    "    inputs = tokenizer([question_prompt_style.format(question, \"\")], return_tensors=\"pt\").to(\"cuda\")\n",
    "\n",
    "    outputs = model.generate(\n",
    "        input_ids=inputs.input_ids,\n",
    "        attention_mask=inputs.attention_mask,\n",
    "        max_new_tokens=max_length,\n",
    "        temperature = 0.1,\n",
    "    )\n",
    "    response = tokenizer.batch_decode(outputs)\n",
    "    return response"
   ],
   "metadata": {
    "id": "ju9OFJpiCyi2"
   },
   "execution_count": 19,
   "outputs": []
  },
  {
   "cell_type": "markdown",
   "source": [
    "We'll be using the following evaluation table:\n",
    "\n",
    "| Score  | Meaning                                                                                  |\n",
    "| ------ | ---------------------------------------------------------------------------------------- |\n",
    "| **\u20131** | **Incorrect** \u2013 Wrong conclusion or major misconception                                  |\n",
    "| **0**  | **Uncertain / No useful answer** \u2013 No clear answer given or model admits it doesn't know |\n",
    "| **1**  | **Somewhat correct** \u2013 Contains partial truth or insight but flawed overall              |\n",
    "| **3**  | **Completely correct** \u2013 Accurate answer with clear and logical reasoning                |\n"
   ],
   "metadata": {
    "id": "tAQ7CFGl-YLw"
   }
  },
  {
   "cell_type": "markdown",
   "source": [
    "### Test Case 1: Membrane Potential and Ion Permeability\n",
    "Testing understanding of cellular physiology and electrochemical gradients."
   ],
   "metadata": {
    "id": "aRVr-MJCfTLQ"
   }
  },
  {
   "cell_type": "code",
   "source": [
    "_response = {}\n",
    "question = \"If a cell's membrane becomes more permeable to sodium ions but less permeable to potassium ions, what would likely happen to the cell's resting membrane potential? Why?\""
   ],
   "metadata": {
    "id": "25q82hrDDm1a"
   },
   "execution_count": 20,
   "outputs": []
  },
  {
   "cell_type": "code",
   "source": [
    "output = generate_text(question, model)\n",
    "_response[\"base_reasoning\"] = output\n",
    "print(output[0].split(\"### Response:\")[1])"
   ],
   "metadata": {
    "id": "iT2n1oh2Dmxi",
    "colab": {
     "base_uri": "https://localhost:8080/"
    },
    "outputId": "64e7d0d9-96bf-4046-856a-699a987bb150"
   },
   "execution_count": 21,
   "outputs": [
    {
     "output_type": "stream",
     "name": "stdout",
     "text": [
      "\n",
      "<think>\n",
      "Okay, so I'm trying to figure out what happens to a cell's resting membrane potential if its membrane becomes more permeable to sodium ions but less permeable to potassium ions. Let me break this down step by step.\n",
      "\n",
      "First, I remember that the resting membrane potential is the difference between the inside and outside of a cell's membrane. It's usually around 70 millivolts (mV) when the cell is resting. This potential is maintained by ion channels and pumps that allow ions to flow in and out of the cell.\n",
      "\n",
      "Now, sodium ions (Na+) and potassium ions (K+) are both ions that can cross the membrane. I think sodium is a larger ion compared to potassium, so maybe it's easier for sodium ions to pass through the membrane than potassium ions. But wait, I'm not entirely sure about the permeability of sodium and potassium channels. I recall that sodium channels are more permeable than potassium channels, but I'm not certain about the exact order.\n",
      "\n",
      "The question says the membrane becomes more permeable to sodium ions but less permeable to potassium ions. So, sodium can pass through more easily than potassium. How does this affect the membrane potential?\n",
      "\n",
      "I remember that when a cell is resting, the majority of ions that can flow out are sodium ions. This is because sodium is a sodium-potassium exchanger, and it's more efficient at moving sodium out of the cell. If sodium is more easily permeable, the concentration gradient of sodium inside the cell is maintained better. But what about potassium?\n",
      "\n",
      "If potassium is less permeable, that means more potassium ions can enter the cell. Since potassium is a larger ion, it's harder for it to move out of the cell. So, if potassium is less permeable, the concentration gradient of potassium inside the cell would be maintained better, but that's not the main point here.\n",
      "\n",
      "Wait, the question is about the resting membrane potential. The resting potential is determined by the majority of ions that can flow out. If sodium is more easily permeable, the majority of sodium ions are moving out of the cell, which maintains the positive potential. But what about potassium? If potassium is less permeable, more potassium ions can enter the cell, which would increase the negative potential.\n",
      "\n",
      "But wait, the resting potential is about the difference between inside and outside. If sodium is more easily permeable, the majority of sodium is moving out, so the inside is more positive. But potassium is less permeable, so more potassium is entering, making the outside more negative. So the net effect would be a decrease in the resting membrane potential because the outside is more negative.\n",
      "\n",
      "Wait, but I'm not sure if that's correct. Let me think again. If sodium is more easily permeable, the majority of sodium is moving out, so the inside is more positive. But potassium is less permeable, so more potassium is entering, making the outside more negative. So the net effect is that the outside is more negative than it would be if both were equally permeable. Therefore, the resting membrane potential would decrease because the outside is more negative.\n",
      "\n",
      "Alternatively, maybe the majority of ions that can flow out are sodium, so the inside is more positive. But potassium is less permeable, so more potassium enters, making the outside more negative. So the net effect is that the outside is more negative than it would be if both were equally permeable. Therefore, the resting membrane potential would decrease.\n",
      "\n",
      "Wait, but I'm a bit confused. Let me try to visualize it. If sodium is more easily permeable, the majority of sodium is moving out, so the inside is positive. But potassium is less permeable, so more potassium is entering, making the outside negative. So the net effect is that the outside is more negative than it would be if both were equally permeable. Therefore, the resting membrane potential would decrease.\n",
      "\n",
      "Alternatively, maybe the majority of ions that can flow out are sodium, so the inside is positive. But potassium is less permeable, so more potassium enters, making the outside negative. So the net effect is that the outside is more negative than it would be if both were equally permeable. Therefore, the resting membrane potential would decrease.\n",
      "\n",
      "Wait, but I'm not sure if that's correct. Let me think about it differently. The resting membrane potential is determined by the majority of ions that can flow out. If sodium is more easily permeable, the majority of sodium is moving out, so the inside is positive. But potassium is less permeable, so more potassium enters, making the outside negative. So the net effect is that the outside is more negative than it would be if both were equally permeable. Therefore, the resting membrane potential would decrease.\n",
      "\n",
      "Wait, but I'm not sure if that's correct. Let me think about it in terms of ion movement. If sodium is more easily permeable, sodium ions leave the cell more easily, maintaining a positive inside. But potassium is less permeable, so potassium ions enter the cell more easily, making the outside more negative. So the net effect is that the outside is more negative than it would be if both were equally permeable. Therefore, the resting membrane potential would decrease.\n",
      "\n",
      "Wait, but I'm not sure if that's correct. Let me think about it in terms of the majority. If sodium is more easily permeable, the majority of sodium is moving out, so the inside is positive. But potassium is less permeable, so more potassium is entering, making the outside negative. So the net effect is that the outside is more negative than it would be if both were equally permeable. Therefore, the resting membrane potential would decrease.\n",
      "\n",
      "Wait, but I'm not sure if that's correct. Let me think about it in terms of the net effect. If sodium is more easily permeable, the majority of sodium is moving out, so the inside is positive. But potassium is less permeable, so more potassium is entering, making the outside negative. So the net effect is that the outside is more negative than it would be if both were equally permeable. Therefore, the resting membrane potential would decrease.\n",
      "\n",
      "Wait, but I'm not sure if that's correct. Let me think about it in terms of the net effect. If sodium is more easily permeable, the majority of sodium is moving out, so the inside is positive. But potassium is less permeable, so more potassium is entering, making the outside negative. So the net effect is that the outside is more negative than it would be if both were equally permeable. Therefore, the resting membrane potential would decrease.\n",
      "\n",
      "Wait, but I'm not sure if that's correct. Let me think about it in terms of the net effect. If sodium is more easily permeable, the majority of sodium is moving out, so the inside is positive. But potassium is less permeable, so more potassium is entering, making the outside negative. So the net effect is that the outside is more negative than it would be if both were equally permeable. Therefore, the resting membrane potential would decrease.\n",
      "\n",
      "Wait, but I'm not sure if that's correct. Let me think about it in terms of the net effect. If sodium is more easily permeable, the majority of sodium is moving out, so the inside is positive. But potassium is less permeable, so more potassium is entering, making the outside negative. So the net effect is that the outside is more negative than it would be if both were equally permeable. Therefore, the resting membrane potential would decrease.\n",
      "\n",
      "Wait, but I'm not sure if that's correct. Let me think about it in terms of the net effect. If sodium is more easily permeable, the majority of sodium is moving out, so the inside is positive. But potassium is less permeable, so more potassium is entering, making the outside negative. So the net effect is that the outside is more negative than it would be if both were equally permeable. Therefore, the resting membrane potential would decrease.\n",
      "\n",
      "Wait, but I'm not sure if that's correct. Let me think about it in terms of the net effect. If sodium is more easily permeable, the majority of sodium is moving out, so the inside is positive. But potassium is less permeable, so more potassium is entering, making the outside negative. So the net effect is that the outside is more negative than it would be if both were equally permeable. Therefore, the resting membrane potential would decrease.\n",
      "\n",
      "Wait, but I'm not sure if that's correct. Let me think about it in terms of the net effect. If sodium is more easily permeable, the majority of sodium is moving out, so the inside is positive. But potassium is less permeable, so more potassium is entering, making the outside negative. So the net effect is that the outside is more negative than it would be if both were equally permeable. Therefore, the resting membrane potential would decrease.\n",
      "\n",
      "Wait, but I'm not sure if that's correct. Let me think about it in terms of the net effect. If sodium is more easily permeable, the majority of sodium is moving out, so the inside is positive. But potassium is less permeable, so more potassium is entering, making the outside negative. So the net effect is that the outside is more negative than it would be if both were equally permeable. Therefore, the resting membrane potential would decrease.\n",
      "\n",
      "Wait, but I'm not sure if that's correct. Let me think about it in terms of the net effect. If sodium is more easily permeable, the majority of sodium is moving out, so the inside is positive. But potassium is less permeable, so more potassium is entering, making the outside negative. So the net effect is that the outside is more negative than it would be if both were equally permeable. Therefore, the resting membrane potential would decrease.\n",
      "\n",
      "Wait, but I'm not sure if that's correct. Let me think about it in terms of the net effect. If sodium is more easily permeable, the majority of sodium is moving out, so\n"
     ]
    }
   ]
  },
  {
   "cell_type": "code",
   "source": [
    "output = generate_text(question, bio_model)\n",
    "_response[\"tuned_reasoning\"] = output\n",
    "print(output[0].split(\"### Response:\")[1])"
   ],
   "metadata": {
    "id": "JNK2rYeGDms-",
    "colab": {
     "base_uri": "https://localhost:8080/"
    },
    "outputId": "fc406ba9-0a8e-46e2-ac98-b034c5bf39ec"
   },
   "execution_count": 22,
   "outputs": [
    {
     "output_type": "stream",
     "name": "stdout",
     "text": [
      "\n",
      "<think>\n",
      "Okay, so I'm trying to figure out what happens to a cell's resting membrane potential if its membrane becomes more permeable to sodium ions but less permeable to potassium ions. Let me break this down step by step.\n",
      "\n",
      "First, I remember that the resting membrane potential is the difference between the inside and outside of a cell's membrane. It's usually around 70 millivolts (mV) when the cell is resting. This potential is maintained by ion channels and pumps that allow ions to flow in and out of the cell.\n",
      "\n",
      "Now, sodium ions (Na+) and potassium ions (K+) are both important ions, but they have different properties. Sodium is a larger ion compared to potassium, which is smaller. I think this affects how easily they can enter or exit the cell.\n",
      "\n",
      "The cell membrane's permeability to sodium and potassium depends on the ion's charge and size. Sodium ions are positively charged, and potassium ions are negatively charged. I remember that positively charged ions are harder to push into the cell because they have to overcome the electrostatic repulsion when entering. So, if the membrane is more permeable to sodium, that means sodium ions can enter the cell more easily.\n",
      "\n",
      "On the flip side, potassium ions are harder to push out because they're negatively charged and have more electrostatic repulsion. So, if the membrane is less permeable to potassium, potassium ions can't leave as easily.\n",
      "\n",
      "Putting this together, if sodium is easier to enter and potassium is harder to exit, the cell should have a higher concentration of sodium inside compared to potassium outside. Since sodium is a positive ion, it contributes positively to the membrane potential. Potassium is negative, so it contributes negatively.\n",
      "\n",
      "So, the resting membrane potential would be higher because sodium is inside and potassium is outside. The exact value depends on the concentration of these ions, but the general trend is that the membrane potential increases.\n",
      "\n",
      "Wait, but I should double-check if this is always the case. Sometimes, the presence of other ions can affect the membrane potential. For example, if there are other ions that compete with sodium and potassium, it might influence the potential. But in this scenario, we're only changing sodium and potassium permeability, so the main effect should be on the membrane potential.\n",
      "\n",
      "Another thing to consider is the concentration gradients. If sodium is inside and potassium is outside, the cell should pump sodium in and potassium out. This would push the membrane potential towards positive, increasing it.\n",
      "\n",
      "So, in conclusion, the cell's resting membrane potential would likely increase because sodium is more easily permeable and contributes positively to the potential, while potassium is less easily permeable and contributes negatively.\n",
      "</think>\n",
      "\n",
      "When a cell's membrane becomes more permeable to sodium ions (Na\u207a) and less permeable to potassium ions (K\u207a), the resting membrane potential is likely to increase. This is because sodium ions are positively charged and easier to enter the cell, while potassium ions are negatively charged and harder to exit. The net effect is a higher concentration of sodium inside the cell compared to potassium outside, leading to an increase in the resting membrane potential.<\uff5cend\u2581of\u2581sentence\uff5c>\n"
     ]
    }
   ]
  },
  {
   "cell_type": "code",
   "source": [
    "_response[\"question\"] = question\n",
    "responses.append(_response)"
   ],
   "metadata": {
    "id": "o0vJQgYH1Pse"
   },
   "execution_count": 23,
   "outputs": []
  },
  {
   "cell_type": "markdown",
   "source": [
    "**Ground Truth:**\n",
    "Increased Na\u207a permeability and decreased K\u207a permeability cause the membrane potential to become **less negative** (i.e., **increase** or depolarize).\n",
    "\n",
    "| Model     | Score | Notes                                                                                                     |\n",
    "| --------- | :---: | --------------------------------------------------------------------------------------------------------- |\n",
    "| **Base**  |   -1   | Concludes a decrease in potential (hyperpolarization), which is wrong. Repetitive and confused reasoning. |\n",
    "| **Tuned** |   1   | Correct final answer (increase) but poor and incorrect explanation (mixes up charges and movements).      |"
   ],
   "metadata": {
    "id": "-ZpdNhDF8p-Y"
   }
  },
  {
   "cell_type": "markdown",
   "source": [
    "### Test Case 2: Genetics and Phenotype Expression\n",
    "Testing knowledge of dominance relationships and phenotypic expression."
   ],
   "metadata": {
    "id": "f9da9zFAfXMu"
   }
  },
  {
   "cell_type": "code",
   "source": [
    "_response = {}\n",
    "question = \"\"\"Suppose a mouse population has individuals with genotypes AA, Aa, and aa for coat color, and A is completely dominant over a. Will there be 3 different coat color phenotypes visible in the population?\"\"\""
   ],
   "metadata": {
    "id": "eJ9dJaTOIT2p"
   },
   "execution_count": 24,
   "outputs": []
  },
  {
   "cell_type": "code",
   "source": [
    "output = generate_text(question, model)\n",
    "_response[\"base_reasoning\"] = output\n",
    "print(output[0].split(\"### Response:\")[1])"
   ],
   "metadata": {
    "id": "1Juoc6-xIWnn",
    "colab": {
     "base_uri": "https://localhost:8080/"
    },
    "outputId": "cd8deee2-634a-4a9b-b6ec-1b66b0da0cb4"
   },
   "execution_count": 25,
   "outputs": [
    {
     "output_type": "stream",
     "name": "stdout",
     "text": [
      "\n",
      "<think>\n",
      "Okay, so I'm trying to figure out this genetics question about mice and coat color. The question is about whether there will be three different phenotypes in the population based on the genotypes AA, Aa, and aa. The dominant allele A is completely over the recessive a. \n",
      "\n",
      "First, I remember that in genetics, the phenotype is the observable trait, which in this case is the coat color. Since A is dominant, any mouse with at least one A allele will have the dominant phenotype, which I think is black. The aa genotype would have the recessive phenotype, which is white. \n",
      "\n",
      "So, looking at the genotypes given: AA is black, Aa is also black because they have at least one A, and aa is white. That means there are only two phenotypes: black and white. \n",
      "\n",
      "Wait, but the question is asking if there are three different phenotypes. So, if all three genotypes were present, we would have three phenotypes. But here, only AA, Aa, and aa are present. AA is black, Aa is black, and aa is white. So, only two phenotypes. \n",
      "\n",
      "I'm a bit confused because sometimes people might think that the presence of different genotypes could lead to more phenotypes, but in this case, since A is dominant, all the Aa and AA are the same phenotype. So, the number of phenotypes depends on how many different genotypes there are. \n",
      "\n",
      "So, in this population, there are three genotypes, but only two phenotypes because two of them are the same. Therefore, the answer should be no, there won't be three different phenotypes. \n",
      "\n",
      "I think I got it. The key here is understanding that the dominant allele masks the recessive one, so all the Aa and AA are the same phenotype. Only the aa is the other phenotype. So, only two phenotypes in total.\n",
      "</think>\n",
      "\n",
      "The coat color phenotypes in the mouse population will be two: black (phenotype AA or Aa) and white (phenotype aa). Therefore, there are **two different phenotypes**, not three.\n",
      "\n",
      "**Answer:** No, there will not be three different coat color phenotypes. There will be two phenotypes: black and white.<\uff5cend\u2581of\u2581sentence\uff5c>\n"
     ]
    }
   ]
  },
  {
   "cell_type": "code",
   "source": [
    "output = generate_text(question, bio_model)\n",
    "_response[\"tuned_reasoning\"] = output\n",
    "print(output[0].split(\"### Response:\")[1])"
   ],
   "metadata": {
    "id": "SzrTdrzuITzX",
    "colab": {
     "base_uri": "https://localhost:8080/"
    },
    "outputId": "98e84bf1-a105-4ec9-993a-8317f2e8e89b"
   },
   "execution_count": 26,
   "outputs": [
    {
     "output_type": "stream",
     "name": "stdout",
     "text": [
      "\n",
      "<think>\n",
      "Okay, so I'm trying to figure out whether a mouse population with genotypes AA, Aa, and aa will show three different coat color phenotypes. Let me break this down step by step.\n",
      "\n",
      "First, I know that coat color in mice is determined by a genetic trait, and here it's completely dominant. So, A is the dominant allele, and a is the recessive one. That means the presence of at least one A allele will result in the AA or Aa genotype, which would be phenotype A. The aa genotype would be phenotype a.\n",
      "\n",
      "Now, looking at the genotypes given: AA, Aa, and aa. Each of these corresponds to a specific phenotype based on the dominant and recessive alleles. So, AA would be phenotype A, Aa would also be phenotype A because the dominant A is present, and aa would be phenotype a.\n",
      "\n",
      "Wait, but the question is asking if there are three different phenotypes. So, if I have AA, Aa, and aa, that's three different genotypes. But according to the dominance, AA and Aa both would show phenotype A, and aa would show phenotype a. So, there are only two phenotypes in total.\n",
      "\n",
      "But hold on, maybe I'm missing something. Could there be another phenotype if the dominance is incomplete? No, the question says A is completely dominant, so that shouldn't be the case. So, regardless of the number of genotypes, the phenotypes depend on the presence of the dominant allele.\n",
      "\n",
      "So, in this population, there are three genotypes, but only two phenotypes because AA and Aa both express A, and aa expresses a. Therefore, the population would only show two different coat color phenotypes, not three.\n",
      "</think>\n",
      "\n",
      "The mouse population with genotypes AA, Aa, and aa will display only two different coat color phenotypes. This is because AA and Aa both express phenotype A (dominant), while aa expresses phenotype a (recessive). Therefore, there are two phenotypes visible in the population.\n",
      "\n",
      "**Answer:** No, the population will not show three different phenotypes. There will be only two phenotypes: A and a.<\uff5cend\u2581of\u2581sentence\uff5c>\n"
     ]
    }
   ]
  },
  {
   "cell_type": "code",
   "source": [
    "_response[\"question\"] = question\n",
    "responses.append(_response)"
   ],
   "metadata": {
    "id": "WsTxRRn91Ozp"
   },
   "execution_count": 27,
   "outputs": []
  },
  {
   "cell_type": "markdown",
   "source": [
    "**Ground Truth:**\n",
    "AA and Aa give the same (dominant) phenotype; aa gives recessive. **Only 2 phenotypes** occur.\n",
    "\n",
    "| Model     | Score | Notes                                                               |\n",
    "| --------- | :---: | ------------------------------------------------------------------- |\n",
    "| **Base**  |   1   | Correct answer and logic, but a bit verbose and initially confused. |\n",
    "| **Tuned** |   3   | Fully correct, clean and concise reasoning.                         |"
   ],
   "metadata": {
    "id": "PuGj3a_y-l25"
   }
  },
  {
   "cell_type": "markdown",
   "source": [
    "### Test Case 3: Evolutionary Biology and Natural Selection\n",
    "Testing understanding of competitive advantage and evolutionary dynamics."
   ],
   "metadata": {
    "id": "RrE0OFE3fdQh"
   }
  },
  {
   "cell_type": "code",
   "source": [
    "_response = {}\n",
    "question = \"In a population of bacteria, a mutation occurs that makes the bacteria produce a toxic compound that kills nearby competitors. However, the bacteria with this mutation grow more slowly than non-mutated bacteria when alone. Would you expect this mutation to become more or less common over time? Why?\""
   ],
   "metadata": {
    "id": "7eIC7k9Qj1Vg"
   },
   "execution_count": 28,
   "outputs": []
  },
  {
   "cell_type": "code",
   "source": [
    "output = generate_text(question, model)\n",
    "_response[\"base_reasoning\"] = output\n",
    "print(output[0].split(\"### Response:\")[1])"
   ],
   "metadata": {
    "id": "whMTFhNNj1Vg",
    "colab": {
     "base_uri": "https://localhost:8080/"
    },
    "outputId": "a04f2251-f6f8-46f9-adb5-38b2f5c8af54"
   },
   "execution_count": 29,
   "outputs": [
    {
     "output_type": "stream",
     "name": "stdout",
     "text": [
      "\n",
      "<think>\n",
      "Okay, so I'm trying to figure out whether this mutation in bacteria will become more or less common over time. Let me break this down step by step.\n",
      "\n",
      "First, the mutation makes the bacteria produce a toxic compound. That toxic compound is supposed to kill nearby competitors. So, if a bacterium with this mutation is in a crowded area, it might be toxic to other bacteria nearby. But the mutation also makes these bacteria grow more slowly when they're alone. So, if they're not around much, they don't grow as fast as normal bacteria.\n",
      "\n",
      "Now, I need to think about how this mutation affects their survival and reproduction. If the toxic compound is present, it might make it harder for these bacteria to survive when they're in a group. But wait, the mutation also affects their growth rate when alone. So, when they're alone, they don't grow as quickly as others. That could mean they might not be able to reproduce as effectively when they're in a group because they're not as fit.\n",
      "\n",
      "But how does this affect their ability to reproduce? If they're slower to grow when alone, maybe they can't reproduce as quickly when they're in a group because they're not as fit. So, in a crowded environment, they might struggle to find enough neighbors to outcompete. That could lead to them being outcompeted and dying off.\n",
      "\n",
      "Alternatively, if they're slower to grow when alone, maybe they can't form clusters because they can't reproduce quickly. So, they might not cluster together, and the toxic compound might not be effective because they can't find enough neighbors to outcompete. That could mean the mutation doesn't help them survive as much as it helps others.\n",
      "\n",
      "Wait, but the toxic compound is supposed to kill nearby competitors. So, if the bacteria with the mutation can't reproduce quickly, they might not be able to find enough neighbors to outcompete. That would mean they can't survive because they can't find enough neighbors to outcompete, and the toxic compound might not be effective because they can't form clusters.\n",
      "\n",
      "So, in this scenario, the mutation makes them grow more slowly when alone, which could lead to them not being able to reproduce and thus not being able to outcompete others. That would mean they don't survive as well as they would if they were non-mutated. So, the mutation would make them less common because they can't reproduce as effectively and can't find enough neighbors to outcompete.\n",
      "\n",
      "Wait, but the question says that the mutation makes them grow more slowly when alone. So, if they grow more slowly, they might not be able to form clusters because they can't reproduce quickly. That would mean they can't outcompete others, so they die off. So, the mutation would make them less common because they can't reproduce and can't cluster.\n",
      "\n",
      "Alternatively, if they can't reproduce quickly, they might not be able to find enough neighbors to outcompete, so they die off. So, the mutation would make them less common.\n",
      "\n",
      "Wait, but the toxic compound is supposed to kill nearby competitors. So, if the bacteria with the mutation can't reproduce quickly, they can't find enough neighbors to outcompete, so they die off. So, the mutation makes them less common.\n",
      "\n",
      "I think that's the case. So, the mutation would lead to the bacteria with it dying off because they can't reproduce and can't outcompete others. So, the mutation would become less common over time.\n",
      "</think>\n",
      "\n",
      "The mutation in question leads to the following outcomes:\n",
      "\n",
      "1. **Growth Rate**: The bacteria with the mutation grow more slowly when alone, which means they are less fit to reproduce quickly.\n",
      "\n",
      "2. **Reproduction**: Due to their slower growth rate, these bacteria cannot form clusters effectively. This makes them less likely to outcompete their neighbors, leading to their death.\n",
      "\n",
      "3. **Survival**: The toxic compound produced by these bacteria is intended to kill nearby competitors. However, since they cannot reproduce quickly, they cannot find enough neighbors to outcompete, making the toxic compound less effective.\n",
      "\n",
      "4. **Outcome**: As a result, the bacteria with the mutation are less common over time because they cannot reproduce and cannot outcompete their neighbors.\n",
      "\n",
      "**Conclusion**: The mutation makes the bacteria with it less common over time because they cannot reproduce and cannot outcompete their neighbors, leading to their eventual death.<\uff5cend\u2581of\u2581sentence\uff5c>\n"
     ]
    }
   ]
  },
  {
   "cell_type": "code",
   "source": [
    "output = generate_text(question, bio_model)\n",
    "_response[\"tuned_reasoning\"] = output\n",
    "print(output[0].split(\"### Response:\")[1])"
   ],
   "metadata": {
    "id": "CZ5739dEj1Vg",
    "colab": {
     "base_uri": "https://localhost:8080/"
    },
    "outputId": "d2cb6f96-85a3-4710-9764-32e1b4d7e2ff"
   },
   "execution_count": 30,
   "outputs": [
    {
     "output_type": "stream",
     "name": "stdout",
     "text": [
      "\n",
      "<think>\n",
      "Okay, so I'm trying to figure out whether this mutation in bacteria will become more or less common over time. Let me break it down step by step.\n",
      "\n",
      "First, the mutation makes the bacteria produce a toxic compound. That toxic compound is supposed to kill nearby competitors. So, if a bacterium with this mutation is around another bacterium that doesn't have the mutation, the one with the mutation will probably die because it's toxic to the competitor.\n",
      "\n",
      "But wait, the mutation also makes these bacteria grow more slowly when they're alone. So, if they're not around any competitors, they grow slower. But when they are around competitors, they die because of the toxic compound.\n",
      "\n",
      "Now, I need to think about how this affects their survival and reproduction. If a bacterium with this mutation is in a crowded area, it will die because it's toxic to the nearby competitors. But if it's alone, it grows more slowly, which might mean it's harder to reproduce or survive on its own.\n",
      "\n",
      "So, in a population, if there are many bacteria with this mutation, they might outcompete each other. Each one would be toxic to others, so they might all die. But if they're rare, maybe they can survive and reproduce, but their growth is slower when alone.\n",
      "\n",
      "I'm trying to think about natural selection. If the mutation leads to faster growth when alone, but slower growth when in a crowded environment, how does that affect their chances of survival and reproduction?\n",
      "\n",
      "If the bacteria with the mutation are rare, they might have a harder time finding neighbors to outcompete. So, they might not survive as well because they can't find enough bacteria to outcompete. But if they are rare, maybe they can't reproduce either because they grow slowly.\n",
      "\n",
      "Wait, but if they are rare, maybe they can't find enough neighbors to outcompete, so they might not survive. Alternatively, if they are rare, they might have a harder time finding neighbors, so they might not be able to reproduce either.\n",
      "\n",
      "So, in a population where there are many bacteria with this mutation, they might outcompete each other and die. But if they are rare, they might not be able to reproduce because they grow slowly. So, maybe the mutation would become less common because they can't reproduce and don't survive when in a crowded environment.\n",
      "\n",
      "Alternatively, if the mutation leads to faster growth when alone, but slower growth when in a crowded environment, maybe the bacteria with the mutation can't reproduce when they are in a crowded area, so they might not survive. But if they are rare, they might not be able to find enough neighbors to outcompete, so they die.\n",
      "\n",
      "So, in a population, if the mutation leads to faster growth when alone, but slower growth when in a crowded environment, and if the bacteria with the mutation are rare, they might not be able to reproduce and outcompete others. So, the mutation might become less common because they can't reproduce and don't survive when in a crowded environment.\n",
      "\n",
      "But wait, if the mutation makes them grow more slowly when alone, maybe they can't reproduce when they are rare. So, in a population where there are many bacteria with this mutation, they might outcompete each other and die. But if they are rare, they can't reproduce, so they don't survive. So, the mutation would become less common because they can't reproduce and don't survive when in a crowded environment.\n",
      "\n",
      "Alternatively, if the mutation leads to faster growth when alone, but slower growth when in a crowded environment, maybe the bacteria with the mutation can't reproduce when they are in a crowded environment, so they die. But if they are rare, they can't find enough neighbors to outcompete, so they die too. So, the mutation would become less common because they can't reproduce and don't survive.\n",
      "\n",
      "I think the key here is that the bacteria with the mutation grow more slowly when alone, which might make them harder to reproduce. So, in a population, if there are many bacteria with this mutation, they might outcompete each other and die. But if they are rare, they can't reproduce, so they don't survive. Therefore, the mutation would become less common because they can't reproduce and don't survive when in a crowded environment.\n",
      "\n",
      "Wait, but if they are rare, maybe they can't find enough neighbors to outcompete, so they die. So, the mutation would become less common because they can't reproduce and don't survive when in a crowded environment.\n",
      "\n",
      "I think that's the reasoning. So, the mutation would become less common because the bacteria with the mutation can't reproduce and don't survive when in a crowded environment.\n",
      "</think>\n",
      "\n",
      "The mutation in question leads to faster growth when the bacteria are alone but slower growth when they are in a crowded environment. This combination of behaviors affects their survival and reproduction in a population. Here's the step-by-step reasoning:\n",
      "\n",
      "1. **Behavioral Outcomes**:\n",
      "   - **Rare Bacteria**: If the mutation leads to slower growth when alone, these bacteria might struggle to reproduce or find neighbors, making them harder to survive.\n",
      "   - **Dense Bacteria**: In crowded environments, the faster growth when alone could outcompete nearby bacteria, leading to their death.\n",
      "\n",
      "2. **Natural Selection Considerations**:\n",
      "   - **Rarity and Reproduction**: Rare bacteria might not be able to find enough neighbors to outcompete, making them harder to reproduce.\n",
      "   - **Survival in Crowded Environments**: In crowded areas, the faster growth when alone could lead to their death, reducing their chances of survival.\n",
      "\n",
      "3. **Population Dynamics**:\n",
      "   - **Rarity and Outcompeting**: Rare bacteria might not be able to find enough neighbors to outcompete, leading to their death.\n",
      "   - **Reproduction Challenges**: In crowded environments, the faster growth when alone could outcompete, leading to their death.\n",
      "\n",
      "4. **Conclusion**:\n",
      "   - The mutation would become less common because the bacteria with the mutation cannot reproduce and do not survive when in a crowded environment.\n",
      "\n",
      "**Final Answer**: The mutation would become less common because the bacteria with the mutation cannot reproduce and do not survive when in a crowded environment.<\uff5cend\u2581of\u2581sentence\uff5c>\n"
     ]
    }
   ]
  },
  {
   "cell_type": "code",
   "source": [
    "_response[\"question\"] = question\n",
    "responses.append(_response)"
   ],
   "metadata": {
    "id": "4M3FHGV61OSL"
   },
   "execution_count": 31,
   "outputs": []
  },
  {
   "cell_type": "markdown",
   "source": [
    "**Ground Truth:**\n",
    "Slower growth makes the mutant less fit. Mutation becomes **less common**.\n",
    "\n",
    "| Model     | Score | Notes                                                                                 |\n",
    "| --------- | :---: | ------------------------------------------------------------------------------------- |\n",
    "| **Base**  |   1   | Correct outcome but flawed reasoning about reduced fitness. Repetitive.                      |\n",
    "| **Tuned** |   -1   | Incorrect reasoning (misunderstands who is harmed), but ends with correct conclusion. |"
   ],
   "metadata": {
    "id": "bAk4-h_s-uVp"
   }
  },
  {
   "cell_type": "markdown",
   "source": [
    "### Test Case 4: Ecology and Energy Transfer\n",
    "Testing quantitative understanding of ecological energy pyramids."
   ],
   "metadata": {
    "id": "9WR1y5P3fg6L"
   }
  },
  {
   "cell_type": "code",
   "source": [
    "_response = {}\n",
    "question = \"\"\"In a pond ecosystem, if there are 100 producer organisms (algae), and each trophic level transfers 10% of energy to the next level,\n",
    "what is the maximum number of tertiary consumers (third-level predators) that could be supported?\"\"\""
   ],
   "metadata": {
    "id": "VNbpp4YoDaEL"
   },
   "execution_count": 32,
   "outputs": []
  },
  {
   "cell_type": "code",
   "source": [
    "output = generate_text(question, model)\n",
    "_response[\"base_reasoning\"] = output\n",
    "print(output[0].split(\"### Response:\")[1])"
   ],
   "metadata": {
    "id": "BF7rj6dtDaA3",
    "colab": {
     "base_uri": "https://localhost:8080/"
    },
    "outputId": "50c520ed-756e-489d-c385-60bfe44661cf"
   },
   "execution_count": 33,
   "outputs": [
    {
     "output_type": "stream",
     "name": "stdout",
     "text": [
      "\n",
      "<think>\n",
      "Okay, so I'm trying to figure out this pond ecosystem question. Let me break it down step by step. \n",
      "\n",
      "First, the pond has 100 producer organisms, which are the algae. These are the primary producers, right? So they're the first level of the food chain. Each trophic level transfers 10% of the energy to the next level. That means each level is losing 90% of its energy to the next level.\n",
      "\n",
      "The question is asking about the maximum number of tertiary consumers, which are third-level predators. So, they're predators that depend on the producers and the first-level consumers. \n",
      "\n",
      "I think I need to calculate how much energy each trophic level can support. Since each level is losing 90%, the energy available at each level is 10% of the previous level. \n",
      "\n",
      "Starting with producers, they have 100 units of energy. Then, each consumer level takes 10% of the previous level. So, for the first consumer (primary consumers), they take 10% of 100, which is 10 units. \n",
      "\n",
      "But wait, the question is about tertiary consumers, so I need to go up two levels from producers. That would be the second consumer (which is the first-level predators) and then the third consumer (tertiary predators). \n",
      "\n",
      "So, for the second consumer, they take 10% of the 10 units from the first consumer. That would be 1 unit. Then, the tertiary consumers take 10% of that, which is 0.1 units. \n",
      "\n",
      "But wait, energy can't be fractional in this context, so maybe we need to consider whole numbers. So, each level can support a certain number of consumers based on the energy available. \n",
      "\n",
      "Alternatively, maybe the question is more about the maximum number of consumers based on energy transfer rather than the exact number of consumers. So, each consumer level can support a certain number of consumers based on the energy available. \n",
      "\n",
      "So, starting with producers: 100 units. \n",
      "\n",
      "Primary consumers (first level): They take 10% of 100, which is 10 units. So, each primary consumer can be supported by 10 units. \n",
      "\n",
      "But wait, that's energy, not the number of consumers. So, maybe each consumer requires a certain amount of energy to survive. \n",
      "\n",
      "Alternatively, perhaps the question is more about the maximum number of consumers based on the energy transfer efficiency. \n",
      "\n",
      "Wait, maybe I'm overcomplicating it. Let me think differently. \n",
      "\n",
      "The maximum number of consumers would be determined by how much energy each level can support. Since each level is losing 90%, the energy available at each level is 10% of the previous level. \n",
      "\n",
      "So, for the producers, they have 100 units. \n",
      "\n",
      "Primary consumers (first level): They take 10% of 100, which is 10 units. So, each primary consumer can be supported by 10 units. \n",
      "\n",
      "But wait, that's energy, not the number of consumers. So, maybe each consumer requires a certain amount of energy to survive. \n",
      "\n",
      "Alternatively, perhaps the question is more about the maximum number of consumers based on the energy available. \n",
      "\n",
      "Wait, maybe I should approach it by calculating how many consumers can be supported at each level. \n",
      "\n",
      "So, starting with producers: 100 units. \n",
      "\n",
      "Primary consumers: They can be supported by 10% of 100, which is 10 units. So, each primary consumer can be supported by 10 units. \n",
      "\n",
      "But wait, that's energy, not the number of consumers. So, maybe each consumer requires a certain amount of energy to survive. \n",
      "\n",
      "Alternatively, perhaps the question is more about the maximum number of consumers based on the energy transfer efficiency. \n",
      "\n",
      "Wait, maybe I should think in terms of how many consumers can be supported at each trophic level. \n",
      "\n",
      "So, for the producers, they have 100 units. \n",
      "\n",
      "Primary consumers: They can be supported by 10% of 100, which is 10 units. So, each primary consumer can be supported by 10 units. \n",
      "\n",
      "But wait, that's energy, not the number of consumers. So, maybe each consumer requires a certain amount of energy to survive. \n",
      "\n",
      "Alternatively, perhaps the question is more about the maximum number of consumers based on the energy available. \n",
      "\n",
      "Wait, maybe I should consider that each consumer requires a certain amount of energy to survive, so the number of consumers is limited by the energy available. \n",
      "\n",
      "So, starting with producers: 100 units. \n",
      "\n",
      "Primary consumers: They can be supported by 10% of 100, which is 10 units. So, each primary consumer can be supported by 10 units. \n",
      "\n",
      "But wait, that's energy, not the number of consumers. So, maybe each consumer requires a certain amount of energy to survive. \n",
      "\n",
      "Alternatively, perhaps the question is more about the maximum number of consumers based on the energy transfer efficiency. \n",
      "\n",
      "Wait, maybe I'm overcomplicating it. Let me try a different approach. \n",
      "\n",
      "The maximum number of consumers is determined by how much energy each level can support. Since each level is losing 90%, the energy available at each level is 10% of the previous level. \n",
      "\n",
      "So, starting with producers: 100 units. \n",
      "\n",
      "Primary consumers: They take 10% of 100, which is 10 units. So, each primary consumer can be supported by 10 units. \n",
      "\n",
      "But wait, that's energy, not the number of consumers. So, maybe each consumer requires a certain amount of energy to survive. \n",
      "\n",
      "Alternatively, perhaps the question is more about the maximum number of consumers based on the energy available. \n",
      "\n",
      "Wait, maybe I should think in terms of how many consumers can be supported at each level. \n",
      "\n",
      "So, for the producers, they have 100 units. \n",
      "\n",
      "Primary consumers: They can be supported by 10% of 100, which is 10 units. So, each primary consumer can be supported by 10 units. \n",
      "\n",
      "But wait, that's energy, not the number of consumers. So, maybe each consumer requires a certain amount of energy to survive. \n",
      "\n",
      "Alternatively, perhaps the question is more about the maximum number of consumers based on the energy transfer efficiency. \n",
      "\n",
      "Wait, maybe I'm overcomplicating it. Let me try to calculate the maximum number of consumers step by step. \n",
      "\n",
      "Starting with producers: 100 units. \n",
      "\n",
      "Primary consumers: They take 10% of 100, which is 10 units. So, each primary consumer can be supported by 10 units. \n",
      "\n",
      "But wait, that's energy, not the number of consumers. So, maybe each consumer requires a certain amount of energy to survive. \n",
      "\n",
      "Alternatively, perhaps the question is more about the maximum number of consumers based on the energy available. \n",
      "\n",
      "Wait, maybe I should consider that each consumer requires a certain amount of energy to survive, so the number of consumers is limited by the energy available. \n",
      "\n",
      "So, starting with producers: 100 units. \n",
      "\n",
      "Primary consumers: They can be supported by 10% of 100, which is 10 units. So, each primary consumer can be supported by 10 units. \n",
      "\n",
      "But wait, that's energy, not the number of consumers. So, maybe each consumer requires a certain amount of energy to survive. \n",
      "\n",
      "Alternatively, perhaps the question is more about the maximum number of consumers based on the energy transfer efficiency. \n",
      "\n",
      "Wait, maybe I'm overcomplicating it. Let me try to think in terms of how many consumers can be supported at each level. \n",
      "\n",
      "So, starting with producers: 100 units. \n",
      "\n",
      "Primary consumers: They can be supported by 10% of 100, which is 10 units. So, each primary consumer can be supported by 10 units. \n",
      "\n",
      "But wait, that's energy, not the number of consumers. So, maybe each consumer requires a certain amount of energy to survive. \n",
      "\n",
      "Alternatively, perhaps the question is more about the maximum number of consumers based on the energy available. \n",
      "\n",
      "Wait, maybe I should think in terms of how many consumers can be supported at each level. \n",
      "\n",
      "So, starting with producers: 100 units. \n",
      "\n",
      "Primary consumers: They can be supported by 10% of 100, which is 10 units. So, each primary consumer can be supported by 10 units. \n",
      "\n",
      "But wait, that's energy, not the number of consumers. So, maybe each consumer requires a certain amount of energy to survive. \n",
      "\n",
      "Alternatively, perhaps the question is more about the maximum number of consumers based on the energy transfer efficiency. \n",
      "\n",
      "Wait, maybe I'm overcomplicating it. Let me try to approach it differently. \n",
      "\n",
      "The maximum number of consumers is determined by how much energy each level can support. Since each level is losing 90%, the energy available at each level is 10% of the previous level. \n",
      "\n",
      "So, starting with producers: 100 units. \n",
      "\n",
      "Primary consumers: They take 10% of 100, which is 10 units. So, each primary consumer can be supported by 10 units. \n",
      "\n",
      "But wait, that's energy, not the number of consumers. So, maybe each consumer requires a certain amount of energy to survive. \n",
      "\n",
      "Alternatively, perhaps the question is more about the maximum number of consumers based on the energy available. \n",
      "\n",
      "Wait, maybe I should think in terms of how many consumers can be supported at each level. \n",
      "\n",
      "So, starting with producers: 100 units. \n",
      "\n",
      "Primary\n"
     ]
    }
   ]
  },
  {
   "cell_type": "code",
   "source": [
    "output = generate_text(question, bio_model)\n",
    "_response[\"tuned_reasoning\"] = output\n",
    "print(output[0].split(\"### Response:\")[1])"
   ],
   "metadata": {
    "id": "710Po5h_DZ5Q",
    "colab": {
     "base_uri": "https://localhost:8080/"
    },
    "outputId": "3593e143-346e-42ff-e0aa-c4b67dad7639"
   },
   "execution_count": 34,
   "outputs": [
    {
     "output_type": "stream",
     "name": "stdout",
     "text": [
      "\n",
      "<think>\n",
      "Okay, so I'm trying to figure out this pond ecosystem question. Let me start by understanding what's being asked. There are 100 producer organisms, which are the algae. Each trophic level transfers 10% of energy to the next level. I need to find out the maximum number of tertiary consumers, which are third-level predators, that could be supported.\n",
      "\n",
      "First, I should recall what trophic levels are. The producer is at level 1. Then, each consumer at a higher level consumes the previous one. So, level 2 would be primary consumers, level 3 would be secondary consumers, and level 4 would be tertiary consumers. Wait, no, actually, tertiary consumers are at level 4, right? Because each level is one step up in the food chain.\n",
      "\n",
      "Now, each trophic level transfers 10% of the energy to the next level. So, if I start with 100 producers, each level will have 10% of the energy from the previous level. But wait, energy isn't transferred directly; it's transferred as metabolic work. So, each consumer at a higher level would have 10% of the energy from the previous consumer.\n",
      "\n",
      "Wait, but the question is about the maximum number of tertiary consumers. So, I need to calculate how much energy each tertiary consumer would take up. Let me think step by step.\n",
      "\n",
      "Starting with producers: 100 units of energy. Each level takes 10% of the energy from the previous level. So, level 2 (primary consumers) would have 10% of 100, which is 10 units. Level 3 (secondary consumers) would have 10% of 10, which is 1 unit. Level 4 (tertiary consumers) would have 10% of 1, which is 0.1 units.\n",
      "\n",
      "Wait, but that seems too low. Maybe I'm misunderstanding the transfer. The question says each trophic level transfers 10% of energy to the next level. So, each consumer at level n takes 10% of the energy from level n-1.\n",
      "\n",
      "So, starting from producers (level 1): 100 units.\n",
      "\n",
      "Level 2 (primary consumers): 10% of 100 = 10 units.\n",
      "\n",
      "Level 3 (secondary consumers): 10% of 10 = 1 unit.\n",
      "\n",
      "Level 4 (tertiary consumers): 10% of 1 = 0.1 units.\n",
      "\n",
      "But wait, that would mean each tertiary consumer only takes 0.1 units of energy. But that seems too small. Maybe I'm missing something. Perhaps the energy transfer is cumulative, so each level is 10% of the previous level's energy.\n",
      "\n",
      "Wait, no, the question says each trophic level transfers 10% of energy to the next level. So, each consumer at level n takes 10% of the energy from level n-1.\n",
      "\n",
      "So, level 2: 10% of 100 = 10.\n",
      "\n",
      "Level 3: 10% of 10 = 1.\n",
      "\n",
      "Level 4: 10% of 1 = 0.1.\n",
      "\n",
      "But that would mean each tertiary consumer only takes 0.1 units of energy. That seems too low. Maybe I'm miscalculating.\n",
      "\n",
      "Wait, perhaps the energy transfer is cumulative, so each level is 10% of the previous level's energy. So, level 2 would have 10, level 3 would have 1, level 4 would have 0.1. But that would mean each tertiary consumer only takes 0.1 units, which seems too small. Maybe the question is asking for the maximum number of consumers, so perhaps I need to consider how many consumers can be supported given the energy available at each level.\n",
      "\n",
      "Wait, but the question is about the maximum number of tertiary consumers. So, perhaps I need to find how many consumers can be supported at each level, given the energy available.\n",
      "\n",
      "Wait, but each consumer at level n takes 10% of the energy from level n-1. So, the energy available at each level is 10% of the previous level.\n",
      "\n",
      "So, starting from level 1: 100 units.\n",
      "\n",
      "Level 2: 10 units.\n",
      "\n",
      "Level 3: 1 unit.\n",
      "\n",
      "Level 4: 0.1 units.\n",
      "\n",
      "But that seems too low. Maybe I'm misunderstanding the transfer. Perhaps each consumer at level n takes 10% of the energy from level n-1, but the energy available at each level is the energy from the previous level.\n",
      "\n",
      "Wait, perhaps the question is asking how many consumers can be supported at each level, given the energy available. So, for tertiary consumers, the energy available is 0.1 units. Each tertiary consumer would need to consume 10% of the energy from the previous level, which is 1 unit for level 3, so each tertiary consumer would need 0.1 units of energy.\n",
      "\n",
      "Wait, but that would mean each tertiary consumer only needs 0.1 units of energy, which seems too low. Maybe the question is asking for the maximum number of consumers, so perhaps I need to consider how many consumers can be supported given the energy available at each level.\n",
      "\n",
      "Wait, perhaps the question is asking for the maximum number of tertiary consumers, so each tertiary consumer would need to consume a certain amount of energy. So, if each tertiary consumer takes 10% of the energy from the previous level, then the energy available at level 4 is 0.1 units. So, each tertiary consumer would need 0.1 units of energy, which would allow for 1 tertiary consumer, since each tertiary consumer would take 0.1 units.\n",
      "\n",
      "Wait, but that seems too low. Maybe I'm missing something. Alternatively, perhaps the question is asking for the maximum number of consumers, so perhaps I need to consider how many consumers can be supported given the energy available at each level.\n",
      "\n",
      "Wait, perhaps the question is asking for the maximum number of consumers, so each consumer at level n would take 10% of the energy from level n-1. So, for tertiary consumers, the energy available is 0.1 units. Each tertiary consumer would need 0.1 units of energy, so only one tertiary consumer can be supported.\n",
      "\n",
      "But that seems too low. Maybe I'm misunderstanding the transfer. Alternatively, perhaps the energy transfer is cumulative, so each level is 10% of the previous level's energy.\n",
      "\n",
      "Wait, perhaps the question is asking for the maximum number of consumers, so each consumer at level n would take 10% of the energy from level n-1. So, for tertiary consumers, the energy available is 0.1 units. Each tertiary consumer would need 0.1 units of energy, so only one tertiary consumer can be supported.\n",
      "\n",
      "But that seems too low. Maybe I'm miscalculating. Alternatively, perhaps the question is asking for the maximum number of consumers, so each consumer at level n would take 10% of the energy from level n-1. So, for tertiary consumers, the energy available is 0.1 units. Each tertiary consumer would need 0.1 units of energy, so only one tertiary consumer can be supported.\n",
      "\n",
      "Wait, but that seems too low. Maybe I'm missing something. Alternatively, perhaps the question is asking for the maximum number of consumers, so each consumer at level n would take 10% of the energy from level n-1. So, for tertiary consumers, the energy available is 0.1 units. Each tertiary consumer would need 0.1 units of energy, so only one tertiary consumer can be supported.\n",
      "\n",
      "Wait, but that seems too low. Maybe I'm misunderstanding the transfer. Alternatively, perhaps the energy transfer is cumulative, so each level is 10% of the previous level's energy.\n",
      "\n",
      "Wait, perhaps the question is asking for the maximum number of consumers, so each consumer at level n would take 10% of the energy from level n-1. So, for tertiary consumers, the energy available is 0.1 units. Each tertiary consumer would need 0.1 units of energy, so only one tertiary consumer can be supported.\n",
      "\n",
      "Wait, but that seems too low. Maybe I'm miscalculating. Alternatively, perhaps the question is asking for the maximum number of consumers, so each consumer at level n would take 10% of the energy from level n-1. So, for tertiary consumers, the energy available is 0.1 units. Each tertiary consumer would need 0.1 units of energy, so only one tertiary consumer can be supported.\n",
      "\n",
      "Wait, but that seems too low. Maybe I'm missing something. Alternatively, perhaps the question is asking for the maximum number of consumers, so each consumer at level n would take 10% of the energy from level n-1. So, for tertiary consumers, the energy available is 0.1 units. Each tertiary consumer would need 0.1 units of energy, so only one tertiary consumer can be supported.\n",
      "\n",
      "Wait, but that seems too low. Maybe I'm misunderstanding the transfer. Alternatively, perhaps the energy transfer is cumulative, so each level is 10% of the previous level's energy.\n",
      "\n",
      "Wait, perhaps the question is asking for the maximum number of consumers, so each consumer at level n would take 10% of the energy from level n-1. So, for tertiary consumers, the energy available is 0.1 units. Each tertiary consumer would need 0.1 units of energy, so only one tertiary consumer can be supported.\n",
      "\n",
      "Wait, but that seems too low. Maybe I'm miscalculating. Alternatively, perhaps the question is asking\n"
     ]
    }
   ]
  },
  {
   "cell_type": "code",
   "source": [
    "_response[\"question\"] = question\n",
    "responses.append(_response)"
   ],
   "metadata": {
    "id": "YZgISZWU1Nto"
   },
   "execution_count": 35,
   "outputs": []
  },
  {
   "cell_type": "markdown",
   "source": [
    "**Ground Truth:**\n",
    "Each level gets 10% of the energy from the level below. From 100 producers \u2192 10 \u2192 1 \u2192 **0.1 tertiary consumers** possible (at most).\n",
    "\n",
    "| Model     | Score | Notes                                                  |\n",
    "| --------- | :---: | ------------------------------------------------------ |\n",
    "| **Base**  |   0   | Never concludes, just loops through calculations.      |\n",
    "| **Tuned** |   1   | Same issue, no clear final answer, but better reasoning (`consumer would need 0.1 units of energy`). |\n"
   ],
   "metadata": {
    "id": "at1h2ndU_GZd"
   }
  },
  {
   "cell_type": "markdown",
   "source": [
    "### Test Case 5: Microbiology and Population Genetics\n",
    "Testing complex quantitative reasoning involving growth rates and genetic drift.\n"
   ],
   "metadata": {
    "id": "us5hC500fneg"
   }
  },
  {
   "cell_type": "code",
   "source": [
    "_response = {}\n",
    "question = \"\"\"In a bacterial population of 10\u2076 cells carrying a plasmid with genes for both ampicillin resistance and GFP expression,\n",
    "what is the minimum number of generations needed to lose the plasmid in 99.9% of the population if:\n",
    "-Plasmid loss rate is 0.1% per cell division\n",
    "-Cells with plasmid grow 20% slower than cells without plasmid\n",
    "-No antibiotic selection is present\"\"\""
   ],
   "metadata": {
    "id": "j_J-IhTxj2yy"
   },
   "execution_count": 36,
   "outputs": []
  },
  {
   "cell_type": "code",
   "source": [
    "output = generate_text(question, model)\n",
    "_response[\"base_reasoning\"] = output\n",
    "print(output[0].split(\"### Response:\")[1])"
   ],
   "metadata": {
    "id": "lp6enRftj2yy",
    "colab": {
     "base_uri": "https://localhost:8080/"
    },
    "outputId": "061b1ad7-151b-4629-9c38-eaf361f21605"
   },
   "execution_count": 37,
   "outputs": [
    {
     "output_type": "stream",
     "name": "stdout",
     "text": [
      "\n",
      "<think>\n",
      "Okay, so I'm trying to figure out this bacterial population problem. Let me break it down step by step. \n",
      "\n",
      "First, there are 10^6 cells in the population. Each cell has a plasmid with genes for Ampicillin resistance and GFP expression. The goal is to find the minimum number of generations needed for the plasmid to be lost in 99.9% of the population. \n",
      "\n",
      "The plasmid loss rate is 0.1% per cell division. That means each generation, there's a 0.1% chance that a cell with the plasmid will lose it. But wait, there's also another factor: cells with plasmids grow 20% slower than those without. So, if a cell has the plasmid, it might not replicate as quickly, which could affect the overall population dynamics.\n",
      "\n",
      "But the question is about losing the plasmid, not about the growth rates. So, the plasmid loss rate is the key here. Each generation, each cell has a 0.1% chance of losing the plasmid. \n",
      "\n",
      "Now, we need to model this as a probability problem. Since each cell's fate is independent, we can model the probability that a single cell has lost the plasmid after n generations. The probability that a single cell has lost the plasmid after n generations is 1 - (0.999)^n, because each generation there's a 0.1% chance of losing it, so the chance of surviving is 99.9%.\n",
      "\n",
      "But we want the plasmid to be lost in 99.9% of the population. That means that 99.9% of the cells should have lost the plasmid. So, we need to find the smallest n such that the probability that a single cell has lost the plasmid is at least 99.9%. \n",
      "\n",
      "Wait, no. Actually, we need the probability that all cells have lost the plasmid to be at least 99.9%. But that's not exactly right because each cell's fate is independent. So, the probability that all cells have lost the plasmid is (1 - (0.999)^n)^10^6. We want this to be at least 0.999.\n",
      "\n",
      "So, we set up the equation:\n",
      "\n",
      "(1 - (0.999)^n)^10^6 \u2265 0.999\n",
      "\n",
      "We can take the natural logarithm of both sides to solve for n.\n",
      "\n",
      "ln((1 - (0.999)^n)^10^6) \u2265 ln(0.999)\n",
      "\n",
      "Which simplifies to:\n",
      "\n",
      "10^6 * ln(1 - (0.999)^n) \u2265 ln(0.999)\n",
      "\n",
      "But ln(1 - x) is approximately -x for small x, so maybe we can approximate this. Let me think. Alternatively, since 0.999 is close to 1, maybe we can use the approximation ln(1 - x) \u2248 -x - x^2/2 - ... but perhaps it's better to use the exact expression.\n",
      "\n",
      "Alternatively, let's consider that for small p, ln(1 - p) \u2248 -p. So, ln(1 - (0.999)^n) \u2248 - (0.999)^n. So, the equation becomes:\n",
      "\n",
      "10^6 * (- (0.999)^n) \u2265 ln(0.999)\n",
      "\n",
      "Which simplifies to:\n",
      "\n",
      "-10^6 * (0.999)^n \u2265 -0.001001 (since ln(0.999) \u2248 -0.001001)\n",
      "\n",
      "Multiplying both sides by -1 reverses the inequality:\n",
      "\n",
      "10^6 * (0.999)^n \u2264 0.001001\n",
      "\n",
      "Now, divide both sides by 10^6:\n",
      "\n",
      "(0.999)^n \u2264 0.001001 / 10^6\n",
      "\n",
      "Which is:\n",
      "\n",
      "(0.999)^n \u2264 1.001 \u00d7 10^-9\n",
      "\n",
      "Now, take the natural logarithm of both sides:\n",
      "\n",
      "ln((0.999)^n) \u2264 ln(1.001 \u00d7 10^-9)\n",
      "\n",
      "Which is:\n",
      "\n",
      "n * ln(0.999) \u2264 ln(1.001) + ln(10^-9)\n",
      "\n",
      "We know that ln(0.999) is approximately -0.0010005, and ln(1.001) is approximately 0.0009995. So:\n",
      "\n",
      "n * (-0.0010005) \u2264 0.0009995 - 20.723 (since ln(10^-9) = -9 * ln(10) \u2248 -20.723)\n",
      "\n",
      "Wait, that can't be right because the right side is negative, and the left side is negative times n. Let me re-express this.\n",
      "\n",
      "Wait, perhaps it's better to use the exact values. Let me compute ln(0.999) \u2248 -0.0010005, ln(1.001) \u2248 0.0009995, and ln(10^-9) \u2248 -20.723.\n",
      "\n",
      "So:\n",
      "\n",
      "n * (-0.0010005) \u2264 0.0009995 - 20.723\n",
      "\n",
      "Which simplifies to:\n",
      "\n",
      "n * (-0.0010005) \u2264 -20.723\n",
      "\n",
      "Dividing both sides by -0.0010005 (and flipping the inequality):\n",
      "\n",
      "n \u2265 (-20.723) / (-0.0010005) \u2248 20723.0\n",
      "\n",
      "So, n is approximately 20723 generations.\n",
      "\n",
      "Wait, but that seems very high. Let me check if I made a mistake in the approximation. Because each cell has a 0.1% chance of losing the plasmid each generation, so the probability that a single cell has lost it after n generations is 1 - (0.999)^n. We want this probability to be high enough that 99.9% of the population has lost the plasmid.\n",
      "\n",
      "But perhaps the initial approach is correct, but maybe the plasmid loss rate is per cell division, so each generation, each cell has a 0.1% chance to lose it. So, the probability that a single cell has lost it after n generations is 1 - (0.999)^n. We want this probability to be high enough that 99.9% of the population has lost it.\n",
      "\n",
      "Wait, but actually, the plasmid loss is per cell division, so each cell has a 0.1% chance to lose it each generation. So, the probability that a single cell has lost it after n generations is 1 - (0.999)^n. We want this to be high enough that 99.9% of the population has lost it.\n",
      "\n",
      "Wait, but actually, the plasmid loss is a per-cell event, so each cell independently has a 0.1% chance to lose it each generation. So, the probability that a single cell has lost it after n generations is 1 - (0.999)^n. We want this probability to be high enough that 99.9% of the population has lost it.\n",
      "\n",
      "Wait, but perhaps the correct approach is to model the probability that a single cell has lost the plasmid after n generations, and then find the n where the probability that all cells have lost it is 99.9%. But that's not exactly right because each cell's fate is independent, so the probability that all cells have lost it is (1 - (0.999)^n)^10^6. We want this to be at least 0.999.\n",
      "\n",
      "So, (1 - (0.999)^n)^10^6 \u2265 0.999\n",
      "\n",
      "Taking natural logs:\n",
      "\n",
      "10^6 * ln(1 - (0.999)^n) \u2265 ln(0.999)\n",
      "\n",
      "But ln(1 - x) \u2248 -x for small x, so:\n",
      "\n",
      "10^6 * (- (0.999)^n) \u2265 -0.001001\n",
      "\n",
      "Which simplifies to:\n",
      "\n",
      "10^6 * (0.999)^n \u2264 0.001001\n",
      "\n",
      "Then:\n",
      "\n",
      "(0.999)^n \u2264 0.001001 / 10^6 \u2248 1.001 \u00d7 10^-9\n",
      "\n",
      "Taking natural logs:\n",
      "\n",
      "n * ln(0.999) \u2264 ln(1.001 \u00d7 10^-9)\n",
      "\n",
      "Which is:\n",
      "\n",
      "n * (-0.0010005) \u2264 0.0009995 - 20.723\n",
      "\n",
      "So:\n",
      "\n",
      "n \u2265 (0.0009995 - 20.723) / (-0.0010005)\n",
      "\n",
      "Which is:\n",
      "\n",
      "n \u2265 ( -20.723 + 0.0009995 ) / (-0.\n"
     ]
    }
   ]
  },
  {
   "cell_type": "code",
   "source": [
    "output = generate_text(question, bio_model)\n",
    "_response[\"tuned_reasoning\"] = output\n",
    "print(output[0].split(\"### Response:\")[1])"
   ],
   "metadata": {
    "id": "bgytzPzdj2yz",
    "colab": {
     "base_uri": "https://localhost:8080/"
    },
    "outputId": "dff514ce-7019-485e-c906-6fd9e7bf5418"
   },
   "execution_count": 38,
   "outputs": [
    {
     "output_type": "stream",
     "name": "stdout",
     "text": [
      "\n",
      "<think>\n",
      "Okay, so I'm trying to figure out this bacterial population problem. Let me break it down step by step. \n",
      "\n",
      "First, there are 10^6 cells in the population. Each cell has a plasmid with genes for Ampicillin resistance and GFP expression. The goal is to find the minimum number of generations needed for the plasmid to be lost in 99.9% of the population. \n",
      "\n",
      "The plasmid loss rate is 0.1% per cell division. That means each generation, there's a 0.1% chance that a cell with the plasmid will lose it. But wait, there's also another factor: cells with plasmids grow 20% slower than those without. So, if a cell has the plasmid, it might not replicate as efficiently, which could affect the overall population dynamics.\n",
      "\n",
      "But the question is about losing the plasmid, not about replication. So, the loss rate is the key here. Each generation, each cell has a 0.1% chance of losing the plasmid. But since the population is large (10^6), we can model this using probability.\n",
      "\n",
      "I think this is a problem that can be modeled using the concept of expected loss. Each generation, each cell has a 0.1% chance of losing the plasmid. So, the probability that a single cell still has the plasmid after n generations is (0.999)^n. \n",
      "\n",
      "But we want the plasmid to be lost in 99.9% of the population. That means that 99.9% of the cells should no longer have the plasmid. So, the probability that a single cell has lost the plasmid is 0.999, and the probability that it still has it is 0.001. \n",
      "\n",
      "Wait, no. If the loss rate is 0.1% per generation, then the survival rate is 99.9%. So, after n generations, the probability that a single cell still has the plasmid is (0.999)^n. \n",
      "\n",
      "We want this probability to be low enough that 99.9% of the population has lost the plasmid. So, we set (0.999)^n = 0.001. \n",
      "\n",
      "Taking the natural logarithm of both sides: ln(0.999^n) = ln(0.001). \n",
      "\n",
      "This simplifies to n * ln(0.999) = ln(0.001). \n",
      "\n",
      "Since ln(0.999) is negative, we can solve for n: n = ln(0.001) / ln(0.999). \n",
      "\n",
      "Calculating the values: ln(0.001) is approximately -6.907755, and ln(0.999) is approximately -0.0010005. \n",
      "\n",
      "So, n \u2248 (-6.907755) / (-0.0010005) \u2248 6906. \n",
      "\n",
      "Wait, that seems really high. 6906 generations? That doesn't seem right. Maybe I made a mistake in the model. \n",
      "\n",
      "Alternatively, perhaps the model should consider the expected number of plasmids lost. Each cell has a 0.1% chance of losing the plasmid each generation. So, the expected number of plasmids lost per cell after n generations is n * 0.001. \n",
      "\n",
      "We want this expected number to be such that 99.9% of the population has lost the plasmid. So, 99.9% of 10^6 cells is 999,000 cells. \n",
      "\n",
      "So, the expected number of plasmids lost should be 999,000. \n",
      "\n",
      "Each generation, the expected number of plasmids lost per cell is 0.001. So, after n generations, the expected number is n * 0.001. \n",
      "\n",
      "Setting n * 0.001 = 999,000, so n = 999,000 / 0.001 = 999,000,000 generations. \n",
      "\n",
      "Wait, that's way too high. That can't be right. Maybe the model is incorrect because the plasmid loss affects the replication rate, which affects the overall population dynamics. \n",
      "\n",
      "Alternatively, perhaps the plasmid loss affects the growth rate of cells with and without the plasmid. Cells with the plasmid grow 20% slower. So, if a cell has the plasmid, it might not replicate as efficiently, which could lead to a lower overall population of cells with the plasmid. \n",
      "\n",
      "But in this problem, we're focusing on the loss rate, not the growth rate. So, perhaps the initial model is correct, and the answer is indeed around 7000 generations. \n",
      "\n",
      "Wait, but earlier I calculated n \u2248 6906 using the survival probability approach. Now, using the expected number of plasmids lost, I get n \u2248 999,000,000 generations. That's a huge number, which seems unlikely. \n",
      "\n",
      "I think the correct approach is to model the loss of the plasmid as a binary process where each cell independently has a 0.1% chance of losing it each generation. So, the expected number of plasmids lost per cell after n generations is n * 0.001. \n",
      "\n",
      "We want this to be such that 99.9% of the population has lost the plasmid. So, 99.9% of 10^6 is 999,000 cells. \n",
      "\n",
      "So, n * 0.001 = 999,000 \u2192 n = 999,000 / 0.001 = 999,000,000 generations. \n",
      "\n",
      "But that's a huge number, which seems impractical. Maybe the model is oversimplified. Perhaps the plasmid loss affects the replication rate, which affects the overall population dynamics. \n",
      "\n",
      "Alternatively, perhaps the plasmid loss affects the growth rate, which affects the overall population. But the question is about losing the plasmid, not about the growth rate. \n",
      "\n",
      "Wait, maybe the plasmid loss affects the replication efficiency, which affects the overall population. So, if a cell has the plasmid, it grows slower, which could lead to a lower overall population of cells with the plasmid. \n",
      "\n",
      "But in this problem, we're focusing on the loss rate, not the growth rate. So, perhaps the initial model is correct, and the answer is around 7000 generations. \n",
      "\n",
      "Wait, but when I calculated using the survival probability, I got n \u2248 6906 generations. That's about 7,000 generations. \n",
      "\n",
      "But using the expected number of plasmids lost, I got n \u2248 999,000,000 generations, which is way too high. \n",
      "\n",
      "I think the correct approach is to model the loss of the plasmid as a binary process where each cell independently has a 0.1% chance of losing it each generation. So, the expected number of plasmids lost per cell after n generations is n * 0.001. \n",
      "\n",
      "We want this to be such that 99.9% of the population has lost the plasmid. So, 99.9% of 10^6 is 999,000 cells. \n",
      "\n",
      "So, n * 0.001 = 999,000 \u2192 n = 999,000 / 0.001 = 999,000,000 generations. \n",
      "\n",
      "But that's a huge number, which seems impractical. Maybe the model is oversimplified. Perhaps the plasmid loss affects the replication rate, which affects the overall population dynamics. \n",
      "\n",
      "Alternatively, perhaps the plasmid loss affects the growth rate, which affects the overall population. But the question is about losing the plasmid, not about the growth rate. \n",
      "\n",
      "Wait, perhaps the plasmid loss affects the replication rate, which affects the overall population. So, if a cell has the plasmid, it grows slower, which could lead to a lower overall population of cells with the plasmid. \n",
      "\n",
      "But in this problem, we're focusing on the loss rate, not the growth rate. So, perhaps the initial model is correct, and the answer is around 7,000 generations. \n",
      "\n",
      "Wait, but when I calculated using the survival probability, I got n \u2248 6906 generations. That's about 7,000 generations. \n",
      "\n",
      "But using the expected number of plasmids lost, I got n \u2248 999,000,000 generations, which is way too high. \n",
      "\n",
      "I think the correct approach is to model the loss of the plasmid as a binary process where each cell independently has a 0.1% chance of losing it each generation. So, the expected number of plasmids lost per cell after n generations is n * 0.001. \n",
      "\n",
      "We want this to be such that 99.9% of the population has lost the plasmid. So, 99.9% of 10^6 is 99\n"
     ]
    }
   ]
  },
  {
   "cell_type": "code",
   "source": [
    "_response[\"question\"] = question\n",
    "responses.append(_response)"
   ],
   "metadata": {
    "id": "a8Ofzvor1L6e"
   },
   "execution_count": 39,
   "outputs": []
  },
  {
   "cell_type": "markdown",
   "source": [
    "**Ground Truth:**\n",
    "Use $(0.999)^n = 0.001$ \u2192 $n \\approx 6906$ generations.\n",
    "\n",
    "| Model     | Score | Notes                                                                                    |\n",
    "| --------- | :---: | ---------------------------------------------------------------------------------------- |\n",
    "| **Base**  |   1   | Starts correct but then spirals into confusion with mixed probability models.            |\n",
    "| **Tuned** |   1   | Calculates correct value but then doubts it and brings in a flawed expected-value model. |"
   ],
   "metadata": {
    "id": "oFNHKbnq_d_-"
   }
  },
  {
   "cell_type": "markdown",
   "source": [
    "### Test Case 6: Plant Biology and Ecology\n",
    "Testing understanding of plant-pollinator interactions and experimental design."
   ],
   "metadata": {
    "id": "LbSnZ4V4fr1S"
   }
  },
  {
   "cell_type": "code",
   "source": [
    "_response = {}\n",
    "question = \"A particular species of flowering plant produces nectar with a much higher sugar concentration than most other plants. However, this species has very low seed production compared to related species when growing in its natural habitat. When the same species is grown in a greenhouse with hand pollination, seed production is normal. What might explain this pattern, and what experiment would you design to test your hypothesis?\""
   ],
   "metadata": {
    "id": "qsJhW5KJDfkm"
   },
   "execution_count": 40,
   "outputs": []
  },
  {
   "cell_type": "code",
   "source": [
    "output = generate_text(question, model)\n",
    "_response[\"base_reasoning\"] = output\n",
    "print(output[0].split(\"### Response:\")[1])"
   ],
   "metadata": {
    "id": "qScd8MNRDfhf",
    "colab": {
     "base_uri": "https://localhost:8080/"
    },
    "outputId": "795498ed-f335-460f-9bf4-d0d76800d11b"
   },
   "execution_count": 41,
   "outputs": [
    {
     "output_type": "stream",
     "name": "stdout",
     "text": [
      "\n",
      "<think><think>\n",
      "Okay, so I'm trying to figure out why this particular flowering plant species has such a high sugar concentration in its nectar but low seed production when it's grown in a greenhouse with hand pollination. Let me break this down step by step.\n",
      "\n",
      "First, I know that nectar is usually a source of water and nutrients for plants. High sugar concentration in nectar might mean that the plant is getting more water and nutrients from the nectar. But why would that affect seed production? I remember that seeds are produced when a plant can transfer pollen to another plant, usually through pollination. So, if the plant is producing low seed production, maybe it's not able to transfer pollen effectively.\n",
      "\n",
      "Now, the plant is in a greenhouse with hand pollination. Hand pollination is when a plant is pollinated by a nearby plant, like a flower or another plant, without the help of a professional pollinator. I think this might be different from natural pollination, which is usually done by pollinators like bees or birds. So, if the greenhouse has hand pollination, maybe the plant can't transfer pollen as effectively as it can in natural conditions.\n",
      "\n",
      "But wait, the question says that when the plant is grown in its natural habitat, it has low seed production. So, in natural conditions, it's hard to get pollen because the nectar has high sugar concentration, which might make it difficult for pollinators to access the nectar. That could be why it's hard to get pollen in the wild.\n",
      "\n",
      "Now, in the greenhouse with hand pollination, maybe the plant can get pollen because the nectar is more concentrated, but why would that cause low seed production? Maybe the plant can get pollen, but the nectar is too concentrated, making it hard for the plant to produce seeds. Or perhaps the high sugar concentration in the nectar is making it difficult for the plant to produce seeds in the first place.\n",
      "\n",
      "I'm also thinking about the role of other factors like temperature, light, and the presence of other plants. Maybe in the greenhouse, the conditions are better suited for the plant to produce seeds despite the high sugar concentration in the nectar. Or perhaps the high sugar concentration is actually beneficial for seed production, but the plant can't get pollen because of the concentration.\n",
      "\n",
      "Another angle is that the plant might have evolved to produce seeds even when it can't pollinate. Maybe the high sugar concentration in the nectar is a survival mechanism, but the seed production is low because the plant can't transfer pollen. So, the plant might have a strategy to produce seeds without relying on pollination.\n",
      "\n",
      "To test this hypothesis, I would design an experiment where the plant is grown in different conditions. Maybe in one greenhouse with hand pollination, another with natural pollination, and another with no pollination. Then, measure the seed production in each. If the greenhouse with hand pollination has normal seed production, but the others have low, that would support the hypothesis that hand pollination allows the plant to produce seeds despite low seed production.\n",
      "\n",
      "Alternatively, if the high sugar concentration in the nectar is a factor, maybe I could test how different nectar concentrations affect seed production. But since the question is about hand pollination, I think focusing on the effect of hand pollination on seed production is more relevant.\n",
      "\n",
      "So, to summarize, the plant has high sugar nectar but low seed production because it can't pollinate effectively. In the greenhouse with hand pollination, it can pollinate, but the high sugar concentration might still cause low seed production. To test this, I would set up experiments comparing seed production under different pollination conditions.\n",
      "</think>\n",
      "\n",
      "The pattern observed in the plant can be explained by the interplay between nectar concentration and pollination. Here's a structured explanation and hypothesis testing plan:\n",
      "\n",
      "### Explanation:\n",
      "1. **Nectar Concentration and Water**: The plant's nectar has a high sugar concentration, providing more water and nutrients. This might be advantageous for the plant's growth but could also influence seed production.\n",
      "2. **Low Seed Production**: Despite the nectar's high sugar concentration, the plant struggles to produce seeds. This suggests that the plant can transfer pollen (pollination) but cannot effectively utilize the nectar for seed production.\n",
      "3. **Hand Pollination vs. Natural Conditions**: In natural habitats, the plant's ability to pollinate is impaired due to the high sugar concentration, leading to low seed production. However, in a greenhouse with hand pollination, the plant can access nectar and transfer pollen, yet the high sugar concentration might still hinder seed production.\n",
      "\n",
      "### Hypothesis Testing Plan:\n",
      "To test this hypothesis, design experiments comparing seed production under different pollination conditions:\n",
      "\n",
      "1. **Experiment 1**: Grow the plant in a greenhouse with hand pollination. Monitor seed production.\n",
      "2. **Experiment 2**: Grow the plant in a greenhouse with natural pollination. Monitor seed production.\n",
      "3. **Experiment 3**: Grow the plant in a greenhouse with no pollination. Monitor seed production.\n",
      "\n",
      "### Expected Outcomes:\n",
      "- **Experiment 1**: Hand pollination allows the plant to produce seeds despite low seed production.\n",
      "- **Experiment 2**: Natural pollination results in low seed production.\n",
      "- **Experiment 3**: No pollination leads to low seed production.\n",
      "\n",
      "### Conclusion:\n",
      "The experiments will show that hand pollination enables the plant to produce seeds despite low seed production, supporting the hypothesis that hand pollination allows the plant to transfer pollen despite the high sugar concentration in the nectar.<\uff5cend\u2581of\u2581sentence\uff5c>\n"
     ]
    }
   ]
  },
  {
   "cell_type": "code",
   "source": [
    "output = generate_text(question, bio_model)\n",
    "_response[\"tuned_reasoning\"] = output\n",
    "print(output[0].split(\"### Response:\")[1])"
   ],
   "metadata": {
    "id": "JCcUCIrjDfZl",
    "colab": {
     "base_uri": "https://localhost:8080/"
    },
    "outputId": "46b890f5-5e30-4062-9a9a-f686d00e51f8"
   },
   "execution_count": 42,
   "outputs": [
    {
     "output_type": "stream",
     "name": "stdout",
     "text": [
      "\n",
      "<think><think>\n",
      "Okay, so I'm trying to figure out this question about a flowering plant species. Let me break it down step by step. \n",
      "\n",
      "First, the plant produces nectar with a much higher sugar concentration than most other plants. That makes sense because nectar is usually sweet, so higher sugar content would mean it's more nutritious. But then, when this plant grows in its natural habitat, its seed production is low. That's interesting because usually, plants that produce nectar might have higher seed production, but here it's the opposite.\n",
      "\n",
      "Now, when the same species is grown in a greenhouse with hand pollination, the seed production is normal. Hand pollination is a method used in some countries to pollinate plants without using pollinator-friendly chemicals. So, in the greenhouse, they're pollinating manually, which might be different from natural pollination. \n",
      "\n",
      "The question is asking why the seed production is low in the natural habitat but normal in the greenhouse with hand pollination. I need to think about why hand pollination would help the plant reproduce better. Maybe it's because hand pollination doesn't rely on nectar production, which could be a limiting factor. If the plant relies on nectar for reproduction, then in the natural habitat, without hand pollination, it might struggle to produce enough nectar to produce seeds. \n",
      "\n",
      "So, the hypothesis here is that hand pollination allows the plant to produce enough nectar despite its high sugar concentration. This would make sense because hand pollination might not depend on nectar for reproduction, so the plant can still produce seeds even if it's producing a lot of nectar. \n",
      "\n",
      "To test this hypothesis, I would design an experiment where the plant is grown in both its natural habitat and in a greenhouse with hand pollination. I would measure the amount of nectar produced in each habitat and compare it to the seed production. If the plant produces more nectar in the greenhouse, it would mean that hand pollination is helping it reproduce, supporting the hypothesis.\n",
      "\n",
      "I should also consider other factors that might affect seed production. For example, the availability of other pollinators or the presence of other plants that might compete for nectar. But since the greenhouse is controlled, I can isolate the effect of hand pollination on seed production. \n",
      "\n",
      "Another thought: maybe the plant has a unique nectar source or a different mechanism for seed production. But without more information, it's safer to assume that the main factor is hand pollination affecting nectar production. \n",
      "\n",
      "So, the experiment would involve growing the plant in two different environments: one with natural nectar and one with hand pollination. Then, measure both nectar production and seed production. If seed production is normal in the greenhouse but low in the natural habitat, it supports the idea that hand pollination is necessary for seed production despite the high sugar content of nectar.\n",
      "</think>\n",
      "\n",
      "The pattern observed in the flowering plant can be explained by the role of hand pollination in seed production despite its high sugar concentration. Here's a structured explanation and the proposed experiment:\n",
      "\n",
      "### Explanation:\n",
      "1. **Nectar Production and Reproduction**: The plant produces nectar with a high sugar concentration, which is typically associated with successful reproduction. However, in its natural habitat, this high sugar content might limit its ability to produce enough nectar for seed production.\n",
      "\n",
      "2. **Role of Hand Pollination**: Hand pollination, a manual method of pollination, does not rely on nectar production. This allows the plant to produce seeds even when nectar production is high. In the greenhouse with hand pollination, the plant can maintain normal seed production despite its nectar-rich environment.\n",
      "\n",
      "3. **Hypothesis**: Hand pollination is necessary for the plant to produce seeds, compensating for the high sugar concentration of nectar.\n",
      "\n",
      "### Experiment Design:\n",
      "1. **Experimental Setup**:\n",
      "   - **Natural Habitat**: Grow the plant in its natural environment without hand pollination.\n",
      "   - **Greenhouse with Hand Pollination**: Grow the plant in a controlled greenhouse environment where hand pollination is manually applied.\n",
      "\n",
      "2. **Measurements**:\n",
      "   - **Nectar Production**: Monitor the amount of nectar produced in both environments.\n",
      "   - **Seed Production**: Track the seed production in each setup.\n",
      "\n",
      "3. **Data Analysis**:\n",
      "   - If seed production is normal in the greenhouse but low in the natural habitat, it suggests that hand pollination is essential for seed production despite the plant's high nectar concentration.\n",
      "\n",
      "### Conclusion:\n",
      "The experiment supports the hypothesis that hand pollination is necessary for the plant to produce seeds, even when nectar production is high. This explains why the plant reproduces normally in the greenhouse but struggles in its natural habitat.<\uff5cend\u2581of\u2581sentence\uff5c>\n"
     ]
    }
   ]
  },
  {
   "cell_type": "code",
   "source": [
    "_response[\"question\"] = question\n",
    "responses.append(_response)"
   ],
   "metadata": {
    "id": "7gr4esUc1LI3"
   },
   "execution_count": 43,
   "outputs": []
  },
  {
   "cell_type": "markdown",
   "source": [
    "**Ground Truth:**\n",
    "Pollinator limitation (due to nectar) explains low seed set. Hand pollination solves it. Test via pollinator vs hand/no pollination.\n",
    "\n",
    "| Model     | Score | Notes                                                                              |\n",
    "| --------- | :---: | ---------------------------------------------------------------------------------- |\n",
    "| **Base**  |   1   | Understands the problem and proposes a valid experiment, but reasoning is muddled. |\n",
    "| **Tuned** |   -1   | Misunderstands the role of nectar and proposes irrelevant experimental design.     |\n"
   ],
   "metadata": {
    "id": "gLf5qP8C_n47"
   }
  },
  {
   "cell_type": "markdown",
   "source": [
    "### Test Case 7: Biochemistry - Urea Cycle\n",
    "Testing detailed knowledge of metabolic pathways."
   ],
   "metadata": {
    "id": "mdw-WNVlfx4f"
   }
  },
  {
   "cell_type": "code",
   "source": [
    "_response = {}\n",
    "question = \"Detail the step-by-step process of the urea cycle within liver cells, explaining how specific enzymes convert toxic ammonia into urea for excretion.\""
   ],
   "metadata": {
    "id": "M97VJx5oJ7so"
   },
   "execution_count": 48,
   "outputs": []
  },
  {
   "cell_type": "code",
   "source": [
    "output = generate_text(question, model)\n",
    "_response[\"base_reasoning\"] = output\n",
    "print(output[0].split(\"### Response:\")[1])"
   ],
   "metadata": {
    "id": "1Sg-58KkJ7sp",
    "colab": {
     "base_uri": "https://localhost:8080/"
    },
    "outputId": "dcdea5b1-f4c5-4c22-f708-afc0065122db"
   },
   "execution_count": 49,
   "outputs": [
    {
     "output_type": "stream",
     "name": "stdout",
     "text": [
      "\n",
      "<think><think>\n",
      "Okay, so I need to explain how the urea cycle works in the liver. I remember that the liver has something to do with excreting ammonia, but I'm a bit fuzzy on the details. Let me think through this step by step.\n",
      "\n",
      "First, I think the liver processes ammonia. Ammonia is toxic, so the liver must convert it into urea. Urea is a waste product, right? So the liver must have enzymes that break down ammonia into urea. But wait, how does that happen?\n",
      "\n",
      "I recall that ammonia is a nitrogenous compound, and urea is a nitrogenous compound too. So maybe the liver has enzymes that can convert one into the other. But I'm not sure which enzymes do that. I think there are two main enzymes involved here: one that converts ammonia into urea and another that breaks down urea further.\n",
      "\n",
      "Let me try to outline the steps. The first step is probably the breakdown of ammonia. I think ammonia is converted into urea by the liver's ammonia oxidase. So ammonia (NH3) is oxidized to urea (Urea). But wait, how does oxidation work here? I think it's a redox reaction, so ammonia is oxidized to urea, releasing water as a byproduct.\n",
      "\n",
      "So the first enzyme is ammonia oxidase. It converts NH3 to Urea. But wait, isn't there another enzyme involved in the breakdown of urea? Oh right, the liver also has an enzyme that breaks urea into ammonia again. So the cycle is: ammonia is oxidized to urea, and then urea is broken down back into ammonia.\n",
      "\n",
      "Wait, but how does the liver get the ammonia to start the cycle? I think the liver has a way to get ammonia into the body. Maybe it's through the production of ammonia by the liver cells themselves. Or perhaps it's through some other pathway. I'm not entirely sure, but I think the liver can produce ammonia on its own, so that's a key point.\n",
      "\n",
      "So the process would be: the liver produces ammonia, which is then oxidized by ammonia oxidase to urea. Then, the liver breaks down urea into ammonia again. This cycle continues until the body has enough ammonia to meet its needs.\n",
      "\n",
      "But wait, how does the liver actually get the ammonia? I think it's through the production of ammonia by liver cells. So the liver cells produce ammonia, which is then oxidized to urea by ammonia oxidase. Then, the liver breaks down urea into ammonia again. This cycle continues until the body has enough ammonia to meet its needs.\n",
      "\n",
      "I'm a bit confused about the exact steps. Let me try to structure it. The process starts with ammonia being produced by liver cells. Then, ammonia is oxidized by ammonia oxidase to urea. Urea is then broken down by the liver's urea dehydrogenase enzyme into ammonia again. This cycle continues until the body has enough ammonia to meet its needs.\n",
      "\n",
      "Wait, but how does the liver produce ammonia? I think it's through the production of ammonia by liver cells. So the liver cells produce ammonia, which is then oxidized by ammonia oxidase to urea. Then, the liver breaks down urea into ammonia again. This cycle continues until the body has enough ammonia to meet its needs.\n",
      "\n",
      "I think that's the basic idea. So the steps are: ammonia is produced by liver cells, oxidized by ammonia oxidase to urea, then urea is broken down by urea dehydrogenase back to ammonia. This cycle continues until the body has enough ammonia to excrete.\n",
      "\n",
      "But wait, I'm not sure if the liver has both ammonia oxidase and urea dehydrogenase. I think it has both, but maybe they work in a certain order. So the first step is ammonia oxidase, then urea dehydrogenase.\n",
      "\n",
      "So putting it all together, the urea cycle in the liver is a two-step process: ammonia is oxidized to urea, and then urea is broken down back to ammonia. This cycle continues until the body needs more ammonia, which is then excreted.\n",
      "\n",
      "I think that's the gist of it. I might be missing some details, but this is the general process.\n",
      "</think>\n",
      "\n",
      "The urea cycle in the liver is a two-step process that converts toxic ammonia into urea for excretion. Here's a step-by-step explanation:\n",
      "\n",
      "1. **Ammonia Production**: The liver cells produce ammonia (NH3) on its own.\n",
      "\n",
      "2. **Ammonia Oxidation**: Ammonia is oxidized by the liver's ammonia oxidase enzyme to urea (Urea). This reaction releases water as a byproduct.\n",
      "\n",
      "3. **Urea Breakdown**: The liver then breaks down urea by the enzyme urea dehydrogenase, which converts it back into ammonia.\n",
      "\n",
      "4. **Cycle Continuation**: This cycle continues until the body requires more ammonia, which is then excreted.\n",
      "\n",
      "This process ensures that the liver efficiently excretes toxic ammonia, maintaining the body's balance.<\uff5cend\u2581of\u2581sentence\uff5c>\n"
     ]
    }
   ]
  },
  {
   "cell_type": "code",
   "source": [
    "output = generate_text(question, bio_model)\n",
    "_response[\"tuned_reasoning\"] = output\n",
    "print(output[0].split(\"### Response:\")[1])"
   ],
   "metadata": {
    "id": "55nfcb8HJ7sp",
    "colab": {
     "base_uri": "https://localhost:8080/"
    },
    "outputId": "053b8a95-a53e-47da-e289-a77253611e0d"
   },
   "execution_count": 50,
   "outputs": [
    {
     "output_type": "stream",
     "name": "stdout",
     "text": [
      "\n",
      "<think><think>\n",
      "Okay, so I need to explain how the urea cycle works in the liver. I remember that the liver has something to do with excreting ammonia, but I'm a bit fuzzy on the details. Let me think through this step by step.\n",
      "\n",
      "First, I think the liver processes ammonia. Ammonia is toxic, so the liver must convert it into urea. Urea is a waste product, right? So the liver must have enzymes that break down ammonia into urea. But how does that happen?\n",
      "\n",
      "I recall that ammonia is a nitrogenous molecule, and the liver has enzymes that can break it down. Maybe it's something like ammonia deaminase or something similar. These enzymes are probably in the liver's cytoplasm. So the first step is ammonia entering the liver.\n",
      "\n",
      "Once it's in the liver, it must be processed. I think the liver has a complex system of enzymes and transporters. Maybe it's something like the ammonia deaminase complex. This complex breaks down ammonia into urea. So ammonia is converted into urea in the liver.\n",
      "\n",
      "But wait, how does the liver get the ammonia? I think the liver has a way to take in ammonia. Maybe it's through a transporter that's part of the ammonia deaminase complex. So ammonia enters the liver via a transporter, and then the complex processes it.\n",
      "\n",
      "After processing, urea is released from the liver into the blood. The urea cycle is then part of the excretion process. So the liver's job is to convert ammonia into urea, which is then excreted as urea.\n",
      "\n",
      "I should also mention the enzymes involved. The ammonia deaminase complex has several subunits, like ammonia deaminase A, B, and C. These are part of the liver's ammonia deaminase complex. They have catalytic activity to break down ammonia into urea.\n",
      "\n",
      "So putting it all together: ammonia enters the liver via a transporter, the liver's ammonia deaminase complex processes it into urea, and then the urea is excreted from the liver into the blood.\n",
      "\n",
      "I think that's the basic process. Maybe I should also touch on the role of the ammonia deaminase complex in the liver, how it's regulated, and how it's involved in the overall excretion process. But for now, focusing on the conversion of ammonia to urea in the liver is the main point.\n",
      "\n",
      "I should also consider if there are any other steps or enzymes involved. Maybe the liver has other enzymes that help in the excretion process, like the excretion pump or something else. But the main conversion is the ammonia deaminase complex.\n",
      "\n",
      "So, to summarize: ammonia enters the liver, the ammonia deaminase complex processes it into urea, which is then excreted from the liver.\n",
      "</think>\n",
      "\n",
      "The urea cycle in the liver involves the conversion of toxic ammonia into urea, a waste product. Here's a step-by-step explanation:\n",
      "\n",
      "1. **Ammonia Entry**: Ammonia, a nitrogenous molecule, enters the liver through a transporter that is part of the ammonia deaminase complex.\n",
      "\n",
      "2. **Ammonia Deamination**: The ammonia is processed by the liver's ammonia deaminase complex. This complex contains subunits like ammonia deaminase A, B, and C, which have catalytic activity to convert ammonia into urea.\n",
      "\n",
      "3. **Urea Release**: The processed urea is released from the liver into the blood.\n",
      "\n",
      "4. **Excretion**: The urea is excreted from the liver, contributing to the overall excretion process.\n",
      "\n",
      "The ammonia deaminase complex is crucial, with its catalytic activity enabling the conversion of ammonia into urea. This process is part of the liver's excretion mechanism, ensuring the removal of toxic substances from the body.<\uff5cend\u2581of\u2581sentence\uff5c>\n"
     ]
    }
   ]
  },
  {
   "cell_type": "code",
   "source": [
    "_response[\"question\"] = question\n",
    "responses.append(_response)"
   ],
   "metadata": {
    "id": "kLMScVTMJ7sp"
   },
   "execution_count": 51,
   "outputs": []
  },
  {
   "cell_type": "markdown",
   "source": [
    "**Ground Truth:**\n",
    "CPS1 \u2192 OTC \u2192 ASS1 \u2192 ASL \u2192 ARG1. Converts ammonia \u2192 urea. All mammalian enzymes are known.\n",
    "\n",
    "| Model     | Score | Notes                                             |\n",
    "| --------- | :---: | ------------------------------------------------- |\n",
    "| **Base**  |   -1   | Entirely wrong; fake enzymes and fictional steps. |\n",
    "| **Tuned** |   -1   | Same issue\u2014completely incorrect pathway.          |"
   ],
   "metadata": {
    "id": "BDCEOFAl_5XX"
   }
  },
  {
   "cell_type": "markdown",
   "source": [
    "### Test Case 8: Agricultural Biology\n",
    "Testing applied biological knowledge in sustainable farming."
   ],
   "metadata": {
    "id": "OD8p36agf0Wj"
   }
  },
  {
   "cell_type": "code",
   "source": [
    "_response = {}\n",
    "question = \"Describe at least three specific ways that rotating different types of crops (e.g., legumes, grains) sequentially on the same land enhances soil health and reduces the need for synthetic fertilizers.\""
   ],
   "metadata": {
    "id": "U9emvW3fJ8i4"
   },
   "execution_count": 52,
   "outputs": []
  },
  {
   "cell_type": "code",
   "source": [
    "output = generate_text(question, model)\n",
    "_response[\"base_reasoning\"] = output\n",
    "print(output[0].split(\"### Response:\")[1])"
   ],
   "metadata": {
    "id": "mALE9d1RJ8i5",
    "colab": {
     "base_uri": "https://localhost:8080/"
    },
    "outputId": "c8b01fb6-95a3-49ce-f9f1-b5f17ce46e18"
   },
   "execution_count": 53,
   "outputs": [
    {
     "output_type": "stream",
     "name": "stdout",
     "text": [
      "\n",
      "<think>\n",
      "Okay, so I need to figure out how rotating different types of crops on the same land can enhance soil health and reduce the need for synthetic fertilizers. Let me start by thinking about what I know about crop rotation and soil health.\n",
      "\n",
      "First, I remember that crop rotation involves rotating different crops within the same field or area. This practice is often used in agriculture to improve soil fertility. The idea is that each crop provides different nutrients and nutrients that other crops can absorb. For example, if you rotate between legumes like beans and grains like corn, each crop can provide nitrogen, phosphorus, and potassium, which are essential nutrients for plants.\n",
      "\n",
      "Now, how does this help with soil health? Well, I think that when you rotate crops, you're exposing the soil to different microorganisms. These microorganisms can break down organic matter and improve soil structure. Also, different crops might have different root systems, which can help the soil retain moisture and prevent soil erosion. Plus, by providing a variety of nutrients, you might be reducing the need for synthetic fertilizers because you're not relying on one specific crop's nutrient needs.\n",
      "\n",
      "Wait, but how does this specifically reduce the need for synthetic fertilizers? I think it's because each crop can provide a range of nutrients that other crops can also provide. So, if you have a legume and then a grain, the legume might provide nitrogen, and the grain might provide phosphorus. This way, you're not relying on a single crop's nutrient needs, which might be more expensive or harder to manage.\n",
      "\n",
      "Another point is that rotating crops can help in preventing soil erosion. If you have a lot of clay soil, rotating different crops can help maintain the soil's structure and prevent it from wearing away. This is especially important in areas where the soil is prone to erosion, like in mountainous regions or areas with heavy clay.\n",
      "\n",
      "Also, I think that different crops can help in reducing the overall fertility of the soil. If you have a uniform crop, the soil might be over-fertilized, leading to issues like nitrogen blocksage or reduced yields. By rotating, you're spreading out the nutrients, which can lead to a more balanced and healthier soil.\n",
      "\n",
      "I should also consider the environmental impact. Rotating crops can help in reducing the amount of synthetic fertilizers needed because you're not relying on one crop's nutrient needs. This can make farming more sustainable, especially in regions where synthetic fertilizers are expensive or difficult to obtain.\n",
      "\n",
      "Wait, but how does this work exactly? Let me think of an example. Suppose you have a field with clay soil. You rotate between legumes and grains. The legumes might provide nitrogen, which helps in the root structure and prevents nitrogen blocksage. The grains might provide phosphorus, which is essential for the root structure and helps in the formation of root zones. This way, you're not relying on one crop's nutrient needs, which might be more difficult to manage and more expensive.\n",
      "\n",
      "Also, by rotating, you're exposing the soil to different microorganisms, which can improve soil structure and reduce the need for synthetic fertilizers. This is because the microorganisms can break down organic matter and improve soil structure, making it more fertile and stable.\n",
      "\n",
      "Another aspect is that different crops can help in reducing the overall fertility of the soil. If you have a uniform crop, the soil might be over-fertilized, leading to issues like nitrogen blocksage or reduced yields. By rotating, you're spreading out the nutrients, which can lead to a more balanced and healthier soil.\n",
      "\n",
      "I think I've covered the main points. So, to summarize, rotating different crops on the same land enhances soil health by exposing the soil to different microorganisms, improving soil structure, and providing a variety of nutrients that reduce the need for synthetic fertilizers. This practice also helps in preventing soil erosion, reducing nitrogen blocksage, and improving overall fertility.\n",
      "</think>\n",
      "\n",
      "Rotating different crops on the same land enhances soil health and reduces the need for synthetic fertilizers through several key mechanisms:\n",
      "\n",
      "1. **Exposure to Different Microorganisms**: Rotating crops exposes the soil to various microorganisms, which can break down organic matter and improve soil structure. This helps maintain a healthy and fertile soil.\n",
      "\n",
      "2. **Variety of Nutrients**: Each crop provides different nutrients such as nitrogen, phosphorus, and potassium. By rotating, you ensure a balanced supply of these nutrients, reducing reliance on a single crop's nutrient needs.\n",
      "\n",
      "3. **Preventing Soil Erosion**: Different crops can help maintain soil structure and prevent erosion, especially in clay-rich soils.\n",
      "\n",
      "4. **Reducing Nitrogen Blocksage**: Legumes and grains provide nitrogen and phosphorus, respectively, which helps in preventing nitrogen blocksage and improving root structure.\n",
      "\n",
      "5. **Improving Fertility**: Rotating crops spreads out nutrients, leading to a more balanced and healthy soil, which can reduce overall fertility.\n",
      "\n",
      "6. **Environmental Sustainability**: This practice is sustainable, especially in regions where synthetic fertilizers are costly or difficult to obtain.\n",
      "\n",
      "In summary, rotating different crops enhances soil health by exposing it to various microorganisms, improving structure, and providing nutrient variety. This approach reduces the need for synthetic fertilizers by spreading out nutrient requirements, preventing erosion, and improving fertility.<\uff5cend\u2581of\u2581sentence\uff5c>\n"
     ]
    }
   ]
  },
  {
   "cell_type": "code",
   "source": [
    "output = generate_text(question, bio_model)\n",
    "_response[\"tuned_reasoning\"] = output\n",
    "print(output[0].split(\"### Response:\")[1])"
   ],
   "metadata": {
    "id": "s9icGM17J8i5",
    "colab": {
     "base_uri": "https://localhost:8080/"
    },
    "outputId": "6edf9f35-aab1-4286-a7f9-63334edd37b5"
   },
   "execution_count": 54,
   "outputs": [
    {
     "output_type": "stream",
     "name": "stdout",
     "text": [
      "\n",
      "<think>\n",
      "Okay, so I need to figure out how rotating different types of crops on the same land can enhance soil health and reduce the need for synthetic fertilizers. Let me start by thinking about what I know about crop rotation and soil health.\n",
      "\n",
      "First, I remember that crop rotation involves rotating different crops in the same field over a period of time. This practice is supposed to improve soil health because it helps maintain the structure of the soil and prevents soil erosion. But how does that relate to reducing synthetic fertilizers?\n",
      "\n",
      "Well, synthetic fertilizers are usually applied regularly to maintain soil fertility. If you rotate crops, you're not applying the same type of fertilizer every year. So, maybe that reduces the need for synthetic fertilizers because you're not consistently applying them to the same land.\n",
      "\n",
      "Let me think about each crop type. For example, if you rotate legumes like beans and peas, followed by grains like corn and wheat, and then back to legumes, this cycle might help maintain soil structure. Legumes are good for root systems and can help with drainage, which is important for soil health. Grains, on the other hand, might be better for nitrogen and phosphorus, which are nutrients that synthetic fertilizers provide.\n",
      "\n",
      "Wait, but how does this rotation specifically reduce the need for synthetic fertilizers? Maybe because you're not applying the same type of fertilizer each year. If you have a cycle of legumes, then grains, then legumes again, you're not consistently applying the same fertilizer to the same land. So, you're not using synthetic fertilizers as much because you're not consistently applying them.\n",
      "\n",
      "Also, by rotating crops, you might be reducing the amount of synthetic fertilizers needed because you're not applying them to the same land every year. This could help reduce the environmental impact, like reducing the need for chemical inputs in agriculture.\n",
      "\n",
      "Another point is that rotation might help in maintaining soil structure and preventing erosion. If you have a cycle of different crops, you're not applying the same type of fertilizer each year, so you're not consistently maintaining the soil's structure. This could help in preventing soil erosion, which is a big problem in many regions.\n",
      "\n",
      "Additionally, rotation might help in reducing the need for synthetic fertilizers by reducing the amount of nitrogen and phosphorus that is applied to the land. If you have a cycle of legumes, then grains, then legumes, you're not consistently applying the same amount of nitrogen and phosphorus to the same land. So, you're not using synthetic fertilizers as much because you're not consistently applying them.\n",
      "\n",
      "Wait, but how does this work exactly? Let me think about it step by step. If you have a field with legumes, you apply synthetic fertilizers to maintain nitrogen and phosphorus. Then, you switch to grains, and you don't apply the same fertilizers again. So, you're not using synthetic fertilizers for the grains. Then, you switch back to legumes, but you don't apply the same fertilizers again. So, you're not using synthetic fertilizers for the legumes again. This cycle continues, so you're not consistently applying synthetic fertilizers to the same land. This reduces the need for synthetic fertilizers.\n",
      "\n",
      "Also, by rotating crops, you might be reducing the amount of synthetic fertilizers needed because you're not consistently applying them to the same land. This could help reduce the environmental impact, like reducing the need for chemical inputs in agriculture.\n",
      "\n",
      "Another aspect is that rotation might help in maintaining soil structure and preventing erosion. If you have a cycle of different crops, you're not applying the same type of fertilizer each year, so you're not consistently maintaining the soil's structure. This could help prevent soil erosion, which is a significant problem in many regions.\n",
      "\n",
      "Additionally, rotation might help in reducing the need for synthetic fertilizers by reducing the amount of nitrogen and phosphorus that is applied to the land. If you have a cycle of legumes, then grains, then legumes, you're not consistently applying the same amount of nitrogen and phosphorus to the same land. So, you're not using synthetic fertilizers as much because you're not consistently applying them.\n",
      "\n",
      "Wait, but how does this work exactly? Let me think about it step by step. If you have a field with legumes, you apply synthetic fertilizers to maintain nitrogen and phosphorus. Then, you switch to grains, and you don't apply the same fertilizers again. So, you're not using synthetic fertilizers for the grains. Then, you switch back to legumes, but you don't apply the same fertilizers again. So, you're not using synthetic fertilizers for the legumes again. This cycle continues, so you're not consistently applying synthetic fertilizers to the same land. This reduces the need for synthetic fertilizers.\n",
      "\n",
      "Also, by rotating crops, you might be reducing the amount of synthetic fertilizers needed because you're not consistently applying them to the same land. This could help reduce the environmental impact, like reducing the need for chemical inputs in agriculture.\n",
      "\n",
      "Another point is that rotation might help in reducing the need for synthetic fertilizers by reducing the amount of nitrogen and phosphorus that is applied to the land. If you have a cycle of legumes, then grains, then legumes, you're not consistently applying the same amount of nitrogen and phosphorus to the same land. So, you're not using synthetic fertilizers as much because you're not consistently applying them.\n",
      "\n",
      "Wait, but how does this work exactly? Let me think about it step by step. If you have a field with legumes, you apply synthetic fertilizers to maintain nitrogen and phosphorus. Then, you switch to grains, and you don't apply the same fertilizers again. So, you're not using synthetic fertilizers for the grains. Then, you switch back to legumes, but you don't apply the same fertilizers again. So, you're not using synthetic fertilizers for the legumes again. This cycle continues, so you're not consistently applying synthetic fertilizers to the same land. This reduces the need for synthetic fertilizers.\n",
      "\n",
      "Additionally, rotation might help in reducing the need for synthetic fertilizers by reducing the amount of nitrogen and phosphorus that is applied to the land. If you have a cycle of legumes, then grains, then legumes, you're not consistently applying the same amount of nitrogen and phosphorus to the same land. So, you're not using synthetic fertilizers as much because you're not consistently applying them.\n",
      "\n",
      "Wait, but how does this work exactly? Let me think about it step by step. If you have a field with legumes, you apply synthetic fertilizers to maintain nitrogen and phosphorus. Then, you switch to grains, and you don't apply the same fertilizers again. So, you're not using synthetic fertilizers for the grains. Then, you switch back to legumes, but you don't apply the same fertilizers again. So, you're not using synthetic fertilizers for the legumes again. This cycle continues, so you're not consistently applying synthetic fertilizers to the same land. This reduces the need for synthetic fertilizers.\n",
      "\n",
      "Also, by rotating crops, you might be reducing the need for synthetic fertilizers by reducing the amount of nitrogen and phosphorus that is applied to the land. If you have a cycle of legumes, then grains, then legumes, you're not consistently applying the same amount of nitrogen and phosphorus to the same land. So, you're not using synthetic fertilizers as much because you're not consistently applying them.\n",
      "\n",
      "Wait, but how does this work exactly? Let me think about it step by step. If you have a field with legumes, you apply synthetic fertilizers to maintain nitrogen and phosphorus. Then, you switch to grains, and you don't apply the same fertilizers again. So, you're not using synthetic fertilizers for the grains. Then, you switch back to legumes, but you don't apply the same fertilizers again. So, you're not using synthetic fertilizers for the legumes again. This cycle continues, so you're not consistently applying synthetic fertilizers to the same land. This reduces the need for synthetic fertilizers.\n",
      "\n",
      "Additionally, rotation might help in reducing the need for synthetic fertilizers by reducing the amount of nitrogen and phosphorus that is applied to the land. If you have a cycle of legumes, then grains, then legumes, you're not consistently applying the same amount of nitrogen and phosphorus to the same land. So, you're not using synthetic fertilizers as much because you're not consistently applying them.\n",
      "\n",
      "Wait, but how does this work exactly? Let me think about it step by step. If you have a field with legumes, you apply synthetic fertilizers to maintain nitrogen and phosphorus. Then, you switch to grains, and you don't apply the same fertilizers again. So, you're not using synthetic fertilizers for the grains. Then, you switch back to legumes, but you don't apply the same fertilizers again. So, you're not using synthetic fertilizers for the legumes again. This cycle continues, so you're not consistently applying synthetic fertilizers to the same land. This reduces the need for synthetic fertilizers.\n",
      "\n",
      "Also, by rotating crops, you might be reducing the need for synthetic fertilizers by reducing the amount of nitrogen and phosphorus that is applied to the land. If you have a cycle of legumes, then grains, then legumes, you're not consistently applying the same amount of nitrogen and phosphorus to the same land. So, you're not using synthetic fertilizers as much because you're not consistently applying them.\n",
      "\n",
      "Wait, but how does this work exactly? Let me think about it step by step. If you have a field with legumes, you apply synthetic fertilizers to maintain nitrogen and phosphorus. Then, you switch to grains, and you don't apply the same fertilizers again. So, you're not using synthetic fertilizers for the grains. Then, you switch back to legumes, but\n"
     ]
    }
   ]
  },
  {
   "cell_type": "code",
   "source": [
    "_response[\"question\"] = question\n",
    "responses.append(_response)"
   ],
   "metadata": {
    "id": "KFsTEfsVJ8i6"
   },
   "execution_count": 55,
   "outputs": []
  },
  {
   "cell_type": "markdown",
   "source": [
    "**Ground Truth:**\n",
    "Legumes fix N, different crops restore nutrients, prevent erosion, support microbes. Reduces fertilizer need.\n",
    "\n",
    "| Model     | Score | Notes                                                                                       |\n",
    "| --------- | :---: | ------------------------------------------------------------------------------------------- |\n",
    "| **Base**  |   1   | Covers many correct ideas (roots, microbes, erosion), but includes minor misunderstandings. |\n",
    "| **Tuned** |   1   | Bit more vague; misses key mechanisms like nitrogen fixation. Poor explanation.   "
   ],
   "metadata": {
    "id": "Fo4RUQKEAAnC"
   }
  },
  {
   "cell_type": "markdown",
   "source": [
    "## 9. Saving Results for Analysis\n",
    "\n",
    "All responses are saved to a JSON file for further analysis and comparison.\n",
    "This allows for systematic evaluation of the fine-tuning effectiveness.\n",
    "\n",
    "### Key Evaluation Metrics to Consider:\n",
    "1. **Reasoning Quality**: Does the model show clearer step-by-step thinking?\n",
    "2. **Biological Accuracy**: Are the scientific facts and concepts correct?\n",
    "3. **Depth of Explanation**: Does the fine-tuned model provide more detailed explanations?\n",
    "4. **Consistency**: Are responses more consistent in format and quality?\n",
    "\n",
    "Overall we can see that in some cases the tuned model is much better.\n",
    "\n",
    "The purpose of this was to conduct a simple experiment and learn how to fine-tune models, rather than the model itself. For better results try larger base models, longer finetuning and look into data sources."
   ],
   "metadata": {
    "id": "kvO56K5Af-xJ"
   }
  },
  {
   "cell_type": "code",
   "source": [
    "!zip -r /content/bio-tuned-deepseek-r1.zip /content/bio-tuned-deepseek-r1"
   ],
   "metadata": {
    "id": "Vfrw2rfU1ihc",
    "colab": {
     "base_uri": "https://localhost:8080/"
    },
    "outputId": "f21afeac-94d6-4f9b-c845-7420163feee3"
   },
   "execution_count": 60,
   "outputs": [
    {
     "output_type": "stream",
     "name": "stdout",
     "text": [
      "  adding: content/bio-tuned-deepseek-r1/ (stored 0%)\n",
      "  adding: content/bio-tuned-deepseek-r1/chat_template.jinja (deflated 75%)\n",
      "  adding: content/bio-tuned-deepseek-r1/adapter_model.safetensors (deflated 8%)\n",
      "  adding: content/bio-tuned-deepseek-r1/README.md (deflated 65%)\n",
      "  adding: content/bio-tuned-deepseek-r1/special_tokens_map.json (deflated 70%)\n",
      "  adding: content/bio-tuned-deepseek-r1/adapter_config.json (deflated 57%)\n",
      "  adding: content/bio-tuned-deepseek-r1/tokenizer.json (deflated 81%)\n",
      "  adding: content/bio-tuned-deepseek-r1/tokenizer_config.json (deflated 88%)\n"
     ]
    }
   ]
  },
  {
   "cell_type": "code",
   "source": [
    "from google.colab import files\n",
    "files.download(\"/content/bio-tuned-deepseek-r1.zip\")\n",
    "files.download(\"/content/responses.json\")"
   ],
   "metadata": {
    "colab": {
     "base_uri": "https://localhost:8080/",
     "height": 17
    },
    "id": "CEVTrslki1IN",
    "outputId": "c2668038-1cd3-4113-a4ef-68df5490a055"
   },
   "execution_count": 61,
   "outputs": [
    {
     "output_type": "display_data",
     "data": {
      "text/plain": [
       "<IPython.core.display.Javascript object>"
      ],
      "application/javascript": [
       "\n",
       "    async function download(id, filename, size) {\n",
       "      if (!google.colab.kernel.accessAllowed) {\n",
       "        return;\n",
       "      }\n",
       "      const div = document.createElement('div');\n",
       "      const label = document.createElement('label');\n",
       "      label.textContent = `Downloading \"${filename}\": `;\n",
       "      div.appendChild(label);\n",
       "      const progress = document.createElement('progress');\n",
       "      progress.max = size;\n",
       "      div.appendChild(progress);\n",
       "      document.body.appendChild(div);\n",
       "\n",
       "      const buffers = [];\n",
       "      let downloaded = 0;\n",
       "\n",
       "      const channel = await google.colab.kernel.comms.open(id);\n",
       "      // Send a message to notify the kernel that we're ready.\n",
       "      channel.send({})\n",
       "\n",
       "      for await (const message of channel.messages) {\n",
       "        // Send a message to notify the kernel that we're ready.\n",
       "        channel.send({})\n",
       "        if (message.buffers) {\n",
       "          for (const buffer of message.buffers) {\n",
       "            buffers.push(buffer);\n",
       "            downloaded += buffer.byteLength;\n",
       "            progress.value = downloaded;\n",
       "          }\n",
       "        }\n",
       "      }\n",
       "      const blob = new Blob(buffers, {type: 'application/binary'});\n",
       "      const a = document.createElement('a');\n",
       "      a.href = window.URL.createObjectURL(blob);\n",
       "      a.download = filename;\n",
       "      div.appendChild(a);\n",
       "      a.click();\n",
       "      div.remove();\n",
       "    }\n",
       "  "
      ]
     },
     "metadata": {}
    },
    {
     "output_type": "display_data",
     "data": {
      "text/plain": [
       "<IPython.core.display.Javascript object>"
      ],
      "application/javascript": [
       "download(\"download_f97df7fe-94be-43b7-9337-0f7b51b7f7d4\", \"bio-tuned-deepseek-r1.zip\", 70495618)"
      ]
     },
     "metadata": {}
    },
    {
     "output_type": "display_data",
     "data": {
      "text/plain": [
       "<IPython.core.display.Javascript object>"
      ],
      "application/javascript": [
       "\n",
       "    async function download(id, filename, size) {\n",
       "      if (!google.colab.kernel.accessAllowed) {\n",
       "        return;\n",
       "      }\n",
       "      const div = document.createElement('div');\n",
       "      const label = document.createElement('label');\n",
       "      label.textContent = `Downloading \"${filename}\": `;\n",
       "      div.appendChild(label);\n",
       "      const progress = document.createElement('progress');\n",
       "      progress.max = size;\n",
       "      div.appendChild(progress);\n",
       "      document.body.appendChild(div);\n",
       "\n",
       "      const buffers = [];\n",
       "      let downloaded = 0;\n",
       "\n",
       "      const channel = await google.colab.kernel.comms.open(id);\n",
       "      // Send a message to notify the kernel that we're ready.\n",
       "      channel.send({})\n",
       "\n",
       "      for await (const message of channel.messages) {\n",
       "        // Send a message to notify the kernel that we're ready.\n",
       "        channel.send({})\n",
       "        if (message.buffers) {\n",
       "          for (const buffer of message.buffers) {\n",
       "            buffers.push(buffer);\n",
       "            downloaded += buffer.byteLength;\n",
       "            progress.value = downloaded;\n",
       "          }\n",
       "        }\n",
       "      }\n",
       "      const blob = new Blob(buffers, {type: 'application/binary'});\n",
       "      const a = document.createElement('a');\n",
       "      a.href = window.URL.createObjectURL(blob);\n",
       "      a.download = filename;\n",
       "      div.appendChild(a);\n",
       "      a.click();\n",
       "      div.remove();\n",
       "    }\n",
       "  "
      ]
     },
     "metadata": {}
    },
    {
     "output_type": "display_data",
     "data": {
      "text/plain": [
       "<IPython.core.display.Javascript object>"
      ],
      "application/javascript": [
       "download(\"download_673e6c27-0afb-44a3-9b4f-2f04763b858d\", \"responses.json\", 119908)"
      ]
     },
     "metadata": {}
    }
   ]
  },
  {
   "cell_type": "markdown",
   "source": [
    "### Bonus Test Case: Stem Cell Biology and Regenerative Medicine\n",
    "Testing knowledge of current therapeutic applications."
   ],
   "metadata": {
    "id": "QAAjmc6NfvFS"
   }
  },
  {
   "cell_type": "code",
   "source": [
    "_response = {}\n",
    "question = \"What specific roles do different types of stem cells play in cellular aging, and what are some concrete examples of stem cell-based therapies being explored to treat conditions like osteoarthritis or macular degeneration?\""
   ],
   "metadata": {
    "id": "lQUAyFF-J7bo"
   },
   "execution_count": null,
   "outputs": []
  },
  {
   "cell_type": "code",
   "source": [
    "output = generate_text(question, model)\n",
    "_response[\"base_reasoning\"] = output\n",
    "print(output[0].split(\"### Response:\")[1])"
   ],
   "metadata": {
    "id": "0emWpHjgJ7bp",
    "colab": {
     "base_uri": "https://localhost:8080/"
    },
    "outputId": "f198e567-f239-468a-dd32-020108233602"
   },
   "execution_count": null,
   "outputs": [
    {
     "output_type": "stream",
     "name": "stdout",
     "text": [
      "\n",
      "<think><think>\n",
      "Okay, so I need to figure out what different types of stem cells play in cellular aging and how stem cell therapies are used to treat conditions like osteoarthritis and macular degeneration. Let me start by recalling what I know about stem cells and cellular aging.\n",
      "\n",
      "Stem cells are the building blocks of the body, right? They can differentiate into various cell types. Cellular aging is when cells age, usually through damage like oxidative stress or nutrient depletion. Different stem cell types might have different vulnerabilities to this aging process.\n",
      "\n",
      "First, let's think about the main types of stem cells. There are fibroblasts, mesenchymal stem cells (MSCs), natural stem cells (NSCs), and embryonic stem cells (ESCs). Each has its own role in cellular aging.\n",
      "\n",
      "Fibroblasts are part of the fibroblast family. They are involved in cell proliferation and differentiation. If they age, they might not be able to perform their functions as well. Fibroblasts can be used in stem cell therapies, like in bone marrow stem cell transplantation, but they might not be the best candidates for therapies because they can be replaced by other cells.\n",
      "\n",
      "MSCs are another group. They are known for their ability to differentiate into various cell types, including osteoblasts, which are involved in bone formation. If an MSC ages, it might not be able to perform its functions. There are different types of MSCs, like embryonic stem cells, induced MSCs, and fibroblasts. These can be used in therapies, but they might not be the best candidates either.\n",
      "\n",
      "NSCs are involved in tissue repair and regeneration. They can differentiate into various cell types, including fibroblasts and osteoblasts. If an NSC ages, it might not be able to perform its functions. These can also be used in stem cell therapies, but again, they might not be the best candidates.\n",
      "\n",
      "ESCs are derived from the early embryo and are highly pluripotent. They can differentiate into any cell type, including fibroblasts, osteoblasts, and others. They are often used in stem cell therapies because they can be more effective in treating conditions like osteoarthritis.\n",
      "\n",
      "Now, how do stem cell therapies work? They involve replacing damaged or aging stem cells with healthy ones. For example, in bone marrow stem cell transplantation, young healthy stem cells replace the old ones in the bone marrow.\n",
      "\n",
      "For conditions like osteoarthritis, treatments might involve therapies that target the cells involved in cartilage repair. One example is the use of embryonic stem cells (ESCs) in stem cell therapy. These cells can differentiate into osteoblasts, which are involved in cartilage formation. Another example is using fibroblasts, which can differentiate into osteoplasts, another type of osteoblast.\n",
      "\n",
      "For macular degeneration, which is caused by damage to the optic nerve, therapies might involve using stem cells that can differentiate into photoreceptor cells. These could be induced from ESCs or other stem cell types. Additionally, there are therapies that target the underlying causes of macular degeneration, like inflammation or oxidative stress, using stem cells to replace damaged ones.\n",
      "\n",
      "I should also consider the specific examples. For osteoarthritis, treatments might include using embryonic stem cells to replace damaged bone marrow, or using fibroblasts to support cartilage repair. For macular degeneration, treatments might involve using induced pluripotent stem cells (iPSCs) to replace damaged photoreceptor cells, or using stem cells to address the underlying inflammation.\n",
      "\n",
      "I should also think about the limitations. For example, using ESCs in conditions like osteoarthritis might not be as effective as using other stem cell types, like fibroblasts or induced MSCs. Also, there might be ethical considerations, like the use of stem cells that have been transplanted or used in other procedures.\n",
      "\n",
      "In summary, different stem cell types have different roles in cellular aging, and stem cell therapies are used to replace damaged or aging cells with healthy ones. For conditions like osteoarthritis and macular degeneration, specific stem cell types are targeted, and therapies are designed to support the necessary cell types involved in the condition.\n",
      "</think>\n",
      "\n",
      "**Answer:**\n",
      "\n",
      "Stem cells play distinct roles in cellular aging, each with unique vulnerabilities:\n",
      "\n",
      "1. **Fibroblasts**: Involved in cell proliferation and differentiation. They are used in therapies like bone marrow stem cell transplantation but may not be ideal candidates.\n",
      "\n",
      "2. **Mature and embryonic Stem Cells (MSCs)**: Differentiate into various cell types, including osteoblasts. These can be used in therapies, though they may not be the best candidates.\n",
      "\n",
      "3. **Natural Stem Cells (NSCs)**: Involved in tissue repair. They can differentiate into fibroblasts and other cells, used in therapies like stem cell transplants.\n",
      "\n",
      "4. **Embryonic Stem Cells (ESCs)**: Highly pluripotent, can differentiate into any cell type, making them effective in treating conditions like osteoarthritis.\n",
      "\n",
      "**Stem Cell Therapies for Conditions:**\n",
      "\n",
      "- **Osteoarthritis**: Treaters may use embryonic stem cells (ESCs) or fibroblasts to support cartilage repair. For example, fibroblasts differentiate into osteoplasts, and ESCs differentiate into osteoblasts.\n",
      "\n",
      "- **Macular Degeneration**: Therapies may involve using induced pluripotent stem cells (iPSCs) to replace damaged photoreceptor cells. Additionally, stem cells addressing underlying inflammation or oxidative stress are used.\n",
      "\n",
      "**Considerations:**\n",
      "\n",
      "- **Ethical and Practical Considerations**: Stem cell use may involve transplants or other procedures, affecting patient outcomes.\n",
      "- **Limitations**: Using ESCs in conditions like osteoarthritis may not be as effective as other stem cell types.\n",
      "\n",
      "In summary, stem cell therapies target specific cell types to support condition-specific repair, each with unique strategies and considerations.<\uff5cend\u2581of\u2581sentence\uff5c>\n"
     ]
    }
   ]
  },
  {
   "cell_type": "code",
   "source": [
    "output = generate_text(question, bio_model)\n",
    "_response[\"tuned_reasoning\"] = output\n",
    "print(output[0].split(\"### Response:\")[1])"
   ],
   "metadata": {
    "id": "tmnl7qHjJ7bp",
    "colab": {
     "base_uri": "https://localhost:8080/"
    },
    "outputId": "f9b4bdea-085d-4d21-f558-9d3b9b847876"
   },
   "execution_count": null,
   "outputs": [
    {
     "output_type": "stream",
     "name": "stdout",
     "text": [
      "\n",
      "<think><think>\n",
      "Okay, so I need to figure out what different types of stem cells do in cellular aging and then think about specific therapies using them to treat conditions like osteoarthritis or macular degeneration. Let me start by recalling what I know about stem cells and cellular aging.\n",
      "\n",
      "Stem cells are the building blocks of the body, right? They can differentiate into various cell types. But cellular aging is a process where cells age, and stem cells play a role in this. I remember hearing that there are different types of stem cells, like embryonic stem cells, induced stem cells, and adult stem cells. Each type might have different roles in aging.\n",
      "\n",
      "So, embryonic stem cells are the most primitive. They can differentiate into various cell types, including muscle, skin, and even blood cells. But they might not be as robust in older age. Maybe they have issues with differentiation or can't handle stress better. I think they might be involved in conditions like osteoarthritis because they can't differentiate properly, leading to joint issues.\n",
      "\n",
      "Then there are induced stem cells, like induced pluripotent stem cells (iPSCs). These are derived from somatic cells, which are the cells that make up the body. iPSCs can be induced to differentiate into specific cell types, like muscle or skin. But iPSCs might not be as robust as embryonic stem cells. They might have issues with differentiation or stress tolerance. So, conditions like macular degeneration, which involves the optic nerve, might be affected by iPSCs because they can't differentiate properly.\n",
      "\n",
      "Adult stem cells are the most mature. They can differentiate into various cell types, including muscle, skin, and even blood cells. They are more robust and have better stress tolerance. So, they might be involved in conditions like osteoarthritis because they can handle stress better and differentiate properly.\n",
      "\n",
      "Now, for specific therapies. Let me think about osteoarthritis. There are treatments like stem cell therapy where iPSCs are used to regenerate cartilage. iPSCs can differentiate into cartilage cells, which can then grow back. This is used in conditions like osteoarthritis because iPSCs can differentiate into cartilage cells, which can help restore joint structure.\n",
      "\n",
      "Another example is using embryonic stem cells for conditions like osteoarthritis. They can differentiate into cartilage cells, which can help regenerate cartilage. Similarly, iPSCs can be used for conditions like macular degeneration by differentiating into retinal cells.\n",
      "\n",
      "For conditions like osteoarthritis, there are also treatments that involve stem cells that can differentiate into osteoblasts. Osteoblasts are the cells that form bones. So, using stem cells that can differentiate into osteoblasts could help regenerate bones. Similarly, for macular degeneration, there are treatments that use stem cells that can differentiate into retinal cells, which are involved in the optic nerve.\n",
      "\n",
      "Another area is neurodegenerative diseases. There are treatments that use stem cells to regenerate neurons. For example, embryonic stem cells can be used to regenerate neurons in the brain, which can help treat conditions like Alzheimer's disease. Similarly, iPSCs can be used to regenerate neurons in the nervous system.\n",
      "\n",
      "I also remember that there are therapies that use stem cells that can differentiate into specific cell types. For example, in osteoarthritis, iPSCs can differentiate into cartilage cells, which can help regenerate cartilage. In macular degeneration, iPSCs can differentiate into retinal cells, which can help regenerate the optic nerve.\n",
      "\n",
      "So, putting it all together, each type of stem cell has different roles in cellular aging. Embryonic stem cells are the most primitive and might have issues in older age, while iPSCs are more robust but might not differentiate properly. Adult stem cells are the most mature and have better stress tolerance. Stem cell-based therapies can target specific cell types that differentiate into damaged tissues, helping to regenerate them.\n",
      "\n",
      "I think I've covered the main points. Now, I should structure this into a clear, step-by-step explanation.\n",
      "</think>\n",
      "\n",
      "**Answer:**\n",
      "\n",
      "**Understanding Stem Cell Roles in Cellular Aging**\n",
      "\n",
      "Stem cells are fundamental building blocks of the body, capable of differentiating into various cell types. Cellular aging involves the gradual decline of stem cells, and each type plays a unique role:\n",
      "\n",
      "1. **Embryonic Stem Cells (ESCs):**\n",
      "   - **Role:** Primitive and most robust, ESCs can differentiate into muscle, skin, and blood cells.\n",
      "   - **Role in Aging:** May have issues with differentiation and stress tolerance, potentially affecting conditions like osteoarthritis.\n",
      "\n",
      "2. **Induced Pluripotent Stem Cells (iPSCs):**\n",
      "   - **Role:** Derived from somatic cells, iPSCs can differentiate into specific cell types.\n",
      "   - **Role in Aging:** Less robust than ESCs and may not differentiate properly, affecting conditions like macular degeneration.\n",
      "\n",
      "3. **Adult Stem Cells (ASCs):**\n",
      "   - **Role:** Most mature, capable of differentiating into various cell types with better stress tolerance.\n",
      "   - **Role in Aging:** Have better robustness and stress tolerance, potentially aiding conditions like osteoarthritis.\n",
      "\n",
      "**Stem Cell-Based Therapies for Conditions:**\n",
      "\n",
      "1. **Osteoarthritis:**\n",
      "   - **Therapies:** Use iPSCs to regenerate cartilage. iPSCs differentiate into cartilage cells, aiding joint structure restoration.\n",
      "\n",
      "2. **Macular Degeneration:**\n",
      "   - **Therapies:** Use iPSCs to differentiate into retinal cells, aiding optic nerve regeneration.\n",
      "\n",
      "3. **Neurodegenerative Diseases:**\n",
      "   - **Therapies:** Use stem cells that differentiate into specific cell types (e.g., osteoblasts for osteoarthritis, retinal cells for macular degeneration).\n",
      "\n",
      "4. **Regeneration of Neurons:**\n",
      "   - **Therapies:** Use ESCs or iPSCs to regenerate neurons, aiding conditions like Alzheimer's.\n",
      "\n",
      "**Conclusion:**\n",
      "\n",
      "Each stem cell type has distinct roles in cellular aging, from primitive ESCs to mature ASCs. Stem cell-based therapies target specific cell types, aiding in conditions like osteoarthritis and macular degeneration by regenerating damaged tissues.<\uff5cend\u2581of\u2581sentence\uff5c>\n"
     ]
    }
   ]
  },
  {
   "cell_type": "code",
   "source": [
    "_response[\"question\"] = question\n",
    "responses.append(_response)"
   ],
   "metadata": {
    "id": "bSCFanb6J7bq"
   },
   "execution_count": null,
   "outputs": []
  },
  {
   "cell_type": "code",
   "source": [
    "import json\n",
    "with open('responses.json', 'w') as f:\n",
    "    json.dump(responses, f)"
   ],
   "metadata": {
    "id": "DkObM2jfGFa1"
   },
   "execution_count": 56,
   "outputs": []
  }
 ],
 "metadata": {
  "accelerator": "GPU",
  "colab": {
   "gpuType": "T4",
   "provenance": []
  },
  "kernelspec": {
   "display_name": "Python 3",
   "name": "python3"
  },
  "language_info": {
   "name": "python"
  }
 },
 "nbformat": 4,
 "nbformat_minor": 0
}
